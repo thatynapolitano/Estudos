{
 "cells": [
  {
   "cell_type": "markdown",
   "metadata": {},
   "source": [
    "# The SQL WHERE Clause\n",
    "The WHERE clause is used to filter records.\n",
    "\n",
    "It is used to extract only those records that fulfill a specified condition.\n",
    "\n",
    "# Sintax\n",
    "\n",
    "SELECT column1, column2, ... <br>\n",
    "FROM table_name <br>\n",
    "WHERE condition; "
   ]
  },
  {
   "cell_type": "code",
   "execution_count": 12,
   "metadata": {},
   "outputs": [
    {
     "name": "stderr",
     "output_type": "stream",
     "text": [
      "C:\\Users\\thaty\\AppData\\Local\\Temp\\ipykernel_28564\\1016333659.py:6: DtypeWarning: Columns (23) have mixed types. Specify dtype option on import or set low_memory=False.\n",
      "  dados = pd.read_csv(r'C:\\Users\\thaty\\Desktop\\Estudos\\SQL\\Database\\Amazon Sale Report.csv')\n"
     ]
    },
    {
     "data": {
      "text/plain": [
       "128975"
      ]
     },
     "execution_count": 12,
     "metadata": {},
     "output_type": "execute_result"
    }
   ],
   "source": [
    "import pandas as pd\n",
    "import sqlite3\n",
    "from tabulate import tabulate\n",
    "\n",
    "conexao = sqlite3.connect(\":memory:\")\n",
    "dados = pd.read_csv(r'C:\\Users\\thaty\\Desktop\\Estudos\\SQL\\Database\\Amazon Sale Report.csv')\n",
    "dados.to_sql(\"amazon_sales\", conexao, index=False, if_exists=\"replace\")"
   ]
  },
  {
   "cell_type": "code",
   "execution_count": 14,
   "metadata": {},
   "outputs": [
    {
     "name": "stdout",
     "output_type": "stream",
     "text": [
      "   index             Order ID      Date     Status Fulfilment Sales Channel   \\\n",
      "0      0  405-8078784-5731545  04-30-22  Cancelled   Merchant      Amazon.in   \n",
      "1      3  403-9615377-8133951  04-30-22  Cancelled   Merchant      Amazon.in   \n",
      "2      8  407-5443024-5233168  04-30-22  Cancelled     Amazon      Amazon.in   \n",
      "3     23  404-6019946-2909948  04-30-22  Cancelled   Merchant      Amazon.in   \n",
      "4     29  404-5933402-8801952  04-30-22  Cancelled   Merchant      Amazon.in   \n",
      "\n",
      "  ship-service-level    Style                  SKU       Category  ...  \\\n",
      "0           Standard   SET389       SET389-KR-NP-S            Set  ...   \n",
      "1           Standard    J0341           J0341-DR-L  Western Dress  ...   \n",
      "2          Expedited   SET200  SET200-KR-NP-A-XXXL            Set  ...   \n",
      "3           Standard   SET291       SET291-KR-PP-M            Set  ...   \n",
      "4           Standard  JNE2132  JNE2132-KR-398-XXXL          kurta  ...   \n",
      "\n",
      "  currency  Amount   ship-city   ship-state ship-postal-code  ship-country  \\\n",
      "0      INR  647.62      MUMBAI  MAHARASHTRA         400081.0            IN   \n",
      "1      INR  753.33  PUDUCHERRY   PUDUCHERRY         605008.0            IN   \n",
      "2     None     NaN   HYDERABAD    TELANGANA         500008.0            IN   \n",
      "3      INR  570.48        pune  MAHARASHTRA         411044.0            IN   \n",
      "4     None     NaN    GUWAHATI        ASSAM         781003.0            IN   \n",
      "\n",
      "                                  promotion-ids B2B  fulfilled-by Unnamed: 22  \n",
      "0                                          None   0     Easy Ship         NaN  \n",
      "1                                          None   0     Easy Ship         NaN  \n",
      "2  IN Core Free Shipping 2015/04/08 23-48-5-108   0          None         NaN  \n",
      "3                                          None   0     Easy Ship         NaN  \n",
      "4                                          None   0     Easy Ship         NaN  \n",
      "\n",
      "[5 rows x 24 columns]\n"
     ]
    }
   ],
   "source": [
    "query = \"SELECT * FROM amazon_sales WHERE Status = 'Cancelled';\"\n",
    "\n",
    "resultado = pd.read_sql_query(query, conexao)\n",
    "\n",
    "# print(tabulate(resultado.head(5), headers='keys', tablefmt='grid'))\n",
    "\n",
    "print(resultado.head(5))"
   ]
  }
 ],
 "metadata": {
  "kernelspec": {
   "display_name": "Python 3",
   "language": "python",
   "name": "python3"
  },
  "language_info": {
   "codemirror_mode": {
    "name": "ipython",
    "version": 3
   },
   "file_extension": ".py",
   "mimetype": "text/x-python",
   "name": "python",
   "nbconvert_exporter": "python",
   "pygments_lexer": "ipython3",
   "version": "3.12.0"
  }
 },
 "nbformat": 4,
 "nbformat_minor": 2
}
