{
 "cells": [
  {
   "cell_type": "markdown",
   "metadata": {},
   "source": [
    "# The SQL WHERE Clause\n",
    "The WHERE clause is used to filter records.\n",
    "\n",
    "It is used to extract only those records that fulfill a specified condition.\n",
    "\n",
    "# Sintax\n",
    "\n",
    "SELECT column1, column2, ... <br>\n",
    "FROM table_name <br>\n",
    "WHERE condition; "
   ]
  },
  {
   "cell_type": "code",
   "execution_count": 12,
   "metadata": {},
   "outputs": [
    {
     "name": "stderr",
     "output_type": "stream",
     "text": [
      "C:\\Users\\thaty\\AppData\\Local\\Temp\\ipykernel_28564\\1016333659.py:6: DtypeWarning: Columns (23) have mixed types. Specify dtype option on import or set low_memory=False.\n",
      "  dados = pd.read_csv(r'C:\\Users\\thaty\\Desktop\\Estudos\\SQL\\Database\\Amazon Sale Report.csv')\n"
     ]
    },
    {
     "data": {
      "text/plain": [
       "128975"
      ]
     },
     "execution_count": 12,
     "metadata": {},
     "output_type": "execute_result"
    }
   ],
   "source": [
    "import pandas as pd\n",
    "import sqlite3\n",
    "from tabulate import tabulate\n",
    "\n",
    "conexao = sqlite3.connect(\":memory:\")\n",
    "dados = pd.read_csv(r'C:\\Users\\thaty\\Desktop\\Estudos\\SQL\\Database\\Amazon Sale Report.csv')\n",
    "dados.to_sql(\"amazon_sales\", conexao, index=False, if_exists=\"replace\")"
   ]
  },
  {
   "cell_type": "code",
   "execution_count": 13,
   "metadata": {},
   "outputs": [
    {
     "name": "stdout",
     "output_type": "stream",
     "text": [
      "+----+---------+---------------------+----------+-----------+--------------+------------------+----------------------+---------+---------------------+---------------+--------+------------+------------------+-------+------------+----------+-------------+--------------+--------------------+----------------+----------------------------------------------+-------+----------------+---------------+\n",
      "|    |   index | Order ID            | Date     | Status    | Fulfilment   | Sales Channel    | ship-service-level   | Style   | SKU                 | Category      | Size   | ASIN       | Courier Status   |   Qty | currency   |   Amount | ship-city   | ship-state   |   ship-postal-code | ship-country   | promotion-ids                                |   B2B | fulfilled-by   |   Unnamed: 22 |\n",
      "+====+=========+=====================+==========+===========+==============+==================+======================+=========+=====================+===============+========+============+==================+=======+============+==========+=============+==============+====================+================+==============================================+=======+================+===============+\n",
      "|  0 |       0 | 405-8078784-5731545 | 04-30-22 | Cancelled | Merchant     | Amazon.in        | Standard             | SET389  | SET389-KR-NP-S      | Set           | S      | B09KXVBD7Z |                  |     0 | INR        |   647.62 | MUMBAI      | MAHARASHTRA  |             400081 | IN             |                                              |     0 | Easy Ship      |           nan |\n",
      "+----+---------+---------------------+----------+-----------+--------------+------------------+----------------------+---------+---------------------+---------------+--------+------------+------------------+-------+------------+----------+-------------+--------------+--------------------+----------------+----------------------------------------------+-------+----------------+---------------+\n",
      "|  1 |       3 | 403-9615377-8133951 | 04-30-22 | Cancelled | Merchant     | Amazon.in        | Standard             | J0341   | J0341-DR-L          | Western Dress | L      | B099NRCT7B |                  |     0 | INR        |   753.33 | PUDUCHERRY  | PUDUCHERRY   |             605008 | IN             |                                              |     0 | Easy Ship      |           nan |\n",
      "+----+---------+---------------------+----------+-----------+--------------+------------------+----------------------+---------+---------------------+---------------+--------+------------+------------------+-------+------------+----------+-------------+--------------+--------------------+----------------+----------------------------------------------+-------+----------------+---------------+\n",
      "|  2 |       8 | 407-5443024-5233168 | 04-30-22 | Cancelled | Amazon       | Amazon.in        | Expedited            | SET200  | SET200-KR-NP-A-XXXL | Set           | 3XL    | B08L91ZZXN | Cancelled        |     0 |            |   nan    | HYDERABAD   | TELANGANA    |             500008 | IN             | IN Core Free Shipping 2015/04/08 23-48-5-108 |     0 |                |           nan |\n",
      "+----+---------+---------------------+----------+-----------+--------------+------------------+----------------------+---------+---------------------+---------------+--------+------------+------------------+-------+------------+----------+-------------+--------------+--------------------+----------------+----------------------------------------------+-------+----------------+---------------+\n",
      "|  3 |      23 | 404-6019946-2909948 | 04-30-22 | Cancelled | Merchant     | Amazon.in        | Standard             | SET291  | SET291-KR-PP-M      | Set           | M      | B099NK55YG |                  |     0 | INR        |   570.48 | pune        | MAHARASHTRA  |             411044 | IN             |                                              |     0 | Easy Ship      |           nan |\n",
      "+----+---------+---------------------+----------+-----------+--------------+------------------+----------------------+---------+---------------------+---------------+--------+------------+------------------+-------+------------+----------+-------------+--------------+--------------------+----------------+----------------------------------------------+-------+----------------+---------------+\n",
      "|  4 |      29 | 404-5933402-8801952 | 04-30-22 | Cancelled | Merchant     | Amazon.in        | Standard             | JNE2132 | JNE2132-KR-398-XXXL | kurta         | 3XL    | B07JG3CND8 |                  |     0 |            |   nan    | GUWAHATI    | ASSAM        |             781003 | IN             |                                              |     0 | Easy Ship      |           nan |\n",
      "+----+---------+---------------------+----------+-----------+--------------+------------------+----------------------+---------+---------------------+---------------+--------+------------+------------------+-------+------------+----------+-------------+--------------+--------------------+----------------+----------------------------------------------+-------+----------------+---------------+\n"
     ]
    }
   ],
   "source": [
    "query = \"SELECT * FROM amazon_sales WHERE Status = 'Cancelled';\"\n",
    "\n",
    "resultado = pd.read_sql_query(query, conexao)\n",
    "\n",
    "print(tabulate(resultado.head(5), headers='keys', tablefmt='grid'))"
   ]
  }
 ],
 "metadata": {
  "kernelspec": {
   "display_name": "Python 3",
   "language": "python",
   "name": "python3"
  },
  "language_info": {
   "codemirror_mode": {
    "name": "ipython",
    "version": 3
   },
   "file_extension": ".py",
   "mimetype": "text/x-python",
   "name": "python",
   "nbconvert_exporter": "python",
   "pygments_lexer": "ipython3",
   "version": "3.12.0"
  }
 },
 "nbformat": 4,
 "nbformat_minor": 2
}
