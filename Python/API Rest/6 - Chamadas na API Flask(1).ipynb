{
 "cells": [
  {
   "cell_type": "markdown",
   "metadata": {
    "application/vnd.databricks.v1+cell": {
     "cellMetadata": {},
     "inputWidgets": {},
     "nuid": "12ef7cb6-2064-4db7-8050-8e7fbce5ec5a",
     "showTitle": false,
     "title": ""
    }
   },
   "source": [
    "# Flask\n",
    "\n",
    "<img src=\"https://flask.palletsprojects.com/en/3.0.x/_images/flask-horizontal.png\" width=700>\n",
    "\n",
    "## Framework\n",
    "Um framework é um conjunto de funções e componentes pré-definidos que disponibilizam uma funcionalidade específica no desenvolvimento de software. Ele é projetado para facilitar o desenvolvimento de aplicativos, fornecendo um conjunto de funcionalidades pré-implementadas e abstrações que os desenvolvedores podem usar para construir suas próprias aplicações de forma mais rápida e eficiente.\n",
    "\n",
    "Exemplos:\n",
    "\n",
    "- Django, Flask e FastAPI para desenvolvimento web em Python\n",
    "- Spark framework para big data\n",
    "- TensorFlow e PyTorch para desenvolvimento de aprendizado de máquina e inteligência artificial.\n",
    "\n",
    "## Flask - \"Web development, one drop at a time”\n",
    "\n",
    "[Flask](https://flask.palletsprojects.com/en/3.0.x/) é um micro-framework para desenvolvimento web em Python. Ele foi projetado para ser simples, flexível e fácil de usar, permitindo aos desenvolvedores criar aplicativos web de forma rápida e eficiente. Algumas características do Flask incluem:\n",
    "\n",
    "    Flask é considerado um micro-framework porque oferece apenas o básico necessário para criar aplicativos web. Isso significa que ele não vem com todos os recursos incluídos, mas em vez disso permite que os desenvolvedores escolham as bibliotecas e ferramentas que desejam usar em seus projetos.\n",
    "\n",
    "Chamamos o Flask de micro-framework porque conseguimos ir adicionando recursos aos poucos (“one drop at a time”), o que nos permite começar pequeno e ir desenvolvendo conforme vão surgindo as necessidades.\n"
   ]
  },
  {
   "cell_type": "code",
   "execution_count": 1,
   "metadata": {
    "application/vnd.databricks.v1+cell": {
     "cellMetadata": {},
     "inputWidgets": {},
     "nuid": "57a6c0db-c077-470b-bf27-43c174f4b261",
     "showTitle": false,
     "title": ""
    }
   },
   "outputs": [
    {
     "name": "stdout",
     "output_type": "stream",
     "text": [
      "Requirement already satisfied: flask in c:\\users\\thaty\\appdata\\local\\programs\\python\\python312\\lib\\site-packages (3.0.2)\n",
      "Requirement already satisfied: Werkzeug>=3.0.0 in c:\\users\\thaty\\appdata\\local\\programs\\python\\python312\\lib\\site-packages (from flask) (3.0.1)\n",
      "Requirement already satisfied: Jinja2>=3.1.2 in c:\\users\\thaty\\appdata\\local\\programs\\python\\python312\\lib\\site-packages (from flask) (3.1.3)\n",
      "Requirement already satisfied: itsdangerous>=2.1.2 in c:\\users\\thaty\\appdata\\local\\programs\\python\\python312\\lib\\site-packages (from flask) (2.1.2)\n",
      "Requirement already satisfied: click>=8.1.3 in c:\\users\\thaty\\appdata\\local\\programs\\python\\python312\\lib\\site-packages (from flask) (8.1.7)\n",
      "Requirement already satisfied: blinker>=1.6.2 in c:\\users\\thaty\\appdata\\local\\programs\\python\\python312\\lib\\site-packages (from flask) (1.7.0)\n",
      "Requirement already satisfied: colorama in c:\\users\\thaty\\appdata\\roaming\\python\\python312\\site-packages (from click>=8.1.3->flask) (0.4.6)\n",
      "Requirement already satisfied: MarkupSafe>=2.0 in c:\\users\\thaty\\appdata\\local\\programs\\python\\python312\\lib\\site-packages (from Jinja2>=3.1.2->flask) (2.1.5)\n",
      "Note: you may need to restart the kernel to use updated packages.\n"
     ]
    }
   ],
   "source": [
    "pip install flask"
   ]
  },
  {
   "cell_type": "markdown",
   "metadata": {
    "application/vnd.databricks.v1+cell": {
     "cellMetadata": {},
     "inputWidgets": {},
     "nuid": "f9eaf47b-7dae-4a9b-b9d4-72af70d316b9",
     "showTitle": false,
     "title": ""
    }
   },
   "source": [
    "## GET: Obter os dados"
   ]
  },
  {
   "cell_type": "code",
   "execution_count": 6,
   "metadata": {
    "application/vnd.databricks.v1+cell": {
     "cellMetadata": {},
     "inputWidgets": {},
     "nuid": "1739b5c1-aeb1-4fc3-9df6-6c8a3f5fc48a",
     "showTitle": false,
     "title": ""
    }
   },
   "outputs": [
    {
     "data": {
      "text/plain": [
       "'\"essa \\\\u00e9 a homepage\"\\n'"
      ]
     },
     "execution_count": 6,
     "metadata": {},
     "output_type": "execute_result"
    }
   ],
   "source": [
    "import requests \n",
    "\n",
    "data = requests.get(\"http://127.0.0.1:5000\")\n",
    "data.text "
   ]
  },
  {
   "cell_type": "code",
   "execution_count": 7,
   "metadata": {},
   "outputs": [
    {
     "data": {
      "text/plain": [
       "'\"essa \\\\u00e9 a homepage\"\\n'"
      ]
     },
     "execution_count": 7,
     "metadata": {},
     "output_type": "execute_result"
    }
   ],
   "source": [
    "import requests \n",
    "\n",
    "data = requests.get(\"http://127.0.0.1:5000/homepage\")\n",
    "data.text "
   ]
  },
  {
   "cell_type": "code",
   "execution_count": 8,
   "metadata": {},
   "outputs": [
    {
     "data": {
      "text/plain": [
       "'essa é a homepage'"
      ]
     },
     "execution_count": 8,
     "metadata": {},
     "output_type": "execute_result"
    }
   ],
   "source": [
    "# convertendo nosso data para json\n",
    "data.json()"
   ]
  },
  {
   "cell_type": "code",
   "execution_count": 9,
   "metadata": {},
   "outputs": [
    {
     "data": {
      "text/plain": [
       "[{'comida_favorita': 'Nhoque', 'id': 1, 'idade': 34, 'nome': 'Renan'},\n",
       " {'comida_favorita': 'Xis', 'id': 2, 'idade': 29, 'nome': 'Erick'}]"
      ]
     },
     "execution_count": 9,
     "metadata": {},
     "output_type": "execute_result"
    }
   ],
   "source": [
    "import requests \n",
    "\n",
    "data = requests.get(\"http://127.0.0.1:5000/alunos\")\n",
    "data.json()"
   ]
  },
  {
   "cell_type": "code",
   "execution_count": 10,
   "metadata": {},
   "outputs": [
    {
     "name": "stdout",
     "output_type": "stream",
     "text": [
      "Encontrei o aluno do id 1: {'id': 1, 'nome': 'Renan', 'idade': 34, 'comida_favorita': 'Nhoque'}\n"
     ]
    }
   ],
   "source": [
    "dados_alunos = [\n",
    "    {\"id\": 1, \"nome\": \"Renan\", \"idade\": 34, \"comida_favorita\": \"Nhoque\"},\n",
    "    {\"id\": 2, \"nome\": \"Erick\", \"idade\": 29, \"comida_favorita\": \"Xis\"},\n",
    "]\n",
    "\n",
    "id_entrada = 1 \n",
    "\n",
    "for aluno in dados_alunos:\n",
    "    if aluno.get(\"id\") == id_entrada:\n",
    "        print(f\"Encontrei o aluno do id {id_entrada}: {aluno}\")"
   ]
  },
  {
   "cell_type": "code",
   "execution_count": 11,
   "metadata": {},
   "outputs": [
    {
     "data": {
      "text/plain": [
       "{'comida_favorita': 'Xis', 'id': 2, 'idade': 29, 'nome': 'Erick'}"
      ]
     },
     "execution_count": 11,
     "metadata": {},
     "output_type": "execute_result"
    }
   ],
   "source": [
    "import requests \n",
    "\n",
    "data = requests.get(\"http://127.0.0.1:5000/aluno/2\")\n",
    "data.json()"
   ]
  },
  {
   "cell_type": "markdown",
   "metadata": {
    "application/vnd.databricks.v1+cell": {
     "cellMetadata": {},
     "inputWidgets": {},
     "nuid": "55c9fde2-bcf3-4e96-981d-f7b0b7bbf198",
     "showTitle": false,
     "title": ""
    }
   },
   "source": [
    "## POST: Adiciona novos dados"
   ]
  },
  {
   "cell_type": "code",
   "execution_count": 13,
   "metadata": {
    "application/vnd.databricks.v1+cell": {
     "cellMetadata": {},
     "inputWidgets": {},
     "nuid": "e4d2c913-475a-4f87-b723-9e53ed47981e",
     "showTitle": false,
     "title": ""
    }
   },
   "outputs": [
    {
     "data": {
      "text/plain": [
       "[{'comida_favorita': 'Nhoque', 'id': 1, 'idade': 34, 'nome': 'Renan'},\n",
       " {'comida_favorita': 'Xis', 'id': 2, 'idade': 29, 'nome': 'Erick'},\n",
       " {'comida_favorita': 'Lasanha', 'id': 3, 'idade': 23, 'nome': 'Lucinda'}]"
      ]
     },
     "execution_count": 13,
     "metadata": {},
     "output_type": "execute_result"
    }
   ],
   "source": [
    "aluno_novo = {\"id\": 3, \"nome\": \"Lucinda\", \"idade\": 23, \"comida_favorita\": \"Lasanha\"} \n",
    "data = requests.post(\"http://127.0.0.1:5000/aluno\", json=aluno_novo) \n",
    "data.json()"
   ]
  },
  {
   "cell_type": "markdown",
   "metadata": {
    "application/vnd.databricks.v1+cell": {
     "cellMetadata": {},
     "inputWidgets": {},
     "nuid": "8734c866-ad4e-42c8-a635-5d184b3a6ebc",
     "showTitle": false,
     "title": ""
    }
   },
   "source": [
    "### Checa novos dados após o POST"
   ]
  },
  {
   "cell_type": "code",
   "execution_count": null,
   "metadata": {
    "application/vnd.databricks.v1+cell": {
     "cellMetadata": {},
     "inputWidgets": {},
     "nuid": "9e68b535-0e59-4b79-a245-9f8bc3e07d78",
     "showTitle": false,
     "title": ""
    }
   },
   "outputs": [],
   "source": []
  },
  {
   "cell_type": "markdown",
   "metadata": {
    "application/vnd.databricks.v1+cell": {
     "cellMetadata": {},
     "inputWidgets": {},
     "nuid": "8139e280-3ba7-4168-8840-daf3bd0c8a18",
     "showTitle": false,
     "title": ""
    }
   },
   "source": [
    "## PUT: editar dados"
   ]
  },
  {
   "cell_type": "code",
   "execution_count": null,
   "metadata": {
    "application/vnd.databricks.v1+cell": {
     "cellMetadata": {},
     "inputWidgets": {},
     "nuid": "f596b0b7-eb06-4a66-8105-4bfe61088142",
     "showTitle": false,
     "title": ""
    }
   },
   "outputs": [],
   "source": []
  },
  {
   "cell_type": "markdown",
   "metadata": {
    "application/vnd.databricks.v1+cell": {
     "cellMetadata": {},
     "inputWidgets": {},
     "nuid": "03b9868a-0b5a-4480-a4a1-b8e0b1509cbe",
     "showTitle": false,
     "title": ""
    }
   },
   "source": [
    "### Checar dados após o PUT"
   ]
  },
  {
   "cell_type": "code",
   "execution_count": null,
   "metadata": {
    "application/vnd.databricks.v1+cell": {
     "cellMetadata": {},
     "inputWidgets": {},
     "nuid": "984d6f02-84aa-4328-87e3-34910c41df96",
     "showTitle": false,
     "title": ""
    }
   },
   "outputs": [],
   "source": []
  },
  {
   "cell_type": "markdown",
   "metadata": {
    "application/vnd.databricks.v1+cell": {
     "cellMetadata": {},
     "inputWidgets": {},
     "nuid": "40f0fd21-4472-42ae-b24f-58a27ce26bf1",
     "showTitle": false,
     "title": ""
    }
   },
   "source": [
    "## Deleta id"
   ]
  },
  {
   "cell_type": "code",
   "execution_count": null,
   "metadata": {
    "application/vnd.databricks.v1+cell": {
     "cellMetadata": {},
     "inputWidgets": {},
     "nuid": "c42e71f6-6631-49bb-bb62-ace871e57f98",
     "showTitle": false,
     "title": ""
    }
   },
   "outputs": [],
   "source": []
  },
  {
   "cell_type": "markdown",
   "metadata": {
    "application/vnd.databricks.v1+cell": {
     "cellMetadata": {},
     "inputWidgets": {},
     "nuid": "ea634d9c-8bb4-4561-95e3-644a5ffd9da3",
     "showTitle": false,
     "title": ""
    }
   },
   "source": [
    "### Checa dados após o DELETE"
   ]
  },
  {
   "cell_type": "code",
   "execution_count": null,
   "metadata": {
    "application/vnd.databricks.v1+cell": {
     "cellMetadata": {},
     "inputWidgets": {},
     "nuid": "62017069-5ec9-4129-8393-f879611dcd36",
     "showTitle": false,
     "title": ""
    }
   },
   "outputs": [],
   "source": []
  },
  {
   "cell_type": "markdown",
   "metadata": {
    "application/vnd.databricks.v1+cell": {
     "cellMetadata": {},
     "inputWidgets": {},
     "nuid": "e3388d0f-c299-4357-8525-dbe5ec208dc6",
     "showTitle": false,
     "title": ""
    }
   },
   "source": [
    "## Ngrok\n",
    "\n",
    "O Ngrok é uma ferramenta que permite criar um túnel seguro para conectar um servidor local a um servidor remoto, tornando possível expor uma aplicação local para a Internet. Essa ferramenta é muito útil para desenvolvedores que precisam testar suas aplicações localmente antes de colocá-las em produção."
   ]
  },
  {
   "cell_type": "code",
   "execution_count": null,
   "metadata": {
    "application/vnd.databricks.v1+cell": {
     "cellMetadata": {},
     "inputWidgets": {},
     "nuid": "458ac664-aadb-466c-a056-fb1ff4caed8a",
     "showTitle": false,
     "title": ""
    }
   },
   "outputs": [],
   "source": [
    "pip install pyngrok"
   ]
  },
  {
   "cell_type": "markdown",
   "metadata": {
    "application/vnd.databricks.v1+cell": {
     "cellMetadata": {},
     "inputWidgets": {},
     "nuid": "d6bbff9e-4f21-4476-bf65-a3b4d8f08aac",
     "showTitle": false,
     "title": ""
    }
   },
   "source": [
    "- Acesse o site oficial do [ngrok](https://ngrok.com/) e faça seu cadastro;\n",
    "- Entrar no dashboard https://dashboard.ngrok.com/get-started/your-authtoken\n",
    "- Getting Started > Your AuthToken\n",
    "- Salvar ele no arquivo de configuração"
   ]
  },
  {
   "cell_type": "code",
   "execution_count": null,
   "metadata": {
    "application/vnd.databricks.v1+cell": {
     "cellMetadata": {},
     "inputWidgets": {},
     "nuid": "651ebab2-f79b-4ae9-bb6e-b3253f549026",
     "showTitle": false,
     "title": ""
    }
   },
   "outputs": [],
   "source": [
    "\n",
    "!ngrok config add-authtoken <seu-token>"
   ]
  },
  {
   "cell_type": "code",
   "execution_count": null,
   "metadata": {
    "application/vnd.databricks.v1+cell": {
     "cellMetadata": {},
     "inputWidgets": {},
     "nuid": "2333c9c1-ca4c-40bf-bb21-27d0e14aa243",
     "showTitle": false,
     "title": ""
    }
   },
   "outputs": [],
   "source": []
  },
  {
   "cell_type": "markdown",
   "metadata": {
    "application/vnd.databricks.v1+cell": {
     "cellMetadata": {},
     "inputWidgets": {},
     "nuid": "8e08984c-f4d2-4f14-9432-e8e3bcc00026",
     "showTitle": false,
     "title": ""
    }
   },
   "source": [
    "Real Time Viewer: http://localhost:4040/inspect/http"
   ]
  },
  {
   "cell_type": "markdown",
   "metadata": {
    "application/vnd.databricks.v1+cell": {
     "cellMetadata": {},
     "inputWidgets": {},
     "nuid": "3d1abaa9-ca41-461a-ab8b-f090eb361c27",
     "showTitle": false,
     "title": ""
    }
   },
   "source": [
    "## [Avaliação anônima](https://forms.gle/tShxhxNYhvi6ZmQm8)"
   ]
  },
  {
   "cell_type": "markdown",
   "metadata": {
    "application/vnd.databricks.v1+cell": {
     "cellMetadata": {},
     "inputWidgets": {},
     "nuid": "42125948-6136-4adc-b950-7cc822a36bdc",
     "showTitle": false,
     "title": ""
    }
   },
   "source": [
    "## Material de aprofundamento\n",
    "\n",
    "- [Como adicionar template html e banco de dados](https://www.homehost.com.br/blog/pythondjango/flask-python/)\n",
    "- [Vídeo como adicionar MySQL no Flask API](https://www.youtube.com/watch?v=qg3BNCa_NdQ)\n",
    "- [Adicinando outras extensões ao Flask API](https://www.youtube.com/watch?v=-qWySnuoaTM)\n",
    "- [Servidor gratuito para o seu site - Render](https://render.com/)"
   ]
  }
 ],
 "metadata": {
  "application/vnd.databricks.v1+notebook": {
   "dashboards": [],
   "language": "python",
   "notebookMetadata": {
    "pythonIndentUnit": 4
   },
   "notebookName": "6 - Chamadas na API Flask",
   "widgets": {}
  },
  "kernelspec": {
   "display_name": "Python 3",
   "language": "python",
   "name": "python3"
  },
  "language_info": {
   "codemirror_mode": {
    "name": "ipython",
    "version": 3
   },
   "file_extension": ".py",
   "mimetype": "text/x-python",
   "name": "python",
   "nbconvert_exporter": "python",
   "pygments_lexer": "ipython3",
   "version": "3.12.0"
  }
 },
 "nbformat": 4,
 "nbformat_minor": 0
}
