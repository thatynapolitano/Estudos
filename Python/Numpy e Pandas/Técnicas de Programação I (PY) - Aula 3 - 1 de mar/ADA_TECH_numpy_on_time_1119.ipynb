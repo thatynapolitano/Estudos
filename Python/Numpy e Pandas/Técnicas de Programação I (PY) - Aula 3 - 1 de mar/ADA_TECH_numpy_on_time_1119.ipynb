{
 "cells": [
  {
   "cell_type": "markdown",
   "metadata": {},
   "source": [
    "<img src='letscodebr_cover.jpeg' align='left' width=100%/>"
   ]
  },
  {
   "cell_type": "markdown",
   "metadata": {},
   "source": [
    "# Ada Tech [DS-PY-004] Técnicas de Programação I (PY) Aulas 2 e 3 : Numpy - On Time."
   ]
  },
  {
   "cell_type": "code",
   "execution_count": 4,
   "metadata": {},
   "outputs": [],
   "source": [
    "#!pip install seaborn"
   ]
  },
  {
   "cell_type": "markdown",
   "metadata": {},
   "source": [
    "## Numpy"
   ]
  },
  {
   "cell_type": "markdown",
   "metadata": {},
   "source": [
    "Explore:\n",
    "\n",
    "Criação de arranjos:\n",
    "\n",
    "- [numpy.array()]()\n",
    "- [numpy.empty()](https://docs.scipy.org/doc/numpy/reference/generated/numpy.empty.html)\n",
    "- [numpy.zeros()](https://docs.scipy.org/doc/numpy/reference/generated/numpy.zeros.html#numpy.zeros)\n",
    "- [numpy.dtype()]()\n",
    "- [numpy.ones()](https://docs.scipy.org/doc/numpy/reference/generated/numpy.ones.html)\n",
    "- [numpy.eye()](https://numpy.org/doc/stable/reference/generated/numpy.eye.html)\n",
    "- [numpy.random.rand()](https://numpy.org/doc/stable/reference/random/generated/numpy.random.rand.html)\n",
    "\n",
    "Atributos:\n",
    "\n",
    "- [.ndim](https://numpy.org/doc/stable/reference/generated/numpy.ndarray.ndim.html)\n",
    "- [.shape()](https://numpy.org/doc/stable/reference/generated/numpy.shape.html)\n",
    "- [.size](https://numpy.org/doc/stable/reference/generated/numpy.ndarray.size.html)\n",
    "- [.dtype()](https://numpy.org/doc/stable/reference/generated/numpy.dtype.html)\n",
    "\n",
    "Indexing:\n",
    "\n",
    "- [Indexing on ndarrays](https://numpy.org/doc/stable/user/basics.indexing.html)\n",
    "- [How to index ndarrays](https://numpy.org/doc/stable/user/how-to-index.html)\n",
    "\n",
    "Aggregation:\n",
    "\n",
    "- [numpy.sum()](https://numpy.org/doc/stable/reference/generated/numpy.sum.html)\n",
    "- [numpy.min()](https://numpy.org/doc/stable/reference/generated/numpy.min.html)\n",
    "- [numpy.max()](https://numpy.org/doc/stable/reference/generated/numpy.max.html)\n",
    "\n",
    "Manipulation:\n",
    "\n",
    "- [numpy.argsort()](https://numpy.org/doc/stable/reference/generated/numpy.argsort.html)\n",
    "- [numpy.clip()](https://numpy.org/doc/stable/reference/generated/numpy.clip.html)\n",
    "- [numpy.random.choice](https://docs.scipy.org/doc//numpy-1.10.4/reference/generated/numpy.random.choice.html)\n",
    "- [numpy.unique](https://numpy.org/doc/stable/reference/generated/numpy.unique.html)\n",
    "\n",
    "Plot:\n",
    "\n",
    "- [Histograms](https://matplotlib.org/stable/gallery/statistics/hist.html)\n",
    "- [matplotlib.pyplot.hist()](https://matplotlib.org/stable/api/_as_gen/matplotlib.pyplot.hist.html)\n",
    "- [matplotlib.pyplot.scatter()](https://matplotlib.org/stable/api/_as_gen/matplotlib.pyplot.scatter.html)"
   ]
  },
  {
   "cell_type": "markdown",
   "metadata": {},
   "source": [
    "### Criando arranjos"
   ]
  },
  {
   "cell_type": "code",
   "execution_count": 5,
   "metadata": {},
   "outputs": [],
   "source": [
    "import numpy as np\n",
    "%matplotlib inline\n",
    "import matplotlib.pyplot as plt\n",
    "import seaborn"
   ]
  },
  {
   "cell_type": "code",
   "execution_count": 3,
   "metadata": {},
   "outputs": [],
   "source": [
    "#!pip install numpy "
   ]
  },
  {
   "cell_type": "markdown",
   "metadata": {},
   "source": [
    "Vamos criar aranjos diversos:"
   ]
  },
  {
   "cell_type": "code",
   "execution_count": 86,
   "metadata": {},
   "outputs": [
    {
     "name": "stdout",
     "output_type": "stream",
     "text": [
      "Arranjo_1: [ 0  1  2  3  4  5  6  7  8  9 10 11 12 13 14]\n",
      "Arranjo_1: ['a' 'b' 'c' 'd' 'e' 'f' 'g' 'h' 'i' 'j']\n",
      "Arranjo_3: [[ 1.5  2.   3. ]\n",
      " [ 4.   5.   6. ]\n",
      " [ 5.   4.3  3. ]\n",
      " [15.  46.  32. ]]\n",
      "Arranjo_4: ['1' 'a' '1.3']\n",
      "Arranjo_5: [[[1]\n",
      "  [2]\n",
      "  [3]]\n",
      "\n",
      " [[4]\n",
      "  [5]\n",
      "  [6]]]\n"
     ]
    }
   ],
   "source": [
    "Arranjo_1 = np.arange(15)# np.array([0, 1, 2, 3, 4, 5, 6, 7, 8, 9])\n",
    "print('Arranjo_1:', Arranjo_1)\n",
    "\n",
    "Arranjo_2 = np.array(['a', 'b', 'c', 'd', 'e', 'f', 'g', 'h', 'i', 'j'])\n",
    "print('Arranjo_1:', Arranjo_2)\n",
    "\n",
    "Arranjo_3 = np.array([\n",
    "    (1.5, 2, 3), \n",
    "    (4, 5, 6),\n",
    "    (5, 4.3, 3),\n",
    "    (15, 46, 32),\n",
    "    ])\n",
    "\n",
    "print('Arranjo_3:', Arranjo_3)\n",
    "\n",
    "\n",
    "Arranjo_4 = np.array([1, 'a', 1.3])\n",
    "print('Arranjo_4:', Arranjo_4)\n",
    "\n",
    "\n",
    "Arranjo_5 = np.array([[[1], [2], [3]], [[4], [5], [6]]], np.int32)\n",
    "print('Arranjo_5:', Arranjo_5)"
   ]
  },
  {
   "cell_type": "code",
   "execution_count": 87,
   "metadata": {},
   "outputs": [
    {
     "data": {
      "text/plain": [
       "3"
      ]
     },
     "execution_count": 87,
     "metadata": {},
     "output_type": "execute_result"
    }
   ],
   "source": [
    "Arranjo_5.ndim"
   ]
  },
  {
   "cell_type": "markdown",
   "metadata": {},
   "source": [
    "Podemos ainda criar números complexos"
   ]
  },
  {
   "cell_type": "code",
   "execution_count": 9,
   "metadata": {},
   "outputs": [
    {
     "data": {
      "text/plain": [
       "array([[1.+3.j, 2.+0.j],\n",
       "       [1.+3.j, 2.+0.j]])"
      ]
     },
     "execution_count": 9,
     "metadata": {},
     "output_type": "execute_result"
    }
   ],
   "source": [
    "Arranjo_complexo = np.array([[1 + 3.j, 2], [1 + 3.j, 2]], dtype = complex)\n",
    "Arranjo_complexo"
   ]
  },
  {
   "cell_type": "markdown",
   "metadata": {},
   "source": [
    "Um arranjo de zeros com [np.zeros()](https://numpy.org/doc/stable/reference/generated/numpy.zeros.html):"
   ]
  },
  {
   "cell_type": "code",
   "execution_count": 10,
   "metadata": {},
   "outputs": [
    {
     "data": {
      "text/plain": [
       "array([[0., 0., 0., 0., 0.],\n",
       "       [0., 0., 0., 0., 0.],\n",
       "       [0., 0., 0., 0., 0.],\n",
       "       [0., 0., 0., 0., 0.],\n",
       "       [0., 0., 0., 0., 0.],\n",
       "       [0., 0., 0., 0., 0.],\n",
       "       [0., 0., 0., 0., 0.],\n",
       "       [0., 0., 0., 0., 0.],\n",
       "       [0., 0., 0., 0., 0.],\n",
       "       [0., 0., 0., 0., 0.]])"
      ]
     },
     "execution_count": 10,
     "metadata": {},
     "output_type": "execute_result"
    }
   ],
   "source": [
    "Arranjo_zero = np.zeros((10, 5))\n",
    "Arranjo_zero"
   ]
  },
  {
   "cell_type": "markdown",
   "metadata": {},
   "source": [
    "Um aranjo de unitário com [np.ones()](https://numpy.org/doc/stable/reference/generated/numpy.ones.html):"
   ]
  },
  {
   "cell_type": "code",
   "execution_count": null,
   "metadata": {},
   "outputs": [],
   "source": []
  },
  {
   "cell_type": "code",
   "execution_count": 51,
   "metadata": {},
   "outputs": [
    {
     "data": {
      "text/plain": [
       "array([[[1, 1, 1, 1, 1, 1],\n",
       "        [1, 1, 1, 1, 1, 1],\n",
       "        [1, 1, 1, 1, 1, 1],\n",
       "        [1, 1, 1, 1, 1, 1]],\n",
       "\n",
       "       [[1, 1, 1, 1, 1, 1],\n",
       "        [1, 1, 1, 1, 1, 1],\n",
       "        [1, 1, 1, 1, 1, 1],\n",
       "        [1, 1, 1, 1, 1, 1]],\n",
       "\n",
       "       [[1, 1, 1, 1, 1, 1],\n",
       "        [1, 1, 1, 1, 1, 1],\n",
       "        [1, 1, 1, 1, 1, 1],\n",
       "        [1, 1, 1, 1, 1, 1]]], dtype=int16)"
      ]
     },
     "execution_count": 51,
     "metadata": {},
     "output_type": "execute_result"
    }
   ],
   "source": [
    "Arranjo_uns = np.ones((3, 4, 6), dtype = np.int16)\n",
    "Arranjo_uns"
   ]
  },
  {
   "cell_type": "markdown",
   "metadata": {},
   "source": [
    "E um arranjo vazio com [np.empty()](https://numpy.org/doc/stable/reference/generated/numpy.empty.html):"
   ]
  },
  {
   "cell_type": "code",
   "execution_count": 17,
   "metadata": {},
   "outputs": [
    {
     "data": {
      "text/plain": [
       "array([[0, 0, 0],\n",
       "       [0, 0, 0]])"
      ]
     },
     "execution_count": 17,
     "metadata": {},
     "output_type": "execute_result"
    }
   ],
   "source": [
    "Arranjo_vazio = np.empty([2, 3], dtype = int)\n",
    "Arranjo_vazio"
   ]
  },
  {
   "cell_type": "markdown",
   "metadata": {},
   "source": [
    "O arranjo exponencial [np.exp()](https://numpy.org/doc/stable/reference/generated/numpy.exp.html):"
   ]
  },
  {
   "cell_type": "code",
   "execution_count": 19,
   "metadata": {},
   "outputs": [
    {
     "data": {
      "text/plain": [
       "array([1.00000000e+00, 2.71828183e+00, 7.38905610e+00, 2.00855369e+01,\n",
       "       5.45981500e+01, 1.48413159e+02, 4.03428793e+02, 1.09663316e+03,\n",
       "       2.98095799e+03, 8.10308393e+03, 2.20264658e+04, 5.98741417e+04,\n",
       "       1.62754791e+05, 4.42413392e+05, 1.20260428e+06])"
      ]
     },
     "execution_count": 19,
     "metadata": {},
     "output_type": "execute_result"
    }
   ],
   "source": [
    "Arranjo_exp = np.exp(Arranjo_1)\n",
    "Arranjo_exp"
   ]
  },
  {
   "cell_type": "markdown",
   "metadata": {},
   "source": [
    "Podemos ainda operar durante a criação de um arranjo:"
   ]
  },
  {
   "cell_type": "code",
   "execution_count": 21,
   "metadata": {},
   "outputs": [
    {
     "data": {
      "text/plain": [
       "array([  0,   1,   8,  27,  64, 125, 216, 343, 512, 729])"
      ]
     },
     "execution_count": 21,
     "metadata": {},
     "output_type": "execute_result"
    }
   ],
   "source": [
    "Arranjo_cubico = np.arange(10) ** 3\n",
    "Arranjo_cubico"
   ]
  },
  {
   "cell_type": "markdown",
   "metadata": {},
   "source": [
    "### Alterando a forma de um arranjo"
   ]
  },
  {
   "cell_type": "markdown",
   "metadata": {},
   "source": [
    "Podemos mudar a forma de nosso arranjo com [np.reshape()](https://numpy.org/doc/stable/reference/generated/numpy.reshape.html):"
   ]
  },
  {
   "cell_type": "code",
   "execution_count": 22,
   "metadata": {},
   "outputs": [
    {
     "data": {
      "text/plain": [
       "array([ 0,  1,  2,  3,  4,  5,  6,  7,  8,  9, 10, 11, 12, 13, 14])"
      ]
     },
     "execution_count": 22,
     "metadata": {},
     "output_type": "execute_result"
    }
   ],
   "source": [
    "Arranjo_1"
   ]
  },
  {
   "cell_type": "code",
   "execution_count": 47,
   "metadata": {},
   "outputs": [
    {
     "data": {
      "text/plain": [
       "array([[ 0,  1,  2,  3,  4],\n",
       "       [ 5,  6,  7,  8,  9],\n",
       "       [10, 11, 12, 13, 14]])"
      ]
     },
     "execution_count": 47,
     "metadata": {},
     "output_type": "execute_result"
    }
   ],
   "source": [
    "Arranjo_1_reshape = Arranjo_1.reshape(3, 5)\n",
    "Arranjo_1_reshape"
   ]
  },
  {
   "cell_type": "code",
   "execution_count": 26,
   "metadata": {},
   "outputs": [
    {
     "data": {
      "text/plain": [
       "array([[ 0,  1,  2],\n",
       "       [ 3,  4,  5],\n",
       "       [ 6,  7,  8],\n",
       "       [ 9, 10, 11],\n",
       "       [12, 13, 14]])"
      ]
     },
     "execution_count": 26,
     "metadata": {},
     "output_type": "execute_result"
    }
   ],
   "source": [
    "Arranjo_1_reshape_b = Arranjo_1.reshape(5, 3)\n",
    "Arranjo_1_reshape_b"
   ]
  },
  {
   "cell_type": "markdown",
   "metadata": {},
   "source": [
    "### Atributos"
   ]
  },
  {
   "cell_type": "markdown",
   "metadata": {},
   "source": [
    "Vamos checar alguns atributos de nosso arranjo.\n",
    "\n",
    "\n",
    "- [numpy.ndarray.itemsize()](https://numpy.org/doc/stable/reference/generated/numpy.ndarray.itemsize.html)\n",
    "- [numpy.ndarray.size()](https://numpy.org/doc/stable/reference/generated/numpy.ndarray.size.html)\n",
    "- [numpy.ndarray.ndim()](https://numpy.org/doc/stable/reference/generated/numpy.ndarray.ndim.html)\n",
    "- [numpy.ndarray.shape()](https://numpy.org/doc/stable/reference/generated/numpy.ndarray.shape.html)"
   ]
  },
  {
   "cell_type": "code",
   "execution_count": 39,
   "metadata": {},
   "outputs": [
    {
     "name": "stdout",
     "output_type": "stream",
     "text": [
      "Arranjo_2.itemsize: 4\n",
      "Arranjo_2.itemsize: 10\n",
      "Arranjo_2.ndim: 1\n",
      "Arranjo_3.shape: (4, 3)\n"
     ]
    }
   ],
   "source": [
    "print('Arranjo_2.itemsize:', Arranjo_2.itemsize)\n",
    "print('Arranjo_2.itemsize:', Arranjo_2.size)\n",
    "print('Arranjo_2.ndim:', Arranjo_2.ndim)\n",
    "print('Arranjo_3.shape:', Arranjo_3.shape)"
   ]
  },
  {
   "cell_type": "markdown",
   "metadata": {},
   "source": [
    "O número de eixos:"
   ]
  },
  {
   "cell_type": "code",
   "execution_count": 65,
   "metadata": {},
   "outputs": [
    {
     "data": {
      "text/plain": [
       "2"
      ]
     },
     "execution_count": 65,
     "metadata": {},
     "output_type": "execute_result"
    }
   ],
   "source": [
    "Arranjo_3.ndim"
   ]
  },
  {
   "cell_type": "code",
   "execution_count": 67,
   "metadata": {},
   "outputs": [
    {
     "data": {
      "text/plain": [
       "dtype('float64')"
      ]
     },
     "execution_count": 67,
     "metadata": {},
     "output_type": "execute_result"
    }
   ],
   "source": []
  },
  {
   "cell_type": "code",
   "execution_count": 68,
   "metadata": {},
   "outputs": [
    {
     "data": {
      "text/plain": [
       "array([[ 1.5,  2. ,  3. ],\n",
       "       [ 4. ,  5. ,  6. ],\n",
       "       [ 5. ,  4.3,  3. ],\n",
       "       [15. , 46. , 32. ]])"
      ]
     },
     "execution_count": 68,
     "metadata": {},
     "output_type": "execute_result"
    }
   ],
   "source": []
  },
  {
   "cell_type": "markdown",
   "metadata": {},
   "source": [
    "A forma:"
   ]
  },
  {
   "cell_type": "code",
   "execution_count": null,
   "metadata": {},
   "outputs": [],
   "source": [
    "15, 1"
   ]
  },
  {
   "cell_type": "markdown",
   "metadata": {},
   "source": [
    "O número total de elementos:"
   ]
  },
  {
   "cell_type": "code",
   "execution_count": null,
   "metadata": {},
   "outputs": [],
   "source": []
  },
  {
   "cell_type": "markdown",
   "metadata": {},
   "source": [
    "O nome dado à largura em bits [np.dtype.name()](https://numpy.org/doc/stable/reference/generated/numpy.dtype.name.html) ocupada pelo arranjo:"
   ]
  },
  {
   "cell_type": "code",
   "execution_count": 74,
   "metadata": {},
   "outputs": [
    {
     "data": {
      "text/plain": [
       "'float64'"
      ]
     },
     "execution_count": 74,
     "metadata": {},
     "output_type": "execute_result"
    }
   ],
   "source": [
    "Arranjo_3.dtype.name"
   ]
  },
  {
   "cell_type": "markdown",
   "metadata": {},
   "source": [
    "Comprimento [np.itemsize](https://docs.scipy.org/doc/numpy-1.17.0/reference/generated/numpy.ndarray.itemsize.html) de um arranjo, em bytes. "
   ]
  },
  {
   "cell_type": "code",
   "execution_count": null,
   "metadata": {},
   "outputs": [],
   "source": []
  },
  {
   "cell_type": "markdown",
   "metadata": {},
   "source": [
    "Podemos investigar o tipo do arranjo [Data type objects (dtype)](https://numpy.org/doc/stable/reference/arrays.dtypes.html)."
   ]
  },
  {
   "cell_type": "code",
   "execution_count": 88,
   "metadata": {},
   "outputs": [
    {
     "data": {
      "text/plain": [
       "dtype('float64')"
      ]
     },
     "execution_count": 88,
     "metadata": {},
     "output_type": "execute_result"
    }
   ],
   "source": [
    "Arranjo_3.dtype"
   ]
  },
  {
   "cell_type": "markdown",
   "metadata": {},
   "source": [
    "Podemos identificar o Objeto buffer [np.ndarray.data](https://numpy.org/doc/stable/reference/generated/numpy.ndarray.data.html), apontando para o início dos dados de um arranjo."
   ]
  },
  {
   "cell_type": "code",
   "execution_count": 89,
   "metadata": {},
   "outputs": [
    {
     "data": {
      "text/plain": [
       "<memory at 0x280242860>"
      ]
     },
     "execution_count": 89,
     "metadata": {},
     "output_type": "execute_result"
    }
   ],
   "source": [
    "Arranjo_3.data"
   ]
  },
  {
   "cell_type": "markdown",
   "metadata": {},
   "source": [
    "### Criando arranjos com Seqüências de números:"
   ]
  },
  {
   "cell_type": "markdown",
   "metadata": {},
   "source": [
    "A rotina [np.arange()](https://numpy.org/doc/stable/reference/generated/numpy.arange.html), retorna valores espaçados uniformemente dentro de um determinado intervalo."
   ]
  },
  {
   "cell_type": "code",
   "execution_count": 93,
   "metadata": {},
   "outputs": [
    {
     "data": {
      "text/plain": [
       "array([ 0,  5, 10, 15, 20, 25, 30, 35, 40, 45, 50, 55, 60, 65, 70, 75, 80,\n",
       "       85, 90, 95])"
      ]
     },
     "execution_count": 93,
     "metadata": {},
     "output_type": "execute_result"
    }
   ],
   "source": [
    "np.arange(start = 0,\n",
    "           stop = 100,\n",
    "           step = 5)"
   ]
  },
  {
   "cell_type": "markdown",
   "metadata": {},
   "source": [
    "A rotina [np.linspace](https://numpy.org/doc/stable/reference/generated/numpy.linspace.html), retorna números com espaçamento uniforme em um intervalo especificado."
   ]
  },
  {
   "cell_type": "code",
   "execution_count": 97,
   "metadata": {},
   "outputs": [
    {
     "data": {
      "text/plain": [
       "array([0.        , 0.02020202, 0.04040404, 0.06060606, 0.08080808,\n",
       "       0.1010101 , 0.12121212, 0.14141414, 0.16161616, 0.18181818,\n",
       "       0.2020202 , 0.22222222, 0.24242424, 0.26262626, 0.28282828,\n",
       "       0.3030303 , 0.32323232, 0.34343434, 0.36363636, 0.38383838,\n",
       "       0.4040404 , 0.42424242, 0.44444444, 0.46464646, 0.48484848,\n",
       "       0.50505051, 0.52525253, 0.54545455, 0.56565657, 0.58585859,\n",
       "       0.60606061, 0.62626263, 0.64646465, 0.66666667, 0.68686869,\n",
       "       0.70707071, 0.72727273, 0.74747475, 0.76767677, 0.78787879,\n",
       "       0.80808081, 0.82828283, 0.84848485, 0.86868687, 0.88888889,\n",
       "       0.90909091, 0.92929293, 0.94949495, 0.96969697, 0.98989899,\n",
       "       1.01010101, 1.03030303, 1.05050505, 1.07070707, 1.09090909,\n",
       "       1.11111111, 1.13131313, 1.15151515, 1.17171717, 1.19191919,\n",
       "       1.21212121, 1.23232323, 1.25252525, 1.27272727, 1.29292929,\n",
       "       1.31313131, 1.33333333, 1.35353535, 1.37373737, 1.39393939,\n",
       "       1.41414141, 1.43434343, 1.45454545, 1.47474747, 1.49494949,\n",
       "       1.51515152, 1.53535354, 1.55555556, 1.57575758, 1.5959596 ,\n",
       "       1.61616162, 1.63636364, 1.65656566, 1.67676768, 1.6969697 ,\n",
       "       1.71717172, 1.73737374, 1.75757576, 1.77777778, 1.7979798 ,\n",
       "       1.81818182, 1.83838384, 1.85858586, 1.87878788, 1.8989899 ,\n",
       "       1.91919192, 1.93939394, 1.95959596, 1.97979798, 2.        ])"
      ]
     },
     "execution_count": 97,
     "metadata": {},
     "output_type": "execute_result"
    }
   ],
   "source": [
    "np.linspace(start = 0,\n",
    "            stop = 2, \n",
    "            num = 100)"
   ]
  },
  {
   "cell_type": "code",
   "execution_count": 104,
   "metadata": {},
   "outputs": [
    {
     "data": {
      "text/plain": [
       "array([ 1.        ,  0.99798668,  0.99195481,  0.9819287 ,  0.9679487 ,\n",
       "        0.95007112,  0.92836793,  0.90292654,  0.87384938,  0.84125353,\n",
       "        0.80527026,  0.76604444,  0.72373404,  0.67850941,  0.63055267,\n",
       "        0.58005691,  0.52722547,  0.47227107,  0.41541501,  0.35688622,\n",
       "        0.29692038,  0.23575894,  0.17364818,  0.1108382 ,  0.04758192,\n",
       "       -0.01586596, -0.07924996, -0.14231484, -0.20480667, -0.26647381,\n",
       "       -0.32706796, -0.38634513, -0.44406661, -0.5       , -0.55392006,\n",
       "       -0.60560969, -0.65486073, -0.70147489, -0.74526445, -0.78605309,\n",
       "       -0.82367658, -0.85798341, -0.88883545, -0.91610846, -0.93969262,\n",
       "       -0.95949297, -0.97542979, -0.98743889, -0.99547192, -0.99949654,\n",
       "       -0.99949654, -0.99547192, -0.98743889, -0.97542979, -0.95949297,\n",
       "       -0.93969262, -0.91610846, -0.88883545, -0.85798341, -0.82367658,\n",
       "       -0.78605309, -0.74526445, -0.70147489, -0.65486073, -0.60560969,\n",
       "       -0.55392006, -0.5       , -0.44406661, -0.38634513, -0.32706796,\n",
       "       -0.26647381, -0.20480667, -0.14231484, -0.07924996, -0.01586596,\n",
       "        0.04758192,  0.1108382 ,  0.17364818,  0.23575894,  0.29692038,\n",
       "        0.35688622,  0.41541501,  0.47227107,  0.52722547,  0.58005691,\n",
       "        0.63055267,  0.67850941,  0.72373404,  0.76604444,  0.80527026,\n",
       "        0.84125353,  0.87384938,  0.90292654,  0.92836793,  0.95007112,\n",
       "        0.9679487 ,  0.9819287 ,  0.99195481,  0.99798668,  1.        ])"
      ]
     },
     "execution_count": 104,
     "metadata": {},
     "output_type": "execute_result"
    }
   ],
   "source": [
    "from numpy import pi\n",
    "\n",
    "x = np.linspace(0, 2 * pi, 100)\n",
    "x\n",
    "\n",
    "f = np.cos(x)\n",
    "f"
   ]
  },
  {
   "cell_type": "code",
   "execution_count": 106,
   "metadata": {},
   "outputs": [
    {
     "data": {
      "text/plain": [
       "1.0"
      ]
     },
     "execution_count": 106,
     "metadata": {},
     "output_type": "execute_result"
    }
   ],
   "source": [
    "f.max()\n",
    "f.min()"
   ]
  },
  {
   "cell_type": "markdown",
   "metadata": {},
   "source": [
    "### Demais dimensões"
   ]
  },
  {
   "cell_type": "markdown",
   "metadata": {},
   "source": [
    "Podemos criar arranjos de dimensões diversas:"
   ]
  },
  {
   "cell_type": "code",
   "execution_count": 127,
   "metadata": {},
   "outputs": [
    {
     "data": {
      "text/plain": [
       "720"
      ]
     },
     "execution_count": 127,
     "metadata": {},
     "output_type": "execute_result"
    }
   ],
   "source": [
    "2* 3* 4* 5* 6"
   ]
  },
  {
   "cell_type": "code",
   "execution_count": 130,
   "metadata": {},
   "outputs": [
    {
     "name": "stdout",
     "output_type": "stream",
     "text": [
      "arranjo_0d: 1\n",
      "arranjo_1d: [0 1]\n",
      "\n",
      "arranjo_2d: [[0 1 2]\n",
      " [3 4 5]]\n",
      "\n",
      "arranjo_3d: [[[ 0  1  2  3]\n",
      "  [ 4  5  6  7]\n",
      "  [ 8  9 10 11]]\n",
      "\n",
      " [[12 13 14 15]\n",
      "  [16 17 18 19]\n",
      "  [20 21 22 23]]]\n",
      "\n",
      "arranjo_4d: [[[[  0   1   2   3   4]\n",
      "   [  5   6   7   8   9]\n",
      "   [ 10  11  12  13  14]\n",
      "   [ 15  16  17  18  19]]\n",
      "\n",
      "  [[ 20  21  22  23  24]\n",
      "   [ 25  26  27  28  29]\n",
      "   [ 30  31  32  33  34]\n",
      "   [ 35  36  37  38  39]]\n",
      "\n",
      "  [[ 40  41  42  43  44]\n",
      "   [ 45  46  47  48  49]\n",
      "   [ 50  51  52  53  54]\n",
      "   [ 55  56  57  58  59]]]\n",
      "\n",
      "\n",
      " [[[ 60  61  62  63  64]\n",
      "   [ 65  66  67  68  69]\n",
      "   [ 70  71  72  73  74]\n",
      "   [ 75  76  77  78  79]]\n",
      "\n",
      "  [[ 80  81  82  83  84]\n",
      "   [ 85  86  87  88  89]\n",
      "   [ 90  91  92  93  94]\n",
      "   [ 95  96  97  98  99]]\n",
      "\n",
      "  [[100 101 102 103 104]\n",
      "   [105 106 107 108 109]\n",
      "   [110 111 112 113 114]\n",
      "   [115 116 117 118 119]]]]\n",
      "\n",
      "arranjo_5d: [[[[[  0   1   2   3   4   5]\n",
      "    [  6   7   8   9  10  11]\n",
      "    [ 12  13  14  15  16  17]\n",
      "    [ 18  19  20  21  22  23]\n",
      "    [ 24  25  26  27  28  29]]\n",
      "\n",
      "   [[ 30  31  32  33  34  35]\n",
      "    [ 36  37  38  39  40  41]\n",
      "    [ 42  43  44  45  46  47]\n",
      "    [ 48  49  50  51  52  53]\n",
      "    [ 54  55  56  57  58  59]]\n",
      "\n",
      "   [[ 60  61  62  63  64  65]\n",
      "    [ 66  67  68  69  70  71]\n",
      "    [ 72  73  74  75  76  77]\n",
      "    [ 78  79  80  81  82  83]\n",
      "    [ 84  85  86  87  88  89]]\n",
      "\n",
      "   [[ 90  91  92  93  94  95]\n",
      "    [ 96  97  98  99 100 101]\n",
      "    [102 103 104 105 106 107]\n",
      "    [108 109 110 111 112 113]\n",
      "    [114 115 116 117 118 119]]]\n",
      "\n",
      "\n",
      "  [[[120 121 122 123 124 125]\n",
      "    [126 127 128 129 130 131]\n",
      "    [132 133 134 135 136 137]\n",
      "    [138 139 140 141 142 143]\n",
      "    [144 145 146 147 148 149]]\n",
      "\n",
      "   [[150 151 152 153 154 155]\n",
      "    [156 157 158 159 160 161]\n",
      "    [162 163 164 165 166 167]\n",
      "    [168 169 170 171 172 173]\n",
      "    [174 175 176 177 178 179]]\n",
      "\n",
      "   [[180 181 182 183 184 185]\n",
      "    [186 187 188 189 190 191]\n",
      "    [192 193 194 195 196 197]\n",
      "    [198 199 200 201 202 203]\n",
      "    [204 205 206 207 208 209]]\n",
      "\n",
      "   [[210 211 212 213 214 215]\n",
      "    [216 217 218 219 220 221]\n",
      "    [222 223 224 225 226 227]\n",
      "    [228 229 230 231 232 233]\n",
      "    [234 235 236 237 238 239]]]\n",
      "\n",
      "\n",
      "  [[[240 241 242 243 244 245]\n",
      "    [246 247 248 249 250 251]\n",
      "    [252 253 254 255 256 257]\n",
      "    [258 259 260 261 262 263]\n",
      "    [264 265 266 267 268 269]]\n",
      "\n",
      "   [[270 271 272 273 274 275]\n",
      "    [276 277 278 279 280 281]\n",
      "    [282 283 284 285 286 287]\n",
      "    [288 289 290 291 292 293]\n",
      "    [294 295 296 297 298 299]]\n",
      "\n",
      "   [[300 301 302 303 304 305]\n",
      "    [306 307 308 309 310 311]\n",
      "    [312 313 314 315 316 317]\n",
      "    [318 319 320 321 322 323]\n",
      "    [324 325 326 327 328 329]]\n",
      "\n",
      "   [[330 331 332 333 334 335]\n",
      "    [336 337 338 339 340 341]\n",
      "    [342 343 344 345 346 347]\n",
      "    [348 349 350 351 352 353]\n",
      "    [354 355 356 357 358 359]]]]\n",
      "\n",
      "\n",
      "\n",
      " [[[[360 361 362 363 364 365]\n",
      "    [366 367 368 369 370 371]\n",
      "    [372 373 374 375 376 377]\n",
      "    [378 379 380 381 382 383]\n",
      "    [384 385 386 387 388 389]]\n",
      "\n",
      "   [[390 391 392 393 394 395]\n",
      "    [396 397 398 399 400 401]\n",
      "    [402 403 404 405 406 407]\n",
      "    [408 409 410 411 412 413]\n",
      "    [414 415 416 417 418 419]]\n",
      "\n",
      "   [[420 421 422 423 424 425]\n",
      "    [426 427 428 429 430 431]\n",
      "    [432 433 434 435 436 437]\n",
      "    [438 439 440 441 442 443]\n",
      "    [444 445 446 447 448 449]]\n",
      "\n",
      "   [[450 451 452 453 454 455]\n",
      "    [456 457 458 459 460 461]\n",
      "    [462 463 464 465 466 467]\n",
      "    [468 469 470 471 472 473]\n",
      "    [474 475 476 477 478 479]]]\n",
      "\n",
      "\n",
      "  [[[480 481 482 483 484 485]\n",
      "    [486 487 488 489 490 491]\n",
      "    [492 493 494 495 496 497]\n",
      "    [498 499 500 501 502 503]\n",
      "    [504 505 506 507 508 509]]\n",
      "\n",
      "   [[510 511 512 513 514 515]\n",
      "    [516 517 518 519 520 521]\n",
      "    [522 523 524 525 526 527]\n",
      "    [528 529 530 531 532 533]\n",
      "    [534 535 536 537 538 539]]\n",
      "\n",
      "   [[540 541 542 543 544 545]\n",
      "    [546 547 548 549 550 551]\n",
      "    [552 553 554 555 556 557]\n",
      "    [558 559 560 561 562 563]\n",
      "    [564 565 566 567 568 569]]\n",
      "\n",
      "   [[570 571 572 573 574 575]\n",
      "    [576 577 578 579 580 581]\n",
      "    [582 583 584 585 586 587]\n",
      "    [588 589 590 591 592 593]\n",
      "    [594 595 596 597 598 599]]]\n",
      "\n",
      "\n",
      "  [[[600 601 602 603 604 605]\n",
      "    [606 607 608 609 610 611]\n",
      "    [612 613 614 615 616 617]\n",
      "    [618 619 620 621 622 623]\n",
      "    [624 625 626 627 628 629]]\n",
      "\n",
      "   [[630 631 632 633 634 635]\n",
      "    [636 637 638 639 640 641]\n",
      "    [642 643 644 645 646 647]\n",
      "    [648 649 650 651 652 653]\n",
      "    [654 655 656 657 658 659]]\n",
      "\n",
      "   [[660 661 662 663 664 665]\n",
      "    [666 667 668 669 670 671]\n",
      "    [672 673 674 675 676 677]\n",
      "    [678 679 680 681 682 683]\n",
      "    [684 685 686 687 688 689]]\n",
      "\n",
      "   [[690 691 692 693 694 695]\n",
      "    [696 697 698 699 700 701]\n",
      "    [702 703 704 705 706 707]\n",
      "    [708 709 710 711 712 713]\n",
      "    [714 715 716 717 718 719]]]]]\n"
     ]
    }
   ],
   "source": [
    "arranjo_0d = 1\n",
    "print('arranjo_0d:', arranjo_0d)\n",
    "\n",
    "arranjo_1d = np.arange(2)\n",
    "print('arranjo_1d:', arranjo_1d)\n",
    "\n",
    "print('')\n",
    "\n",
    "arranjo_2d = np.arange(6).reshape(2, 3)\n",
    "#arranjo_2d = np.arange(6).reshape(3, 2)\n",
    "print('arranjo_2d:', arranjo_2d)\n",
    "\n",
    "print('')\n",
    "\n",
    "arranjo_3d = np.arange(24).reshape(2, 3, 4)\n",
    "print('arranjo_3d:', arranjo_3d)\n",
    "\n",
    "print('')\n",
    "\n",
    "arranjo_4d = np.arange(120).reshape(2, 3, 4, 5)\n",
    "print('arranjo_4d:', arranjo_4d)\n",
    "\n",
    "print('')\n",
    "\n",
    "arranjo_5d = np.arange(720).reshape(2, 3, 4, 5, 6)\n",
    "print('arranjo_5d:', arranjo_5d)"
   ]
  },
  {
   "cell_type": "markdown",
   "metadata": {},
   "source": [
    "### Operações aritméticas com arranjos"
   ]
  },
  {
   "cell_type": "markdown",
   "metadata": {},
   "source": [
    "É possível realizar operaçoes aritiméticas com os arranjos. Como a adição e a subtração:\n",
    "\n",
    "- [np.add()](https://numpy.org/devdocs/reference/generated/numpy.add.html)\n",
    "\n",
    "- [np.subtract()](https://numpy.org/doc/stable/reference/generated/numpy.subtract.html)"
   ]
  },
  {
   "cell_type": "code",
   "execution_count": 167,
   "metadata": {},
   "outputs": [
    {
     "name": "stdout",
     "output_type": "stream",
     "text": [
      "arranjo_1: [10 20 30 40]\n",
      "arranjo_2: [0 1 2 3]\n",
      "arranjo_3: [[0]\n",
      " [1]\n",
      " [2]\n",
      " [3]\n",
      " [4]]\n"
     ]
    }
   ],
   "source": [
    "arranjo_1 = np.array([10, 20, 30, 40])\n",
    "print('arranjo_1:', arranjo_1)\n",
    "\n",
    "arranjo_2 = np.arange(4)\n",
    "print('arranjo_2:', arranjo_2)\n",
    "\n",
    "#=arranjo_3 = np.arange(5)\n",
    "#arranjo_3 = np.arange(5).reshape(5, 1)\n",
    "print('arranjo_3:', arranjo_3)"
   ]
  },
  {
   "cell_type": "code",
   "execution_count": 168,
   "metadata": {},
   "outputs": [
    {
     "data": {
      "text/plain": [
       "array([10, 19, 28, 37])"
      ]
     },
     "execution_count": 168,
     "metadata": {},
     "output_type": "execute_result"
    }
   ],
   "source": [
    "#arranjo_1 - arranjo_2\n",
    "\n",
    "np.subtract(arranjo_1, arranjo_2)\n"
   ]
  },
  {
   "cell_type": "code",
   "execution_count": 149,
   "metadata": {},
   "outputs": [
    {
     "data": {
      "text/plain": [
       "array([10, 21, 32, 43])"
      ]
     },
     "execution_count": 149,
     "metadata": {},
     "output_type": "execute_result"
    }
   ],
   "source": [
    "arranjo_1 + arranjo_2\n",
    "\n",
    "#np.add(arranjo_1, arranjo_2)\n"
   ]
  },
  {
   "cell_type": "markdown",
   "metadata": {},
   "source": [
    "Assim como a multiplicação e a divisão:\n",
    "\n",
    "- [np.multiply()](https://numpy.org/doc/1.22/reference/generated/numpy.multiply.html)\n",
    "- [np.divide()](https://numpy.org/doc/stable/reference/generated/numpy.divide.html)"
   ]
  },
  {
   "cell_type": "code",
   "execution_count": 147,
   "metadata": {},
   "outputs": [
    {
     "data": {
      "text/plain": [
       "array([  0,  20,  60, 120])"
      ]
     },
     "execution_count": 147,
     "metadata": {},
     "output_type": "execute_result"
    }
   ],
   "source": [
    "#arranjo_1 * arranjo_2\n",
    "\n",
    "np.multiply(arranjo_1, arranjo_2)"
   ]
  },
  {
   "cell_type": "code",
   "execution_count": 152,
   "metadata": {},
   "outputs": [
    {
     "data": {
      "text/plain": [
       "array([0.        , 0.05      , 0.06666667, 0.075     ])"
      ]
     },
     "execution_count": 152,
     "metadata": {},
     "output_type": "execute_result"
    }
   ],
   "source": [
    "arranjo_2 / arranjo_1\n",
    "\n",
    "np.divide(arranjo_2, arranjo_1)"
   ]
  },
  {
   "cell_type": "markdown",
   "metadata": {},
   "source": [
    "Também a potenciação:"
   ]
  },
  {
   "cell_type": "code",
   "execution_count": 153,
   "metadata": {},
   "outputs": [
    {
     "data": {
      "text/plain": [
       "array([0, 1, 4, 9])"
      ]
     },
     "execution_count": 153,
     "metadata": {},
     "output_type": "execute_result"
    }
   ],
   "source": [
    "arranjo_2 ** 2"
   ]
  },
  {
   "cell_type": "markdown",
   "metadata": {},
   "source": [
    "Podemos operar trigonométricamente com os arranjos:"
   ]
  },
  {
   "cell_type": "code",
   "execution_count": 156,
   "metadata": {},
   "outputs": [
    {
     "data": {
      "text/plain": [
       "array([ 0.        ,  1.55740772, -2.18503986, -0.14254654])"
      ]
     },
     "execution_count": 156,
     "metadata": {},
     "output_type": "execute_result"
    }
   ],
   "source": [
    "np.sin(arranjo_2)\n",
    "np.cos(arranjo_2)\n",
    "np.tan(arranjo_2)"
   ]
  },
  {
   "cell_type": "markdown",
   "metadata": {},
   "source": [
    "### Máscara booleana:"
   ]
  },
  {
   "cell_type": "markdown",
   "metadata": {},
   "source": [
    "Podemos também criar máscaras booleanas"
   ]
  },
  {
   "cell_type": "code",
   "execution_count": 171,
   "metadata": {},
   "outputs": [
    {
     "data": {
      "text/plain": [
       "array([[0],\n",
       "       [1],\n",
       "       [2],\n",
       "       [3],\n",
       "       [4]])"
      ]
     },
     "execution_count": 171,
     "metadata": {},
     "output_type": "execute_result"
    }
   ],
   "source": [
    "arranjo_3"
   ]
  },
  {
   "cell_type": "code",
   "execution_count": 170,
   "metadata": {},
   "outputs": [
    {
     "name": "stdout",
     "output_type": "stream",
     "text": [
      "arranjo_3 < 2.24 [[ True]\n",
      " [ True]\n",
      " [ True]\n",
      " [False]\n",
      " [False]]\n"
     ]
    }
   ],
   "source": [
    "cut = 2.24\n",
    "print(f'arranjo_3 < {cut}', arranjo_3 < cut)"
   ]
  },
  {
   "cell_type": "markdown",
   "metadata": {},
   "source": [
    "### Operações com matrizes:"
   ]
  },
  {
   "cell_type": "markdown",
   "metadata": {},
   "source": [
    "É possível também trabalhar com matrizes:"
   ]
  },
  {
   "cell_type": "code",
   "execution_count": 174,
   "metadata": {},
   "outputs": [
    {
     "data": {
      "text/plain": [
       "array([[1, 1],\n",
       "       [0, 1]])"
      ]
     },
     "execution_count": 174,
     "metadata": {},
     "output_type": "execute_result"
    }
   ],
   "source": [
    "mat_A = np.array([[1,1], [0,1]])\n",
    "mat_A"
   ]
  },
  {
   "cell_type": "code",
   "execution_count": 175,
   "metadata": {},
   "outputs": [
    {
     "data": {
      "text/plain": [
       "array([[2, 0],\n",
       "       [3, 4]])"
      ]
     },
     "execution_count": 175,
     "metadata": {},
     "output_type": "execute_result"
    }
   ],
   "source": [
    "mat_B = np.array([[2,0], [3,4]])\n",
    "mat_B"
   ]
  },
  {
   "cell_type": "markdown",
   "metadata": {},
   "source": [
    "Elemento a elemento (elementwise product) [np.multiply()](https://numpy.org/doc/stable/reference/generated/numpy.multiply.html)."
   ]
  },
  {
   "cell_type": "code",
   "execution_count": 176,
   "metadata": {},
   "outputs": [
    {
     "data": {
      "text/plain": [
       "array([[2, 0],\n",
       "       [0, 4]])"
      ]
     },
     "execution_count": 176,
     "metadata": {},
     "output_type": "execute_result"
    }
   ],
   "source": [
    "np.multiply(mat_A, mat_B)"
   ]
  },
  {
   "cell_type": "markdown",
   "metadata": {},
   "source": [
    "Produto matricial (matrix product) [np.matmul()](https://numpy.org/doc/stable/reference/generated/numpy.matmul.html)"
   ]
  },
  {
   "cell_type": "code",
   "execution_count": 177,
   "metadata": {},
   "outputs": [
    {
     "data": {
      "text/plain": [
       "array([[5, 4],\n",
       "       [3, 4]])"
      ]
     },
     "execution_count": 177,
     "metadata": {},
     "output_type": "execute_result"
    }
   ],
   "source": [
    "np.matmul(mat_A, mat_B)"
   ]
  },
  {
   "cell_type": "markdown",
   "metadata": {},
   "source": [
    "o Produto escalar (dot product) [numpy.dot()](https://numpy.org/doc/stable/reference/generated/numpy.dot.html)"
   ]
  },
  {
   "cell_type": "code",
   "execution_count": 178,
   "metadata": {},
   "outputs": [
    {
     "data": {
      "text/plain": [
       "array([[5, 4],\n",
       "       [3, 4]])"
      ]
     },
     "execution_count": 178,
     "metadata": {},
     "output_type": "execute_result"
    }
   ],
   "source": [
    "np.dot(mat_A, mat_B)"
   ]
  },
  {
   "cell_type": "markdown",
   "metadata": {},
   "source": [
    "### Slice"
   ]
  },
  {
   "cell_type": "markdown",
   "metadata": {},
   "source": [
    "Podemos fatiar um arranjo para extrair um subconjunto de preferência:"
   ]
  },
  {
   "cell_type": "code",
   "execution_count": 181,
   "metadata": {},
   "outputs": [
    {
     "data": {
      "text/plain": [
       "array([10, 20, 30, 40])"
      ]
     },
     "execution_count": 181,
     "metadata": {},
     "output_type": "execute_result"
    }
   ],
   "source": [
    "arranjo_1"
   ]
  },
  {
   "cell_type": "code",
   "execution_count": 185,
   "metadata": {},
   "outputs": [
    {
     "data": {
      "text/plain": [
       "40"
      ]
     },
     "execution_count": 185,
     "metadata": {},
     "output_type": "execute_result"
    }
   ],
   "source": [
    "arranjo_1[3]"
   ]
  },
  {
   "cell_type": "code",
   "execution_count": 189,
   "metadata": {},
   "outputs": [
    {
     "data": {
      "text/plain": [
       "array([30])"
      ]
     },
     "execution_count": 189,
     "metadata": {},
     "output_type": "execute_result"
    }
   ],
   "source": [
    "arranjo_1[2 : 3]"
   ]
  },
  {
   "cell_type": "code",
   "execution_count": 209,
   "metadata": {},
   "outputs": [
    {
     "data": {
      "text/plain": [
       "array([ 10,  20,  30,  40,  50,  60,  70,  80,  90, 100])"
      ]
     },
     "execution_count": 209,
     "metadata": {},
     "output_type": "execute_result"
    }
   ],
   "source": [
    "arranjo_1[0 : 10]"
   ]
  },
  {
   "cell_type": "code",
   "execution_count": 211,
   "metadata": {},
   "outputs": [
    {
     "data": {
      "text/plain": [
       "array([ 10,  20,  30,  40,  50,  60,  70,  80,  90, 100])"
      ]
     },
     "execution_count": 211,
     "metadata": {},
     "output_type": "execute_result"
    }
   ],
   "source": [
    "arranjo_1[0 : 10 : 1]"
   ]
  },
  {
   "cell_type": "markdown",
   "metadata": {},
   "source": [
    "Podemos alterar valores em um arranjo:"
   ]
  },
  {
   "cell_type": "code",
   "execution_count": 205,
   "metadata": {},
   "outputs": [
    {
     "name": "stdout",
     "output_type": "stream",
     "text": [
      "arranjo_1: [ 10  20  30  40  50  60  70  80  90 100 110]\n"
     ]
    }
   ],
   "source": [
    "arranjo_1 = np.array([10, 20, 30, 40, 50, 60, 70, 80, 90, 100, 110])\n",
    "print('arranjo_1:', arranjo_1)"
   ]
  },
  {
   "cell_type": "code",
   "execution_count": 213,
   "metadata": {},
   "outputs": [
    {
     "data": {
      "text/plain": [
       "array([2000,   20,   30, 2000,   50,   60, 2000,   80,   90, 2000,  110])"
      ]
     },
     "execution_count": 213,
     "metadata": {},
     "output_type": "execute_result"
    }
   ],
   "source": [
    "arranjo_1[0 : 10 : 3] = 2000\n",
    "arranjo_1"
   ]
  },
  {
   "cell_type": "code",
   "execution_count": 214,
   "metadata": {},
   "outputs": [
    {
     "data": {
      "text/plain": [
       "array([2000,   20,   30, 2000,   50,   60, 2000,   80,   90, 2000,  110])"
      ]
     },
     "execution_count": 214,
     "metadata": {},
     "output_type": "execute_result"
    }
   ],
   "source": [
    "arranjo_1"
   ]
  },
  {
   "cell_type": "code",
   "execution_count": 223,
   "metadata": {},
   "outputs": [
    {
     "name": "stdout",
     "output_type": "stream",
     "text": [
      "arranjo_2d:\n"
     ]
    },
    {
     "data": {
      "text/plain": [
       "array([[0, 1, 2],\n",
       "       [3, 4, 5]])"
      ]
     },
     "metadata": {},
     "output_type": "display_data"
    }
   ],
   "source": [
    "arranjo_2d = np.arange(6).reshape(2, 3)\n",
    "#arranjo_2d = np.arange(6).reshape(3, 2)\n",
    "print('arranjo_2d:')\n",
    "display(arranjo_2d)"
   ]
  },
  {
   "cell_type": "code",
   "execution_count": 228,
   "metadata": {},
   "outputs": [
    {
     "data": {
      "text/plain": [
       "array([1])"
      ]
     },
     "execution_count": 228,
     "metadata": {},
     "output_type": "execute_result"
    }
   ],
   "source": [
    "arranjo_2d[0, 1 : 2]"
   ]
  },
  {
   "cell_type": "code",
   "execution_count": 224,
   "metadata": {},
   "outputs": [
    {
     "data": {
      "text/plain": [
       "array([[4]])"
      ]
     },
     "execution_count": 224,
     "metadata": {},
     "output_type": "execute_result"
    }
   ],
   "source": [
    "arranjo_2d[1 : 2, 1 : 2]"
   ]
  },
  {
   "cell_type": "code",
   "execution_count": 222,
   "metadata": {},
   "outputs": [
    {
     "data": {
      "text/plain": [
       "array([[4, 5]])"
      ]
     },
     "execution_count": 222,
     "metadata": {},
     "output_type": "execute_result"
    }
   ],
   "source": [
    "arranjo_2d[1 : 2, 1 : 3]"
   ]
  },
  {
   "cell_type": "markdown",
   "metadata": {},
   "source": [
    "Podemos alterar valores em um arranjo elemento a elemento"
   ]
  },
  {
   "cell_type": "code",
   "execution_count": 246,
   "metadata": {},
   "outputs": [],
   "source": [
    "arranjo_1 = [10,   20,   30, 40,   50,   60, 70,   80,   90, 100,  110]\n",
    "#arranjo_1 = [110,   100,   90,  80,   70,   60, 50,   40,   30, 20,  10]"
   ]
  },
  {
   "cell_type": "code",
   "execution_count": 236,
   "metadata": {},
   "outputs": [
    {
     "name": "stdout",
     "output_type": "stream",
     "text": [
      "3.1622776601683795\n",
      "4.47213595499958\n",
      "5.477225575051661\n",
      "6.324555320336759\n",
      "7.0710678118654755\n",
      "7.745966692414834\n",
      "8.366600265340756\n",
      "8.94427190999916\n",
      "9.486832980505138\n",
      "10.0\n",
      "10.488088481701515\n"
     ]
    }
   ],
   "source": [
    "for i in arranjo_1:\n",
    "    #print(i ** (1 / 2))\n",
    "    print(np.sqrt(i))"
   ]
  },
  {
   "cell_type": "markdown",
   "metadata": {},
   "source": [
    "Podemos ler um arranjo de forma reversa:"
   ]
  },
  {
   "cell_type": "code",
   "execution_count": 252,
   "metadata": {},
   "outputs": [
    {
     "data": {
      "text/plain": [
       "[110, 100, 90, 80, 70, 60, 50, 40, 30, 20, 10]"
      ]
     },
     "execution_count": 252,
     "metadata": {},
     "output_type": "execute_result"
    }
   ],
   "source": [
    "arranjo_1[-1 :  : -1]"
   ]
  },
  {
   "cell_type": "markdown",
   "metadata": {},
   "source": [
    "É possível construir um arranjo executando uma função sobre cada coordenada, com [np.fromfunction()](https://numpy.org/doc/stable/reference/generated/numpy.fromfunction.html)."
   ]
  },
  {
   "cell_type": "code",
   "execution_count": 281,
   "metadata": {},
   "outputs": [],
   "source": [
    "def f(x, y):\n",
    "\n",
    "    func_1 = 5 * x + y\n",
    "    func_2 = np.sin(x) * x + y ** 3\n",
    "\n",
    "    return func_1 - func_2"
   ]
  },
  {
   "cell_type": "code",
   "execution_count": 282,
   "metadata": {},
   "outputs": [
    {
     "data": {
      "text/plain": [
       "array([[  0.        ,   0.        ,  -6.        , -24.        ],\n",
       "       [  4.15852902,   4.15852902,  -1.84147098, -19.84147098],\n",
       "       [  8.18140515,   8.18140515,   2.18140515, -15.81859485]])"
      ]
     },
     "execution_count": 282,
     "metadata": {},
     "output_type": "execute_result"
    }
   ],
   "source": [
    "arranjo_func = np.fromfunction(function = f, shape = (3, 4), dtype = int)\n",
    "arranjo_func"
   ]
  },
  {
   "cell_type": "code",
   "execution_count": null,
   "metadata": {},
   "outputs": [],
   "source": []
  },
  {
   "cell_type": "markdown",
   "metadata": {},
   "source": [
    "Fatiamos todas linhas da primeira coluna 2:"
   ]
  },
  {
   "cell_type": "code",
   "execution_count": 283,
   "metadata": {},
   "outputs": [
    {
     "data": {
      "text/plain": [
       "array([-6.        , -1.84147098,  2.18140515])"
      ]
     },
     "execution_count": 283,
     "metadata": {},
     "output_type": "execute_result"
    }
   ],
   "source": [
    "arranjo_func[0 : 4, 2]"
   ]
  },
  {
   "cell_type": "markdown",
   "metadata": {},
   "source": [
    "Ou o reverso de todas as linhas da última coluna:"
   ]
  },
  {
   "cell_type": "code",
   "execution_count": 284,
   "metadata": {},
   "outputs": [
    {
     "data": {
      "text/plain": [
       "array([-24.        , -19.84147098, -15.81859485])"
      ]
     },
     "execution_count": 284,
     "metadata": {},
     "output_type": "execute_result"
    }
   ],
   "source": [
    "arranjo_func[:, - 1]"
   ]
  },
  {
   "cell_type": "markdown",
   "metadata": {},
   "source": [
    "Ou a segunda e a terceira linhas de todas as colunas:"
   ]
  },
  {
   "cell_type": "code",
   "execution_count": null,
   "metadata": {},
   "outputs": [],
   "source": []
  },
  {
   "cell_type": "markdown",
   "metadata": {},
   "source": [
    "### Achatando arranjos"
   ]
  },
  {
   "cell_type": "markdown",
   "metadata": {},
   "source": [
    "A rotina [np.flat()](https://numpy.org/doc/stable/reference/generated/numpy.ndarray.flat.html) 'achata' um arranjo de qualquer dimensão para um 1d."
   ]
  },
  {
   "cell_type": "code",
   "execution_count": 285,
   "metadata": {},
   "outputs": [
    {
     "data": {
      "text/plain": [
       "array([[  0.        ,   0.        ,  -6.        , -24.        ],\n",
       "       [  4.15852902,   4.15852902,  -1.84147098, -19.84147098],\n",
       "       [  8.18140515,   8.18140515,   2.18140515, -15.81859485]])"
      ]
     },
     "execution_count": 285,
     "metadata": {},
     "output_type": "execute_result"
    }
   ],
   "source": [
    "arranjo_func"
   ]
  },
  {
   "cell_type": "code",
   "execution_count": 288,
   "metadata": {},
   "outputs": [
    {
     "name": "stdout",
     "output_type": "stream",
     "text": [
      "0.0\n",
      "0.0\n",
      "-6.0\n",
      "-24.0\n",
      "4.158529015192103\n",
      "4.158529015192103\n",
      "-1.8414709848078967\n",
      "-19.841470984807895\n",
      "8.181405146348636\n",
      "8.181405146348636\n",
      "2.181405146348636\n",
      "-15.818594853651362\n"
     ]
    }
   ],
   "source": [
    "for i in arranjo_func.flat:\n",
    "    print(i)"
   ]
  },
  {
   "cell_type": "code",
   "execution_count": null,
   "metadata": {},
   "outputs": [],
   "source": []
  },
  {
   "cell_type": "markdown",
   "metadata": {},
   "source": [
    "### Valores aleatórios"
   ]
  },
  {
   "cell_type": "code",
   "execution_count": 324,
   "metadata": {},
   "outputs": [
    {
     "data": {
      "text/plain": [
       "array([[2., 4., 9., 4.],\n",
       "       [4., 3., 9., 1.],\n",
       "       [8., 5., 5., 5.]])"
      ]
     },
     "execution_count": 324,
     "metadata": {},
     "output_type": "execute_result"
    }
   ],
   "source": [
    "arranjo_random = np.floor(10 * np.random.rand(3, 4))\n",
    "arranjo_random"
   ]
  },
  {
   "cell_type": "markdown",
   "metadata": {},
   "source": [
    "A rotina [np.ravel()](https://numpy.org/doc/stable/reference/generated/numpy.ravel.html) retorna uma matriz achatada contígua."
   ]
  },
  {
   "cell_type": "code",
   "execution_count": 299,
   "metadata": {},
   "outputs": [
    {
     "data": {
      "text/plain": [
       "array([[9., 9., 5., 4.],\n",
       "       [4., 7., 7., 0.],\n",
       "       [3., 0., 8., 9.]])"
      ]
     },
     "execution_count": 299,
     "metadata": {},
     "output_type": "execute_result"
    }
   ],
   "source": [
    "arranjo_random"
   ]
  },
  {
   "cell_type": "code",
   "execution_count": 300,
   "metadata": {},
   "outputs": [
    {
     "data": {
      "text/plain": [
       "array([9., 9., 5., 4., 4., 7., 7., 0., 3., 0., 8., 9.])"
      ]
     },
     "execution_count": 300,
     "metadata": {},
     "output_type": "execute_result"
    }
   ],
   "source": [
    "arranjo_random.ravel()"
   ]
  },
  {
   "cell_type": "markdown",
   "metadata": {},
   "source": [
    "E a rotina [np.T](https://numpy.org/doc/stable/reference/generated/numpy.ndarray.T.html) retorna a matriz transposta."
   ]
  },
  {
   "cell_type": "code",
   "execution_count": 305,
   "metadata": {},
   "outputs": [
    {
     "data": {
      "text/plain": [
       "array([[9., 4., 7., 0.],\n",
       "       [9., 4., 0., 8.],\n",
       "       [5., 7., 3., 9.]])"
      ]
     },
     "execution_count": 305,
     "metadata": {},
     "output_type": "execute_result"
    }
   ],
   "source": [
    "#arranjo_random.T\n",
    "\n",
    "np.transpose(arranjo_random)"
   ]
  },
  {
   "cell_type": "code",
   "execution_count": null,
   "metadata": {},
   "outputs": [],
   "source": []
  },
  {
   "cell_type": "markdown",
   "metadata": {},
   "source": [
    "A rotina [np.resize()](https://numpy.org/doc/stable/reference/generated/numpy.resize.html) retorna um novo arranjo com a forma especificada."
   ]
  },
  {
   "cell_type": "code",
   "execution_count": 333,
   "metadata": {},
   "outputs": [
    {
     "data": {
      "text/plain": [
       "array([[2., 4., 9., 4.],\n",
       "       [4., 3., 9., 1.],\n",
       "       [8., 5., 5., 5.]])"
      ]
     },
     "execution_count": 333,
     "metadata": {},
     "output_type": "execute_result"
    }
   ],
   "source": [
    "arranjo_random#.size"
   ]
  },
  {
   "cell_type": "code",
   "execution_count": 336,
   "metadata": {},
   "outputs": [
    {
     "data": {
      "text/plain": [
       "array([[2., 4., 9., 4.],\n",
       "       [4., 3., 9., 1.]])"
      ]
     },
     "execution_count": 336,
     "metadata": {},
     "output_type": "execute_result"
    }
   ],
   "source": [
    "np.resize(arranjo_random,(2, 4))"
   ]
  },
  {
   "cell_type": "code",
   "execution_count": 317,
   "metadata": {},
   "outputs": [],
   "source": []
  },
  {
   "cell_type": "markdown",
   "metadata": {},
   "source": [
    "A rotina [np.reshape()](https://numpy.org/doc/stable/reference/generated/numpy.reshape.html) dá uma nova forma a um array sem alterar seus dados."
   ]
  },
  {
   "cell_type": "code",
   "execution_count": 340,
   "metadata": {},
   "outputs": [
    {
     "data": {
      "text/plain": [
       "array([[2., 4., 9.],\n",
       "       [4., 4., 3.],\n",
       "       [9., 1., 8.],\n",
       "       [5., 5., 5.]])"
      ]
     },
     "execution_count": 340,
     "metadata": {},
     "output_type": "execute_result"
    }
   ],
   "source": [
    "arranjo_random.reshape(4, 3)"
   ]
  },
  {
   "cell_type": "markdown",
   "metadata": {},
   "source": [
    "A rotina [np.floor](https://numpy.org/doc/stable/reference/generated/numpy.floor.html) retorne o piso (floor) da entrada, elemento a elemento."
   ]
  },
  {
   "cell_type": "code",
   "execution_count": 341,
   "metadata": {},
   "outputs": [
    {
     "data": {
      "text/plain": [
       "array([[2., 4., 9., 4.],\n",
       "       [4., 3., 9., 1.],\n",
       "       [8., 5., 5., 5.]])"
      ]
     },
     "execution_count": 341,
     "metadata": {},
     "output_type": "execute_result"
    }
   ],
   "source": [
    "arranjo_floor = np.floor(arranjo_random)\n",
    "arranjo_floor"
   ]
  },
  {
   "cell_type": "code",
   "execution_count": null,
   "metadata": {},
   "outputs": [],
   "source": []
  },
  {
   "cell_type": "markdown",
   "metadata": {},
   "source": [
    "A rotina [np.vstack()](https://numpy.org/doc/1.23/reference/generated/numpy.vstack.html) empilha matrizes em sequência verticalmente (linha a linha)."
   ]
  },
  {
   "cell_type": "code",
   "execution_count": 345,
   "metadata": {},
   "outputs": [
    {
     "data": {
      "text/plain": [
       "array([1, 2, 3, 4])"
      ]
     },
     "execution_count": 345,
     "metadata": {},
     "output_type": "execute_result"
    }
   ],
   "source": [
    "arranjo_1 = np.array([1, 2, 3, 4])\n",
    "arranjo_1"
   ]
  },
  {
   "cell_type": "code",
   "execution_count": 346,
   "metadata": {},
   "outputs": [
    {
     "data": {
      "text/plain": [
       "array([5, 6, 7, 8])"
      ]
     },
     "execution_count": 346,
     "metadata": {},
     "output_type": "execute_result"
    }
   ],
   "source": [
    "arranjo_2 = np.array([5, 6, 7, 8])\n",
    "arranjo_2"
   ]
  },
  {
   "cell_type": "code",
   "execution_count": 348,
   "metadata": {},
   "outputs": [
    {
     "data": {
      "text/plain": [
       "array([[1, 2, 3, 4],\n",
       "       [5, 6, 7, 8]])"
      ]
     },
     "execution_count": 348,
     "metadata": {},
     "output_type": "execute_result"
    }
   ],
   "source": [
    "np.vstack((arranjo_1, arranjo_2))"
   ]
  },
  {
   "cell_type": "code",
   "execution_count": 349,
   "metadata": {},
   "outputs": [
    {
     "data": {
      "text/plain": [
       "array([[5, 6, 7, 8],\n",
       "       [1, 2, 3, 4]])"
      ]
     },
     "execution_count": 349,
     "metadata": {},
     "output_type": "execute_result"
    }
   ],
   "source": [
    "np.vstack((arranjo_2, arranjo_1))"
   ]
  },
  {
   "cell_type": "markdown",
   "metadata": {},
   "source": [
    "A rotina [np.hstack()](https://numpy.org/doc/1.23/reference/generated/numpy.hstack.html) empilha matrizes em sequência horizontalmente (coluna a coluna)."
   ]
  },
  {
   "cell_type": "code",
   "execution_count": 350,
   "metadata": {},
   "outputs": [
    {
     "data": {
      "text/plain": [
       "array([1, 2, 3, 4, 5, 6, 7, 8])"
      ]
     },
     "execution_count": 350,
     "metadata": {},
     "output_type": "execute_result"
    }
   ],
   "source": [
    "np.hstack((arranjo_1, arranjo_2))"
   ]
  },
  {
   "cell_type": "code",
   "execution_count": 351,
   "metadata": {},
   "outputs": [
    {
     "data": {
      "text/plain": [
       "array([5, 6, 7, 8, 1, 2, 3, 4])"
      ]
     },
     "execution_count": 351,
     "metadata": {},
     "output_type": "execute_result"
    }
   ],
   "source": [
    "np.hstack((arranjo_2, arranjo_1))"
   ]
  },
  {
   "cell_type": "markdown",
   "metadata": {},
   "source": [
    "A rotina [np.hsplit()](https://numpy.org/doc/stable/reference/generated/numpy.hsplit.html) divide uma matriz em várias submatrizes horizontalmente (em colunas)."
   ]
  },
  {
   "cell_type": "code",
   "execution_count": 365,
   "metadata": {},
   "outputs": [
    {
     "data": {
      "text/plain": [
       "array([[1, 2, 3, 4],\n",
       "       [5, 6, 7, 8]])"
      ]
     },
     "execution_count": 365,
     "metadata": {},
     "output_type": "execute_result"
    }
   ],
   "source": [
    "arranjo_vstack = np.vstack((arranjo_1, arranjo_2))\n",
    "arranjo_vstack"
   ]
  },
  {
   "cell_type": "code",
   "execution_count": 366,
   "metadata": {},
   "outputs": [
    {
     "data": {
      "text/plain": [
       "[array([[1, 2],\n",
       "        [5, 6]]),\n",
       " array([[3, 4],\n",
       "        [7, 8]])]"
      ]
     },
     "execution_count": 366,
     "metadata": {},
     "output_type": "execute_result"
    }
   ],
   "source": [
    "np.hsplit(arranjo_vstack, 2)"
   ]
  },
  {
   "cell_type": "markdown",
   "metadata": {},
   "source": [
    "### Testando condições"
   ]
  },
  {
   "cell_type": "markdown",
   "metadata": {},
   "source": [
    "É possível testar se dois arranjos são iguais ou diferentes."
   ]
  },
  {
   "cell_type": "code",
   "execution_count": 381,
   "metadata": {},
   "outputs": [
    {
     "data": {
      "text/plain": [
       "array([[ 0,  1,  2,  3],\n",
       "       [ 4,  5,  6,  7],\n",
       "       [ 8,  9, 10, 11]])"
      ]
     },
     "execution_count": 381,
     "metadata": {},
     "output_type": "execute_result"
    }
   ],
   "source": [
    "arranjo_1 = np.array([\n",
    "    [0,1,2,3],\n",
    "    [4,5,6,7],\n",
    "    [8,9,10,11]\n",
    "])\n",
    "\n",
    "arranjo_1"
   ]
  },
  {
   "cell_type": "code",
   "execution_count": 388,
   "metadata": {},
   "outputs": [
    {
     "data": {
      "text/plain": [
       "array([[ 0,  1,  2,  3],\n",
       "       [ 4,  5,  6,  7],\n",
       "       [ 8,  9, 10, 11]])"
      ]
     },
     "execution_count": 388,
     "metadata": {},
     "output_type": "execute_result"
    }
   ],
   "source": [
    "arranjo_2 = np.array([\n",
    "    [0,1,2,3],\n",
    "    [4,5,6,7],\n",
    "    [8,9,10,11]\n",
    "])\n",
    "\n",
    "arranjo_2"
   ]
  },
  {
   "cell_type": "code",
   "execution_count": 389,
   "metadata": {},
   "outputs": [
    {
     "data": {
      "text/plain": [
       "array([[ True,  True,  True,  True],\n",
       "       [ True,  True,  True,  True],\n",
       "       [ True,  True,  True,  True]])"
      ]
     },
     "execution_count": 389,
     "metadata": {},
     "output_type": "execute_result"
    }
   ],
   "source": [
    "arranjo_1 == arranjo_2"
   ]
  },
  {
   "cell_type": "code",
   "execution_count": 392,
   "metadata": {},
   "outputs": [
    {
     "data": {
      "text/plain": [
       "True"
      ]
     },
     "execution_count": 392,
     "metadata": {},
     "output_type": "execute_result"
    }
   ],
   "source": [
    "arranjo_2 is arranjo_2"
   ]
  },
  {
   "cell_type": "markdown",
   "metadata": {},
   "source": [
    "Definimos novos arranjos."
   ]
  },
  {
   "cell_type": "code",
   "execution_count": null,
   "metadata": {},
   "outputs": [],
   "source": []
  },
  {
   "cell_type": "markdown",
   "metadata": {},
   "source": [
    "E filtramos um deles com um outro arranjo de valores."
   ]
  },
  {
   "cell_type": "code",
   "execution_count": null,
   "metadata": {},
   "outputs": [],
   "source": []
  },
  {
   "cell_type": "code",
   "execution_count": null,
   "metadata": {},
   "outputs": [],
   "source": []
  },
  {
   "cell_type": "code",
   "execution_count": null,
   "metadata": {},
   "outputs": [],
   "source": []
  },
  {
   "cell_type": "markdown",
   "metadata": {},
   "source": [
    "Alteramos a forma com [np.reshape()](https://numpy.org/doc/stable/reference/generated/numpy.reshape.html)"
   ]
  },
  {
   "cell_type": "code",
   "execution_count": null,
   "metadata": {},
   "outputs": [],
   "source": []
  },
  {
   "cell_type": "markdown",
   "metadata": {},
   "source": [
    "E criamos um arranjo com valores igualmente espaçados com [np.linspace()](https://numpy.org/doc/stable/reference/generated/numpy.linspace.html)"
   ]
  },
  {
   "cell_type": "code",
   "execution_count": null,
   "metadata": {},
   "outputs": [],
   "source": []
  },
  {
   "cell_type": "code",
   "execution_count": null,
   "metadata": {},
   "outputs": [],
   "source": []
  },
  {
   "cell_type": "markdown",
   "metadata": {},
   "source": [
    "Podemos encontrar os índices dos valores máximos de cada eixo de um arranjo, com a rotina [np.argmax()](https://numpy.org/doc/stable/reference/generated/numpy.argmax.html)"
   ]
  },
  {
   "cell_type": "code",
   "execution_count": null,
   "metadata": {},
   "outputs": [],
   "source": []
  },
  {
   "cell_type": "code",
   "execution_count": null,
   "metadata": {},
   "outputs": [],
   "source": []
  },
  {
   "cell_type": "markdown",
   "metadata": {},
   "source": [
    "Ou podemos testar se cada elemento de um aranjo é maior que um determinado valor de corte."
   ]
  },
  {
   "cell_type": "code",
   "execution_count": null,
   "metadata": {},
   "outputs": [],
   "source": []
  },
  {
   "cell_type": "code",
   "execution_count": null,
   "metadata": {},
   "outputs": [],
   "source": []
  },
  {
   "cell_type": "code",
   "execution_count": null,
   "metadata": {},
   "outputs": [],
   "source": []
  },
  {
   "cell_type": "markdown",
   "metadata": {},
   "source": [
    "É possível filtrar linhas e colunas com diferentes máscaras booleanas."
   ]
  },
  {
   "cell_type": "code",
   "execution_count": null,
   "metadata": {},
   "outputs": [],
   "source": []
  },
  {
   "cell_type": "code",
   "execution_count": null,
   "metadata": {},
   "outputs": [],
   "source": []
  },
  {
   "cell_type": "markdown",
   "metadata": {},
   "source": [
    "### Plots"
   ]
  },
  {
   "cell_type": "markdown",
   "metadata": {},
   "source": [
    "Com a biblioteca [matplotlib](https://matplotlib.org) é possível criar gráficos com arranjos."
   ]
  },
  {
   "cell_type": "code",
   "execution_count": 396,
   "metadata": {},
   "outputs": [
    {
     "data": {
      "text/plain": [
       "array([0, 1, 2, 3, 4])"
      ]
     },
     "execution_count": 396,
     "metadata": {},
     "output_type": "execute_result"
    }
   ],
   "source": [
    "x = np.arange(5)\n",
    "x"
   ]
  },
  {
   "cell_type": "code",
   "execution_count": 401,
   "metadata": {},
   "outputs": [
    {
     "data": {
      "text/plain": [
       "array([ 0.        ,  0.84147098,  0.90929743,  0.14112001, -0.7568025 ])"
      ]
     },
     "execution_count": 401,
     "metadata": {},
     "output_type": "execute_result"
    }
   ],
   "source": [
    "y = np.sin(x)\n",
    "y"
   ]
  },
  {
   "cell_type": "code",
   "execution_count": 403,
   "metadata": {},
   "outputs": [
    {
     "data": {
      "image/png": "[encoded data removed]",
      "text/plain": [
       "<Figure size 640x480 with 1 Axes>"
      ]
     },
     "metadata": {},
     "output_type": "display_data"
    }
   ],
   "source": [
    "plt.plot(x, y);"
   ]
  },
  {
   "cell_type": "markdown",
   "metadata": {},
   "source": [
    "É possível também plotar dados gerados por funções:\n",
    "\n",
    "\n",
    "- [np.meshgrid()](https://numpy.org/doc/stable/reference/generated/numpy.meshgrid.html): Retorna uma lista de matrizes de coordenadas de vetores de coordenadas.\n",
    "\n",
    "- [np.zeros_like()](https://numpy.org/doc/stable/reference/generated/numpy.zeros_like.html): Retorna uma matriz de zeros com a mesma forma e tipo de uma determinada matriz."
   ]
  },
  {
   "cell_type": "code",
   "execution_count": null,
   "metadata": {},
   "outputs": [],
   "source": []
  },
  {
   "cell_type": "code",
   "execution_count": null,
   "metadata": {},
   "outputs": [],
   "source": []
  },
  {
   "cell_type": "code",
   "execution_count": null,
   "metadata": {},
   "outputs": [],
   "source": []
  },
  {
   "cell_type": "markdown",
   "metadata": {},
   "source": [
    "É possível também estudar distribuições a partir de arranjos numpy e plots matplotlip.\n",
    "\n",
    "- [np.random.default_rng()](https://numpy.org/doc/stable/reference/random/generator.html): Constrói um gerador de valores aleatórios com o BitGenerator padrão.\n",
    "- [plt.hist()](https://matplotlib.org/stable/api/_as_gen/matplotlib.pyplot.hist.html): Calcula e traça um histograma.\n",
    "- [np.histogram()](https://numpy.org/doc/stable/reference/generated/numpy.histogram.html): Calcula o histograma de um conjunto de dados."
   ]
  },
  {
   "cell_type": "code",
   "execution_count": 408,
   "metadata": {},
   "outputs": [
    {
     "data": {
      "image/png": "[encoded data removed]",
      "text/plain": [
       "<Figure size 640x480 with 1 Axes>"
      ]
     },
     "metadata": {},
     "output_type": "display_data"
    }
   ],
   "source": [
    "rg = np.random.default_rng(1)\n",
    "\n",
    "mu , sigma = 0, 1.0\n",
    "v = rg.normal(mu, sigma, 10000)\n",
    "\n",
    "plt.hist(v, \n",
    "         bins = 50,\n",
    "         density = True);\n",
    "\n",
    "(n, bins) = np.histogram(\n",
    "    v,\n",
    "    bins = 50, \n",
    "    density = True\n",
    ")\n",
    "\n",
    "plt.plot(.5 * (bins[1 :] + bins[: -1]), n);"
   ]
  },
  {
   "cell_type": "code",
   "execution_count": null,
   "metadata": {},
   "outputs": [],
   "source": []
  }
 ],
 "metadata": {
  "kernelspec": {
   "display_name": "Python 3",
   "language": "python",
   "name": "python3"
  },
  "language_info": {
   "codemirror_mode": {
    "name": "ipython",
    "version": 3
   },
   "file_extension": ".py",
   "mimetype": "text/x-python",
   "name": "python",
   "nbconvert_exporter": "python",
   "pygments_lexer": "ipython3",
   "version": "3.9.6"
  }
 },
 "nbformat": 4,
 "nbformat_minor": 4
}
