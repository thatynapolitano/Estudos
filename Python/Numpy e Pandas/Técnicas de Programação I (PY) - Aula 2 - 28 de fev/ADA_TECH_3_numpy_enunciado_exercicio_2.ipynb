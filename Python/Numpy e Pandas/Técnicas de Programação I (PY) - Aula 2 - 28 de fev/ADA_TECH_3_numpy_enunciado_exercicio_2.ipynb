{
 "cells": [
  {
   "cell_type": "markdown",
   "metadata": {},
   "source": [
    "<img src='letscodebr_cover.jpeg' align='left' width=100%/>"
   ]
  },
  {
   "cell_type": "markdown",
   "metadata": {},
   "source": [
    "# Ada Tech [DS-PY-004] Técnicas de Programação I (PY) Aula 2 : Numoy - Enunciado do Exercício 2."
   ]
  },
  {
   "cell_type": "markdown",
   "metadata": {},
   "source": [
    "Para esse desafio usaremos um resumo do conjunto de dados [Kaggle](https://www.kaggle.com/kyanyoga/sample-sales-data) que contém dados de vendas:"
   ]
  },
  {
   "cell_type": "markdown",
   "metadata": {},
   "source": [
    "## Exercício 1\n",
    "\n",
    "Leer los datos del archivo /M1/CLASE_03_Numpy/Data/sales_data_sample_excercise.csv\n",
    "\n",
    "Este archivo tiene algunos datos numéricos y otros de tipo cadena de caracteres. \n",
    "\n",
    "Las columnas son:\n",
    "\n",
    "\n",
    "Leia os dados do arquivo `../Data/sales_data_sample_excercise.csv`, que contém alguns dados numéricos e alguns tipos de `string` de caracteres. A amostra contém dados de vendas, informações do pedido, vendas, cliente, remessa, etc., usados para segmentação, análise do cliente, clustering e outros. \n",
    "\n",
    "\n",
    "As colunas são:\n",
    "\n",
    "* `ORDERNUMBER`: `int`, id da orden de pedido\n",
    "\n",
    "* `SALES`: `float`, quantia paga\n",
    "\n",
    "* `MONTH_ID`: `int`, mês\n",
    "\n",
    "* `YEAR_ID`: `int`, ano\n",
    "\n",
    "* `PRODUCTLINE`: `str`, produto\n",
    "\n",
    "* `COUNTRY`: `str`, país de venda\n",
    "\n",
    "Lembre-se de que todos os elementos de uma instância `ndarray` devem ser do mesmo tipo. Portanto, vamos ler o arquivo e criar uma instância de `ndarray` do tipo `string`.\n",
    "\n",
    "O que aconteceria se tentássemos criar uma instância do tipo `int`? E do tipo `float`?"
   ]
  },
  {
   "cell_type": "code",
   "execution_count": null,
   "metadata": {},
   "outputs": [],
   "source": []
  },
  {
   "cell_type": "markdown",
   "metadata": {},
   "source": [
    "# Exercício 2 - Tipos\n",
    "\n",
    "Crie um arranjo de [tipo](https://docs.scipy.org/doc/numpy/reference/generated/numpy.ndarray.astype.html) numérico `float` que tenha a coluna `SALES` como valores e outro arranjo de tipo caracteres `str` que tenha a coluna `COUNTRY` como valores."
   ]
  },
  {
   "cell_type": "code",
   "execution_count": null,
   "metadata": {},
   "outputs": [],
   "source": []
  },
  {
   "cell_type": "markdown",
   "metadata": {},
   "source": [
    "## Exercício 3\n",
    "\n",
    "Qual foi o valor mínimo de uma venda? Qual foi o valor máximo?"
   ]
  },
  {
   "cell_type": "code",
   "execution_count": null,
   "metadata": {},
   "outputs": [],
   "source": []
  },
  {
   "cell_type": "markdown",
   "metadata": {},
   "source": [
    "## Exercício 4\n",
    "\n",
    "Quantas vendas foram feitas na Espanha?\n",
    "\n",
    "Dica: indexação booleana."
   ]
  },
  {
   "cell_type": "code",
   "execution_count": null,
   "metadata": {},
   "outputs": [],
   "source": []
  },
  {
   "cell_type": "markdown",
   "metadata": {},
   "source": [
    "## Exercício 5\n",
    "\n",
    "Qual a porcentagem das vendas realizadas na Espanha?"
   ]
  },
  {
   "cell_type": "code",
   "execution_count": null,
   "metadata": {},
   "outputs": [],
   "source": []
  },
  {
   "cell_type": "markdown",
   "metadata": {},
   "source": [
    "## Exercício 6\n",
    "\n",
    "Qual é o país do preço máximo de venda? Qual é o `id` dessa venda?\n",
    "\n",
    "Dica: indexação booleana"
   ]
  },
  {
   "cell_type": "code",
   "execution_count": null,
   "metadata": {},
   "outputs": [],
   "source": []
  },
  {
   "cell_type": "markdown",
   "metadata": {},
   "source": [
    "## Exercício 7\n",
    "\n",
    "Qual é o preço médio de venda na França? Qual é o desvio padrão?"
   ]
  },
  {
   "cell_type": "code",
   "execution_count": null,
   "metadata": {},
   "outputs": [],
   "source": []
  },
  {
   "cell_type": "markdown",
   "metadata": {},
   "source": [
    "## Exercício 8\n",
    "\n",
    "Qual foi o ano de maior desvio padrão nas vendas na França?\n",
    "\n",
    "Dica: Use o atributo [`.unique()`](https://docs.scipy.org/doc/numpy/reference/generated/numpy.unique.html)"
   ]
  },
  {
   "cell_type": "code",
   "execution_count": null,
   "metadata": {},
   "outputs": [],
   "source": []
  }
 ],
 "metadata": {
  "kernelspec": {
   "display_name": "Python 3",
   "language": "python",
   "name": "python3"
  },
  "language_info": {
   "codemirror_mode": {
    "name": "ipython",
    "version": 3
   },
   "file_extension": ".py",
   "mimetype": "text/x-python",
   "name": "python",
   "nbconvert_exporter": "python",
   "pygments_lexer": "ipython3",
   "version": "3.9.6"
  }
 },
 "nbformat": 4,
 "nbformat_minor": 4
}
