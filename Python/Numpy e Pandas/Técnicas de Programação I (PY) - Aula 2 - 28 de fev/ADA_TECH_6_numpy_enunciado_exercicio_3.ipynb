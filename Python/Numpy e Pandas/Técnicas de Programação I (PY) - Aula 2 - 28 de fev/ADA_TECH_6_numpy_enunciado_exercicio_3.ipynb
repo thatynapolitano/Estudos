{
 "cells": [
  {
   "cell_type": "markdown",
   "metadata": {
    "colab_type": "text",
    "id": "PQKTjwErEixI"
   },
   "source": [
    "<img src='letscodebr_cover.jpeg' align='left' width=100%/>"
   ]
  },
  {
   "cell_type": "markdown",
   "metadata": {},
   "source": [
    "# Ada Tech [DS-PY-004] Técnicas de Programação I (PY) Aula 2 : Numpy Enunciado do Exercício 3."
   ]
  },
  {
   "cell_type": "markdown",
   "metadata": {},
   "source": [
    "Execute a célula abaixo para carregar os pacotes exigidos"
   ]
  },
  {
   "cell_type": "code",
   "execution_count": 1,
   "metadata": {
    "colab": {
     "autoexec": {
      "startup": false,
      "wait_interval": 0
     }
    },
    "colab_type": "code",
    "id": "dXgEk8ZREixK"
   },
   "outputs": [],
   "source": [
    "import numpy as np\n",
    "import scipy.stats as stats\n",
    "import csv\n",
    "import seaborn as sns\n",
    "import pandas as pd\n",
    "%matplotlib inline"
   ]
  },
  {
   "cell_type": "markdown",
   "metadata": {
    "colab_type": "text",
    "id": "Mlc30RGuEixN"
   },
   "source": [
    "### Dados de vendas\n",
    "\n",
    "Para este laboratório, vamos usar uma versão resumida de um conjunto de dados que contém informações sobre as vendas de estabelecimentos econômicos que serão analisados em detalhes posteriormente.\n",
    "\n",
    "O `csv` tem cerca de $200$ linhas de dados e 4 colunas. O caminho especificado do csv `sales_info.csv` supõe que está no mesmo diretório que o presente notebook. Caso o tenha baixado em outro diretório, você deverá fazer referência de forma relativa ou absoluta (buscar linux path examples relativa/absoluta no Google)."
   ]
  },
  {
   "cell_type": "markdown",
   "metadata": {
    "colab_type": "text",
    "id": "QclwehDCEixO"
   },
   "source": [
    "Exercício 1 -  Use o método `read_csv` da biblioteca Pandas para criar um dataframe a partir do arquivo. "
   ]
  },
  {
   "cell_type": "code",
   "execution_count": null,
   "metadata": {
    "colab": {
     "autoexec": {
      "startup": false,
      "wait_interval": 0
     }
    },
    "colab_type": "code",
    "id": "8HEGsrJuEixO"
   },
   "outputs": [],
   "source": []
  },
  {
   "cell_type": "markdown",
   "metadata": {
    "colab_type": "text",
    "id": "b34YIk0sEixT"
   },
   "source": [
    "Exercício 2 -  Transforme a série em um array de numpy, use o método `np.array()` para transformar a série `volume_sold` do dataframe gerado em um `array` de `numpy`."
   ]
  },
  {
   "cell_type": "code",
   "execution_count": null,
   "metadata": {
    "colab": {
     "autoexec": {
      "startup": false,
      "wait_interval": 0
     }
    },
    "colab_type": "code",
    "id": "oQP2kBKMEixU"
   },
   "outputs": [],
   "source": []
  },
  {
   "cell_type": "markdown",
   "metadata": {
    "colab_type": "text",
    "id": "mLTN_PWUEixW"
   },
   "source": [
    "Exercício 3 - Imprima os 10 primeiros itens da coluna ```volume_sold``` usando o `array slicing`."
   ]
  },
  {
   "cell_type": "code",
   "execution_count": null,
   "metadata": {
    "colab": {
     "autoexec": {
      "startup": false,
      "wait_interval": 0
     }
    },
    "colab_type": "code",
    "id": "rcjCNebgEixX",
    "outputId": "0b9dc8eb-2885-4778-deb0-c9ef53ba1cb4"
   },
   "outputs": [],
   "source": []
  },
  {
   "cell_type": "markdown",
   "metadata": {
    "colab_type": "text",
    "id": "xMtaCQnHEixc"
   },
   "source": [
    "Exercício 4 - Imprimir o tipo de dado do array, utilize a propriedade dos arrays `dtype` para conhecer o tipo de dado do `array`"
   ]
  },
  {
   "cell_type": "code",
   "execution_count": null,
   "metadata": {
    "colab": {
     "autoexec": {
      "startup": false,
      "wait_interval": 0
     }
    },
    "colab_type": "code",
    "id": "yne8_krpEixc",
    "outputId": "53c5e463-06ad-4130-efd1-60fee458c5c4"
   },
   "outputs": [],
   "source": []
  },
  {
   "cell_type": "markdown",
   "metadata": {
    "colab_type": "text",
    "id": "9ExHhiYFEixg"
   },
   "source": [
    "Exercício 5 - Escreva uma função para imprimir as informações resumidas\n",
    "\n",
    "A função deve:\n",
    "\n",
    "- Usar dois parâmetros: o nome da coluna e os dados associados a essa coluna;\n",
    "\n",
    "- Imprimir as informações, indicando claramente de que se trata cada item impresso:\n",
    "\n",
    "    1. Imprimir o nome da coluna\n",
    "    2. Imprimir a média dos dados usando ```np.mean()```\n",
    "    3. Imprimir a mediana dos dados usando ```np.median()``` \n",
    "    4. Imprimir a moda dos dados arredondados usando ```stats.mode()```\n",
    "    5. Imprimir a variância dos dados usando ```np.var()```\n",
    "    6. Imprimir o desvio padrão dos dados usando ```np.std()```\n",
    "\n",
    "Levar em consideração que para poder imprimir, será necessário converter os valores numéricos retornados por essas funções em `strings`. Para isso, usar a função `str()`."
   ]
  },
  {
   "cell_type": "code",
   "execution_count": null,
   "metadata": {
    "colab": {
     "autoexec": {
      "startup": false,
      "wait_interval": 0
     }
    },
    "colab_type": "code",
    "id": "USLL6ML3Eixh"
   },
   "outputs": [],
   "source": []
  },
  {
   "cell_type": "markdown",
   "metadata": {
    "colab_type": "text",
    "id": "okB8b4AUEixj"
   },
   "source": [
    "Exercício 5a - Usando a função definida, imprimir as medidas para `volume_sold`."
   ]
  },
  {
   "cell_type": "code",
   "execution_count": null,
   "metadata": {
    "colab": {
     "autoexec": {
      "startup": false,
      "wait_interval": 0
     }
    },
    "colab_type": "code",
    "id": "D2RuiOsoEixk",
    "outputId": "b79c343f-65d8-4802-f839-63bfe7f061a5"
   },
   "outputs": [],
   "source": []
  },
  {
   "cell_type": "markdown",
   "metadata": {
    "colab_type": "text",
    "id": "9SWlGptHEixn"
   },
   "source": [
    "Exercício 5b - Usando a função definida, imprimir as medidas para `2015_margin`."
   ]
  },
  {
   "cell_type": "code",
   "execution_count": null,
   "metadata": {
    "colab": {
     "autoexec": {
      "startup": false,
      "wait_interval": 0
     }
    },
    "colab_type": "code",
    "id": "yvyqO0xjEixp",
    "outputId": "85355166-d17a-49ba-c7e1-a64a6768031a"
   },
   "outputs": [],
   "source": []
  },
  {
   "cell_type": "markdown",
   "metadata": {
    "colab_type": "text",
    "id": "xJZ0XH2GEixs"
   },
   "source": [
    "Exercício 5c - Usando a função definida, imprimir as medidas para `2015_q1_sales`."
   ]
  },
  {
   "cell_type": "code",
   "execution_count": null,
   "metadata": {
    "colab": {
     "autoexec": {
      "startup": false,
      "wait_interval": 0
     }
    },
    "colab_type": "code",
    "id": "oiX_kDooEixt",
    "outputId": "08f74916-d0f4-4534-8f55-2e7aa2796296"
   },
   "outputs": [],
   "source": []
  },
  {
   "cell_type": "markdown",
   "metadata": {
    "colab_type": "text",
    "id": "lqNcoBBYEixx"
   },
   "source": [
    "Exercício 5d - Usando a função definida, imprimir as medidas para `2016_q1_sales`."
   ]
  },
  {
   "cell_type": "code",
   "execution_count": null,
   "metadata": {
    "colab": {
     "autoexec": {
      "startup": false,
      "wait_interval": 0
     }
    },
    "colab_type": "code",
    "id": "q-tQI40rEixz",
    "outputId": "ea654047-3f7d-4da6-e960-99e57f872193"
   },
   "outputs": [],
   "source": []
  },
  {
   "cell_type": "markdown",
   "metadata": {
    "colab_type": "text",
    "id": "UvleOj7MEix3"
   },
   "source": [
    "Exercício 6 - Representar as distribuições graficamente.\n",
    "\n",
    "Mais abaixo, fornecemos uma função para representação gráfica chamada `distribution_plotter()`. Ela usa dois parâmetros: o nome da coluna e os dados associados a essa coluna.\n",
    "\n",
    "Em células individuais, representar graficamente as distribuições de cada uma das 4 colunas. Os dados são assimétricos ou simétricos?"
   ]
  },
  {
   "cell_type": "code",
   "execution_count": 2,
   "metadata": {
    "colab": {
     "autoexec": {
      "startup": false,
      "wait_interval": 0
     }
    },
    "colab_type": "code",
    "id": "6r_ExxcxEix4"
   },
   "outputs": [],
   "source": [
    "def distribution_plotter(column, data):\n",
    "    sns.set(rc = {\"figure.figsize\": (10, 7)})\n",
    "    sns.set_style(\"white\")\n",
    "    dist = sns.distplot(data, hist_kws = {'alpha':0.2}, kde_kws = {'linewidth':5})\n",
    "    dist.set_title('Distribuição de ' + column + '\\n', fontsize = 16)"
   ]
  },
  {
   "cell_type": "code",
   "execution_count": null,
   "metadata": {},
   "outputs": [],
   "source": []
  }
 ],
 "metadata": {
  "colab": {
   "default_view": {},
   "name": "LAB_Solution_Numpy_pt_br.ipynb",
   "provenance": [],
   "version": "0.3.2",
   "views": {}
  },
  "kernelspec": {
   "display_name": "Python 3",
   "language": "python",
   "name": "python3"
  },
  "language_info": {
   "codemirror_mode": {
    "name": "ipython",
    "version": 3
   },
   "file_extension": ".py",
   "mimetype": "text/x-python",
   "name": "python",
   "nbconvert_exporter": "python",
   "pygments_lexer": "ipython3",
   "version": "3.9.6"
  }
 },
 "nbformat": 4,
 "nbformat_minor": 4
}
