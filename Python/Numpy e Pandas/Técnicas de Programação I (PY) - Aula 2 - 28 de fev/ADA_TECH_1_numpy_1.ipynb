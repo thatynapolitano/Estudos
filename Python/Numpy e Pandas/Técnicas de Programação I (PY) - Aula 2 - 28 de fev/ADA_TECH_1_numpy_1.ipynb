{
 "cells": [
  {
   "cell_type": "markdown",
   "metadata": {
    "slideshow": {
     "slide_type": "skip"
    }
   },
   "source": [
    "<img src='letscodebr_cover.jpeg' align='left' width=100%/>"
   ]
  },
  {
   "cell_type": "markdown",
   "metadata": {
    "slideshow": {
     "slide_type": "slide"
    }
   },
   "source": [
    "# Ada Tech [DS-PY-004] Técnicas de Programação I (PY) Aula 2 : Numpy 1."
   ]
  },
  {
   "cell_type": "markdown",
   "metadata": {
    "slideshow": {
     "slide_type": "slide"
    },
    "toc-hr-collapsed": false
   },
   "source": [
    "## Numpy Array"
   ]
  },
  {
   "cell_type": "markdown",
   "metadata": {
    "slideshow": {
     "slide_type": "slide"
    }
   },
   "source": [
    "<a id=\"section_intro\"></a> \n",
    "###  Intro\n",
    "\n",
    "Um [arranjo](https://machinelearningmastery.com/gentle-introduction-n-dimensional-arrays-python-numpy/) é uma estrutura de dados que permite agrupar vários valores ou elementos em uma única variável (um único nome).\n",
    "\n",
    "Os elementos de um arranjo são todos do mesmo tipo (ao contrário das listas Python).\n",
    "\n",
    "Matrizes unidimensionais e bidimensionais têm nomes próprios:\n",
    "\n",
    "* uma matriz unidimensional é um **vetor**\n",
    "\n",
    "* uma matriz bidimensional é uma **tabela** ou **matriz**\n",
    "\n",
    "Matrizes de três ou mais dimensões são chamadas de [n-dimensionais](https://numpy.org/doc/stable/reference/arrays.ndarray.html).\n",
    "\n",
    "<img src='img/numpy.jpg' align='left' width=50%/>\n",
    "---"
   ]
  },
  {
   "cell_type": "markdown",
   "metadata": {
    "slideshow": {
     "slide_type": "skip"
    }
   },
   "source": [
    "<a id=\"section_constructor\"></a> \n",
    "### Construtor\n",
    "\n",
    "Vamos começar criando arranjos com a função [`numpy.array`](https://docs.scipy.org/doc/numpy/reference/generated/numpy.array.html), a maneira mais simples de [construir](https://numpy.org/doc/stable/user/basics.creation.html) uma arranjo é usar o construtor com um único parâmetro `numpy.array(objeto)`, onde 'objeto' é uma coleção de elementos."
   ]
  },
  {
   "cell_type": "markdown",
   "metadata": {
    "slideshow": {
     "slide_type": "skip"
    }
   },
   "source": [
    "Vejamos un exemplo:"
   ]
  },
  {
   "cell_type": "code",
   "execution_count": 1,
   "metadata": {
    "slideshow": {
     "slide_type": "skip"
    }
   },
   "outputs": [],
   "source": [
    "import numpy as np"
   ]
  },
  {
   "cell_type": "code",
   "execution_count": 2,
   "metadata": {
    "slideshow": {
     "slide_type": "skip"
    }
   },
   "outputs": [
    {
     "name": "stdout",
     "output_type": "stream",
     "text": [
      "[1 4 2 5 3]\n"
     ]
    }
   ],
   "source": [
    "# Lista de python\n",
    "python_list = [1, 4, 2, 5, 3]\n",
    "\n",
    "# Arranjo (array) de inteiros instanciados de uma lista:\n",
    "my_numpy_array = np.array(python_list)\n",
    "\n",
    "# Imprimimos o arranjo numpy criado\n",
    "print(my_numpy_array)"
   ]
  },
  {
   "cell_type": "markdown",
   "metadata": {
    "slideshow": {
     "slide_type": "slide"
    }
   },
   "source": [
    "<a id=\"section_metodos_creacion\"></a> \n",
    "### Métodos para a criação de arranjos\n",
    "\n",
    "Existem algumas [rotinas](https://docs.scipy.org/doc/numpy/reference/routines.array-creation.html) de criação de arranjos.  \n",
    "\n",
    "A biblioteca [Numpy](https://numpy.org/) fornece [métodos](https://towardsdatascience.com/the-ten-best-ways-to-create-numpy-arrays-8b1029a972a7) para criar e inicializar matrizes com certas características.\n",
    "\n",
    "[Podemos](https://medium.com/ensina-ai/entendendo-a-biblioteca-numpy-4858fde63355) criar matrizes vazias, de zeros, de uns, com uma sequência, de valores aleatórios, de valores que seguem uma determinada distribuição."
   ]
  },
  {
   "cell_type": "markdown",
   "metadata": {
    "slideshow": {
     "slide_type": "skip"
    }
   },
   "source": [
    "A seguir vamos ver um exemplo de alguns deles."
   ]
  },
  {
   "cell_type": "markdown",
   "metadata": {
    "slideshow": {
     "slide_type": "skip"
    }
   },
   "source": [
    "<a id=\"section_metodos_creacion_empty\"></a> \n",
    "#### Arranjo vazio\n",
    "\n",
    "Podemos criar um arranjo vazio com a função [`numpy.empty`](https://docs.scipy.org/doc/numpy/reference/generated/numpy.empty.html), que retorna um novo arranjo com a forma e o tipo fornecidos, sem inicializar as entradas.\n",
    "\n",
    "Recebe como parâmetros: as dimensões do arranjo a ser criado como uma tupla e o tipo de dados de seus elementos.\n",
    "\n",
    "Retorna uma nova matriz com as dimensões especificadas na tupla, que é o primeiro parâmetro, **sem inicializar seus elementos**: \n",
    "\n",
    "`numpy.empty (shape, dtype = float)`."
   ]
  },
  {
   "cell_type": "code",
   "execution_count": 3,
   "metadata": {
    "slideshow": {
     "slide_type": "skip"
    }
   },
   "outputs": [
    {
     "data": {
      "text/plain": [
       "array([[0, 0],\n",
       "       [0, 0]])"
      ]
     },
     "execution_count": 3,
     "metadata": {},
     "output_type": "execute_result"
    }
   ],
   "source": [
    "np.empty((2, 2), \n",
    "         dtype = int\n",
    "        )"
   ]
  },
  {
   "cell_type": "code",
   "execution_count": 4,
   "metadata": {
    "slideshow": {
     "slide_type": "skip"
    }
   },
   "outputs": [
    {
     "data": {
      "text/plain": [
       "array([[3.],\n",
       "       [2.],\n",
       "       [1.]])"
      ]
     },
     "execution_count": 4,
     "metadata": {},
     "output_type": "execute_result"
    }
   ],
   "source": [
    "np.empty((3, 1), \n",
    "         dtype = float\n",
    "        )"
   ]
  },
  {
   "cell_type": "code",
   "execution_count": 5,
   "metadata": {
    "slideshow": {
     "slide_type": "skip"
    }
   },
   "outputs": [
    {
     "data": {
      "text/plain": [
       "array([[ True,  True,  True]])"
      ]
     },
     "execution_count": 5,
     "metadata": {},
     "output_type": "execute_result"
    }
   ],
   "source": [
    "np.empty((1, 3), \n",
    "         dtype = bool\n",
    "        )"
   ]
  },
  {
   "cell_type": "markdown",
   "metadata": {},
   "source": [
    "Qual elemento da tupla indica o número de linhas?"
   ]
  },
  {
   "cell_type": "markdown",
   "metadata": {
    "slideshow": {
     "slide_type": "skip"
    }
   },
   "source": [
    "<a id=\"section_metodos_creacion_zeros\"></a> \n",
    "#### Arranjos de zeros\n",
    "\n",
    "Veremos como instanciar um arranjo de zeros com as dimensões especificadas, usaremos o método [`numpy.zeros`](https://docs.scipy.org/doc/numpy/reference/generated/numpy.zeros.html#numpy.zeros), que retorna um novo arranjo de forma e tipo fornecidos, preenchida com zeros.\n",
    "\n",
    "Recebe como parâmetros: as dimensões do arranjo a ser criado como uma tupla e o tipo de dados de seus elementos: `numpy.zeros (shape, dtype = float)`."
   ]
  },
  {
   "cell_type": "code",
   "execution_count": 6,
   "metadata": {
    "slideshow": {
     "slide_type": "skip"
    }
   },
   "outputs": [
    {
     "data": {
      "text/plain": [
       "array([0, 0, 0, 0, 0, 0, 0, 0, 0, 0])"
      ]
     },
     "execution_count": 6,
     "metadata": {},
     "output_type": "execute_result"
    }
   ],
   "source": [
    "np.zeros(10, \n",
    "         dtype = int\n",
    "        )"
   ]
  },
  {
   "cell_type": "code",
   "execution_count": 7,
   "metadata": {
    "slideshow": {
     "slide_type": "skip"
    }
   },
   "outputs": [
    {
     "data": {
      "text/plain": [
       "array([[0., 0.],\n",
       "       [0., 0.],\n",
       "       [0., 0.],\n",
       "       [0., 0.],\n",
       "       [0., 0.],\n",
       "       [0., 0.],\n",
       "       [0., 0.],\n",
       "       [0., 0.],\n",
       "       [0., 0.],\n",
       "       [0., 0.]])"
      ]
     },
     "execution_count": 7,
     "metadata": {},
     "output_type": "execute_result"
    }
   ],
   "source": [
    "np.zeros((10, 2), \n",
    "         dtype = float\n",
    "        )"
   ]
  },
  {
   "cell_type": "code",
   "execution_count": 8,
   "metadata": {
    "slideshow": {
     "slide_type": "skip"
    }
   },
   "outputs": [
    {
     "data": {
      "text/plain": [
       "array([['', ''],\n",
       "       ['', ''],\n",
       "       ['', ''],\n",
       "       ['', ''],\n",
       "       ['', ''],\n",
       "       ['', ''],\n",
       "       ['', ''],\n",
       "       ['', ''],\n",
       "       ['', ''],\n",
       "       ['', '']], dtype='<U1')"
      ]
     },
     "execution_count": 8,
     "metadata": {},
     "output_type": "execute_result"
    }
   ],
   "source": [
    "np.zeros((10, 2), \n",
    "         dtype = str\n",
    "        )"
   ]
  },
  {
   "cell_type": "markdown",
   "metadata": {},
   "source": [
    "Observe as diferenças nos resultados das duas últimas instruções, onde apenas mudamos o tipo de dados dos elementos do arranjo."
   ]
  },
  {
   "cell_type": "markdown",
   "metadata": {},
   "source": [
    "Instanciamos um objeto `dtype`:"
   ]
  },
  {
   "cell_type": "code",
   "execution_count": 9,
   "metadata": {
    "slideshow": {
     "slide_type": "skip"
    }
   },
   "outputs": [],
   "source": [
    "dt_array_item = np.dtype('<U1')"
   ]
  },
  {
   "cell_type": "markdown",
   "metadata": {
    "slideshow": {
     "slide_type": "skip"
    }
   },
   "source": [
    "Com `dt_array_item.type` vemos o tipo usado para instanciar o `dt_array_item`."
   ]
  },
  {
   "cell_type": "code",
   "execution_count": 10,
   "metadata": {
    "slideshow": {
     "slide_type": "skip"
    }
   },
   "outputs": [
    {
     "data": {
      "text/plain": [
       "numpy.str_"
      ]
     },
     "execution_count": 10,
     "metadata": {},
     "output_type": "execute_result"
    }
   ],
   "source": [
    "dt_array_item.type"
   ]
  },
  {
   "cell_type": "markdown",
   "metadata": {
    "slideshow": {
     "slide_type": "skip"
    }
   },
   "source": [
    "Portanto, dtype = '<U1' indica que os itens do arranjo de resultados são do tipo `numpy.str_` (string de caracteres)"
   ]
  },
  {
   "cell_type": "markdown",
   "metadata": {
    "slideshow": {
     "slide_type": "skip"
    }
   },
   "source": [
    "<a id=\"section_metodos_creacion_ones\"></a> \n",
    "#### Arranjo de uns\n",
    "\n",
    "Agora veremos como instanciar um arranjo de uma das dimensões especificadas.\n",
    "\n",
    "O método [`numpy.ones`](https://docs.scipy.org/doc/numpy/reference/generated/numpy.ones.html) retorna um arranjo de dado formato e tipo, preenchida com uns.\n",
    "\n",
    "Recebe como parâmetros: as dimensões do arranjo a ser criado como uma tupla e o tipo de dados de seus elementos: `numpy.ones(shape, dtype=float)`"
   ]
  },
  {
   "cell_type": "code",
   "execution_count": 11,
   "metadata": {
    "slideshow": {
     "slide_type": "skip"
    }
   },
   "outputs": [
    {
     "data": {
      "text/plain": [
       "array([[1, 1],\n",
       "       [1, 1],\n",
       "       [1, 1],\n",
       "       [1, 1],\n",
       "       [1, 1],\n",
       "       [1, 1],\n",
       "       [1, 1],\n",
       "       [1, 1],\n",
       "       [1, 1],\n",
       "       [1, 1]])"
      ]
     },
     "execution_count": 11,
     "metadata": {},
     "output_type": "execute_result"
    }
   ],
   "source": [
    "np.ones((10, 2), \n",
    "        dtype = int\n",
    "       )"
   ]
  },
  {
   "cell_type": "code",
   "execution_count": 12,
   "metadata": {
    "slideshow": {
     "slide_type": "skip"
    }
   },
   "outputs": [
    {
     "data": {
      "text/plain": [
       "array([[1., 1.],\n",
       "       [1., 1.],\n",
       "       [1., 1.],\n",
       "       [1., 1.],\n",
       "       [1., 1.],\n",
       "       [1., 1.],\n",
       "       [1., 1.],\n",
       "       [1., 1.],\n",
       "       [1., 1.],\n",
       "       [1., 1.]])"
      ]
     },
     "execution_count": 12,
     "metadata": {},
     "output_type": "execute_result"
    }
   ],
   "source": [
    "np.ones((10, 2), \n",
    "        dtype = float\n",
    "       )"
   ]
  },
  {
   "cell_type": "code",
   "execution_count": 13,
   "metadata": {
    "slideshow": {
     "slide_type": "skip"
    }
   },
   "outputs": [
    {
     "data": {
      "text/plain": [
       "array([['1', '1'],\n",
       "       ['1', '1'],\n",
       "       ['1', '1'],\n",
       "       ['1', '1'],\n",
       "       ['1', '1'],\n",
       "       ['1', '1'],\n",
       "       ['1', '1'],\n",
       "       ['1', '1'],\n",
       "       ['1', '1'],\n",
       "       ['1', '1']], dtype='<U1')"
      ]
     },
     "execution_count": 13,
     "metadata": {},
     "output_type": "execute_result"
    }
   ],
   "source": [
    "np.ones((10, 2), \n",
    "        dtype = str\n",
    "       )"
   ]
  },
  {
   "cell_type": "markdown",
   "metadata": {},
   "source": [
    "Observe as diferenças nos três resultados, onde apenas alteramos o tipo de dados dos elementos do arranjo."
   ]
  },
  {
   "cell_type": "markdown",
   "metadata": {
    "slideshow": {
     "slide_type": "slide"
    }
   },
   "source": [
    "<a id=\"section_metodos_creacion_normal\"></a> \n",
    "#### Arranjo de valores aleatórios com distribuição normal\n",
    "\n",
    "Agora veremos como instanciar um arranjo de números aleatórios que segue uma distribuição normal.\n",
    "\n",
    "Usaremos as funções [`Random sampling (numpy.random)`](https://docs.scipy.org/doc/numpy/reference/random/index.html), [`Random Generator`](https://docs.scipy.org/doc/numpy/reference/random/generator.html) e [`random.Generator.normal()`](https://docs.scipy.org/doc/numpy/reference/random/generated/numpy.random.Generator.normal.html#numpy.random.Generator.normal), para gerar valores aleatórios.\n",
    "\n",
    "O método que gera números aleatórios com distribuição normal recebe como parâmetros: a média, o desvio padrão e as dimensões do arranjo de saída:\n",
    "\n",
    "`Generator.normal(loc=0.0, scale=1.0, size=None)`\n",
    "\n",
    "Criamos uma instância do [`Generator`](https://albertcthomas.github.io/good-practices-random-number-generators/) padrão:"
   ]
  },
  {
   "cell_type": "code",
   "execution_count": 14,
   "metadata": {
    "slideshow": {
     "slide_type": "subslide"
    }
   },
   "outputs": [],
   "source": [
    "random_generator = np.random.default_rng()"
   ]
  },
  {
   "cell_type": "markdown",
   "metadata": {
    "slideshow": {
     "slide_type": "subslide"
    }
   },
   "source": [
    "Agora geramos 12 números com distribuição normal de média $0$ e desvio padrão $1$:"
   ]
  },
  {
   "cell_type": "code",
   "execution_count": 15,
   "metadata": {
    "slideshow": {
     "slide_type": "subslide"
    }
   },
   "outputs": [
    {
     "data": {
      "text/plain": [
       "array([-0.6518468 ,  1.02741135,  0.61698577,  2.13851497,  0.34250437,\n",
       "        0.29270536, -0.4475033 , -0.94719772,  0.53319594, -0.09832667,\n",
       "        0.46402386, -0.48389159])"
      ]
     },
     "execution_count": 15,
     "metadata": {},
     "output_type": "execute_result"
    }
   ],
   "source": [
    "random_generator.normal(loc = 0, \n",
    "                        scale = 1, \n",
    "                        size = 12\n",
    "                       )"
   ]
  },
  {
   "cell_type": "markdown",
   "metadata": {
    "slideshow": {
     "slide_type": "subslide"
    }
   },
   "source": [
    "Agora geramos uma matriz de $16$ linhas e $4$ colunas com números com distribuição normal de média $0$ e desvio padrão $1$:"
   ]
  },
  {
   "cell_type": "code",
   "execution_count": 16,
   "metadata": {
    "slideshow": {
     "slide_type": "subslide"
    }
   },
   "outputs": [
    {
     "data": {
      "text/plain": [
       "array([[-1.34658297e+00,  1.11675716e-01, -1.45097314e+00,\n",
       "        -9.97208458e-01],\n",
       "       [-1.11527385e-01, -9.39701060e-01, -5.67268693e-01,\n",
       "        -5.42989502e-01],\n",
       "       [-1.77012122e+00, -1.31306864e+00,  2.77160082e-01,\n",
       "        -6.21207921e-01],\n",
       "       [-7.92702968e-01,  1.74731511e+00, -4.41653882e-01,\n",
       "        -1.51601632e-01],\n",
       "       [ 6.12829006e-01, -2.79684068e+00, -1.68007299e-01,\n",
       "        -8.70438432e-01],\n",
       "       [ 8.76374217e-01, -6.05648501e-01,  4.54898296e-01,\n",
       "         1.74329508e-01],\n",
       "       [ 6.09998677e-01, -6.24880330e-01,  9.71616940e-01,\n",
       "         1.16009546e+00],\n",
       "       [-4.02139737e-01, -4.54857640e-01,  1.71255121e+00,\n",
       "        -8.61619302e-01],\n",
       "       [-8.01946369e-01, -8.47148511e-01,  7.15962739e-01,\n",
       "        -1.54301459e+00],\n",
       "       [ 1.19886739e+00,  4.45695556e-01,  6.81794988e-01,\n",
       "        -8.19070161e-01],\n",
       "       [ 9.92375012e-01, -1.31067495e+00,  3.36184446e-02,\n",
       "         1.79992816e+00],\n",
       "       [ 6.02924109e-01,  4.29872146e-01, -2.09001223e-03,\n",
       "         9.66137122e-01],\n",
       "       [-1.67990767e+00, -4.05108122e-01,  4.12513752e-01,\n",
       "        -1.25045277e+00],\n",
       "       [ 3.21875882e-01, -2.33413011e+00,  5.62233999e-01,\n",
       "         2.23992914e-01],\n",
       "       [-4.93580931e-01, -4.39497629e-01,  1.58082487e+00,\n",
       "         2.26653859e-01],\n",
       "       [ 7.00382503e-01, -1.35103736e+00,  1.77069248e-01,\n",
       "         1.23260508e+00]])"
      ]
     },
     "execution_count": 16,
     "metadata": {},
     "output_type": "execute_result"
    }
   ],
   "source": [
    "random_generator.normal(0, 1, size = (16, 4))"
   ]
  },
  {
   "cell_type": "markdown",
   "metadata": {
    "slideshow": {
     "slide_type": "slide"
    }
   },
   "source": [
    "Observe que cada vez que executamos esta linha `random_generator.normal (loc = 0, scale = 1, size = 12)` obtemos valores diferentes para os elementos do arranjo.\n",
    "\n",
    "Tente executá-lo três ou quatro vezes ...\n",
    "\n",
    "O mesmo ocorre coo `random_generator.normal(0, 1, size = (16,4))`.\n",
    "\n",
    "Se quisermos obter o mesmo resultado em todas as execuções, devemos inicializar a semente do gerador de números aleatórios.\n",
    "\n",
    "Para isso, inicializamos a instância `Generator` com um [semente](https://www.sharpsightlabs.com/blog/numpy-random-seed/) qualquer, mas fixa:"
   ]
  },
  {
   "cell_type": "code",
   "execution_count": 17,
   "metadata": {
    "slideshow": {
     "slide_type": "subslide"
    }
   },
   "outputs": [],
   "source": [
    "seed_cualquier_numero = 2843\n",
    "random_generator_seed = np.random.default_rng(seed_cualquier_numero)"
   ]
  },
  {
   "cell_type": "markdown",
   "metadata": {
    "slideshow": {
     "slide_type": "slide"
    }
   },
   "source": [
    "E agora vamos executar as mesmas linhas que testamos acima várias vezes, usando o objeto `random_generator_seed` inicializado com uma determinada semente:"
   ]
  },
  {
   "cell_type": "code",
   "execution_count": 18,
   "metadata": {
    "slideshow": {
     "slide_type": "skip"
    }
   },
   "outputs": [
    {
     "data": {
      "text/plain": [
       "array([ 0.770969  ,  0.33288743, -0.7145752 ,  0.05428423, -1.44839055,\n",
       "        0.05562249,  0.04235933, -1.06432701,  3.23668651, -2.61427606,\n",
       "        0.17057975, -0.11374496])"
      ]
     },
     "execution_count": 18,
     "metadata": {},
     "output_type": "execute_result"
    }
   ],
   "source": [
    "random_generator_seed = np.random.default_rng(seed_cualquier_numero)\n",
    "random_generator_seed.normal(loc = 0, \n",
    "                             scale = 1, \n",
    "                             size = 12\n",
    "                            )"
   ]
  },
  {
   "cell_type": "code",
   "execution_count": 19,
   "metadata": {
    "slideshow": {
     "slide_type": "skip"
    }
   },
   "outputs": [
    {
     "data": {
      "text/plain": [
       "array([[ 0.770969  ,  0.33288743, -0.7145752 ,  0.05428423],\n",
       "       [-1.44839055,  0.05562249,  0.04235933, -1.06432701],\n",
       "       [ 3.23668651, -2.61427606,  0.17057975, -0.11374496],\n",
       "       [ 1.5431114 , -0.2433953 ,  0.54422367,  0.83475881],\n",
       "       [ 0.04301992, -0.63558257, -0.16046816,  1.64470349],\n",
       "       [ 1.33297402, -0.99626982, -1.29590249, -0.61893616],\n",
       "       [-0.22066461,  0.22727611, -1.38125624,  0.04929038],\n",
       "       [ 0.63748133, -0.19561326,  0.5938797 ,  1.53733473],\n",
       "       [-0.27605803,  0.16768242,  0.44111193, -0.07839599],\n",
       "       [ 0.98677009,  0.94900021, -1.19024724, -0.91697433],\n",
       "       [-0.62741927,  2.1939412 , -1.0684962 , -1.79228955],\n",
       "       [ 1.07398541,  1.96988692,  0.3815075 , -0.52205868],\n",
       "       [ 1.33797156, -0.65238485, -0.74753246,  0.20865684],\n",
       "       [ 0.99353863,  1.16058088,  1.36554724,  0.07186766],\n",
       "       [ 1.79045939, -2.00201905, -0.5718638 ,  0.69506072],\n",
       "       [-0.06683168, -0.74753465, -0.7760167 ,  0.4493421 ]])"
      ]
     },
     "execution_count": 19,
     "metadata": {},
     "output_type": "execute_result"
    }
   ],
   "source": [
    "random_generator_seed = np.random.default_rng(seed_cualquier_numero)\n",
    "random_generator_seed.normal(0, 1, size = (16, 4))"
   ]
  },
  {
   "cell_type": "markdown",
   "metadata": {
    "slideshow": {
     "slide_type": "skip"
    }
   },
   "source": [
    "Você notou que agora **não muda** o resultado em cada execução?"
   ]
  },
  {
   "cell_type": "markdown",
   "metadata": {
    "slideshow": {
     "slide_type": "skip"
    }
   },
   "source": [
    "<a id=\"section_atributos\"></a> \n",
    "### Atributos\n",
    "\n",
    "Vamos estudar alguns [atributos](https://docs.scipy.org/doc/numpy/reference/arrays.ndarray.html#array-attributes) dos arranjos Numpy.\n",
    "\n",
    "Vamos agora ver exemplos de [atributos](https://www.tutorialspoint.com/numpy/numpy_array_attributes.htm) de um arranjo tridimensional, com números aleatórios de distribuição uniforme de tamanho 3 * 4 * 5\n",
    "\n",
    "Usaremos um [generador](https://docs.scipy.org/doc/numpy/reference/random/generated/numpy.random.Generator.uniform.html#numpy.random.Generator.uniform) de números aleatórios com distribuição uniforme:"
   ]
  },
  {
   "cell_type": "code",
   "execution_count": 20,
   "metadata": {
    "slideshow": {
     "slide_type": "skip"
    }
   },
   "outputs": [
    {
     "data": {
      "text/plain": [
       "array([[[32.88947629, 16.94855803, 42.83670351, 30.25105684,\n",
       "         28.20491852],\n",
       "        [25.18521523, 40.18344021, 34.34396248, 49.42877817,\n",
       "         25.9067247 ],\n",
       "        [49.96435545, 39.05367532, 25.72967186, 40.81169652,\n",
       "         14.0724828 ],\n",
       "        [41.55501295, 21.67492545, 22.49339028, 25.49163559,\n",
       "         26.50349253]],\n",
       "\n",
       "       [[40.72705982, 28.63930892, 18.02914832, 27.35671068,\n",
       "         38.97125442],\n",
       "        [16.66917961, 46.25005127, 30.72094445, 48.47205286,\n",
       "         15.6034732 ],\n",
       "        [11.79424167, 40.67551164, 21.90868009, 19.00439909,\n",
       "         23.67958317],\n",
       "        [10.55338987, 35.92638548, 15.26580613, 12.67264131,\n",
       "         37.95862821]],\n",
       "\n",
       "       [[24.33023875, 49.46354377, 48.15236324, 14.74696516,\n",
       "         23.94498762],\n",
       "        [19.34227574, 12.22724432, 13.35657914, 42.88661071,\n",
       "         26.11646608],\n",
       "        [29.62041973, 17.17235157, 36.46619752, 31.23546738,\n",
       "         17.94252221],\n",
       "        [38.58722823, 19.18467869, 35.2361267 , 34.25595785,\n",
       "         28.76845958]]])"
      ]
     },
     "execution_count": 20,
     "metadata": {},
     "output_type": "execute_result"
    }
   ],
   "source": [
    "random_generator_seed = np.random.default_rng(seed_cualquier_numero)\n",
    "\n",
    "low = 10 #inclui o limite inferior\n",
    "high = 50 # não inclui o limite superior\n",
    "size = (3, 4, 5)\n",
    "\n",
    "array_3D = random_generator_seed.uniform(low, high, size)\n",
    "array_3D"
   ]
  },
  {
   "cell_type": "markdown",
   "metadata": {
    "slideshow": {
     "slide_type": "slide"
    }
   },
   "source": [
    "<a id=\"section_atributos_ndim\"></a> \n",
    "#### ndim\n",
    "\n",
    "O atributo `.ndim` fornece o número de dimensões do arranjo."
   ]
  },
  {
   "cell_type": "code",
   "execution_count": 21,
   "metadata": {},
   "outputs": [
    {
     "data": {
      "text/plain": [
       "3"
      ]
     },
     "execution_count": 21,
     "metadata": {},
     "output_type": "execute_result"
    }
   ],
   "source": [
    "array_3D.ndim"
   ]
  },
  {
   "cell_type": "markdown",
   "metadata": {
    "slideshow": {
     "slide_type": "slide"
    }
   },
   "source": [
    "<a id=\"section_atributos_shape\"></a> \n",
    "#### shape\n",
    "\n",
    "O atributo `.shape` retorna uma tupla com as dimensões do arranjo."
   ]
  },
  {
   "cell_type": "code",
   "execution_count": 22,
   "metadata": {},
   "outputs": [
    {
     "data": {
      "text/plain": [
       "(3, 4, 5)"
      ]
     },
     "execution_count": 22,
     "metadata": {},
     "output_type": "execute_result"
    }
   ],
   "source": [
    "array_3D.shape"
   ]
  },
  {
   "cell_type": "code",
   "execution_count": 23,
   "metadata": {},
   "outputs": [
    {
     "data": {
      "text/plain": [
       "tuple"
      ]
     },
     "execution_count": 23,
     "metadata": {},
     "output_type": "execute_result"
    }
   ],
   "source": [
    "type(array_3D.shape)"
   ]
  },
  {
   "cell_type": "markdown",
   "metadata": {},
   "source": [
    "> Observação: `len(array_3D.shape) == array_3D.ndim`"
   ]
  },
  {
   "cell_type": "markdown",
   "metadata": {
    "slideshow": {
     "slide_type": "slide"
    }
   },
   "source": [
    "<a id=\"section_atributos_size\"></a> \n",
    "#### size\n",
    "\n",
    "O atributo `.size` retorna a quantidade de elementos no arranjo."
   ]
  },
  {
   "cell_type": "code",
   "execution_count": 24,
   "metadata": {},
   "outputs": [
    {
     "data": {
      "text/plain": [
       "60"
      ]
     },
     "execution_count": 24,
     "metadata": {},
     "output_type": "execute_result"
    }
   ],
   "source": [
    "array_3D.size"
   ]
  },
  {
   "cell_type": "markdown",
   "metadata": {},
   "source": [
    "> Observação: `np.prod(array_3D.shape) == array_3D.size`\n",
    ">\n",
    "> `np.prod` multiplica todos os elementos na tupla"
   ]
  },
  {
   "cell_type": "markdown",
   "metadata": {
    "slideshow": {
     "slide_type": "slide"
    }
   },
   "source": [
    "<a id=\"section_atributos_dtype\"></a> \n",
    "#### dtype\n",
    "\n",
    "O atributo `.dtype` nos mostra o tipo de dados dos elementos que compõem o arranjo."
   ]
  },
  {
   "cell_type": "code",
   "execution_count": 25,
   "metadata": {},
   "outputs": [
    {
     "data": {
      "text/plain": [
       "dtype('float64')"
      ]
     },
     "execution_count": 25,
     "metadata": {},
     "output_type": "execute_result"
    }
   ],
   "source": [
    "array_3D.dtype"
   ]
  },
  {
   "cell_type": "markdown",
   "metadata": {
    "slideshow": {
     "slide_type": "slide"
    }
   },
   "source": [
    "<a id=\"section_indexing\"></a> \n",
    "### Indexing\n",
    "\n",
    "Um problema comum é o de selecionar os elementos de um arranjo, criteriosamente. Chamamos de [\"indexação\"](https://numpy.org/doc/stable/user/basics.indexing.html) a operação que resolve o problema de acesso aos elementos de um arranjo.\n",
    "\n",
    "Selecionar criteriosamente os elementos de um arranjo é o problema resolvido pela [indexação](https://numpy.org/devdocs/user/basics.indexing.html), que reconhece os elementos de um arranjo de acordo com critérios aplicados. Existem três tipos de [indexação](https://towardsdatascience.com/numpy-indexing-explained-c376abb2440d) no Numpy:\n",
    "\n",
    "\n",
    "* **Array Slicing**: Acessamos os elementos com os parâmetros start, stop, step: `my_array [0: 5: -1]`.\n",
    "\n",
    "* **Fancy Indexing**: Criamos uma lista de índices e a usamos para acessar certos elementos do arranjo: `my_array[[3,5,7,8]]`.\n",
    "\n",
    "* **Boolean Indexing**: criamos uma \"máscara booleana\" (um arranjo ou lista de `True` e `False`) para acessar certos elementos: `my_array[my_array > 4]`."
   ]
  },
  {
   "cell_type": "markdown",
   "metadata": {},
   "source": [
    "<a id=\"section_indexing_slicing\"></a>\n",
    "#### Array Slicing \n",
    "\n",
    "##### Slicing sobre uma dimensão\n",
    "\n",
    "O [slicing](https://wbuchmueller.medium.com/numpys-indexing-and-slicing-notation-explained-visually-67dc981c22c1) (fatiamento) é semelhante às listas python `[start: stop: step]`.\n",
    "\n",
    "O índice `stop` não está incluído, mas o `start` está incluído. Por exemplo, `[1 : 3]` inclui o índice $1$, mas não $3$. Funciona como um intervalo semifechado $[1 , 3)$.\n",
    "\n",
    "\n",
    "<img src='img/numpy_indexing.jpg' align='center' width=40%/>"
   ]
  },
  {
   "cell_type": "markdown",
   "metadata": {
    "slideshow": {
     "slide_type": "skip"
    }
   },
   "source": [
    "Vejamos alguns exemplos:\n",
    "\n",
    "Criamos uma arranjo unidimensional usando o método [`np.arange`](https://numpy.org/doc/stable/reference/generated/numpy.arange.html) que retorna valores uniformemente espaçados dentro de um determinado intervalo."
   ]
  },
  {
   "cell_type": "markdown",
   "metadata": {},
   "source": [
    "Um arranjo unidimensional com números inteiros entre $0$ e $9$:"
   ]
  },
  {
   "cell_type": "code",
   "execution_count": 26,
   "metadata": {
    "slideshow": {
     "slide_type": "skip"
    }
   },
   "outputs": [
    {
     "data": {
      "text/plain": [
       "array([0, 1, 2, 3, 4, 5, 6, 7, 8, 9])"
      ]
     },
     "execution_count": 26,
     "metadata": {},
     "output_type": "execute_result"
    }
   ],
   "source": [
    "one_d_array = np.arange(10)\n",
    "one_d_array"
   ]
  },
  {
   "cell_type": "markdown",
   "metadata": {},
   "source": [
    "- Start = $1$:  Começamos pelo segundo elemento\n",
    "- Stop: Não está definido, então corremos até o final.\n",
    "- Step: O passo ou distância entre os elementos é $2$."
   ]
  },
  {
   "cell_type": "code",
   "execution_count": 27,
   "metadata": {
    "slideshow": {
     "slide_type": "skip"
    }
   },
   "outputs": [
    {
     "data": {
      "text/plain": [
       "array([1, 3, 5, 7, 9])"
      ]
     },
     "execution_count": 27,
     "metadata": {},
     "output_type": "execute_result"
    }
   ],
   "source": [
    "one_d_array[1 : : 2]  "
   ]
  },
  {
   "cell_type": "markdown",
   "metadata": {},
   "source": [
    "- Start: Não está definido, então començamos desde o primero.\n",
    "- Stop: Não está definido, então chegamos até o final.\n",
    "- Step = $-1$, para inverter a ordem do arranjo"
   ]
  },
  {
   "cell_type": "code",
   "execution_count": 28,
   "metadata": {
    "slideshow": {
     "slide_type": "skip"
    }
   },
   "outputs": [
    {
     "data": {
      "text/plain": [
       "array([9, 8, 7, 6, 5, 4, 3, 2, 1, 0])"
      ]
     },
     "execution_count": 28,
     "metadata": {},
     "output_type": "execute_result"
    }
   ],
   "source": [
    "\n",
    "one_d_array[ : : -1]"
   ]
  },
  {
   "cell_type": "markdown",
   "metadata": {},
   "source": [
    "Se quisermos fazer slicing em ordem invertida."
   ]
  },
  {
   "cell_type": "code",
   "execution_count": 29,
   "metadata": {
    "slideshow": {
     "slide_type": "skip"
    }
   },
   "outputs": [
    {
     "data": {
      "text/plain": [
       "array([7, 6, 5, 4, 3])"
      ]
     },
     "execution_count": 29,
     "metadata": {},
     "output_type": "execute_result"
    }
   ],
   "source": [
    "one_d_array[7 : 2 : -1]  "
   ]
  },
  {
   "cell_type": "markdown",
   "metadata": {},
   "source": [
    "##### Slicing sobre arranjos de mais dimensões\n",
    "\n",
    "Quando temos mais de uma dimensão, podemos [fatiar](https://machinelearningmastery.com/index-slice-reshape-numpy-arrays-machine-learning-python/) cada uma delas separando-as com uma vírgula.\n",
    "\n",
    "Vejamos alguns exemplos:"
   ]
  },
  {
   "cell_type": "code",
   "execution_count": 30,
   "metadata": {},
   "outputs": [
    {
     "data": {
      "text/plain": [
       "array([[5.72236907, 1.73713951, 8.20917588, 5.06276421],\n",
       "       [4.55122963, 3.79630381, 7.54586005, 6.08599062],\n",
       "       [9.85719454, 3.97668117, 9.99108886, 7.26341883]])"
      ]
     },
     "execution_count": 30,
     "metadata": {},
     "output_type": "execute_result"
    }
   ],
   "source": [
    "random_generator_seed = np.random.default_rng(seed_cualquier_numero)\n",
    "\n",
    "low = 0 #inclui o limite inferior\n",
    "high = 10 # não inclui o límite superior\n",
    "size = (3, 4)\n",
    "\n",
    "two_d_array = random_generator_seed.uniform(low, high, size)\n",
    "two_d_array"
   ]
  },
  {
   "cell_type": "markdown",
   "metadata": {},
   "source": [
    "Os dois pontos (`:`) indicam que acessamos todos os elementos de cada linha e o zero após a vírgula indica que só fazemos isso para a coluna $0$ (a primeira)."
   ]
  },
  {
   "cell_type": "code",
   "execution_count": 31,
   "metadata": {},
   "outputs": [
    {
     "data": {
      "text/plain": [
       "array([5.72236907, 4.55122963, 9.85719454])"
      ]
     },
     "execution_count": 31,
     "metadata": {},
     "output_type": "execute_result"
    }
   ],
   "source": [
    "two_d_array[ : , 0]"
   ]
  },
  {
   "cell_type": "markdown",
   "metadata": {},
   "source": [
    "Acessamos a terceira linha."
   ]
  },
  {
   "cell_type": "code",
   "execution_count": 32,
   "metadata": {},
   "outputs": [
    {
     "data": {
      "text/plain": [
       "array([9.85719454, 3.97668117, 9.99108886, 7.26341883])"
      ]
     },
     "execution_count": 32,
     "metadata": {},
     "output_type": "execute_result"
    }
   ],
   "source": [
    "two_d_array[ 2, : ]"
   ]
  },
  {
   "cell_type": "markdown",
   "metadata": {},
   "source": [
    "Outra forma de acessar a terceira linha."
   ]
  },
  {
   "cell_type": "code",
   "execution_count": 33,
   "metadata": {},
   "outputs": [
    {
     "data": {
      "text/plain": [
       "array([9.85719454, 3.97668117, 9.99108886, 7.26341883])"
      ]
     },
     "execution_count": 33,
     "metadata": {},
     "output_type": "execute_result"
    }
   ],
   "source": [
    "two_d_array[2]"
   ]
  },
  {
   "cell_type": "markdown",
   "metadata": {},
   "source": [
    "Todas as linhas, uma fatia da segunda e terceira colunas (índices $1$ e $2$)."
   ]
  },
  {
   "cell_type": "code",
   "execution_count": 34,
   "metadata": {},
   "outputs": [
    {
     "data": {
      "text/plain": [
       "array([[1.73713951, 8.20917588],\n",
       "       [3.79630381, 7.54586005],\n",
       "       [3.97668117, 9.99108886]])"
      ]
     },
     "execution_count": 34,
     "metadata": {},
     "output_type": "execute_result"
    }
   ],
   "source": [
    "two_d_array[ : , 1 : 3]"
   ]
  },
  {
   "cell_type": "markdown",
   "metadata": {},
   "source": [
    "Para termos todas as linhas e todas as colunas listadas em ordem reversa."
   ]
  },
  {
   "cell_type": "code",
   "execution_count": 35,
   "metadata": {},
   "outputs": [
    {
     "data": {
      "text/plain": [
       "array([[5.06276421, 8.20917588, 1.73713951, 5.72236907],\n",
       "       [6.08599062, 7.54586005, 3.79630381, 4.55122963],\n",
       "       [7.26341883, 9.99108886, 3.97668117, 9.85719454]])"
      ]
     },
     "execution_count": 35,
     "metadata": {},
     "output_type": "execute_result"
    }
   ],
   "source": [
    "two_d_array[:, : : -1]"
   ]
  },
  {
   "cell_type": "markdown",
   "metadata": {
    "slideshow": {
     "slide_type": "slide"
    }
   },
   "source": [
    "\n",
    "<a id=\"section_indexing_fancy\"></a> \n",
    "#### Fancy Indexing\n",
    "\n",
    "Esta [técnica](https://junaidsqazi.medium.com/a6-numpy-part-2-indexing-slicing-broadcasting-fancy-indexing-boolean-masking-universal-d85610eccfe7) consiste em gerar listas que contêm os índices dos elementos que queremos selecionar e utilizar essas listas para indexar.\n",
    "\n",
    "Vejamos alguns exemplos:"
   ]
  },
  {
   "cell_type": "markdown",
   "metadata": {},
   "source": [
    "Mantemos todas as colunas e linhas $1, 3, 2$ e repetimos $1$ (índices $0, 2, 1, 0$)."
   ]
  },
  {
   "cell_type": "code",
   "execution_count": 36,
   "metadata": {},
   "outputs": [
    {
     "data": {
      "text/plain": [
       "array([[5.72236907, 1.73713951, 8.20917588, 5.06276421],\n",
       "       [9.85719454, 3.97668117, 9.99108886, 7.26341883],\n",
       "       [4.55122963, 3.79630381, 7.54586005, 6.08599062],\n",
       "       [5.72236907, 1.73713951, 8.20917588, 5.06276421]])"
      ]
     },
     "execution_count": 36,
     "metadata": {},
     "output_type": "execute_result"
    }
   ],
   "source": [
    "lista_indices_filas = [0, 2, 1, 0]\n",
    "\n",
    "two_d_array[lista_indices_filas]"
   ]
  },
  {
   "cell_type": "markdown",
   "metadata": {},
   "source": [
    "Ficamos com todas as linhas e colunas $3, 4, 2$ e voltamos para $3$ (índices $2, 3, 1, 2$)."
   ]
  },
  {
   "cell_type": "code",
   "execution_count": 37,
   "metadata": {},
   "outputs": [
    {
     "data": {
      "text/plain": [
       "array([[8.20917588, 5.06276421, 1.73713951, 8.20917588],\n",
       "       [7.54586005, 6.08599062, 3.79630381, 7.54586005],\n",
       "       [9.99108886, 7.26341883, 3.97668117, 9.99108886]])"
      ]
     },
     "execution_count": 37,
     "metadata": {},
     "output_type": "execute_result"
    }
   ],
   "source": [
    "lista_indices_columnas = [2, 3, 1, 2]\n",
    "\n",
    "two_d_array[:, lista_indices_columnas]"
   ]
  },
  {
   "cell_type": "markdown",
   "metadata": {},
   "source": [
    "E agora selecionamos linhas e colunas, combinando os dois casos anteriores."
   ]
  },
  {
   "cell_type": "code",
   "execution_count": 38,
   "metadata": {},
   "outputs": [
    {
     "data": {
      "text/plain": [
       "array([8.20917588, 7.26341883, 3.79630381, 8.20917588])"
      ]
     },
     "execution_count": 38,
     "metadata": {},
     "output_type": "execute_result"
    }
   ],
   "source": [
    "two_d_array[lista_indices_filas, lista_indices_columnas]"
   ]
  },
  {
   "cell_type": "markdown",
   "metadata": {},
   "source": [
    "Vamos observar que ao passar as duas listas, estamos selecionando os elementos\n",
    "$(0, 2), (2, 3), (1, 1) e (0, 2)$.\n",
    "\n",
    "É verdade que: \n",
    "\n",
    "```python\n",
    "index_elem_i = (list_indices_files [i], list_indices_columns [i])\n",
    "```"
   ]
  },
  {
   "cell_type": "markdown",
   "metadata": {
    "slideshow": {
     "slide_type": "slide"
    }
   },
   "source": [
    "<a id=\"section_indexing_boolean\"></a> \n",
    "#### Boolean Indexing\n",
    "\n",
    "Esta [técnica](https://www.python-course.eu/numpy_masking.php) é baseada na criação de uma [\"máscara booleana\"](https://jakevdp.github.io/PythonDataScienceHandbook/02.06-boolean-arrays-and-masks.html), que é uma lista de valores True e False que é usada para selecionar apenas os elementos cujo índice corresponde a um valor True.\n",
    "\n",
    "Vamos ver alguns exemplos sobre `two_d_array`:"
   ]
  },
  {
   "cell_type": "code",
   "execution_count": 39,
   "metadata": {},
   "outputs": [
    {
     "data": {
      "text/plain": [
       "array([[5.72236907, 1.73713951, 8.20917588, 5.06276421],\n",
       "       [4.55122963, 3.79630381, 7.54586005, 6.08599062],\n",
       "       [9.85719454, 3.97668117, 9.99108886, 7.26341883]])"
      ]
     },
     "execution_count": 39,
     "metadata": {},
     "output_type": "execute_result"
    }
   ],
   "source": [
    "two_d_array"
   ]
  },
  {
   "cell_type": "markdown",
   "metadata": {},
   "source": [
    "Vamos selecionar os elementos maiores que $5$. Para esses, criamos uma máscara com essa condição:"
   ]
  },
  {
   "cell_type": "code",
   "execution_count": 40,
   "metadata": {},
   "outputs": [
    {
     "data": {
      "text/plain": [
       "array([[ True, False,  True,  True],\n",
       "       [False, False,  True,  True],\n",
       "       [ True, False,  True,  True]])"
      ]
     },
     "execution_count": 40,
     "metadata": {},
     "output_type": "execute_result"
    }
   ],
   "source": [
    "mask_great_5 = two_d_array > 5\n",
    "mask_great_5"
   ]
  },
  {
   "cell_type": "markdown",
   "metadata": {},
   "source": [
    "A máscara tem um valor `True` nos elementos de `two_d_array` com valor maior que $5$ e `False` naqueles com valor menor ou igual a $5$.\n",
    "\n",
    "Agora vamos usar essa máscara para selecionar os elementos que atendem a essa condição, ou seja, aqueles que têm um valor `True` na máscara:"
   ]
  },
  {
   "cell_type": "code",
   "execution_count": 41,
   "metadata": {},
   "outputs": [
    {
     "data": {
      "text/plain": [
       "array([5.72236907, 8.20917588, 5.06276421, 7.54586005, 6.08599062,\n",
       "       9.85719454, 9.99108886, 7.26341883])"
      ]
     },
     "execution_count": 41,
     "metadata": {},
     "output_type": "execute_result"
    }
   ],
   "source": [
    "two_d_array[mask_great_5]"
   ]
  },
  {
   "cell_type": "markdown",
   "metadata": {},
   "source": [
    "Agora vamos definir uma condição mais complexa: vamos selecionar os elementos maiores que $5$ e menores que $8$."
   ]
  },
  {
   "cell_type": "code",
   "execution_count": 42,
   "metadata": {},
   "outputs": [
    {
     "data": {
      "text/plain": [
       "array([[ True, False, False,  True],\n",
       "       [False, False,  True,  True],\n",
       "       [False, False, False,  True]])"
      ]
     },
     "execution_count": 42,
     "metadata": {},
     "output_type": "execute_result"
    }
   ],
   "source": [
    "mask_great_5_less_8 = (two_d_array > 5) & (two_d_array < 8)\n",
    "mask_great_5_less_8"
   ]
  },
  {
   "cell_type": "markdown",
   "metadata": {},
   "source": [
    "Agora vamos usar essa máscara para selecionar os elementos que atendem a essa condição, ou seja, aqueles que têm um valor `True` na máscara:"
   ]
  },
  {
   "cell_type": "code",
   "execution_count": 43,
   "metadata": {},
   "outputs": [
    {
     "data": {
      "text/plain": [
       "array([5.72236907, 5.06276421, 7.54586005, 6.08599062, 7.26341883])"
      ]
     },
     "execution_count": 43,
     "metadata": {},
     "output_type": "execute_result"
    }
   ],
   "source": [
    "two_d_array[mask_great_5_less_8]"
   ]
  },
  {
   "cell_type": "markdown",
   "metadata": {},
   "source": [
    "Como podemos ver, a dificuldade da seleção está na definição da máscara, que pode ser bastante complexa. Mas, depois de calculado, o filtro é idêntico, independentemente do número de condições envolvidas em sua definição e da dimensão do arranjo a ser filtrado"
   ]
  },
  {
   "cell_type": "code",
   "execution_count": 44,
   "metadata": {},
   "outputs": [],
   "source": [
    "def precipitation(data):\n",
    "    # modificar aquí:\n",
    "    result = None\n",
    "    return result\n",
    "\n",
    "def quant_days_no_rain(precip):\n",
    "    # modificar aquí:\n",
    "    result = 7\n",
    "    return result\n",
    "\n",
    "def quant_days_with_rain(precip):\n",
    "    # modificar aquí:\n",
    "    result = 7\n",
    "    return result\n",
    "\n",
    "def quant_days_vith_rain_greater_100(precip):\n",
    "    # modificar aquí:\n",
    "    result = 7\n",
    "    return result\n",
    "\n",
    "def quant_days_vith_rain_LessEqual_100(precip):\n",
    "    # modificar aquí:\n",
    "    result = 7\n",
    "    return result\n"
   ]
  },
  {
   "cell_type": "code",
   "execution_count": 45,
   "metadata": {},
   "outputs": [],
   "source": [
    "import numpy as np\n",
    "import os.path\n",
    "\n",
    "data_location = os.path.abspath('../Data/Seattle2014.csv')\n",
    "\n",
    "data = np.genfromtxt(data_location, \n",
    "                     skip_header = 1, \n",
    "                     delimiter = ','\n",
    "                    )\n",
    "data\n",
    "\n",
    "value_precipitations = precipitation(data)"
   ]
  },
  {
   "cell_type": "code",
   "execution_count": 46,
   "metadata": {},
   "outputs": [],
   "source": [
    "#test_1_numpy.test_precipitation(value_precipitations)"
   ]
  },
  {
   "cell_type": "code",
   "execution_count": 47,
   "metadata": {},
   "outputs": [],
   "source": [
    "no_rain = quant_days_no_rain(value_precipitations)\n",
    "#test_1_numpy.test_quant_days_no_rain(no_rain)"
   ]
  },
  {
   "cell_type": "code",
   "execution_count": 48,
   "metadata": {},
   "outputs": [],
   "source": [
    "with_rain = quant_days_with_rain(value_precipitations)\n",
    "#test_1_numpy.test_quant_days_with_rain(with_rain)"
   ]
  },
  {
   "cell_type": "code",
   "execution_count": 49,
   "metadata": {},
   "outputs": [],
   "source": [
    "with_rain_greater_100 = quant_days_vith_rain_greater_100(value_precipitations)\n",
    "#test_1_numpy.test_quant_days_vith_rain_greater_100(with_rain_greater_100)"
   ]
  },
  {
   "cell_type": "code",
   "execution_count": 50,
   "metadata": {},
   "outputs": [],
   "source": [
    "with_rain_LessEqual_100 = quant_days_vith_rain_LessEqual_100(value_precipitations)\n",
    "#test_1_numpy.test_quant_days_vith_rain_LessEqual_100(with_rain_LessEqual_100)"
   ]
  },
  {
   "cell_type": "markdown",
   "metadata": {
    "toc-hr-collapsed": true
   },
   "source": [
    "## Versões"
   ]
  },
  {
   "cell_type": "code",
   "execution_count": 51,
   "metadata": {},
   "outputs": [
    {
     "data": {
      "text/plain": [
       "'1.24.4'"
      ]
     },
     "execution_count": 51,
     "metadata": {},
     "output_type": "execute_result"
    }
   ],
   "source": [
    "import numpy\n",
    "numpy.version.version"
   ]
  },
  {
   "cell_type": "code",
   "execution_count": null,
   "metadata": {},
   "outputs": [],
   "source": []
  }
 ],
 "metadata": {
  "kernelspec": {
   "display_name": "Python 3",
   "language": "python",
   "name": "python3"
  },
  "language_info": {
   "codemirror_mode": {
    "name": "ipython",
    "version": 3
   },
   "file_extension": ".py",
   "mimetype": "text/x-python",
   "name": "python",
   "nbconvert_exporter": "python",
   "pygments_lexer": "ipython3",
   "version": "3.9.6"
  },
  "toc-autonumbering": false,
  "toc-showcode": true
 },
 "nbformat": 4,
 "nbformat_minor": 4
}
