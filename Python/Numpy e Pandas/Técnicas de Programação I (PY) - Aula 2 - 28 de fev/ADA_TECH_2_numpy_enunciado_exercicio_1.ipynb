{
 "cells": [
  {
   "cell_type": "markdown",
   "metadata": {},
   "source": [
    "<img src='letscodebr_cover.jpeg' align='left' width=100%/>"
   ]
  },
  {
   "cell_type": "markdown",
   "metadata": {},
   "source": [
    "# Ada Tech [DS-PY-004] Técnicas de Programação I (PY) Aula 2 : Numpy - Enunciado do Exercício 1."
   ]
  },
  {
   "cell_type": "markdown",
   "metadata": {},
   "source": [
    "A ideia dessa prática é exercitar os pontos de que vamos precisar para resolver o desafio. Usaremos um resumo do conjunto de dados [Kaggle](https://www.kaggle.com/kyanyoga/sample-sales-data) que contém dados de vendas:"
   ]
  },
  {
   "cell_type": "markdown",
   "metadata": {},
   "source": [
    "## Exercício 1\n",
    "\n",
    "Leia os dados do arquivo `../Data/sales_data_sample_excercise.csv`, que contém alguns dados numéricos e alguns tipos de `string` de caracteres. A amostra contém dados de vendas, informações do pedido, vendas, cliente, remessa, etc., usados para segmentação, análise do cliente, clustering e outros. \n",
    "\n",
    "\n",
    "As colunas são:\n",
    "\n",
    "* `ORDERNUMBER`: `int`, id da orden de pedido\n",
    "\n",
    "* `SALES`: `float`, quantia paga\n",
    "\n",
    "* `MONTH_ID`: `int`, mês\n",
    "\n",
    "* `YEAR_ID`: `int`, ano\n",
    "\n",
    "* `PRODUCTLINE`: `str`, produto\n",
    "\n",
    "* `COUNTRY`: `str`, país de venda\n",
    "\n",
    "Lembre-se de que todos os elementos de uma instância `ndarray` devem ser do mesmo tipo. Portanto, vamos ler o arquivo e criar uma instância de `ndarray` do tipo `string`.\n",
    "\n",
    "O que aconteceria se tentássemos criar uma instância do tipo `int`? E do tipo `float`?"
   ]
  },
  {
   "cell_type": "code",
   "execution_count": 1,
   "metadata": {},
   "outputs": [],
   "source": [
    "import numpy as np\n",
    "\n",
    "# local:\n",
    "data_location = '../Data/sales_data_sample_excercise.csv'"
   ]
  },
  {
   "cell_type": "code",
   "execution_count": null,
   "metadata": {},
   "outputs": [],
   "source": []
  },
  {
   "cell_type": "code",
   "execution_count": null,
   "metadata": {},
   "outputs": [],
   "source": []
  },
  {
   "cell_type": "code",
   "execution_count": null,
   "metadata": {},
   "outputs": [],
   "source": []
  },
  {
   "cell_type": "code",
   "execution_count": null,
   "metadata": {},
   "outputs": [],
   "source": []
  },
  {
   "cell_type": "markdown",
   "metadata": {},
   "source": [
    "# Exercício 2 - Tipos\n",
    "\n",
    "Crie um arranjo de [tipo](https://docs.scipy.org/doc/numpy/reference/generated/numpy.ndarray.astype.html) numérico `float` que tenha a coluna `SALES` como valores e outro arranjo de tipo caracteres `str` que tenha a coluna `COUNTRY` como valores."
   ]
  },
  {
   "cell_type": "code",
   "execution_count": null,
   "metadata": {},
   "outputs": [],
   "source": []
  },
  {
   "cell_type": "code",
   "execution_count": null,
   "metadata": {},
   "outputs": [],
   "source": []
  },
  {
   "cell_type": "markdown",
   "metadata": {},
   "source": [
    "## Exercício 3 - Funções de agregação\n",
    "\n",
    "Sobre os dados de preço de venda, na coluna `SALES`, calcule os valores [estatísticos](https://numpy.org/doc/stable/reference/routines.statistics.html):\n",
    "\n",
    "* Mínimo\n",
    "\n",
    "* Máximo\n",
    "\n",
    "* Média\n",
    "\n",
    "* Quantidade\n",
    "\n",
    "* soma"
   ]
  },
  {
   "cell_type": "code",
   "execution_count": null,
   "metadata": {},
   "outputs": [],
   "source": []
  },
  {
   "cell_type": "code",
   "execution_count": null,
   "metadata": {},
   "outputs": [],
   "source": []
  },
  {
   "cell_type": "code",
   "execution_count": null,
   "metadata": {},
   "outputs": [],
   "source": []
  },
  {
   "cell_type": "code",
   "execution_count": null,
   "metadata": {},
   "outputs": [],
   "source": []
  },
  {
   "cell_type": "code",
   "execution_count": null,
   "metadata": {},
   "outputs": [],
   "source": []
  },
  {
   "cell_type": "markdown",
   "metadata": {},
   "source": [
    "## Exercício 4 - Indexing\n",
    "\n",
    "a) Quantas vendas foram realizadas nos EUA?.\n",
    "\n",
    "Dica: indexação booleana.\n",
    "\n",
    "b) Quais são os preços das $5$ vendas que estão nas linhas $6$ a $10$ do conjunto de dados?\n",
    "\n",
    "Vamos resolver usando o fatiamento (sliceing) do arranjo e a indexação sofisticada ([fancy indexing](https://docs.python.org/3/library/functions.html#func-range))."
   ]
  },
  {
   "cell_type": "code",
   "execution_count": null,
   "metadata": {},
   "outputs": [],
   "source": []
  },
  {
   "cell_type": "code",
   "execution_count": null,
   "metadata": {},
   "outputs": [],
   "source": []
  },
  {
   "cell_type": "code",
   "execution_count": null,
   "metadata": {},
   "outputs": [],
   "source": []
  }
 ],
 "metadata": {
  "kernelspec": {
   "display_name": "Python 3",
   "language": "python",
   "name": "python3"
  },
  "language_info": {
   "codemirror_mode": {
    "name": "ipython",
    "version": 3
   },
   "file_extension": ".py",
   "mimetype": "text/x-python",
   "name": "python",
   "nbconvert_exporter": "python",
   "pygments_lexer": "ipython3",
   "version": "3.9.6"
  }
 },
 "nbformat": 4,
 "nbformat_minor": 4
}
