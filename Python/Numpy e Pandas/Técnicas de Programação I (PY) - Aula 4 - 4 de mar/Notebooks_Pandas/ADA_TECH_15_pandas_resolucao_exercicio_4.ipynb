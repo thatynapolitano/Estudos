{
 "cells": [
  {
   "cell_type": "markdown",
   "metadata": {},
   "source": [
    "<img src='letscodebr_cover.jpeg' align='left' width=100%/>"
   ]
  },
  {
   "cell_type": "markdown",
   "metadata": {},
   "source": [
    "# Ada Tech [DS-PY-004] Técnicas de Programação I (PY) Aulas 4 e 5 : Pandas - Resolução do Exercício 4."
   ]
  },
  {
   "cell_type": "markdown",
   "metadata": {},
   "source": [
    "# Prática adicional sobre joins com pandas\n",
    "\n",
    "Vamos trabalhar com um conjunto de dados [Coupon Redemption_SMOTE_ Feature Selection](https://www.kaggle.com/vasudeva009/coupon-redemption-smote-feature-selection/data) de campanha de marketing. É representado por um conjunto de tabelas relacionais:\n",
    "\n",
    "* train: relaciona o id do consumidor, cupons de desconto, campanha de marketing e contém a variável de destino 'redemption_status', que informa se o cupom foi resgatado ou não.\n",
    "\n",
    "* campaign_data: data de início e término da campanha e tipo de campanha\n",
    "\n",
    "* customer_demographics: faixa etária, estado civil, tamanho da família, número de filhos, nível de renda, proprietário / inquilino / hipoteca\n",
    "\n",
    "* coupon_item_mapping: cada cupom oferece benefícios em diferentes itens\n",
    "\n",
    "* item_data: marca, tipo de marca e categoria do item\n",
    "\n",
    "* customer_transaction_data: dados sobre compras feitas pelos consumidores. Não sabemos em qual compra utilizaram o cupom de desconto, talvez a promoção funcione para mais de uma compra.\n",
    "\n",
    "<img src='img/Schema.png' align='center' width=40%/>"
   ]
  },
  {
   "cell_type": "code",
   "execution_count": 1,
   "metadata": {},
   "outputs": [],
   "source": [
    "import pandas as pd\n",
    "from sklearn.impute import SimpleImputer"
   ]
  },
  {
   "cell_type": "code",
   "execution_count": 2,
   "metadata": {},
   "outputs": [],
   "source": [
    "train = pd.read_csv('../Data/train.csv')\n",
    "cust_dem = pd.read_csv('../Data/customer_demographics.csv')\n",
    "trans = pd.read_csv('../Data/customer_transaction_data.csv')\n",
    "coupon_item = pd.read_csv('../Data/coupon_item_mapping.csv')\n",
    "item_data = pd.read_csv('../Data/item_data.csv')\n",
    "campaign_data = pd.read_csv('../Data/campaign_data.csv')"
   ]
  },
  {
   "cell_type": "markdown",
   "metadata": {},
   "source": [
    "## Exercício 1 - Train dataframe"
   ]
  },
  {
   "cell_type": "markdown",
   "metadata": {},
   "source": [
    "* Olhe para o dataframe e verifique se há valores nulos."
   ]
  },
  {
   "cell_type": "code",
   "execution_count": 3,
   "metadata": {},
   "outputs": [
    {
     "data": {
      "text/html": [
       "<div>\n",
       "<style scoped>\n",
       "    .dataframe tbody tr th:only-of-type {\n",
       "        vertical-align: middle;\n",
       "    }\n",
       "\n",
       "    .dataframe tbody tr th {\n",
       "        vertical-align: top;\n",
       "    }\n",
       "\n",
       "    .dataframe thead th {\n",
       "        text-align: right;\n",
       "    }\n",
       "</style>\n",
       "<table border=\"1\" class=\"dataframe\">\n",
       "  <thead>\n",
       "    <tr style=\"text-align: right;\">\n",
       "      <th></th>\n",
       "      <th>id</th>\n",
       "      <th>campaign_id</th>\n",
       "      <th>coupon_id</th>\n",
       "      <th>customer_id</th>\n",
       "      <th>redemption_status</th>\n",
       "    </tr>\n",
       "  </thead>\n",
       "  <tbody>\n",
       "    <tr>\n",
       "      <th>0</th>\n",
       "      <td>1</td>\n",
       "      <td>13</td>\n",
       "      <td>27</td>\n",
       "      <td>1053</td>\n",
       "      <td>0</td>\n",
       "    </tr>\n",
       "    <tr>\n",
       "      <th>1</th>\n",
       "      <td>2</td>\n",
       "      <td>13</td>\n",
       "      <td>116</td>\n",
       "      <td>48</td>\n",
       "      <td>0</td>\n",
       "    </tr>\n",
       "    <tr>\n",
       "      <th>2</th>\n",
       "      <td>6</td>\n",
       "      <td>9</td>\n",
       "      <td>635</td>\n",
       "      <td>205</td>\n",
       "      <td>0</td>\n",
       "    </tr>\n",
       "  </tbody>\n",
       "</table>\n",
       "</div>"
      ],
      "text/plain": [
       "   id  campaign_id  coupon_id  customer_id  redemption_status\n",
       "0   1           13         27         1053                  0\n",
       "1   2           13        116           48                  0\n",
       "2   6            9        635          205                  0"
      ]
     },
     "metadata": {},
     "output_type": "display_data"
    },
    {
     "name": "stdout",
     "output_type": "stream",
     "text": [
      "\n",
      "Há dados nulos: False\n"
     ]
    }
   ],
   "source": [
    "display(train.head(3))\n",
    "print('\\nHá dados nulos:',train.isnull().any().any())"
   ]
  },
  {
   "cell_type": "markdown",
   "metadata": {},
   "source": [
    "## Exercício 2 - Customer demographics dataframe\n",
    "\n",
    "* Verifique se há nulos\n",
    "* Olhe para os dtypes\n",
    "* Impute valores nulos a partir do valor modal de cada coluna\n",
    "* Traga as colunas de variáveis categóricas para o dtype 'category'"
   ]
  },
  {
   "cell_type": "code",
   "execution_count": 4,
   "metadata": {},
   "outputs": [
    {
     "data": {
      "text/html": [
       "<div>\n",
       "<style scoped>\n",
       "    .dataframe tbody tr th:only-of-type {\n",
       "        vertical-align: middle;\n",
       "    }\n",
       "\n",
       "    .dataframe tbody tr th {\n",
       "        vertical-align: top;\n",
       "    }\n",
       "\n",
       "    .dataframe thead th {\n",
       "        text-align: right;\n",
       "    }\n",
       "</style>\n",
       "<table border=\"1\" class=\"dataframe\">\n",
       "  <thead>\n",
       "    <tr style=\"text-align: right;\">\n",
       "      <th></th>\n",
       "      <th>customer_id</th>\n",
       "      <th>age_range</th>\n",
       "      <th>marital_status</th>\n",
       "      <th>rented</th>\n",
       "      <th>family_size</th>\n",
       "      <th>no_of_children</th>\n",
       "      <th>income_bracket</th>\n",
       "    </tr>\n",
       "  </thead>\n",
       "  <tbody>\n",
       "    <tr>\n",
       "      <th>0</th>\n",
       "      <td>1</td>\n",
       "      <td>70+</td>\n",
       "      <td>Married</td>\n",
       "      <td>0</td>\n",
       "      <td>2</td>\n",
       "      <td>NaN</td>\n",
       "      <td>4</td>\n",
       "    </tr>\n",
       "    <tr>\n",
       "      <th>1</th>\n",
       "      <td>6</td>\n",
       "      <td>46-55</td>\n",
       "      <td>Married</td>\n",
       "      <td>0</td>\n",
       "      <td>2</td>\n",
       "      <td>NaN</td>\n",
       "      <td>5</td>\n",
       "    </tr>\n",
       "    <tr>\n",
       "      <th>2</th>\n",
       "      <td>7</td>\n",
       "      <td>26-35</td>\n",
       "      <td>NaN</td>\n",
       "      <td>0</td>\n",
       "      <td>3</td>\n",
       "      <td>1</td>\n",
       "      <td>3</td>\n",
       "    </tr>\n",
       "  </tbody>\n",
       "</table>\n",
       "</div>"
      ],
      "text/plain": [
       "   customer_id age_range marital_status  rented family_size no_of_children  \\\n",
       "0            1       70+        Married       0           2            NaN   \n",
       "1            6     46-55        Married       0           2            NaN   \n",
       "2            7     26-35            NaN       0           3              1   \n",
       "\n",
       "   income_bracket  \n",
       "0               4  \n",
       "1               5  \n",
       "2               3  "
      ]
     },
     "metadata": {},
     "output_type": "display_data"
    },
    {
     "name": "stdout",
     "output_type": "stream",
     "text": [
      "\n",
      "-------------------------\n",
      "Dtypes:\n",
      "\n",
      "customer_id        int64\n",
      "age_range         object\n",
      "marital_status    object\n",
      "rented             int64\n",
      "family_size       object\n",
      "no_of_children    object\n",
      "income_bracket     int64\n",
      "dtype: object\n",
      "\n",
      "-------------------------\n",
      "Nulos:\n",
      "\n",
      "customer_id         0\n",
      "age_range           0\n",
      "marital_status    329\n",
      "rented              0\n",
      "family_size         0\n",
      "no_of_children    538\n",
      "income_bracket      0\n",
      "dtype: int64\n"
     ]
    }
   ],
   "source": [
    "# cust_dem\n",
    "display(cust_dem.head(3))\n",
    "print('\\n-------------------------')\n",
    "print('Dtypes:\\n') \n",
    "print(cust_dem.dtypes)\n",
    "print('\\n-------------------------')\n",
    "print('Nulos:\\n')      \n",
    "print(cust_dem.isnull().sum())"
   ]
  },
  {
   "cell_type": "markdown",
   "metadata": {},
   "source": [
    "Atribuímos valores ausentes para a moda:"
   ]
  },
  {
   "cell_type": "code",
   "execution_count": 5,
   "metadata": {},
   "outputs": [
    {
     "name": "stdout",
     "output_type": "stream",
     "text": [
      "Nulos:\n",
      "\n",
      "customer_id       0\n",
      "age_range         0\n",
      "marital_status    0\n",
      "rented            0\n",
      "family_size       0\n",
      "no_of_children    0\n",
      "income_bracket    0\n",
      "dtype: int64\n"
     ]
    }
   ],
   "source": [
    "# Imputamos valores faltantes\n",
    "imp = SimpleImputer(strategy='most_frequent')\n",
    "cust_dem[['marital_status','no_of_children']] = imp.fit_transform(cust_dem[['marital_status','no_of_children']])\n",
    "print('Nulos:\\n')      \n",
    "print(cust_dem.isnull().sum())"
   ]
  },
  {
   "cell_type": "markdown",
   "metadata": {},
   "source": [
    "Convertemos as variáveis para o tipo categórico:"
   ]
  },
  {
   "cell_type": "code",
   "execution_count": 6,
   "metadata": {},
   "outputs": [
    {
     "name": "stdout",
     "output_type": "stream",
     "text": [
      "Dtypes:\n",
      "\n",
      "customer_id          int64\n",
      "age_range           object\n",
      "marital_status      object\n",
      "rented            category\n",
      "family_size         object\n",
      "no_of_children      object\n",
      "income_bracket    category\n",
      "dtype: object\n"
     ]
    }
   ],
   "source": [
    "cust_dem.iloc[:,1:]=cust_dem.iloc[:,1:].astype('category')\n",
    "print('Dtypes:\\n') \n",
    "print(cust_dem.dtypes)"
   ]
  },
  {
   "cell_type": "markdown",
   "metadata": {},
   "source": [
    "## Exercício 3 - Transactions dataframe\n",
    "\n",
    "* Verifique se há nulos\n",
    "* Veja os dtypes\n",
    "* Remova a coluna `dates`"
   ]
  },
  {
   "cell_type": "code",
   "execution_count": 7,
   "metadata": {},
   "outputs": [
    {
     "data": {
      "text/html": [
       "<div>\n",
       "<style scoped>\n",
       "    .dataframe tbody tr th:only-of-type {\n",
       "        vertical-align: middle;\n",
       "    }\n",
       "\n",
       "    .dataframe tbody tr th {\n",
       "        vertical-align: top;\n",
       "    }\n",
       "\n",
       "    .dataframe thead th {\n",
       "        text-align: right;\n",
       "    }\n",
       "</style>\n",
       "<table border=\"1\" class=\"dataframe\">\n",
       "  <thead>\n",
       "    <tr style=\"text-align: right;\">\n",
       "      <th></th>\n",
       "      <th>date</th>\n",
       "      <th>customer_id</th>\n",
       "      <th>item_id</th>\n",
       "      <th>quantity</th>\n",
       "      <th>selling_price</th>\n",
       "      <th>other_discount</th>\n",
       "      <th>coupon_discount</th>\n",
       "    </tr>\n",
       "  </thead>\n",
       "  <tbody>\n",
       "    <tr>\n",
       "      <th>0</th>\n",
       "      <td>2012-01-02</td>\n",
       "      <td>1501</td>\n",
       "      <td>26830</td>\n",
       "      <td>1</td>\n",
       "      <td>35.26</td>\n",
       "      <td>-10.69</td>\n",
       "      <td>0.0</td>\n",
       "    </tr>\n",
       "    <tr>\n",
       "      <th>1</th>\n",
       "      <td>2012-01-02</td>\n",
       "      <td>1501</td>\n",
       "      <td>54253</td>\n",
       "      <td>1</td>\n",
       "      <td>53.43</td>\n",
       "      <td>-13.89</td>\n",
       "      <td>0.0</td>\n",
       "    </tr>\n",
       "    <tr>\n",
       "      <th>2</th>\n",
       "      <td>2012-01-02</td>\n",
       "      <td>1501</td>\n",
       "      <td>31962</td>\n",
       "      <td>1</td>\n",
       "      <td>106.50</td>\n",
       "      <td>-14.25</td>\n",
       "      <td>0.0</td>\n",
       "    </tr>\n",
       "  </tbody>\n",
       "</table>\n",
       "</div>"
      ],
      "text/plain": [
       "         date  customer_id  item_id  quantity  selling_price  other_discount  \\\n",
       "0  2012-01-02         1501    26830         1          35.26          -10.69   \n",
       "1  2012-01-02         1501    54253         1          53.43          -13.89   \n",
       "2  2012-01-02         1501    31962         1         106.50          -14.25   \n",
       "\n",
       "   coupon_discount  \n",
       "0              0.0  \n",
       "1              0.0  \n",
       "2              0.0  "
      ]
     },
     "metadata": {},
     "output_type": "display_data"
    },
    {
     "name": "stdout",
     "output_type": "stream",
     "text": [
      "\n",
      "Há nulos: False\n",
      "\n",
      "Dtypes:\n",
      "\n",
      "date                object\n",
      "customer_id          int64\n",
      "item_id              int64\n",
      "quantity             int64\n",
      "selling_price      float64\n",
      "other_discount     float64\n",
      "coupon_discount    float64\n",
      "dtype: object\n"
     ]
    }
   ],
   "source": [
    "# trans data\n",
    "display(trans.head(3))\n",
    "print('\\nHá nulos:',trans.isnull().any().any())\n",
    "print('\\nDtypes:\\n') \n",
    "print(trans.dtypes)"
   ]
  },
  {
   "cell_type": "code",
   "execution_count": 8,
   "metadata": {},
   "outputs": [],
   "source": [
    "trans = trans.drop('date', axis = 1)"
   ]
  },
  {
   "cell_type": "code",
   "execution_count": 9,
   "metadata": {},
   "outputs": [
    {
     "name": "stdout",
     "output_type": "stream",
     "text": [
      "\n",
      "Dtypes:\n",
      "\n",
      "customer_id          int64\n",
      "item_id              int64\n",
      "quantity             int64\n",
      "selling_price      float64\n",
      "other_discount     float64\n",
      "coupon_discount    float64\n",
      "dtype: object\n"
     ]
    }
   ],
   "source": [
    "trans.head(3)\n",
    "print('\\nDtypes:\\n') \n",
    "print(trans.dtypes)"
   ]
  },
  {
   "cell_type": "markdown",
   "metadata": {},
   "source": [
    "## Exercício 4 - Coupon-Item dataframe\n",
    "* verifique se há dados nulos"
   ]
  },
  {
   "cell_type": "code",
   "execution_count": 10,
   "metadata": {},
   "outputs": [
    {
     "data": {
      "text/html": [
       "<div>\n",
       "<style scoped>\n",
       "    .dataframe tbody tr th:only-of-type {\n",
       "        vertical-align: middle;\n",
       "    }\n",
       "\n",
       "    .dataframe tbody tr th {\n",
       "        vertical-align: top;\n",
       "    }\n",
       "\n",
       "    .dataframe thead th {\n",
       "        text-align: right;\n",
       "    }\n",
       "</style>\n",
       "<table border=\"1\" class=\"dataframe\">\n",
       "  <thead>\n",
       "    <tr style=\"text-align: right;\">\n",
       "      <th></th>\n",
       "      <th>coupon_id</th>\n",
       "      <th>item_id</th>\n",
       "    </tr>\n",
       "  </thead>\n",
       "  <tbody>\n",
       "    <tr>\n",
       "      <th>0</th>\n",
       "      <td>105</td>\n",
       "      <td>37</td>\n",
       "    </tr>\n",
       "    <tr>\n",
       "      <th>1</th>\n",
       "      <td>107</td>\n",
       "      <td>75</td>\n",
       "    </tr>\n",
       "    <tr>\n",
       "      <th>2</th>\n",
       "      <td>494</td>\n",
       "      <td>76</td>\n",
       "    </tr>\n",
       "  </tbody>\n",
       "</table>\n",
       "</div>"
      ],
      "text/plain": [
       "   coupon_id  item_id\n",
       "0        105       37\n",
       "1        107       75\n",
       "2        494       76"
      ]
     },
     "metadata": {},
     "output_type": "display_data"
    },
    {
     "name": "stdout",
     "output_type": "stream",
     "text": [
      "\n",
      "Há nulos: False\n"
     ]
    }
   ],
   "source": [
    "# Coupon item map\n",
    "display(coupon_item.head(3))\n",
    "print('\\nHá nulos:',coupon_item.isnull().any().any())"
   ]
  },
  {
   "cell_type": "markdown",
   "metadata": {},
   "source": [
    "## Exercício 5 - Item dataframe\n",
    "\n",
    "* Verifique se há nulos\n",
    "* Converta colunas categóricas para o dtype `category`"
   ]
  },
  {
   "cell_type": "code",
   "execution_count": 11,
   "metadata": {},
   "outputs": [
    {
     "data": {
      "text/html": [
       "<div>\n",
       "<style scoped>\n",
       "    .dataframe tbody tr th:only-of-type {\n",
       "        vertical-align: middle;\n",
       "    }\n",
       "\n",
       "    .dataframe tbody tr th {\n",
       "        vertical-align: top;\n",
       "    }\n",
       "\n",
       "    .dataframe thead th {\n",
       "        text-align: right;\n",
       "    }\n",
       "</style>\n",
       "<table border=\"1\" class=\"dataframe\">\n",
       "  <thead>\n",
       "    <tr style=\"text-align: right;\">\n",
       "      <th></th>\n",
       "      <th>item_id</th>\n",
       "      <th>brand</th>\n",
       "      <th>brand_type</th>\n",
       "      <th>category</th>\n",
       "    </tr>\n",
       "  </thead>\n",
       "  <tbody>\n",
       "    <tr>\n",
       "      <th>0</th>\n",
       "      <td>1</td>\n",
       "      <td>1</td>\n",
       "      <td>Established</td>\n",
       "      <td>Grocery</td>\n",
       "    </tr>\n",
       "    <tr>\n",
       "      <th>1</th>\n",
       "      <td>2</td>\n",
       "      <td>1</td>\n",
       "      <td>Established</td>\n",
       "      <td>Miscellaneous</td>\n",
       "    </tr>\n",
       "    <tr>\n",
       "      <th>2</th>\n",
       "      <td>3</td>\n",
       "      <td>56</td>\n",
       "      <td>Local</td>\n",
       "      <td>Bakery</td>\n",
       "    </tr>\n",
       "  </tbody>\n",
       "</table>\n",
       "</div>"
      ],
      "text/plain": [
       "   item_id  brand   brand_type       category\n",
       "0        1      1  Established        Grocery\n",
       "1        2      1  Established  Miscellaneous\n",
       "2        3     56        Local         Bakery"
      ]
     },
     "metadata": {},
     "output_type": "display_data"
    },
    {
     "name": "stdout",
     "output_type": "stream",
     "text": [
      "item_id          int64\n",
      "brand         category\n",
      "brand_type    category\n",
      "category      category\n",
      "dtype: object\n",
      "\n",
      "Há nulos: False\n"
     ]
    }
   ],
   "source": [
    "# Item Data\n",
    "display(item_data.head(3))\n",
    "item_data[['brand','brand_type','category']]=item_data[['brand','brand_type','category']].astype('category')\n",
    "print(item_data.dtypes)\n",
    "print('\\nHá nulos:',item_data.isnull().any().any())"
   ]
  },
  {
   "cell_type": "markdown",
   "metadata": {},
   "source": [
    "## Exercício 6 - Campaign dataframe\n",
    "* Verifique se há valores nulos.\n",
    "* Converta as colunas `start_date` e `end_date` para `TimeStamp`.\n",
    "* Calcule o período das promoções como `start_date` - `end_date`.\n",
    "* Remova `start_date` e `end_date`."
   ]
  },
  {
   "cell_type": "code",
   "execution_count": 12,
   "metadata": {},
   "outputs": [
    {
     "data": {
      "text/html": [
       "<div>\n",
       "<style scoped>\n",
       "    .dataframe tbody tr th:only-of-type {\n",
       "        vertical-align: middle;\n",
       "    }\n",
       "\n",
       "    .dataframe tbody tr th {\n",
       "        vertical-align: top;\n",
       "    }\n",
       "\n",
       "    .dataframe thead th {\n",
       "        text-align: right;\n",
       "    }\n",
       "</style>\n",
       "<table border=\"1\" class=\"dataframe\">\n",
       "  <thead>\n",
       "    <tr style=\"text-align: right;\">\n",
       "      <th></th>\n",
       "      <th>campaign_id</th>\n",
       "      <th>campaign_type</th>\n",
       "      <th>start_date</th>\n",
       "      <th>end_date</th>\n",
       "    </tr>\n",
       "  </thead>\n",
       "  <tbody>\n",
       "    <tr>\n",
       "      <th>0</th>\n",
       "      <td>24</td>\n",
       "      <td>Y</td>\n",
       "      <td>21/10/13</td>\n",
       "      <td>20/12/13</td>\n",
       "    </tr>\n",
       "    <tr>\n",
       "      <th>1</th>\n",
       "      <td>25</td>\n",
       "      <td>Y</td>\n",
       "      <td>21/10/13</td>\n",
       "      <td>22/11/13</td>\n",
       "    </tr>\n",
       "    <tr>\n",
       "      <th>2</th>\n",
       "      <td>20</td>\n",
       "      <td>Y</td>\n",
       "      <td>07/09/13</td>\n",
       "      <td>16/11/13</td>\n",
       "    </tr>\n",
       "  </tbody>\n",
       "</table>\n",
       "</div>"
      ],
      "text/plain": [
       "   campaign_id campaign_type start_date  end_date\n",
       "0           24             Y   21/10/13  20/12/13\n",
       "1           25             Y   21/10/13  22/11/13\n",
       "2           20             Y   07/09/13  16/11/13"
      ]
     },
     "metadata": {},
     "output_type": "display_data"
    },
    {
     "name": "stdout",
     "output_type": "stream",
     "text": [
      "campaign_id       int64\n",
      "campaign_type    object\n",
      "start_date       object\n",
      "end_date         object\n",
      "dtype: object\n",
      "\n",
      "Há nulos: False\n"
     ]
    }
   ],
   "source": [
    "display(campaign_data.head(3))\n",
    "print(campaign_data.dtypes)\n",
    "print('\\nHá nulos:',campaign_data.isnull().any().any())"
   ]
  },
  {
   "cell_type": "markdown",
   "metadata": {},
   "source": [
    "Calculamos quanto tempo a promoção durou:"
   ]
  },
  {
   "cell_type": "code",
   "execution_count": 13,
   "metadata": {},
   "outputs": [
    {
     "name": "stderr",
     "output_type": "stream",
     "text": [
      "/var/folders/cz/8wxdxxx55vz69s8s08w90yvh0000gn/T/ipykernel_32110/1453609944.py:3: UserWarning: Could not infer format, so each element will be parsed individually, falling back to `dateutil`. To ensure parsing is consistent and as-expected, please specify a format.\n",
      "  start_date = pd.to_datetime(campaign_data['start_date'], dayfirst = True)\n",
      "/var/folders/cz/8wxdxxx55vz69s8s08w90yvh0000gn/T/ipykernel_32110/1453609944.py:4: UserWarning: Could not infer format, so each element will be parsed individually, falling back to `dateutil`. To ensure parsing is consistent and as-expected, please specify a format.\n",
      "  end_date = pd.to_datetime(campaign_data['end_date'], dayfirst = True)\n"
     ]
    }
   ],
   "source": [
    "# calculamos o período de promoção\n",
    "\n",
    "start_date = pd.to_datetime(campaign_data['start_date'], dayfirst = True)\n",
    "end_date = pd.to_datetime(campaign_data['end_date'], dayfirst = True)\n",
    "\n",
    "campaign_data['duration'] = end_date - start_date # Período de validade do cupom\n",
    "campaign_data['duration'] = campaign_data['duration'].apply(lambda x: x.days)\n",
    "\n",
    "campaign_data['campaign_type'] = campaign_data['campaign_type'].astype('category')\n",
    "\n",
    "campaign_data['month'] = start_date.apply(lambda x : x.month).astype('category')\n",
    "campaign_data['year'] = start_date.apply(lambda x : x.year).astype('category')"
   ]
  },
  {
   "cell_type": "code",
   "execution_count": 14,
   "metadata": {},
   "outputs": [
    {
     "data": {
      "text/html": [
       "<div>\n",
       "<style scoped>\n",
       "    .dataframe tbody tr th:only-of-type {\n",
       "        vertical-align: middle;\n",
       "    }\n",
       "\n",
       "    .dataframe tbody tr th {\n",
       "        vertical-align: top;\n",
       "    }\n",
       "\n",
       "    .dataframe thead th {\n",
       "        text-align: right;\n",
       "    }\n",
       "</style>\n",
       "<table border=\"1\" class=\"dataframe\">\n",
       "  <thead>\n",
       "    <tr style=\"text-align: right;\">\n",
       "      <th></th>\n",
       "      <th>campaign_id</th>\n",
       "      <th>campaign_type</th>\n",
       "      <th>duration</th>\n",
       "      <th>month</th>\n",
       "      <th>year</th>\n",
       "    </tr>\n",
       "  </thead>\n",
       "  <tbody>\n",
       "    <tr>\n",
       "      <th>0</th>\n",
       "      <td>24</td>\n",
       "      <td>Y</td>\n",
       "      <td>60</td>\n",
       "      <td>10</td>\n",
       "      <td>2013</td>\n",
       "    </tr>\n",
       "    <tr>\n",
       "      <th>1</th>\n",
       "      <td>25</td>\n",
       "      <td>Y</td>\n",
       "      <td>32</td>\n",
       "      <td>10</td>\n",
       "      <td>2013</td>\n",
       "    </tr>\n",
       "    <tr>\n",
       "      <th>2</th>\n",
       "      <td>20</td>\n",
       "      <td>Y</td>\n",
       "      <td>70</td>\n",
       "      <td>9</td>\n",
       "      <td>2013</td>\n",
       "    </tr>\n",
       "  </tbody>\n",
       "</table>\n",
       "</div>"
      ],
      "text/plain": [
       "   campaign_id campaign_type  duration month  year\n",
       "0           24             Y        60    10  2013\n",
       "1           25             Y        32    10  2013\n",
       "2           20             Y        70     9  2013"
      ]
     },
     "metadata": {},
     "output_type": "display_data"
    },
    {
     "name": "stdout",
     "output_type": "stream",
     "text": [
      "campaign_id         int64\n",
      "campaign_type    category\n",
      "duration            int64\n",
      "month            category\n",
      "year             category\n",
      "dtype: object\n"
     ]
    }
   ],
   "source": [
    "campaign_data = campaign_data.drop(['start_date','end_date'], axis = 1)\n",
    "\n",
    "display(campaign_data.head(3))\n",
    "print(campaign_data.dtypes)"
   ]
  },
  {
   "cell_type": "markdown",
   "metadata": {},
   "source": [
    "## Exercício 7 - Merge Dataframes\n",
    "\n",
    "1. Faça um merge entre train e campaign_data. Qual coluna fica em `on`? Quais são os critérios em `how`?\n",
    "\n",
    "2. Combine o resultado do exercício $1$) com customer_demographics. Qual coluna fica em 'on'? Quais são os critérios em 'how'?\n",
    "\n",
    "3. Verifique os valores nulos obtidos em $2$.\n",
    "\n",
    "4. Imputamos os valores ausentes nas colunas demográficas. Para isso, amostramos com reposição da distribuição conjunta dos atributos demográficos observados.\n",
    "\n",
    "5. Merge com transações médias por assunto:\n",
    "\n",
    "* Faça um groupby por consumidor no dataframe da transação\n",
    "\n",
    "* Adicione o valor médio às variáveis contínuas (`selling_price`, `quantity`, etc)\n",
    "\n",
    "* merge com o DataFrame obtido em 4. Qual coluna fica em `on`? Qual critério entra em `how`?\n",
    "\n",
    "6. Merge com transações médias por item\n",
    "\n",
    "* a. Faça um agrupamento por item no dataframe da transação\n",
    "\n",
    "* b. Calcule o valor médio de variáveis contínuas\n",
    "\n",
    "* c. Faça um merge com o dataframe `coupon_item`\n",
    "\n",
    "* d. Faça um merge de c. com item_data. Qual coluna fica em `on`? Quais são os critérios em `how`?\n",
    "\n",
    "* e. Faça um agrupamento do dataframe d.: agrupando por `coupon_id`. Para cada grupo, calcule a moda das variáveis categóricas 'brand','brand_type,'category'.\n",
    "\n",
    "* f. Faça um agrupamento do dataframe d. agrupando por `coupon_id`. Para cada grupo, calcule a média das variáveis contínuas.\n",
    "\n",
    "* g. Faça uma fusão de d. com e. e então com f. Qual coluna fica em `on`? Quais são os critérios em `how`?\n",
    "\n",
    "7. Salve o dataframe resultante em um csv para prática de classe."
   ]
  },
  {
   "cell_type": "code",
   "execution_count": 15,
   "metadata": {},
   "outputs": [
    {
     "data": {
      "text/plain": [
       "((78369, 5), (28, 5), (760, 7), (1324566, 6), (92663, 2), (74066, 4))"
      ]
     },
     "execution_count": 15,
     "metadata": {},
     "output_type": "execute_result"
    }
   ],
   "source": [
    "train.shape, campaign_data.shape, cust_dem.shape, trans.shape, coupon_item.shape, item_data.shape"
   ]
  },
  {
   "cell_type": "markdown",
   "metadata": {},
   "source": [
    "<b> Fazemos um merge entre os dados de  train e campaign data</b>"
   ]
  },
  {
   "cell_type": "code",
   "execution_count": 16,
   "metadata": {},
   "outputs": [
    {
     "name": "stdout",
     "output_type": "stream",
     "text": [
      "(78369, 9)\n"
     ]
    },
    {
     "data": {
      "text/plain": [
       "id                   0\n",
       "campaign_id          0\n",
       "coupon_id            0\n",
       "customer_id          0\n",
       "redemption_status    0\n",
       "campaign_type        0\n",
       "duration             0\n",
       "month                0\n",
       "year                 0\n",
       "dtype: int64"
      ]
     },
     "execution_count": 16,
     "metadata": {},
     "output_type": "execute_result"
    }
   ],
   "source": [
    "data = pd.merge(train, campaign_data, on = 'campaign_id', how = 'left')\n",
    "print(data.shape)\n",
    "data.isnull().sum()"
   ]
  },
  {
   "cell_type": "markdown",
   "metadata": {},
   "source": [
    "<b> Merge com dados demográficos do consumidor</b>"
   ]
  },
  {
   "cell_type": "code",
   "execution_count": 17,
   "metadata": {},
   "outputs": [
    {
     "data": {
      "text/plain": [
       "(78369, 15)"
      ]
     },
     "execution_count": 17,
     "metadata": {},
     "output_type": "execute_result"
    }
   ],
   "source": [
    "data = pd.merge(data,cust_dem,on = 'customer_id', how = 'left')\n",
    "data.shape"
   ]
  },
  {
   "cell_type": "code",
   "execution_count": 18,
   "metadata": {},
   "outputs": [
    {
     "data": {
      "text/plain": [
       "id                       0\n",
       "campaign_id              0\n",
       "coupon_id                0\n",
       "customer_id              0\n",
       "redemption_status        0\n",
       "campaign_type            0\n",
       "duration                 0\n",
       "month                    0\n",
       "year                     0\n",
       "age_range            34708\n",
       "marital_status       34708\n",
       "rented               34708\n",
       "family_size          34708\n",
       "no_of_children       34708\n",
       "income_bracket       34708\n",
       "dtype: int64"
      ]
     },
     "execution_count": 18,
     "metadata": {},
     "output_type": "execute_result"
    }
   ],
   "source": [
    "data.isnull().sum()"
   ]
  },
  {
   "cell_type": "markdown",
   "metadata": {},
   "source": [
    "<b> Imputamos valores ausentes</b>\n",
    "\n",
    "Vamos obter uma amostra da distribuição conjunta de variáveis com valores ausentes. Desta forma, preservamos a variabilidade dos dados (não imputamos tudo pela moda) e a estrutura das correlações entre as variáveis (não atribuímos um valor de age_range incompatível com um de family_size)."
   ]
  },
  {
   "cell_type": "code",
   "execution_count": 19,
   "metadata": {},
   "outputs": [
    {
     "data": {
      "text/plain": [
       "id                   0\n",
       "campaign_id          0\n",
       "coupon_id            0\n",
       "customer_id          0\n",
       "redemption_status    0\n",
       "campaign_type        0\n",
       "duration             0\n",
       "month                0\n",
       "year                 0\n",
       "age_range            0\n",
       "marital_status       0\n",
       "rented               0\n",
       "family_size          0\n",
       "no_of_children       0\n",
       "income_bracket       0\n",
       "dtype: int64"
      ]
     },
     "execution_count": 19,
     "metadata": {},
     "output_type": "execute_result"
    }
   ],
   "source": [
    "# Nós imputamos valores ausentes por amostragem com reposicionamento dos dados observados\n",
    "# Desta forma preservamos a estrutura de correlação observada entre as colunas demográficas.\n",
    "\n",
    "impute_columns = ['age_range','marital_status','rented','family_size','no_of_children','income_bracket']\n",
    "\n",
    "null_mask = data[impute_columns].isnull().all(axis = 1)\n",
    "random_samples = data.loc[~null_mask,impute_columns].sample(n = null_mask.sum(), replace = True)\n",
    "data.loc[null_mask,impute_columns] = random_samples.values\n",
    "\n",
    "data.isnull().sum()"
   ]
  },
  {
   "cell_type": "markdown",
   "metadata": {},
   "source": [
    "<b> Merge com informações de transação média por cliente </b>\n",
    "\n",
    "Acrescentamos as informações da atividade de compra típica feita por cada consumidor."
   ]
  },
  {
   "cell_type": "code",
   "execution_count": 20,
   "metadata": {},
   "outputs": [],
   "source": [
    "# Merge transactions: cálculo da média dos valores de transação por assunto\n",
    "trans_customer = trans.groupby('customer_id')[['quantity','selling_price','other_discount','coupon_discount']].agg('mean')\n",
    "trans_customer.columns = ['mean_'+ col +'_cust' for col in trans_customer.columns]\n",
    "trans_customer = trans_customer.reset_index();"
   ]
  },
  {
   "cell_type": "code",
   "execution_count": 21,
   "metadata": {},
   "outputs": [],
   "source": [
    "data = pd.merge(data,trans_customer, on = 'customer_id', how = 'left')"
   ]
  },
  {
   "cell_type": "code",
   "execution_count": 22,
   "metadata": {},
   "outputs": [
    {
     "data": {
      "text/plain": [
       "(78369, 19)"
      ]
     },
     "execution_count": 22,
     "metadata": {},
     "output_type": "execute_result"
    }
   ],
   "source": [
    "data.shape"
   ]
  },
  {
   "cell_type": "code",
   "execution_count": 23,
   "metadata": {},
   "outputs": [
    {
     "data": {
      "text/html": [
       "<div>\n",
       "<style scoped>\n",
       "    .dataframe tbody tr th:only-of-type {\n",
       "        vertical-align: middle;\n",
       "    }\n",
       "\n",
       "    .dataframe tbody tr th {\n",
       "        vertical-align: top;\n",
       "    }\n",
       "\n",
       "    .dataframe thead th {\n",
       "        text-align: right;\n",
       "    }\n",
       "</style>\n",
       "<table border=\"1\" class=\"dataframe\">\n",
       "  <thead>\n",
       "    <tr style=\"text-align: right;\">\n",
       "      <th></th>\n",
       "      <th>id</th>\n",
       "      <th>campaign_id</th>\n",
       "      <th>coupon_id</th>\n",
       "      <th>customer_id</th>\n",
       "      <th>redemption_status</th>\n",
       "      <th>campaign_type</th>\n",
       "      <th>duration</th>\n",
       "      <th>month</th>\n",
       "      <th>year</th>\n",
       "      <th>age_range</th>\n",
       "      <th>marital_status</th>\n",
       "      <th>rented</th>\n",
       "      <th>family_size</th>\n",
       "      <th>no_of_children</th>\n",
       "      <th>income_bracket</th>\n",
       "      <th>mean_quantity_cust</th>\n",
       "      <th>mean_selling_price_cust</th>\n",
       "      <th>mean_other_discount_cust</th>\n",
       "      <th>mean_coupon_discount_cust</th>\n",
       "    </tr>\n",
       "  </thead>\n",
       "  <tbody>\n",
       "    <tr>\n",
       "      <th>0</th>\n",
       "      <td>1</td>\n",
       "      <td>13</td>\n",
       "      <td>27</td>\n",
       "      <td>1053</td>\n",
       "      <td>0</td>\n",
       "      <td>X</td>\n",
       "      <td>47</td>\n",
       "      <td>5</td>\n",
       "      <td>2013</td>\n",
       "      <td>46-55</td>\n",
       "      <td>Married</td>\n",
       "      <td>0</td>\n",
       "      <td>1</td>\n",
       "      <td>1</td>\n",
       "      <td>5</td>\n",
       "      <td>340.487097</td>\n",
       "      <td>184.260484</td>\n",
       "      <td>-33.168935</td>\n",
       "      <td>-0.287258</td>\n",
       "    </tr>\n",
       "    <tr>\n",
       "      <th>1</th>\n",
       "      <td>2</td>\n",
       "      <td>13</td>\n",
       "      <td>116</td>\n",
       "      <td>48</td>\n",
       "      <td>0</td>\n",
       "      <td>X</td>\n",
       "      <td>47</td>\n",
       "      <td>5</td>\n",
       "      <td>2013</td>\n",
       "      <td>36-45</td>\n",
       "      <td>Married</td>\n",
       "      <td>0</td>\n",
       "      <td>2</td>\n",
       "      <td>1</td>\n",
       "      <td>3</td>\n",
       "      <td>31.540260</td>\n",
       "      <td>234.247013</td>\n",
       "      <td>-27.699169</td>\n",
       "      <td>-3.215039</td>\n",
       "    </tr>\n",
       "    <tr>\n",
       "      <th>2</th>\n",
       "      <td>6</td>\n",
       "      <td>9</td>\n",
       "      <td>635</td>\n",
       "      <td>205</td>\n",
       "      <td>0</td>\n",
       "      <td>Y</td>\n",
       "      <td>32</td>\n",
       "      <td>3</td>\n",
       "      <td>2013</td>\n",
       "      <td>46-55</td>\n",
       "      <td>Married</td>\n",
       "      <td>0</td>\n",
       "      <td>2</td>\n",
       "      <td>1</td>\n",
       "      <td>7</td>\n",
       "      <td>1.392784</td>\n",
       "      <td>121.094495</td>\n",
       "      <td>-17.795660</td>\n",
       "      <td>-2.212082</td>\n",
       "    </tr>\n",
       "  </tbody>\n",
       "</table>\n",
       "</div>"
      ],
      "text/plain": [
       "   id  campaign_id  coupon_id  customer_id  redemption_status campaign_type  \\\n",
       "0   1           13         27         1053                  0             X   \n",
       "1   2           13        116           48                  0             X   \n",
       "2   6            9        635          205                  0             Y   \n",
       "\n",
       "   duration month  year age_range marital_status rented family_size  \\\n",
       "0        47     5  2013     46-55        Married      0           1   \n",
       "1        47     5  2013     36-45        Married      0           2   \n",
       "2        32     3  2013     46-55        Married      0           2   \n",
       "\n",
       "  no_of_children income_bracket  mean_quantity_cust  mean_selling_price_cust  \\\n",
       "0              1              5          340.487097               184.260484   \n",
       "1              1              3           31.540260               234.247013   \n",
       "2              1              7            1.392784               121.094495   \n",
       "\n",
       "   mean_other_discount_cust  mean_coupon_discount_cust  \n",
       "0                -33.168935                  -0.287258  \n",
       "1                -27.699169                  -3.215039  \n",
       "2                -17.795660                  -2.212082  "
      ]
     },
     "execution_count": 23,
     "metadata": {},
     "output_type": "execute_result"
    }
   ],
   "source": [
    "data.head(3)"
   ]
  },
  {
   "cell_type": "markdown",
   "metadata": {},
   "source": [
    "<b> Média de transações por item </b>\n",
    "\n",
    "Temos o mapeamento entre cupom e item. Vamos adicionar informações sobre quanto cada item é consumido."
   ]
  },
  {
   "cell_type": "code",
   "execution_count": 24,
   "metadata": {},
   "outputs": [
    {
     "data": {
      "text/html": [
       "<div>\n",
       "<style scoped>\n",
       "    .dataframe tbody tr th:only-of-type {\n",
       "        vertical-align: middle;\n",
       "    }\n",
       "\n",
       "    .dataframe tbody tr th {\n",
       "        vertical-align: top;\n",
       "    }\n",
       "\n",
       "    .dataframe thead th {\n",
       "        text-align: right;\n",
       "    }\n",
       "</style>\n",
       "<table border=\"1\" class=\"dataframe\">\n",
       "  <thead>\n",
       "    <tr style=\"text-align: right;\">\n",
       "      <th></th>\n",
       "      <th>item_id</th>\n",
       "      <th>mean_quantity_item</th>\n",
       "      <th>mean_selling_price_item</th>\n",
       "      <th>mean_other_discount_item</th>\n",
       "      <th>mean_coupon_discount_item</th>\n",
       "    </tr>\n",
       "  </thead>\n",
       "  <tbody>\n",
       "    <tr>\n",
       "      <th>0</th>\n",
       "      <td>1</td>\n",
       "      <td>1.0</td>\n",
       "      <td>124.31</td>\n",
       "      <td>0.0</td>\n",
       "      <td>0.0</td>\n",
       "    </tr>\n",
       "    <tr>\n",
       "      <th>1</th>\n",
       "      <td>2</td>\n",
       "      <td>1.0</td>\n",
       "      <td>35.26</td>\n",
       "      <td>0.0</td>\n",
       "      <td>0.0</td>\n",
       "    </tr>\n",
       "    <tr>\n",
       "      <th>2</th>\n",
       "      <td>3</td>\n",
       "      <td>1.0</td>\n",
       "      <td>56.64</td>\n",
       "      <td>0.0</td>\n",
       "      <td>0.0</td>\n",
       "    </tr>\n",
       "  </tbody>\n",
       "</table>\n",
       "</div>"
      ],
      "text/plain": [
       "   item_id  mean_quantity_item  mean_selling_price_item  \\\n",
       "0        1                 1.0                   124.31   \n",
       "1        2                 1.0                    35.26   \n",
       "2        3                 1.0                    56.64   \n",
       "\n",
       "   mean_other_discount_item  mean_coupon_discount_item  \n",
       "0                       0.0                        0.0  \n",
       "1                       0.0                        0.0  \n",
       "2                       0.0                        0.0  "
      ]
     },
     "execution_count": 24,
     "metadata": {},
     "output_type": "execute_result"
    }
   ],
   "source": [
    "# Merge with item data\n",
    "trans_item=trans.groupby('item_id')[['quantity','selling_price','other_discount','coupon_discount']].mean()\n",
    "trans_item.columns=['mean_' + col + '_item' for col in trans_item.columns]\n",
    "trans_item=trans_item.reset_index()\n",
    "trans_item.head(3)\n"
   ]
  },
  {
   "cell_type": "code",
   "execution_count": 25,
   "metadata": {},
   "outputs": [
    {
     "data": {
      "text/html": [
       "<div>\n",
       "<style scoped>\n",
       "    .dataframe tbody tr th:only-of-type {\n",
       "        vertical-align: middle;\n",
       "    }\n",
       "\n",
       "    .dataframe tbody tr th {\n",
       "        vertical-align: top;\n",
       "    }\n",
       "\n",
       "    .dataframe thead th {\n",
       "        text-align: right;\n",
       "    }\n",
       "</style>\n",
       "<table border=\"1\" class=\"dataframe\">\n",
       "  <thead>\n",
       "    <tr style=\"text-align: right;\">\n",
       "      <th></th>\n",
       "      <th>coupon_id</th>\n",
       "      <th>item_id</th>\n",
       "      <th>mean_quantity_item</th>\n",
       "      <th>mean_selling_price_item</th>\n",
       "      <th>mean_other_discount_item</th>\n",
       "      <th>mean_coupon_discount_item</th>\n",
       "      <th>brand</th>\n",
       "      <th>brand_type</th>\n",
       "      <th>category</th>\n",
       "    </tr>\n",
       "  </thead>\n",
       "  <tbody>\n",
       "    <tr>\n",
       "      <th>0</th>\n",
       "      <td>105</td>\n",
       "      <td>37</td>\n",
       "      <td>2.285714</td>\n",
       "      <td>113.12</td>\n",
       "      <td>-17.557143</td>\n",
       "      <td>0.0</td>\n",
       "      <td>56</td>\n",
       "      <td>Local</td>\n",
       "      <td>Grocery</td>\n",
       "    </tr>\n",
       "    <tr>\n",
       "      <th>1</th>\n",
       "      <td>6</td>\n",
       "      <td>37</td>\n",
       "      <td>2.285714</td>\n",
       "      <td>113.12</td>\n",
       "      <td>-17.557143</td>\n",
       "      <td>0.0</td>\n",
       "      <td>56</td>\n",
       "      <td>Local</td>\n",
       "      <td>Grocery</td>\n",
       "    </tr>\n",
       "    <tr>\n",
       "      <th>2</th>\n",
       "      <td>22</td>\n",
       "      <td>37</td>\n",
       "      <td>2.285714</td>\n",
       "      <td>113.12</td>\n",
       "      <td>-17.557143</td>\n",
       "      <td>0.0</td>\n",
       "      <td>56</td>\n",
       "      <td>Local</td>\n",
       "      <td>Grocery</td>\n",
       "    </tr>\n",
       "  </tbody>\n",
       "</table>\n",
       "</div>"
      ],
      "text/plain": [
       "   coupon_id  item_id  mean_quantity_item  mean_selling_price_item  \\\n",
       "0        105       37            2.285714                   113.12   \n",
       "1          6       37            2.285714                   113.12   \n",
       "2         22       37            2.285714                   113.12   \n",
       "\n",
       "   mean_other_discount_item  mean_coupon_discount_item brand brand_type  \\\n",
       "0                -17.557143                        0.0    56      Local   \n",
       "1                -17.557143                        0.0    56      Local   \n",
       "2                -17.557143                        0.0    56      Local   \n",
       "\n",
       "  category  \n",
       "0  Grocery  \n",
       "1  Grocery  \n",
       "2  Grocery  "
      ]
     },
     "execution_count": 25,
     "metadata": {},
     "output_type": "execute_result"
    }
   ],
   "source": [
    "coupon_item_trans = pd.merge(coupon_item,trans_item,on = 'item_id', how = 'inner')\n",
    "coupon_item_trans_brand = pd.merge(coupon_item_trans,item_data,on = 'item_id', how = 'left')\n",
    "coupon_item_trans_brand.head(3)"
   ]
  },
  {
   "cell_type": "code",
   "execution_count": 26,
   "metadata": {},
   "outputs": [
    {
     "data": {
      "text/plain": [
       "coupon_id                       int64\n",
       "item_id                         int64\n",
       "mean_quantity_item            float64\n",
       "mean_selling_price_item       float64\n",
       "mean_other_discount_item      float64\n",
       "mean_coupon_discount_item     float64\n",
       "brand                        category\n",
       "brand_type                   category\n",
       "category                     category\n",
       "dtype: object"
      ]
     },
     "execution_count": 26,
     "metadata": {},
     "output_type": "execute_result"
    }
   ],
   "source": [
    "coupon_item_trans_brand.dtypes"
   ]
  },
  {
   "cell_type": "code",
   "execution_count": 27,
   "metadata": {},
   "outputs": [
    {
     "data": {
      "text/html": [
       "<div>\n",
       "<style scoped>\n",
       "    .dataframe tbody tr th:only-of-type {\n",
       "        vertical-align: middle;\n",
       "    }\n",
       "\n",
       "    .dataframe tbody tr th {\n",
       "        vertical-align: top;\n",
       "    }\n",
       "\n",
       "    .dataframe thead th {\n",
       "        text-align: right;\n",
       "    }\n",
       "</style>\n",
       "<table border=\"1\" class=\"dataframe\">\n",
       "  <thead>\n",
       "    <tr style=\"text-align: right;\">\n",
       "      <th></th>\n",
       "      <th>coupon_id</th>\n",
       "      <th>brand</th>\n",
       "      <th>brand_type</th>\n",
       "      <th>category</th>\n",
       "    </tr>\n",
       "  </thead>\n",
       "  <tbody>\n",
       "    <tr>\n",
       "      <th>0</th>\n",
       "      <td>1</td>\n",
       "      <td>1475</td>\n",
       "      <td>Established</td>\n",
       "      <td>Natural Products</td>\n",
       "    </tr>\n",
       "    <tr>\n",
       "      <th>1</th>\n",
       "      <td>2</td>\n",
       "      <td>2084</td>\n",
       "      <td>Established</td>\n",
       "      <td>Grocery</td>\n",
       "    </tr>\n",
       "    <tr>\n",
       "      <th>2</th>\n",
       "      <td>3</td>\n",
       "      <td>278</td>\n",
       "      <td>Established</td>\n",
       "      <td>Grocery</td>\n",
       "    </tr>\n",
       "  </tbody>\n",
       "</table>\n",
       "</div>"
      ],
      "text/plain": [
       "   coupon_id  brand   brand_type          category\n",
       "0          1   1475  Established  Natural Products\n",
       "1          2   2084  Established           Grocery\n",
       "2          3    278  Established           Grocery"
      ]
     },
     "execution_count": 27,
     "metadata": {},
     "output_type": "execute_result"
    }
   ],
   "source": [
    "gb = coupon_item_trans_brand.groupby('coupon_id')\n",
    "coupon_category = gb['category'].apply(lambda x:x.value_counts().index[0])\n",
    "coupon_brand_type = gb['brand_type'].apply(lambda x:x.value_counts().index[0])\n",
    "coupon_brand = gb['brand'].apply(lambda x:x.value_counts().index[0])\n",
    "\n",
    "coupon_brand = pd.concat([pd.DataFrame(coupon_brand), \n",
    "                          pd.DataFrame(coupon_brand_type),\n",
    "                          pd.DataFrame(coupon_category)],\n",
    "                         axis = 1\n",
    "                        ).reset_index()\n",
    "coupon_brand.head(3)"
   ]
  },
  {
   "cell_type": "code",
   "execution_count": 28,
   "metadata": {},
   "outputs": [
    {
     "data": {
      "text/html": [
       "<div>\n",
       "<style scoped>\n",
       "    .dataframe tbody tr th:only-of-type {\n",
       "        vertical-align: middle;\n",
       "    }\n",
       "\n",
       "    .dataframe tbody tr th {\n",
       "        vertical-align: top;\n",
       "    }\n",
       "\n",
       "    .dataframe thead th {\n",
       "        text-align: right;\n",
       "    }\n",
       "</style>\n",
       "<table border=\"1\" class=\"dataframe\">\n",
       "  <thead>\n",
       "    <tr style=\"text-align: right;\">\n",
       "      <th></th>\n",
       "      <th>coupon_id</th>\n",
       "      <th>mean_quantity_item_coupon</th>\n",
       "      <th>mean_selling_price_item_coupon</th>\n",
       "      <th>mean_other_discount_item_coupon</th>\n",
       "      <th>mean_coupon_discount_item_coupon</th>\n",
       "    </tr>\n",
       "  </thead>\n",
       "  <tbody>\n",
       "    <tr>\n",
       "      <th>0</th>\n",
       "      <td>1</td>\n",
       "      <td>1.221644</td>\n",
       "      <td>100.195701</td>\n",
       "      <td>-25.273218</td>\n",
       "      <td>-1.321524</td>\n",
       "    </tr>\n",
       "    <tr>\n",
       "      <th>1</th>\n",
       "      <td>2</td>\n",
       "      <td>1.137500</td>\n",
       "      <td>114.354437</td>\n",
       "      <td>-23.314062</td>\n",
       "      <td>0.000000</td>\n",
       "    </tr>\n",
       "    <tr>\n",
       "      <th>2</th>\n",
       "      <td>3</td>\n",
       "      <td>1.121525</td>\n",
       "      <td>129.981640</td>\n",
       "      <td>-17.543797</td>\n",
       "      <td>-2.747358</td>\n",
       "    </tr>\n",
       "  </tbody>\n",
       "</table>\n",
       "</div>"
      ],
      "text/plain": [
       "   coupon_id  mean_quantity_item_coupon  mean_selling_price_item_coupon  \\\n",
       "0          1                   1.221644                      100.195701   \n",
       "1          2                   1.137500                      114.354437   \n",
       "2          3                   1.121525                      129.981640   \n",
       "\n",
       "   mean_other_discount_item_coupon  mean_coupon_discount_item_coupon  \n",
       "0                       -25.273218                         -1.321524  \n",
       "1                       -23.314062                          0.000000  \n",
       "2                       -17.543797                         -2.747358  "
      ]
     },
     "execution_count": 28,
     "metadata": {},
     "output_type": "execute_result"
    }
   ],
   "source": [
    "coupon_item_sales = coupon_item_trans_brand.groupby('coupon_id')[['mean_quantity_item', \n",
    "                                                                  'mean_selling_price_item', \n",
    "                                                                  'mean_other_discount_item', \n",
    "                                                                  'mean_coupon_discount_item']\n",
    "                                                                ].mean()\n",
    "\n",
    "coupon_item_sales.columns = [col + '_coupon' for col in coupon_item_sales]\n",
    "coupon_item_sales = coupon_item_sales.reset_index()\n",
    "coupon_item_sales.head(3)"
   ]
  },
  {
   "cell_type": "code",
   "execution_count": 29,
   "metadata": {},
   "outputs": [],
   "source": [
    "data = pd.merge(data,coupon_item_sales, \n",
    "                on = 'coupon_id', \n",
    "                how = 'left'\n",
    "               )"
   ]
  },
  {
   "cell_type": "code",
   "execution_count": 30,
   "metadata": {},
   "outputs": [],
   "source": [
    "data = pd.merge(data,coupon_brand, \n",
    "                on = 'coupon_id', \n",
    "                how = 'left'\n",
    "               )"
   ]
  },
  {
   "cell_type": "code",
   "execution_count": 31,
   "metadata": {},
   "outputs": [
    {
     "data": {
      "text/plain": [
       "id                                     int64\n",
       "campaign_id                            int64\n",
       "coupon_id                              int64\n",
       "customer_id                            int64\n",
       "redemption_status                      int64\n",
       "campaign_type                       category\n",
       "duration                               int64\n",
       "month                               category\n",
       "year                                category\n",
       "age_range                             object\n",
       "marital_status                        object\n",
       "rented                              category\n",
       "family_size                           object\n",
       "no_of_children                        object\n",
       "income_bracket                      category\n",
       "mean_quantity_cust                   float64\n",
       "mean_selling_price_cust              float64\n",
       "mean_other_discount_cust             float64\n",
       "mean_coupon_discount_cust            float64\n",
       "mean_quantity_item_coupon            float64\n",
       "mean_selling_price_item_coupon       float64\n",
       "mean_other_discount_item_coupon      float64\n",
       "mean_coupon_discount_item_coupon     float64\n",
       "brand                               category\n",
       "brand_type                          category\n",
       "category                            category\n",
       "dtype: object"
      ]
     },
     "execution_count": 31,
     "metadata": {},
     "output_type": "execute_result"
    }
   ],
   "source": [
    "data[['brand','brand_type','category']] = data[['brand','brand_type','category']].astype('category')\n",
    "data.dtypes"
   ]
  },
  {
   "cell_type": "code",
   "execution_count": 32,
   "metadata": {},
   "outputs": [
    {
     "data": {
      "text/plain": [
       "(78369, 26)"
      ]
     },
     "execution_count": 32,
     "metadata": {},
     "output_type": "execute_result"
    }
   ],
   "source": [
    "data.shape"
   ]
  },
  {
   "cell_type": "code",
   "execution_count": 33,
   "metadata": {},
   "outputs": [],
   "source": [
    "# salvamos os dados\n",
    "data.to_csv('../Data/data_preprocessed.csv')"
   ]
  },
  {
   "cell_type": "code",
   "execution_count": null,
   "metadata": {},
   "outputs": [],
   "source": []
  }
 ],
 "metadata": {
  "kernelspec": {
   "display_name": "Python 3",
   "language": "python",
   "name": "python3"
  },
  "language_info": {
   "codemirror_mode": {
    "name": "ipython",
    "version": 3
   },
   "file_extension": ".py",
   "mimetype": "text/x-python",
   "name": "python",
   "nbconvert_exporter": "python",
   "pygments_lexer": "ipython3",
   "version": "3.9.6"
  }
 },
 "nbformat": 4,
 "nbformat_minor": 4
}
