{
 "cells": [
  {
   "cell_type": "markdown",
   "metadata": {},
   "source": [
    "<img src='letscodebr_cover.jpeg' align='left' width=100%/>"
   ]
  },
  {
   "cell_type": "markdown",
   "metadata": {},
   "source": [
    "# Ada Tech [DS-PY-004] Técnicas de Programação I (PY) Aulas 4 e 5 : Pandas - Resolução do Exercício 3."
   ]
  },
  {
   "cell_type": "markdown",
   "metadata": {},
   "source": [
    "## Intro\n",
    "\n",
    "Nesta parte vimos alguns métodos do Pandas para calcular medidas por grupos.\n",
    "\n",
    "Para os exercícios, usaremos um conjunto de dados de propriedades à venda na Cidade de Buenos Aires em 2016 disponibilizado pelo GCBA.\n",
    "\n",
    "A ideia dessa prática é revisar alguns tópicos que vimos nas aulas anteriores e exercitar os diferentes métodos que vimos nesta prática e que vamos usar novamente em aulas futuras."
   ]
  },
  {
   "cell_type": "markdown",
   "metadata": {},
   "source": [
    "## Dataset\n",
    "\n",
    "O Governo da Cidade de Buenos Aires disponibiliza alguns [conjuntos de dados](https://data.buenosaires.gob.ar/) para acesso público\n",
    "\n",
    "Lá encontramos dados sobre [imóveis à venda](https://data.buenosaires.gob.ar/dataset/departamentos-venta), separados por ano.\n",
    "\n",
    "Nesta aula, vamos usar um subconjunto dos dados de [Apartamentos à venda 2016](https://data.buenosaires.gob.ar/dataset/departamentos-venta/archivo/juqdkmgo-7031-resource) que baixamos.\n",
    "\n",
    "Na pasta Dados desta aulas, já temos esse conjunto de dados baixado, o nome do arquivo é **departamentos-em-venda-2016.csv**."
   ]
  },
  {
   "cell_type": "markdown",
   "metadata": {},
   "source": [
    "## Imports"
   ]
  },
  {
   "cell_type": "code",
   "execution_count": 1,
   "metadata": {},
   "outputs": [],
   "source": [
    "import pandas as pd\n",
    "import numpy as np"
   ]
  },
  {
   "cell_type": "markdown",
   "metadata": {},
   "source": [
    "## Exercício 1  - Importar \n",
    "\n",
    "Vamos ler os dados do arquivo `departamentos-em-venda-2016.csv`.\n",
    "\n",
    "Vamos ver quantos registros você possui e quais são os tipos de dados em cada coluna.\n",
    "\n",
    "Vejamos os primeiros registros para verificar se os dados foram importados corretamente."
   ]
  },
  {
   "cell_type": "code",
   "execution_count": 2,
   "metadata": {},
   "outputs": [
    {
     "name": "stdout",
     "output_type": "stream",
     "text": [
      "(7564, 29)\n",
      "CALLE                       object\n",
      "NUMERO                     float64\n",
      "ID_ZONAPRO                   int64\n",
      "OPERACION                   object\n",
      "TIPO                        object\n",
      "M2                           int64\n",
      "M2CUB                        int64\n",
      "PRECIOTEXT                  object\n",
      "PRECIOARS                    int64\n",
      "PRECIOARSM                   int64\n",
      "DOLARES                      int64\n",
      "U_S_M2                       int64\n",
      "AMBIENTES                    int64\n",
      "ANTIGUEDAD                   int64\n",
      "BAÑOS                        int64\n",
      "DIRECCION                   object\n",
      "LOCATION                    object\n",
      "PUBLICADO                   object\n",
      "PROCESADO                   object\n",
      "URL                         object\n",
      "REVISION                   float64\n",
      "NOTA                       float64\n",
      "DIRECCION_NORMALIZADA       object\n",
      "BARRIO                      object\n",
      "COMUNA                      object\n",
      "CODIGO_POSTAL              float64\n",
      "CODIGO_POSTAL_ARGENTINO     object\n",
      "LATITUD                    float64\n",
      "LONGITUD                   float64\n",
      "dtype: object\n"
     ]
    },
    {
     "data": {
      "text/html": [
       "<div>\n",
       "<style scoped>\n",
       "    .dataframe tbody tr th:only-of-type {\n",
       "        vertical-align: middle;\n",
       "    }\n",
       "\n",
       "    .dataframe tbody tr th {\n",
       "        vertical-align: top;\n",
       "    }\n",
       "\n",
       "    .dataframe thead th {\n",
       "        text-align: right;\n",
       "    }\n",
       "</style>\n",
       "<table border=\"1\" class=\"dataframe\">\n",
       "  <thead>\n",
       "    <tr style=\"text-align: right;\">\n",
       "      <th></th>\n",
       "      <th>CALLE</th>\n",
       "      <th>NUMERO</th>\n",
       "      <th>ID_ZONAPRO</th>\n",
       "      <th>OPERACION</th>\n",
       "      <th>TIPO</th>\n",
       "      <th>M2</th>\n",
       "      <th>M2CUB</th>\n",
       "      <th>PRECIOTEXT</th>\n",
       "      <th>PRECIOARS</th>\n",
       "      <th>PRECIOARSM</th>\n",
       "      <th>...</th>\n",
       "      <th>URL</th>\n",
       "      <th>REVISION</th>\n",
       "      <th>NOTA</th>\n",
       "      <th>DIRECCION_NORMALIZADA</th>\n",
       "      <th>BARRIO</th>\n",
       "      <th>COMUNA</th>\n",
       "      <th>CODIGO_POSTAL</th>\n",
       "      <th>CODIGO_POSTAL_ARGENTINO</th>\n",
       "      <th>LATITUD</th>\n",
       "      <th>LONGITUD</th>\n",
       "    </tr>\n",
       "  </thead>\n",
       "  <tbody>\n",
       "    <tr>\n",
       "      <th>0</th>\n",
       "      <td>GUATEMALA</td>\n",
       "      <td>5574.0</td>\n",
       "      <td>42408691</td>\n",
       "      <td>VTA</td>\n",
       "      <td>DTO</td>\n",
       "      <td>57</td>\n",
       "      <td>50</td>\n",
       "      <td>U$S 170.150</td>\n",
       "      <td>2977625</td>\n",
       "      <td>59553</td>\n",
       "      <td>...</td>\n",
       "      <td>HTTP://WWW.ZONAPROP.COM.AR/PROPIEDADES/A-42408...</td>\n",
       "      <td>NaN</td>\n",
       "      <td>NaN</td>\n",
       "      <td>GUATEMALA 5574</td>\n",
       "      <td>PALERMO</td>\n",
       "      <td>COMUNA 14</td>\n",
       "      <td>1425.0</td>\n",
       "      <td>C1425BVH</td>\n",
       "      <td>-34.580581</td>\n",
       "      <td>-58.431758</td>\n",
       "    </tr>\n",
       "    <tr>\n",
       "      <th>1</th>\n",
       "      <td>ZAPATA</td>\n",
       "      <td>300.0</td>\n",
       "      <td>42408710</td>\n",
       "      <td>VTA</td>\n",
       "      <td>DTO</td>\n",
       "      <td>46</td>\n",
       "      <td>46</td>\n",
       "      <td>U$S 118.650</td>\n",
       "      <td>2076375</td>\n",
       "      <td>45139</td>\n",
       "      <td>...</td>\n",
       "      <td>HTTP://WWW.ZONAPROP.COM.AR/PROPIEDADES/A-42408...</td>\n",
       "      <td>NaN</td>\n",
       "      <td>NaN</td>\n",
       "      <td>ZAPATA 300</td>\n",
       "      <td>PALERMO</td>\n",
       "      <td>COMUNA 14</td>\n",
       "      <td>1426.0</td>\n",
       "      <td>C1426AED</td>\n",
       "      <td>-34.573870</td>\n",
       "      <td>-58.440609</td>\n",
       "    </tr>\n",
       "    <tr>\n",
       "      <th>2</th>\n",
       "      <td>ZAPATA</td>\n",
       "      <td>300.0</td>\n",
       "      <td>42518390</td>\n",
       "      <td>VTA</td>\n",
       "      <td>DTO</td>\n",
       "      <td>61</td>\n",
       "      <td>56</td>\n",
       "      <td>U$S 181.470</td>\n",
       "      <td>3175725</td>\n",
       "      <td>56709</td>\n",
       "      <td>...</td>\n",
       "      <td>HTTP://WWW.ZONAPROP.COM.AR/PROPIEDADES/A-42518...</td>\n",
       "      <td>NaN</td>\n",
       "      <td>NaN</td>\n",
       "      <td>ZAPATA 300</td>\n",
       "      <td>PALERMO</td>\n",
       "      <td>COMUNA 14</td>\n",
       "      <td>1426.0</td>\n",
       "      <td>C1426AED</td>\n",
       "      <td>-34.573870</td>\n",
       "      <td>-58.440609</td>\n",
       "    </tr>\n",
       "  </tbody>\n",
       "</table>\n",
       "<p>3 rows × 29 columns</p>\n",
       "</div>"
      ],
      "text/plain": [
       "       CALLE  NUMERO  ID_ZONAPRO OPERACION TIPO  M2  M2CUB   PRECIOTEXT  \\\n",
       "0  GUATEMALA  5574.0    42408691       VTA  DTO  57     50  U$S 170.150   \n",
       "1     ZAPATA   300.0    42408710       VTA  DTO  46     46  U$S 118.650   \n",
       "2     ZAPATA   300.0    42518390       VTA  DTO  61     56  U$S 181.470   \n",
       "\n",
       "   PRECIOARS  PRECIOARSM  ...  \\\n",
       "0    2977625       59553  ...   \n",
       "1    2076375       45139  ...   \n",
       "2    3175725       56709  ...   \n",
       "\n",
       "                                                 URL  REVISION  NOTA  \\\n",
       "0  HTTP://WWW.ZONAPROP.COM.AR/PROPIEDADES/A-42408...       NaN   NaN   \n",
       "1  HTTP://WWW.ZONAPROP.COM.AR/PROPIEDADES/A-42408...       NaN   NaN   \n",
       "2  HTTP://WWW.ZONAPROP.COM.AR/PROPIEDADES/A-42518...       NaN   NaN   \n",
       "\n",
       "   DIRECCION_NORMALIZADA   BARRIO     COMUNA CODIGO_POSTAL  \\\n",
       "0         GUATEMALA 5574  PALERMO  COMUNA 14        1425.0   \n",
       "1             ZAPATA 300  PALERMO  COMUNA 14        1426.0   \n",
       "2             ZAPATA 300  PALERMO  COMUNA 14        1426.0   \n",
       "\n",
       "  CODIGO_POSTAL_ARGENTINO    LATITUD   LONGITUD  \n",
       "0                C1425BVH -34.580581 -58.431758  \n",
       "1                C1426AED -34.573870 -58.440609  \n",
       "2                C1426AED -34.573870 -58.440609  \n",
       "\n",
       "[3 rows x 29 columns]"
      ]
     },
     "execution_count": 2,
     "metadata": {},
     "output_type": "execute_result"
    }
   ],
   "source": [
    "data_location = \"../Data/departamentos-em-venda-2016.csv\"\n",
    "data = pd.read_csv(data_location, sep = \";\")\n",
    "print(data.shape)\n",
    "print(data.dtypes)\n",
    "data.head(3)"
   ]
  },
  {
   "cell_type": "markdown",
   "metadata": {},
   "source": [
    "## Exercício 2  - Limpeza\n",
    "\n",
    "Vamos criar uma nova coluna (PRECIOTEXT_CLEAN) do tipo numérico, que tem os valores em dólares que lemos no campo PRECIOTEXT, ou NaN se esses valores forem expressos em pesos.\n",
    "\n",
    "1) Crie um objeto Series que resulte da limpeza dos valores do campo PRECIOTEXT. Temos que remover os símbolos \"U\\\\$S\" e \".\"\n",
    "\n",
    "2) No caso da Series resultante do ponto 1) substituímos os valores em pesos ('\\\\$') por nulos.\n",
    "\n",
    "3) Crie uma nova coluna de tipo numérico no DataFrame (PRECIOTEXT_CLEAN) e atribua os valores de resultado de 2)"
   ]
  },
  {
   "cell_type": "code",
   "execution_count": 3,
   "metadata": {},
   "outputs": [
    {
     "data": {
      "text/plain": [
       "pandas.core.series.Series"
      ]
     },
     "execution_count": 3,
     "metadata": {},
     "output_type": "execute_result"
    }
   ],
   "source": [
    "import re\n",
    "\n",
    "# substituição de U$S\n",
    "dolares_pattern = \"U\\$S\\s*\"\n",
    "dolares_regex = re.compile(dolares_pattern)\n",
    "\n",
    "# substituo o ponto decimal\n",
    "decimal_pattern = \"\\.\"\n",
    "decimal_regex = re.compile(decimal_pattern)\n",
    "\n",
    "without_dolar = data.PRECIOTEXT.apply(lambda x: x if x is np.NaN else dolares_regex.sub(\"\", x))\n",
    "\n",
    "without_dolar_without_dot = without_dolar.apply(lambda x: x if x is np.NaN else decimal_regex.sub(\"\", x))\n",
    "\n",
    "type(without_dolar_without_dot)"
   ]
  },
  {
   "cell_type": "code",
   "execution_count": 4,
   "metadata": {},
   "outputs": [
    {
     "name": "stdout",
     "output_type": "stream",
     "text": [
      "142        $13000\n",
      "156     $ 1140000\n",
      "257        $89000\n",
      "278     $ 1396000\n",
      "279     $ 1927000\n",
      "          ...    \n",
      "6556    $ 1021734\n",
      "6557    $ 1188007\n",
      "6558    $ 1093950\n",
      "6559    $ 1077120\n",
      "6560    $ 1108868\n",
      "Name: PRECIOTEXT, Length: 308, dtype: object\n"
     ]
    }
   ],
   "source": [
    "# monto uma máscara com os registros que têm o valor de PRECIOTEXT em $\n",
    "pesos_pattern = \"\\$\"\n",
    "pesos_regex = re.compile(pesos_pattern)\n",
    "\n",
    "matches_pesos = without_dolar_without_dot.apply(lambda x: x if x is np.NaN else pesos_regex.match(x))\n",
    "pesos_mask = matches_pesos.notnull()\n",
    "\n",
    "\n",
    "print(without_dolar_without_dot[pesos_mask])\n",
    "\n",
    "\n",
    "without_dolar_without_dot[pesos_mask] = np.NaN\n"
   ]
  },
  {
   "cell_type": "code",
   "execution_count": 5,
   "metadata": {},
   "outputs": [],
   "source": [
    "without_dolar_without_dot_without_pesos_num  = without_dolar_without_dot.astype(float)\n",
    "data[\"PRECIOTEXT_CLEAN\"] = without_dolar_without_dot_without_pesos_num\n"
   ]
  },
  {
   "cell_type": "markdown",
   "metadata": {},
   "source": [
    "## Exercício 3  - Preço por metro quadrado em dólares\n",
    "\n",
    "Vamos criar uma coluna do tipo numérico (PRECIOTEXTM) que tem o preço do $m^{2}$ em dólares calculado como o valor de PRECIOTEXT_CLEAN / M2."
   ]
  },
  {
   "cell_type": "code",
   "execution_count": 6,
   "metadata": {},
   "outputs": [
    {
     "data": {
      "text/html": [
       "<div>\n",
       "<style scoped>\n",
       "    .dataframe tbody tr th:only-of-type {\n",
       "        vertical-align: middle;\n",
       "    }\n",
       "\n",
       "    .dataframe tbody tr th {\n",
       "        vertical-align: top;\n",
       "    }\n",
       "\n",
       "    .dataframe thead th {\n",
       "        text-align: right;\n",
       "    }\n",
       "</style>\n",
       "<table border=\"1\" class=\"dataframe\">\n",
       "  <thead>\n",
       "    <tr style=\"text-align: right;\">\n",
       "      <th></th>\n",
       "      <th>CALLE</th>\n",
       "      <th>NUMERO</th>\n",
       "      <th>ID_ZONAPRO</th>\n",
       "      <th>OPERACION</th>\n",
       "      <th>TIPO</th>\n",
       "      <th>M2</th>\n",
       "      <th>M2CUB</th>\n",
       "      <th>PRECIOTEXT</th>\n",
       "      <th>PRECIOARS</th>\n",
       "      <th>PRECIOARSM</th>\n",
       "      <th>...</th>\n",
       "      <th>NOTA</th>\n",
       "      <th>DIRECCION_NORMALIZADA</th>\n",
       "      <th>BARRIO</th>\n",
       "      <th>COMUNA</th>\n",
       "      <th>CODIGO_POSTAL</th>\n",
       "      <th>CODIGO_POSTAL_ARGENTINO</th>\n",
       "      <th>LATITUD</th>\n",
       "      <th>LONGITUD</th>\n",
       "      <th>PRECIOTEXT_CLEAN</th>\n",
       "      <th>PRECIOTEXTM</th>\n",
       "    </tr>\n",
       "  </thead>\n",
       "  <tbody>\n",
       "    <tr>\n",
       "      <th>0</th>\n",
       "      <td>GUATEMALA</td>\n",
       "      <td>5574.0</td>\n",
       "      <td>42408691</td>\n",
       "      <td>VTA</td>\n",
       "      <td>DTO</td>\n",
       "      <td>57</td>\n",
       "      <td>50</td>\n",
       "      <td>U$S 170.150</td>\n",
       "      <td>2977625</td>\n",
       "      <td>59553</td>\n",
       "      <td>...</td>\n",
       "      <td>NaN</td>\n",
       "      <td>GUATEMALA 5574</td>\n",
       "      <td>PALERMO</td>\n",
       "      <td>COMUNA 14</td>\n",
       "      <td>1425.0</td>\n",
       "      <td>C1425BVH</td>\n",
       "      <td>-34.580581</td>\n",
       "      <td>-58.431758</td>\n",
       "      <td>170150.0</td>\n",
       "      <td>2985.09</td>\n",
       "    </tr>\n",
       "    <tr>\n",
       "      <th>1</th>\n",
       "      <td>ZAPATA</td>\n",
       "      <td>300.0</td>\n",
       "      <td>42408710</td>\n",
       "      <td>VTA</td>\n",
       "      <td>DTO</td>\n",
       "      <td>46</td>\n",
       "      <td>46</td>\n",
       "      <td>U$S 118.650</td>\n",
       "      <td>2076375</td>\n",
       "      <td>45139</td>\n",
       "      <td>...</td>\n",
       "      <td>NaN</td>\n",
       "      <td>ZAPATA 300</td>\n",
       "      <td>PALERMO</td>\n",
       "      <td>COMUNA 14</td>\n",
       "      <td>1426.0</td>\n",
       "      <td>C1426AED</td>\n",
       "      <td>-34.573870</td>\n",
       "      <td>-58.440609</td>\n",
       "      <td>118650.0</td>\n",
       "      <td>2579.35</td>\n",
       "    </tr>\n",
       "    <tr>\n",
       "      <th>2</th>\n",
       "      <td>ZAPATA</td>\n",
       "      <td>300.0</td>\n",
       "      <td>42518390</td>\n",
       "      <td>VTA</td>\n",
       "      <td>DTO</td>\n",
       "      <td>61</td>\n",
       "      <td>56</td>\n",
       "      <td>U$S 181.470</td>\n",
       "      <td>3175725</td>\n",
       "      <td>56709</td>\n",
       "      <td>...</td>\n",
       "      <td>NaN</td>\n",
       "      <td>ZAPATA 300</td>\n",
       "      <td>PALERMO</td>\n",
       "      <td>COMUNA 14</td>\n",
       "      <td>1426.0</td>\n",
       "      <td>C1426AED</td>\n",
       "      <td>-34.573870</td>\n",
       "      <td>-58.440609</td>\n",
       "      <td>181470.0</td>\n",
       "      <td>2974.92</td>\n",
       "    </tr>\n",
       "  </tbody>\n",
       "</table>\n",
       "<p>3 rows × 31 columns</p>\n",
       "</div>"
      ],
      "text/plain": [
       "       CALLE  NUMERO  ID_ZONAPRO OPERACION TIPO  M2  M2CUB   PRECIOTEXT  \\\n",
       "0  GUATEMALA  5574.0    42408691       VTA  DTO  57     50  U$S 170.150   \n",
       "1     ZAPATA   300.0    42408710       VTA  DTO  46     46  U$S 118.650   \n",
       "2     ZAPATA   300.0    42518390       VTA  DTO  61     56  U$S 181.470   \n",
       "\n",
       "   PRECIOARS  PRECIOARSM  ...  NOTA  DIRECCION_NORMALIZADA   BARRIO  \\\n",
       "0    2977625       59553  ...   NaN         GUATEMALA 5574  PALERMO   \n",
       "1    2076375       45139  ...   NaN             ZAPATA 300  PALERMO   \n",
       "2    3175725       56709  ...   NaN             ZAPATA 300  PALERMO   \n",
       "\n",
       "      COMUNA  CODIGO_POSTAL CODIGO_POSTAL_ARGENTINO    LATITUD   LONGITUD  \\\n",
       "0  COMUNA 14         1425.0                C1425BVH -34.580581 -58.431758   \n",
       "1  COMUNA 14         1426.0                C1426AED -34.573870 -58.440609   \n",
       "2  COMUNA 14         1426.0                C1426AED -34.573870 -58.440609   \n",
       "\n",
       "  PRECIOTEXT_CLEAN PRECIOTEXTM  \n",
       "0         170150.0     2985.09  \n",
       "1         118650.0     2579.35  \n",
       "2         181470.0     2974.92  \n",
       "\n",
       "[3 rows x 31 columns]"
      ]
     },
     "execution_count": 6,
     "metadata": {},
     "output_type": "execute_result"
    }
   ],
   "source": [
    "data[\"PRECIOTEXTM\"] = (data[\"PRECIOTEXT_CLEAN\"] / data[\"M2\"]).round(2)\n",
    "data.head(3)\n"
   ]
  },
  {
   "cell_type": "markdown",
   "metadata": {},
   "source": [
    "## Exercício 4  - Preço médio por metro quadrado em dólares por bairro\n",
    "\n",
    "Vamos calcular o preço médio por metro quadrado em dólares por bairro usando `groupby` e `pivot_table`.\n",
    "\n",
    "Quais são os cinco bairros mais caros?"
   ]
  },
  {
   "cell_type": "code",
   "execution_count": 7,
   "metadata": {},
   "outputs": [
    {
     "data": {
      "text/plain": [
       "BARRIO\n",
       "PUERTO MADERO    5412.47\n",
       "PALERMO          3136.02\n",
       "BELGRANO         3110.07\n",
       "RETIRO           2941.05\n",
       "RECOLETA         2876.20\n",
       "Name: PRECIOTEXTM, dtype: float64"
      ]
     },
     "execution_count": 7,
     "metadata": {},
     "output_type": "execute_result"
    }
   ],
   "source": [
    "preco_m2_por_bairro = data.groupby(\"BARRIO\")[\"PRECIOTEXTM\"].mean().round(2)\n",
    "#print(precio_m2_prom_barrio)\n",
    "#type(precio_m2_prom_barrio)\n",
    "preco_m2_por_bairro_sort = preco_m2_por_bairro.sort_values(ascending = False)\n",
    "preco_m2_por_bairro_top5 = preco_m2_por_bairro_sort[0:5]\n",
    "preco_m2_por_bairro_top5"
   ]
  },
  {
   "cell_type": "code",
   "execution_count": 8,
   "metadata": {},
   "outputs": [
    {
     "data": {
      "text/html": [
       "<div>\n",
       "<style scoped>\n",
       "    .dataframe tbody tr th:only-of-type {\n",
       "        vertical-align: middle;\n",
       "    }\n",
       "\n",
       "    .dataframe tbody tr th {\n",
       "        vertical-align: top;\n",
       "    }\n",
       "\n",
       "    .dataframe thead th {\n",
       "        text-align: right;\n",
       "    }\n",
       "</style>\n",
       "<table border=\"1\" class=\"dataframe\">\n",
       "  <thead>\n",
       "    <tr style=\"text-align: right;\">\n",
       "      <th></th>\n",
       "      <th>PRECIOTEXTM</th>\n",
       "    </tr>\n",
       "    <tr>\n",
       "      <th>BARRIO</th>\n",
       "      <th></th>\n",
       "    </tr>\n",
       "  </thead>\n",
       "  <tbody>\n",
       "    <tr>\n",
       "      <th>PUERTO MADERO</th>\n",
       "      <td>5412.466964</td>\n",
       "    </tr>\n",
       "    <tr>\n",
       "      <th>PALERMO</th>\n",
       "      <td>3136.015176</td>\n",
       "    </tr>\n",
       "    <tr>\n",
       "      <th>BELGRANO</th>\n",
       "      <td>3110.066058</td>\n",
       "    </tr>\n",
       "    <tr>\n",
       "      <th>RETIRO</th>\n",
       "      <td>2941.053226</td>\n",
       "    </tr>\n",
       "    <tr>\n",
       "      <th>RECOLETA</th>\n",
       "      <td>2876.201798</td>\n",
       "    </tr>\n",
       "  </tbody>\n",
       "</table>\n",
       "</div>"
      ],
      "text/plain": [
       "               PRECIOTEXTM\n",
       "BARRIO                    \n",
       "PUERTO MADERO  5412.466964\n",
       "PALERMO        3136.015176\n",
       "BELGRANO       3110.066058\n",
       "RETIRO         2941.053226\n",
       "RECOLETA       2876.201798"
      ]
     },
     "execution_count": 8,
     "metadata": {},
     "output_type": "execute_result"
    }
   ],
   "source": [
    "preco_m2_por_bairro = data.pivot_table(index = 'BARRIO', aggfunc = {'PRECIOTEXTM':'mean'}) \n",
    "preco_m2_por_bairro_sort = preco_m2_por_bairro.sort_values(by = \"PRECIOTEXTM\", ascending = False)\n",
    "preco_m2_por_bairro_top5 = preco_m2_por_bairro_sort[0:5]\n",
    "preco_m2_por_bairro_top5"
   ]
  },
  {
   "cell_type": "markdown",
   "metadata": {},
   "source": [
    "## Exercício 5  - agrupar por campos numéricos (decis)\n",
    "\n",
    "Vamos construir os decis da superfície de dados usando o método `qcut` do numpy.\n",
    "\n",
    "Isso associa uma categoria a cada registro de dados, onde o valor dessa categoria indica a qual decil esse registro pertence.\n",
    "\n",
    "Usando o método `groupby`, vamos calcular o preço médio por $m^{2}$ em dólares para cada um dos decis de superfície."
   ]
  },
  {
   "cell_type": "code",
   "execution_count": 9,
   "metadata": {},
   "outputs": [
    {
     "data": {
      "text/plain": [
       "0         (54.0, 64.0]\n",
       "1         (43.0, 48.0]\n",
       "2         (54.0, 64.0]\n",
       "3       (123.0, 730.0]\n",
       "4         (35.0, 39.0]\n",
       "             ...      \n",
       "7559      (35.0, 39.0]\n",
       "7560      (43.0, 48.0]\n",
       "7561      (43.0, 48.0]\n",
       "7562      (43.0, 48.0]\n",
       "7563      (48.0, 54.0]\n",
       "Name: M2, Length: 7564, dtype: category\n",
       "Categories (10, interval[float64, right]): [(14.999, 35.0] < (35.0, 39.0] < (39.0, 43.0] < (43.0, 48.0] ... (64.0, 74.0] < (74.0, 88.0] < (88.0, 123.0] < (123.0, 730.0]]"
      ]
     },
     "execution_count": 9,
     "metadata": {},
     "output_type": "execute_result"
    }
   ],
   "source": [
    "q_superficie = pd.qcut(data.M2, 10)\n",
    "q_superficie"
   ]
  },
  {
   "cell_type": "code",
   "execution_count": 10,
   "metadata": {},
   "outputs": [
    {
     "data": {
      "text/plain": [
       "M2\n",
       "(14.999, 35.0]    2452.660\n",
       "(35.0, 39.0]      2283.485\n",
       "(39.0, 43.0]      2300.000\n",
       "(43.0, 48.0]      2377.780\n",
       "(48.0, 54.0]      2283.020\n",
       "(54.0, 64.0]      2374.965\n",
       "(64.0, 74.0]      2302.175\n",
       "(74.0, 88.0]      2375.000\n",
       "(88.0, 123.0]     2552.685\n",
       "(123.0, 730.0]    2692.310\n",
       "Name: PRECIOTEXTM, dtype: float64"
      ]
     },
     "execution_count": 10,
     "metadata": {},
     "output_type": "execute_result"
    }
   ],
   "source": [
    "data.groupby(q_superficie)[\"PRECIOTEXTM\"].median()"
   ]
  },
  {
   "cell_type": "markdown",
   "metadata": {},
   "source": [
    "## Exercício 6  - agrupar por campos do tipo string\n",
    "\n",
    "Usando o método `groupby`, vamos calcular o preço médio por $m^{2}$ em dólares para cada um dos bairros da cidade."
   ]
  },
  {
   "cell_type": "code",
   "execution_count": 11,
   "metadata": {},
   "outputs": [
    {
     "data": {
      "text/plain": [
       "BARRIO\n",
       "AGRONOMIA            2375.000\n",
       "ALMAGRO              2226.190\n",
       "BALVANERA            1977.270\n",
       "BARRACAS             2241.875\n",
       "BELGRANO             2983.775\n",
       "BOCA                 1764.635\n",
       "BOEDO                2340.430\n",
       "CABALLITO            2419.145\n",
       "CHACARITA            2383.720\n",
       "COGHLAN              2543.210\n",
       "COLEGIALES           2506.985\n",
       "CONSTITUCION         2262.230\n",
       "FLORES               1842.110\n",
       "FLORESTA             1694.445\n",
       "LINIERS              1921.570\n",
       "MATADEROS            1666.670\n",
       "MONSERRAT            2328.375\n",
       "MONTE CASTRO         2055.880\n",
       "NUEVA POMPEYA        1622.725\n",
       "NUÑEZ                2417.425\n",
       "PALERMO              2906.250\n",
       "PARQUE AVELLANEDA    1812.500\n",
       "PARQUE CHACABUCO     2656.360\n",
       "PARQUE CHAS          2045.450\n",
       "PARQUE PATRICIOS     1977.160\n",
       "PATERNAL             1720.780\n",
       "PUERTO MADERO        5074.350\n",
       "RECOLETA             2752.810\n",
       "RETIRO               2922.080\n",
       "SAAVEDRA             2287.590\n",
       "SAN CRISTOBAL        1836.360\n",
       "SAN NICOLAS          2142.860\n",
       "SAN TELMO            2035.505\n",
       "VELEZ SARSFIELD      1684.210\n",
       "VERSALLES            1926.170\n",
       "VILLA CRESPO         2261.900\n",
       "VILLA DEL PARQUE     2167.005\n",
       "VILLA DEVOTO         1961.540\n",
       "VILLA GRAL. MITRE    1888.890\n",
       "VILLA LUGANO         1083.330\n",
       "VILLA LURO           2070.310\n",
       "VILLA ORTUZAR        2335.530\n",
       "VILLA PUEYRREDON     2236.275\n",
       "VILLA REAL           1702.130\n",
       "VILLA SANTA RITA     1920.830\n",
       "VILLA SOLDATI         812.500\n",
       "VILLA URQUIZA        2358.970\n",
       "Name: PRECIOTEXTM, dtype: float64"
      ]
     },
     "execution_count": 11,
     "metadata": {},
     "output_type": "execute_result"
    }
   ],
   "source": [
    "data.groupby(\"BARRIO\")[\"PRECIOTEXTM\"].median()"
   ]
  },
  {
   "cell_type": "markdown",
   "metadata": {},
   "source": [
    "## Exercício 7 - agrupamento por condições personalizadas\n",
    "\n",
    "Vamos definir uma máscara booleana que é verdadeira para os registros cujo preço em dólares é de até 150.000\n",
    "\n",
    "Vamos agrupar por este critério e calcular o valor da área mediana para esses dois grupos (preço $\\le 150.000$ e preço $ \\lt 150.000$)."
   ]
  },
  {
   "cell_type": "code",
   "execution_count": 12,
   "metadata": {},
   "outputs": [
    {
     "data": {
      "text/plain": [
       "PRECIOTEXT_CLEAN\n",
       "False    83.0\n",
       "True     44.0\n",
       "Name: M2, dtype: float64"
      ]
     },
     "execution_count": 12,
     "metadata": {},
     "output_type": "execute_result"
    }
   ],
   "source": [
    "mask_price = data.PRECIOTEXT_CLEAN <= 150000\n",
    "\n",
    "data.groupby(mask_price)[\"M2\"].median()"
   ]
  },
  {
   "cell_type": "code",
   "execution_count": null,
   "metadata": {},
   "outputs": [],
   "source": []
  }
 ],
 "metadata": {
  "kernelspec": {
   "display_name": "Python 3",
   "language": "python",
   "name": "python3"
  },
  "language_info": {
   "codemirror_mode": {
    "name": "ipython",
    "version": 3
   },
   "file_extension": ".py",
   "mimetype": "text/x-python",
   "name": "python",
   "nbconvert_exporter": "python",
   "pygments_lexer": "ipython3",
   "version": "3.9.6"
  }
 },
 "nbformat": 4,
 "nbformat_minor": 4
}
