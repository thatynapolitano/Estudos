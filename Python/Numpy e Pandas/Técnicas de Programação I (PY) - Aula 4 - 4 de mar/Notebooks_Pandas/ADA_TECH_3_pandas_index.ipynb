{
 "cells": [
  {
   "cell_type": "markdown",
   "metadata": {},
   "source": [
    "<img src='letscodebr_cover.jpeg' align='left' width=100%/>"
   ]
  },
  {
   "cell_type": "markdown",
   "metadata": {},
   "source": [
    "# Ada Tech [DS-PY-004] Técnicas de Programação I (PY) Aulas 4 e 5 : Pandas - Index."
   ]
  },
  {
   "cell_type": "markdown",
   "metadata": {},
   "source": [
    "## Index\n",
    "\n",
    "###  Intro\n",
    "\n",
    "O [índex](https://pandas.pydata.org/pandas-docs/stable/reference/api/pandas.Index.html) é uma sequência imutável usada para indexação e alinhamento. O objeto básico que armazena rótulos de eixo para todos os objetos pandas.\n",
    "\n",
    "Uma instância de `Index` pode ser pensada como um [`_imutable_array_`](https://docs.couchbase.com/mobile/2.8.0/couchbase-lite-net/api/Couchbase.Lite.IMutableArray.html) ou como um conjunto ordenado.\n",
    "\n",
    "Os `DataFrames` têm duas instâncias associadas da classe `Index`, uma descreve as linhas e a outra descreve as colunas. Para acessar a instância de `Index` associada às linhas de um `DataFrame` usamos [`df.index`](https://pandas.pydata.org/pandas-docs/stable/reference/api/pandas.DataFrame.index.html) e para a instância associada às colunas usamos [`df.columns`](https://pandas.pydata.org/docs/reference/api/pandas.DataFrame.columns.html)."
   ]
  },
  {
   "cell_type": "markdown",
   "metadata": {},
   "source": [
    "### `Index` como um arranjo imutável\n",
    "\n",
    "\n",
    "O que significa ser [imutável](https://www.mygreatlearning.com/blog/understanding-mutable-and-immutable-in-python/#:~:text=collection%20of%20data.-,Immutable%20Definition,of%20these%20objects%20is%20permanent.)?\n",
    "\n",
    "Um objeto imutável é aquele cujo estado (valor de cada um de seus atributos) não pode ser modificado depois de criado. E o que acontece se tentarmos modificá-lo? Vamos tentar."
   ]
  },
  {
   "cell_type": "code",
   "execution_count": 1,
   "metadata": {},
   "outputs": [
    {
     "data": {
      "text/plain": [
       "Index([2, 3, 5, 7, 11], dtype='int64')"
      ]
     },
     "execution_count": 1,
     "metadata": {},
     "output_type": "execute_result"
    }
   ],
   "source": [
    "import pandas as pd\n",
    "ind = pd.Index([2, 3, 5, 7, 11])\n",
    "ind"
   ]
  },
  {
   "cell_type": "code",
   "execution_count": 2,
   "metadata": {},
   "outputs": [
    {
     "name": "stdout",
     "output_type": "stream",
     "text": [
      "Index does not support mutable operations\n"
     ]
    }
   ],
   "source": [
    "try:\n",
    "\n",
    "    ind[1] = 0\n",
    "\n",
    "except Exception as e: print(e)"
   ]
  },
  {
   "cell_type": "markdown",
   "metadata": {},
   "source": [
    "Podemos indexar e fatiar de forma semelhante a um arranjo."
   ]
  },
  {
   "cell_type": "code",
   "execution_count": 3,
   "metadata": {},
   "outputs": [
    {
     "data": {
      "text/plain": [
       "3"
      ]
     },
     "execution_count": 3,
     "metadata": {},
     "output_type": "execute_result"
    }
   ],
   "source": [
    "ind[1]"
   ]
  },
  {
   "cell_type": "code",
   "execution_count": 4,
   "metadata": {},
   "outputs": [
    {
     "data": {
      "text/plain": [
       "Index([2, 5, 11], dtype='int64')"
      ]
     },
     "execution_count": 4,
     "metadata": {},
     "output_type": "execute_result"
    }
   ],
   "source": [
    "ind[ : : 2]"
   ]
  },
  {
   "cell_type": "markdown",
   "metadata": {},
   "source": [
    "Instâncias de `Index` têm atributos semelhantes aos dos arranjos `Numpy`:"
   ]
  },
  {
   "cell_type": "code",
   "execution_count": 5,
   "metadata": {},
   "outputs": [
    {
     "name": "stdout",
     "output_type": "stream",
     "text": [
      "5 (5,) 1 int64\n"
     ]
    }
   ],
   "source": [
    "print(ind.size, ind.shape, ind.ndim, ind.dtype)"
   ]
  },
  {
   "cell_type": "markdown",
   "metadata": {},
   "source": [
    "### `Index` como um conjunto ordenado\n",
    "\n",
    "Podemos utilizar operações sobre conjuntos com as instâncias de `Index` seguindo as convenções de Python."
   ]
  },
  {
   "cell_type": "code",
   "execution_count": 6,
   "metadata": {},
   "outputs": [],
   "source": [
    "indA = pd.Index([1, 3, 5, 7, 9])\n",
    "indB = pd.Index([2, 3, 5, 7, 11])"
   ]
  },
  {
   "cell_type": "markdown",
   "metadata": {},
   "source": [
    "#### intersecção\n",
    "\n",
    "dados dois conjuntos $A$ e $B$, sua [interseção](https://pandas.pydata.org/pandas-docs/stable/reference/api/pandas.Index.intersection.html) é outro conjunto que contém aqueles elementos que pertencem à $A$ e que pertencem à $B$, simultaneamente."
   ]
  },
  {
   "cell_type": "code",
   "execution_count": 7,
   "metadata": {},
   "outputs": [
    {
     "data": {
      "text/plain": [
       "{3, 5, 7}"
      ]
     },
     "execution_count": 7,
     "metadata": {},
     "output_type": "execute_result"
    }
   ],
   "source": [
    "(set(indA) & set(indB))"
   ]
  },
  {
   "cell_type": "markdown",
   "metadata": {},
   "source": [
    "#### union\n",
    "\n",
    "dados dos conjuntos A y B, su unión es otro conjunto que tiene todos los elementos que pertencen a A más todos los elementos que pertencen a B\n",
    "\n",
    "#### União\n",
    "\n",
    "dados dois conjuntos $A$ e $B$, sua [união](https://pandas.pydata.org/pandas-docs/stable/reference/api/pandas.Index.union.html) é outro conjunto que contém todos os elementos que pertencem à $A$ e todos os elementos que pertencem à $B$."
   ]
  },
  {
   "cell_type": "code",
   "execution_count": 8,
   "metadata": {},
   "outputs": [
    {
     "data": {
      "text/plain": [
       "{1, 2, 3, 5, 7, 9, 11}"
      ]
     },
     "execution_count": 8,
     "metadata": {},
     "output_type": "execute_result"
    }
   ],
   "source": [
    "(set(indA) | set(indB))"
   ]
  },
  {
   "cell_type": "markdown",
   "metadata": {},
   "source": [
    "#### diferença simétrica\n",
    "\n",
    "Dados dois conjuntos $A$ e $B$, a [diferença simétrica](https://pandas.pydata.org/pandas-docs/stable/reference/api/pandas.Index.symmetric_difference.html) é outro conjunto cujos elementos são aqueles que pertencem a um dos conjuntos iniciais, sem pertencer a ambos simultaneamente."
   ]
  },
  {
   "cell_type": "code",
   "execution_count": 9,
   "metadata": {},
   "outputs": [
    {
     "data": {
      "text/plain": [
       "{1, 2, 9, 11}"
      ]
     },
     "execution_count": 9,
     "metadata": {},
     "output_type": "execute_result"
    }
   ],
   "source": [
    "(set(indA) ^ set(indB))"
   ]
  },
  {
   "cell_type": "markdown",
   "metadata": {},
   "source": [
    "#### diferença\n",
    "\n",
    "Dados dois conjuntos $A$ e $B$, a [diferença](https://pandas.pydata.org/pandas-docs/stable/reference/api/pandas.Index.difference.html) é outro conjunto com os elementos do primeiro conjunto sem os elementos do segundo conjunto."
   ]
  },
  {
   "cell_type": "code",
   "execution_count": 10,
   "metadata": {},
   "outputs": [
    {
     "data": {
      "text/plain": [
       "{1, 9}"
      ]
     },
     "execution_count": 10,
     "metadata": {},
     "output_type": "execute_result"
    }
   ],
   "source": [
    "(set(indA).difference(set(indB)))"
   ]
  },
  {
   "cell_type": "markdown",
   "metadata": {},
   "source": [
    "## Construtor"
   ]
  },
  {
   "cell_type": "code",
   "execution_count": 11,
   "metadata": {},
   "outputs": [
    {
     "data": {
      "text/plain": [
       "Index([2, 3, 5, 7, 11], dtype='int64')"
      ]
     },
     "execution_count": 11,
     "metadata": {},
     "output_type": "execute_result"
    }
   ],
   "source": [
    "ind = pd.Index([2, 3, 5, 7, 11])\n",
    "ind"
   ]
  },
  {
   "cell_type": "code",
   "execution_count": null,
   "metadata": {},
   "outputs": [],
   "source": []
  }
 ],
 "metadata": {
  "kernelspec": {
   "display_name": "Python 3",
   "language": "python",
   "name": "python3"
  },
  "language_info": {
   "codemirror_mode": {
    "name": "ipython",
    "version": 3
   },
   "file_extension": ".py",
   "mimetype": "text/x-python",
   "name": "python",
   "nbconvert_exporter": "python",
   "pygments_lexer": "ipython3",
   "version": "3.9.6"
  }
 },
 "nbformat": 4,
 "nbformat_minor": 4
}
