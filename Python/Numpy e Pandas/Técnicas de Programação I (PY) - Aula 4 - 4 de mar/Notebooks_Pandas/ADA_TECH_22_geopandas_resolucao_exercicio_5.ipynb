{
 "cells": [
  {
   "cell_type": "markdown",
   "metadata": {},
   "source": [
    "<img src='letscodebr_cover.jpeg' align='left' width=100%/>"
   ]
  },
  {
   "cell_type": "markdown",
   "metadata": {},
   "source": [
    "# Ada Tech [DS-PY-004] Técnicas de Programação I (PY) Aulas 4 e 5 : GeoPandas - Resolução do Exercício 5."
   ]
  },
  {
   "cell_type": "markdown",
   "metadata": {},
   "source": [
    "## CheckPoint GeoPandas"
   ]
  },
  {
   "cell_type": "markdown",
   "metadata": {},
   "source": [
    "## Conjuntos de dados\n",
    "\n",
    "Na prática de aula de hoje, usaremos um **conjunto de propriedades** que a imobiliária [Properati](https://www.properati.com.ar/) tem à venda. O interessante é que aos dados clássicos da propriedade (valor, superfície, vizinhança, tipo de propriedade), adiciona-se a posição geoespacial através de sua latitude e longitude.\n",
    "\n",
    "Por outro lado, vamos considerar as **estações de metrô**, onde também aparecem o nome e a linha a que pertence, e também, obviamente, seus dados de posição geográfica."
   ]
  },
  {
   "cell_type": "markdown",
   "metadata": {},
   "source": [
    "## Exercício\n",
    "\n",
    "Começamos lendo os dois conjuntos de dados em um `dataframe` e os transformamos em um `GeoDataFrame`. É o tipo de dado que o `GeoPandas` necessita para realizar operações com dados geoespaciais.\n",
    "\n",
    "Então vamos *calcular a distância* de cada propriedade até o obelisco de Buenos Aires, e isso será registrado em uma nova coluna. Faremos um cálculo para ver se existe alguma relação entre essa distância e o preço do imóvel.\n",
    "\n",
    "Finalmente desenharemos uma linha geométrica com todas as estações de metrô de uma linha, e faremos um gráfico sobre a cidade."
   ]
  },
  {
   "cell_type": "markdown",
   "metadata": {},
   "source": [
    "Importamos as bibliotecas de que vamos precisar:"
   ]
  },
  {
   "cell_type": "code",
   "execution_count": 1,
   "metadata": {},
   "outputs": [],
   "source": [
    "import pandas as pd\n",
    "import geopandas as gpd\n",
    "import matplotlib.pyplot as plt\n",
    "\n",
    "import shapely # gera as figuras geométricas\n",
    "import descartes # relaciona shapely com matplotlib\n",
    "import pyproj # projeções. Transformação de Coordenadas"
   ]
  },
  {
   "cell_type": "markdown",
   "metadata": {},
   "source": [
    "### Parte 1 - Arquivo de Propriedades"
   ]
  },
  {
   "cell_type": "markdown",
   "metadata": {},
   "source": [
    "Vamos ler os dados do arquivo \"../Data/Real_State_Properati.csv\" em um `DataFrame` do pandas com o método [`pandas.read_csv()`](https://pandas.pydata.org/pandas-docs/stable/reference/api/pandas.read_csv.html), instanciando o objeto `df_prop`.\n",
    "\n",
    "**Nota**: os dados são separados por tabulações. O parâmetro [`sep = '\\ t'`](https://www.ti-enxame.com/pt/python/o-que-impressao-...-sep-t-significa/1045309866/) deve ser usado."
   ]
  },
  {
   "cell_type": "code",
   "execution_count": 2,
   "metadata": {},
   "outputs": [],
   "source": [
    "data_location = \"../Data/Real_State_Properati.csv\"\n",
    "\n",
    "df_prop = pd.read_csv(data_location, sep = '\\t')"
   ]
  },
  {
   "cell_type": "markdown",
   "metadata": {},
   "source": [
    "#### Tomamos uma amostra de 5 elementos"
   ]
  },
  {
   "cell_type": "markdown",
   "metadata": {},
   "source": [
    "As colunas do conjunto de dados são:\n",
    "\n",
    "- `property_type`: Tipo de Propriedade. - `object`\n",
    "- `place_name`: Bairro de Buenos Aires. - `object`\n",
    "- `country_name`: Nome do país. Fixo 'Argentina'. - `object`\n",
    "- `state_name`: Província ou Estado. Fixo 'Capital Federal'. - `object`\n",
    "- `lat`: Latitude da posição geoespacial da propriedade. - `float64`\n",
    "- `lon`: Longitude da posição geoespacial da propriedade. - `float64`\n",
    "- `price`: Preço da propriedade. - `float64`\n",
    "- `currency`: Moeda usada para o valor da propriedade. - `object`\n",
    "- `surface_total_in_m2`: Área da propriedade. - `float64`"
   ]
  },
  {
   "cell_type": "code",
   "execution_count": 3,
   "metadata": {},
   "outputs": [],
   "source": [
    "#list(df_prop['place_name'].unique())\n",
    "#list(df_prop['state_name'].unique())\n",
    "\n",
    "#len(list(df_prop['place_name'].unique()))"
   ]
  },
  {
   "cell_type": "code",
   "execution_count": 4,
   "metadata": {},
   "outputs": [
    {
     "data": {
      "text/html": [
       "<div>\n",
       "<style scoped>\n",
       "    .dataframe tbody tr th:only-of-type {\n",
       "        vertical-align: middle;\n",
       "    }\n",
       "\n",
       "    .dataframe tbody tr th {\n",
       "        vertical-align: top;\n",
       "    }\n",
       "\n",
       "    .dataframe thead th {\n",
       "        text-align: right;\n",
       "    }\n",
       "</style>\n",
       "<table border=\"1\" class=\"dataframe\">\n",
       "  <thead>\n",
       "    <tr style=\"text-align: right;\">\n",
       "      <th></th>\n",
       "      <th>property_type</th>\n",
       "      <th>place_name</th>\n",
       "      <th>country_name</th>\n",
       "      <th>state_name</th>\n",
       "      <th>lat</th>\n",
       "      <th>lon</th>\n",
       "      <th>price</th>\n",
       "      <th>currency</th>\n",
       "      <th>surface_total_in_m2</th>\n",
       "    </tr>\n",
       "  </thead>\n",
       "  <tbody>\n",
       "    <tr>\n",
       "      <th>4104</th>\n",
       "      <td>apartment</td>\n",
       "      <td>Caballito</td>\n",
       "      <td>Argentina</td>\n",
       "      <td>Capital Federal</td>\n",
       "      <td>-34.623068</td>\n",
       "      <td>-58.441252</td>\n",
       "      <td>240000.0</td>\n",
       "      <td>USD</td>\n",
       "      <td>100.0</td>\n",
       "    </tr>\n",
       "    <tr>\n",
       "      <th>10271</th>\n",
       "      <td>apartment</td>\n",
       "      <td>Liniers</td>\n",
       "      <td>Argentina</td>\n",
       "      <td>Capital Federal</td>\n",
       "      <td>-34.641418</td>\n",
       "      <td>-58.511550</td>\n",
       "      <td>255000.0</td>\n",
       "      <td>USD</td>\n",
       "      <td>135.0</td>\n",
       "    </tr>\n",
       "    <tr>\n",
       "      <th>9626</th>\n",
       "      <td>house</td>\n",
       "      <td>Palermo</td>\n",
       "      <td>Argentina</td>\n",
       "      <td>Capital Federal</td>\n",
       "      <td>-34.595453</td>\n",
       "      <td>-58.418756</td>\n",
       "      <td>580000.0</td>\n",
       "      <td>USD</td>\n",
       "      <td>300.0</td>\n",
       "    </tr>\n",
       "    <tr>\n",
       "      <th>10996</th>\n",
       "      <td>apartment</td>\n",
       "      <td>Barrio Norte</td>\n",
       "      <td>Argentina</td>\n",
       "      <td>Capital Federal</td>\n",
       "      <td>-34.593491</td>\n",
       "      <td>-58.405342</td>\n",
       "      <td>280000.0</td>\n",
       "      <td>USD</td>\n",
       "      <td>132.0</td>\n",
       "    </tr>\n",
       "    <tr>\n",
       "      <th>1257</th>\n",
       "      <td>store</td>\n",
       "      <td>Puerto Madero</td>\n",
       "      <td>Argentina</td>\n",
       "      <td>Capital Federal</td>\n",
       "      <td>-34.617719</td>\n",
       "      <td>-58.362056</td>\n",
       "      <td>3600000.0</td>\n",
       "      <td>USD</td>\n",
       "      <td>714.0</td>\n",
       "    </tr>\n",
       "  </tbody>\n",
       "</table>\n",
       "</div>"
      ],
      "text/plain": [
       "      property_type     place_name country_name       state_name        lat  \\\n",
       "4104      apartment      Caballito    Argentina  Capital Federal -34.623068   \n",
       "10271     apartment        Liniers    Argentina  Capital Federal -34.641418   \n",
       "9626          house        Palermo    Argentina  Capital Federal -34.595453   \n",
       "10996     apartment   Barrio Norte    Argentina  Capital Federal -34.593491   \n",
       "1257          store  Puerto Madero    Argentina  Capital Federal -34.617719   \n",
       "\n",
       "             lon      price currency  surface_total_in_m2  \n",
       "4104  -58.441252   240000.0      USD                100.0  \n",
       "10271 -58.511550   255000.0      USD                135.0  \n",
       "9626  -58.418756   580000.0      USD                300.0  \n",
       "10996 -58.405342   280000.0      USD                132.0  \n",
       "1257  -58.362056  3600000.0      USD                714.0  "
      ]
     },
     "execution_count": 4,
     "metadata": {},
     "output_type": "execute_result"
    }
   ],
   "source": [
    "df_prop.sample(5)"
   ]
  },
  {
   "cell_type": "code",
   "execution_count": 5,
   "metadata": {},
   "outputs": [
    {
     "name": "stdout",
     "output_type": "stream",
     "text": [
      "<class 'pandas.core.frame.DataFrame'>\n",
      "RangeIndex: 17223 entries, 0 to 17222\n",
      "Data columns (total 9 columns):\n",
      " #   Column               Non-Null Count  Dtype  \n",
      "---  ------               --------------  -----  \n",
      " 0   property_type        17223 non-null  object \n",
      " 1   place_name           17223 non-null  object \n",
      " 2   country_name         17223 non-null  object \n",
      " 3   state_name           17223 non-null  object \n",
      " 4   lat                  17223 non-null  float64\n",
      " 5   lon                  17223 non-null  float64\n",
      " 6   price                17223 non-null  float64\n",
      " 7   currency             17223 non-null  object \n",
      " 8   surface_total_in_m2  17223 non-null  float64\n",
      "dtypes: float64(4), object(5)\n",
      "memory usage: 1.2+ MB\n"
     ]
    }
   ],
   "source": [
    "df_prop.info()"
   ]
  },
  {
   "cell_type": "markdown",
   "metadata": {},
   "source": [
    "#### Transforme o DataFrame em um GeoDataFrame\n",
    "\n",
    "Para gerar um `GeoDataFrame`, precisamos adicionar uma nova coluna contendo uma forma geométrica às colunas do `DataFrame`. Nesse caso, um ponto, que é gerado a partir de latitude e longitude.\n",
    "\n",
    "Recomenda-se que a nova coluna seja nomeada `geometry`. O método [`geopandas.points_from_xy()`](https://geopandas.org/docs/reference/api/geopandas.points_from_xy.html) define o tipo **ponto**, ao inserirmos primeiro a **longitude** e a **latitude**."
   ]
  },
  {
   "cell_type": "code",
   "execution_count": 6,
   "metadata": {
    "colab": {
     "base_uri": "https://localhost:8080/",
     "height": 289
    },
    "colab_type": "code",
    "executionInfo": {
     "elapsed": 830,
     "status": "ok",
     "timestamp": 1567641541793,
     "user": {
      "displayName": "Julián Ansaldo",
      "photoUrl": "https://lh3.googleusercontent.com/a-/AAuE7mCQI0iy6sTR9TfuLMfXZ90XCqxfdAQtMEcBkjfs1w=s64",
      "userId": "10643095115217147090"
     },
     "user_tz": 180
    },
    "id": "vRpX0jS6G_x5",
    "outputId": "178eafb8-17f3-4205-fcbe-9368fbd51efa",
    "slideshow": {
     "slide_type": "fragment"
    }
   },
   "outputs": [],
   "source": [
    "geometria = gpd.points_from_xy(df_prop['lon'], \n",
    "                               df_prop['lat']\n",
    "                              )"
   ]
  },
  {
   "cell_type": "code",
   "execution_count": 7,
   "metadata": {},
   "outputs": [
    {
     "data": {
      "text/plain": [
       "<GeometryArray>\n",
       "[<POINT (-58.509 -34.662)>, <POINT (-58.523 -34.652)>]\n",
       "Length: 2, dtype: geometry"
      ]
     },
     "execution_count": 7,
     "metadata": {},
     "output_type": "execute_result"
    }
   ],
   "source": [
    "geometria[0 : 2]"
   ]
  },
  {
   "cell_type": "code",
   "execution_count": 8,
   "metadata": {
    "colab": {
     "base_uri": "https://localhost:8080/",
     "height": 289
    },
    "colab_type": "code",
    "executionInfo": {
     "elapsed": 830,
     "status": "ok",
     "timestamp": 1567641541793,
     "user": {
      "displayName": "Julián Ansaldo",
      "photoUrl": "https://lh3.googleusercontent.com/a-/AAuE7mCQI0iy6sTR9TfuLMfXZ90XCqxfdAQtMEcBkjfs1w=s64",
      "userId": "10643095115217147090"
     },
     "user_tz": 180
    },
    "id": "vRpX0jS6G_x5",
    "outputId": "178eafb8-17f3-4205-fcbe-9368fbd51efa",
    "slideshow": {
     "slide_type": "fragment"
    }
   },
   "outputs": [],
   "source": [
    "geo_prop = gpd.GeoDataFrame(df_prop, \n",
    "                            geometry = geometria\n",
    "                           )"
   ]
  },
  {
   "cell_type": "code",
   "execution_count": 9,
   "metadata": {},
   "outputs": [
    {
     "data": {
      "text/plain": [
       "geopandas.geodataframe.GeoDataFrame"
      ]
     },
     "execution_count": 9,
     "metadata": {},
     "output_type": "execute_result"
    }
   ],
   "source": [
    "type(geo_prop)"
   ]
  },
  {
   "cell_type": "code",
   "execution_count": 10,
   "metadata": {
    "colab": {
     "base_uri": "https://localhost:8080/",
     "height": 289
    },
    "colab_type": "code",
    "executionInfo": {
     "elapsed": 830,
     "status": "ok",
     "timestamp": 1567641541793,
     "user": {
      "displayName": "Julián Ansaldo",
      "photoUrl": "https://lh3.googleusercontent.com/a-/AAuE7mCQI0iy6sTR9TfuLMfXZ90XCqxfdAQtMEcBkjfs1w=s64",
      "userId": "10643095115217147090"
     },
     "user_tz": 180
    },
    "id": "vRpX0jS6G_x5",
    "outputId": "178eafb8-17f3-4205-fcbe-9368fbd51efa",
    "slideshow": {
     "slide_type": "fragment"
    }
   },
   "outputs": [
    {
     "data": {
      "text/html": [
       "<div>\n",
       "<style scoped>\n",
       "    .dataframe tbody tr th:only-of-type {\n",
       "        vertical-align: middle;\n",
       "    }\n",
       "\n",
       "    .dataframe tbody tr th {\n",
       "        vertical-align: top;\n",
       "    }\n",
       "\n",
       "    .dataframe thead th {\n",
       "        text-align: right;\n",
       "    }\n",
       "</style>\n",
       "<table border=\"1\" class=\"dataframe\">\n",
       "  <thead>\n",
       "    <tr style=\"text-align: right;\">\n",
       "      <th></th>\n",
       "      <th>geometry</th>\n",
       "      <th>lat</th>\n",
       "      <th>lon</th>\n",
       "      <th>property_type</th>\n",
       "      <th>place_name</th>\n",
       "    </tr>\n",
       "  </thead>\n",
       "  <tbody>\n",
       "    <tr>\n",
       "      <th>0</th>\n",
       "      <td>POINT (-58.50884 -34.66182)</td>\n",
       "      <td>-34.661824</td>\n",
       "      <td>-58.508839</td>\n",
       "      <td>PH</td>\n",
       "      <td>Mataderos</td>\n",
       "    </tr>\n",
       "    <tr>\n",
       "      <th>1</th>\n",
       "      <td>POINT (-58.52298 -34.65226)</td>\n",
       "      <td>-34.652262</td>\n",
       "      <td>-58.522982</td>\n",
       "      <td>apartment</td>\n",
       "      <td>Mataderos</td>\n",
       "    </tr>\n",
       "    <tr>\n",
       "      <th>2</th>\n",
       "      <td>POINT (-58.44336 -34.55987)</td>\n",
       "      <td>-34.559873</td>\n",
       "      <td>-58.443362</td>\n",
       "      <td>apartment</td>\n",
       "      <td>Belgrano</td>\n",
       "    </tr>\n",
       "    <tr>\n",
       "      <th>3</th>\n",
       "      <td>POINT (-58.44336 -34.55987)</td>\n",
       "      <td>-34.559873</td>\n",
       "      <td>-58.443362</td>\n",
       "      <td>apartment</td>\n",
       "      <td>Belgrano</td>\n",
       "    </tr>\n",
       "    <tr>\n",
       "      <th>4</th>\n",
       "      <td>POINT (-58.50162 -34.65236)</td>\n",
       "      <td>-34.652356</td>\n",
       "      <td>-58.501624</td>\n",
       "      <td>PH</td>\n",
       "      <td>Mataderos</td>\n",
       "    </tr>\n",
       "  </tbody>\n",
       "</table>\n",
       "</div>"
      ],
      "text/plain": [
       "                      geometry        lat        lon property_type place_name\n",
       "0  POINT (-58.50884 -34.66182) -34.661824 -58.508839            PH  Mataderos\n",
       "1  POINT (-58.52298 -34.65226) -34.652262 -58.522982     apartment  Mataderos\n",
       "2  POINT (-58.44336 -34.55987) -34.559873 -58.443362     apartment   Belgrano\n",
       "3  POINT (-58.44336 -34.55987) -34.559873 -58.443362     apartment   Belgrano\n",
       "4  POINT (-58.50162 -34.65236) -34.652356 -58.501624            PH  Mataderos"
      ]
     },
     "execution_count": 10,
     "metadata": {},
     "output_type": "execute_result"
    }
   ],
   "source": [
    "geo_prop.loc[ : 4, ['geometry', 'lat', 'lon', 'property_type', 'place_name']]"
   ]
  },
  {
   "cell_type": "markdown",
   "metadata": {},
   "source": [
    "### Parte 2 - Arquivo da estação de metrô"
   ]
  },
  {
   "cell_type": "markdown",
   "metadata": {},
   "source": [
    "Vamos ler os dados do arquivo \"../Data/estaciones-de-subte.csv\" em um `DataFrame` do pandas com o método [`pandas.read_csv()`](https://pandas.pydata.org/docs/reference/api/pandas.read_csv.html). Vamos instanciar o objeto `df_subte`.\n",
    "\n",
    "**Nota**: Os dados são separados por vírgulas. O parâmetro `sep = ','` deve ser usado."
   ]
  },
  {
   "cell_type": "code",
   "execution_count": 11,
   "metadata": {},
   "outputs": [],
   "source": [
    "data_location = \"../Data/metro-BA.csv\"\n",
    "\n",
    "df_subte = pd.read_csv(data_location, sep = ',')"
   ]
  },
  {
   "cell_type": "markdown",
   "metadata": {},
   "source": [
    "#### Consultamos os primeiros $10$ registros"
   ]
  },
  {
   "cell_type": "markdown",
   "metadata": {},
   "source": [
    "As colunas do conjunto de dados são:\n",
    "\n",
    "- `lon`: Longitude da posição geoespacial da estação de metrô. - `float64`\n",
    "- `lat`: Latitude da posição geoespacial da estação de metrô. - `float64\n",
    "- `id`:  Eu iria. Número sequencial. - `float64\n",
    "- `est`: Nome da estação de metrô. - `object`\n",
    "- `lin`: A linha de metrô à qual a estação pertence. - `object`"
   ]
  },
  {
   "cell_type": "code",
   "execution_count": 12,
   "metadata": {},
   "outputs": [
    {
     "data": {
      "text/html": [
       "<div>\n",
       "<style scoped>\n",
       "    .dataframe tbody tr th:only-of-type {\n",
       "        vertical-align: middle;\n",
       "    }\n",
       "\n",
       "    .dataframe tbody tr th {\n",
       "        vertical-align: top;\n",
       "    }\n",
       "\n",
       "    .dataframe thead th {\n",
       "        text-align: right;\n",
       "    }\n",
       "</style>\n",
       "<table border=\"1\" class=\"dataframe\">\n",
       "  <thead>\n",
       "    <tr style=\"text-align: right;\">\n",
       "      <th></th>\n",
       "      <th>lon</th>\n",
       "      <th>lat</th>\n",
       "      <th>id</th>\n",
       "      <th>est</th>\n",
       "      <th>lin</th>\n",
       "    </tr>\n",
       "  </thead>\n",
       "  <tbody>\n",
       "    <tr>\n",
       "      <th>0</th>\n",
       "      <td>-58.398928</td>\n",
       "      <td>-34.635750</td>\n",
       "      <td>1.0</td>\n",
       "      <td>CASEROS</td>\n",
       "      <td>H</td>\n",
       "    </tr>\n",
       "    <tr>\n",
       "      <th>1</th>\n",
       "      <td>-58.400970</td>\n",
       "      <td>-34.629376</td>\n",
       "      <td>2.0</td>\n",
       "      <td>INCLAN - MEZQUITA AL AHMAD</td>\n",
       "      <td>H</td>\n",
       "    </tr>\n",
       "    <tr>\n",
       "      <th>2</th>\n",
       "      <td>-58.402323</td>\n",
       "      <td>-34.623092</td>\n",
       "      <td>3.0</td>\n",
       "      <td>HUMBERTO 1°</td>\n",
       "      <td>H</td>\n",
       "    </tr>\n",
       "    <tr>\n",
       "      <th>3</th>\n",
       "      <td>-58.404732</td>\n",
       "      <td>-34.615242</td>\n",
       "      <td>4.0</td>\n",
       "      <td>VENEZUELA</td>\n",
       "      <td>H</td>\n",
       "    </tr>\n",
       "    <tr>\n",
       "      <th>4</th>\n",
       "      <td>-58.406036</td>\n",
       "      <td>-34.608935</td>\n",
       "      <td>5.0</td>\n",
       "      <td>ONCE - 30 DE DICIEMBRE</td>\n",
       "      <td>H</td>\n",
       "    </tr>\n",
       "    <tr>\n",
       "      <th>5</th>\n",
       "      <td>-58.380574</td>\n",
       "      <td>-34.604245</td>\n",
       "      <td>6.0</td>\n",
       "      <td>9 DE JULIO</td>\n",
       "      <td>D</td>\n",
       "    </tr>\n",
       "    <tr>\n",
       "      <th>6</th>\n",
       "      <td>-58.397924</td>\n",
       "      <td>-34.599757</td>\n",
       "      <td>7.0</td>\n",
       "      <td>FACULTAD DE MEDICINA</td>\n",
       "      <td>D</td>\n",
       "    </tr>\n",
       "    <tr>\n",
       "      <th>7</th>\n",
       "      <td>-58.385142</td>\n",
       "      <td>-34.601587</td>\n",
       "      <td>8.0</td>\n",
       "      <td>TRIBUNALES - TEATRO COLÓN</td>\n",
       "      <td>D</td>\n",
       "    </tr>\n",
       "    <tr>\n",
       "      <th>8</th>\n",
       "      <td>-58.407161</td>\n",
       "      <td>-34.591628</td>\n",
       "      <td>9.0</td>\n",
       "      <td>AGÜERO</td>\n",
       "      <td>D</td>\n",
       "    </tr>\n",
       "    <tr>\n",
       "      <th>9</th>\n",
       "      <td>-58.415955</td>\n",
       "      <td>-34.585156</td>\n",
       "      <td>10.0</td>\n",
       "      <td>R.SCALABRINI ORTIZ</td>\n",
       "      <td>D</td>\n",
       "    </tr>\n",
       "  </tbody>\n",
       "</table>\n",
       "</div>"
      ],
      "text/plain": [
       "         lon        lat    id                         est lin\n",
       "0 -58.398928 -34.635750   1.0                     CASEROS   H\n",
       "1 -58.400970 -34.629376   2.0  INCLAN - MEZQUITA AL AHMAD   H\n",
       "2 -58.402323 -34.623092   3.0                 HUMBERTO 1°   H\n",
       "3 -58.404732 -34.615242   4.0                   VENEZUELA   H\n",
       "4 -58.406036 -34.608935   5.0      ONCE - 30 DE DICIEMBRE   H\n",
       "5 -58.380574 -34.604245   6.0                  9 DE JULIO   D\n",
       "6 -58.397924 -34.599757   7.0        FACULTAD DE MEDICINA   D\n",
       "7 -58.385142 -34.601587   8.0   TRIBUNALES - TEATRO COLÓN   D\n",
       "8 -58.407161 -34.591628   9.0                      AGÜERO   D\n",
       "9 -58.415955 -34.585156  10.0          R.SCALABRINI ORTIZ   D"
      ]
     },
     "execution_count": 12,
     "metadata": {},
     "output_type": "execute_result"
    }
   ],
   "source": [
    "df_subte.head(10)\n",
    "#df_subte.info()"
   ]
  },
  {
   "cell_type": "markdown",
   "metadata": {},
   "source": [
    "#### Transforme o DataFrame em um GeoDataFrame\n",
    "\n",
    "Para gerar um `GeoDataFrame`, precisamos adicionar uma nova coluna contendo uma forma geométrica às colunas do `DataFrame`. Nesse caso, um ponto, que é gerado a partir de latitude e longitude.\n",
    "\n",
    "Recomenda-se que a nova coluna seja nomeada `geometry`. O método [`geopandas.points_from_xy()`](https://geopandas.org/docs/reference/api/geopandas.points_from_xy.html) define o tipo **ponto**, ao inserirmos primeiro a **longitude** e a **latitude**."
   ]
  },
  {
   "cell_type": "code",
   "execution_count": 13,
   "metadata": {
    "colab": {
     "base_uri": "https://localhost:8080/",
     "height": 289
    },
    "colab_type": "code",
    "executionInfo": {
     "elapsed": 830,
     "status": "ok",
     "timestamp": 1567641541793,
     "user": {
      "displayName": "Julián Ansaldo",
      "photoUrl": "https://lh3.googleusercontent.com/a-/AAuE7mCQI0iy6sTR9TfuLMfXZ90XCqxfdAQtMEcBkjfs1w=s64",
      "userId": "10643095115217147090"
     },
     "user_tz": 180
    },
    "id": "vRpX0jS6G_x5",
    "outputId": "178eafb8-17f3-4205-fcbe-9368fbd51efa",
    "slideshow": {
     "slide_type": "fragment"
    }
   },
   "outputs": [],
   "source": [
    "geometria = gpd.points_from_xy(df_subte['lon'], df_subte['lat'])"
   ]
  },
  {
   "cell_type": "code",
   "execution_count": 14,
   "metadata": {
    "colab": {
     "base_uri": "https://localhost:8080/",
     "height": 289
    },
    "colab_type": "code",
    "executionInfo": {
     "elapsed": 830,
     "status": "ok",
     "timestamp": 1567641541793,
     "user": {
      "displayName": "Julián Ansaldo",
      "photoUrl": "https://lh3.googleusercontent.com/a-/AAuE7mCQI0iy6sTR9TfuLMfXZ90XCqxfdAQtMEcBkjfs1w=s64",
      "userId": "10643095115217147090"
     },
     "user_tz": 180
    },
    "id": "vRpX0jS6G_x5",
    "outputId": "178eafb8-17f3-4205-fcbe-9368fbd51efa",
    "slideshow": {
     "slide_type": "fragment"
    }
   },
   "outputs": [],
   "source": [
    "geo_subte = gpd.GeoDataFrame(df_subte, geometry = geometria)"
   ]
  },
  {
   "cell_type": "code",
   "execution_count": 15,
   "metadata": {},
   "outputs": [
    {
     "data": {
      "text/plain": [
       "geopandas.geodataframe.GeoDataFrame"
      ]
     },
     "execution_count": 15,
     "metadata": {},
     "output_type": "execute_result"
    }
   ],
   "source": [
    "type(geo_subte)"
   ]
  },
  {
   "cell_type": "markdown",
   "metadata": {},
   "source": [
    "### Parte 3 - Cálculo da distância\n",
    "\n",
    "Vamos calcular a distância de cada propriedade ao obelisco de Buenos Aires, e a registraremos em uma nova coluna.\n",
    "\n",
    "<img src='img/Obelisco_de_BA_2008.jpeg' align='left' width=50%/>"
   ]
  },
  {
   "cell_type": "markdown",
   "metadata": {},
   "source": [
    "Primeiro, precisamos representar a localização geográfica do Obelisco de Buenos Aires. Fazemos isso usando a forma geométrica `Point` e as coordenadas do lugar."
   ]
  },
  {
   "cell_type": "code",
   "execution_count": 16,
   "metadata": {},
   "outputs": [],
   "source": [
    "from shapely.geometry import Point\n",
    "\n",
    "ponto_obelisco_p = Point(-58.381555, -34.605425)"
   ]
  },
  {
   "cell_type": "code",
   "execution_count": 17,
   "metadata": {},
   "outputs": [
    {
     "data": {
      "text/plain": [
       "shapely.geometry.point.Point"
      ]
     },
     "execution_count": 17,
     "metadata": {},
     "output_type": "execute_result"
    }
   ],
   "source": [
    "type(ponto_obelisco_p)"
   ]
  },
  {
   "cell_type": "markdown",
   "metadata": {},
   "source": [
    "Já o método que calcula a distância entre dois pontos, [`geopy.distance.geodesic`](https://geopy.readthedocs.io/en/stable/#geopy.distance.geodesic), precisa representar a localização geográfica do Obelisco de Buenos Aires por uma tupla."
   ]
  },
  {
   "cell_type": "code",
   "execution_count": 18,
   "metadata": {},
   "outputs": [],
   "source": [
    "ponto_obelisco = (-58.381555, -34.605425)"
   ]
  },
  {
   "cell_type": "code",
   "execution_count": 19,
   "metadata": {},
   "outputs": [
    {
     "data": {
      "text/plain": [
       "tuple"
      ]
     },
     "execution_count": 19,
     "metadata": {},
     "output_type": "execute_result"
    }
   ],
   "source": [
    "type(ponto_obelisco)"
   ]
  },
  {
   "cell_type": "markdown",
   "metadata": {},
   "source": [
    "Agora podemos adicionar a nova coluna com a distância entre o ponto do obelisco e o ponto de cada propriedade (em metros). Vamos chamá-lo de `obelisk_distance`.\n",
    "\n",
    "**Uma iteração** deve ser gerada no índice de `geo_prop`:\n",
    "\n",
    "Ajuda:\n",
    "```python\n",
    "for i in geo_prop.index:\n",
    "    geo_prop.loc[i, 'distance_obelisk'] = Calculo da distância entre o obelisco e cada propriedade.\n",
    "```\n",
    "    \n",
    "O [cálculo da distância](https://geopy.readthedocs.io/en/stable/#module-geopy.distance) é realizado com o método [`geopy.distance.geodesic()`](https://geopy.readthedocs.io/en/stable/#geopy.distance.geodesic), discutido anteriormente.\n",
    "\n",
    "Também com a instrução: \n",
    "\n",
    "```python \n",
    "geo_prop.loc[i, 'geometry'].X \n",
    "``` \n",
    "\n",
    "obtemos a coordenada de comprimento da distância. Deve terminar com `.meters` para indicar a distância em metros."
   ]
  },
  {
   "cell_type": "code",
   "execution_count": 20,
   "metadata": {},
   "outputs": [
    {
     "data": {
      "text/plain": [
       "RangeIndex(start=0, stop=17223, step=1)"
      ]
     },
     "execution_count": 20,
     "metadata": {},
     "output_type": "execute_result"
    }
   ],
   "source": [
    "geo_prop.index"
   ]
  },
  {
   "cell_type": "code",
   "execution_count": 21,
   "metadata": {},
   "outputs": [
    {
     "name": "stderr",
     "output_type": "stream",
     "text": [
      "/Users/rudineycasali/Documents/Project_Ada_Tech/venv_Ada/lib/python3.9/site-packages/urllib3/__init__.py:34: NotOpenSSLWarning: urllib3 v2 only supports OpenSSL 1.1.1+, currently the 'ssl' module is compiled with 'LibreSSL 2.8.3'. See: https://github.com/urllib3/urllib3/issues/3020\n",
      "  warnings.warn(\n"
     ]
    }
   ],
   "source": [
    "import geopy.distance\n",
    "\n",
    "for i in geo_prop.index:\n",
    "    geo_prop.loc[i, 'distance_obelisk'] = geopy.distance.geodesic(ponto_obelisco,\n",
    "                  (geo_prop.loc[i, 'geometry'].x ,geo_prop.loc[i, 'geometry'].y)\n",
    "                                                                   ).meters"
   ]
  },
  {
   "cell_type": "code",
   "execution_count": 22,
   "metadata": {},
   "outputs": [
    {
     "data": {
      "text/html": [
       "<div>\n",
       "<style scoped>\n",
       "    .dataframe tbody tr th:only-of-type {\n",
       "        vertical-align: middle;\n",
       "    }\n",
       "\n",
       "    .dataframe tbody tr th {\n",
       "        vertical-align: top;\n",
       "    }\n",
       "\n",
       "    .dataframe thead th {\n",
       "        text-align: right;\n",
       "    }\n",
       "</style>\n",
       "<table border=\"1\" class=\"dataframe\">\n",
       "  <thead>\n",
       "    <tr style=\"text-align: right;\">\n",
       "      <th></th>\n",
       "      <th>distance_obelisk</th>\n",
       "      <th>geometry</th>\n",
       "      <th>lat</th>\n",
       "      <th>lon</th>\n",
       "      <th>property_type</th>\n",
       "      <th>place_name</th>\n",
       "    </tr>\n",
       "  </thead>\n",
       "  <tbody>\n",
       "    <tr>\n",
       "      <th>0</th>\n",
       "      <td>14555.078219</td>\n",
       "      <td>POINT (-58.50884 -34.66182)</td>\n",
       "      <td>-34.661824</td>\n",
       "      <td>-58.508839</td>\n",
       "      <td>PH</td>\n",
       "      <td>Mataderos</td>\n",
       "    </tr>\n",
       "    <tr>\n",
       "      <th>1</th>\n",
       "      <td>15988.570648</td>\n",
       "      <td>POINT (-58.52298 -34.65226)</td>\n",
       "      <td>-34.652262</td>\n",
       "      <td>-58.522982</td>\n",
       "      <td>apartment</td>\n",
       "      <td>Mataderos</td>\n",
       "    </tr>\n",
       "    <tr>\n",
       "      <th>2</th>\n",
       "      <td>7381.316759</td>\n",
       "      <td>POINT (-58.44336 -34.55987)</td>\n",
       "      <td>-34.559873</td>\n",
       "      <td>-58.443362</td>\n",
       "      <td>apartment</td>\n",
       "      <td>Belgrano</td>\n",
       "    </tr>\n",
       "    <tr>\n",
       "      <th>3</th>\n",
       "      <td>7381.316759</td>\n",
       "      <td>POINT (-58.44336 -34.55987)</td>\n",
       "      <td>-34.559873</td>\n",
       "      <td>-58.443362</td>\n",
       "      <td>apartment</td>\n",
       "      <td>Belgrano</td>\n",
       "    </tr>\n",
       "    <tr>\n",
       "      <th>4</th>\n",
       "      <td>13651.907067</td>\n",
       "      <td>POINT (-58.50162 -34.65236)</td>\n",
       "      <td>-34.652356</td>\n",
       "      <td>-58.501624</td>\n",
       "      <td>PH</td>\n",
       "      <td>Mataderos</td>\n",
       "    </tr>\n",
       "  </tbody>\n",
       "</table>\n",
       "</div>"
      ],
      "text/plain": [
       "   distance_obelisk                     geometry        lat        lon  \\\n",
       "0      14555.078219  POINT (-58.50884 -34.66182) -34.661824 -58.508839   \n",
       "1      15988.570648  POINT (-58.52298 -34.65226) -34.652262 -58.522982   \n",
       "2       7381.316759  POINT (-58.44336 -34.55987) -34.559873 -58.443362   \n",
       "3       7381.316759  POINT (-58.44336 -34.55987) -34.559873 -58.443362   \n",
       "4      13651.907067  POINT (-58.50162 -34.65236) -34.652356 -58.501624   \n",
       "\n",
       "  property_type place_name  \n",
       "0            PH  Mataderos  \n",
       "1     apartment  Mataderos  \n",
       "2     apartment   Belgrano  \n",
       "3     apartment   Belgrano  \n",
       "4            PH  Mataderos  "
      ]
     },
     "execution_count": 22,
     "metadata": {},
     "output_type": "execute_result"
    }
   ],
   "source": [
    "geo_prop.loc[:4, ['distance_obelisk', 'geometry', 'lat', 'lon','property_type', 'place_name']]"
   ]
  },
  {
   "cell_type": "markdown",
   "metadata": {},
   "source": [
    "É interessante encontrar **valores extremos** na distância calculada, os `outliers`. Cálculos estatísticos podem nos confundir. Para isso, vamos classificar o `GeoDataFrame` `geo_prop` pela coluna `distance_obelisk` em ordem decrescente. E veja se nos primeiros valores encontramos distâncias que apresentam um valor extremo em relação aos demais."
   ]
  },
  {
   "cell_type": "code",
   "execution_count": 23,
   "metadata": {},
   "outputs": [
    {
     "data": {
      "text/html": [
       "<div>\n",
       "<style scoped>\n",
       "    .dataframe tbody tr th:only-of-type {\n",
       "        vertical-align: middle;\n",
       "    }\n",
       "\n",
       "    .dataframe tbody tr th {\n",
       "        vertical-align: top;\n",
       "    }\n",
       "\n",
       "    .dataframe thead th {\n",
       "        text-align: right;\n",
       "    }\n",
       "</style>\n",
       "<table border=\"1\" class=\"dataframe\">\n",
       "  <thead>\n",
       "    <tr style=\"text-align: right;\">\n",
       "      <th></th>\n",
       "      <th>property_type</th>\n",
       "      <th>place_name</th>\n",
       "      <th>country_name</th>\n",
       "      <th>state_name</th>\n",
       "      <th>lat</th>\n",
       "      <th>lon</th>\n",
       "      <th>price</th>\n",
       "      <th>currency</th>\n",
       "      <th>surface_total_in_m2</th>\n",
       "      <th>geometry</th>\n",
       "      <th>distance_obelisk</th>\n",
       "    </tr>\n",
       "  </thead>\n",
       "  <tbody>\n",
       "    <tr>\n",
       "      <th>4202</th>\n",
       "      <td>apartment</td>\n",
       "      <td>Mataderos</td>\n",
       "      <td>Argentina</td>\n",
       "      <td>Capital Federal</td>\n",
       "      <td>-38.416097</td>\n",
       "      <td>-63.616672</td>\n",
       "      <td>45000.0</td>\n",
       "      <td>USD</td>\n",
       "      <td>70.0</td>\n",
       "      <td>POINT (-63.61667 -38.41610)</td>\n",
       "      <td>618443.386395</td>\n",
       "    </tr>\n",
       "    <tr>\n",
       "      <th>3689</th>\n",
       "      <td>apartment</td>\n",
       "      <td>Belgrano</td>\n",
       "      <td>Argentina</td>\n",
       "      <td>Capital Federal</td>\n",
       "      <td>-34.578678</td>\n",
       "      <td>-58.544722</td>\n",
       "      <td>85000.0</td>\n",
       "      <td>USD</td>\n",
       "      <td>38.0</td>\n",
       "      <td>POINT (-58.54472 -34.57868)</td>\n",
       "      <td>18241.418749</td>\n",
       "    </tr>\n",
       "    <tr>\n",
       "      <th>10749</th>\n",
       "      <td>apartment</td>\n",
       "      <td>Almagro</td>\n",
       "      <td>Argentina</td>\n",
       "      <td>Capital Federal</td>\n",
       "      <td>-34.558634</td>\n",
       "      <td>-58.542461</td>\n",
       "      <td>250000.0</td>\n",
       "      <td>USD</td>\n",
       "      <td>107.0</td>\n",
       "      <td>POINT (-58.54246 -34.55863)</td>\n",
       "      <td>18129.491894</td>\n",
       "    </tr>\n",
       "    <tr>\n",
       "      <th>10557</th>\n",
       "      <td>apartment</td>\n",
       "      <td>Palermo</td>\n",
       "      <td>Argentina</td>\n",
       "      <td>Capital Federal</td>\n",
       "      <td>-34.558634</td>\n",
       "      <td>-58.542461</td>\n",
       "      <td>250000.0</td>\n",
       "      <td>USD</td>\n",
       "      <td>107.0</td>\n",
       "      <td>POINT (-58.54246 -34.55863)</td>\n",
       "      <td>18129.491894</td>\n",
       "    </tr>\n",
       "    <tr>\n",
       "      <th>3808</th>\n",
       "      <td>apartment</td>\n",
       "      <td>Saavedra</td>\n",
       "      <td>Argentina</td>\n",
       "      <td>Capital Federal</td>\n",
       "      <td>-34.577168</td>\n",
       "      <td>-58.538654</td>\n",
       "      <td>931457.0</td>\n",
       "      <td>USD</td>\n",
       "      <td>38.0</td>\n",
       "      <td>POINT (-58.53865 -34.57717)</td>\n",
       "      <td>17576.152416</td>\n",
       "    </tr>\n",
       "  </tbody>\n",
       "</table>\n",
       "</div>"
      ],
      "text/plain": [
       "      property_type place_name country_name       state_name        lat  \\\n",
       "4202      apartment  Mataderos    Argentina  Capital Federal -38.416097   \n",
       "3689      apartment   Belgrano    Argentina  Capital Federal -34.578678   \n",
       "10749     apartment    Almagro    Argentina  Capital Federal -34.558634   \n",
       "10557     apartment    Palermo    Argentina  Capital Federal -34.558634   \n",
       "3808      apartment   Saavedra    Argentina  Capital Federal -34.577168   \n",
       "\n",
       "             lon     price currency  surface_total_in_m2  \\\n",
       "4202  -63.616672   45000.0      USD                 70.0   \n",
       "3689  -58.544722   85000.0      USD                 38.0   \n",
       "10749 -58.542461  250000.0      USD                107.0   \n",
       "10557 -58.542461  250000.0      USD                107.0   \n",
       "3808  -58.538654  931457.0      USD                 38.0   \n",
       "\n",
       "                          geometry  distance_obelisk  \n",
       "4202   POINT (-63.61667 -38.41610)     618443.386395  \n",
       "3689   POINT (-58.54472 -34.57868)      18241.418749  \n",
       "10749  POINT (-58.54246 -34.55863)      18129.491894  \n",
       "10557  POINT (-58.54246 -34.55863)      18129.491894  \n",
       "3808   POINT (-58.53865 -34.57717)      17576.152416  "
      ]
     },
     "execution_count": 23,
     "metadata": {},
     "output_type": "execute_result"
    }
   ],
   "source": [
    "geo_prop.sort_values(by = \"distance_obelisk\", \n",
    "                     ascending = False).head(5)"
   ]
  },
  {
   "cell_type": "code",
   "execution_count": 24,
   "metadata": {},
   "outputs": [
    {
     "data": {
      "text/plain": [
       "618443.3863949322"
      ]
     },
     "execution_count": 24,
     "metadata": {},
     "output_type": "execute_result"
    }
   ],
   "source": [
    "geo_prop[\"distance_obelisk\"].max()"
   ]
  },
  {
   "cell_type": "markdown",
   "metadata": {},
   "source": [
    "O primeiro registro tem a distância errada, que é gerada a partir dos dados de comprimento errados. Melhor removê-lo.\n",
    "\n",
    "Para fazer isso, procuramos as propriedades que têm uma `distância_obelisco` maior que $19.000~$m e as eliminamos:\n",
    "\n",
    "- Procuramos os valores de índice que representam essas propriedades:"
   ]
  },
  {
   "cell_type": "code",
   "execution_count": 25,
   "metadata": {},
   "outputs": [
    {
     "data": {
      "text/plain": [
       "Index([4202], dtype='int64')"
      ]
     },
     "execution_count": 25,
     "metadata": {},
     "output_type": "execute_result"
    }
   ],
   "source": [
    "indice = geo_prop[geo_prop.distance_obelisk > 19000].index\n",
    "\n",
    "indice"
   ]
  },
  {
   "cell_type": "markdown",
   "metadata": {},
   "source": [
    "Verificamos ordenando novamente pela coluna `obelisk_distance` em ordem decrescente."
   ]
  },
  {
   "cell_type": "code",
   "execution_count": 26,
   "metadata": {},
   "outputs": [],
   "source": [
    "geo_prop.drop(indice, inplace = True)"
   ]
  },
  {
   "cell_type": "code",
   "execution_count": 27,
   "metadata": {},
   "outputs": [
    {
     "data": {
      "text/html": [
       "<div>\n",
       "<style scoped>\n",
       "    .dataframe tbody tr th:only-of-type {\n",
       "        vertical-align: middle;\n",
       "    }\n",
       "\n",
       "    .dataframe tbody tr th {\n",
       "        vertical-align: top;\n",
       "    }\n",
       "\n",
       "    .dataframe thead th {\n",
       "        text-align: right;\n",
       "    }\n",
       "</style>\n",
       "<table border=\"1\" class=\"dataframe\">\n",
       "  <thead>\n",
       "    <tr style=\"text-align: right;\">\n",
       "      <th></th>\n",
       "      <th>property_type</th>\n",
       "      <th>place_name</th>\n",
       "      <th>country_name</th>\n",
       "      <th>state_name</th>\n",
       "      <th>lat</th>\n",
       "      <th>lon</th>\n",
       "      <th>price</th>\n",
       "      <th>currency</th>\n",
       "      <th>surface_total_in_m2</th>\n",
       "      <th>geometry</th>\n",
       "      <th>distance_obelisk</th>\n",
       "    </tr>\n",
       "  </thead>\n",
       "  <tbody>\n",
       "    <tr>\n",
       "      <th>3689</th>\n",
       "      <td>apartment</td>\n",
       "      <td>Belgrano</td>\n",
       "      <td>Argentina</td>\n",
       "      <td>Capital Federal</td>\n",
       "      <td>-34.578678</td>\n",
       "      <td>-58.544722</td>\n",
       "      <td>85000.0</td>\n",
       "      <td>USD</td>\n",
       "      <td>38.0</td>\n",
       "      <td>POINT (-58.54472 -34.57868)</td>\n",
       "      <td>18241.418749</td>\n",
       "    </tr>\n",
       "    <tr>\n",
       "      <th>10557</th>\n",
       "      <td>apartment</td>\n",
       "      <td>Palermo</td>\n",
       "      <td>Argentina</td>\n",
       "      <td>Capital Federal</td>\n",
       "      <td>-34.558634</td>\n",
       "      <td>-58.542461</td>\n",
       "      <td>250000.0</td>\n",
       "      <td>USD</td>\n",
       "      <td>107.0</td>\n",
       "      <td>POINT (-58.54246 -34.55863)</td>\n",
       "      <td>18129.491894</td>\n",
       "    </tr>\n",
       "    <tr>\n",
       "      <th>10749</th>\n",
       "      <td>apartment</td>\n",
       "      <td>Almagro</td>\n",
       "      <td>Argentina</td>\n",
       "      <td>Capital Federal</td>\n",
       "      <td>-34.558634</td>\n",
       "      <td>-58.542461</td>\n",
       "      <td>250000.0</td>\n",
       "      <td>USD</td>\n",
       "      <td>107.0</td>\n",
       "      <td>POINT (-58.54246 -34.55863)</td>\n",
       "      <td>18129.491894</td>\n",
       "    </tr>\n",
       "    <tr>\n",
       "      <th>3789</th>\n",
       "      <td>apartment</td>\n",
       "      <td>Caballito</td>\n",
       "      <td>Argentina</td>\n",
       "      <td>Capital Federal</td>\n",
       "      <td>-34.577168</td>\n",
       "      <td>-58.538654</td>\n",
       "      <td>589700.0</td>\n",
       "      <td>USD</td>\n",
       "      <td>30.0</td>\n",
       "      <td>POINT (-58.53865 -34.57717)</td>\n",
       "      <td>17576.152416</td>\n",
       "    </tr>\n",
       "    <tr>\n",
       "      <th>3734</th>\n",
       "      <td>apartment</td>\n",
       "      <td>Caballito</td>\n",
       "      <td>Argentina</td>\n",
       "      <td>Capital Federal</td>\n",
       "      <td>-34.577168</td>\n",
       "      <td>-58.538654</td>\n",
       "      <td>229000.0</td>\n",
       "      <td>USD</td>\n",
       "      <td>136.0</td>\n",
       "      <td>POINT (-58.53865 -34.57717)</td>\n",
       "      <td>17576.152416</td>\n",
       "    </tr>\n",
       "  </tbody>\n",
       "</table>\n",
       "</div>"
      ],
      "text/plain": [
       "      property_type place_name country_name       state_name        lat  \\\n",
       "3689      apartment   Belgrano    Argentina  Capital Federal -34.578678   \n",
       "10557     apartment    Palermo    Argentina  Capital Federal -34.558634   \n",
       "10749     apartment    Almagro    Argentina  Capital Federal -34.558634   \n",
       "3789      apartment  Caballito    Argentina  Capital Federal -34.577168   \n",
       "3734      apartment  Caballito    Argentina  Capital Federal -34.577168   \n",
       "\n",
       "             lon     price currency  surface_total_in_m2  \\\n",
       "3689  -58.544722   85000.0      USD                 38.0   \n",
       "10557 -58.542461  250000.0      USD                107.0   \n",
       "10749 -58.542461  250000.0      USD                107.0   \n",
       "3789  -58.538654  589700.0      USD                 30.0   \n",
       "3734  -58.538654  229000.0      USD                136.0   \n",
       "\n",
       "                          geometry  distance_obelisk  \n",
       "3689   POINT (-58.54472 -34.57868)      18241.418749  \n",
       "10557  POINT (-58.54246 -34.55863)      18129.491894  \n",
       "10749  POINT (-58.54246 -34.55863)      18129.491894  \n",
       "3789   POINT (-58.53865 -34.57717)      17576.152416  \n",
       "3734   POINT (-58.53865 -34.57717)      17576.152416  "
      ]
     },
     "execution_count": 27,
     "metadata": {},
     "output_type": "execute_result"
    }
   ],
   "source": [
    "geo_prop.sort_values(by = \"distance_obelisk\", \n",
    "                     ascending = False\n",
    "                    ).head(5)"
   ]
  },
  {
   "cell_type": "markdown",
   "metadata": {},
   "source": [
    "E agora podemos fazer um histograma sobre as distâncias."
   ]
  },
  {
   "cell_type": "code",
   "execution_count": 28,
   "metadata": {},
   "outputs": [
    {
     "data": {
      "image/png": "[encoded data removed]",
      "text/plain": [
       "<Figure size 640x480 with 1 Axes>"
      ]
     },
     "metadata": {},
     "output_type": "display_data"
    },
    {
     "data": {
      "text/plain": [
       "<Figure size 640x480 with 0 Axes>"
      ]
     },
     "metadata": {},
     "output_type": "display_data"
    }
   ],
   "source": [
    "plt.title('Distância ao Obelisco')\n",
    "\n",
    "plt.hist(geo_prop[\"distance_obelisk\"], \n",
    "         bins = 20, \n",
    "         alpha = 1, \n",
    "         edgecolor = 'black', \n",
    "         linewidth = 1\n",
    "        )\n",
    "\n",
    "plt.grid(True)\n",
    "plt.show()\n",
    "plt.clf() "
   ]
  },
  {
   "cell_type": "markdown",
   "metadata": {},
   "source": [
    "### Parte 4 - Linha conectando as estações de metrô\n",
    "\n",
    "Vamos fazer uma linha geométrica com as estações de metrô da linha H e representá-la graficamente sobre a cidade.\n",
    "\n",
    "<div>\n",
    "    <div class = \"mapa\">\n",
    "        <img src='img/metro_BA.jpg' alt=\"Elementos geométricos\" width=80% height=90%>\n",
    "    </div>\n",
    "</div>"
   ]
  },
  {
   "cell_type": "markdown",
   "metadata": {},
   "source": [
    "Vemos os primeiros registros do `GeoDataFrame` `geo_subte`."
   ]
  },
  {
   "cell_type": "code",
   "execution_count": 29,
   "metadata": {},
   "outputs": [
    {
     "data": {
      "text/html": [
       "<div>\n",
       "<style scoped>\n",
       "    .dataframe tbody tr th:only-of-type {\n",
       "        vertical-align: middle;\n",
       "    }\n",
       "\n",
       "    .dataframe tbody tr th {\n",
       "        vertical-align: top;\n",
       "    }\n",
       "\n",
       "    .dataframe thead th {\n",
       "        text-align: right;\n",
       "    }\n",
       "</style>\n",
       "<table border=\"1\" class=\"dataframe\">\n",
       "  <thead>\n",
       "    <tr style=\"text-align: right;\">\n",
       "      <th></th>\n",
       "      <th>lon</th>\n",
       "      <th>lat</th>\n",
       "      <th>id</th>\n",
       "      <th>est</th>\n",
       "      <th>lin</th>\n",
       "      <th>geometry</th>\n",
       "    </tr>\n",
       "  </thead>\n",
       "  <tbody>\n",
       "    <tr>\n",
       "      <th>0</th>\n",
       "      <td>-58.398928</td>\n",
       "      <td>-34.635750</td>\n",
       "      <td>1.0</td>\n",
       "      <td>CASEROS</td>\n",
       "      <td>H</td>\n",
       "      <td>POINT (-58.39893 -34.63575)</td>\n",
       "    </tr>\n",
       "    <tr>\n",
       "      <th>1</th>\n",
       "      <td>-58.400970</td>\n",
       "      <td>-34.629376</td>\n",
       "      <td>2.0</td>\n",
       "      <td>INCLAN - MEZQUITA AL AHMAD</td>\n",
       "      <td>H</td>\n",
       "      <td>POINT (-58.40097 -34.62938)</td>\n",
       "    </tr>\n",
       "    <tr>\n",
       "      <th>2</th>\n",
       "      <td>-58.402323</td>\n",
       "      <td>-34.623092</td>\n",
       "      <td>3.0</td>\n",
       "      <td>HUMBERTO 1°</td>\n",
       "      <td>H</td>\n",
       "      <td>POINT (-58.40232 -34.62309)</td>\n",
       "    </tr>\n",
       "    <tr>\n",
       "      <th>3</th>\n",
       "      <td>-58.404732</td>\n",
       "      <td>-34.615242</td>\n",
       "      <td>4.0</td>\n",
       "      <td>VENEZUELA</td>\n",
       "      <td>H</td>\n",
       "      <td>POINT (-58.40473 -34.61524)</td>\n",
       "    </tr>\n",
       "  </tbody>\n",
       "</table>\n",
       "</div>"
      ],
      "text/plain": [
       "         lon        lat   id                         est lin  \\\n",
       "0 -58.398928 -34.635750  1.0                     CASEROS   H   \n",
       "1 -58.400970 -34.629376  2.0  INCLAN - MEZQUITA AL AHMAD   H   \n",
       "2 -58.402323 -34.623092  3.0                 HUMBERTO 1°   H   \n",
       "3 -58.404732 -34.615242  4.0                   VENEZUELA   H   \n",
       "\n",
       "                      geometry  \n",
       "0  POINT (-58.39893 -34.63575)  \n",
       "1  POINT (-58.40097 -34.62938)  \n",
       "2  POINT (-58.40232 -34.62309)  \n",
       "3  POINT (-58.40473 -34.61524)  "
      ]
     },
     "execution_count": 29,
     "metadata": {},
     "output_type": "execute_result"
    }
   ],
   "source": [
    "geo_subte.head(4)"
   ]
  },
  {
   "cell_type": "markdown",
   "metadata": {},
   "source": [
    "Primeiro vamos selecionar apenas as estações na linha H, e salvar a seleção na variável `geo_subte_h`."
   ]
  },
  {
   "cell_type": "code",
   "execution_count": 30,
   "metadata": {},
   "outputs": [],
   "source": [
    "geo_subte_h = geo_subte.loc[geo_subte['lin'] == 'H', : ]"
   ]
  },
  {
   "cell_type": "code",
   "execution_count": 31,
   "metadata": {},
   "outputs": [
    {
     "data": {
      "text/html": [
       "<div>\n",
       "<style scoped>\n",
       "    .dataframe tbody tr th:only-of-type {\n",
       "        vertical-align: middle;\n",
       "    }\n",
       "\n",
       "    .dataframe tbody tr th {\n",
       "        vertical-align: top;\n",
       "    }\n",
       "\n",
       "    .dataframe thead th {\n",
       "        text-align: right;\n",
       "    }\n",
       "</style>\n",
       "<table border=\"1\" class=\"dataframe\">\n",
       "  <thead>\n",
       "    <tr style=\"text-align: right;\">\n",
       "      <th></th>\n",
       "      <th>lon</th>\n",
       "      <th>lat</th>\n",
       "      <th>id</th>\n",
       "      <th>est</th>\n",
       "      <th>lin</th>\n",
       "      <th>geometry</th>\n",
       "    </tr>\n",
       "  </thead>\n",
       "  <tbody>\n",
       "    <tr>\n",
       "      <th>0</th>\n",
       "      <td>-58.398928</td>\n",
       "      <td>-34.635750</td>\n",
       "      <td>1.0</td>\n",
       "      <td>CASEROS</td>\n",
       "      <td>H</td>\n",
       "      <td>POINT (-58.39893 -34.63575)</td>\n",
       "    </tr>\n",
       "    <tr>\n",
       "      <th>1</th>\n",
       "      <td>-58.400970</td>\n",
       "      <td>-34.629376</td>\n",
       "      <td>2.0</td>\n",
       "      <td>INCLAN - MEZQUITA AL AHMAD</td>\n",
       "      <td>H</td>\n",
       "      <td>POINT (-58.40097 -34.62938)</td>\n",
       "    </tr>\n",
       "    <tr>\n",
       "      <th>2</th>\n",
       "      <td>-58.402323</td>\n",
       "      <td>-34.623092</td>\n",
       "      <td>3.0</td>\n",
       "      <td>HUMBERTO 1°</td>\n",
       "      <td>H</td>\n",
       "      <td>POINT (-58.40232 -34.62309)</td>\n",
       "    </tr>\n",
       "    <tr>\n",
       "      <th>3</th>\n",
       "      <td>-58.404732</td>\n",
       "      <td>-34.615242</td>\n",
       "      <td>4.0</td>\n",
       "      <td>VENEZUELA</td>\n",
       "      <td>H</td>\n",
       "      <td>POINT (-58.40473 -34.61524)</td>\n",
       "    </tr>\n",
       "    <tr>\n",
       "      <th>4</th>\n",
       "      <td>-58.406036</td>\n",
       "      <td>-34.608935</td>\n",
       "      <td>5.0</td>\n",
       "      <td>ONCE - 30 DE DICIEMBRE</td>\n",
       "      <td>H</td>\n",
       "      <td>POINT (-58.40604 -34.60894)</td>\n",
       "    </tr>\n",
       "    <tr>\n",
       "      <th>76</th>\n",
       "      <td>-58.405450</td>\n",
       "      <td>-34.604490</td>\n",
       "      <td>77.0</td>\n",
       "      <td>CORRIENTES</td>\n",
       "      <td>H</td>\n",
       "      <td>POINT (-58.40545 -34.60449)</td>\n",
       "    </tr>\n",
       "    <tr>\n",
       "      <th>77</th>\n",
       "      <td>-58.405795</td>\n",
       "      <td>-34.638406</td>\n",
       "      <td>78.0</td>\n",
       "      <td>PARQUE PATRICIOS</td>\n",
       "      <td>H</td>\n",
       "      <td>POINT (-58.40579 -34.63841)</td>\n",
       "    </tr>\n",
       "    <tr>\n",
       "      <th>78</th>\n",
       "      <td>-58.412385</td>\n",
       "      <td>-34.641269</td>\n",
       "      <td>79.0</td>\n",
       "      <td>HOSPITALES</td>\n",
       "      <td>H</td>\n",
       "      <td>POINT (-58.41239 -34.64127)</td>\n",
       "    </tr>\n",
       "    <tr>\n",
       "      <th>83</th>\n",
       "      <td>-58.403721</td>\n",
       "      <td>-34.598455</td>\n",
       "      <td>84.0</td>\n",
       "      <td>CÓRDOBA</td>\n",
       "      <td>H</td>\n",
       "      <td>POINT (-58.40372 -34.59846)</td>\n",
       "    </tr>\n",
       "    <tr>\n",
       "      <th>84</th>\n",
       "      <td>-58.397216</td>\n",
       "      <td>-34.587462</td>\n",
       "      <td>85.0</td>\n",
       "      <td>LAS HERAS</td>\n",
       "      <td>H</td>\n",
       "      <td>POINT (-58.39722 -34.58746)</td>\n",
       "    </tr>\n",
       "    <tr>\n",
       "      <th>85</th>\n",
       "      <td>-58.402376</td>\n",
       "      <td>-34.594525</td>\n",
       "      <td>86.0</td>\n",
       "      <td>SANTA FE - CARLOS JAUREGUI</td>\n",
       "      <td>H</td>\n",
       "      <td>POINT (-58.40238 -34.59453)</td>\n",
       "    </tr>\n",
       "    <tr>\n",
       "      <th>86</th>\n",
       "      <td>-58.391019</td>\n",
       "      <td>-34.583036</td>\n",
       "      <td>87.0</td>\n",
       "      <td>FACULTAD DE DERECHO - JULIETA LANTERI</td>\n",
       "      <td>H</td>\n",
       "      <td>POINT (-58.39102 -34.58304)</td>\n",
       "    </tr>\n",
       "  </tbody>\n",
       "</table>\n",
       "</div>"
      ],
      "text/plain": [
       "          lon        lat    id                                    est lin  \\\n",
       "0  -58.398928 -34.635750   1.0                                CASEROS   H   \n",
       "1  -58.400970 -34.629376   2.0             INCLAN - MEZQUITA AL AHMAD   H   \n",
       "2  -58.402323 -34.623092   3.0                            HUMBERTO 1°   H   \n",
       "3  -58.404732 -34.615242   4.0                              VENEZUELA   H   \n",
       "4  -58.406036 -34.608935   5.0                 ONCE - 30 DE DICIEMBRE   H   \n",
       "76 -58.405450 -34.604490  77.0                             CORRIENTES   H   \n",
       "77 -58.405795 -34.638406  78.0                       PARQUE PATRICIOS   H   \n",
       "78 -58.412385 -34.641269  79.0                             HOSPITALES   H   \n",
       "83 -58.403721 -34.598455  84.0                                CÓRDOBA   H   \n",
       "84 -58.397216 -34.587462  85.0                              LAS HERAS   H   \n",
       "85 -58.402376 -34.594525  86.0             SANTA FE - CARLOS JAUREGUI   H   \n",
       "86 -58.391019 -34.583036  87.0  FACULTAD DE DERECHO - JULIETA LANTERI   H   \n",
       "\n",
       "                       geometry  \n",
       "0   POINT (-58.39893 -34.63575)  \n",
       "1   POINT (-58.40097 -34.62938)  \n",
       "2   POINT (-58.40232 -34.62309)  \n",
       "3   POINT (-58.40473 -34.61524)  \n",
       "4   POINT (-58.40604 -34.60894)  \n",
       "76  POINT (-58.40545 -34.60449)  \n",
       "77  POINT (-58.40579 -34.63841)  \n",
       "78  POINT (-58.41239 -34.64127)  \n",
       "83  POINT (-58.40372 -34.59846)  \n",
       "84  POINT (-58.39722 -34.58746)  \n",
       "85  POINT (-58.40238 -34.59453)  \n",
       "86  POINT (-58.39102 -34.58304)  "
      ]
     },
     "execution_count": 31,
     "metadata": {},
     "output_type": "execute_result"
    }
   ],
   "source": [
    "geo_subte_h"
   ]
  },
  {
   "cell_type": "markdown",
   "metadata": {},
   "source": [
    "Como mostra o desenho, a linha vai de Norte a Sul (ou Sul a Norte). Como as estações devem estar alinhadas para que a linha saia corretamente, podemos usar a coluna `lat` para ordená-las; `lat` é a latitude de cada estação. Vamos aplicar o método [`pandas.DataFrame.sort_values()`](https://pandas.pydata.org/pandas-docs/stable/reference/api/pandas.DataFrame.sort_values.html) para realizar o ordenamento."
   ]
  },
  {
   "cell_type": "code",
   "execution_count": 32,
   "metadata": {},
   "outputs": [],
   "source": [
    "geo_subte_h = geo_subte_h.sort_values(by = 'lat')"
   ]
  },
  {
   "cell_type": "code",
   "execution_count": 33,
   "metadata": {},
   "outputs": [
    {
     "data": {
      "text/html": [
       "<div>\n",
       "<style scoped>\n",
       "    .dataframe tbody tr th:only-of-type {\n",
       "        vertical-align: middle;\n",
       "    }\n",
       "\n",
       "    .dataframe tbody tr th {\n",
       "        vertical-align: top;\n",
       "    }\n",
       "\n",
       "    .dataframe thead th {\n",
       "        text-align: right;\n",
       "    }\n",
       "</style>\n",
       "<table border=\"1\" class=\"dataframe\">\n",
       "  <thead>\n",
       "    <tr style=\"text-align: right;\">\n",
       "      <th></th>\n",
       "      <th>lon</th>\n",
       "      <th>lat</th>\n",
       "      <th>id</th>\n",
       "      <th>est</th>\n",
       "      <th>lin</th>\n",
       "      <th>geometry</th>\n",
       "    </tr>\n",
       "  </thead>\n",
       "  <tbody>\n",
       "    <tr>\n",
       "      <th>78</th>\n",
       "      <td>-58.412385</td>\n",
       "      <td>-34.641269</td>\n",
       "      <td>79.0</td>\n",
       "      <td>HOSPITALES</td>\n",
       "      <td>H</td>\n",
       "      <td>POINT (-58.41239 -34.64127)</td>\n",
       "    </tr>\n",
       "    <tr>\n",
       "      <th>77</th>\n",
       "      <td>-58.405795</td>\n",
       "      <td>-34.638406</td>\n",
       "      <td>78.0</td>\n",
       "      <td>PARQUE PATRICIOS</td>\n",
       "      <td>H</td>\n",
       "      <td>POINT (-58.40579 -34.63841)</td>\n",
       "    </tr>\n",
       "    <tr>\n",
       "      <th>0</th>\n",
       "      <td>-58.398928</td>\n",
       "      <td>-34.635750</td>\n",
       "      <td>1.0</td>\n",
       "      <td>CASEROS</td>\n",
       "      <td>H</td>\n",
       "      <td>POINT (-58.39893 -34.63575)</td>\n",
       "    </tr>\n",
       "    <tr>\n",
       "      <th>1</th>\n",
       "      <td>-58.400970</td>\n",
       "      <td>-34.629376</td>\n",
       "      <td>2.0</td>\n",
       "      <td>INCLAN - MEZQUITA AL AHMAD</td>\n",
       "      <td>H</td>\n",
       "      <td>POINT (-58.40097 -34.62938)</td>\n",
       "    </tr>\n",
       "    <tr>\n",
       "      <th>2</th>\n",
       "      <td>-58.402323</td>\n",
       "      <td>-34.623092</td>\n",
       "      <td>3.0</td>\n",
       "      <td>HUMBERTO 1°</td>\n",
       "      <td>H</td>\n",
       "      <td>POINT (-58.40232 -34.62309)</td>\n",
       "    </tr>\n",
       "    <tr>\n",
       "      <th>3</th>\n",
       "      <td>-58.404732</td>\n",
       "      <td>-34.615242</td>\n",
       "      <td>4.0</td>\n",
       "      <td>VENEZUELA</td>\n",
       "      <td>H</td>\n",
       "      <td>POINT (-58.40473 -34.61524)</td>\n",
       "    </tr>\n",
       "    <tr>\n",
       "      <th>4</th>\n",
       "      <td>-58.406036</td>\n",
       "      <td>-34.608935</td>\n",
       "      <td>5.0</td>\n",
       "      <td>ONCE - 30 DE DICIEMBRE</td>\n",
       "      <td>H</td>\n",
       "      <td>POINT (-58.40604 -34.60894)</td>\n",
       "    </tr>\n",
       "    <tr>\n",
       "      <th>76</th>\n",
       "      <td>-58.405450</td>\n",
       "      <td>-34.604490</td>\n",
       "      <td>77.0</td>\n",
       "      <td>CORRIENTES</td>\n",
       "      <td>H</td>\n",
       "      <td>POINT (-58.40545 -34.60449)</td>\n",
       "    </tr>\n",
       "    <tr>\n",
       "      <th>83</th>\n",
       "      <td>-58.403721</td>\n",
       "      <td>-34.598455</td>\n",
       "      <td>84.0</td>\n",
       "      <td>CÓRDOBA</td>\n",
       "      <td>H</td>\n",
       "      <td>POINT (-58.40372 -34.59846)</td>\n",
       "    </tr>\n",
       "    <tr>\n",
       "      <th>85</th>\n",
       "      <td>-58.402376</td>\n",
       "      <td>-34.594525</td>\n",
       "      <td>86.0</td>\n",
       "      <td>SANTA FE - CARLOS JAUREGUI</td>\n",
       "      <td>H</td>\n",
       "      <td>POINT (-58.40238 -34.59453)</td>\n",
       "    </tr>\n",
       "    <tr>\n",
       "      <th>84</th>\n",
       "      <td>-58.397216</td>\n",
       "      <td>-34.587462</td>\n",
       "      <td>85.0</td>\n",
       "      <td>LAS HERAS</td>\n",
       "      <td>H</td>\n",
       "      <td>POINT (-58.39722 -34.58746)</td>\n",
       "    </tr>\n",
       "    <tr>\n",
       "      <th>86</th>\n",
       "      <td>-58.391019</td>\n",
       "      <td>-34.583036</td>\n",
       "      <td>87.0</td>\n",
       "      <td>FACULTAD DE DERECHO - JULIETA LANTERI</td>\n",
       "      <td>H</td>\n",
       "      <td>POINT (-58.39102 -34.58304)</td>\n",
       "    </tr>\n",
       "  </tbody>\n",
       "</table>\n",
       "</div>"
      ],
      "text/plain": [
       "          lon        lat    id                                    est lin  \\\n",
       "78 -58.412385 -34.641269  79.0                             HOSPITALES   H   \n",
       "77 -58.405795 -34.638406  78.0                       PARQUE PATRICIOS   H   \n",
       "0  -58.398928 -34.635750   1.0                                CASEROS   H   \n",
       "1  -58.400970 -34.629376   2.0             INCLAN - MEZQUITA AL AHMAD   H   \n",
       "2  -58.402323 -34.623092   3.0                            HUMBERTO 1°   H   \n",
       "3  -58.404732 -34.615242   4.0                              VENEZUELA   H   \n",
       "4  -58.406036 -34.608935   5.0                 ONCE - 30 DE DICIEMBRE   H   \n",
       "76 -58.405450 -34.604490  77.0                             CORRIENTES   H   \n",
       "83 -58.403721 -34.598455  84.0                                CÓRDOBA   H   \n",
       "85 -58.402376 -34.594525  86.0             SANTA FE - CARLOS JAUREGUI   H   \n",
       "84 -58.397216 -34.587462  85.0                              LAS HERAS   H   \n",
       "86 -58.391019 -34.583036  87.0  FACULTAD DE DERECHO - JULIETA LANTERI   H   \n",
       "\n",
       "                       geometry  \n",
       "78  POINT (-58.41239 -34.64127)  \n",
       "77  POINT (-58.40579 -34.63841)  \n",
       "0   POINT (-58.39893 -34.63575)  \n",
       "1   POINT (-58.40097 -34.62938)  \n",
       "2   POINT (-58.40232 -34.62309)  \n",
       "3   POINT (-58.40473 -34.61524)  \n",
       "4   POINT (-58.40604 -34.60894)  \n",
       "76  POINT (-58.40545 -34.60449)  \n",
       "83  POINT (-58.40372 -34.59846)  \n",
       "85  POINT (-58.40238 -34.59453)  \n",
       "84  POINT (-58.39722 -34.58746)  \n",
       "86  POINT (-58.39102 -34.58304)  "
      ]
     },
     "execution_count": 33,
     "metadata": {},
     "output_type": "execute_result"
    }
   ],
   "source": [
    "geo_subte_h"
   ]
  },
  {
   "cell_type": "markdown",
   "metadata": {},
   "source": [
    "Para simplificar a codificação, manteremos apenas os dados geográficos de cada estação. Geramos uma `GeoSeries` com a coluna geométrica de `geo_subte_h`. E o chamamos de `geo_subte_h_geometry`."
   ]
  },
  {
   "cell_type": "code",
   "execution_count": 34,
   "metadata": {},
   "outputs": [],
   "source": [
    "geo_subte_h_geometry = geo_subte_h[\"geometry\"]"
   ]
  },
  {
   "cell_type": "code",
   "execution_count": 35,
   "metadata": {},
   "outputs": [
    {
     "data": {
      "text/plain": [
       "geopandas.geoseries.GeoSeries"
      ]
     },
     "execution_count": 35,
     "metadata": {},
     "output_type": "execute_result"
    }
   ],
   "source": [
    "type(geo_subte_h_geometry)"
   ]
  },
  {
   "cell_type": "markdown",
   "metadata": {},
   "source": [
    "Agora criamos as linhas que conectam as estações de metrô. Cada linha é formada por **dois pontos**. Portanto, temos que pegar o primeiro e o segundo pontos do `Geoserie` e aplicar o método [`shapely.geometry.LineString()`](https://autogis-site.readthedocs.io/en/latest/notebooks/L1/geometric-objects.html#linestring) a eles. Em seguida, continuamos com o segundo e o terceiro, e assim por diante.\n",
    "\n",
    "Primeiro instanciamos uma lista onde salvaremos cada linha e a chamaremos de `line_h`. Deve ter comprimento igual ao número de estações menos $1$, ou seja, comprimento $11$."
   ]
  },
  {
   "cell_type": "code",
   "execution_count": 36,
   "metadata": {},
   "outputs": [],
   "source": [
    "longitud_linea = len(geo_subte_h_geometry) - 1\n",
    "linea_h = list(range(longitud_linea))"
   ]
  },
  {
   "cell_type": "code",
   "execution_count": 37,
   "metadata": {},
   "outputs": [
    {
     "data": {
      "text/plain": [
       "11"
      ]
     },
     "execution_count": 37,
     "metadata": {},
     "output_type": "execute_result"
    }
   ],
   "source": [
    "len(linea_h)"
   ]
  },
  {
   "cell_type": "markdown",
   "metadata": {},
   "source": [
    "Agora podemos criar as linhas e salvá-las na lista.\n",
    "\n",
    "Uma iteração deve ser gerada para atravessar a `GeoSerie` `geo_subte_h_geometry`.\n",
    "\n",
    "```python\n",
    "para i no intervalo (line_length):\n",
    "     linea_h [i] = Eu crio a linha entre o elemento i e o elemento i + 1\n",
    "```\n",
    "    \n",
    "O cálculo é realizado com o método [`shapely.geometry.LineString()`](https://autogis-site.readthedocs.io/en/latest/notebooks/L1/geometric-objects.html#linestring) da [biblioteca shapely](https://shapely.readthedocs.io/en/stable/manual.html), discutido anteriormente."
   ]
  },
  {
   "cell_type": "code",
   "execution_count": 38,
   "metadata": {},
   "outputs": [],
   "source": [
    "from shapely.geometry import LineString\n",
    "\n",
    "for i in range(longitud_linea): \n",
    "    linea_h[i] = LineString([geo_subte_h_geometry.iloc[i], geo_subte_h_geometry.iloc[i + 1]])"
   ]
  },
  {
   "cell_type": "code",
   "execution_count": 39,
   "metadata": {},
   "outputs": [
    {
     "data": {
      "text/plain": [
       "[<LINESTRING (-58.412 -34.641, -58.406 -34.638)>,\n",
       " <LINESTRING (-58.406 -34.638, -58.399 -34.636)>,\n",
       " <LINESTRING (-58.399 -34.636, -58.401 -34.629)>,\n",
       " <LINESTRING (-58.401 -34.629, -58.402 -34.623)>,\n",
       " <LINESTRING (-58.402 -34.623, -58.405 -34.615)>,\n",
       " <LINESTRING (-58.405 -34.615, -58.406 -34.609)>,\n",
       " <LINESTRING (-58.406 -34.609, -58.405 -34.604)>,\n",
       " <LINESTRING (-58.405 -34.604, -58.404 -34.598)>,\n",
       " <LINESTRING (-58.404 -34.598, -58.402 -34.595)>,\n",
       " <LINESTRING (-58.402 -34.595, -58.397 -34.587)>,\n",
       " <LINESTRING (-58.397 -34.587, -58.391 -34.583)>]"
      ]
     },
     "execution_count": 39,
     "metadata": {},
     "output_type": "execute_result"
    }
   ],
   "source": [
    "linea_h"
   ]
  },
  {
   "cell_type": "markdown",
   "metadata": {},
   "source": [
    "Agora vamos representar graficamente as linhas em um mapa com os bairros de Buenos Aires. Vamos ler os dados do arquivo `../Data/Neighborhoods.csv` em um `DataFrame` do pandas com o método [`pandas.read_csv()`](https://pandas.pydata.org/docs/reference/api/pandas.read_csv.html). Vamos chamá-lo de `df_bairros`."
   ]
  },
  {
   "cell_type": "code",
   "execution_count": 40,
   "metadata": {},
   "outputs": [],
   "source": [
    "df_bairros = pd.read_csv(\"../Data/Neighborhoods.csv\", \n",
    "                         encoding = 'latin1'\n",
    "                        )"
   ]
  },
  {
   "cell_type": "code",
   "execution_count": 41,
   "metadata": {},
   "outputs": [
    {
     "data": {
      "text/html": [
       "<div>\n",
       "<style scoped>\n",
       "    .dataframe tbody tr th:only-of-type {\n",
       "        vertical-align: middle;\n",
       "    }\n",
       "\n",
       "    .dataframe tbody tr th {\n",
       "        vertical-align: top;\n",
       "    }\n",
       "\n",
       "    .dataframe thead th {\n",
       "        text-align: right;\n",
       "    }\n",
       "</style>\n",
       "<table border=\"1\" class=\"dataframe\">\n",
       "  <thead>\n",
       "    <tr style=\"text-align: right;\">\n",
       "      <th></th>\n",
       "      <th>WKT</th>\n",
       "      <th>NEIGHBORHOOD</th>\n",
       "      <th>COMMUNE</th>\n",
       "      <th>PERIMETER</th>\n",
       "      <th>AREA</th>\n",
       "    </tr>\n",
       "  </thead>\n",
       "  <tbody>\n",
       "    <tr>\n",
       "      <th>0</th>\n",
       "      <td>POLYGON ((-58.4528200492791 -34.5959886570639,...</td>\n",
       "      <td>CHACARITA</td>\n",
       "      <td>15.0</td>\n",
       "      <td>7725.695228</td>\n",
       "      <td>3.118101e+06</td>\n",
       "    </tr>\n",
       "    <tr>\n",
       "      <th>1</th>\n",
       "      <td>POLYGON ((-58.4655768128541 -34.5965577078058,...</td>\n",
       "      <td>PATERNAL</td>\n",
       "      <td>15.0</td>\n",
       "      <td>7087.513295</td>\n",
       "      <td>2.229829e+06</td>\n",
       "    </tr>\n",
       "    <tr>\n",
       "      <th>2</th>\n",
       "      <td>POLYGON ((-58.4237529813037 -34.5978273383243,...</td>\n",
       "      <td>VILLA CRESPO</td>\n",
       "      <td>15.0</td>\n",
       "      <td>8132.699348</td>\n",
       "      <td>3.613584e+06</td>\n",
       "    </tr>\n",
       "  </tbody>\n",
       "</table>\n",
       "</div>"
      ],
      "text/plain": [
       "                                                 WKT  NEIGHBORHOOD  COMMUNE  \\\n",
       "0  POLYGON ((-58.4528200492791 -34.5959886570639,...     CHACARITA     15.0   \n",
       "1  POLYGON ((-58.4655768128541 -34.5965577078058,...      PATERNAL     15.0   \n",
       "2  POLYGON ((-58.4237529813037 -34.5978273383243,...  VILLA CRESPO     15.0   \n",
       "\n",
       "     PERIMETER          AREA  \n",
       "0  7725.695228  3.118101e+06  \n",
       "1  7087.513295  2.229829e+06  \n",
       "2  8132.699348  3.613584e+06  "
      ]
     },
     "execution_count": 41,
     "metadata": {},
     "output_type": "execute_result"
    }
   ],
   "source": [
    "df_bairros.head(3)"
   ]
  },
  {
   "cell_type": "code",
   "execution_count": 42,
   "metadata": {},
   "outputs": [
    {
     "data": {
      "text/plain": [
       "pandas.core.frame.DataFrame"
      ]
     },
     "execution_count": 42,
     "metadata": {},
     "output_type": "execute_result"
    }
   ],
   "source": [
    "type(df_bairros)"
   ]
  },
  {
   "cell_type": "markdown",
   "metadata": {},
   "source": [
    "E então geramos um `GeoDataFrame` das vizinhanças do `Dataframe`. Neste caso, a coluna `WKT` já contém uma forma geométrica do tipo Polígono, que representa o contorno de cada vizinhança. Mas em um formato `WKT`, não permite gerar um `GeoDataFrame`. Portanto, temos que convertê-lo em um formato de `geometry`."
   ]
  },
  {
   "cell_type": "code",
   "execution_count": 43,
   "metadata": {},
   "outputs": [],
   "source": [
    "import shapely.wkt\n",
    "\n",
    "df_bairros[\"WKT\"] = df_bairros[\"WKT\"].apply(shapely.wkt.loads) \n",
    "geo_barrios = gpd.GeoDataFrame(df_bairros, geometry = 'WKT')"
   ]
  },
  {
   "cell_type": "code",
   "execution_count": 44,
   "metadata": {},
   "outputs": [
    {
     "data": {
      "text/plain": [
       "WKT             geometry\n",
       "NEIGHBORHOOD      object\n",
       "COMMUNE          float64\n",
       "PERIMETER        float64\n",
       "AREA             float64\n",
       "dtype: object"
      ]
     },
     "execution_count": 44,
     "metadata": {},
     "output_type": "execute_result"
    }
   ],
   "source": [
    "geo_barrios.dtypes"
   ]
  },
  {
   "cell_type": "markdown",
   "metadata": {},
   "source": [
    "Por outro lado, precisamos representar graficamente as linhas para gerar um `Geoserie`, em que cada elemento é composto por dois pontos e a linha entre eles."
   ]
  },
  {
   "cell_type": "code",
   "execution_count": 45,
   "metadata": {},
   "outputs": [],
   "source": [
    "linea_h_geo = list(range(longitud_linea))\n",
    "\n",
    "for i in range(longitud_linea): \n",
    "    linea_h_geo[i] = gpd.GeoSeries([geo_subte_h_geometry.iloc[i], \n",
    "                                    geo_subte_h_geometry.iloc[i + 1], \n",
    "                                    linea_h[i]\n",
    "                                   ]\n",
    "                                  )"
   ]
  },
  {
   "cell_type": "code",
   "execution_count": 46,
   "metadata": {},
   "outputs": [
    {
     "data": {
      "text/plain": [
       "[0                          POINT (-58.41239 -34.64127)\n",
       " 1                          POINT (-58.40579 -34.63841)\n",
       " 2    LINESTRING (-58.41239 -34.64127, -58.40579 -34...\n",
       " dtype: geometry,\n",
       " 0                          POINT (-58.40579 -34.63841)\n",
       " 1                          POINT (-58.39893 -34.63575)\n",
       " 2    LINESTRING (-58.40579 -34.63841, -58.39893 -34...\n",
       " dtype: geometry]"
      ]
     },
     "execution_count": 46,
     "metadata": {},
     "output_type": "execute_result"
    }
   ],
   "source": [
    "linea_h_geo[ : 2]"
   ]
  },
  {
   "cell_type": "markdown",
   "metadata": {},
   "source": [
    "Com o método `plot()`, geramos o gráfico:"
   ]
  },
  {
   "cell_type": "code",
   "execution_count": 47,
   "metadata": {},
   "outputs": [
    {
     "data": {
      "image/png": "[encoded data removed]",
      "text/plain": [
       "<Figure size 640x480 with 1 Axes>"
      ]
     },
     "metadata": {},
     "output_type": "display_data"
    }
   ],
   "source": [
    "fig, ax = plt.subplots()\n",
    "ax.set_aspect('equal')\n",
    "geo_barrios.plot(ax = ax, \n",
    "                 color = 'white', \n",
    "                 edgecolor = 'black'\n",
    "                )\n",
    "\n",
    "for i in range(len(geo_subte_h_geometry) - 2): \n",
    "    linea_h_geo[i].plot(ax = ax, \n",
    "                        color = 'red'\n",
    "                       )\n",
    "\n",
    "plt.show();"
   ]
  },
  {
   "cell_type": "code",
   "execution_count": null,
   "metadata": {},
   "outputs": [],
   "source": []
  }
 ],
 "metadata": {
  "kernelspec": {
   "display_name": "Python 3",
   "language": "python",
   "name": "python3"
  },
  "language_info": {
   "codemirror_mode": {
    "name": "ipython",
    "version": 3
   },
   "file_extension": ".py",
   "mimetype": "text/x-python",
   "name": "python",
   "nbconvert_exporter": "python",
   "pygments_lexer": "ipython3",
   "version": "3.9.6"
  }
 },
 "nbformat": 4,
 "nbformat_minor": 4
}
