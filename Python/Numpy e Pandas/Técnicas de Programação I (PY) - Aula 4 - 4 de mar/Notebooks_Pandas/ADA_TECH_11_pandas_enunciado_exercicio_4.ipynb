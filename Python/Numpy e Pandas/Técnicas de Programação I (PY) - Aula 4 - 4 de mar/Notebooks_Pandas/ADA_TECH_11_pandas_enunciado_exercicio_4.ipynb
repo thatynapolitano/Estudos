{
 "cells": [
  {
   "cell_type": "markdown",
   "metadata": {},
   "source": [
    "<img src='letscodebr_cover.jpeg' align='left' width=100%/>"
   ]
  },
  {
   "cell_type": "markdown",
   "metadata": {},
   "source": [
    "# Ada Tech [DS-PY-004] Técnicas de Programação I (PY) Aulas 4 e 5 : Pandas - Resolução do Exercício 4."
   ]
  },
  {
   "cell_type": "markdown",
   "metadata": {},
   "source": [
    "# Prática adicional sobre joins com pandas\n",
    "\n",
    "Vamos trabalhar com um conjunto de dados [Coupon Redemption_SMOTE_ Feature Selection](https://www.kaggle.com/vasudeva009/coupon-redemption-smote-feature-selection/data) de campanha de marketing. É representado por um conjunto de tabelas relacionais:\n",
    "\n",
    "* train: relaciona o id do consumidor, cupons de desconto, campanha de marketing e contém a variável de destino 'redemption_status', que informa se o cupom foi resgatado ou não.\n",
    "\n",
    "* campaign_data: data de início e término da campanha e tipo de campanha\n",
    "\n",
    "* customer_demographics: faixa etária, estado civil, tamanho da família, número de filhos, nível de renda, proprietário / inquilino / hipoteca\n",
    "\n",
    "* coupon_item_mapping: cada cupom oferece benefícios em diferentes itens\n",
    "\n",
    "* item_data: marca, tipo de marca e categoria do item\n",
    "\n",
    "* customer_transaction_data: dados sobre compras feitas pelos consumidores. Não sabemos em qual compra utilizaram o cupom de desconto, talvez a promoção funcione para mais de uma compra.\n",
    "\n",
    "<img src='img/Schema.png' align='center' width=40%/>"
   ]
  },
  {
   "cell_type": "code",
   "execution_count": 1,
   "metadata": {},
   "outputs": [],
   "source": [
    "import pandas as pd\n",
    "from sklearn.impute import SimpleImputer"
   ]
  },
  {
   "cell_type": "code",
   "execution_count": 2,
   "metadata": {},
   "outputs": [],
   "source": [
    "train = pd.read_csv('../Data/train.csv')\n",
    "cust_dem = pd.read_csv('../Data/customer_demographics.csv')\n",
    "trans = pd.read_csv('../Data/customer_transaction_data.csv')\n",
    "coupon_item = pd.read_csv('../Data/coupon_item_mapping.csv')\n",
    "item_data = pd.read_csv('../Data/item_data.csv')\n",
    "campaign_data = pd.read_csv('../Data/campaign_data.csv')"
   ]
  },
  {
   "cell_type": "markdown",
   "metadata": {},
   "source": [
    "## Exercício 1 - Train dataframe"
   ]
  },
  {
   "cell_type": "markdown",
   "metadata": {},
   "source": [
    "* Olhe para o dataframe e verifique se há valores nulos."
   ]
  },
  {
   "cell_type": "code",
   "execution_count": null,
   "metadata": {},
   "outputs": [],
   "source": []
  },
  {
   "cell_type": "markdown",
   "metadata": {},
   "source": [
    "## Exercício 2 - Customer demographics dataframe\n",
    "\n",
    "* Verifique se há nulos\n",
    "* Olhe para os dtypes\n",
    "* Impute valores nulos a partir do valor modal de cada coluna\n",
    "* Traga as colunas de variáveis categóricas para o dtype 'category'"
   ]
  },
  {
   "cell_type": "code",
   "execution_count": null,
   "metadata": {},
   "outputs": [],
   "source": []
  },
  {
   "cell_type": "code",
   "execution_count": null,
   "metadata": {},
   "outputs": [],
   "source": []
  },
  {
   "cell_type": "code",
   "execution_count": null,
   "metadata": {},
   "outputs": [],
   "source": []
  },
  {
   "cell_type": "markdown",
   "metadata": {},
   "source": [
    "## Exercício 3 - Transactions dataframe\n",
    "\n",
    "* Verifique se há nulos\n",
    "* Veja os dtypes\n",
    "* Remova a coluna `dates`"
   ]
  },
  {
   "cell_type": "code",
   "execution_count": null,
   "metadata": {},
   "outputs": [],
   "source": []
  },
  {
   "cell_type": "code",
   "execution_count": null,
   "metadata": {},
   "outputs": [],
   "source": []
  },
  {
   "cell_type": "code",
   "execution_count": null,
   "metadata": {},
   "outputs": [],
   "source": []
  },
  {
   "cell_type": "markdown",
   "metadata": {},
   "source": [
    "## Exercício 4 - Coupon-Item dataframe\n",
    "* verifique se há dados nulos"
   ]
  },
  {
   "cell_type": "code",
   "execution_count": null,
   "metadata": {},
   "outputs": [],
   "source": []
  },
  {
   "cell_type": "markdown",
   "metadata": {},
   "source": [
    "## Exercício 5 - Item dataframe\n",
    "\n",
    "* Verifique se há nulos\n",
    "* Converta colunas categóricas para o dtype `category`"
   ]
  },
  {
   "cell_type": "code",
   "execution_count": null,
   "metadata": {},
   "outputs": [],
   "source": []
  },
  {
   "cell_type": "markdown",
   "metadata": {},
   "source": [
    "## Exercício 6 - Campaign dataframe\n",
    "* Verifique se há valores nulos.\n",
    "* Converta as colunas `start_date` e `end_date` para `TimeStamp`.\n",
    "* Calcule o período das promoções como `start_date` - `end_date`.\n",
    "* Remova `start_date` e `end_date`."
   ]
  },
  {
   "cell_type": "code",
   "execution_count": null,
   "metadata": {},
   "outputs": [],
   "source": []
  },
  {
   "cell_type": "code",
   "execution_count": null,
   "metadata": {},
   "outputs": [],
   "source": []
  },
  {
   "cell_type": "code",
   "execution_count": null,
   "metadata": {},
   "outputs": [],
   "source": []
  },
  {
   "cell_type": "markdown",
   "metadata": {},
   "source": [
    "## Exercício 7 - Merge Dataframes\n",
    "\n",
    "1. Faça um merge entre train e campaign_data. Qual coluna fica em `on`? Quais são os critérios em `how`?\n",
    "\n",
    "2. Combine o resultado do exercício $1$) com customer_demographics. Qual coluna fica em 'on'? Quais são os critérios em 'how'?\n",
    "\n",
    "3. Verifique os valores nulos obtidos em $2$.\n",
    "\n",
    "4. Imputamos os valores ausentes nas colunas demográficas. Para isso, amostramos com reposição da distribuição conjunta dos atributos demográficos observados.\n",
    "\n",
    "5. Merge com transações médias por assunto:\n",
    "\n",
    "* Faça um groupby por consumidor no dataframe da transação\n",
    "\n",
    "* Adicione o valor médio às variáveis contínuas (`selling_price`, `quantity`, etc)\n",
    "\n",
    "* merge com o DataFrame obtido em 4. Qual coluna fica em `on`? Qual critério entra em `how`?\n",
    "\n",
    "6. Merge com transações médias por item\n",
    "\n",
    "* a. Faça um agrupamento por item no dataframe da transação\n",
    "\n",
    "* b. Calcule o valor médio de variáveis contínuas\n",
    "\n",
    "* c. Faça um merge com o dataframe `coupon_item`\n",
    "\n",
    "* d. Faça um merge de c. com item_data. Qual coluna fica em `on`? Quais são os critérios em `how`?\n",
    "\n",
    "* e. Faça um agrupamento do dataframe d.: agrupando por `coupon_id`. Para cada grupo, calcule a moda das variáveis categóricas 'brand','brand_type,'category'.\n",
    "\n",
    "* f. Faça um agrupamento do dataframe d. agrupando por `coupon_id`. Para cada grupo, calcule a média das variáveis contínuas.\n",
    "\n",
    "* g. Faça uma fusão de d. com e. e então com f. Qual coluna fica em `on`? Quais são os critérios em `how`?\n",
    "\n",
    "7. Salve o dataframe resultante em um csv para prática de classe."
   ]
  },
  {
   "cell_type": "code",
   "execution_count": null,
   "metadata": {},
   "outputs": [],
   "source": []
  },
  {
   "cell_type": "code",
   "execution_count": null,
   "metadata": {},
   "outputs": [],
   "source": []
  }
 ],
 "metadata": {
  "kernelspec": {
   "display_name": "Python 3",
   "language": "python",
   "name": "python3"
  },
  "language_info": {
   "codemirror_mode": {
    "name": "ipython",
    "version": 3
   },
   "file_extension": ".py",
   "mimetype": "text/x-python",
   "name": "python",
   "nbconvert_exporter": "python",
   "pygments_lexer": "ipython3",
   "version": "3.9.6"
  }
 },
 "nbformat": 4,
 "nbformat_minor": 4
}
