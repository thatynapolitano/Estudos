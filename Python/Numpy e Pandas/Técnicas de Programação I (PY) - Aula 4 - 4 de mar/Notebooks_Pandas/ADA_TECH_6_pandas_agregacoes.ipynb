{
 "cells": [
  {
   "cell_type": "markdown",
   "metadata": {},
   "source": [
    "<img src='letscodebr_cover.jpeg' align='left' width=100%/>"
   ]
  },
  {
   "cell_type": "markdown",
   "metadata": {},
   "source": [
    "# Ada Tech [DS-PY-004] Técnicas de Programação I (PY) Aulas 4 e 5 : Pandas - Agregação."
   ]
  },
  {
   "cell_type": "markdown",
   "metadata": {},
   "source": [
    "## Intro  - Split, Apply, Combine\n",
    "\n",
    "Separar um conjunto de dados em categorias e aplicar uma função a cada grupo, que pode ser agregação, transformação ou filtro, é uma etapa muito comum em um fluxo de trabalho de análise de dados.\n",
    "\n",
    "Depois de carregar e preparar um conjunto de dados, podemos precisar calcular estatísticas de grupo ou, possivelmente, tabelas dinâmicas para gerar relatórios ou visualizações.\n",
    "\n",
    "`pandas` fornece métodos que nos permitem realizar essas tarefas naturalmente.\n",
    "\n",
    "Nestes guias, aprenderemos a\n",
    "\n",
    "* Dividir um objeto `pandas` em partes usando uma ou mais keys\n",
    "\n",
    "* Calcular medidas de resumo em grupos, como quantidade, média, desvio padrão ou qualquer função definida pelo usuário\n",
    "\n",
    "* Aplicar transformações por grupos.\n",
    "\n",
    "* Construir tabelas dinâmicas"
   ]
  },
  {
   "cell_type": "markdown",
   "metadata": {},
   "source": [
    "## Dataset\n",
    "\n",
    "O [GCBA](https://www.buenosaires.gob.ar/) realiza pesquisas com turistas que vêm aos centros de atendimento. Pergunta-se o motivo da consulta, os dias da viagem, o país de origem, entre outros.\n",
    "\n",
    "O conjunto de dados está publicamente acessível no portal de dados abertos do [GCBA](https://data.buenosaires.gob.ar/dataset/encuesta-centros-atencion-turistica-cat).\n",
    "\n",
    "Neste guia usaremos o dataset Resultado de pesquisas em Centros de Atenção ao Turista (CAT) em 2017-2018."
   ]
  },
  {
   "cell_type": "markdown",
   "metadata": {},
   "source": [
    "## Problema\n",
    "\n",
    "A partir dos dados das consultas aos postos de turismo da cidade de Buenos Aires, vamos responder a perguntas sobre o país de origem dos turistas, algumas medidas estatísticas sobre o número de dias de permanência na cidade e o número de visitantes."
   ]
  },
  {
   "cell_type": "markdown",
   "metadata": {},
   "source": [
    "## GroupBy\n",
    "\n",
    "Podemos descrever as operações em grupos com o termo *split-apply-combine*.\n",
    "\n",
    "Na primeira etapa do processo, os dados em um objeto `pandas` (uma instância de `Series` ou de `DataFrame`) se dividem em grupos (*split*) com base em uma ou mais keys que definimos. Esta divisão é feita por linhas (axis = 0) ou por colunas (axis = 1).\n",
    "\n",
    "Como um segundo estágio, aplicamos uma função a cada um dos grupos (*apply*) resultando em um novo valor por grupo.\n",
    "\n",
    "Na última etapa, os resultados da aplicação da função em cada um dos grupos são combinados em um objeto de resultado (*combine*).\n",
    "\n",
    "\n",
    "As chaves que agrupamos podem ser especificadas de várias maneiras diferentes:\n",
    "\n",
    "* Uma lista ou numpy array do mesmo tamanho que o eixo selecionado\n",
    "\n",
    "* Para objetos DataFrame, uma string que indica o nome da coluna pela qual vamos agrupar.\n",
    "\n",
    "* Para objetos DataFrame, uma string que indica o nome do índice pelo qual vamos agrupar.\n",
    "\n",
    "* Um dicionário ou Series que estabelece um mapeamento entre um valor e o nome do grupo.\n",
    "\n",
    "* Uma função python que será avaliada em cada um dos rótulos dos eixos.\n",
    "\n",
    "* Uma lista com qualquer uma das opções acima.\n",
    "\n",
    "\n",
    "Observe que o resultado de cada uma dessas opções é **produzir uma matriz de valores que usaremos para dividir** o objeto Series ou DataFrame.\n"
   ]
  },
  {
   "cell_type": "markdown",
   "metadata": {},
   "source": [
    "Vamos ler os dados da pesquisa de turismo GCBA, ver o quão grande é o DataFrame, quais colunas ele tem, que tipo de dados ele é e os primeiros registros lidos."
   ]
  },
  {
   "cell_type": "code",
   "execution_count": 1,
   "metadata": {},
   "outputs": [],
   "source": [
    "import pandas as pd\n",
    "import numpy as np"
   ]
  },
  {
   "cell_type": "code",
   "execution_count": 2,
   "metadata": {},
   "outputs": [
    {
     "name": "stdout",
     "output_type": "stream",
     "text": [
      "(174812, 20)\n",
      "Index(['id', 'fecha', 'centro_atencion_turistica', 'barrio', 'comuna',\n",
      "       'pasajeros', 'pais_residencia_si_extranjero',\n",
      "       'otro_pais_residencia_si_extranjero',\n",
      "       'provincia_residencia_si_argentino', 'pernoctaciones',\n",
      "       'medio_transporte_llegada', 'alojamiento', 'otro_alojamiento',\n",
      "       'barrio.1', 'otro_barrio', 'primera_vez', 'motivo_viaje',\n",
      "       'otro_motivo_viaje', 'motivo_consulta', 'otro_motivo_consulta'],\n",
      "      dtype='object')\n",
      "id                                      int64\n",
      "fecha                                  object\n",
      "centro_atencion_turistica              object\n",
      "barrio                                 object\n",
      "comuna                                 object\n",
      "pasajeros                               int64\n",
      "pais_residencia_si_extranjero          object\n",
      "otro_pais_residencia_si_extranjero     object\n",
      "provincia_residencia_si_argentino      object\n",
      "pernoctaciones                        float64\n",
      "medio_transporte_llegada               object\n",
      "alojamiento                            object\n",
      "otro_alojamiento                       object\n",
      "barrio.1                               object\n",
      "otro_barrio                            object\n",
      "primera_vez                            object\n",
      "motivo_viaje                           object\n",
      "otro_motivo_viaje                      object\n",
      "motivo_consulta                        object\n",
      "otro_motivo_consulta                   object\n",
      "dtype: object\n"
     ]
    },
    {
     "data": {
      "text/html": [
       "<div>\n",
       "<style scoped>\n",
       "    .dataframe tbody tr th:only-of-type {\n",
       "        vertical-align: middle;\n",
       "    }\n",
       "\n",
       "    .dataframe tbody tr th {\n",
       "        vertical-align: top;\n",
       "    }\n",
       "\n",
       "    .dataframe thead th {\n",
       "        text-align: right;\n",
       "    }\n",
       "</style>\n",
       "<table border=\"1\" class=\"dataframe\">\n",
       "  <thead>\n",
       "    <tr style=\"text-align: right;\">\n",
       "      <th></th>\n",
       "      <th>id</th>\n",
       "      <th>fecha</th>\n",
       "      <th>centro_atencion_turistica</th>\n",
       "      <th>barrio</th>\n",
       "      <th>comuna</th>\n",
       "      <th>pasajeros</th>\n",
       "      <th>pais_residencia_si_extranjero</th>\n",
       "      <th>otro_pais_residencia_si_extranjero</th>\n",
       "      <th>provincia_residencia_si_argentino</th>\n",
       "      <th>pernoctaciones</th>\n",
       "      <th>medio_transporte_llegada</th>\n",
       "      <th>alojamiento</th>\n",
       "      <th>otro_alojamiento</th>\n",
       "      <th>barrio.1</th>\n",
       "      <th>otro_barrio</th>\n",
       "      <th>primera_vez</th>\n",
       "      <th>motivo_viaje</th>\n",
       "      <th>otro_motivo_viaje</th>\n",
       "      <th>motivo_consulta</th>\n",
       "      <th>otro_motivo_consulta</th>\n",
       "    </tr>\n",
       "  </thead>\n",
       "  <tbody>\n",
       "    <tr>\n",
       "      <th>0</th>\n",
       "      <td>1</td>\n",
       "      <td>2017-01-02</td>\n",
       "      <td>retiro</td>\n",
       "      <td>RETIRO</td>\n",
       "      <td>COMUNA 1</td>\n",
       "      <td>2</td>\n",
       "      <td>Chile</td>\n",
       "      <td>NaN</td>\n",
       "      <td>NaN</td>\n",
       "      <td>7.0</td>\n",
       "      <td>No especifica</td>\n",
       "      <td>NaN</td>\n",
       "      <td>NaN</td>\n",
       "      <td>NaN</td>\n",
       "      <td>NaN</td>\n",
       "      <td>No especifica</td>\n",
       "      <td>No especifica</td>\n",
       "      <td>NaN</td>\n",
       "      <td>Mapas Orientacion alojamiento</td>\n",
       "      <td>NaN</td>\n",
       "    </tr>\n",
       "    <tr>\n",
       "      <th>1</th>\n",
       "      <td>2</td>\n",
       "      <td>2017-01-02</td>\n",
       "      <td>retiro</td>\n",
       "      <td>RETIRO</td>\n",
       "      <td>COMUNA 1</td>\n",
       "      <td>1</td>\n",
       "      <td>NaN</td>\n",
       "      <td>NaN</td>\n",
       "      <td>Provincia de Buenos Aires</td>\n",
       "      <td>2.0</td>\n",
       "      <td>No especifica</td>\n",
       "      <td>NaN</td>\n",
       "      <td>NaN</td>\n",
       "      <td>NaN</td>\n",
       "      <td>NaN</td>\n",
       "      <td>No especifica</td>\n",
       "      <td>No especifica</td>\n",
       "      <td>NaN</td>\n",
       "      <td>Mapas Orientacion</td>\n",
       "      <td>NaN</td>\n",
       "    </tr>\n",
       "    <tr>\n",
       "      <th>2</th>\n",
       "      <td>3</td>\n",
       "      <td>2017-01-02</td>\n",
       "      <td>retiro</td>\n",
       "      <td>RETIRO</td>\n",
       "      <td>COMUNA 1</td>\n",
       "      <td>2</td>\n",
       "      <td>NaN</td>\n",
       "      <td>NaN</td>\n",
       "      <td>Córdoba</td>\n",
       "      <td>0.0</td>\n",
       "      <td>No especifica</td>\n",
       "      <td>No pernocta en Buenos Aires</td>\n",
       "      <td>NaN</td>\n",
       "      <td>NaN</td>\n",
       "      <td>NaN</td>\n",
       "      <td>No especifica</td>\n",
       "      <td>No especifica</td>\n",
       "      <td>NaN</td>\n",
       "      <td>Mapas Orientacion alrededores</td>\n",
       "      <td>NaN</td>\n",
       "    </tr>\n",
       "  </tbody>\n",
       "</table>\n",
       "</div>"
      ],
      "text/plain": [
       "   id       fecha centro_atencion_turistica  barrio    comuna  pasajeros  \\\n",
       "0   1  2017-01-02                    retiro  RETIRO  COMUNA 1          2   \n",
       "1   2  2017-01-02                    retiro  RETIRO  COMUNA 1          1   \n",
       "2   3  2017-01-02                    retiro  RETIRO  COMUNA 1          2   \n",
       "\n",
       "  pais_residencia_si_extranjero otro_pais_residencia_si_extranjero  \\\n",
       "0                         Chile                                NaN   \n",
       "1                           NaN                                NaN   \n",
       "2                           NaN                                NaN   \n",
       "\n",
       "  provincia_residencia_si_argentino  pernoctaciones medio_transporte_llegada  \\\n",
       "0                               NaN             7.0            No especifica   \n",
       "1         Provincia de Buenos Aires             2.0            No especifica   \n",
       "2                           Córdoba             0.0            No especifica   \n",
       "\n",
       "                   alojamiento otro_alojamiento barrio.1 otro_barrio  \\\n",
       "0                          NaN              NaN      NaN         NaN   \n",
       "1                          NaN              NaN      NaN         NaN   \n",
       "2  No pernocta en Buenos Aires              NaN      NaN         NaN   \n",
       "\n",
       "     primera_vez   motivo_viaje otro_motivo_viaje  \\\n",
       "0  No especifica  No especifica               NaN   \n",
       "1  No especifica  No especifica               NaN   \n",
       "2  No especifica  No especifica               NaN   \n",
       "\n",
       "                 motivo_consulta otro_motivo_consulta  \n",
       "0  Mapas Orientacion alojamiento                  NaN  \n",
       "1              Mapas Orientacion                  NaN  \n",
       "2  Mapas Orientacion alrededores                  NaN  "
      ]
     },
     "execution_count": 2,
     "metadata": {},
     "output_type": "execute_result"
    }
   ],
   "source": [
    "# low_memorybool, default True\n",
    "# Internally process the file in chunks, resulting in lower memory use while parsing, \n",
    "# but possibly mixed type inference. To ensure no mixed types either set False, \n",
    "# or specify the type with the dtype parameter. \n",
    "# Note that the entire file is read into a single DataFrame regardless, \n",
    "# use the chunksize or iterator parameter to return the data in chunks. (Only valid with C parser).\n",
    "\n",
    "data = pd.read_csv(\"../Data/resultado-de-encuestas-2017-2018.csv\", sep = \",\", low_memory = False) \n",
    "\n",
    "print(data.shape)\n",
    "print(data.columns)\n",
    "print(data.dtypes)\n",
    "\n",
    "data.head(3)"
   ]
  },
  {
   "cell_type": "markdown",
   "metadata": {},
   "source": [
    "Vamos ver qual porcentagem de registros nulos em cada coluna:"
   ]
  },
  {
   "cell_type": "code",
   "execution_count": 3,
   "metadata": {},
   "outputs": [
    {
     "data": {
      "text/plain": [
       "id                                    0.000000\n",
       "fecha                                 0.000000\n",
       "centro_atencion_turistica             0.000029\n",
       "barrio                                0.000000\n",
       "comuna                                0.000000\n",
       "pasajeros                             0.000000\n",
       "pais_residencia_si_extranjero         0.427345\n",
       "otro_pais_residencia_si_extranjero    0.982741\n",
       "provincia_residencia_si_argentino     0.581636\n",
       "pernoctaciones                        0.498782\n",
       "medio_transporte_llegada              0.000000\n",
       "alojamiento                           0.416545\n",
       "otro_alojamiento                      0.999434\n",
       "barrio.1                              0.939055\n",
       "otro_barrio                           0.998461\n",
       "primera_vez                           0.000000\n",
       "motivo_viaje                          0.078135\n",
       "otro_motivo_viaje                     0.999153\n",
       "motivo_consulta                       0.000000\n",
       "otro_motivo_consulta                  0.992289\n",
       "dtype: float64"
      ]
     },
     "execution_count": 3,
     "metadata": {},
     "output_type": "execute_result"
    }
   ],
   "source": [
    "data.isnull().sum() / data.shape[0]"
   ]
  },
  {
   "cell_type": "markdown",
   "metadata": {},
   "source": [
    "Vemos que existem várias colunas com uma porcentagem muito alta de valores nulos."
   ]
  },
  {
   "cell_type": "markdown",
   "metadata": {},
   "source": [
    "## Agregações simples"
   ]
  },
  {
   "cell_type": "markdown",
   "metadata": {},
   "source": [
    "### Pergunta 1:\n",
    "\n",
    "A coluna `['pernoctaciones']` é do tipo numérica (float64), vamos calcular quantos dias no total e em média dura a viagem das pessoas que vieram a estes centros de atendimento."
   ]
  },
  {
   "cell_type": "code",
   "execution_count": 4,
   "metadata": {},
   "outputs": [
    {
     "name": "stdout",
     "output_type": "stream",
     "text": [
      "Duração média da viagem: 7.422305664296557\n",
      "Duração total da viagem: 650335.0\n"
     ]
    }
   ],
   "source": [
    "pernoites_serie = data.pernoctaciones\n",
    "print(\"Duração média da viagem:\", pernoites_serie.mean())\n",
    "print(\"Duração total da viagem:\", pernoites_serie.sum())"
   ]
  },
  {
   "cell_type": "markdown",
   "metadata": {},
   "source": [
    "### Pergunta 2:\n",
    "\n",
    "**2.a** Quantos e quais são os motivos da consulta?\n",
    "\n",
    "Vamos analisar o campo `motivo_consulta` que não possui valores nulos.\n",
    "\n",
    "Ajuda: [`pandas.Series.value_counts()`](https://pandas.pydata.org/pandas-docs/stable/reference/api/pandas.Series.value_counts.html)\n",
    "\n",
    "**2.b** Quais são os 5 motivos mais consultados?\n",
    "\n",
    "Ajuda: Vamos indexar a Series ordenada que é o resultado de value_counts.\n",
    "\n",
    "(value_counts retorna a Series ordenada)."
   ]
  },
  {
   "cell_type": "code",
   "execution_count": 5,
   "metadata": {},
   "outputs": [
    {
     "data": {
      "text/plain": [
       "motivo_consulta\n",
       "Mapas Orientacion    22875\n",
       "Orientacion          20235\n",
       "Mapas                11908\n",
       "Name: count, dtype: int64"
      ]
     },
     "execution_count": 5,
     "metadata": {},
     "output_type": "execute_result"
    }
   ],
   "source": [
    "motivos = data.motivo_consulta.value_counts()\n",
    "motivos.head(3)"
   ]
  },
  {
   "cell_type": "code",
   "execution_count": 6,
   "metadata": {},
   "outputs": [
    {
     "data": {
      "text/plain": [
       "motivo_consulta\n",
       "Mapas Orientacion        22875\n",
       "Orientacion              20235\n",
       "Mapas                    11908\n",
       "Bus Mapas Orientacion     8543\n",
       "Bus                       7034\n",
       "Name: count, dtype: int64"
      ]
     },
     "execution_count": 6,
     "metadata": {},
     "output_type": "execute_result"
    }
   ],
   "source": [
    "motivos_top5 = motivos[0 : 5]\n",
    "motivos_top5"
   ]
  },
  {
   "cell_type": "markdown",
   "metadata": {},
   "source": [
    "### Pergunta 3:\n",
    "\n",
    "Usando o método [`pandas.DataFrame.describe()`](https://pandas.pydata.org/pandas-docs/stable/reference/api/pandas.DataFrame.describe.html), vamos avaliar as colunas pasajeros (passageiros) e pernoctaciones (pernoites).\n",
    "\n",
    "Este método retorna um DataFrame, usando esse resultado vamos responder qual é o número médio de passageiros."
   ]
  },
  {
   "cell_type": "code",
   "execution_count": 7,
   "metadata": {},
   "outputs": [
    {
     "name": "stdout",
     "output_type": "stream",
     "text": [
      "<class 'pandas.core.frame.DataFrame'>\n",
      "Número médio de passageiros:  2.06\n"
     ]
    },
    {
     "data": {
      "text/html": [
       "<div>\n",
       "<style scoped>\n",
       "    .dataframe tbody tr th:only-of-type {\n",
       "        vertical-align: middle;\n",
       "    }\n",
       "\n",
       "    .dataframe tbody tr th {\n",
       "        vertical-align: top;\n",
       "    }\n",
       "\n",
       "    .dataframe thead th {\n",
       "        text-align: right;\n",
       "    }\n",
       "</style>\n",
       "<table border=\"1\" class=\"dataframe\">\n",
       "  <thead>\n",
       "    <tr style=\"text-align: right;\">\n",
       "      <th></th>\n",
       "      <th>pasajeros</th>\n",
       "      <th>pernoctaciones</th>\n",
       "    </tr>\n",
       "  </thead>\n",
       "  <tbody>\n",
       "    <tr>\n",
       "      <th>count</th>\n",
       "      <td>174812.000000</td>\n",
       "      <td>87619.000000</td>\n",
       "    </tr>\n",
       "    <tr>\n",
       "      <th>mean</th>\n",
       "      <td>2.060551</td>\n",
       "      <td>7.422306</td>\n",
       "    </tr>\n",
       "    <tr>\n",
       "      <th>std</th>\n",
       "      <td>1.553131</td>\n",
       "      <td>27.307015</td>\n",
       "    </tr>\n",
       "    <tr>\n",
       "      <th>min</th>\n",
       "      <td>1.000000</td>\n",
       "      <td>0.000000</td>\n",
       "    </tr>\n",
       "    <tr>\n",
       "      <th>25%</th>\n",
       "      <td>1.000000</td>\n",
       "      <td>3.000000</td>\n",
       "    </tr>\n",
       "    <tr>\n",
       "      <th>50%</th>\n",
       "      <td>2.000000</td>\n",
       "      <td>4.000000</td>\n",
       "    </tr>\n",
       "    <tr>\n",
       "      <th>75%</th>\n",
       "      <td>2.000000</td>\n",
       "      <td>5.000000</td>\n",
       "    </tr>\n",
       "    <tr>\n",
       "      <th>max</th>\n",
       "      <td>150.000000</td>\n",
       "      <td>690.000000</td>\n",
       "    </tr>\n",
       "  </tbody>\n",
       "</table>\n",
       "</div>"
      ],
      "text/plain": [
       "           pasajeros  pernoctaciones\n",
       "count  174812.000000    87619.000000\n",
       "mean        2.060551        7.422306\n",
       "std         1.553131       27.307015\n",
       "min         1.000000        0.000000\n",
       "25%         1.000000        3.000000\n",
       "50%         2.000000        4.000000\n",
       "75%         2.000000        5.000000\n",
       "max       150.000000      690.000000"
      ]
     },
     "execution_count": 7,
     "metadata": {},
     "output_type": "execute_result"
    }
   ],
   "source": [
    "medidas = data[[\"pasajeros\", \"pernoctaciones\"]].describe()\n",
    "print(type(medidas))\n",
    "print(\"Número médio de passageiros: \", medidas.loc[\"mean\", \"pasajeros\"].round(2))\n",
    "medidas"
   ]
  },
  {
   "cell_type": "markdown",
   "metadata": {},
   "source": [
    "Vemos que o número máximo de dormidas é de 690 e o número máximo de passageiros é de 150.\n",
    "\n",
    "Vamos ver quais registros têm esses valores. E vamos tentar entender se correspondem ou não a um erro."
   ]
  },
  {
   "cell_type": "code",
   "execution_count": 8,
   "metadata": {},
   "outputs": [
    {
     "data": {
      "text/html": [
       "<div>\n",
       "<style scoped>\n",
       "    .dataframe tbody tr th:only-of-type {\n",
       "        vertical-align: middle;\n",
       "    }\n",
       "\n",
       "    .dataframe tbody tr th {\n",
       "        vertical-align: top;\n",
       "    }\n",
       "\n",
       "    .dataframe thead th {\n",
       "        text-align: right;\n",
       "    }\n",
       "</style>\n",
       "<table border=\"1\" class=\"dataframe\">\n",
       "  <thead>\n",
       "    <tr style=\"text-align: right;\">\n",
       "      <th></th>\n",
       "      <th>id</th>\n",
       "      <th>fecha</th>\n",
       "      <th>centro_atencion_turistica</th>\n",
       "      <th>barrio</th>\n",
       "      <th>comuna</th>\n",
       "      <th>pasajeros</th>\n",
       "      <th>pais_residencia_si_extranjero</th>\n",
       "      <th>otro_pais_residencia_si_extranjero</th>\n",
       "      <th>provincia_residencia_si_argentino</th>\n",
       "      <th>pernoctaciones</th>\n",
       "      <th>medio_transporte_llegada</th>\n",
       "      <th>alojamiento</th>\n",
       "      <th>otro_alojamiento</th>\n",
       "      <th>barrio.1</th>\n",
       "      <th>otro_barrio</th>\n",
       "      <th>primera_vez</th>\n",
       "      <th>motivo_viaje</th>\n",
       "      <th>otro_motivo_viaje</th>\n",
       "      <th>motivo_consulta</th>\n",
       "      <th>otro_motivo_consulta</th>\n",
       "    </tr>\n",
       "  </thead>\n",
       "  <tbody>\n",
       "    <tr>\n",
       "      <th>19806</th>\n",
       "      <td>19808</td>\n",
       "      <td>2017-03-04</td>\n",
       "      <td>recoleta</td>\n",
       "      <td>RECOLETA</td>\n",
       "      <td>COMUNA 2</td>\n",
       "      <td>150</td>\n",
       "      <td>Francia</td>\n",
       "      <td>NaN</td>\n",
       "      <td>NaN</td>\n",
       "      <td>NaN</td>\n",
       "      <td>No especifica</td>\n",
       "      <td>No pernocta en Buenos Aires</td>\n",
       "      <td>NaN</td>\n",
       "      <td>NaN</td>\n",
       "      <td>NaN</td>\n",
       "      <td>No especifica</td>\n",
       "      <td>No especifica</td>\n",
       "      <td>NaN</td>\n",
       "      <td>estudiante_extranj</td>\n",
       "      <td>NaN</td>\n",
       "    </tr>\n",
       "  </tbody>\n",
       "</table>\n",
       "</div>"
      ],
      "text/plain": [
       "          id       fecha centro_atencion_turistica    barrio    comuna  \\\n",
       "19806  19808  2017-03-04                  recoleta  RECOLETA  COMUNA 2   \n",
       "\n",
       "       pasajeros pais_residencia_si_extranjero  \\\n",
       "19806        150                       Francia   \n",
       "\n",
       "      otro_pais_residencia_si_extranjero provincia_residencia_si_argentino  \\\n",
       "19806                                NaN                               NaN   \n",
       "\n",
       "       pernoctaciones medio_transporte_llegada                  alojamiento  \\\n",
       "19806             NaN            No especifica  No pernocta en Buenos Aires   \n",
       "\n",
       "      otro_alojamiento barrio.1 otro_barrio    primera_vez   motivo_viaje  \\\n",
       "19806              NaN      NaN         NaN  No especifica  No especifica   \n",
       "\n",
       "      otro_motivo_viaje     motivo_consulta otro_motivo_consulta  \n",
       "19806               NaN  estudiante_extranj                  NaN  "
      ]
     },
     "execution_count": 8,
     "metadata": {},
     "output_type": "execute_result"
    }
   ],
   "source": [
    "data_passageiros_150_mask = data.pasajeros == 150\n",
    "data_passageiros_150 = data.loc[data_passageiros_150_mask, ]\n",
    "data_passageiros_150"
   ]
  },
  {
   "cell_type": "markdown",
   "metadata": {},
   "source": [
    "Parece ser um contingente de estudantes franceses em trânsito (\"Não pernoite em Buenos Aires\")."
   ]
  },
  {
   "cell_type": "code",
   "execution_count": 9,
   "metadata": {},
   "outputs": [
    {
     "data": {
      "text/html": [
       "<div>\n",
       "<style scoped>\n",
       "    .dataframe tbody tr th:only-of-type {\n",
       "        vertical-align: middle;\n",
       "    }\n",
       "\n",
       "    .dataframe tbody tr th {\n",
       "        vertical-align: top;\n",
       "    }\n",
       "\n",
       "    .dataframe thead th {\n",
       "        text-align: right;\n",
       "    }\n",
       "</style>\n",
       "<table border=\"1\" class=\"dataframe\">\n",
       "  <thead>\n",
       "    <tr style=\"text-align: right;\">\n",
       "      <th></th>\n",
       "      <th>id</th>\n",
       "      <th>fecha</th>\n",
       "      <th>centro_atencion_turistica</th>\n",
       "      <th>barrio</th>\n",
       "      <th>comuna</th>\n",
       "      <th>pasajeros</th>\n",
       "      <th>pais_residencia_si_extranjero</th>\n",
       "      <th>otro_pais_residencia_si_extranjero</th>\n",
       "      <th>provincia_residencia_si_argentino</th>\n",
       "      <th>pernoctaciones</th>\n",
       "      <th>medio_transporte_llegada</th>\n",
       "      <th>alojamiento</th>\n",
       "      <th>otro_alojamiento</th>\n",
       "      <th>barrio.1</th>\n",
       "      <th>otro_barrio</th>\n",
       "      <th>primera_vez</th>\n",
       "      <th>motivo_viaje</th>\n",
       "      <th>otro_motivo_viaje</th>\n",
       "      <th>motivo_consulta</th>\n",
       "      <th>otro_motivo_consulta</th>\n",
       "    </tr>\n",
       "  </thead>\n",
       "  <tbody>\n",
       "    <tr>\n",
       "      <th>84622</th>\n",
       "      <td>84633</td>\n",
       "      <td>2017-10-24</td>\n",
       "      <td>hub2</td>\n",
       "      <td>SAN NICOLAS</td>\n",
       "      <td>COMUNA 1</td>\n",
       "      <td>1</td>\n",
       "      <td>Colombia</td>\n",
       "      <td>NaN</td>\n",
       "      <td>NaN</td>\n",
       "      <td>690.0</td>\n",
       "      <td>No especifica</td>\n",
       "      <td>NaN</td>\n",
       "      <td>NaN</td>\n",
       "      <td>NaN</td>\n",
       "      <td>NaN</td>\n",
       "      <td>No especifica</td>\n",
       "      <td>No especifica</td>\n",
       "      <td>NaN</td>\n",
       "      <td>instalaciones</td>\n",
       "      <td>NaN</td>\n",
       "    </tr>\n",
       "  </tbody>\n",
       "</table>\n",
       "</div>"
      ],
      "text/plain": [
       "          id       fecha centro_atencion_turistica       barrio    comuna  \\\n",
       "84622  84633  2017-10-24                      hub2  SAN NICOLAS  COMUNA 1   \n",
       "\n",
       "       pasajeros pais_residencia_si_extranjero  \\\n",
       "84622          1                      Colombia   \n",
       "\n",
       "      otro_pais_residencia_si_extranjero provincia_residencia_si_argentino  \\\n",
       "84622                                NaN                               NaN   \n",
       "\n",
       "       pernoctaciones medio_transporte_llegada alojamiento otro_alojamiento  \\\n",
       "84622           690.0            No especifica         NaN              NaN   \n",
       "\n",
       "      barrio.1 otro_barrio    primera_vez   motivo_viaje otro_motivo_viaje  \\\n",
       "84622      NaN         NaN  No especifica  No especifica               NaN   \n",
       "\n",
       "      motivo_consulta otro_motivo_consulta  \n",
       "84622   instalaciones                  NaN  "
      ]
     },
     "execution_count": 9,
     "metadata": {},
     "output_type": "execute_result"
    }
   ],
   "source": [
    "data_pernoites_690_mask = data.pernoctaciones == 690\n",
    "data_pernoites_690 = data.loc[data_pernoites_690_mask, ]\n",
    "data_pernoites_690"
   ]
  },
  {
   "cell_type": "markdown",
   "metadata": {},
   "source": [
    "Desse cadastro não podemos extrair informações que justifiquem 690 dias de permanência."
   ]
  },
  {
   "cell_type": "markdown",
   "metadata": {},
   "source": [
    "##  Como construímos grupos?"
   ]
  },
  {
   "cell_type": "markdown",
   "metadata": {},
   "source": [
    "\n",
    "### DataFrameGroupBy\n",
    "\n",
    "\n",
    "A definição abstrata de agrupamento é fornecer um mapeamento entre valores e (rótulos ou) nomes de grupos.\n",
    "\n",
    "Um objeto [`pandas.DataFrame.groupby`](https://pandas.pydata.org/pandas-docs/stable/reference/api/pandas.DataFrame.groupby.html) não calcula nada, mas cria uma estrutura intermediária com todas as informações necessárias para posteriormente aplicar alguma operação a cada grupo.\n",
    "\n",
    "O **resultado dessa operação** é retornado em um Series ou DataFrame **indexado pelos valores exclusivos da key groupby**.\n",
    "\n",
    "As operações que podemos aplicar em um objeto `groupby` estão listadas [aqui](https://pandas.pydata.org/pandas-docs/stable/reference/groupby.html) Usando o resultado de uma operação de agrupamento por nome de coluna como exemplo, vamos apresentar algumas propriedades e métodos deste objeto.\n",
    "\n",
    "Vamos agrupar os dados por coluna em `pais_residencia_si_extranjero`."
   ]
  },
  {
   "cell_type": "markdown",
   "metadata": {},
   "source": [
    "#### Tipo \n",
    "\n",
    "Vamos ver que tipo é o objeto retornado:\n"
   ]
  },
  {
   "cell_type": "code",
   "execution_count": 10,
   "metadata": {},
   "outputs": [
    {
     "data": {
      "text/plain": [
       "pandas.core.groupby.generic.DataFrameGroupBy"
      ]
     },
     "execution_count": 10,
     "metadata": {},
     "output_type": "execute_result"
    }
   ],
   "source": [
    "data_grouped = data.groupby('pais_residencia_si_extranjero')\n",
    "type(data_grouped)"
   ]
  },
  {
   "cell_type": "markdown",
   "metadata": {},
   "source": [
    "#### size\n",
    "\n",
    "Vamos ver o número de registros em cada grupo e quantos registros do `DataFrame` original são atribuídos a algum grupo com o atributo [`.size()`](https://pandas.pydata.org/pandas-docs/stable/reference/api/pandas.core.groupby.GroupBy.size.html)."
   ]
  },
  {
   "cell_type": "code",
   "execution_count": 11,
   "metadata": {},
   "outputs": [
    {
     "data": {
      "text/plain": [
       "pais_residencia_si_extranjero\n",
       "Alemania                                     3564\n",
       "Australia                                    2548\n",
       "Bolivia                                       902\n",
       "Brasil                                      29979\n",
       "Bélgica                                       304\n",
       "Canadá                                       2219\n",
       "Chile                                        9140\n",
       "China                                         907\n",
       "Colombia                                     5965\n",
       "Corea del Sur                                 155\n",
       "Costa Rica                                    421\n",
       "Ecuador                                      1360\n",
       "España                                       6249\n",
       "Estados Unidos                               6826\n",
       "Francia                                      5159\n",
       "India                                         105\n",
       "Israel                                        855\n",
       "Italia                                       2373\n",
       "Japón                                         801\n",
       "Malasia                                        64\n",
       "Marruecos                                      36\n",
       "México                                       3252\n",
       "Noruega                                       230\n",
       "Nueva Zelanda                                 264\n",
       "Otro país de residencia si es extranjero     3017\n",
       "Paraguay                                      900\n",
       "Países Bajos                                  556\n",
       "Perú                                         2031\n",
       "Polonia                                        76\n",
       "Reino Unido                                  2701\n",
       "Rusia                                         152\n",
       "Sudáfrica                                     123\n",
       "Suiza                                         646\n",
       "Turquía                                        84\n",
       "Uruguay                                      3986\n",
       "Venezuela                                    2157\n",
       "dtype: int64"
      ]
     },
     "execution_count": 11,
     "metadata": {},
     "output_type": "execute_result"
    }
   ],
   "source": [
    "data_grouped.size()"
   ]
  },
  {
   "cell_type": "code",
   "execution_count": 12,
   "metadata": {},
   "outputs": [
    {
     "data": {
      "text/plain": [
       "100107"
      ]
     },
     "execution_count": 12,
     "metadata": {},
     "output_type": "execute_result"
    }
   ],
   "source": [
    "data_grouped.size().sum()"
   ]
  },
  {
   "cell_type": "code",
   "execution_count": 13,
   "metadata": {},
   "outputs": [
    {
     "data": {
      "text/plain": [
       "0.5726551952955174"
      ]
     },
     "execution_count": 13,
     "metadata": {},
     "output_type": "execute_result"
    }
   ],
   "source": [
    "data_grouped.size().sum() / data.shape[0]"
   ]
  },
  {
   "cell_type": "markdown",
   "metadata": {},
   "source": [
    "Apenas $52\\%$ dos registros foram atribuídos a um grupo.\n",
    "\n",
    "Vamos ver se esse número de registros atribuídos a um grupo corresponde ao número de registros não nulos nesse campo."
   ]
  },
  {
   "cell_type": "code",
   "execution_count": 14,
   "metadata": {},
   "outputs": [
    {
     "data": {
      "text/plain": [
       "100107"
      ]
     },
     "execution_count": 14,
     "metadata": {},
     "output_type": "execute_result"
    }
   ],
   "source": [
    "data.loc[data.pais_residencia_si_extranjero.notnull(), ].shape[0]"
   ]
  },
  {
   "cell_type": "markdown",
   "metadata": {},
   "source": [
    "#### Índices\n",
    "\n",
    "É um dicionário cujas chaves são os valores únicos das chaves groupby, neste caso os valores da coluna `country_residence_if_extranjero`, e cujos valores são uma matriz com os [índices](https://pandas.pydata.org/pandas-docs/stable/reference/api/pandas.core.groupby.GroupBy.indices.html#pandas.core.groupby.GroupBy.indices) do DataFrame cujo valor nessa coluna é igual ao da chave."
   ]
  },
  {
   "cell_type": "code",
   "execution_count": 15,
   "metadata": {},
   "outputs": [
    {
     "name": "stdout",
     "output_type": "stream",
     "text": [
      "<class 'dict'>\n"
     ]
    }
   ],
   "source": [
    "print(type(data_grouped.indices))\n",
    "#data_grouped.indices"
   ]
  },
  {
   "cell_type": "markdown",
   "metadata": {},
   "source": [
    "Neste exemplo, os índices 48, 108, 147, ... correspondem à Alemanha; os índices 33, 242, 267, ... correspondem à Austrália, os índices 6, 8, 28, ... ao Uruguai. Vamos verificar isso:"
   ]
  },
  {
   "cell_type": "code",
   "execution_count": 16,
   "metadata": {},
   "outputs": [
    {
     "data": {
      "text/plain": [
       "48     Alemania\n",
       "108    Alemania\n",
       "147    Alemania\n",
       "Name: pais_residencia_si_extranjero, dtype: object"
      ]
     },
     "execution_count": 16,
     "metadata": {},
     "output_type": "execute_result"
    }
   ],
   "source": [
    "data.pais_residencia_si_extranjero.loc[[48, 108, 147]]"
   ]
  },
  {
   "cell_type": "code",
   "execution_count": 17,
   "metadata": {},
   "outputs": [
    {
     "data": {
      "text/plain": [
       "33     Australia\n",
       "242    Australia\n",
       "267    Australia\n",
       "Name: pais_residencia_si_extranjero, dtype: object"
      ]
     },
     "execution_count": 17,
     "metadata": {},
     "output_type": "execute_result"
    }
   ],
   "source": [
    "data.pais_residencia_si_extranjero.loc[[33, 242, 267]]"
   ]
  },
  {
   "cell_type": "code",
   "execution_count": 18,
   "metadata": {},
   "outputs": [
    {
     "data": {
      "text/plain": [
       "6     Uruguay\n",
       "8     Uruguay\n",
       "28    Uruguay\n",
       "Name: pais_residencia_si_extranjero, dtype: object"
      ]
     },
     "execution_count": 18,
     "metadata": {},
     "output_type": "execute_result"
    }
   ],
   "source": [
    "data.pais_residencia_si_extranjero.loc[[ 6, 8, 28]]"
   ]
  },
  {
   "cell_type": "markdown",
   "metadata": {},
   "source": [
    "#### groups\n",
    "\n",
    "É semelhante a `index`, mas associando as chaves do groupby a objetos do tipo Index."
   ]
  },
  {
   "cell_type": "code",
   "execution_count": 19,
   "metadata": {},
   "outputs": [],
   "source": [
    "#data_grouped.groups"
   ]
  },
  {
   "cell_type": "markdown",
   "metadata": {},
   "source": [
    "### Groupby com dicionários e Series como chave\n",
    "\n",
    "Até agora vimos como definir uma ou mais colunas de um DataFrame como a key do groupby. Quando fazemos isso, estamos definindo para cada registro um rótulo (o valor do campo ou campos-chave nesse registro) que usaremos para determinar a qual grupo ele pertence.\n",
    "\n",
    "A seguir, veremos exemplos de Series e dicionários como chaves do groupby.\n",
    "\n",
    "Para agrupar usando uma instância de Series ou dicionário como chave, precisamos que os valores do índice da Series ou das chaves do dicionário sejam os mesmos do índice do DataFrame no qual queremos grupo.\n",
    "\n",
    "Vamos definir um dicionário que associa os países ao seu contêiner:"
   ]
  },
  {
   "cell_type": "code",
   "execution_count": 20,
   "metadata": {},
   "outputs": [],
   "source": [
    "pais_em_continente = {\n",
    "    'Chile': 'America', 'Francia': 'Europa', 'México': 'America', 'Colombia': 'America', \n",
    "    'Uruguay': 'America', 'Estados Unidos': 'America', 'España': 'Europa', 'Italia': 'Europa', \n",
    "    'India': 'Asia', 'Ecuador': 'America', 'Brasil': 'America',\n",
    "    'Australia': 'Oceania', 'Bolivia': 'America', 'Reino Unido': 'Europa', \n",
    "    'Alemania': 'Europa', 'Israel': 'Asia', 'China': 'Asia', \n",
    "    'Venezuela': 'America', 'Países Bajos': 'Europa', 'Canadá': 'America', 'Suiza': 'Europa', 'Turquía': 'Europa',\n",
    "    'Noruega': 'Europa', 'Corea del Sur': 'Asia', 'Polonia': 'Europa', 'Perú': 'America', 'Paraguay': 'America',\n",
    "    'Costa Rica': 'America', 'Japón': 'Asia', 'Marruecos': 'Africa', 'Bélgica': 'Europa', 'Malasia': 'Asia', \n",
    "    'Rusia': 'Europa', 'Sudáfrica': 'Africa', 'Nueva Zelanda': 'Oceania'        \n",
    "}"
   ]
  },
  {
   "cell_type": "markdown",
   "metadata": {},
   "source": [
    "Vamos atribuir como índice do DataFrame os valores do campo pais_residencia_si_extranjero, que coincidem com as chaves do dicionário que definimos acima."
   ]
  },
  {
   "cell_type": "code",
   "execution_count": 21,
   "metadata": {},
   "outputs": [],
   "source": [
    "data.index = data.pais_residencia_si_extranjero"
   ]
  },
  {
   "cell_type": "markdown",
   "metadata": {},
   "source": [
    "Vamos contar quantos turistas de cada continente solicitaram informações no posto de turismo."
   ]
  },
  {
   "cell_type": "code",
   "execution_count": 22,
   "metadata": {},
   "outputs": [
    {
     "data": {
      "text/plain": [
       "pais_residencia_si_extranjero\n",
       "Africa        327\n",
       "America    152979\n",
       "Asia         6130\n",
       "Europa      45316\n",
       "Oceania      5932\n",
       "Name: pasajeros, dtype: int64"
      ]
     },
     "execution_count": 22,
     "metadata": {},
     "output_type": "execute_result"
    }
   ],
   "source": [
    "data_grouped_continente = data.groupby(pais_em_continente)\n",
    "data_grouped_continente[\"pasajeros\"].sum()"
   ]
  },
  {
   "cell_type": "markdown",
   "metadata": {},
   "source": [
    "Da mesma forma, podemos indexar Series com dicionários:"
   ]
  },
  {
   "cell_type": "code",
   "execution_count": 23,
   "metadata": {},
   "outputs": [
    {
     "data": {
      "text/plain": [
       "pais_residencia_si_extranjero\n",
       "Africa        327\n",
       "America    152979\n",
       "Asia         6130\n",
       "Europa      45316\n",
       "Oceania      5932\n",
       "Name: pasajeros, dtype: int64"
      ]
     },
     "execution_count": 23,
     "metadata": {},
     "output_type": "execute_result"
    }
   ],
   "source": [
    "# criamos a série\n",
    "serie_passageiros = data.pasajeros\n",
    "\n",
    "# atribuímos como índice o valor do campo pais_residencia_si_extranjero para esse registro\n",
    "serie_passageiros.index = data.pais_residencia_si_extranjero\n",
    "\n",
    "# agrupamos e somamos\n",
    "serie_passageiros.groupby(pais_em_continente).sum()"
   ]
  },
  {
   "cell_type": "markdown",
   "metadata": {},
   "source": [
    "Agora queremos indexar um DataFrame com um objeto Series.\n",
    "\n",
    "Vamos transformar o dicionário pais_en_continente em uma instância Series e usá-lo para indexar."
   ]
  },
  {
   "cell_type": "code",
   "execution_count": 24,
   "metadata": {},
   "outputs": [
    {
     "data": {
      "text/plain": [
       "Chile             America\n",
       "Francia            Europa\n",
       "México            America\n",
       "Colombia          America\n",
       "Uruguay           America\n",
       "Estados Unidos    America\n",
       "España             Europa\n",
       "Italia             Europa\n",
       "India                Asia\n",
       "Ecuador           America\n",
       "Brasil            America\n",
       "Australia         Oceania\n",
       "Bolivia           America\n",
       "Reino Unido        Europa\n",
       "Alemania           Europa\n",
       "Israel               Asia\n",
       "China                Asia\n",
       "Venezuela         America\n",
       "Países Bajos       Europa\n",
       "Canadá            America\n",
       "Suiza              Europa\n",
       "Turquía            Europa\n",
       "Noruega            Europa\n",
       "Corea del Sur        Asia\n",
       "Polonia            Europa\n",
       "Perú              America\n",
       "Paraguay          America\n",
       "Costa Rica        America\n",
       "Japón                Asia\n",
       "Marruecos          Africa\n",
       "Bélgica            Europa\n",
       "Malasia              Asia\n",
       "Rusia              Europa\n",
       "Sudáfrica          Africa\n",
       "Nueva Zelanda     Oceania\n",
       "dtype: object"
      ]
     },
     "execution_count": 24,
     "metadata": {},
     "output_type": "execute_result"
    }
   ],
   "source": [
    "pais_em_continente_serie = pd.Series(pais_em_continente)\n",
    "pais_em_continente_serie"
   ]
  },
  {
   "cell_type": "code",
   "execution_count": 25,
   "metadata": {},
   "outputs": [
    {
     "data": {
      "text/plain": [
       "Africa        327\n",
       "America    152979\n",
       "Asia         6130\n",
       "Europa      45316\n",
       "Oceania      5932\n",
       "Name: pasajeros, dtype: int64"
      ]
     },
     "execution_count": 25,
     "metadata": {},
     "output_type": "execute_result"
    }
   ],
   "source": [
    "data.index = data.pais_residencia_si_extranjero\n",
    "data_grouped_continente_2 = data.groupby(pais_em_continente_serie)\n",
    "data_grouped_continente_2[\"pasajeros\"].sum()"
   ]
  },
  {
   "cell_type": "markdown",
   "metadata": {},
   "source": [
    "## Groupby com funções\n",
    "\n",
    "Qualquer função que passarmos como uma chave de grupo será chamada uma vez para cada valor do índice e o resultado será o nome do grupo.\n",
    "\n",
    "Vejamos um exemplo:"
   ]
  },
  {
   "cell_type": "markdown",
   "metadata": {},
   "source": [
    "Definimos uma função que, dada uma string que representa um país, retorna o nome do contêiner daquele país:"
   ]
  },
  {
   "cell_type": "code",
   "execution_count": 26,
   "metadata": {},
   "outputs": [],
   "source": [
    "def get_continente(pais):\n",
    "    pais_em_continente = {\n",
    "    'Chile': 'America', 'Francia': 'Europa', 'México': 'America', 'Colombia': 'America', \n",
    "    'Uruguay': 'America', 'Estados Unidos': 'America', 'España': 'Europa', 'Italia': 'Europa', \n",
    "    'India': 'Asia', 'Ecuador': 'America', 'Brasil': 'America',\n",
    "    'Australia': 'Oceania', 'Bolivia': 'America', 'Reino Unido': 'Europa', \n",
    "    'Alemania': 'Europa', 'Israel': 'Asia', 'China': 'Asia', \n",
    "    'Venezuela': 'America', 'Países Bajos': 'Europa', 'Canadá': 'America', 'Suiza': 'Europa', 'Turquía': 'Europa',\n",
    "    'Noruega': 'Europa', 'Corea del Sur': 'Asia', 'Polonia': 'Europa', 'Perú': 'America', 'Paraguay': 'America',\n",
    "    'Costa Rica': 'America', 'Japón': 'Asia', 'Marruecos': 'Africa', 'Bélgica': 'Europa', 'Malasia': 'Asia', \n",
    "    'Rusia': 'Europa', 'Sudáfrica': 'Africa', 'Nueva Zelanda': 'Oceania'}\n",
    "    if pais in pais_em_continente:\n",
    "        result = pais_em_continente[pais]\n",
    "    else:\n",
    "        result = \"desconocido\"\n",
    "    return result\n",
    "    "
   ]
  },
  {
   "cell_type": "markdown",
   "metadata": {},
   "source": [
    "Repetimos o exercício anterior agrupando com esta função.\n",
    "\n",
    "Lembre-se que **a função que é a chave do groupby recebe como argumento o valor do índice de cada registro** quando axis = 0 (que é o valor padrão do eixo) e recebe o valor da coluna quando axis = 1.\n",
    "\n",
    "Em todos os exercícios desta prática, agrupamos por linhas (axis = 0), mas a mesma lógica se aplica se quisermos agrupar por colunas."
   ]
  },
  {
   "cell_type": "code",
   "execution_count": 27,
   "metadata": {},
   "outputs": [
    {
     "data": {
      "text/plain": [
       "pais_residencia_si_extranjero\n",
       "Africa            327\n",
       "America        152979\n",
       "Asia             6130\n",
       "Europa          45316\n",
       "Oceania          5932\n",
       "desconocido    149525\n",
       "Name: pasajeros, dtype: int64"
      ]
     },
     "execution_count": 27,
     "metadata": {},
     "output_type": "execute_result"
    }
   ],
   "source": [
    "data.index = data.pais_residencia_si_extranjero\n",
    "data_grouped_func = data.groupby(get_continente, axis = 0)\n",
    "data_grouped_func[\"pasajeros\"].sum()"
   ]
  },
  {
   "cell_type": "markdown",
   "metadata": {},
   "source": [
    "## Que operações podemos fazer em grupos?"
   ]
  },
  {
   "cell_type": "code",
   "execution_count": 28,
   "metadata": {},
   "outputs": [],
   "source": [
    "# redefinimos o índice de dados, que modificamos nos exercícios anteriores\n",
    "\n",
    "data = data.reset_index(drop = True)\n",
    "data_grouped = data.groupby('pais_residencia_si_extranjero')"
   ]
  },
  {
   "cell_type": "markdown",
   "metadata": {},
   "source": [
    "### Estatísticas descritivas sobre grupos\n",
    "\n",
    "Vamos calcular o número de turistas de cada país que solicitaram informações.\n",
    "\n",
    "Para tanto vamos selecionar a coluna `passageiros` do objeto [`DataFrameGroupBy`](https://pandas.pydata.org/pandas-docs/stable/reference/groupby.html#computations-descriptive-stats) e adicionar esse campo nos registros que compõem cada grupo."
   ]
  },
  {
   "cell_type": "code",
   "execution_count": 29,
   "metadata": {},
   "outputs": [
    {
     "name": "stdout",
     "output_type": "stream",
     "text": [
      "<class 'pandas.core.series.Series'>\n"
     ]
    },
    {
     "data": {
      "text/plain": [
       "pais_residencia_si_extranjero\n",
       "Alemania                                     7265\n",
       "Australia                                    5394\n",
       "Bolivia                                      1981\n",
       "Brasil                                      68984\n",
       "Bélgica                                       664\n",
       "Canadá                                       4636\n",
       "Chile                                       20145\n",
       "China                                        1858\n",
       "Colombia                                    12858\n",
       "Corea del Sur                                 287\n",
       "Costa Rica                                    923\n",
       "Ecuador                                      2895\n",
       "España                                      13143\n",
       "Estados Unidos                              13829\n",
       "Francia                                     10718\n",
       "India                                         209\n",
       "Israel                                       2077\n",
       "Italia                                       4726\n",
       "Japón                                        1550\n",
       "Malasia                                       149\n",
       "Marruecos                                      74\n",
       "México                                       6915\n",
       "Noruega                                       516\n",
       "Nueva Zelanda                                 538\n",
       "Otro país de residencia si es extranjero     6092\n",
       "Paraguay                                     2018\n",
       "Países Bajos                                 1081\n",
       "Perú                                         4159\n",
       "Polonia                                       153\n",
       "Reino Unido                                  5291\n",
       "Rusia                                         306\n",
       "Sudáfrica                                     253\n",
       "Suiza                                        1274\n",
       "Turquía                                       179\n",
       "Uruguay                                      9402\n",
       "Venezuela                                    4234\n",
       "Name: pasajeros, dtype: int64"
      ]
     },
     "execution_count": 29,
     "metadata": {},
     "output_type": "execute_result"
    }
   ],
   "source": [
    "sum_por_pais = data_grouped[\"pasajeros\"].sum()\n",
    "print(type(sum_por_pais))\n",
    "sum_por_pais"
   ]
  },
  {
   "cell_type": "markdown",
   "metadata": {},
   "source": [
    "Vemos que o resultado é um objeto do tipo Series e seu índice são os valores únicos do campo que usamos como a chave do groupby.\n",
    "\n",
    "Agora queremos ver um ranking dos países com base no número de turistas que visitam a cidade de Buenos Aires. Para isso ordenamos a série resultante do ponto anterior do maior para o menor, usando o método [`pandas.Series.sort_values()`](https://pandas.pydata.org/pandas-docs/stable/reference/api/pandas.Series.sort_values.html)."
   ]
  },
  {
   "cell_type": "code",
   "execution_count": 30,
   "metadata": {},
   "outputs": [
    {
     "data": {
      "text/plain": [
       "pais_residencia_si_extranjero\n",
       "Brasil                                      68984\n",
       "Chile                                       20145\n",
       "Estados Unidos                              13829\n",
       "España                                      13143\n",
       "Colombia                                    12858\n",
       "Francia                                     10718\n",
       "Uruguay                                      9402\n",
       "Alemania                                     7265\n",
       "México                                       6915\n",
       "Otro país de residencia si es extranjero     6092\n",
       "Australia                                    5394\n",
       "Reino Unido                                  5291\n",
       "Italia                                       4726\n",
       "Canadá                                       4636\n",
       "Venezuela                                    4234\n",
       "Perú                                         4159\n",
       "Ecuador                                      2895\n",
       "Israel                                       2077\n",
       "Paraguay                                     2018\n",
       "Bolivia                                      1981\n",
       "China                                        1858\n",
       "Japón                                        1550\n",
       "Suiza                                        1274\n",
       "Países Bajos                                 1081\n",
       "Costa Rica                                    923\n",
       "Bélgica                                       664\n",
       "Nueva Zelanda                                 538\n",
       "Noruega                                       516\n",
       "Rusia                                         306\n",
       "Corea del Sur                                 287\n",
       "Sudáfrica                                     253\n",
       "India                                         209\n",
       "Turquía                                       179\n",
       "Polonia                                       153\n",
       "Malasia                                       149\n",
       "Marruecos                                      74\n",
       "Name: pasajeros, dtype: int64"
      ]
     },
     "execution_count": 30,
     "metadata": {},
     "output_type": "execute_result"
    }
   ],
   "source": [
    "sum_por_pais_sorted = sum_por_pais.sort_values(ascending = False)\n",
    "sum_por_pais_sorted"
   ]
  },
  {
   "cell_type": "markdown",
   "metadata": {},
   "source": [
    "Calculemos agora a média e o desvio padrão das dormidas por país.\n",
    "\n",
    "Já calculamos groupby por país e atribuímos à variável [`data_grouped`](https://realpython.com/pandas-groupby/), selecionamos o campo pernoites e calculamos essas medidas.\n",
    "\n",
    "- [`pandas.core.groupby.GroupBy.mean()`](https://pandas.pydata.org/pandas-docs/stable/reference/api/pandas.core.groupby.GroupBy.mean.html#pandas.core.groupby.GroupBy.mean)\n",
    "\n",
    "- [`pandas.core.groupby.GroupBy.std()`](https://pandas.pydata.org/pandas-docs/stable/reference/api/pandas.core.groupby.GroupBy.std.html#pandas.core.groupby.GroupBy.std)\n",
    "\n",
    "Também podemos usar [`pandas.core.groupby.DataFrameGroupBy.describe()`](https://pandas.pydata.org/pandas-docs/stable/reference/api/pandas.core.groupby.DataFrameGroupBy.describe.html) sobre os grupos."
   ]
  },
  {
   "cell_type": "code",
   "execution_count": 31,
   "metadata": {},
   "outputs": [
    {
     "data": {
      "text/plain": [
       "pais_residencia_si_extranjero\n",
       "Alemania                                     8.126851\n",
       "Australia                                    5.034957\n",
       "Bolivia                                     12.115854\n",
       "Brasil                                       5.052015\n",
       "Bélgica                                      7.369099\n",
       "Canadá                                       6.108983\n",
       "Chile                                        5.137942\n",
       "China                                        8.045283\n",
       "Colombia                                    14.835038\n",
       "Corea del Sur                                6.037383\n",
       "Costa Rica                                   6.350000\n",
       "Ecuador                                      8.503233\n",
       "España                                       8.339584\n",
       "Estados Unidos                               6.841423\n",
       "Francia                                     18.084369\n",
       "India                                       13.597015\n",
       "Israel                                       8.033113\n",
       "Italia                                      11.028090\n",
       "Japón                                        5.637500\n",
       "Malasia                                      4.777778\n",
       "Marruecos                                    3.727273\n",
       "México                                      18.074242\n",
       "Noruega                                      8.993197\n",
       "Nueva Zelanda                                4.892655\n",
       "Otro país de residencia si es extranjero    10.589897\n",
       "Paraguay                                    10.581649\n",
       "Países Bajos                                 9.267640\n",
       "Perú                                         8.703943\n",
       "Polonia                                      6.500000\n",
       "Reino Unido                                  5.618679\n",
       "Rusia                                        5.072072\n",
       "Sudáfrica                                    5.647059\n",
       "Suiza                                        9.821154\n",
       "Turquía                                      9.826923\n",
       "Uruguay                                      3.613777\n",
       "Venezuela                                   30.089968\n",
       "Name: pernoctaciones, dtype: float64"
      ]
     },
     "execution_count": 31,
     "metadata": {},
     "output_type": "execute_result"
    }
   ],
   "source": [
    "data_grouped[\"pernoctaciones\"].mean()"
   ]
  },
  {
   "cell_type": "code",
   "execution_count": 32,
   "metadata": {},
   "outputs": [
    {
     "data": {
      "text/plain": [
       "pais_residencia_si_extranjero\n",
       "Alemania                                    27.589412\n",
       "Australia                                   11.089628\n",
       "Bolivia                                     41.854586\n",
       "Brasil                                      12.189930\n",
       "Bélgica                                     17.463294\n",
       "Canadá                                      19.441118\n",
       "Chile                                       15.253540\n",
       "China                                       26.056029\n",
       "Colombia                                    51.700865\n",
       "Corea del Sur                                5.795127\n",
       "Costa Rica                                  11.601940\n",
       "Ecuador                                     27.047443\n",
       "España                                      27.042090\n",
       "Estados Unidos                              19.617710\n",
       "Francia                                     58.816535\n",
       "India                                       46.803283\n",
       "Israel                                      17.109797\n",
       "Italia                                      35.340617\n",
       "Japón                                        9.134398\n",
       "Malasia                                      2.363442\n",
       "Marruecos                                    2.979003\n",
       "México                                      56.467622\n",
       "Noruega                                     24.545316\n",
       "Nueva Zelanda                                3.648599\n",
       "Otro país de residencia si es extranjero    35.983726\n",
       "Paraguay                                    36.957171\n",
       "Países Bajos                                31.446220\n",
       "Perú                                        25.602646\n",
       "Polonia                                      7.386013\n",
       "Reino Unido                                 16.243361\n",
       "Rusia                                        3.439640\n",
       "Sudáfrica                                    4.982603\n",
       "Suiza                                       32.475583\n",
       "Turquía                                     19.475194\n",
       "Uruguay                                      7.222916\n",
       "Venezuela                                   75.984203\n",
       "Name: pernoctaciones, dtype: float64"
      ]
     },
     "execution_count": 32,
     "metadata": {},
     "output_type": "execute_result"
    }
   ],
   "source": [
    "data_grouped[\"pernoctaciones\"].std()"
   ]
  },
  {
   "cell_type": "code",
   "execution_count": 33,
   "metadata": {},
   "outputs": [
    {
     "data": {
      "text/html": [
       "<div>\n",
       "<style scoped>\n",
       "    .dataframe tbody tr th:only-of-type {\n",
       "        vertical-align: middle;\n",
       "    }\n",
       "\n",
       "    .dataframe tbody tr th {\n",
       "        vertical-align: top;\n",
       "    }\n",
       "\n",
       "    .dataframe thead th {\n",
       "        text-align: right;\n",
       "    }\n",
       "</style>\n",
       "<table border=\"1\" class=\"dataframe\">\n",
       "  <thead>\n",
       "    <tr style=\"text-align: right;\">\n",
       "      <th></th>\n",
       "      <th>count</th>\n",
       "      <th>mean</th>\n",
       "      <th>std</th>\n",
       "      <th>min</th>\n",
       "      <th>25%</th>\n",
       "      <th>50%</th>\n",
       "      <th>75%</th>\n",
       "      <th>max</th>\n",
       "    </tr>\n",
       "    <tr>\n",
       "      <th>pais_residencia_si_extranjero</th>\n",
       "      <th></th>\n",
       "      <th></th>\n",
       "      <th></th>\n",
       "      <th></th>\n",
       "      <th></th>\n",
       "      <th></th>\n",
       "      <th></th>\n",
       "      <th></th>\n",
       "    </tr>\n",
       "  </thead>\n",
       "  <tbody>\n",
       "    <tr>\n",
       "      <th>Alemania</th>\n",
       "      <td>2499.0</td>\n",
       "      <td>8.126851</td>\n",
       "      <td>27.589412</td>\n",
       "      <td>0.0</td>\n",
       "      <td>3.0</td>\n",
       "      <td>4.0</td>\n",
       "      <td>6.00</td>\n",
       "      <td>365.0</td>\n",
       "    </tr>\n",
       "    <tr>\n",
       "      <th>Australia</th>\n",
       "      <td>1745.0</td>\n",
       "      <td>5.034957</td>\n",
       "      <td>11.089628</td>\n",
       "      <td>0.0</td>\n",
       "      <td>3.0</td>\n",
       "      <td>4.0</td>\n",
       "      <td>5.00</td>\n",
       "      <td>365.0</td>\n",
       "    </tr>\n",
       "    <tr>\n",
       "      <th>Bolivia</th>\n",
       "      <td>656.0</td>\n",
       "      <td>12.115854</td>\n",
       "      <td>41.854586</td>\n",
       "      <td>0.0</td>\n",
       "      <td>3.0</td>\n",
       "      <td>4.0</td>\n",
       "      <td>7.00</td>\n",
       "      <td>365.0</td>\n",
       "    </tr>\n",
       "    <tr>\n",
       "      <th>Brasil</th>\n",
       "      <td>20071.0</td>\n",
       "      <td>5.052015</td>\n",
       "      <td>12.189930</td>\n",
       "      <td>0.0</td>\n",
       "      <td>3.0</td>\n",
       "      <td>4.0</td>\n",
       "      <td>5.00</td>\n",
       "      <td>365.0</td>\n",
       "    </tr>\n",
       "    <tr>\n",
       "      <th>Bélgica</th>\n",
       "      <td>233.0</td>\n",
       "      <td>7.369099</td>\n",
       "      <td>17.463294</td>\n",
       "      <td>0.0</td>\n",
       "      <td>3.0</td>\n",
       "      <td>5.0</td>\n",
       "      <td>6.00</td>\n",
       "      <td>175.0</td>\n",
       "    </tr>\n",
       "    <tr>\n",
       "      <th>Canadá</th>\n",
       "      <td>1514.0</td>\n",
       "      <td>6.108983</td>\n",
       "      <td>19.441118</td>\n",
       "      <td>0.0</td>\n",
       "      <td>3.0</td>\n",
       "      <td>4.0</td>\n",
       "      <td>5.00</td>\n",
       "      <td>365.0</td>\n",
       "    </tr>\n",
       "    <tr>\n",
       "      <th>Chile</th>\n",
       "      <td>6365.0</td>\n",
       "      <td>5.137942</td>\n",
       "      <td>15.253540</td>\n",
       "      <td>0.0</td>\n",
       "      <td>3.0</td>\n",
       "      <td>4.0</td>\n",
       "      <td>5.00</td>\n",
       "      <td>365.0</td>\n",
       "    </tr>\n",
       "    <tr>\n",
       "      <th>China</th>\n",
       "      <td>530.0</td>\n",
       "      <td>8.045283</td>\n",
       "      <td>26.056029</td>\n",
       "      <td>0.0</td>\n",
       "      <td>3.0</td>\n",
       "      <td>5.0</td>\n",
       "      <td>6.00</td>\n",
       "      <td>365.0</td>\n",
       "    </tr>\n",
       "    <tr>\n",
       "      <th>Colombia</th>\n",
       "      <td>3910.0</td>\n",
       "      <td>14.835038</td>\n",
       "      <td>51.700865</td>\n",
       "      <td>0.0</td>\n",
       "      <td>3.0</td>\n",
       "      <td>5.0</td>\n",
       "      <td>7.00</td>\n",
       "      <td>690.0</td>\n",
       "    </tr>\n",
       "    <tr>\n",
       "      <th>Corea del Sur</th>\n",
       "      <td>107.0</td>\n",
       "      <td>6.037383</td>\n",
       "      <td>5.795127</td>\n",
       "      <td>0.0</td>\n",
       "      <td>3.0</td>\n",
       "      <td>5.0</td>\n",
       "      <td>7.00</td>\n",
       "      <td>50.0</td>\n",
       "    </tr>\n",
       "    <tr>\n",
       "      <th>Costa Rica</th>\n",
       "      <td>240.0</td>\n",
       "      <td>6.350000</td>\n",
       "      <td>11.601940</td>\n",
       "      <td>0.0</td>\n",
       "      <td>3.0</td>\n",
       "      <td>5.0</td>\n",
       "      <td>6.00</td>\n",
       "      <td>150.0</td>\n",
       "    </tr>\n",
       "    <tr>\n",
       "      <th>Ecuador</th>\n",
       "      <td>928.0</td>\n",
       "      <td>8.503233</td>\n",
       "      <td>27.047443</td>\n",
       "      <td>0.0</td>\n",
       "      <td>3.0</td>\n",
       "      <td>5.0</td>\n",
       "      <td>6.00</td>\n",
       "      <td>365.0</td>\n",
       "    </tr>\n",
       "    <tr>\n",
       "      <th>España</th>\n",
       "      <td>4373.0</td>\n",
       "      <td>8.339584</td>\n",
       "      <td>27.042090</td>\n",
       "      <td>0.0</td>\n",
       "      <td>3.0</td>\n",
       "      <td>5.0</td>\n",
       "      <td>6.00</td>\n",
       "      <td>365.0</td>\n",
       "    </tr>\n",
       "    <tr>\n",
       "      <th>Estados Unidos</th>\n",
       "      <td>4780.0</td>\n",
       "      <td>6.841423</td>\n",
       "      <td>19.617710</td>\n",
       "      <td>0.0</td>\n",
       "      <td>3.0</td>\n",
       "      <td>4.0</td>\n",
       "      <td>5.00</td>\n",
       "      <td>365.0</td>\n",
       "    </tr>\n",
       "    <tr>\n",
       "      <th>Francia</th>\n",
       "      <td>3461.0</td>\n",
       "      <td>18.084369</td>\n",
       "      <td>58.816535</td>\n",
       "      <td>0.0</td>\n",
       "      <td>3.0</td>\n",
       "      <td>4.0</td>\n",
       "      <td>6.00</td>\n",
       "      <td>555.0</td>\n",
       "    </tr>\n",
       "    <tr>\n",
       "      <th>India</th>\n",
       "      <td>67.0</td>\n",
       "      <td>13.597015</td>\n",
       "      <td>46.803283</td>\n",
       "      <td>2.0</td>\n",
       "      <td>3.0</td>\n",
       "      <td>4.0</td>\n",
       "      <td>7.50</td>\n",
       "      <td>360.0</td>\n",
       "    </tr>\n",
       "    <tr>\n",
       "      <th>Israel</th>\n",
       "      <td>604.0</td>\n",
       "      <td>8.033113</td>\n",
       "      <td>17.109797</td>\n",
       "      <td>0.0</td>\n",
       "      <td>3.0</td>\n",
       "      <td>5.0</td>\n",
       "      <td>7.00</td>\n",
       "      <td>365.0</td>\n",
       "    </tr>\n",
       "    <tr>\n",
       "      <th>Italia</th>\n",
       "      <td>1602.0</td>\n",
       "      <td>11.028090</td>\n",
       "      <td>35.340617</td>\n",
       "      <td>0.0</td>\n",
       "      <td>3.0</td>\n",
       "      <td>5.0</td>\n",
       "      <td>6.00</td>\n",
       "      <td>365.0</td>\n",
       "    </tr>\n",
       "    <tr>\n",
       "      <th>Japón</th>\n",
       "      <td>560.0</td>\n",
       "      <td>5.637500</td>\n",
       "      <td>9.134398</td>\n",
       "      <td>0.0</td>\n",
       "      <td>3.0</td>\n",
       "      <td>4.0</td>\n",
       "      <td>6.00</td>\n",
       "      <td>180.0</td>\n",
       "    </tr>\n",
       "    <tr>\n",
       "      <th>Malasia</th>\n",
       "      <td>45.0</td>\n",
       "      <td>4.777778</td>\n",
       "      <td>2.363442</td>\n",
       "      <td>0.0</td>\n",
       "      <td>3.0</td>\n",
       "      <td>5.0</td>\n",
       "      <td>6.00</td>\n",
       "      <td>14.0</td>\n",
       "    </tr>\n",
       "    <tr>\n",
       "      <th>Marruecos</th>\n",
       "      <td>22.0</td>\n",
       "      <td>3.727273</td>\n",
       "      <td>2.979003</td>\n",
       "      <td>1.0</td>\n",
       "      <td>2.0</td>\n",
       "      <td>2.5</td>\n",
       "      <td>5.00</td>\n",
       "      <td>15.0</td>\n",
       "    </tr>\n",
       "    <tr>\n",
       "      <th>México</th>\n",
       "      <td>2209.0</td>\n",
       "      <td>18.074242</td>\n",
       "      <td>56.467622</td>\n",
       "      <td>0.0</td>\n",
       "      <td>3.0</td>\n",
       "      <td>5.0</td>\n",
       "      <td>7.00</td>\n",
       "      <td>365.0</td>\n",
       "    </tr>\n",
       "    <tr>\n",
       "      <th>Noruega</th>\n",
       "      <td>147.0</td>\n",
       "      <td>8.993197</td>\n",
       "      <td>24.545316</td>\n",
       "      <td>0.0</td>\n",
       "      <td>3.0</td>\n",
       "      <td>4.0</td>\n",
       "      <td>5.00</td>\n",
       "      <td>180.0</td>\n",
       "    </tr>\n",
       "    <tr>\n",
       "      <th>Nueva Zelanda</th>\n",
       "      <td>177.0</td>\n",
       "      <td>4.892655</td>\n",
       "      <td>3.648599</td>\n",
       "      <td>0.0</td>\n",
       "      <td>3.0</td>\n",
       "      <td>4.0</td>\n",
       "      <td>6.00</td>\n",
       "      <td>30.0</td>\n",
       "    </tr>\n",
       "    <tr>\n",
       "      <th>Otro país de residencia si es extranjero</th>\n",
       "      <td>2514.0</td>\n",
       "      <td>10.589897</td>\n",
       "      <td>35.983726</td>\n",
       "      <td>0.0</td>\n",
       "      <td>3.0</td>\n",
       "      <td>4.0</td>\n",
       "      <td>6.00</td>\n",
       "      <td>365.0</td>\n",
       "    </tr>\n",
       "    <tr>\n",
       "      <th>Paraguay</th>\n",
       "      <td>643.0</td>\n",
       "      <td>10.581649</td>\n",
       "      <td>36.957171</td>\n",
       "      <td>0.0</td>\n",
       "      <td>3.0</td>\n",
       "      <td>4.0</td>\n",
       "      <td>7.00</td>\n",
       "      <td>365.0</td>\n",
       "    </tr>\n",
       "    <tr>\n",
       "      <th>Países Bajos</th>\n",
       "      <td>411.0</td>\n",
       "      <td>9.267640</td>\n",
       "      <td>31.446220</td>\n",
       "      <td>0.0</td>\n",
       "      <td>3.0</td>\n",
       "      <td>4.0</td>\n",
       "      <td>6.00</td>\n",
       "      <td>365.0</td>\n",
       "    </tr>\n",
       "    <tr>\n",
       "      <th>Perú</th>\n",
       "      <td>1395.0</td>\n",
       "      <td>8.703943</td>\n",
       "      <td>25.602646</td>\n",
       "      <td>0.0</td>\n",
       "      <td>3.0</td>\n",
       "      <td>5.0</td>\n",
       "      <td>7.00</td>\n",
       "      <td>365.0</td>\n",
       "    </tr>\n",
       "    <tr>\n",
       "      <th>Polonia</th>\n",
       "      <td>48.0</td>\n",
       "      <td>6.500000</td>\n",
       "      <td>7.386013</td>\n",
       "      <td>0.0</td>\n",
       "      <td>3.0</td>\n",
       "      <td>4.0</td>\n",
       "      <td>6.00</td>\n",
       "      <td>30.0</td>\n",
       "    </tr>\n",
       "    <tr>\n",
       "      <th>Reino Unido</th>\n",
       "      <td>1938.0</td>\n",
       "      <td>5.618679</td>\n",
       "      <td>16.243361</td>\n",
       "      <td>0.0</td>\n",
       "      <td>3.0</td>\n",
       "      <td>4.0</td>\n",
       "      <td>5.00</td>\n",
       "      <td>365.0</td>\n",
       "    </tr>\n",
       "    <tr>\n",
       "      <th>Rusia</th>\n",
       "      <td>111.0</td>\n",
       "      <td>5.072072</td>\n",
       "      <td>3.439640</td>\n",
       "      <td>1.0</td>\n",
       "      <td>3.0</td>\n",
       "      <td>4.0</td>\n",
       "      <td>6.00</td>\n",
       "      <td>30.0</td>\n",
       "    </tr>\n",
       "    <tr>\n",
       "      <th>Sudáfrica</th>\n",
       "      <td>85.0</td>\n",
       "      <td>5.647059</td>\n",
       "      <td>4.982603</td>\n",
       "      <td>1.0</td>\n",
       "      <td>3.0</td>\n",
       "      <td>4.0</td>\n",
       "      <td>6.00</td>\n",
       "      <td>30.0</td>\n",
       "    </tr>\n",
       "    <tr>\n",
       "      <th>Suiza</th>\n",
       "      <td>520.0</td>\n",
       "      <td>9.821154</td>\n",
       "      <td>32.475583</td>\n",
       "      <td>0.0</td>\n",
       "      <td>3.0</td>\n",
       "      <td>4.0</td>\n",
       "      <td>6.00</td>\n",
       "      <td>365.0</td>\n",
       "    </tr>\n",
       "    <tr>\n",
       "      <th>Turquía</th>\n",
       "      <td>52.0</td>\n",
       "      <td>9.826923</td>\n",
       "      <td>19.475194</td>\n",
       "      <td>1.0</td>\n",
       "      <td>3.0</td>\n",
       "      <td>5.0</td>\n",
       "      <td>6.25</td>\n",
       "      <td>120.0</td>\n",
       "    </tr>\n",
       "    <tr>\n",
       "      <th>Uruguay</th>\n",
       "      <td>3063.0</td>\n",
       "      <td>3.613777</td>\n",
       "      <td>7.222916</td>\n",
       "      <td>0.0</td>\n",
       "      <td>2.0</td>\n",
       "      <td>3.0</td>\n",
       "      <td>4.00</td>\n",
       "      <td>365.0</td>\n",
       "    </tr>\n",
       "    <tr>\n",
       "      <th>Venezuela</th>\n",
       "      <td>1256.0</td>\n",
       "      <td>30.089968</td>\n",
       "      <td>75.984203</td>\n",
       "      <td>0.0</td>\n",
       "      <td>3.0</td>\n",
       "      <td>5.0</td>\n",
       "      <td>15.00</td>\n",
       "      <td>670.0</td>\n",
       "    </tr>\n",
       "  </tbody>\n",
       "</table>\n",
       "</div>"
      ],
      "text/plain": [
       "                                            count       mean        std  min  \\\n",
       "pais_residencia_si_extranjero                                                  \n",
       "Alemania                                   2499.0   8.126851  27.589412  0.0   \n",
       "Australia                                  1745.0   5.034957  11.089628  0.0   \n",
       "Bolivia                                     656.0  12.115854  41.854586  0.0   \n",
       "Brasil                                    20071.0   5.052015  12.189930  0.0   \n",
       "Bélgica                                     233.0   7.369099  17.463294  0.0   \n",
       "Canadá                                     1514.0   6.108983  19.441118  0.0   \n",
       "Chile                                      6365.0   5.137942  15.253540  0.0   \n",
       "China                                       530.0   8.045283  26.056029  0.0   \n",
       "Colombia                                   3910.0  14.835038  51.700865  0.0   \n",
       "Corea del Sur                               107.0   6.037383   5.795127  0.0   \n",
       "Costa Rica                                  240.0   6.350000  11.601940  0.0   \n",
       "Ecuador                                     928.0   8.503233  27.047443  0.0   \n",
       "España                                     4373.0   8.339584  27.042090  0.0   \n",
       "Estados Unidos                             4780.0   6.841423  19.617710  0.0   \n",
       "Francia                                    3461.0  18.084369  58.816535  0.0   \n",
       "India                                        67.0  13.597015  46.803283  2.0   \n",
       "Israel                                      604.0   8.033113  17.109797  0.0   \n",
       "Italia                                     1602.0  11.028090  35.340617  0.0   \n",
       "Japón                                       560.0   5.637500   9.134398  0.0   \n",
       "Malasia                                      45.0   4.777778   2.363442  0.0   \n",
       "Marruecos                                    22.0   3.727273   2.979003  1.0   \n",
       "México                                     2209.0  18.074242  56.467622  0.0   \n",
       "Noruega                                     147.0   8.993197  24.545316  0.0   \n",
       "Nueva Zelanda                               177.0   4.892655   3.648599  0.0   \n",
       "Otro país de residencia si es extranjero   2514.0  10.589897  35.983726  0.0   \n",
       "Paraguay                                    643.0  10.581649  36.957171  0.0   \n",
       "Países Bajos                                411.0   9.267640  31.446220  0.0   \n",
       "Perú                                       1395.0   8.703943  25.602646  0.0   \n",
       "Polonia                                      48.0   6.500000   7.386013  0.0   \n",
       "Reino Unido                                1938.0   5.618679  16.243361  0.0   \n",
       "Rusia                                       111.0   5.072072   3.439640  1.0   \n",
       "Sudáfrica                                    85.0   5.647059   4.982603  1.0   \n",
       "Suiza                                       520.0   9.821154  32.475583  0.0   \n",
       "Turquía                                      52.0   9.826923  19.475194  1.0   \n",
       "Uruguay                                    3063.0   3.613777   7.222916  0.0   \n",
       "Venezuela                                  1256.0  30.089968  75.984203  0.0   \n",
       "\n",
       "                                          25%  50%    75%    max  \n",
       "pais_residencia_si_extranjero                                     \n",
       "Alemania                                  3.0  4.0   6.00  365.0  \n",
       "Australia                                 3.0  4.0   5.00  365.0  \n",
       "Bolivia                                   3.0  4.0   7.00  365.0  \n",
       "Brasil                                    3.0  4.0   5.00  365.0  \n",
       "Bélgica                                   3.0  5.0   6.00  175.0  \n",
       "Canadá                                    3.0  4.0   5.00  365.0  \n",
       "Chile                                     3.0  4.0   5.00  365.0  \n",
       "China                                     3.0  5.0   6.00  365.0  \n",
       "Colombia                                  3.0  5.0   7.00  690.0  \n",
       "Corea del Sur                             3.0  5.0   7.00   50.0  \n",
       "Costa Rica                                3.0  5.0   6.00  150.0  \n",
       "Ecuador                                   3.0  5.0   6.00  365.0  \n",
       "España                                    3.0  5.0   6.00  365.0  \n",
       "Estados Unidos                            3.0  4.0   5.00  365.0  \n",
       "Francia                                   3.0  4.0   6.00  555.0  \n",
       "India                                     3.0  4.0   7.50  360.0  \n",
       "Israel                                    3.0  5.0   7.00  365.0  \n",
       "Italia                                    3.0  5.0   6.00  365.0  \n",
       "Japón                                     3.0  4.0   6.00  180.0  \n",
       "Malasia                                   3.0  5.0   6.00   14.0  \n",
       "Marruecos                                 2.0  2.5   5.00   15.0  \n",
       "México                                    3.0  5.0   7.00  365.0  \n",
       "Noruega                                   3.0  4.0   5.00  180.0  \n",
       "Nueva Zelanda                             3.0  4.0   6.00   30.0  \n",
       "Otro país de residencia si es extranjero  3.0  4.0   6.00  365.0  \n",
       "Paraguay                                  3.0  4.0   7.00  365.0  \n",
       "Países Bajos                              3.0  4.0   6.00  365.0  \n",
       "Perú                                      3.0  5.0   7.00  365.0  \n",
       "Polonia                                   3.0  4.0   6.00   30.0  \n",
       "Reino Unido                               3.0  4.0   5.00  365.0  \n",
       "Rusia                                     3.0  4.0   6.00   30.0  \n",
       "Sudáfrica                                 3.0  4.0   6.00   30.0  \n",
       "Suiza                                     3.0  4.0   6.00  365.0  \n",
       "Turquía                                   3.0  5.0   6.25  120.0  \n",
       "Uruguay                                   2.0  3.0   4.00  365.0  \n",
       "Venezuela                                 3.0  5.0  15.00  670.0  "
      ]
     },
     "execution_count": 33,
     "metadata": {},
     "output_type": "execute_result"
    }
   ],
   "source": [
    "data_grouped[\"pernoctaciones\"].describe()"
   ]
  },
  {
   "cell_type": "markdown",
   "metadata": {},
   "source": [
    "### Índices hierárquicos\n",
    "\n",
    "Podemos agrupar por mais de um campo, e o resultado será uma Series ou DataFrame com um índice hierárquico definido pelos campos-chave do agrupamento.\n",
    "\n",
    "Vamos ver como o número de turistas é distribuído por país de residência por bairro."
   ]
  },
  {
   "cell_type": "code",
   "execution_count": 34,
   "metadata": {},
   "outputs": [
    {
     "data": {
      "text/plain": [
       "pais_residencia_si_extranjero  barrio       \n",
       "Alemania                       BOCA              731\n",
       "                               PALERMO           311\n",
       "                               PUERTO MADERO     650\n",
       "                               RECOLETA         1631\n",
       "                               RETIRO           1340\n",
       "                                                ... \n",
       "Venezuela                      PALERMO           525\n",
       "                               PUERTO MADERO     352\n",
       "                               RECOLETA          652\n",
       "                               RETIRO            644\n",
       "                               SAN NICOLAS      1607\n",
       "Name: pasajeros, Length: 220, dtype: int64"
      ]
     },
     "execution_count": 34,
     "metadata": {},
     "output_type": "execute_result"
    }
   ],
   "source": [
    "data_grouped_pais_bairro = data.groupby([\"pais_residencia_si_extranjero\", \"barrio\"])\n",
    "quantidade_pasajeros_pais_bairro = data_grouped_pais_bairro[\"pasajeros\"].sum()\n",
    "quantidade_pasajeros_pais_bairro"
   ]
  },
  {
   "cell_type": "markdown",
   "metadata": {},
   "source": [
    "Vemos que o índice do objeto Result Series possui dois níveis. Se quisermos ver como foi definido:"
   ]
  },
  {
   "cell_type": "code",
   "execution_count": 35,
   "metadata": {},
   "outputs": [
    {
     "data": {
      "text/plain": [
       "MultiIndex([( 'Alemania',          'BOCA'),\n",
       "            ( 'Alemania',       'PALERMO'),\n",
       "            ( 'Alemania', 'PUERTO MADERO'),\n",
       "            ( 'Alemania',      'RECOLETA'),\n",
       "            ( 'Alemania',        'RETIRO'),\n",
       "            ( 'Alemania',   'SAN NICOLAS'),\n",
       "            ('Australia',          'BOCA'),\n",
       "            ('Australia',       'PALERMO'),\n",
       "            ('Australia', 'PUERTO MADERO'),\n",
       "            ('Australia',      'RECOLETA'),\n",
       "            ...\n",
       "            (  'Uruguay', 'PUERTO MADERO'),\n",
       "            (  'Uruguay',      'RECOLETA'),\n",
       "            (  'Uruguay',        'RETIRO'),\n",
       "            (  'Uruguay',   'SAN NICOLAS'),\n",
       "            ('Venezuela',          'BOCA'),\n",
       "            ('Venezuela',       'PALERMO'),\n",
       "            ('Venezuela', 'PUERTO MADERO'),\n",
       "            ('Venezuela',      'RECOLETA'),\n",
       "            ('Venezuela',        'RETIRO'),\n",
       "            ('Venezuela',   'SAN NICOLAS')],\n",
       "           names=['pais_residencia_si_extranjero', 'barrio'], length=220)"
      ]
     },
     "execution_count": 35,
     "metadata": {},
     "output_type": "execute_result"
    }
   ],
   "source": [
    "quantidade_pasajeros_pais_bairro.index"
   ]
  },
  {
   "cell_type": "markdown",
   "metadata": {},
   "source": [
    "Podemos usar o método [`pandas.Series.unstack()`](https://pandas.pydata.org/pandas-docs/stable/reference/api/pandas.Series.unstack.html) para criar um DataFrame a partir deste objeto Series."
   ]
  },
  {
   "cell_type": "code",
   "execution_count": 36,
   "metadata": {},
   "outputs": [
    {
     "name": "stdout",
     "output_type": "stream",
     "text": [
      "<class 'pandas.core.frame.DataFrame'>\n"
     ]
    },
    {
     "data": {
      "text/html": [
       "<div>\n",
       "<style scoped>\n",
       "    .dataframe tbody tr th:only-of-type {\n",
       "        vertical-align: middle;\n",
       "    }\n",
       "\n",
       "    .dataframe tbody tr th {\n",
       "        vertical-align: top;\n",
       "    }\n",
       "\n",
       "    .dataframe thead th {\n",
       "        text-align: right;\n",
       "    }\n",
       "</style>\n",
       "<table border=\"1\" class=\"dataframe\">\n",
       "  <thead>\n",
       "    <tr style=\"text-align: right;\">\n",
       "      <th>barrio</th>\n",
       "      <th>BARRIO</th>\n",
       "      <th>BOCA</th>\n",
       "      <th>PALERMO</th>\n",
       "      <th>PUERTO MADERO</th>\n",
       "      <th>RECOLETA</th>\n",
       "      <th>RETIRO</th>\n",
       "      <th>SAN NICOLAS</th>\n",
       "      <th>SIN IDENTIFICAR</th>\n",
       "    </tr>\n",
       "    <tr>\n",
       "      <th>pais_residencia_si_extranjero</th>\n",
       "      <th></th>\n",
       "      <th></th>\n",
       "      <th></th>\n",
       "      <th></th>\n",
       "      <th></th>\n",
       "      <th></th>\n",
       "      <th></th>\n",
       "      <th></th>\n",
       "    </tr>\n",
       "  </thead>\n",
       "  <tbody>\n",
       "    <tr>\n",
       "      <th>Alemania</th>\n",
       "      <td>NaN</td>\n",
       "      <td>731.0</td>\n",
       "      <td>311.0</td>\n",
       "      <td>650.0</td>\n",
       "      <td>1631.0</td>\n",
       "      <td>1340.0</td>\n",
       "      <td>2602.0</td>\n",
       "      <td>NaN</td>\n",
       "    </tr>\n",
       "    <tr>\n",
       "      <th>Australia</th>\n",
       "      <td>NaN</td>\n",
       "      <td>553.0</td>\n",
       "      <td>193.0</td>\n",
       "      <td>296.0</td>\n",
       "      <td>1853.0</td>\n",
       "      <td>768.0</td>\n",
       "      <td>1731.0</td>\n",
       "      <td>NaN</td>\n",
       "    </tr>\n",
       "    <tr>\n",
       "      <th>Bolivia</th>\n",
       "      <td>NaN</td>\n",
       "      <td>375.0</td>\n",
       "      <td>222.0</td>\n",
       "      <td>165.0</td>\n",
       "      <td>255.0</td>\n",
       "      <td>401.0</td>\n",
       "      <td>563.0</td>\n",
       "      <td>NaN</td>\n",
       "    </tr>\n",
       "  </tbody>\n",
       "</table>\n",
       "</div>"
      ],
      "text/plain": [
       "barrio                         BARRIO   BOCA  PALERMO  PUERTO MADERO  \\\n",
       "pais_residencia_si_extranjero                                          \n",
       "Alemania                          NaN  731.0    311.0          650.0   \n",
       "Australia                         NaN  553.0    193.0          296.0   \n",
       "Bolivia                           NaN  375.0    222.0          165.0   \n",
       "\n",
       "barrio                         RECOLETA  RETIRO  SAN NICOLAS  SIN IDENTIFICAR  \n",
       "pais_residencia_si_extranjero                                                  \n",
       "Alemania                         1631.0  1340.0       2602.0              NaN  \n",
       "Australia                        1853.0   768.0       1731.0              NaN  \n",
       "Bolivia                           255.0   401.0        563.0              NaN  "
      ]
     },
     "execution_count": 36,
     "metadata": {},
     "output_type": "execute_result"
    }
   ],
   "source": [
    "quantidade_pasajeros_pais_bairro_df = quantidade_pasajeros_pais_bairro.unstack()\n",
    "print(type(quantidade_pasajeros_pais_bairro_df))\n",
    "quantidade_pasajeros_pais_bairro_df.head(3)"
   ]
  },
  {
   "cell_type": "markdown",
   "metadata": {},
   "source": [
    "\n",
    "<a id=\"section_aggregate_transform_filter\"></a> \n",
    "### Aggregate, transform, filter\n",
    "\n",
    "\n",
    "Uma vez construídos os grupos (como resultado da etapa `Split`), na etapa `Apply` podemos realizar as operações sobre eles, quais sejam:\n",
    "\n",
    "* **agregação**: cálculo das estatísticas de resumo para cada grupo. Por exemplo, soma ou média\n",
    "\n",
    "* **transformação**: cálculos específicos do grupo retornando novos objetos indexados da mesma maneira. Por exemplo, preencha os NAs dentro de um grupo com um valor calculado nesse grupo, como média, mediana, máximo, etc.\n",
    "\n",
    "* **filtro**: descarte alguns grupos de acordo com algum cálculo no grupo que retorna Verdadeiro ou Falso. Por exemplo, descarte grupos com poucos membros."
   ]
  },
  {
   "cell_type": "markdown",
   "metadata": {},
   "source": [
    "Exemplos de operações de agregação são todos os que vimos até agora. Depois de construir um grupo com qualquer uma das alternativas que apresentamos, calculamos uma medida em cada um desses grupos."
   ]
  },
  {
   "cell_type": "markdown",
   "metadata": {},
   "source": [
    "#### Transformação\n",
    "\n",
    "Vimos que no domínio das dormidas existe uma percentagem muito elevada de nulos.\n",
    "\n",
    "Vamos completar os valores deste campo, atribuindo a média das dormidas agrupadas por `pais_residencia_si_extranjero` e `bairro`.\n",
    "\n",
    "Sabemos que `groupby` não configura grupos definidos por nulos, portanto aqueles registros que possuem `null` nos campos que são chave para `groupby` não serão atribuídos a nenhum grupo.\n",
    "\n",
    "Antes de começar, vamos remover esses registros."
   ]
  },
  {
   "cell_type": "code",
   "execution_count": 37,
   "metadata": {},
   "outputs": [
    {
     "data": {
      "text/plain": [
       "(100107, 20)"
      ]
     },
     "execution_count": 37,
     "metadata": {},
     "output_type": "execute_result"
    }
   ],
   "source": [
    "data_key_not_null_mask = np.logical_and(data.pais_residencia_si_extranjero.notnull(), data.barrio.notnull())\n",
    "data_key_not_null = data.loc[data_key_not_null_mask, :]\n",
    "data_key_not_null.shape"
   ]
  },
  {
   "cell_type": "markdown",
   "metadata": {},
   "source": [
    "Re-definimos os índices com a função [`reset_index()`](https://pandas.pydata.org/pandas-docs/stable/reference/api/pandas.DataFrame.reset_index.html)"
   ]
  },
  {
   "cell_type": "code",
   "execution_count": 38,
   "metadata": {},
   "outputs": [],
   "source": [
    "# se necessário, eliminamos o índice que atribuímos aos exercícios agrupados por série ou dicionário:\n",
    "data_key_not_null = data_key_not_null.reset_index(drop = True)\n",
    "\n",
    "#data_key_not_null.head(3)"
   ]
  },
  {
   "cell_type": "code",
   "execution_count": 39,
   "metadata": {},
   "outputs": [],
   "source": [
    "data_key_not_null_grouped_pais_bairro = data_key_not_null.groupby([\"pais_residencia_si_extranjero\", \"barrio\"])"
   ]
  },
  {
   "cell_type": "markdown",
   "metadata": {},
   "source": [
    "Qual porcentagem de valores nulos estão na coluna pernoctaciones em data_key_not_null?"
   ]
  },
  {
   "cell_type": "code",
   "execution_count": 40,
   "metadata": {},
   "outputs": [
    {
     "data": {
      "text/plain": [
       "0.31192623892435095"
      ]
     },
     "execution_count": 40,
     "metadata": {},
     "output_type": "execute_result"
    }
   ],
   "source": [
    "data_key_not_null[\"pernoctaciones\"].isnull().sum() / data_key_not_null.shape[0]"
   ]
  },
  {
   "cell_type": "markdown",
   "metadata": {},
   "source": [
    "Usamos [`transform`](https://pandas.pydata.org/pandas-docs/stable/user_guide/groupby.html#transformation) para preencher os valores nulos com a média por grupo e contamos quantos valores nulos restam."
   ]
  },
  {
   "cell_type": "code",
   "execution_count": 41,
   "metadata": {},
   "outputs": [
    {
     "data": {
      "text/plain": [
       "0          7.000000\n",
       "1          4.000000\n",
       "2          0.000000\n",
       "3         18.182640\n",
       "4          3.782383\n",
       "            ...    \n",
       "100102     4.000000\n",
       "100103     6.000000\n",
       "100104     5.629213\n",
       "100105     2.000000\n",
       "100106     4.000000\n",
       "Name: pernoctaciones, Length: 100107, dtype: float64"
      ]
     },
     "execution_count": 41,
     "metadata": {},
     "output_type": "execute_result"
    }
   ],
   "source": [
    "data_filled = data_key_not_null_grouped_pais_bairro[\"pernoctaciones\"].transform(lambda grp: grp.fillna(grp.mean()))\n",
    "data_filled"
   ]
  },
  {
   "cell_type": "code",
   "execution_count": 42,
   "metadata": {},
   "outputs": [
    {
     "data": {
      "text/plain": [
       "10"
      ]
     },
     "execution_count": 42,
     "metadata": {},
     "output_type": "execute_result"
    }
   ],
   "source": [
    "data_filled.isnull().sum()"
   ]
  },
  {
   "cell_type": "markdown",
   "metadata": {},
   "source": [
    "Vemos que existem 10 registros restantes que foram atribuídos a um grupo, mas eles ainda são nulos. **O que aconteceu?**\n",
    "\n",
    "Vejamos o que são esses registros e quais valores eles têm nos campos \"pais_residencia_si_extranjero\" e \"barrio\"."
   ]
  },
  {
   "cell_type": "code",
   "execution_count": 43,
   "metadata": {},
   "outputs": [],
   "source": [
    "data_not_filled = data_filled.loc[data_filled.isnull()]"
   ]
  },
  {
   "cell_type": "code",
   "execution_count": 44,
   "metadata": {},
   "outputs": [
    {
     "data": {
      "text/html": [
       "<div>\n",
       "<style scoped>\n",
       "    .dataframe tbody tr th:only-of-type {\n",
       "        vertical-align: middle;\n",
       "    }\n",
       "\n",
       "    .dataframe tbody tr th {\n",
       "        vertical-align: top;\n",
       "    }\n",
       "\n",
       "    .dataframe thead th {\n",
       "        text-align: right;\n",
       "    }\n",
       "</style>\n",
       "<table border=\"1\" class=\"dataframe\">\n",
       "  <thead>\n",
       "    <tr style=\"text-align: right;\">\n",
       "      <th></th>\n",
       "      <th>pais_residencia_si_extranjero</th>\n",
       "      <th>barrio</th>\n",
       "    </tr>\n",
       "  </thead>\n",
       "  <tbody>\n",
       "    <tr>\n",
       "      <th>53093</th>\n",
       "      <td>Malasia</td>\n",
       "      <td>RECOLETA</td>\n",
       "    </tr>\n",
       "    <tr>\n",
       "      <th>54936</th>\n",
       "      <td>Malasia</td>\n",
       "      <td>RECOLETA</td>\n",
       "    </tr>\n",
       "    <tr>\n",
       "      <th>56875</th>\n",
       "      <td>Marruecos</td>\n",
       "      <td>PALERMO</td>\n",
       "    </tr>\n",
       "    <tr>\n",
       "      <th>57063</th>\n",
       "      <td>Marruecos</td>\n",
       "      <td>PALERMO</td>\n",
       "    </tr>\n",
       "    <tr>\n",
       "      <th>57144</th>\n",
       "      <td>Malasia</td>\n",
       "      <td>RECOLETA</td>\n",
       "    </tr>\n",
       "    <tr>\n",
       "      <th>57492</th>\n",
       "      <td>Marruecos</td>\n",
       "      <td>PALERMO</td>\n",
       "    </tr>\n",
       "    <tr>\n",
       "      <th>59074</th>\n",
       "      <td>Marruecos</td>\n",
       "      <td>PALERMO</td>\n",
       "    </tr>\n",
       "    <tr>\n",
       "      <th>85644</th>\n",
       "      <td>Marruecos</td>\n",
       "      <td>PALERMO</td>\n",
       "    </tr>\n",
       "    <tr>\n",
       "      <th>95932</th>\n",
       "      <td>Estados Unidos</td>\n",
       "      <td>SIN IDENTIFICAR</td>\n",
       "    </tr>\n",
       "    <tr>\n",
       "      <th>95933</th>\n",
       "      <td>Brasil</td>\n",
       "      <td>SIN IDENTIFICAR</td>\n",
       "    </tr>\n",
       "  </tbody>\n",
       "</table>\n",
       "</div>"
      ],
      "text/plain": [
       "      pais_residencia_si_extranjero           barrio\n",
       "53093                       Malasia         RECOLETA\n",
       "54936                       Malasia         RECOLETA\n",
       "56875                     Marruecos          PALERMO\n",
       "57063                     Marruecos          PALERMO\n",
       "57144                       Malasia         RECOLETA\n",
       "57492                     Marruecos          PALERMO\n",
       "59074                     Marruecos          PALERMO\n",
       "85644                     Marruecos          PALERMO\n",
       "95932                Estados Unidos  SIN IDENTIFICAR\n",
       "95933                        Brasil  SIN IDENTIFICAR"
      ]
     },
     "execution_count": 44,
     "metadata": {},
     "output_type": "execute_result"
    }
   ],
   "source": [
    "data_key_not_null.loc[data_not_filled.index, [ \"pais_residencia_si_extranjero\", \"barrio\"]]"
   ]
  },
  {
   "cell_type": "markdown",
   "metadata": {},
   "source": [
    "Miremos los valores en el campo \"pernoctaciones\" de los registros de los grupos \n",
    "Vejamos os valores no campo \"pernoctaciones\" dos registros de grupo\n",
    "* Malasia\tRECOLETA\t\n",
    "* Marruecos\tPALERMO\t\n",
    "* Estados Unidos\tNÃO IDENTIFICADO\n",
    "* Brasil\tNÃO IDENTIFICADO"
   ]
  },
  {
   "cell_type": "code",
   "execution_count": 45,
   "metadata": {},
   "outputs": [
    {
     "data": {
      "text/plain": [
       "53093   NaN\n",
       "54936   NaN\n",
       "57144   NaN\n",
       "Name: pernoctaciones, dtype: float64"
      ]
     },
     "execution_count": 45,
     "metadata": {},
     "output_type": "execute_result"
    }
   ],
   "source": [
    "malasia_recoleta_mask = np.logical_and(data_key_not_null.pais_residencia_si_extranjero  == 'Malasia', \n",
    "                                        data_key_not_null.barrio == \"RECOLETA\")\n",
    "\n",
    "data_key_not_null.loc[malasia_recoleta_mask, \"pernoctaciones\"]"
   ]
  },
  {
   "cell_type": "code",
   "execution_count": 46,
   "metadata": {},
   "outputs": [
    {
     "data": {
      "text/plain": [
       "56875   NaN\n",
       "57063   NaN\n",
       "57492   NaN\n",
       "59074   NaN\n",
       "85644   NaN\n",
       "Name: pernoctaciones, dtype: float64"
      ]
     },
     "execution_count": 46,
     "metadata": {},
     "output_type": "execute_result"
    }
   ],
   "source": [
    "marruecos_palermo_mask = np.logical_and(data_key_not_null.pais_residencia_si_extranjero  == 'Marruecos', \n",
    "                                        data_key_not_null.barrio == \"PALERMO\")\n",
    "\n",
    "data_key_not_null.loc[marruecos_palermo_mask, \"pernoctaciones\"]"
   ]
  },
  {
   "cell_type": "code",
   "execution_count": 47,
   "metadata": {},
   "outputs": [
    {
     "data": {
      "text/plain": [
       "95932   NaN\n",
       "Name: pernoctaciones, dtype: float64"
      ]
     },
     "execution_count": 47,
     "metadata": {},
     "output_type": "execute_result"
    }
   ],
   "source": [
    "usa_sinid_mask = np.logical_and(data_key_not_null.pais_residencia_si_extranjero  == 'Estados Unidos', \n",
    "                                        data_key_not_null.barrio == \"SIN IDENTIFICAR\")\n",
    "\n",
    "data_key_not_null.loc[usa_sinid_mask, \"pernoctaciones\"]"
   ]
  },
  {
   "cell_type": "code",
   "execution_count": 48,
   "metadata": {},
   "outputs": [
    {
     "data": {
      "text/plain": [
       "95933   NaN\n",
       "Name: pernoctaciones, dtype: float64"
      ]
     },
     "execution_count": 48,
     "metadata": {},
     "output_type": "execute_result"
    }
   ],
   "source": [
    "brasil_sinid_mask = np.logical_and(data_key_not_null.pais_residencia_si_extranjero  == 'Brasil', \n",
    "                                        data_key_not_null.barrio == \"SIN IDENTIFICAR\")\n",
    "\n",
    "data_key_not_null.loc[brasil_sinid_mask, \"pernoctaciones\"]"
   ]
  },
  {
   "cell_type": "markdown",
   "metadata": {},
   "source": [
    "Vemos que todos os registros desses grupos têm valor nulo no campo de pernoites, portanto a média por grupo também é nula e novamente temos nulo como preenchimento por grupo."
   ]
  },
  {
   "cell_type": "markdown",
   "metadata": {},
   "source": [
    "#### Filtro\n",
    "\n",
    "O método [`filtration`](https://pandas.pydata.org/pandas-docs/stable/user_guide/groupby.html#filtration) retorna um subconjunto do objeto original.\n",
    "\n",
    "Suponha que desejamos retornar os registros que correspondem a países com mais de 1000 visitas."
   ]
  },
  {
   "cell_type": "code",
   "execution_count": 49,
   "metadata": {},
   "outputs": [
    {
     "data": {
      "text/plain": [
       "pais_residencia_si_extranjero\n",
       "Alemania                                     3564\n",
       "Australia                                    2548\n",
       "Bolivia                                       902\n",
       "Brasil                                      29979\n",
       "Bélgica                                       304\n",
       "Canadá                                       2219\n",
       "Chile                                        9140\n",
       "China                                         907\n",
       "Colombia                                     5965\n",
       "Corea del Sur                                 155\n",
       "Costa Rica                                    421\n",
       "Ecuador                                      1360\n",
       "España                                       6249\n",
       "Estados Unidos                               6826\n",
       "Francia                                      5159\n",
       "India                                         105\n",
       "Israel                                        855\n",
       "Italia                                       2373\n",
       "Japón                                         801\n",
       "Malasia                                        64\n",
       "Marruecos                                      36\n",
       "México                                       3252\n",
       "Noruega                                       230\n",
       "Nueva Zelanda                                 264\n",
       "Otro país de residencia si es extranjero     3017\n",
       "Paraguay                                      900\n",
       "Países Bajos                                  556\n",
       "Perú                                         2031\n",
       "Polonia                                        76\n",
       "Reino Unido                                  2701\n",
       "Rusia                                         152\n",
       "Sudáfrica                                     123\n",
       "Suiza                                         646\n",
       "Turquía                                        84\n",
       "Uruguay                                      3986\n",
       "Venezuela                                    2157\n",
       "dtype: int64"
      ]
     },
     "execution_count": 49,
     "metadata": {},
     "output_type": "execute_result"
    }
   ],
   "source": [
    "data_group_pais = data.groupby(data.pais_residencia_si_extranjero)\n",
    "data_group_pais.size()"
   ]
  },
  {
   "cell_type": "code",
   "execution_count": 50,
   "metadata": {},
   "outputs": [],
   "source": [
    "data_paises_frequentes = data_group_pais.filter(lambda grp: grp[\"pasajeros\"].sum() > 1000)"
   ]
  },
  {
   "cell_type": "markdown",
   "metadata": {},
   "source": [
    "Tamanho antes do filtro (também estamos contando registros que têm nulos em pais_residencia_si_extranjero):"
   ]
  },
  {
   "cell_type": "code",
   "execution_count": 51,
   "metadata": {},
   "outputs": [
    {
     "data": {
      "text/plain": [
       "(174812, 20)"
      ]
     },
     "execution_count": 51,
     "metadata": {},
     "output_type": "execute_result"
    }
   ],
   "source": [
    "data.shape"
   ]
  },
  {
   "cell_type": "markdown",
   "metadata": {},
   "source": [
    "Tamanho após o filtro (apenas registros não nulos no campo pais_residencia_si_extranjero):"
   ]
  },
  {
   "cell_type": "code",
   "execution_count": 52,
   "metadata": {},
   "outputs": [
    {
     "data": {
      "text/plain": [
       "(98093, 20)"
      ]
     },
     "execution_count": 52,
     "metadata": {},
     "output_type": "execute_result"
    }
   ],
   "source": [
    "data_paises_frequentes.shape"
   ]
  },
  {
   "cell_type": "markdown",
   "metadata": {},
   "source": [
    "Outra maneira de calcular os tamanhos antes do filtro:\n",
    "\n",
    "(apenas registros que não são nulos no campo pais_residencia_si_extranjero)"
   ]
  },
  {
   "cell_type": "code",
   "execution_count": 53,
   "metadata": {},
   "outputs": [
    {
     "data": {
      "text/plain": [
       "100107"
      ]
     },
     "execution_count": 53,
     "metadata": {},
     "output_type": "execute_result"
    }
   ],
   "source": [
    "data_group_pais.size().sum()"
   ]
  },
  {
   "cell_type": "markdown",
   "metadata": {},
   "source": [
    "#### Apply\n",
    "\n",
    "Podemos avaliar/aplicar funções em grupos usando [`apply`](https://pandas.pydata.org/pandas-docs/stable/user_guide/groupby.html#flexible-apply).\n",
    "\n",
    "Vejamos um exemplo em que aplicamos o método [`pandas.core.groupby.DataFrameGroupBy.describe()`](https://pandas.pydata.org/pandas-docs/stable/reference/api/pandas.core.groupby.DataFrameGroupBy.describe.html) em cada um dos grupos por país."
   ]
  },
  {
   "cell_type": "code",
   "execution_count": 54,
   "metadata": {},
   "outputs": [
    {
     "data": {
      "text/html": [
       "<div>\n",
       "<style scoped>\n",
       "    .dataframe tbody tr th:only-of-type {\n",
       "        vertical-align: middle;\n",
       "    }\n",
       "\n",
       "    .dataframe tbody tr th {\n",
       "        vertical-align: top;\n",
       "    }\n",
       "\n",
       "    .dataframe thead th {\n",
       "        text-align: right;\n",
       "    }\n",
       "</style>\n",
       "<table border=\"1\" class=\"dataframe\">\n",
       "  <thead>\n",
       "    <tr style=\"text-align: right;\">\n",
       "      <th></th>\n",
       "      <th></th>\n",
       "      <th>id</th>\n",
       "      <th>pasajeros</th>\n",
       "      <th>pernoctaciones</th>\n",
       "    </tr>\n",
       "    <tr>\n",
       "      <th>pais_residencia_si_extranjero</th>\n",
       "      <th></th>\n",
       "      <th></th>\n",
       "      <th></th>\n",
       "      <th></th>\n",
       "    </tr>\n",
       "  </thead>\n",
       "  <tbody>\n",
       "    <tr>\n",
       "      <th rowspan=\"5\" valign=\"top\">Alemania</th>\n",
       "      <th>count</th>\n",
       "      <td>3564.000000</td>\n",
       "      <td>3564.000000</td>\n",
       "      <td>2499.000000</td>\n",
       "    </tr>\n",
       "    <tr>\n",
       "      <th>mean</th>\n",
       "      <td>84098.060045</td>\n",
       "      <td>2.038440</td>\n",
       "      <td>8.126851</td>\n",
       "    </tr>\n",
       "    <tr>\n",
       "      <th>std</th>\n",
       "      <td>50825.300317</td>\n",
       "      <td>1.436243</td>\n",
       "      <td>27.589412</td>\n",
       "    </tr>\n",
       "    <tr>\n",
       "      <th>min</th>\n",
       "      <td>49.000000</td>\n",
       "      <td>1.000000</td>\n",
       "      <td>0.000000</td>\n",
       "    </tr>\n",
       "    <tr>\n",
       "      <th>25%</th>\n",
       "      <td>30424.500000</td>\n",
       "      <td>1.000000</td>\n",
       "      <td>3.000000</td>\n",
       "    </tr>\n",
       "    <tr>\n",
       "      <th>...</th>\n",
       "      <th>...</th>\n",
       "      <td>...</td>\n",
       "      <td>...</td>\n",
       "      <td>...</td>\n",
       "    </tr>\n",
       "    <tr>\n",
       "      <th rowspan=\"5\" valign=\"top\">Venezuela</th>\n",
       "      <th>min</th>\n",
       "      <td>78.000000</td>\n",
       "      <td>1.000000</td>\n",
       "      <td>0.000000</td>\n",
       "    </tr>\n",
       "    <tr>\n",
       "      <th>25%</th>\n",
       "      <td>43255.000000</td>\n",
       "      <td>1.000000</td>\n",
       "      <td>3.000000</td>\n",
       "    </tr>\n",
       "    <tr>\n",
       "      <th>50%</th>\n",
       "      <td>83076.000000</td>\n",
       "      <td>2.000000</td>\n",
       "      <td>5.000000</td>\n",
       "    </tr>\n",
       "    <tr>\n",
       "      <th>75%</th>\n",
       "      <td>132194.000000</td>\n",
       "      <td>2.000000</td>\n",
       "      <td>15.000000</td>\n",
       "    </tr>\n",
       "    <tr>\n",
       "      <th>max</th>\n",
       "      <td>174759.000000</td>\n",
       "      <td>12.000000</td>\n",
       "      <td>670.000000</td>\n",
       "    </tr>\n",
       "  </tbody>\n",
       "</table>\n",
       "<p>288 rows × 3 columns</p>\n",
       "</div>"
      ],
      "text/plain": [
       "                                                id    pasajeros  \\\n",
       "pais_residencia_si_extranjero                                     \n",
       "Alemania                      count    3564.000000  3564.000000   \n",
       "                              mean    84098.060045     2.038440   \n",
       "                              std     50825.300317     1.436243   \n",
       "                              min        49.000000     1.000000   \n",
       "                              25%     30424.500000     1.000000   \n",
       "...                                            ...          ...   \n",
       "Venezuela                     min        78.000000     1.000000   \n",
       "                              25%     43255.000000     1.000000   \n",
       "                              50%     83076.000000     2.000000   \n",
       "                              75%    132194.000000     2.000000   \n",
       "                              max    174759.000000    12.000000   \n",
       "\n",
       "                                     pernoctaciones  \n",
       "pais_residencia_si_extranjero                        \n",
       "Alemania                      count     2499.000000  \n",
       "                              mean         8.126851  \n",
       "                              std         27.589412  \n",
       "                              min          0.000000  \n",
       "                              25%          3.000000  \n",
       "...                                             ...  \n",
       "Venezuela                     min          0.000000  \n",
       "                              25%          3.000000  \n",
       "                              50%          5.000000  \n",
       "                              75%         15.000000  \n",
       "                              max        670.000000  \n",
       "\n",
       "[288 rows x 3 columns]"
      ]
     },
     "execution_count": 54,
     "metadata": {},
     "output_type": "execute_result"
    }
   ],
   "source": [
    "data_group_pais = data.groupby(data.pais_residencia_si_extranjero)\n",
    "data_group_pais.apply(lambda grp: grp.describe())"
   ]
  },
  {
   "cell_type": "markdown",
   "metadata": {},
   "source": [
    "#### Referências\n",
    "\n",
    "Python for Data Analysis. Wes McKinney. Cap 10\n",
    "\n",
    "- [Group by: split-apply-combine](https://pandas.pydata.org/pandas-docs/stable/user_guide/groupby.html)\n",
    "\n",
    "- [Grouping](https://pandas.pydata.org/pandas-docs/stable/user_guide/cookbook.html#cookbook-grouping)"
   ]
  },
  {
   "cell_type": "code",
   "execution_count": null,
   "metadata": {},
   "outputs": [],
   "source": []
  }
 ],
 "metadata": {
  "kernelspec": {
   "display_name": "Python 3",
   "language": "python",
   "name": "python3"
  },
  "language_info": {
   "codemirror_mode": {
    "name": "ipython",
    "version": 3
   },
   "file_extension": ".py",
   "mimetype": "text/x-python",
   "name": "python",
   "nbconvert_exporter": "python",
   "pygments_lexer": "ipython3",
   "version": "3.9.6"
  }
 },
 "nbformat": 4,
 "nbformat_minor": 4
}
