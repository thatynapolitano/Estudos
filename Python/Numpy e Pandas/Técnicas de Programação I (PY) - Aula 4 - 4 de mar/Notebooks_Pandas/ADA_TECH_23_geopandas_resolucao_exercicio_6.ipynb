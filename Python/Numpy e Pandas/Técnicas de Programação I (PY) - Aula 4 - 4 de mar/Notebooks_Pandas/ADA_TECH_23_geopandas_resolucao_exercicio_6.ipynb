{
 "cells": [
  {
   "cell_type": "markdown",
   "metadata": {},
   "source": [
    "<img src='letscodebr_cover.jpeg' align='left' width=100%/>"
   ]
  },
  {
   "cell_type": "markdown",
   "metadata": {},
   "source": [
    "# Ada Tech [DS-PY-004] Técnicas de Programação I (PY) Aulas 4 e 5 : GeoPandas - Resolução do Exercício 6."
   ]
  },
  {
   "cell_type": "markdown",
   "metadata": {},
   "source": [
    "## Conjuntos de dados\n",
    "\n",
    "Na prática de aula de hoje, usaremos um **conjunto de propriedades** que a imobiliária [Properati](https://www.properati.com.ar/) tem à venda. O interessante é que aos dados clássicos da propriedade (valor, superfície, vizinhança, tipo de propriedade), adiciona-se a posição geoespacial através de sua latitude e longitude.\n",
    "\n",
    "Por outro lado, vamos considerar as **estações de metrô**, onde também aparecem o nome e a linha a que pertence, e também, obviamente, seus dados de posição geográfica."
   ]
  },
  {
   "cell_type": "markdown",
   "metadata": {},
   "source": [
    "## Exercício\n",
    "\n",
    "Começamos lendo os dois conjuntos de dados em um `dataframe` e os transformamos em um `GeoDataFrame`. É o tipo de dado que o `GeoPandas` necessita para realizar operações com dados geoespaciais.\n",
    "\n",
    "Então vamos calcular a distância de cada propriedade até o obelisco de Buenos Aires, e isso será registrado em uma nova coluna. Faremos um cálculo para ver se existe alguma relação entre essa distância e o preço do imóvel.\n",
    "\n",
    "Finalmente desenharemos uma linha geométrica com todas as estações de metrô de uma linha, e faremos um gráfico sobre a cidade."
   ]
  },
  {
   "cell_type": "markdown",
   "metadata": {},
   "source": [
    "Importamos as bibliotecas de que vamos precisar:"
   ]
  },
  {
   "cell_type": "code",
   "execution_count": 52,
   "metadata": {},
   "outputs": [],
   "source": [
    "import pandas as pd\n",
    "import geopandas as gpd\n",
    "import matplotlib.pyplot as plt\n",
    "\n",
    "import shapely # gera as figuras geométricas\n",
    "import descartes # relacionar-se bem com matplotlib\n",
    "import pyproj # projeções. Transformação de Coordenadas"
   ]
  },
  {
   "cell_type": "markdown",
   "metadata": {},
   "source": [
    "### Parte 1 - Arquivo de Propriedades"
   ]
  },
  {
   "cell_type": "markdown",
   "metadata": {},
   "source": [
    "Vamos ler os dados do arquivo \"../Data/Real_State_Properati.csv\" em um `DataFrame` do pandas com o método [`pandas.read_csv()`](https://pandas.pydata.org/pandas-docs/stable/reference/api/pandas.read_csv.html), instanciando o objeto `df_prop`.\n",
    "\n",
    "**Nota**: os dados são separados por tabulações. O parâmetro [`sep = '\\ t'`](https://www.ti-enxame.com/pt/python/o-que-impressao-...-sep-t-significa/1045309866/) deve ser usado."
   ]
  },
  {
   "cell_type": "code",
   "execution_count": 53,
   "metadata": {},
   "outputs": [],
   "source": [
    "data_location = \"../Data/Real_State_Properati.csv\"\n",
    "\n",
    "df_prop = pd.read_csv(data_location, \n",
    "                      sep = '\\t' \n",
    "                     )"
   ]
  },
  {
   "cell_type": "markdown",
   "metadata": {},
   "source": [
    "- 1.a. Tomamos uma amostra de 5 elementos."
   ]
  },
  {
   "cell_type": "code",
   "execution_count": 54,
   "metadata": {},
   "outputs": [
    {
     "data": {
      "text/html": [
       "<div>\n",
       "<style scoped>\n",
       "    .dataframe tbody tr th:only-of-type {\n",
       "        vertical-align: middle;\n",
       "    }\n",
       "\n",
       "    .dataframe tbody tr th {\n",
       "        vertical-align: top;\n",
       "    }\n",
       "\n",
       "    .dataframe thead th {\n",
       "        text-align: right;\n",
       "    }\n",
       "</style>\n",
       "<table border=\"1\" class=\"dataframe\">\n",
       "  <thead>\n",
       "    <tr style=\"text-align: right;\">\n",
       "      <th></th>\n",
       "      <th>property_type</th>\n",
       "      <th>place_name</th>\n",
       "      <th>country_name</th>\n",
       "      <th>state_name</th>\n",
       "      <th>lat</th>\n",
       "      <th>lon</th>\n",
       "      <th>price</th>\n",
       "      <th>currency</th>\n",
       "      <th>surface_total_in_m2</th>\n",
       "    </tr>\n",
       "  </thead>\n",
       "  <tbody>\n",
       "    <tr>\n",
       "      <th>11950</th>\n",
       "      <td>apartment</td>\n",
       "      <td>Palermo</td>\n",
       "      <td>Argentina</td>\n",
       "      <td>Capital Federal</td>\n",
       "      <td>-34.576346</td>\n",
       "      <td>-58.424262</td>\n",
       "      <td>248000.0</td>\n",
       "      <td>USD</td>\n",
       "      <td>64.0</td>\n",
       "    </tr>\n",
       "    <tr>\n",
       "      <th>11569</th>\n",
       "      <td>apartment</td>\n",
       "      <td>Villa Crespo</td>\n",
       "      <td>Argentina</td>\n",
       "      <td>Capital Federal</td>\n",
       "      <td>-34.603666</td>\n",
       "      <td>-58.440697</td>\n",
       "      <td>92500.0</td>\n",
       "      <td>USD</td>\n",
       "      <td>44.0</td>\n",
       "    </tr>\n",
       "    <tr>\n",
       "      <th>12735</th>\n",
       "      <td>store</td>\n",
       "      <td>Palermo</td>\n",
       "      <td>Argentina</td>\n",
       "      <td>Capital Federal</td>\n",
       "      <td>-34.578598</td>\n",
       "      <td>-58.435553</td>\n",
       "      <td>620000.0</td>\n",
       "      <td>USD</td>\n",
       "      <td>283.0</td>\n",
       "    </tr>\n",
       "    <tr>\n",
       "      <th>13017</th>\n",
       "      <td>apartment</td>\n",
       "      <td>Recoleta</td>\n",
       "      <td>Argentina</td>\n",
       "      <td>Capital Federal</td>\n",
       "      <td>-34.590930</td>\n",
       "      <td>-58.386928</td>\n",
       "      <td>95000.0</td>\n",
       "      <td>USD</td>\n",
       "      <td>22.0</td>\n",
       "    </tr>\n",
       "    <tr>\n",
       "      <th>15413</th>\n",
       "      <td>apartment</td>\n",
       "      <td>Palermo Soho</td>\n",
       "      <td>Argentina</td>\n",
       "      <td>Capital Federal</td>\n",
       "      <td>-34.590135</td>\n",
       "      <td>-58.432098</td>\n",
       "      <td>343000.0</td>\n",
       "      <td>USD</td>\n",
       "      <td>122.0</td>\n",
       "    </tr>\n",
       "  </tbody>\n",
       "</table>\n",
       "</div>"
      ],
      "text/plain": [
       "      property_type    place_name country_name       state_name        lat  \\\n",
       "11950     apartment       Palermo    Argentina  Capital Federal -34.576346   \n",
       "11569     apartment  Villa Crespo    Argentina  Capital Federal -34.603666   \n",
       "12735         store       Palermo    Argentina  Capital Federal -34.578598   \n",
       "13017     apartment      Recoleta    Argentina  Capital Federal -34.590930   \n",
       "15413     apartment  Palermo Soho    Argentina  Capital Federal -34.590135   \n",
       "\n",
       "             lon     price currency  surface_total_in_m2  \n",
       "11950 -58.424262  248000.0      USD                 64.0  \n",
       "11569 -58.440697   92500.0      USD                 44.0  \n",
       "12735 -58.435553  620000.0      USD                283.0  \n",
       "13017 -58.386928   95000.0      USD                 22.0  \n",
       "15413 -58.432098  343000.0      USD                122.0  "
      ]
     },
     "execution_count": 54,
     "metadata": {},
     "output_type": "execute_result"
    }
   ],
   "source": [
    "# 1.a\n",
    "df_prop.sample(5)"
   ]
  },
  {
   "cell_type": "markdown",
   "metadata": {},
   "source": [
    "- 1 b. Quantas propriedades existem? Quantas são as colunas?"
   ]
  },
  {
   "cell_type": "code",
   "execution_count": 55,
   "metadata": {},
   "outputs": [
    {
     "data": {
      "text/plain": [
       "(17223, 9)"
      ]
     },
     "execution_count": 55,
     "metadata": {},
     "output_type": "execute_result"
    }
   ],
   "source": [
    "# 1.b\n",
    "df_prop.shape"
   ]
  },
  {
   "cell_type": "markdown",
   "metadata": {},
   "source": [
    "- 1 C. Quais são as colunas? Que tipo de dados elas têm?"
   ]
  },
  {
   "cell_type": "code",
   "execution_count": 56,
   "metadata": {},
   "outputs": [
    {
     "data": {
      "text/plain": [
       "property_type           object\n",
       "place_name              object\n",
       "country_name            object\n",
       "state_name              object\n",
       "lat                    float64\n",
       "lon                    float64\n",
       "price                  float64\n",
       "currency                object\n",
       "surface_total_in_m2    float64\n",
       "dtype: object"
      ]
     },
     "execution_count": 56,
     "metadata": {},
     "output_type": "execute_result"
    }
   ],
   "source": [
    "# 1.c\n",
    "df_prop.dtypes"
   ]
  },
  {
   "cell_type": "code",
   "execution_count": 57,
   "metadata": {},
   "outputs": [
    {
     "name": "stdout",
     "output_type": "stream",
     "text": [
      "<class 'pandas.core.frame.DataFrame'>\n",
      "RangeIndex: 17223 entries, 0 to 17222\n",
      "Data columns (total 9 columns):\n",
      " #   Column               Non-Null Count  Dtype  \n",
      "---  ------               --------------  -----  \n",
      " 0   property_type        17223 non-null  object \n",
      " 1   place_name           17223 non-null  object \n",
      " 2   country_name         17223 non-null  object \n",
      " 3   state_name           17223 non-null  object \n",
      " 4   lat                  17223 non-null  float64\n",
      " 5   lon                  17223 non-null  float64\n",
      " 6   price                17223 non-null  float64\n",
      " 7   currency             17223 non-null  object \n",
      " 8   surface_total_in_m2  17223 non-null  float64\n",
      "dtypes: float64(4), object(5)\n",
      "memory usage: 1.2+ MB\n"
     ]
    }
   ],
   "source": [
    "# 1.c. Otra\n",
    "df_prop.info()"
   ]
  },
  {
   "cell_type": "markdown",
   "metadata": {},
   "source": [
    "- 1.d. Quantas propriedades existem por bairro? A vizinhança está listada na coluna `place_name`.\n",
    "\n",
    "Dica: Você pode aplicar o método [`pandas.Series.value_counts()`](https://pandas.pydata.org/pandas-docs/stable/reference/api/pandas.Series.value_counts.html?highlight=value_counts#pandas.Series.value_counts)."
   ]
  },
  {
   "cell_type": "code",
   "execution_count": 58,
   "metadata": {},
   "outputs": [
    {
     "data": {
      "text/plain": [
       "place_name\n",
       "Palermo            1502\n",
       "Belgrano           1496\n",
       "Caballito          1389\n",
       "Recoleta           1001\n",
       "Flores              893\n",
       "                   ... \n",
       "Parque Chas          15\n",
       "Palermo Viejo        10\n",
       "Villa Soldati         7\n",
       "Villa Riachuelo       3\n",
       "Catalinas             1\n",
       "Name: count, Length: 62, dtype: int64"
      ]
     },
     "execution_count": 58,
     "metadata": {},
     "output_type": "execute_result"
    }
   ],
   "source": [
    "# 1.d.\n",
    "bairros = df_prop[\"place_name\"]\n",
    "bairros.value_counts()"
   ]
  },
  {
   "cell_type": "code",
   "execution_count": 59,
   "metadata": {},
   "outputs": [
    {
     "data": {
      "text/plain": [
       "place_name\n",
       "Abasto               59\n",
       "Agronomía            25\n",
       "Almagro             755\n",
       "Balvanera           426\n",
       "Barracas            309\n",
       "                   ... \n",
       "Villa Riachuelo       3\n",
       "Villa Santa Rita     26\n",
       "Villa Soldati         7\n",
       "Villa Urquiza       774\n",
       "Villa del Parque    215\n",
       "Name: price, Length: 62, dtype: int64"
      ]
     },
     "execution_count": 59,
     "metadata": {},
     "output_type": "execute_result"
    }
   ],
   "source": [
    "# 1.d. Outra forma\n",
    "grouped = df_prop['price'].groupby(df_prop['place_name'])\n",
    "grouped.count()"
   ]
  },
  {
   "cell_type": "code",
   "execution_count": 60,
   "metadata": {},
   "outputs": [
    {
     "data": {
      "text/html": [
       "<div>\n",
       "<style scoped>\n",
       "    .dataframe tbody tr th:only-of-type {\n",
       "        vertical-align: middle;\n",
       "    }\n",
       "\n",
       "    .dataframe tbody tr th {\n",
       "        vertical-align: top;\n",
       "    }\n",
       "\n",
       "    .dataframe thead th {\n",
       "        text-align: right;\n",
       "    }\n",
       "</style>\n",
       "<table border=\"1\" class=\"dataframe\">\n",
       "  <thead>\n",
       "    <tr style=\"text-align: right;\">\n",
       "      <th></th>\n",
       "      <th>price</th>\n",
       "    </tr>\n",
       "    <tr>\n",
       "      <th>place_name</th>\n",
       "      <th></th>\n",
       "    </tr>\n",
       "  </thead>\n",
       "  <tbody>\n",
       "    <tr>\n",
       "      <th>Abasto</th>\n",
       "      <td>59</td>\n",
       "    </tr>\n",
       "    <tr>\n",
       "      <th>Agronomía</th>\n",
       "      <td>25</td>\n",
       "    </tr>\n",
       "    <tr>\n",
       "      <th>Almagro</th>\n",
       "      <td>755</td>\n",
       "    </tr>\n",
       "    <tr>\n",
       "      <th>Balvanera</th>\n",
       "      <td>426</td>\n",
       "    </tr>\n",
       "    <tr>\n",
       "      <th>Barracas</th>\n",
       "      <td>309</td>\n",
       "    </tr>\n",
       "    <tr>\n",
       "      <th>...</th>\n",
       "      <td>...</td>\n",
       "    </tr>\n",
       "    <tr>\n",
       "      <th>Villa Riachuelo</th>\n",
       "      <td>3</td>\n",
       "    </tr>\n",
       "    <tr>\n",
       "      <th>Villa Santa Rita</th>\n",
       "      <td>26</td>\n",
       "    </tr>\n",
       "    <tr>\n",
       "      <th>Villa Soldati</th>\n",
       "      <td>7</td>\n",
       "    </tr>\n",
       "    <tr>\n",
       "      <th>Villa Urquiza</th>\n",
       "      <td>774</td>\n",
       "    </tr>\n",
       "    <tr>\n",
       "      <th>Villa del Parque</th>\n",
       "      <td>215</td>\n",
       "    </tr>\n",
       "  </tbody>\n",
       "</table>\n",
       "<p>62 rows × 1 columns</p>\n",
       "</div>"
      ],
      "text/plain": [
       "                  price\n",
       "place_name             \n",
       "Abasto               59\n",
       "Agronomía            25\n",
       "Almagro             755\n",
       "Balvanera           426\n",
       "Barracas            309\n",
       "...                 ...\n",
       "Villa Riachuelo       3\n",
       "Villa Santa Rita     26\n",
       "Villa Soldati         7\n",
       "Villa Urquiza       774\n",
       "Villa del Parque    215\n",
       "\n",
       "[62 rows x 1 columns]"
      ]
     },
     "execution_count": 60,
     "metadata": {},
     "output_type": "execute_result"
    }
   ],
   "source": [
    "# 1.d. Outra forma parecida\n",
    "df_prop.groupby(['place_name'])[['price']].count()"
   ]
  },
  {
   "cell_type": "markdown",
   "metadata": {},
   "source": [
    "- 1.e. As colunas `lat` e `lon` identificam a latitude e longitude da posição geoespacial das propriedades. Mas precisamos que a posição seja expressa pela forma geométrica Point, para podermos trabalhá-la a partir do GeoPandas.\n",
    "\n",
    "Em outras palavras, devemos transformar o `DataFrame` em um `GeoDataFrame`. Vamos instanciar o objeto `geo_prop`. Mas para gerar um `GeoDataFrame`, precisamos adicionar uma nova coluna contendo uma forma geométrica às colunas do `DataFrame`. Nesse caso, um `ponto`, que é gerado a partir de latitude e longitude. Recomenda-se que a nova coluna seja nomeada `geometry`. Fazemos isso com o método [`geopandas.points_from_xy()`](https://geopandas.org/docs/reference/api/geopandas.points_from_xy.html).\n",
    "\n",
    "*Observe* que para definir o tipo *ponto*, inserimos a **longitude** e a **latitude**."
   ]
  },
  {
   "cell_type": "code",
   "execution_count": 61,
   "metadata": {
    "colab": {
     "base_uri": "https://localhost:8080/",
     "height": 289
    },
    "colab_type": "code",
    "executionInfo": {
     "elapsed": 830,
     "status": "ok",
     "timestamp": 1567641541793,
     "user": {
      "displayName": "Julián Ansaldo",
      "photoUrl": "https://lh3.googleusercontent.com/a-/AAuE7mCQI0iy6sTR9TfuLMfXZ90XCqxfdAQtMEcBkjfs1w=s64",
      "userId": "10643095115217147090"
     },
     "user_tz": 180
    },
    "id": "vRpX0jS6G_x5",
    "outputId": "178eafb8-17f3-4205-fcbe-9368fbd51efa",
    "slideshow": {
     "slide_type": "fragment"
    }
   },
   "outputs": [],
   "source": [
    "# 1.e\n",
    "geometria = gpd.points_from_xy(df_prop['lon'], \n",
    "                               df_prop['lat']\n",
    "                              )\n",
    "geo_prop = gpd.GeoDataFrame(df_prop, \n",
    "                            geometry = geometria\n",
    "                           )"
   ]
  },
  {
   "cell_type": "code",
   "execution_count": 62,
   "metadata": {
    "colab": {
     "base_uri": "https://localhost:8080/",
     "height": 289
    },
    "colab_type": "code",
    "executionInfo": {
     "elapsed": 830,
     "status": "ok",
     "timestamp": 1567641541793,
     "user": {
      "displayName": "Julián Ansaldo",
      "photoUrl": "https://lh3.googleusercontent.com/a-/AAuE7mCQI0iy6sTR9TfuLMfXZ90XCqxfdAQtMEcBkjfs1w=s64",
      "userId": "10643095115217147090"
     },
     "user_tz": 180
    },
    "id": "vRpX0jS6G_x5",
    "outputId": "178eafb8-17f3-4205-fcbe-9368fbd51efa",
    "slideshow": {
     "slide_type": "fragment"
    }
   },
   "outputs": [],
   "source": [
    "# 1.e. Outra forma\n",
    "geo_prop1 = gpd.GeoDataFrame(df_prop, \n",
    "                             geometry = gpd.points_from_xy(df_prop.lon, \n",
    "                                                          df_prop.lat\n",
    "                                                         )\n",
    "                            )"
   ]
  },
  {
   "cell_type": "markdown",
   "metadata": {},
   "source": [
    "Verificamos a nova coluna observando as primeiras linhas."
   ]
  },
  {
   "cell_type": "code",
   "execution_count": 63,
   "metadata": {
    "colab": {
     "base_uri": "https://localhost:8080/",
     "height": 289
    },
    "colab_type": "code",
    "executionInfo": {
     "elapsed": 830,
     "status": "ok",
     "timestamp": 1567641541793,
     "user": {
      "displayName": "Julián Ansaldo",
      "photoUrl": "https://lh3.googleusercontent.com/a-/AAuE7mCQI0iy6sTR9TfuLMfXZ90XCqxfdAQtMEcBkjfs1w=s64",
      "userId": "10643095115217147090"
     },
     "user_tz": 180
    },
    "id": "vRpX0jS6G_x5",
    "outputId": "178eafb8-17f3-4205-fcbe-9368fbd51efa",
    "slideshow": {
     "slide_type": "fragment"
    }
   },
   "outputs": [
    {
     "data": {
      "text/html": [
       "<div>\n",
       "<style scoped>\n",
       "    .dataframe tbody tr th:only-of-type {\n",
       "        vertical-align: middle;\n",
       "    }\n",
       "\n",
       "    .dataframe tbody tr th {\n",
       "        vertical-align: top;\n",
       "    }\n",
       "\n",
       "    .dataframe thead th {\n",
       "        text-align: right;\n",
       "    }\n",
       "</style>\n",
       "<table border=\"1\" class=\"dataframe\">\n",
       "  <thead>\n",
       "    <tr style=\"text-align: right;\">\n",
       "      <th></th>\n",
       "      <th>geometry</th>\n",
       "      <th>lat</th>\n",
       "      <th>lon</th>\n",
       "      <th>property_type</th>\n",
       "      <th>place_name</th>\n",
       "    </tr>\n",
       "  </thead>\n",
       "  <tbody>\n",
       "    <tr>\n",
       "      <th>0</th>\n",
       "      <td>POINT (-58.50884 -34.66182)</td>\n",
       "      <td>-34.661824</td>\n",
       "      <td>-58.508839</td>\n",
       "      <td>PH</td>\n",
       "      <td>Mataderos</td>\n",
       "    </tr>\n",
       "    <tr>\n",
       "      <th>1</th>\n",
       "      <td>POINT (-58.52298 -34.65226)</td>\n",
       "      <td>-34.652262</td>\n",
       "      <td>-58.522982</td>\n",
       "      <td>apartment</td>\n",
       "      <td>Mataderos</td>\n",
       "    </tr>\n",
       "    <tr>\n",
       "      <th>2</th>\n",
       "      <td>POINT (-58.44336 -34.55987)</td>\n",
       "      <td>-34.559873</td>\n",
       "      <td>-58.443362</td>\n",
       "      <td>apartment</td>\n",
       "      <td>Belgrano</td>\n",
       "    </tr>\n",
       "    <tr>\n",
       "      <th>3</th>\n",
       "      <td>POINT (-58.44336 -34.55987)</td>\n",
       "      <td>-34.559873</td>\n",
       "      <td>-58.443362</td>\n",
       "      <td>apartment</td>\n",
       "      <td>Belgrano</td>\n",
       "    </tr>\n",
       "    <tr>\n",
       "      <th>4</th>\n",
       "      <td>POINT (-58.50162 -34.65236)</td>\n",
       "      <td>-34.652356</td>\n",
       "      <td>-58.501624</td>\n",
       "      <td>PH</td>\n",
       "      <td>Mataderos</td>\n",
       "    </tr>\n",
       "  </tbody>\n",
       "</table>\n",
       "</div>"
      ],
      "text/plain": [
       "                      geometry        lat        lon property_type place_name\n",
       "0  POINT (-58.50884 -34.66182) -34.661824 -58.508839            PH  Mataderos\n",
       "1  POINT (-58.52298 -34.65226) -34.652262 -58.522982     apartment  Mataderos\n",
       "2  POINT (-58.44336 -34.55987) -34.559873 -58.443362     apartment   Belgrano\n",
       "3  POINT (-58.44336 -34.55987) -34.559873 -58.443362     apartment   Belgrano\n",
       "4  POINT (-58.50162 -34.65236) -34.652356 -58.501624            PH  Mataderos"
      ]
     },
     "execution_count": 63,
     "metadata": {},
     "output_type": "execute_result"
    }
   ],
   "source": [
    "# 1.e\n",
    "geo_prop.loc[:4, ['geometry', 'lat', 'lon','property_type','place_name']]"
   ]
  },
  {
   "cell_type": "markdown",
   "metadata": {},
   "source": [
    "### Parte 2 - Arquivo da estação de metrô"
   ]
  },
  {
   "cell_type": "markdown",
   "metadata": {},
   "source": [
    "Vamos ler os dados do arquivo \"../Data/estaciones-de-subte.csv\" em um `DataFrame` do pandas com o método [`pandas.read_csv()`](https://pandas.pydata.org/docs/reference/api/pandas.read_csv.html). Vamos instanciar o objeto `df_subte`.\n",
    "\n",
    "**Nota**: Os dados são separados por vírgulas. O parâmetro `sep = ','` deve ser usado."
   ]
  },
  {
   "cell_type": "code",
   "execution_count": 64,
   "metadata": {},
   "outputs": [],
   "source": [
    "data_location = \"../Data/metro-BA.csv\"\n",
    "\n",
    "df_subte = pd.read_csv(data_location, sep = ',')"
   ]
  },
  {
   "cell_type": "markdown",
   "metadata": {},
   "source": [
    "- 2.a. Consultamos os primeiros $10$ registros."
   ]
  },
  {
   "cell_type": "code",
   "execution_count": 65,
   "metadata": {},
   "outputs": [
    {
     "data": {
      "text/html": [
       "<div>\n",
       "<style scoped>\n",
       "    .dataframe tbody tr th:only-of-type {\n",
       "        vertical-align: middle;\n",
       "    }\n",
       "\n",
       "    .dataframe tbody tr th {\n",
       "        vertical-align: top;\n",
       "    }\n",
       "\n",
       "    .dataframe thead th {\n",
       "        text-align: right;\n",
       "    }\n",
       "</style>\n",
       "<table border=\"1\" class=\"dataframe\">\n",
       "  <thead>\n",
       "    <tr style=\"text-align: right;\">\n",
       "      <th></th>\n",
       "      <th>lon</th>\n",
       "      <th>lat</th>\n",
       "      <th>id</th>\n",
       "      <th>est</th>\n",
       "      <th>lin</th>\n",
       "    </tr>\n",
       "  </thead>\n",
       "  <tbody>\n",
       "    <tr>\n",
       "      <th>0</th>\n",
       "      <td>-58.398928</td>\n",
       "      <td>-34.635750</td>\n",
       "      <td>1.0</td>\n",
       "      <td>CASEROS</td>\n",
       "      <td>H</td>\n",
       "    </tr>\n",
       "    <tr>\n",
       "      <th>1</th>\n",
       "      <td>-58.400970</td>\n",
       "      <td>-34.629376</td>\n",
       "      <td>2.0</td>\n",
       "      <td>INCLAN - MEZQUITA AL AHMAD</td>\n",
       "      <td>H</td>\n",
       "    </tr>\n",
       "    <tr>\n",
       "      <th>2</th>\n",
       "      <td>-58.402323</td>\n",
       "      <td>-34.623092</td>\n",
       "      <td>3.0</td>\n",
       "      <td>HUMBERTO 1°</td>\n",
       "      <td>H</td>\n",
       "    </tr>\n",
       "    <tr>\n",
       "      <th>3</th>\n",
       "      <td>-58.404732</td>\n",
       "      <td>-34.615242</td>\n",
       "      <td>4.0</td>\n",
       "      <td>VENEZUELA</td>\n",
       "      <td>H</td>\n",
       "    </tr>\n",
       "    <tr>\n",
       "      <th>4</th>\n",
       "      <td>-58.406036</td>\n",
       "      <td>-34.608935</td>\n",
       "      <td>5.0</td>\n",
       "      <td>ONCE - 30 DE DICIEMBRE</td>\n",
       "      <td>H</td>\n",
       "    </tr>\n",
       "    <tr>\n",
       "      <th>5</th>\n",
       "      <td>-58.380574</td>\n",
       "      <td>-34.604245</td>\n",
       "      <td>6.0</td>\n",
       "      <td>9 DE JULIO</td>\n",
       "      <td>D</td>\n",
       "    </tr>\n",
       "    <tr>\n",
       "      <th>6</th>\n",
       "      <td>-58.397924</td>\n",
       "      <td>-34.599757</td>\n",
       "      <td>7.0</td>\n",
       "      <td>FACULTAD DE MEDICINA</td>\n",
       "      <td>D</td>\n",
       "    </tr>\n",
       "    <tr>\n",
       "      <th>7</th>\n",
       "      <td>-58.385142</td>\n",
       "      <td>-34.601587</td>\n",
       "      <td>8.0</td>\n",
       "      <td>TRIBUNALES - TEATRO COLÓN</td>\n",
       "      <td>D</td>\n",
       "    </tr>\n",
       "    <tr>\n",
       "      <th>8</th>\n",
       "      <td>-58.407161</td>\n",
       "      <td>-34.591628</td>\n",
       "      <td>9.0</td>\n",
       "      <td>AGÜERO</td>\n",
       "      <td>D</td>\n",
       "    </tr>\n",
       "    <tr>\n",
       "      <th>9</th>\n",
       "      <td>-58.415955</td>\n",
       "      <td>-34.585156</td>\n",
       "      <td>10.0</td>\n",
       "      <td>R.SCALABRINI ORTIZ</td>\n",
       "      <td>D</td>\n",
       "    </tr>\n",
       "  </tbody>\n",
       "</table>\n",
       "</div>"
      ],
      "text/plain": [
       "         lon        lat    id                         est lin\n",
       "0 -58.398928 -34.635750   1.0                     CASEROS   H\n",
       "1 -58.400970 -34.629376   2.0  INCLAN - MEZQUITA AL AHMAD   H\n",
       "2 -58.402323 -34.623092   3.0                 HUMBERTO 1°   H\n",
       "3 -58.404732 -34.615242   4.0                   VENEZUELA   H\n",
       "4 -58.406036 -34.608935   5.0      ONCE - 30 DE DICIEMBRE   H\n",
       "5 -58.380574 -34.604245   6.0                  9 DE JULIO   D\n",
       "6 -58.397924 -34.599757   7.0        FACULTAD DE MEDICINA   D\n",
       "7 -58.385142 -34.601587   8.0   TRIBUNALES - TEATRO COLÓN   D\n",
       "8 -58.407161 -34.591628   9.0                      AGÜERO   D\n",
       "9 -58.415955 -34.585156  10.0          R.SCALABRINI ORTIZ   D"
      ]
     },
     "execution_count": 65,
     "metadata": {},
     "output_type": "execute_result"
    }
   ],
   "source": [
    "#2.a.\n",
    "df_subte.head(10)"
   ]
  },
  {
   "cell_type": "markdown",
   "metadata": {},
   "source": [
    "- 2.b. Quantas estações existem? Quantas são as colunas?"
   ]
  },
  {
   "cell_type": "code",
   "execution_count": 66,
   "metadata": {},
   "outputs": [
    {
     "name": "stdout",
     "output_type": "stream",
     "text": [
      "estações: 90\n",
      "colunas: 5\n"
     ]
    }
   ],
   "source": [
    "# 2.b.\n",
    "print(\"estações: \" + str(df_subte.shape[0]))\n",
    "print(\"colunas: \" + str(df_subte.shape[1]))"
   ]
  },
  {
   "cell_type": "markdown",
   "metadata": {},
   "source": [
    "- 2 c. Quais são as colunas? Que tipo de dados são eles?"
   ]
  },
  {
   "cell_type": "code",
   "execution_count": 67,
   "metadata": {},
   "outputs": [
    {
     "data": {
      "text/plain": [
       "lon    float64\n",
       "lat    float64\n",
       "id     float64\n",
       "est     object\n",
       "lin     object\n",
       "dtype: object"
      ]
     },
     "execution_count": 67,
     "metadata": {},
     "output_type": "execute_result"
    }
   ],
   "source": [
    "# 2.c.\n",
    "df_subte.dtypes"
   ]
  },
  {
   "cell_type": "markdown",
   "metadata": {},
   "source": [
    "- 2.d. Quantas estações temos por linha?\n",
    "\n",
    "Dica: Similar ao punto 1.d"
   ]
  },
  {
   "cell_type": "code",
   "execution_count": 68,
   "metadata": {},
   "outputs": [
    {
     "data": {
      "text/plain": [
       "lin\n",
       "A    18\n",
       "E    18\n",
       "B    17\n",
       "D    16\n",
       "H    12\n",
       "C     9\n",
       "Name: count, dtype: int64"
      ]
     },
     "execution_count": 68,
     "metadata": {},
     "output_type": "execute_result"
    }
   ],
   "source": [
    "# 2.d.\n",
    "lineas = df_subte[\"lin\"]\n",
    "lineas.value_counts()"
   ]
  },
  {
   "cell_type": "code",
   "execution_count": 69,
   "metadata": {},
   "outputs": [
    {
     "data": {
      "text/plain": [
       "lin\n",
       "A    18\n",
       "B    17\n",
       "C     9\n",
       "D    16\n",
       "E    18\n",
       "H    12\n",
       "Name: id, dtype: int64"
      ]
     },
     "execution_count": 69,
     "metadata": {},
     "output_type": "execute_result"
    }
   ],
   "source": [
    "# 2.d. Outra forma\n",
    "grouped = df_subte['id'].groupby(df_subte['lin'])\n",
    "grouped.count()"
   ]
  },
  {
   "cell_type": "code",
   "execution_count": 70,
   "metadata": {},
   "outputs": [
    {
     "data": {
      "text/html": [
       "<div>\n",
       "<style scoped>\n",
       "    .dataframe tbody tr th:only-of-type {\n",
       "        vertical-align: middle;\n",
       "    }\n",
       "\n",
       "    .dataframe tbody tr th {\n",
       "        vertical-align: top;\n",
       "    }\n",
       "\n",
       "    .dataframe thead th {\n",
       "        text-align: right;\n",
       "    }\n",
       "</style>\n",
       "<table border=\"1\" class=\"dataframe\">\n",
       "  <thead>\n",
       "    <tr style=\"text-align: right;\">\n",
       "      <th></th>\n",
       "      <th>id</th>\n",
       "    </tr>\n",
       "    <tr>\n",
       "      <th>lin</th>\n",
       "      <th></th>\n",
       "    </tr>\n",
       "  </thead>\n",
       "  <tbody>\n",
       "    <tr>\n",
       "      <th>A</th>\n",
       "      <td>18</td>\n",
       "    </tr>\n",
       "    <tr>\n",
       "      <th>B</th>\n",
       "      <td>17</td>\n",
       "    </tr>\n",
       "    <tr>\n",
       "      <th>C</th>\n",
       "      <td>9</td>\n",
       "    </tr>\n",
       "    <tr>\n",
       "      <th>D</th>\n",
       "      <td>16</td>\n",
       "    </tr>\n",
       "    <tr>\n",
       "      <th>E</th>\n",
       "      <td>18</td>\n",
       "    </tr>\n",
       "    <tr>\n",
       "      <th>H</th>\n",
       "      <td>12</td>\n",
       "    </tr>\n",
       "  </tbody>\n",
       "</table>\n",
       "</div>"
      ],
      "text/plain": [
       "     id\n",
       "lin    \n",
       "A    18\n",
       "B    17\n",
       "C     9\n",
       "D    16\n",
       "E    18\n",
       "H    12"
      ]
     },
     "execution_count": 70,
     "metadata": {},
     "output_type": "execute_result"
    }
   ],
   "source": [
    "# 2.d. Outra forma parecida\n",
    "df_subte.groupby(['lin'])[['id']].count()"
   ]
  },
  {
   "cell_type": "markdown",
   "metadata": {},
   "source": [
    "- 2.e. As colunas `lat` e `lon` identificam a latitude e a longitude da posição geoespacial das propriedades. Mas precisamos que a posição seja expressa pela forma geométrica `Point`, para podermos trabalhá-la a partir do `GeoPandas`.\n",
    "\n",
    "Dica: Similar ao punto 1.e"
   ]
  },
  {
   "cell_type": "code",
   "execution_count": 71,
   "metadata": {
    "colab": {
     "base_uri": "https://localhost:8080/",
     "height": 289
    },
    "colab_type": "code",
    "executionInfo": {
     "elapsed": 830,
     "status": "ok",
     "timestamp": 1567641541793,
     "user": {
      "displayName": "Julián Ansaldo",
      "photoUrl": "https://lh3.googleusercontent.com/a-/AAuE7mCQI0iy6sTR9TfuLMfXZ90XCqxfdAQtMEcBkjfs1w=s64",
      "userId": "10643095115217147090"
     },
     "user_tz": 180
    },
    "id": "vRpX0jS6G_x5",
    "outputId": "178eafb8-17f3-4205-fcbe-9368fbd51efa",
    "slideshow": {
     "slide_type": "fragment"
    }
   },
   "outputs": [],
   "source": [
    "# 2.e.\n",
    "geo_subte = gpd.GeoDataFrame(df_subte, \n",
    "                             geometry = gpd.points_from_xy(df_subte['lon'], \n",
    "                                                           df_subte['lat']\n",
    "                                                          )\n",
    "                            )"
   ]
  },
  {
   "cell_type": "markdown",
   "metadata": {},
   "source": [
    "Verificamos a nova coluna observando as primeiras linhas."
   ]
  },
  {
   "cell_type": "code",
   "execution_count": 72,
   "metadata": {},
   "outputs": [
    {
     "data": {
      "text/html": [
       "<div>\n",
       "<style scoped>\n",
       "    .dataframe tbody tr th:only-of-type {\n",
       "        vertical-align: middle;\n",
       "    }\n",
       "\n",
       "    .dataframe tbody tr th {\n",
       "        vertical-align: top;\n",
       "    }\n",
       "\n",
       "    .dataframe thead th {\n",
       "        text-align: right;\n",
       "    }\n",
       "</style>\n",
       "<table border=\"1\" class=\"dataframe\">\n",
       "  <thead>\n",
       "    <tr style=\"text-align: right;\">\n",
       "      <th></th>\n",
       "      <th>lon</th>\n",
       "      <th>lat</th>\n",
       "      <th>id</th>\n",
       "      <th>est</th>\n",
       "      <th>lin</th>\n",
       "      <th>geometry</th>\n",
       "    </tr>\n",
       "  </thead>\n",
       "  <tbody>\n",
       "    <tr>\n",
       "      <th>0</th>\n",
       "      <td>-58.398928</td>\n",
       "      <td>-34.635750</td>\n",
       "      <td>1.0</td>\n",
       "      <td>CASEROS</td>\n",
       "      <td>H</td>\n",
       "      <td>POINT (-58.39893 -34.63575)</td>\n",
       "    </tr>\n",
       "    <tr>\n",
       "      <th>1</th>\n",
       "      <td>-58.400970</td>\n",
       "      <td>-34.629376</td>\n",
       "      <td>2.0</td>\n",
       "      <td>INCLAN - MEZQUITA AL AHMAD</td>\n",
       "      <td>H</td>\n",
       "      <td>POINT (-58.40097 -34.62938)</td>\n",
       "    </tr>\n",
       "    <tr>\n",
       "      <th>2</th>\n",
       "      <td>-58.402323</td>\n",
       "      <td>-34.623092</td>\n",
       "      <td>3.0</td>\n",
       "      <td>HUMBERTO 1°</td>\n",
       "      <td>H</td>\n",
       "      <td>POINT (-58.40232 -34.62309)</td>\n",
       "    </tr>\n",
       "    <tr>\n",
       "      <th>3</th>\n",
       "      <td>-58.404732</td>\n",
       "      <td>-34.615242</td>\n",
       "      <td>4.0</td>\n",
       "      <td>VENEZUELA</td>\n",
       "      <td>H</td>\n",
       "      <td>POINT (-58.40473 -34.61524)</td>\n",
       "    </tr>\n",
       "    <tr>\n",
       "      <th>4</th>\n",
       "      <td>-58.406036</td>\n",
       "      <td>-34.608935</td>\n",
       "      <td>5.0</td>\n",
       "      <td>ONCE - 30 DE DICIEMBRE</td>\n",
       "      <td>H</td>\n",
       "      <td>POINT (-58.40604 -34.60894)</td>\n",
       "    </tr>\n",
       "  </tbody>\n",
       "</table>\n",
       "</div>"
      ],
      "text/plain": [
       "         lon        lat   id                         est lin  \\\n",
       "0 -58.398928 -34.635750  1.0                     CASEROS   H   \n",
       "1 -58.400970 -34.629376  2.0  INCLAN - MEZQUITA AL AHMAD   H   \n",
       "2 -58.402323 -34.623092  3.0                 HUMBERTO 1°   H   \n",
       "3 -58.404732 -34.615242  4.0                   VENEZUELA   H   \n",
       "4 -58.406036 -34.608935  5.0      ONCE - 30 DE DICIEMBRE   H   \n",
       "\n",
       "                      geometry  \n",
       "0  POINT (-58.39893 -34.63575)  \n",
       "1  POINT (-58.40097 -34.62938)  \n",
       "2  POINT (-58.40232 -34.62309)  \n",
       "3  POINT (-58.40473 -34.61524)  \n",
       "4  POINT (-58.40604 -34.60894)  "
      ]
     },
     "execution_count": 72,
     "metadata": {},
     "output_type": "execute_result"
    }
   ],
   "source": [
    "geo_subte.head(5)"
   ]
  },
  {
   "cell_type": "markdown",
   "metadata": {},
   "source": [
    "### Parte 3 - Cálculo da distância\n",
    "\n",
    "Vamos calcular a distância de cada propriedade ao obelisco de Buenos Aires, e a registraremos em uma nova coluna."
   ]
  },
  {
   "cell_type": "markdown",
   "metadata": {},
   "source": [
    "Primeiro, precisamos representar a localização geográfica do Obelisco de Buenos Aires. Fazemos isso usando a forma geométrica `Point` e as coordenadas do lugar."
   ]
  },
  {
   "cell_type": "code",
   "execution_count": 73,
   "metadata": {},
   "outputs": [],
   "source": [
    "from shapely.geometry import Point\n",
    "\n",
    "point_obelisk_p = Point(-58.381555, -34.605425)"
   ]
  },
  {
   "cell_type": "code",
   "execution_count": 74,
   "metadata": {},
   "outputs": [
    {
     "data": {
      "text/plain": [
       "shapely.geometry.point.Point"
      ]
     },
     "execution_count": 74,
     "metadata": {},
     "output_type": "execute_result"
    }
   ],
   "source": [
    "type(point_obelisk_p)"
   ]
  },
  {
   "cell_type": "markdown",
   "metadata": {},
   "source": [
    "Já o método que calcula a distância entre dois pontos, [`geopy.distance.geodesic()`](https://geopy.readthedocs.io/en/stable/#geopy.distance.geodesic), precisa representar a localização geográfica do Obelisco de Buenos Aires por uma tupla."
   ]
  },
  {
   "cell_type": "code",
   "execution_count": 75,
   "metadata": {},
   "outputs": [],
   "source": [
    "point_obelisk = (-58.381555,-34.605425)"
   ]
  },
  {
   "cell_type": "code",
   "execution_count": 76,
   "metadata": {},
   "outputs": [
    {
     "data": {
      "text/plain": [
       "tuple"
      ]
     },
     "execution_count": 76,
     "metadata": {},
     "output_type": "execute_result"
    }
   ],
   "source": [
    "type(point_obelisk)"
   ]
  },
  {
   "cell_type": "markdown",
   "metadata": {},
   "source": [
    "Agora podemos adicionar a nova coluna com a distância entre o ponto do obelisco e o ponto de cada propriedade (em metros). Vamos chamá-lo de `obelisk_distance`.\n",
    "\n",
    "**Uma iteração** deve ser gerada no índice de `geo_prop`:\n",
    "\n",
    "Dica: Você pode explorar o código\n",
    "\n",
    "```python\n",
    "for i in geo_prop.index:\n",
    "    geo_prop.loc[i, 'distance_obelisk'] = Cálculo da distância entre o obelisco e cada propriedade.\n",
    "```\n",
    "    \n",
    "O [cálculo da distância](https://geopy.readthedocs.io/en/stable/#module-geopy.distance) é realizado com o método [`geopy.distance.geodesic()`](https://geopy.readthedocs.io/en/stable/#geopy.distance.geodesic), discutido. Também com a instrução: \n",
    "\n",
    "```python\n",
    "geo_prop.loc[i, 'geometry'].X \n",
    "```\n",
    "obtemos a coordenada de comprimento da distância. Deve terminar com `.meters` para indicar a distância em metros."
   ]
  },
  {
   "cell_type": "code",
   "execution_count": 77,
   "metadata": {},
   "outputs": [],
   "source": [
    "# 3.a\n",
    "import geopy.distance\n",
    "\n",
    "for i in geo_prop.index:\n",
    "    geo_prop.loc[i, 'distance_obelisk'] = geopy.distance.geodesic(point_obelisk,\n",
    "                  (geo_prop.loc[i,'geometry'].x\n",
    "                  ,geo_prop.loc[i,'geometry'].y)).meters"
   ]
  },
  {
   "cell_type": "markdown",
   "metadata": {},
   "source": [
    "Verificamos a nova coluna observando as primeiras linhas."
   ]
  },
  {
   "cell_type": "code",
   "execution_count": 78,
   "metadata": {},
   "outputs": [
    {
     "data": {
      "text/html": [
       "<div>\n",
       "<style scoped>\n",
       "    .dataframe tbody tr th:only-of-type {\n",
       "        vertical-align: middle;\n",
       "    }\n",
       "\n",
       "    .dataframe tbody tr th {\n",
       "        vertical-align: top;\n",
       "    }\n",
       "\n",
       "    .dataframe thead th {\n",
       "        text-align: right;\n",
       "    }\n",
       "</style>\n",
       "<table border=\"1\" class=\"dataframe\">\n",
       "  <thead>\n",
       "    <tr style=\"text-align: right;\">\n",
       "      <th></th>\n",
       "      <th>distance_obelisk</th>\n",
       "      <th>geometry</th>\n",
       "      <th>lat</th>\n",
       "      <th>lon</th>\n",
       "      <th>property_type</th>\n",
       "      <th>place_name</th>\n",
       "    </tr>\n",
       "  </thead>\n",
       "  <tbody>\n",
       "    <tr>\n",
       "      <th>0</th>\n",
       "      <td>14555.078219</td>\n",
       "      <td>POINT (-58.50884 -34.66182)</td>\n",
       "      <td>-34.661824</td>\n",
       "      <td>-58.508839</td>\n",
       "      <td>PH</td>\n",
       "      <td>Mataderos</td>\n",
       "    </tr>\n",
       "    <tr>\n",
       "      <th>1</th>\n",
       "      <td>15988.570648</td>\n",
       "      <td>POINT (-58.52298 -34.65226)</td>\n",
       "      <td>-34.652262</td>\n",
       "      <td>-58.522982</td>\n",
       "      <td>apartment</td>\n",
       "      <td>Mataderos</td>\n",
       "    </tr>\n",
       "    <tr>\n",
       "      <th>2</th>\n",
       "      <td>7381.316759</td>\n",
       "      <td>POINT (-58.44336 -34.55987)</td>\n",
       "      <td>-34.559873</td>\n",
       "      <td>-58.443362</td>\n",
       "      <td>apartment</td>\n",
       "      <td>Belgrano</td>\n",
       "    </tr>\n",
       "    <tr>\n",
       "      <th>3</th>\n",
       "      <td>7381.316759</td>\n",
       "      <td>POINT (-58.44336 -34.55987)</td>\n",
       "      <td>-34.559873</td>\n",
       "      <td>-58.443362</td>\n",
       "      <td>apartment</td>\n",
       "      <td>Belgrano</td>\n",
       "    </tr>\n",
       "    <tr>\n",
       "      <th>4</th>\n",
       "      <td>13651.907067</td>\n",
       "      <td>POINT (-58.50162 -34.65236)</td>\n",
       "      <td>-34.652356</td>\n",
       "      <td>-58.501624</td>\n",
       "      <td>PH</td>\n",
       "      <td>Mataderos</td>\n",
       "    </tr>\n",
       "  </tbody>\n",
       "</table>\n",
       "</div>"
      ],
      "text/plain": [
       "   distance_obelisk                     geometry        lat        lon  \\\n",
       "0      14555.078219  POINT (-58.50884 -34.66182) -34.661824 -58.508839   \n",
       "1      15988.570648  POINT (-58.52298 -34.65226) -34.652262 -58.522982   \n",
       "2       7381.316759  POINT (-58.44336 -34.55987) -34.559873 -58.443362   \n",
       "3       7381.316759  POINT (-58.44336 -34.55987) -34.559873 -58.443362   \n",
       "4      13651.907067  POINT (-58.50162 -34.65236) -34.652356 -58.501624   \n",
       "\n",
       "  property_type place_name  \n",
       "0            PH  Mataderos  \n",
       "1     apartment  Mataderos  \n",
       "2     apartment   Belgrano  \n",
       "3     apartment   Belgrano  \n",
       "4            PH  Mataderos  "
      ]
     },
     "execution_count": 78,
     "metadata": {},
     "output_type": "execute_result"
    }
   ],
   "source": [
    "geo_prop.loc[ : 4, ['distance_obelisk', 'geometry', 'lat', 'lon', 'property_type', 'place_name']]"
   ]
  },
  {
   "cell_type": "markdown",
   "metadata": {},
   "source": [
    "Vamos calcular a relação entre a distância até o obelisco e os preços de cada propriedade. Calcularemos também a média por vizinhança da distância e dos preços, e então classificaremos as médias e ver se os primeiros $10$ classificados de cada média são das mesmas barras."
   ]
  },
  {
   "cell_type": "markdown",
   "metadata": {},
   "source": [
    "Para todos os cálculos, precisamos usar o método `groupby`. Primeiro, um novo `GeoDataFrame` deve ser criado com tantas linhas quanto vizinhanças."
   ]
  },
  {
   "cell_type": "code",
   "execution_count": 79,
   "metadata": {},
   "outputs": [],
   "source": [
    "geo_prop_group = geo_prop.groupby(['place_name']).count()"
   ]
  },
  {
   "cell_type": "code",
   "execution_count": 80,
   "metadata": {},
   "outputs": [
    {
     "data": {
      "text/plain": [
       "pandas.core.frame.DataFrame"
      ]
     },
     "execution_count": 80,
     "metadata": {},
     "output_type": "execute_result"
    }
   ],
   "source": [
    "type(geo_prop_group)"
   ]
  },
  {
   "cell_type": "code",
   "execution_count": 81,
   "metadata": {},
   "outputs": [
    {
     "data": {
      "text/html": [
       "<div>\n",
       "<style scoped>\n",
       "    .dataframe tbody tr th:only-of-type {\n",
       "        vertical-align: middle;\n",
       "    }\n",
       "\n",
       "    .dataframe tbody tr th {\n",
       "        vertical-align: top;\n",
       "    }\n",
       "\n",
       "    .dataframe thead th {\n",
       "        text-align: right;\n",
       "    }\n",
       "</style>\n",
       "<table border=\"1\" class=\"dataframe\">\n",
       "  <thead>\n",
       "    <tr style=\"text-align: right;\">\n",
       "      <th></th>\n",
       "      <th>property_type</th>\n",
       "      <th>country_name</th>\n",
       "      <th>state_name</th>\n",
       "      <th>lat</th>\n",
       "      <th>lon</th>\n",
       "      <th>price</th>\n",
       "      <th>currency</th>\n",
       "      <th>surface_total_in_m2</th>\n",
       "      <th>geometry</th>\n",
       "      <th>distance_obelisk</th>\n",
       "    </tr>\n",
       "    <tr>\n",
       "      <th>place_name</th>\n",
       "      <th></th>\n",
       "      <th></th>\n",
       "      <th></th>\n",
       "      <th></th>\n",
       "      <th></th>\n",
       "      <th></th>\n",
       "      <th></th>\n",
       "      <th></th>\n",
       "      <th></th>\n",
       "      <th></th>\n",
       "    </tr>\n",
       "  </thead>\n",
       "  <tbody>\n",
       "    <tr>\n",
       "      <th>Abasto</th>\n",
       "      <td>59</td>\n",
       "      <td>59</td>\n",
       "      <td>59</td>\n",
       "      <td>59</td>\n",
       "      <td>59</td>\n",
       "      <td>59</td>\n",
       "      <td>59</td>\n",
       "      <td>59</td>\n",
       "      <td>59</td>\n",
       "      <td>59</td>\n",
       "    </tr>\n",
       "    <tr>\n",
       "      <th>Agronomía</th>\n",
       "      <td>25</td>\n",
       "      <td>25</td>\n",
       "      <td>25</td>\n",
       "      <td>25</td>\n",
       "      <td>25</td>\n",
       "      <td>25</td>\n",
       "      <td>25</td>\n",
       "      <td>25</td>\n",
       "      <td>25</td>\n",
       "      <td>25</td>\n",
       "    </tr>\n",
       "    <tr>\n",
       "      <th>Almagro</th>\n",
       "      <td>755</td>\n",
       "      <td>755</td>\n",
       "      <td>755</td>\n",
       "      <td>755</td>\n",
       "      <td>755</td>\n",
       "      <td>755</td>\n",
       "      <td>755</td>\n",
       "      <td>755</td>\n",
       "      <td>755</td>\n",
       "      <td>755</td>\n",
       "    </tr>\n",
       "    <tr>\n",
       "      <th>Balvanera</th>\n",
       "      <td>426</td>\n",
       "      <td>426</td>\n",
       "      <td>426</td>\n",
       "      <td>426</td>\n",
       "      <td>426</td>\n",
       "      <td>426</td>\n",
       "      <td>426</td>\n",
       "      <td>426</td>\n",
       "      <td>426</td>\n",
       "      <td>426</td>\n",
       "    </tr>\n",
       "    <tr>\n",
       "      <th>Barracas</th>\n",
       "      <td>309</td>\n",
       "      <td>309</td>\n",
       "      <td>309</td>\n",
       "      <td>309</td>\n",
       "      <td>309</td>\n",
       "      <td>309</td>\n",
       "      <td>309</td>\n",
       "      <td>309</td>\n",
       "      <td>309</td>\n",
       "      <td>309</td>\n",
       "    </tr>\n",
       "    <tr>\n",
       "      <th>...</th>\n",
       "      <td>...</td>\n",
       "      <td>...</td>\n",
       "      <td>...</td>\n",
       "      <td>...</td>\n",
       "      <td>...</td>\n",
       "      <td>...</td>\n",
       "      <td>...</td>\n",
       "      <td>...</td>\n",
       "      <td>...</td>\n",
       "      <td>...</td>\n",
       "    </tr>\n",
       "    <tr>\n",
       "      <th>Villa Riachuelo</th>\n",
       "      <td>3</td>\n",
       "      <td>3</td>\n",
       "      <td>3</td>\n",
       "      <td>3</td>\n",
       "      <td>3</td>\n",
       "      <td>3</td>\n",
       "      <td>3</td>\n",
       "      <td>3</td>\n",
       "      <td>3</td>\n",
       "      <td>3</td>\n",
       "    </tr>\n",
       "    <tr>\n",
       "      <th>Villa Santa Rita</th>\n",
       "      <td>26</td>\n",
       "      <td>26</td>\n",
       "      <td>26</td>\n",
       "      <td>26</td>\n",
       "      <td>26</td>\n",
       "      <td>26</td>\n",
       "      <td>26</td>\n",
       "      <td>26</td>\n",
       "      <td>26</td>\n",
       "      <td>26</td>\n",
       "    </tr>\n",
       "    <tr>\n",
       "      <th>Villa Soldati</th>\n",
       "      <td>7</td>\n",
       "      <td>7</td>\n",
       "      <td>7</td>\n",
       "      <td>7</td>\n",
       "      <td>7</td>\n",
       "      <td>7</td>\n",
       "      <td>7</td>\n",
       "      <td>7</td>\n",
       "      <td>7</td>\n",
       "      <td>7</td>\n",
       "    </tr>\n",
       "    <tr>\n",
       "      <th>Villa Urquiza</th>\n",
       "      <td>774</td>\n",
       "      <td>774</td>\n",
       "      <td>774</td>\n",
       "      <td>774</td>\n",
       "      <td>774</td>\n",
       "      <td>774</td>\n",
       "      <td>774</td>\n",
       "      <td>774</td>\n",
       "      <td>774</td>\n",
       "      <td>774</td>\n",
       "    </tr>\n",
       "    <tr>\n",
       "      <th>Villa del Parque</th>\n",
       "      <td>215</td>\n",
       "      <td>215</td>\n",
       "      <td>215</td>\n",
       "      <td>215</td>\n",
       "      <td>215</td>\n",
       "      <td>215</td>\n",
       "      <td>215</td>\n",
       "      <td>215</td>\n",
       "      <td>215</td>\n",
       "      <td>215</td>\n",
       "    </tr>\n",
       "  </tbody>\n",
       "</table>\n",
       "<p>62 rows × 10 columns</p>\n",
       "</div>"
      ],
      "text/plain": [
       "                  property_type  country_name  state_name  lat  lon  price  \\\n",
       "place_name                                                                   \n",
       "Abasto                       59            59          59   59   59     59   \n",
       "Agronomía                    25            25          25   25   25     25   \n",
       "Almagro                     755           755         755  755  755    755   \n",
       "Balvanera                   426           426         426  426  426    426   \n",
       "Barracas                    309           309         309  309  309    309   \n",
       "...                         ...           ...         ...  ...  ...    ...   \n",
       "Villa Riachuelo               3             3           3    3    3      3   \n",
       "Villa Santa Rita             26            26          26   26   26     26   \n",
       "Villa Soldati                 7             7           7    7    7      7   \n",
       "Villa Urquiza               774           774         774  774  774    774   \n",
       "Villa del Parque            215           215         215  215  215    215   \n",
       "\n",
       "                  currency  surface_total_in_m2  geometry  distance_obelisk  \n",
       "place_name                                                                   \n",
       "Abasto                  59                   59        59                59  \n",
       "Agronomía               25                   25        25                25  \n",
       "Almagro                755                  755       755               755  \n",
       "Balvanera              426                  426       426               426  \n",
       "Barracas               309                  309       309               309  \n",
       "...                    ...                  ...       ...               ...  \n",
       "Villa Riachuelo          3                    3         3                 3  \n",
       "Villa Santa Rita        26                   26        26                26  \n",
       "Villa Soldati            7                    7         7                 7  \n",
       "Villa Urquiza          774                  774       774               774  \n",
       "Villa del Parque       215                  215       215               215  \n",
       "\n",
       "[62 rows x 10 columns]"
      ]
     },
     "execution_count": 81,
     "metadata": {},
     "output_type": "execute_result"
    }
   ],
   "source": [
    "geo_prop_group"
   ]
  },
  {
   "cell_type": "markdown",
   "metadata": {},
   "source": [
    "Em seguida, devemos adicionar duas colunas com as médias (distância e preço) por bairro.\n",
    "\n",
    "\n",
    "Dica:\n",
    "```python\n",
    "geo_prop_group['nova coluna'] = geo_prop.groupby(['xxxxxxx'])[[\"yyyy\"]].mean()\n",
    "```"
   ]
  },
  {
   "cell_type": "code",
   "execution_count": 82,
   "metadata": {},
   "outputs": [],
   "source": [
    "# 3.b. Preços médios por bairro\n",
    "geo_prop_group['price']  =  geo_prop.groupby(['place_name'])[['price']].mean()"
   ]
  },
  {
   "cell_type": "code",
   "execution_count": 83,
   "metadata": {},
   "outputs": [],
   "source": [
    "# 3.b. Distância média por bairro\n",
    "geo_prop_group['distance'] =  geo_prop.groupby(['place_name'])[['distance_obelisk']].mean()"
   ]
  },
  {
   "cell_type": "markdown",
   "metadata": {},
   "source": [
    "E por último, acrescente mais duas colunas com a classificação de acordo com a média (distância e preço) por bairro.\n",
    "\n",
    "Dica:\n",
    "```python\n",
    "geo_prop_group[\"nova coluna rank\"] = geo_prop_group['xxxxxxxx'].rank(ascending = True)\n",
    "```"
   ]
  },
  {
   "cell_type": "code",
   "execution_count": 84,
   "metadata": {},
   "outputs": [],
   "source": [
    "# 3.b.Ranking distância por bairro\n",
    "geo_prop_group[\"rank_distance\"] = geo_prop_group['distance'].rank(ascending = True)"
   ]
  },
  {
   "cell_type": "code",
   "execution_count": 85,
   "metadata": {},
   "outputs": [],
   "source": [
    "# 3.b.Ranking preço por bairro\n",
    "\n",
    "geo_prop_group[\"rank_price\"] = geo_prop_group['price'].rank(ascending = False)"
   ]
  },
  {
   "cell_type": "markdown",
   "metadata": {},
   "source": [
    "Nós verificamos as novas colunas."
   ]
  },
  {
   "cell_type": "code",
   "execution_count": 86,
   "metadata": {},
   "outputs": [
    {
     "data": {
      "text/html": [
       "<div>\n",
       "<style scoped>\n",
       "    .dataframe tbody tr th:only-of-type {\n",
       "        vertical-align: middle;\n",
       "    }\n",
       "\n",
       "    .dataframe tbody tr th {\n",
       "        vertical-align: top;\n",
       "    }\n",
       "\n",
       "    .dataframe thead th {\n",
       "        text-align: right;\n",
       "    }\n",
       "</style>\n",
       "<table border=\"1\" class=\"dataframe\">\n",
       "  <thead>\n",
       "    <tr style=\"text-align: right;\">\n",
       "      <th></th>\n",
       "      <th>price</th>\n",
       "      <th>distance</th>\n",
       "      <th>rank_distance</th>\n",
       "      <th>rank_price</th>\n",
       "    </tr>\n",
       "    <tr>\n",
       "      <th>place_name</th>\n",
       "      <th></th>\n",
       "      <th></th>\n",
       "      <th></th>\n",
       "      <th></th>\n",
       "    </tr>\n",
       "  </thead>\n",
       "  <tbody>\n",
       "    <tr>\n",
       "      <th>Abasto</th>\n",
       "      <td>1.792157e+05</td>\n",
       "      <td>3366.178150</td>\n",
       "      <td>19.0</td>\n",
       "      <td>49.0</td>\n",
       "    </tr>\n",
       "    <tr>\n",
       "      <th>Agronomía</th>\n",
       "      <td>1.597952e+05</td>\n",
       "      <td>11496.658313</td>\n",
       "      <td>50.0</td>\n",
       "      <td>56.0</td>\n",
       "    </tr>\n",
       "    <tr>\n",
       "      <th>Almagro</th>\n",
       "      <td>2.383719e+05</td>\n",
       "      <td>4487.683052</td>\n",
       "      <td>23.0</td>\n",
       "      <td>24.0</td>\n",
       "    </tr>\n",
       "    <tr>\n",
       "      <th>Balvanera</th>\n",
       "      <td>1.667908e+05</td>\n",
       "      <td>2428.895604</td>\n",
       "      <td>15.0</td>\n",
       "      <td>53.0</td>\n",
       "    </tr>\n",
       "    <tr>\n",
       "      <th>Barracas</th>\n",
       "      <td>1.924282e+05</td>\n",
       "      <td>2152.119311</td>\n",
       "      <td>11.0</td>\n",
       "      <td>43.0</td>\n",
       "    </tr>\n",
       "    <tr>\n",
       "      <th>...</th>\n",
       "      <td>...</td>\n",
       "      <td>...</td>\n",
       "      <td>...</td>\n",
       "      <td>...</td>\n",
       "    </tr>\n",
       "    <tr>\n",
       "      <th>Villa Riachuelo</th>\n",
       "      <td>1.833333e+05</td>\n",
       "      <td>11034.007945</td>\n",
       "      <td>46.0</td>\n",
       "      <td>48.0</td>\n",
       "    </tr>\n",
       "    <tr>\n",
       "      <th>Villa Santa Rita</th>\n",
       "      <td>2.113846e+05</td>\n",
       "      <td>10786.585585</td>\n",
       "      <td>44.0</td>\n",
       "      <td>34.0</td>\n",
       "    </tr>\n",
       "    <tr>\n",
       "      <th>Villa Soldati</th>\n",
       "      <td>1.310730e+06</td>\n",
       "      <td>7454.006046</td>\n",
       "      <td>34.0</td>\n",
       "      <td>1.0</td>\n",
       "    </tr>\n",
       "    <tr>\n",
       "      <th>Villa Urquiza</th>\n",
       "      <td>3.718531e+05</td>\n",
       "      <td>11397.998812</td>\n",
       "      <td>49.0</td>\n",
       "      <td>12.0</td>\n",
       "    </tr>\n",
       "    <tr>\n",
       "      <th>Villa del Parque</th>\n",
       "      <td>1.855880e+05</td>\n",
       "      <td>11884.076526</td>\n",
       "      <td>53.0</td>\n",
       "      <td>46.0</td>\n",
       "    </tr>\n",
       "  </tbody>\n",
       "</table>\n",
       "<p>62 rows × 4 columns</p>\n",
       "</div>"
      ],
      "text/plain": [
       "                         price      distance  rank_distance  rank_price\n",
       "place_name                                                             \n",
       "Abasto            1.792157e+05   3366.178150           19.0        49.0\n",
       "Agronomía         1.597952e+05  11496.658313           50.0        56.0\n",
       "Almagro           2.383719e+05   4487.683052           23.0        24.0\n",
       "Balvanera         1.667908e+05   2428.895604           15.0        53.0\n",
       "Barracas          1.924282e+05   2152.119311           11.0        43.0\n",
       "...                        ...           ...            ...         ...\n",
       "Villa Riachuelo   1.833333e+05  11034.007945           46.0        48.0\n",
       "Villa Santa Rita  2.113846e+05  10786.585585           44.0        34.0\n",
       "Villa Soldati     1.310730e+06   7454.006046           34.0         1.0\n",
       "Villa Urquiza     3.718531e+05  11397.998812           49.0        12.0\n",
       "Villa del Parque  1.855880e+05  11884.076526           53.0        46.0\n",
       "\n",
       "[62 rows x 4 columns]"
      ]
     },
     "execution_count": 86,
     "metadata": {},
     "output_type": "execute_result"
    }
   ],
   "source": [
    "geo_prop_group.loc[:, ['price','distance','rank_distance','rank_price']]"
   ]
  },
  {
   "cell_type": "markdown",
   "metadata": {},
   "source": [
    "Finalmente, observe se os primeiros $10$ classificados de cada média são das mesmas bairros. Faça primeiro na classificação de distância e, em seguida, na classificação de preços.\n",
    "\n",
    "Dica: Você pode aplicar o modelo [pandas.DataFrame.sort_values](https://pandas.pydata.org/pandas-docs/version/0.23.4/generated/pandas.DataFrame.sort_values.html)."
   ]
  },
  {
   "cell_type": "code",
   "execution_count": 87,
   "metadata": {},
   "outputs": [
    {
     "data": {
      "text/html": [
       "<div>\n",
       "<style scoped>\n",
       "    .dataframe tbody tr th:only-of-type {\n",
       "        vertical-align: middle;\n",
       "    }\n",
       "\n",
       "    .dataframe tbody tr th {\n",
       "        vertical-align: top;\n",
       "    }\n",
       "\n",
       "    .dataframe thead th {\n",
       "        text-align: right;\n",
       "    }\n",
       "</style>\n",
       "<table border=\"1\" class=\"dataframe\">\n",
       "  <thead>\n",
       "    <tr style=\"text-align: right;\">\n",
       "      <th></th>\n",
       "      <th>property_type</th>\n",
       "      <th>country_name</th>\n",
       "      <th>state_name</th>\n",
       "      <th>lat</th>\n",
       "      <th>lon</th>\n",
       "      <th>price</th>\n",
       "      <th>currency</th>\n",
       "      <th>surface_total_in_m2</th>\n",
       "      <th>geometry</th>\n",
       "      <th>distance_obelisk</th>\n",
       "      <th>distance</th>\n",
       "      <th>rank_distance</th>\n",
       "      <th>rank_price</th>\n",
       "    </tr>\n",
       "    <tr>\n",
       "      <th>place_name</th>\n",
       "      <th></th>\n",
       "      <th></th>\n",
       "      <th></th>\n",
       "      <th></th>\n",
       "      <th></th>\n",
       "      <th></th>\n",
       "      <th></th>\n",
       "      <th></th>\n",
       "      <th></th>\n",
       "      <th></th>\n",
       "      <th></th>\n",
       "      <th></th>\n",
       "      <th></th>\n",
       "    </tr>\n",
       "  </thead>\n",
       "  <tbody>\n",
       "    <tr>\n",
       "      <th>Catalinas</th>\n",
       "      <td>1</td>\n",
       "      <td>1</td>\n",
       "      <td>1</td>\n",
       "      <td>1</td>\n",
       "      <td>1</td>\n",
       "      <td>550000.000000</td>\n",
       "      <td>1</td>\n",
       "      <td>1</td>\n",
       "      <td>1</td>\n",
       "      <td>1</td>\n",
       "      <td>634.212781</td>\n",
       "      <td>1.0</td>\n",
       "      <td>6.0</td>\n",
       "    </tr>\n",
       "    <tr>\n",
       "      <th>Centro / Microcentro</th>\n",
       "      <td>190</td>\n",
       "      <td>190</td>\n",
       "      <td>190</td>\n",
       "      <td>190</td>\n",
       "      <td>190</td>\n",
       "      <td>237368.142105</td>\n",
       "      <td>190</td>\n",
       "      <td>190</td>\n",
       "      <td>190</td>\n",
       "      <td>190</td>\n",
       "      <td>680.202508</td>\n",
       "      <td>2.0</td>\n",
       "      <td>25.0</td>\n",
       "    </tr>\n",
       "    <tr>\n",
       "      <th>San Nicolás</th>\n",
       "      <td>118</td>\n",
       "      <td>118</td>\n",
       "      <td>118</td>\n",
       "      <td>118</td>\n",
       "      <td>118</td>\n",
       "      <td>190561.237288</td>\n",
       "      <td>118</td>\n",
       "      <td>118</td>\n",
       "      <td>118</td>\n",
       "      <td>118</td>\n",
       "      <td>693.926823</td>\n",
       "      <td>3.0</td>\n",
       "      <td>45.0</td>\n",
       "    </tr>\n",
       "    <tr>\n",
       "      <th>Tribunales</th>\n",
       "      <td>65</td>\n",
       "      <td>65</td>\n",
       "      <td>65</td>\n",
       "      <td>65</td>\n",
       "      <td>65</td>\n",
       "      <td>198811.830769</td>\n",
       "      <td>65</td>\n",
       "      <td>65</td>\n",
       "      <td>65</td>\n",
       "      <td>65</td>\n",
       "      <td>836.603422</td>\n",
       "      <td>4.0</td>\n",
       "      <td>37.0</td>\n",
       "    </tr>\n",
       "    <tr>\n",
       "      <th>Retiro</th>\n",
       "      <td>141</td>\n",
       "      <td>141</td>\n",
       "      <td>141</td>\n",
       "      <td>141</td>\n",
       "      <td>141</td>\n",
       "      <td>412255.000000</td>\n",
       "      <td>141</td>\n",
       "      <td>141</td>\n",
       "      <td>141</td>\n",
       "      <td>141</td>\n",
       "      <td>839.671966</td>\n",
       "      <td>5.0</td>\n",
       "      <td>11.0</td>\n",
       "    </tr>\n",
       "    <tr>\n",
       "      <th>Monserrat</th>\n",
       "      <td>265</td>\n",
       "      <td>265</td>\n",
       "      <td>265</td>\n",
       "      <td>265</td>\n",
       "      <td>265</td>\n",
       "      <td>199876.535849</td>\n",
       "      <td>265</td>\n",
       "      <td>265</td>\n",
       "      <td>265</td>\n",
       "      <td>265</td>\n",
       "      <td>888.232530</td>\n",
       "      <td>6.0</td>\n",
       "      <td>35.0</td>\n",
       "    </tr>\n",
       "    <tr>\n",
       "      <th>Constitución</th>\n",
       "      <td>154</td>\n",
       "      <td>154</td>\n",
       "      <td>154</td>\n",
       "      <td>154</td>\n",
       "      <td>154</td>\n",
       "      <td>164743.538961</td>\n",
       "      <td>154</td>\n",
       "      <td>154</td>\n",
       "      <td>154</td>\n",
       "      <td>154</td>\n",
       "      <td>1236.226130</td>\n",
       "      <td>7.0</td>\n",
       "      <td>54.0</td>\n",
       "    </tr>\n",
       "    <tr>\n",
       "      <th>San Telmo</th>\n",
       "      <td>573</td>\n",
       "      <td>573</td>\n",
       "      <td>573</td>\n",
       "      <td>573</td>\n",
       "      <td>573</td>\n",
       "      <td>506590.057592</td>\n",
       "      <td>573</td>\n",
       "      <td>573</td>\n",
       "      <td>573</td>\n",
       "      <td>573</td>\n",
       "      <td>1280.499050</td>\n",
       "      <td>8.0</td>\n",
       "      <td>7.0</td>\n",
       "    </tr>\n",
       "    <tr>\n",
       "      <th>Congreso</th>\n",
       "      <td>174</td>\n",
       "      <td>174</td>\n",
       "      <td>174</td>\n",
       "      <td>174</td>\n",
       "      <td>174</td>\n",
       "      <td>153215.413793</td>\n",
       "      <td>174</td>\n",
       "      <td>174</td>\n",
       "      <td>174</td>\n",
       "      <td>174</td>\n",
       "      <td>1382.937608</td>\n",
       "      <td>9.0</td>\n",
       "      <td>59.0</td>\n",
       "    </tr>\n",
       "    <tr>\n",
       "      <th>Recoleta</th>\n",
       "      <td>1001</td>\n",
       "      <td>1001</td>\n",
       "      <td>1001</td>\n",
       "      <td>1001</td>\n",
       "      <td>1001</td>\n",
       "      <td>506214.288711</td>\n",
       "      <td>1001</td>\n",
       "      <td>1001</td>\n",
       "      <td>1001</td>\n",
       "      <td>1001</td>\n",
       "      <td>1779.484055</td>\n",
       "      <td>10.0</td>\n",
       "      <td>8.0</td>\n",
       "    </tr>\n",
       "  </tbody>\n",
       "</table>\n",
       "</div>"
      ],
      "text/plain": [
       "                      property_type  country_name  state_name   lat   lon  \\\n",
       "place_name                                                                  \n",
       "Catalinas                         1             1           1     1     1   \n",
       "Centro / Microcentro            190           190         190   190   190   \n",
       "San Nicolás                     118           118         118   118   118   \n",
       "Tribunales                       65            65          65    65    65   \n",
       "Retiro                          141           141         141   141   141   \n",
       "Monserrat                       265           265         265   265   265   \n",
       "Constitución                    154           154         154   154   154   \n",
       "San Telmo                       573           573         573   573   573   \n",
       "Congreso                        174           174         174   174   174   \n",
       "Recoleta                       1001          1001        1001  1001  1001   \n",
       "\n",
       "                              price  currency  surface_total_in_m2  geometry  \\\n",
       "place_name                                                                     \n",
       "Catalinas             550000.000000         1                    1         1   \n",
       "Centro / Microcentro  237368.142105       190                  190       190   \n",
       "San Nicolás           190561.237288       118                  118       118   \n",
       "Tribunales            198811.830769        65                   65        65   \n",
       "Retiro                412255.000000       141                  141       141   \n",
       "Monserrat             199876.535849       265                  265       265   \n",
       "Constitución          164743.538961       154                  154       154   \n",
       "San Telmo             506590.057592       573                  573       573   \n",
       "Congreso              153215.413793       174                  174       174   \n",
       "Recoleta              506214.288711      1001                 1001      1001   \n",
       "\n",
       "                      distance_obelisk     distance  rank_distance  rank_price  \n",
       "place_name                                                                      \n",
       "Catalinas                            1   634.212781            1.0         6.0  \n",
       "Centro / Microcentro               190   680.202508            2.0        25.0  \n",
       "San Nicolás                        118   693.926823            3.0        45.0  \n",
       "Tribunales                          65   836.603422            4.0        37.0  \n",
       "Retiro                             141   839.671966            5.0        11.0  \n",
       "Monserrat                          265   888.232530            6.0        35.0  \n",
       "Constitución                       154  1236.226130            7.0        54.0  \n",
       "San Telmo                          573  1280.499050            8.0         7.0  \n",
       "Congreso                           174  1382.937608            9.0        59.0  \n",
       "Recoleta                          1001  1779.484055           10.0         8.0  "
      ]
     },
     "execution_count": 87,
     "metadata": {},
     "output_type": "execute_result"
    }
   ],
   "source": [
    "# 10 primeros rankeados por distance\n",
    "geo_prop_group.sort_values(by = \"rank_distance\").head(10)"
   ]
  },
  {
   "cell_type": "code",
   "execution_count": 88,
   "metadata": {},
   "outputs": [
    {
     "data": {
      "text/html": [
       "<div>\n",
       "<style scoped>\n",
       "    .dataframe tbody tr th:only-of-type {\n",
       "        vertical-align: middle;\n",
       "    }\n",
       "\n",
       "    .dataframe tbody tr th {\n",
       "        vertical-align: top;\n",
       "    }\n",
       "\n",
       "    .dataframe thead th {\n",
       "        text-align: right;\n",
       "    }\n",
       "</style>\n",
       "<table border=\"1\" class=\"dataframe\">\n",
       "  <thead>\n",
       "    <tr style=\"text-align: right;\">\n",
       "      <th></th>\n",
       "      <th>property_type</th>\n",
       "      <th>country_name</th>\n",
       "      <th>state_name</th>\n",
       "      <th>lat</th>\n",
       "      <th>lon</th>\n",
       "      <th>price</th>\n",
       "      <th>currency</th>\n",
       "      <th>surface_total_in_m2</th>\n",
       "      <th>geometry</th>\n",
       "      <th>distance_obelisk</th>\n",
       "      <th>distance</th>\n",
       "      <th>rank_distance</th>\n",
       "      <th>rank_price</th>\n",
       "    </tr>\n",
       "    <tr>\n",
       "      <th>place_name</th>\n",
       "      <th></th>\n",
       "      <th></th>\n",
       "      <th></th>\n",
       "      <th></th>\n",
       "      <th></th>\n",
       "      <th></th>\n",
       "      <th></th>\n",
       "      <th></th>\n",
       "      <th></th>\n",
       "      <th></th>\n",
       "      <th></th>\n",
       "      <th></th>\n",
       "      <th></th>\n",
       "    </tr>\n",
       "  </thead>\n",
       "  <tbody>\n",
       "    <tr>\n",
       "      <th>Villa Soldati</th>\n",
       "      <td>7</td>\n",
       "      <td>7</td>\n",
       "      <td>7</td>\n",
       "      <td>7</td>\n",
       "      <td>7</td>\n",
       "      <td>1.310730e+06</td>\n",
       "      <td>7</td>\n",
       "      <td>7</td>\n",
       "      <td>7</td>\n",
       "      <td>7</td>\n",
       "      <td>7454.006046</td>\n",
       "      <td>34.0</td>\n",
       "      <td>1.0</td>\n",
       "    </tr>\n",
       "    <tr>\n",
       "      <th>Nuñez</th>\n",
       "      <td>384</td>\n",
       "      <td>384</td>\n",
       "      <td>384</td>\n",
       "      <td>384</td>\n",
       "      <td>384</td>\n",
       "      <td>1.164123e+06</td>\n",
       "      <td>384</td>\n",
       "      <td>384</td>\n",
       "      <td>384</td>\n",
       "      <td>384</td>\n",
       "      <td>9772.556382</td>\n",
       "      <td>41.0</td>\n",
       "      <td>2.0</td>\n",
       "    </tr>\n",
       "    <tr>\n",
       "      <th>Palermo Chico</th>\n",
       "      <td>146</td>\n",
       "      <td>146</td>\n",
       "      <td>146</td>\n",
       "      <td>146</td>\n",
       "      <td>146</td>\n",
       "      <td>1.100355e+06</td>\n",
       "      <td>146</td>\n",
       "      <td>146</td>\n",
       "      <td>146</td>\n",
       "      <td>146</td>\n",
       "      <td>3689.581743</td>\n",
       "      <td>20.0</td>\n",
       "      <td>3.0</td>\n",
       "    </tr>\n",
       "    <tr>\n",
       "      <th>Puerto Madero</th>\n",
       "      <td>364</td>\n",
       "      <td>364</td>\n",
       "      <td>364</td>\n",
       "      <td>364</td>\n",
       "      <td>364</td>\n",
       "      <td>9.774262e+05</td>\n",
       "      <td>364</td>\n",
       "      <td>364</td>\n",
       "      <td>364</td>\n",
       "      <td>364</td>\n",
       "      <td>2234.361297</td>\n",
       "      <td>12.0</td>\n",
       "      <td>4.0</td>\n",
       "    </tr>\n",
       "    <tr>\n",
       "      <th>Belgrano</th>\n",
       "      <td>1496</td>\n",
       "      <td>1496</td>\n",
       "      <td>1496</td>\n",
       "      <td>1496</td>\n",
       "      <td>1496</td>\n",
       "      <td>5.778869e+05</td>\n",
       "      <td>1496</td>\n",
       "      <td>1496</td>\n",
       "      <td>1496</td>\n",
       "      <td>1496</td>\n",
       "      <td>8403.113119</td>\n",
       "      <td>37.0</td>\n",
       "      <td>5.0</td>\n",
       "    </tr>\n",
       "    <tr>\n",
       "      <th>Catalinas</th>\n",
       "      <td>1</td>\n",
       "      <td>1</td>\n",
       "      <td>1</td>\n",
       "      <td>1</td>\n",
       "      <td>1</td>\n",
       "      <td>5.500000e+05</td>\n",
       "      <td>1</td>\n",
       "      <td>1</td>\n",
       "      <td>1</td>\n",
       "      <td>1</td>\n",
       "      <td>634.212781</td>\n",
       "      <td>1.0</td>\n",
       "      <td>6.0</td>\n",
       "    </tr>\n",
       "    <tr>\n",
       "      <th>San Telmo</th>\n",
       "      <td>573</td>\n",
       "      <td>573</td>\n",
       "      <td>573</td>\n",
       "      <td>573</td>\n",
       "      <td>573</td>\n",
       "      <td>5.065901e+05</td>\n",
       "      <td>573</td>\n",
       "      <td>573</td>\n",
       "      <td>573</td>\n",
       "      <td>573</td>\n",
       "      <td>1280.499050</td>\n",
       "      <td>8.0</td>\n",
       "      <td>7.0</td>\n",
       "    </tr>\n",
       "    <tr>\n",
       "      <th>Recoleta</th>\n",
       "      <td>1001</td>\n",
       "      <td>1001</td>\n",
       "      <td>1001</td>\n",
       "      <td>1001</td>\n",
       "      <td>1001</td>\n",
       "      <td>5.062143e+05</td>\n",
       "      <td>1001</td>\n",
       "      <td>1001</td>\n",
       "      <td>1001</td>\n",
       "      <td>1001</td>\n",
       "      <td>1779.484055</td>\n",
       "      <td>10.0</td>\n",
       "      <td>8.0</td>\n",
       "    </tr>\n",
       "    <tr>\n",
       "      <th>Boedo</th>\n",
       "      <td>278</td>\n",
       "      <td>278</td>\n",
       "      <td>278</td>\n",
       "      <td>278</td>\n",
       "      <td>278</td>\n",
       "      <td>4.437263e+05</td>\n",
       "      <td>278</td>\n",
       "      <td>278</td>\n",
       "      <td>278</td>\n",
       "      <td>278</td>\n",
       "      <td>4146.008502</td>\n",
       "      <td>22.0</td>\n",
       "      <td>9.0</td>\n",
       "    </tr>\n",
       "    <tr>\n",
       "      <th>Palermo</th>\n",
       "      <td>1502</td>\n",
       "      <td>1502</td>\n",
       "      <td>1502</td>\n",
       "      <td>1502</td>\n",
       "      <td>1502</td>\n",
       "      <td>4.161872e+05</td>\n",
       "      <td>1502</td>\n",
       "      <td>1502</td>\n",
       "      <td>1502</td>\n",
       "      <td>1502</td>\n",
       "      <td>4957.171991</td>\n",
       "      <td>25.0</td>\n",
       "      <td>10.0</td>\n",
       "    </tr>\n",
       "  </tbody>\n",
       "</table>\n",
       "</div>"
      ],
      "text/plain": [
       "               property_type  country_name  state_name   lat   lon  \\\n",
       "place_name                                                           \n",
       "Villa Soldati              7             7           7     7     7   \n",
       "Nuñez                    384           384         384   384   384   \n",
       "Palermo Chico            146           146         146   146   146   \n",
       "Puerto Madero            364           364         364   364   364   \n",
       "Belgrano                1496          1496        1496  1496  1496   \n",
       "Catalinas                  1             1           1     1     1   \n",
       "San Telmo                573           573         573   573   573   \n",
       "Recoleta                1001          1001        1001  1001  1001   \n",
       "Boedo                    278           278         278   278   278   \n",
       "Palermo                 1502          1502        1502  1502  1502   \n",
       "\n",
       "                      price  currency  surface_total_in_m2  geometry  \\\n",
       "place_name                                                             \n",
       "Villa Soldati  1.310730e+06         7                    7         7   \n",
       "Nuñez          1.164123e+06       384                  384       384   \n",
       "Palermo Chico  1.100355e+06       146                  146       146   \n",
       "Puerto Madero  9.774262e+05       364                  364       364   \n",
       "Belgrano       5.778869e+05      1496                 1496      1496   \n",
       "Catalinas      5.500000e+05         1                    1         1   \n",
       "San Telmo      5.065901e+05       573                  573       573   \n",
       "Recoleta       5.062143e+05      1001                 1001      1001   \n",
       "Boedo          4.437263e+05       278                  278       278   \n",
       "Palermo        4.161872e+05      1502                 1502      1502   \n",
       "\n",
       "               distance_obelisk     distance  rank_distance  rank_price  \n",
       "place_name                                                               \n",
       "Villa Soldati                 7  7454.006046           34.0         1.0  \n",
       "Nuñez                       384  9772.556382           41.0         2.0  \n",
       "Palermo Chico               146  3689.581743           20.0         3.0  \n",
       "Puerto Madero               364  2234.361297           12.0         4.0  \n",
       "Belgrano                   1496  8403.113119           37.0         5.0  \n",
       "Catalinas                     1   634.212781            1.0         6.0  \n",
       "San Telmo                   573  1280.499050            8.0         7.0  \n",
       "Recoleta                   1001  1779.484055           10.0         8.0  \n",
       "Boedo                       278  4146.008502           22.0         9.0  \n",
       "Palermo                    1502  4957.171991           25.0        10.0  "
      ]
     },
     "execution_count": 88,
     "metadata": {},
     "output_type": "execute_result"
    }
   ],
   "source": [
    "# 10 primeros rankeados por price\n",
    "geo_prop_group.sort_values(by = \"rank_price\").head(10)"
   ]
  },
  {
   "cell_type": "markdown",
   "metadata": {},
   "source": [
    "### Parte 4 - Linha conectando às estações de metrô\n",
    "\n",
    "Vamos fazer uma linha geométrica com as estações de metrô da linha H e representá-la graficamente sobre a cidade.\n",
    "\n",
    "<div>\n",
    "    <div class = \"mapa\">\n",
    "        <img src='img/metro_BA.jpg' alt=\"Elementos geométricos\" width=80% height=90%>\n",
    "    </div>\n",
    "</div>"
   ]
  },
  {
   "cell_type": "code",
   "execution_count": 89,
   "metadata": {},
   "outputs": [
    {
     "data": {
      "text/html": [
       "<div>\n",
       "<style scoped>\n",
       "    .dataframe tbody tr th:only-of-type {\n",
       "        vertical-align: middle;\n",
       "    }\n",
       "\n",
       "    .dataframe tbody tr th {\n",
       "        vertical-align: top;\n",
       "    }\n",
       "\n",
       "    .dataframe thead th {\n",
       "        text-align: right;\n",
       "    }\n",
       "</style>\n",
       "<table border=\"1\" class=\"dataframe\">\n",
       "  <thead>\n",
       "    <tr style=\"text-align: right;\">\n",
       "      <th></th>\n",
       "      <th>lon</th>\n",
       "      <th>lat</th>\n",
       "      <th>id</th>\n",
       "      <th>est</th>\n",
       "      <th>lin</th>\n",
       "      <th>geometry</th>\n",
       "    </tr>\n",
       "  </thead>\n",
       "  <tbody>\n",
       "    <tr>\n",
       "      <th>0</th>\n",
       "      <td>-58.398928</td>\n",
       "      <td>-34.635750</td>\n",
       "      <td>1.0</td>\n",
       "      <td>CASEROS</td>\n",
       "      <td>H</td>\n",
       "      <td>POINT (-58.39893 -34.63575)</td>\n",
       "    </tr>\n",
       "    <tr>\n",
       "      <th>1</th>\n",
       "      <td>-58.400970</td>\n",
       "      <td>-34.629376</td>\n",
       "      <td>2.0</td>\n",
       "      <td>INCLAN - MEZQUITA AL AHMAD</td>\n",
       "      <td>H</td>\n",
       "      <td>POINT (-58.40097 -34.62938)</td>\n",
       "    </tr>\n",
       "    <tr>\n",
       "      <th>2</th>\n",
       "      <td>-58.402323</td>\n",
       "      <td>-34.623092</td>\n",
       "      <td>3.0</td>\n",
       "      <td>HUMBERTO 1°</td>\n",
       "      <td>H</td>\n",
       "      <td>POINT (-58.40232 -34.62309)</td>\n",
       "    </tr>\n",
       "    <tr>\n",
       "      <th>3</th>\n",
       "      <td>-58.404732</td>\n",
       "      <td>-34.615242</td>\n",
       "      <td>4.0</td>\n",
       "      <td>VENEZUELA</td>\n",
       "      <td>H</td>\n",
       "      <td>POINT (-58.40473 -34.61524)</td>\n",
       "    </tr>\n",
       "  </tbody>\n",
       "</table>\n",
       "</div>"
      ],
      "text/plain": [
       "         lon        lat   id                         est lin  \\\n",
       "0 -58.398928 -34.635750  1.0                     CASEROS   H   \n",
       "1 -58.400970 -34.629376  2.0  INCLAN - MEZQUITA AL AHMAD   H   \n",
       "2 -58.402323 -34.623092  3.0                 HUMBERTO 1°   H   \n",
       "3 -58.404732 -34.615242  4.0                   VENEZUELA   H   \n",
       "\n",
       "                      geometry  \n",
       "0  POINT (-58.39893 -34.63575)  \n",
       "1  POINT (-58.40097 -34.62938)  \n",
       "2  POINT (-58.40232 -34.62309)  \n",
       "3  POINT (-58.40473 -34.61524)  "
      ]
     },
     "execution_count": 89,
     "metadata": {},
     "output_type": "execute_result"
    }
   ],
   "source": [
    "geo_subte.head(4)"
   ]
  },
  {
   "cell_type": "markdown",
   "metadata": {},
   "source": [
    "Primeiro vamos selecionar apenas as estações na linha H, e salvar a seleção na variável `geo_subte_h`."
   ]
  },
  {
   "cell_type": "code",
   "execution_count": 90,
   "metadata": {},
   "outputs": [],
   "source": [
    "geo_subte_h = geo_subte.loc[geo_subte['lin'] == 'H', :]"
   ]
  },
  {
   "cell_type": "code",
   "execution_count": 91,
   "metadata": {},
   "outputs": [
    {
     "data": {
      "text/html": [
       "<div>\n",
       "<style scoped>\n",
       "    .dataframe tbody tr th:only-of-type {\n",
       "        vertical-align: middle;\n",
       "    }\n",
       "\n",
       "    .dataframe tbody tr th {\n",
       "        vertical-align: top;\n",
       "    }\n",
       "\n",
       "    .dataframe thead th {\n",
       "        text-align: right;\n",
       "    }\n",
       "</style>\n",
       "<table border=\"1\" class=\"dataframe\">\n",
       "  <thead>\n",
       "    <tr style=\"text-align: right;\">\n",
       "      <th></th>\n",
       "      <th>lon</th>\n",
       "      <th>lat</th>\n",
       "      <th>id</th>\n",
       "      <th>est</th>\n",
       "      <th>lin</th>\n",
       "      <th>geometry</th>\n",
       "    </tr>\n",
       "  </thead>\n",
       "  <tbody>\n",
       "    <tr>\n",
       "      <th>0</th>\n",
       "      <td>-58.398928</td>\n",
       "      <td>-34.635750</td>\n",
       "      <td>1.0</td>\n",
       "      <td>CASEROS</td>\n",
       "      <td>H</td>\n",
       "      <td>POINT (-58.39893 -34.63575)</td>\n",
       "    </tr>\n",
       "    <tr>\n",
       "      <th>1</th>\n",
       "      <td>-58.400970</td>\n",
       "      <td>-34.629376</td>\n",
       "      <td>2.0</td>\n",
       "      <td>INCLAN - MEZQUITA AL AHMAD</td>\n",
       "      <td>H</td>\n",
       "      <td>POINT (-58.40097 -34.62938)</td>\n",
       "    </tr>\n",
       "    <tr>\n",
       "      <th>2</th>\n",
       "      <td>-58.402323</td>\n",
       "      <td>-34.623092</td>\n",
       "      <td>3.0</td>\n",
       "      <td>HUMBERTO 1°</td>\n",
       "      <td>H</td>\n",
       "      <td>POINT (-58.40232 -34.62309)</td>\n",
       "    </tr>\n",
       "    <tr>\n",
       "      <th>3</th>\n",
       "      <td>-58.404732</td>\n",
       "      <td>-34.615242</td>\n",
       "      <td>4.0</td>\n",
       "      <td>VENEZUELA</td>\n",
       "      <td>H</td>\n",
       "      <td>POINT (-58.40473 -34.61524)</td>\n",
       "    </tr>\n",
       "    <tr>\n",
       "      <th>4</th>\n",
       "      <td>-58.406036</td>\n",
       "      <td>-34.608935</td>\n",
       "      <td>5.0</td>\n",
       "      <td>ONCE - 30 DE DICIEMBRE</td>\n",
       "      <td>H</td>\n",
       "      <td>POINT (-58.40604 -34.60894)</td>\n",
       "    </tr>\n",
       "    <tr>\n",
       "      <th>76</th>\n",
       "      <td>-58.405450</td>\n",
       "      <td>-34.604490</td>\n",
       "      <td>77.0</td>\n",
       "      <td>CORRIENTES</td>\n",
       "      <td>H</td>\n",
       "      <td>POINT (-58.40545 -34.60449)</td>\n",
       "    </tr>\n",
       "    <tr>\n",
       "      <th>77</th>\n",
       "      <td>-58.405795</td>\n",
       "      <td>-34.638406</td>\n",
       "      <td>78.0</td>\n",
       "      <td>PARQUE PATRICIOS</td>\n",
       "      <td>H</td>\n",
       "      <td>POINT (-58.40579 -34.63841)</td>\n",
       "    </tr>\n",
       "    <tr>\n",
       "      <th>78</th>\n",
       "      <td>-58.412385</td>\n",
       "      <td>-34.641269</td>\n",
       "      <td>79.0</td>\n",
       "      <td>HOSPITALES</td>\n",
       "      <td>H</td>\n",
       "      <td>POINT (-58.41239 -34.64127)</td>\n",
       "    </tr>\n",
       "    <tr>\n",
       "      <th>83</th>\n",
       "      <td>-58.403721</td>\n",
       "      <td>-34.598455</td>\n",
       "      <td>84.0</td>\n",
       "      <td>CÓRDOBA</td>\n",
       "      <td>H</td>\n",
       "      <td>POINT (-58.40372 -34.59846)</td>\n",
       "    </tr>\n",
       "    <tr>\n",
       "      <th>84</th>\n",
       "      <td>-58.397216</td>\n",
       "      <td>-34.587462</td>\n",
       "      <td>85.0</td>\n",
       "      <td>LAS HERAS</td>\n",
       "      <td>H</td>\n",
       "      <td>POINT (-58.39722 -34.58746)</td>\n",
       "    </tr>\n",
       "    <tr>\n",
       "      <th>85</th>\n",
       "      <td>-58.402376</td>\n",
       "      <td>-34.594525</td>\n",
       "      <td>86.0</td>\n",
       "      <td>SANTA FE - CARLOS JAUREGUI</td>\n",
       "      <td>H</td>\n",
       "      <td>POINT (-58.40238 -34.59453)</td>\n",
       "    </tr>\n",
       "    <tr>\n",
       "      <th>86</th>\n",
       "      <td>-58.391019</td>\n",
       "      <td>-34.583036</td>\n",
       "      <td>87.0</td>\n",
       "      <td>FACULTAD DE DERECHO - JULIETA LANTERI</td>\n",
       "      <td>H</td>\n",
       "      <td>POINT (-58.39102 -34.58304)</td>\n",
       "    </tr>\n",
       "  </tbody>\n",
       "</table>\n",
       "</div>"
      ],
      "text/plain": [
       "          lon        lat    id                                    est lin  \\\n",
       "0  -58.398928 -34.635750   1.0                                CASEROS   H   \n",
       "1  -58.400970 -34.629376   2.0             INCLAN - MEZQUITA AL AHMAD   H   \n",
       "2  -58.402323 -34.623092   3.0                            HUMBERTO 1°   H   \n",
       "3  -58.404732 -34.615242   4.0                              VENEZUELA   H   \n",
       "4  -58.406036 -34.608935   5.0                 ONCE - 30 DE DICIEMBRE   H   \n",
       "76 -58.405450 -34.604490  77.0                             CORRIENTES   H   \n",
       "77 -58.405795 -34.638406  78.0                       PARQUE PATRICIOS   H   \n",
       "78 -58.412385 -34.641269  79.0                             HOSPITALES   H   \n",
       "83 -58.403721 -34.598455  84.0                                CÓRDOBA   H   \n",
       "84 -58.397216 -34.587462  85.0                              LAS HERAS   H   \n",
       "85 -58.402376 -34.594525  86.0             SANTA FE - CARLOS JAUREGUI   H   \n",
       "86 -58.391019 -34.583036  87.0  FACULTAD DE DERECHO - JULIETA LANTERI   H   \n",
       "\n",
       "                       geometry  \n",
       "0   POINT (-58.39893 -34.63575)  \n",
       "1   POINT (-58.40097 -34.62938)  \n",
       "2   POINT (-58.40232 -34.62309)  \n",
       "3   POINT (-58.40473 -34.61524)  \n",
       "4   POINT (-58.40604 -34.60894)  \n",
       "76  POINT (-58.40545 -34.60449)  \n",
       "77  POINT (-58.40579 -34.63841)  \n",
       "78  POINT (-58.41239 -34.64127)  \n",
       "83  POINT (-58.40372 -34.59846)  \n",
       "84  POINT (-58.39722 -34.58746)  \n",
       "85  POINT (-58.40238 -34.59453)  \n",
       "86  POINT (-58.39102 -34.58304)  "
      ]
     },
     "execution_count": 91,
     "metadata": {},
     "output_type": "execute_result"
    }
   ],
   "source": [
    "geo_subte_h"
   ]
  },
  {
   "cell_type": "markdown",
   "metadata": {},
   "source": [
    "Como mostra o desenho, a linha vai de Norte a Sul (ou Sul a Norte). Como as estações devem estar alinhadas para que a linha saia corretamente, podemos usar a coluna `lat` para ordená-las; `lat` é a latitude de cada estação.\n",
    "\n",
    "Dica: Considere aplicar o método [`pandas.DataFrame.sort_values()`](https://pandas.pydata.org/pandas-docs/stable/reference/api/pandas.DataFrame.sort_values.html)"
   ]
  },
  {
   "cell_type": "code",
   "execution_count": 92,
   "metadata": {},
   "outputs": [],
   "source": [
    "geo_subte_h = geo_subte_h.sort_values(by = 'lat')"
   ]
  },
  {
   "cell_type": "code",
   "execution_count": 93,
   "metadata": {},
   "outputs": [
    {
     "data": {
      "text/html": [
       "<div>\n",
       "<style scoped>\n",
       "    .dataframe tbody tr th:only-of-type {\n",
       "        vertical-align: middle;\n",
       "    }\n",
       "\n",
       "    .dataframe tbody tr th {\n",
       "        vertical-align: top;\n",
       "    }\n",
       "\n",
       "    .dataframe thead th {\n",
       "        text-align: right;\n",
       "    }\n",
       "</style>\n",
       "<table border=\"1\" class=\"dataframe\">\n",
       "  <thead>\n",
       "    <tr style=\"text-align: right;\">\n",
       "      <th></th>\n",
       "      <th>lon</th>\n",
       "      <th>lat</th>\n",
       "      <th>id</th>\n",
       "      <th>est</th>\n",
       "      <th>lin</th>\n",
       "      <th>geometry</th>\n",
       "    </tr>\n",
       "  </thead>\n",
       "  <tbody>\n",
       "    <tr>\n",
       "      <th>78</th>\n",
       "      <td>-58.412385</td>\n",
       "      <td>-34.641269</td>\n",
       "      <td>79.0</td>\n",
       "      <td>HOSPITALES</td>\n",
       "      <td>H</td>\n",
       "      <td>POINT (-58.41239 -34.64127)</td>\n",
       "    </tr>\n",
       "    <tr>\n",
       "      <th>77</th>\n",
       "      <td>-58.405795</td>\n",
       "      <td>-34.638406</td>\n",
       "      <td>78.0</td>\n",
       "      <td>PARQUE PATRICIOS</td>\n",
       "      <td>H</td>\n",
       "      <td>POINT (-58.40579 -34.63841)</td>\n",
       "    </tr>\n",
       "    <tr>\n",
       "      <th>0</th>\n",
       "      <td>-58.398928</td>\n",
       "      <td>-34.635750</td>\n",
       "      <td>1.0</td>\n",
       "      <td>CASEROS</td>\n",
       "      <td>H</td>\n",
       "      <td>POINT (-58.39893 -34.63575)</td>\n",
       "    </tr>\n",
       "    <tr>\n",
       "      <th>1</th>\n",
       "      <td>-58.400970</td>\n",
       "      <td>-34.629376</td>\n",
       "      <td>2.0</td>\n",
       "      <td>INCLAN - MEZQUITA AL AHMAD</td>\n",
       "      <td>H</td>\n",
       "      <td>POINT (-58.40097 -34.62938)</td>\n",
       "    </tr>\n",
       "    <tr>\n",
       "      <th>2</th>\n",
       "      <td>-58.402323</td>\n",
       "      <td>-34.623092</td>\n",
       "      <td>3.0</td>\n",
       "      <td>HUMBERTO 1°</td>\n",
       "      <td>H</td>\n",
       "      <td>POINT (-58.40232 -34.62309)</td>\n",
       "    </tr>\n",
       "    <tr>\n",
       "      <th>3</th>\n",
       "      <td>-58.404732</td>\n",
       "      <td>-34.615242</td>\n",
       "      <td>4.0</td>\n",
       "      <td>VENEZUELA</td>\n",
       "      <td>H</td>\n",
       "      <td>POINT (-58.40473 -34.61524)</td>\n",
       "    </tr>\n",
       "    <tr>\n",
       "      <th>4</th>\n",
       "      <td>-58.406036</td>\n",
       "      <td>-34.608935</td>\n",
       "      <td>5.0</td>\n",
       "      <td>ONCE - 30 DE DICIEMBRE</td>\n",
       "      <td>H</td>\n",
       "      <td>POINT (-58.40604 -34.60894)</td>\n",
       "    </tr>\n",
       "    <tr>\n",
       "      <th>76</th>\n",
       "      <td>-58.405450</td>\n",
       "      <td>-34.604490</td>\n",
       "      <td>77.0</td>\n",
       "      <td>CORRIENTES</td>\n",
       "      <td>H</td>\n",
       "      <td>POINT (-58.40545 -34.60449)</td>\n",
       "    </tr>\n",
       "    <tr>\n",
       "      <th>83</th>\n",
       "      <td>-58.403721</td>\n",
       "      <td>-34.598455</td>\n",
       "      <td>84.0</td>\n",
       "      <td>CÓRDOBA</td>\n",
       "      <td>H</td>\n",
       "      <td>POINT (-58.40372 -34.59846)</td>\n",
       "    </tr>\n",
       "    <tr>\n",
       "      <th>85</th>\n",
       "      <td>-58.402376</td>\n",
       "      <td>-34.594525</td>\n",
       "      <td>86.0</td>\n",
       "      <td>SANTA FE - CARLOS JAUREGUI</td>\n",
       "      <td>H</td>\n",
       "      <td>POINT (-58.40238 -34.59453)</td>\n",
       "    </tr>\n",
       "    <tr>\n",
       "      <th>84</th>\n",
       "      <td>-58.397216</td>\n",
       "      <td>-34.587462</td>\n",
       "      <td>85.0</td>\n",
       "      <td>LAS HERAS</td>\n",
       "      <td>H</td>\n",
       "      <td>POINT (-58.39722 -34.58746)</td>\n",
       "    </tr>\n",
       "    <tr>\n",
       "      <th>86</th>\n",
       "      <td>-58.391019</td>\n",
       "      <td>-34.583036</td>\n",
       "      <td>87.0</td>\n",
       "      <td>FACULTAD DE DERECHO - JULIETA LANTERI</td>\n",
       "      <td>H</td>\n",
       "      <td>POINT (-58.39102 -34.58304)</td>\n",
       "    </tr>\n",
       "  </tbody>\n",
       "</table>\n",
       "</div>"
      ],
      "text/plain": [
       "          lon        lat    id                                    est lin  \\\n",
       "78 -58.412385 -34.641269  79.0                             HOSPITALES   H   \n",
       "77 -58.405795 -34.638406  78.0                       PARQUE PATRICIOS   H   \n",
       "0  -58.398928 -34.635750   1.0                                CASEROS   H   \n",
       "1  -58.400970 -34.629376   2.0             INCLAN - MEZQUITA AL AHMAD   H   \n",
       "2  -58.402323 -34.623092   3.0                            HUMBERTO 1°   H   \n",
       "3  -58.404732 -34.615242   4.0                              VENEZUELA   H   \n",
       "4  -58.406036 -34.608935   5.0                 ONCE - 30 DE DICIEMBRE   H   \n",
       "76 -58.405450 -34.604490  77.0                             CORRIENTES   H   \n",
       "83 -58.403721 -34.598455  84.0                                CÓRDOBA   H   \n",
       "85 -58.402376 -34.594525  86.0             SANTA FE - CARLOS JAUREGUI   H   \n",
       "84 -58.397216 -34.587462  85.0                              LAS HERAS   H   \n",
       "86 -58.391019 -34.583036  87.0  FACULTAD DE DERECHO - JULIETA LANTERI   H   \n",
       "\n",
       "                       geometry  \n",
       "78  POINT (-58.41239 -34.64127)  \n",
       "77  POINT (-58.40579 -34.63841)  \n",
       "0   POINT (-58.39893 -34.63575)  \n",
       "1   POINT (-58.40097 -34.62938)  \n",
       "2   POINT (-58.40232 -34.62309)  \n",
       "3   POINT (-58.40473 -34.61524)  \n",
       "4   POINT (-58.40604 -34.60894)  \n",
       "76  POINT (-58.40545 -34.60449)  \n",
       "83  POINT (-58.40372 -34.59846)  \n",
       "85  POINT (-58.40238 -34.59453)  \n",
       "84  POINT (-58.39722 -34.58746)  \n",
       "86  POINT (-58.39102 -34.58304)  "
      ]
     },
     "execution_count": 93,
     "metadata": {},
     "output_type": "execute_result"
    }
   ],
   "source": [
    "geo_subte_h"
   ]
  },
  {
   "cell_type": "markdown",
   "metadata": {},
   "source": [
    "Para simplificar a codificação, manteremos apenas os dados geográficos de cada estação. Geramos uma `GeoSeries` com a coluna geométrica de `geo_subte_h`. E nós o chamamos de `geo_subte_h_geometry`."
   ]
  },
  {
   "cell_type": "code",
   "execution_count": 94,
   "metadata": {},
   "outputs": [],
   "source": [
    "geo_subte_h_geometry = geo_subte_h[\"geometry\"]"
   ]
  },
  {
   "cell_type": "code",
   "execution_count": 95,
   "metadata": {},
   "outputs": [
    {
     "data": {
      "text/plain": [
       "geopandas.geoseries.GeoSeries"
      ]
     },
     "execution_count": 95,
     "metadata": {},
     "output_type": "execute_result"
    }
   ],
   "source": [
    "type(geo_subte_h_geometry)"
   ]
  },
  {
   "cell_type": "markdown",
   "metadata": {},
   "source": [
    "Agora criamos as linhas que conectam as estações de metrô. Cada linha é formada por dois pontos. Portanto, temos que pegar o primeiro e o segundo pontos da `Geoserie` e aplicar o método [`shapely.geometry.LineString()`](https://autogis-site.readthedocs.io/en/latest/notebooks/L1/geometric-objects.html#linestring) a eles. Em seguida, continuamos com o segundo e o terceiro, e assim por diante."
   ]
  },
  {
   "cell_type": "markdown",
   "metadata": {},
   "source": [
    "Primeiro criamos uma lista onde salvaremos cada linha. Chamamos de `line_h`. Deve ter comprimento igual ao número de estações menos $1$, ou seja, comprimento $11$."
   ]
  },
  {
   "cell_type": "code",
   "execution_count": 96,
   "metadata": {},
   "outputs": [],
   "source": [
    "longitud_line = len(geo_subte_h_geometry) - 1\n",
    "line_h = list(range(longitud_line))"
   ]
  },
  {
   "cell_type": "code",
   "execution_count": 97,
   "metadata": {},
   "outputs": [
    {
     "data": {
      "text/plain": [
       "11"
      ]
     },
     "execution_count": 97,
     "metadata": {},
     "output_type": "execute_result"
    }
   ],
   "source": [
    "len(line_h)"
   ]
  },
  {
   "cell_type": "markdown",
   "metadata": {},
   "source": [
    "Agora podemos criar as linhas e salvá-las na lista.\n",
    "\n",
    "**Uma iteração** deve ser gerada para atravessar a `GeoSerie` `geo_subte_h_geometry`.\n",
    "\n",
    "Dica: Considere aplicar o seguinte código\n",
    "\n",
    "```python\n",
    "for i in range(longitud_line): \n",
    "    line_h[i] = Linha criada entre o elemento i e o elemento i + 1\n",
    "```\n",
    "\n",
    "O cálculo é realizado com o método [`shapely.geometry.LineString()`](https://autogis-site.readthedocs.io/en/latest/notebooks/L1/geometric-objects.html#linestring) da biblioteca `shapely`, discutido anteriormente."
   ]
  },
  {
   "cell_type": "code",
   "execution_count": 98,
   "metadata": {},
   "outputs": [],
   "source": [
    "from shapely.geometry import LineString\n",
    "\n",
    "for i in range(longitud_line): \n",
    "    line_h[i] = LineString([geo_subte_h_geometry.iloc[i], \n",
    "                            geo_subte_h_geometry.iloc[i + 1]\n",
    "                           ]\n",
    "                          )"
   ]
  },
  {
   "cell_type": "markdown",
   "metadata": {},
   "source": [
    "Agora vamos representar graficamente as linhas num mapa com os bairros de Buenos Aires. Vamos ler os dados do arquivo \"../Data/Neighborhoods.csv\" em um `DataFrame` do pandas com o método [`pandas.read_csv()`](https://pandas.pydata.org/docs/reference/api/pandas.read_csv.html). Vamos instanciar o objeto `df_bairros`."
   ]
  },
  {
   "cell_type": "code",
   "execution_count": 99,
   "metadata": {},
   "outputs": [],
   "source": [
    "df_bairros = pd.read_csv(\"../Data/Neighborhoods.csv\", encoding = 'latin1')"
   ]
  },
  {
   "cell_type": "markdown",
   "metadata": {},
   "source": [
    "E então geramos um `GeoDataFrame` dos bairros a partir do `Dataframe`. Neste caso, a coluna `WKT` já contém uma forma geométrica polígono que representa o contorno de cada vizinhança. Mas em um formato `WKT`, não permite gerar um `GeoDataFrame`. Portanto, temos que convertê-lo em um formato de `geometria`."
   ]
  },
  {
   "cell_type": "code",
   "execution_count": 100,
   "metadata": {},
   "outputs": [],
   "source": [
    "import shapely.wkt\n",
    "\n",
    "df_bairros[\"WKT\"] = df_bairros[\"WKT\"].apply(shapely.wkt.loads) \n",
    "geo_bairros = gpd.GeoDataFrame(df_bairros, \n",
    "                               geometry = 'WKT')"
   ]
  },
  {
   "cell_type": "markdown",
   "metadata": {},
   "source": [
    "Por outro lado, precisamos representar graficamente as linhas para gerar uma `Geoserie` onde cada elemento é composto por dois pontos e a linha entre eles."
   ]
  },
  {
   "cell_type": "code",
   "execution_count": 101,
   "metadata": {},
   "outputs": [],
   "source": [
    "line_h_geo = list(range(longitud_line))\n",
    "\n",
    "for i in range(longitud_line): \n",
    "    line_h_geo[i] = gpd.GeoSeries([geo_subte_h_geometry.iloc[i], \n",
    "                                   geo_subte_h_geometry.iloc[i + 1], \n",
    "                                   line_h[i] \n",
    "                                  ]\n",
    "                                 )"
   ]
  },
  {
   "cell_type": "markdown",
   "metadata": {},
   "source": [
    "Com o método `plot()`, geramos o gráfico:"
   ]
  },
  {
   "cell_type": "code",
   "execution_count": 102,
   "metadata": {},
   "outputs": [
    {
     "data": {
      "image/png": "[encoded data removed]",
      "text/plain": [
       "<Figure size 640x480 with 1 Axes>"
      ]
     },
     "metadata": {},
     "output_type": "display_data"
    }
   ],
   "source": [
    "fig, ax = plt.subplots()\n",
    "ax.set_aspect('equal')\n",
    "\n",
    "geo_bairros.plot(ax = ax, \n",
    "                 color = 'white', \n",
    "                 edgecolor = 'black'\n",
    "                )\n",
    "\n",
    "for i in range(len(geo_subte_h_geometry) - 2):     \n",
    "    line_h_geo[i].plot(ax = ax, \n",
    "                       color = 'red'\n",
    "                      )\n",
    "\n",
    "plt.show();"
   ]
  },
  {
   "cell_type": "code",
   "execution_count": null,
   "metadata": {},
   "outputs": [],
   "source": []
  }
 ],
 "metadata": {
  "kernelspec": {
   "display_name": "Python 3",
   "language": "python",
   "name": "python3"
  },
  "language_info": {
   "codemirror_mode": {
    "name": "ipython",
    "version": 3
   },
   "file_extension": ".py",
   "mimetype": "text/x-python",
   "name": "python",
   "nbconvert_exporter": "python",
   "pygments_lexer": "ipython3",
   "version": "3.9.6"
  }
 },
 "nbformat": 4,
 "nbformat_minor": 4
}
