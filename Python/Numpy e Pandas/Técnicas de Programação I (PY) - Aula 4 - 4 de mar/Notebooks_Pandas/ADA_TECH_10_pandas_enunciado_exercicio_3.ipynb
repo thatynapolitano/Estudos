{
 "cells": [
  {
   "cell_type": "markdown",
   "metadata": {},
   "source": [
    "<img src='letscodebr_cover.jpeg' align='left' width=100%/>"
   ]
  },
  {
   "cell_type": "markdown",
   "metadata": {},
   "source": [
    "# Ada Tech [DS-PY-004] Técnicas de Programação I (PY) Aulas 4 e 5 : Pandas - Enunciado do Exercício 3."
   ]
  },
  {
   "cell_type": "markdown",
   "metadata": {},
   "source": [
    "## Intro\n",
    "\n",
    "Nesta parte vimos alguns métodos do Pandas para calcular medidas por grupos.\n",
    "\n",
    "Para os exercícios, usaremos um conjunto de dados de propriedades à venda na Cidade de Buenos Aires em 2016 disponibilizado pelo GCBA.\n",
    "\n",
    "A ideia dessa prática é revisar alguns tópicos que vimos nas aulas anteriores e exercitar os diferentes métodos que vimos nesta prática e que vamos usar novamente em aulas futuras."
   ]
  },
  {
   "cell_type": "markdown",
   "metadata": {},
   "source": [
    "## Dataset\n",
    "\n",
    "O Governo da Cidade de Buenos Aires disponibiliza alguns [conjuntos de dados](https://data.buenosaires.gob.ar/) para acesso público\n",
    "\n",
    "Lá encontramos dados sobre [imóveis à venda](https://data.buenosaires.gob.ar/dataset/departamentos-venta), separados por ano.\n",
    "\n",
    "Nesta aula, vamos usar um subconjunto dos dados de [Apartamentos à venda 2016](https://data.buenosaires.gob.ar/dataset/departamentos-venta/archivo/juqdkmgo-7031-resource) que baixamos.\n",
    "\n",
    "Na pasta Dados desta aulas, já temos esse conjunto de dados baixado, o nome do arquivo é **departamentos-em-venda-2016.csv**."
   ]
  },
  {
   "cell_type": "markdown",
   "metadata": {},
   "source": [
    "## Imports"
   ]
  },
  {
   "cell_type": "code",
   "execution_count": 1,
   "metadata": {},
   "outputs": [],
   "source": [
    "import pandas as pd\n",
    "import numpy as np"
   ]
  },
  {
   "cell_type": "markdown",
   "metadata": {},
   "source": [
    "## Exercício 1  - Importar \n",
    "\n",
    "Vamos ler os dados do arquivo `departamentos-em-venda-2016.csv`.\n",
    "\n",
    "Vamos ver quantos registros você possui e quais são os tipos de dados em cada coluna.\n",
    "\n",
    "Vejamos os primeiros registros para verificar se os dados foram importados corretamente."
   ]
  },
  {
   "cell_type": "code",
   "execution_count": 2,
   "metadata": {},
   "outputs": [],
   "source": []
  },
  {
   "cell_type": "markdown",
   "metadata": {},
   "source": [
    "## Exercício 2  - Limpeza\n",
    "\n",
    "Vamos criar uma nova coluna (PRECIOTEXT_CLEAN) do tipo numérico, que tem os valores em dólares que lemos no campo PRECIOTEXT, ou NaN se esses valores forem expressos em pesos.\n",
    "\n",
    "1) Crie um objeto Series que resulte da limpeza dos valores do campo PRECIOTEXT. Temos que remover os símbolos \"U\\\\$S\" e \".\"\n",
    "\n",
    "2) No caso da Series resultante do ponto 1) substituímos os valores em pesos ('\\\\$') por nulos.\n",
    "\n",
    "3) Crie uma nova coluna de tipo numérico no DataFrame (PRECIOTEXT_CLEAN) e atribua os valores de resultado de 2)"
   ]
  },
  {
   "cell_type": "code",
   "execution_count": null,
   "metadata": {},
   "outputs": [],
   "source": []
  },
  {
   "cell_type": "markdown",
   "metadata": {},
   "source": [
    "## Exercício 3  - Preço por metro quadrado em dólares\n",
    "\n",
    "Vamos criar uma coluna do tipo numérico (PRECIOTEXTM) que tem o preço do $m^{2}$ em dólares calculado como o valor de PRECIOTEXT_CLEAN / M2."
   ]
  },
  {
   "cell_type": "code",
   "execution_count": null,
   "metadata": {},
   "outputs": [],
   "source": []
  },
  {
   "cell_type": "markdown",
   "metadata": {},
   "source": [
    "## Exercício 4  - Preço médio por metro quadrado em dólares por bairro\n",
    "\n",
    "Vamos calcular o preço médio por metro quadrado em dólares por bairro usando `groupby` e `pivot_table`.\n",
    "\n",
    "Quais são os cinco bairros mais caros?"
   ]
  },
  {
   "cell_type": "code",
   "execution_count": null,
   "metadata": {},
   "outputs": [],
   "source": []
  },
  {
   "cell_type": "markdown",
   "metadata": {},
   "source": [
    "## Exercício 5  - agrupar por campos numéricos (decis)\n",
    "\n",
    "Vamos construir os decis da superfície de dados usando o método `qcut` do numpy.\n",
    "\n",
    "Isso associa uma categoria a cada registro de dados, onde o valor dessa categoria indica a qual decil esse registro pertence.\n",
    "\n",
    "Usando o método `groupby`, vamos calcular o preço médio por $m^{2}$ em dólares para cada um dos decis de superfície."
   ]
  },
  {
   "cell_type": "code",
   "execution_count": null,
   "metadata": {},
   "outputs": [],
   "source": []
  },
  {
   "cell_type": "markdown",
   "metadata": {},
   "source": [
    "## Exercício 6  - agrupar por campos do tipo string\n",
    "\n",
    "Usando o método `groupby`, vamos calcular o preço médio por $m^{2}$ em dólares para cada um dos bairros da cidade."
   ]
  },
  {
   "cell_type": "code",
   "execution_count": null,
   "metadata": {},
   "outputs": [],
   "source": []
  },
  {
   "cell_type": "markdown",
   "metadata": {},
   "source": [
    "## Exercício 7 - agrupamento por condições personalizadas\n",
    "\n",
    "Vamos definir uma máscara booleana que é verdadeira para os registros cujo preço em dólares é de até 150.000\n",
    "\n",
    "Vamos agrupar por este critério e calcular o valor da área mediana para esses dois grupos (preço $\\le 150.000$ e preço $ \\lt 150.000$)."
   ]
  },
  {
   "cell_type": "code",
   "execution_count": null,
   "metadata": {},
   "outputs": [],
   "source": []
  }
 ],
 "metadata": {
  "kernelspec": {
   "display_name": "Python 3",
   "language": "python",
   "name": "python3"
  },
  "language_info": {
   "codemirror_mode": {
    "name": "ipython",
    "version": 3
   },
   "file_extension": ".py",
   "mimetype": "text/x-python",
   "name": "python",
   "nbconvert_exporter": "python",
   "pygments_lexer": "ipython3",
   "version": "3.9.6"
  }
 },
 "nbformat": 4,
 "nbformat_minor": 4
}
