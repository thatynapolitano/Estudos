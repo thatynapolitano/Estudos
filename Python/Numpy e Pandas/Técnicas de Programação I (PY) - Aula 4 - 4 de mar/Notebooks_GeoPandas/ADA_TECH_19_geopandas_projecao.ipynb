{
 "cells": [
  {
   "cell_type": "markdown",
   "metadata": {
    "slideshow": {
     "slide_type": "skip"
    }
   },
   "source": [
    "<img src='letscodebr_cover.jpeg' align='left' width=100%/>"
   ]
  },
  {
   "cell_type": "markdown",
   "metadata": {},
   "source": [
    "# Ada Tech [DS-PY-004] Técnicas de Programação I (PY) Aulas 4 e 5 : GeoPandas - Projeções."
   ]
  },
  {
   "cell_type": "code",
   "execution_count": 1,
   "metadata": {},
   "outputs": [],
   "source": [
    "import pandas as pd\n",
    "import geopandas as gpd\n",
    "import matplotlib.pyplot as plt\n",
    "import descartes\n",
    "import pyproj"
   ]
  },
  {
   "cell_type": "markdown",
   "metadata": {
    "slideshow": {
     "slide_type": "slide"
    },
    "toc-hr-collapsed": false
   },
   "source": [
    "## Projeção"
   ]
  },
  {
   "cell_type": "markdown",
   "metadata": {
    "slideshow": {
     "slide_type": "slide"
    }
   },
   "source": [
    "###  Intro\n",
    "\n",
    "Como vimos anteriormente, cada figura geométrica em `Geopandas` representa um objeto que requer um [sistema de coordenadas](https://www.ibm.com/docs/en/informix-servers/12.10?topic=data-geographic-coordinate-system) para relacioná-lo a um local específico na Terra. Embora o sistema mais comum seja aquele que usa a latitude e a longitude para indicar a posição do objeto, existem muitos outros.\n",
    "\n",
    "As [Projeções](https://www.esri.com/arcgis-blog/products/arcgis-pro/mapping/gcs_vs_pcs/) tentam representar a superfície da Terra ou uma porção da Terra em uma folha de papel plana ou em uma tela de computador. Então, um [sistema de referência de coordenadas (CRS)](https://docs.qgis.org/3.16/en/docs/gentle_gis_introduction/coordinate_reference_systems.html) define, com a ajuda de coordenadas, como o mapa bidimensional projetado está relacionado a lugares reais na terra.\n",
    "\n",
    "Em outras palavras, o [Coordinate Reference System (CRS)](https://www.earthdatascience.org/courses/earth-analytics/spatial-data-r/intro-to-coordinate-reference-systems/) informa ao `Python` a localização geográfica real onde os objetos representados pelas formas geométricas estão localizados.\n",
    "\n",
    "Por outro lado, é importante que todos os objetos sejam expressos com o mesmo CRS, para que as operações entre eles possam ser realizadas. Como às vezes isso não acontece, temos que realizar uma reprojeção de alguns objetos, ou seja, alterar seu sistema de coordenadas, para unificar o CRS de todos os objetos.\n",
    "\n",
    "Diferentes projeções cartográficas são utilizadas dependendo do tipo de mapa a ser criado, uma vez que existem certas projeções que se adaptam melhor a alguns usos específicos do que a outros, a algumas áreas ou outras. Por exemplo, uma projeção que representa com precisão a forma dos continentes [distorce](https://www.nationalgeographic.com/culture/article/all-over-the-map-mental-mapping-misconceptions) seus tamanhos relativos. Lembre-se de que toda projeção é uma representação da realidade."
   ]
  },
  {
   "cell_type": "markdown",
   "metadata": {
    "slideshow": {
     "slide_type": "slide"
    }
   },
   "source": [
    "###  CRS\n",
    "\n",
    "Existem vários [CRSs](https://datacarpentry.org/organization-geospatial/03-crs/), dependendo das necessidades de geolocalização. Os [CRS](https://www.w3.org/2015/spatial/wiki/Coordinate_Reference_Systems) são identificados por um código denominado [EPSG](https://epsg.io/). Por exemplo, o sistema de coordenadas que usa latitude e longitude é [CRS WGS 84](https://epsg.io/4326), que é representado por EPSG 4326. Uma lista atualizada é publicada no portal [EPSG](https://epsg.org/home.html).\n",
    "\n",
    "\n",
    "Exemplos de CRS:\n",
    "\n",
    "- WGS 84. \n",
    "\n",
    "Usa a latitude e a longitude.\n",
    "\n",
    "<div>\n",
    "    <div class = \"mapa\">\n",
    "        <img src='img/latitude-e-longitude.jpeg' alt=\"Latitud y Longitud\" width=50% height=40%>\n",
    "        <p><i>Latitude e Longitude</i></p>\n",
    "    </div>\n",
    "</div>      "
   ]
  },
  {
   "cell_type": "markdown",
   "metadata": {},
   "source": [
    "### UTM Universal Transverse Mercator.\n",
    "    \n",
    "O [Universal Transverse Mercator (UTM)](https://gisgeography.com/utm-universal-transverse-mercator-projection/) é representado por um mapa retangular. Podemos nos lembrar dos mapas que usamos na escola para representar o planeta. Essa projeção achata a esfera da Terra, dividindo-a em $60$ zonas de norte a sul, cada uma com $6$ graus.\n",
    "Então, para identificar um lugar, você precisa de um número para a localização norte-sul, outro para a posição leste-oeste (ambos positivos) e a zona a que pertence. É útil para mapear pequenas áreas.\n",
    "\n",
    "<div>\n",
    "    <div class = \"mapa\">\n",
    "        <img src='img/UTM1.PNG' alt=\"Esfera terrestre dividida en franjas de 6 grados\" width=25% height=40%>\n",
    "        <p><i>Esfera terrestre dividida en franjas de 6 grados</i></p>\n",
    "    </div>\n",
    "</div>\n",
    "\n",
    "<div>\n",
    "    <div class = \"mapa\">\n",
    "        <img src='img/UTM2.PNG' alt=\"Mapa rectangular\" width=25% height=40%>\n",
    "        <p><i>Mapa retangular</i></p>\n",
    "    </div>\n",
    "</div>\n",
    "\n",
    "<div>\n",
    "    <div class = \"mapa\">\n",
    "        <img src='img/UTM3.PNG' alt=\"Coordenadas de Lima, con CRS WGS 84 y UTM\" width=35% height=80%>\n",
    "        <p><i>Coordenadas de Lima, com CRS WGS 84 e UTM</i></p>\n",
    "        <p><i><a href=\"https://www.latlong.net/lat-long-utm.html\" target=\"_blank\">Convert Lat Long to UTM</a></i></p>        \n",
    "    </div>\n",
    "</div>"
   ]
  },
  {
   "cell_type": "markdown",
   "metadata": {},
   "source": [
    "###  Análise das projeções\n",
    "\n",
    "Quando usamos `Geopandas`, suas estruturas de dados `GeoSeries` e `GeoDataFrame` devem conter pelo menos uma coluna que indica, usando uma forma geométrica, sua posição geoespacial. Mas em muitos arquivos disponíveis, os dados geoespaciais para objetos são expressos com dois campos numéricos. Um para latitude e outro para longitude."
   ]
  },
  {
   "cell_type": "code",
   "execution_count": 2,
   "metadata": {},
   "outputs": [
    {
     "data": {
      "text/html": [
       "<div>\n",
       "<style scoped>\n",
       "    .dataframe tbody tr th:only-of-type {\n",
       "        vertical-align: middle;\n",
       "    }\n",
       "\n",
       "    .dataframe tbody tr th {\n",
       "        vertical-align: top;\n",
       "    }\n",
       "\n",
       "    .dataframe thead th {\n",
       "        text-align: right;\n",
       "    }\n",
       "</style>\n",
       "<table border=\"1\" class=\"dataframe\">\n",
       "  <thead>\n",
       "    <tr style=\"text-align: right;\">\n",
       "      <th></th>\n",
       "      <th>X</th>\n",
       "      <th>Y</th>\n",
       "      <th>NOME</th>\n",
       "    </tr>\n",
       "  </thead>\n",
       "  <tbody>\n",
       "    <tr>\n",
       "      <th>0</th>\n",
       "      <td>-58.468944</td>\n",
       "      <td>-34.683121</td>\n",
       "      <td>COMISARIA 52</td>\n",
       "    </tr>\n",
       "    <tr>\n",
       "      <th>1</th>\n",
       "      <td>-58.474649</td>\n",
       "      <td>-34.679169</td>\n",
       "      <td>COMISARIA 48</td>\n",
       "    </tr>\n",
       "    <tr>\n",
       "      <th>2</th>\n",
       "      <td>-58.501166</td>\n",
       "      <td>-34.661994</td>\n",
       "      <td>COMISARIA 42</td>\n",
       "    </tr>\n",
       "    <tr>\n",
       "      <th>3</th>\n",
       "      <td>-58.431981</td>\n",
       "      <td>-34.660395</td>\n",
       "      <td>COMISARIA 36</td>\n",
       "    </tr>\n",
       "    <tr>\n",
       "      <th>4</th>\n",
       "      <td>-58.402830</td>\n",
       "      <td>-34.641950</td>\n",
       "      <td>COMISARIA 4</td>\n",
       "    </tr>\n",
       "  </tbody>\n",
       "</table>\n",
       "</div>"
      ],
      "text/plain": [
       "           X          Y          NOME\n",
       "0 -58.468944 -34.683121  COMISARIA 52\n",
       "1 -58.474649 -34.679169  COMISARIA 48\n",
       "2 -58.501166 -34.661994  COMISARIA 42\n",
       "3 -58.431981 -34.660395  COMISARIA 36\n",
       "4 -58.402830 -34.641950   COMISARIA 4"
      ]
     },
     "execution_count": 2,
     "metadata": {},
     "output_type": "execute_result"
    }
   ],
   "source": [
    "df_comisarias = pd.read_csv(\"../Data/comisarias.csv\")\n",
    "df_comisarias.head()"
   ]
  },
  {
   "cell_type": "markdown",
   "metadata": {},
   "source": [
    "Primeiro, devemos transformar os dados numéricos em uma nova coluna que identifica uma forma geométrica. Lembre-se de que a coluna é chamada por padrão de `geometry`. Nesse caso, a localização das delegacias é transformada em um ponto."
   ]
  },
  {
   "cell_type": "code",
   "execution_count": 3,
   "metadata": {},
   "outputs": [
    {
     "data": {
      "text/html": [
       "<div>\n",
       "<style scoped>\n",
       "    .dataframe tbody tr th:only-of-type {\n",
       "        vertical-align: middle;\n",
       "    }\n",
       "\n",
       "    .dataframe tbody tr th {\n",
       "        vertical-align: top;\n",
       "    }\n",
       "\n",
       "    .dataframe thead th {\n",
       "        text-align: right;\n",
       "    }\n",
       "</style>\n",
       "<table border=\"1\" class=\"dataframe\">\n",
       "  <thead>\n",
       "    <tr style=\"text-align: right;\">\n",
       "      <th></th>\n",
       "      <th>X</th>\n",
       "      <th>Y</th>\n",
       "      <th>NOME</th>\n",
       "      <th>geometry</th>\n",
       "    </tr>\n",
       "  </thead>\n",
       "  <tbody>\n",
       "    <tr>\n",
       "      <th>0</th>\n",
       "      <td>-58.468944</td>\n",
       "      <td>-34.683121</td>\n",
       "      <td>COMISARIA 52</td>\n",
       "      <td>POINT (-58.46894 -34.68312)</td>\n",
       "    </tr>\n",
       "    <tr>\n",
       "      <th>1</th>\n",
       "      <td>-58.474649</td>\n",
       "      <td>-34.679169</td>\n",
       "      <td>COMISARIA 48</td>\n",
       "      <td>POINT (-58.47465 -34.67917)</td>\n",
       "    </tr>\n",
       "    <tr>\n",
       "      <th>2</th>\n",
       "      <td>-58.501166</td>\n",
       "      <td>-34.661994</td>\n",
       "      <td>COMISARIA 42</td>\n",
       "      <td>POINT (-58.50117 -34.66199)</td>\n",
       "    </tr>\n",
       "    <tr>\n",
       "      <th>3</th>\n",
       "      <td>-58.431981</td>\n",
       "      <td>-34.660395</td>\n",
       "      <td>COMISARIA 36</td>\n",
       "      <td>POINT (-58.43198 -34.66039)</td>\n",
       "    </tr>\n",
       "    <tr>\n",
       "      <th>4</th>\n",
       "      <td>-58.402830</td>\n",
       "      <td>-34.641950</td>\n",
       "      <td>COMISARIA 4</td>\n",
       "      <td>POINT (-58.40283 -34.64195)</td>\n",
       "    </tr>\n",
       "  </tbody>\n",
       "</table>\n",
       "</div>"
      ],
      "text/plain": [
       "           X          Y          NOME                     geometry\n",
       "0 -58.468944 -34.683121  COMISARIA 52  POINT (-58.46894 -34.68312)\n",
       "1 -58.474649 -34.679169  COMISARIA 48  POINT (-58.47465 -34.67917)\n",
       "2 -58.501166 -34.661994  COMISARIA 42  POINT (-58.50117 -34.66199)\n",
       "3 -58.431981 -34.660395  COMISARIA 36  POINT (-58.43198 -34.66039)\n",
       "4 -58.402830 -34.641950   COMISARIA 4  POINT (-58.40283 -34.64195)"
      ]
     },
     "execution_count": 3,
     "metadata": {},
     "output_type": "execute_result"
    }
   ],
   "source": [
    "geo_comisarias = gpd.GeoDataFrame(df_comisarias, \n",
    "                                  geometry = gpd.points_from_xy(df_comisarias.X, \n",
    "                                                                df_comisarias.Y\n",
    "                                                               )\n",
    "                                 )\n",
    "geo_comisarias.head()"
   ]
  },
  {
   "cell_type": "code",
   "execution_count": 4,
   "metadata": {},
   "outputs": [],
   "source": [
    "#type(geo_comisarias)"
   ]
  },
  {
   "cell_type": "markdown",
   "metadata": {},
   "source": [
    "Quando procuramos o CRS usado no ponto, nada aparece. Porque só transformamos os números `X` e `Y`, nas coordenadas da figura. Temos que indicar qual é o CRS explicitamente, com o método `crs`"
   ]
  },
  {
   "cell_type": "code",
   "execution_count": 5,
   "metadata": {},
   "outputs": [],
   "source": [
    "geo_comisarias.crs"
   ]
  },
  {
   "cell_type": "markdown",
   "metadata": {},
   "source": [
    "Vamos definir a projeção."
   ]
  },
  {
   "cell_type": "code",
   "execution_count": 6,
   "metadata": {},
   "outputs": [],
   "source": [
    "#geo_comisarias.crs = {'init' :'epsg:4326'} #deprecado\n",
    "#geo_comisarias = geo_comisarias.set_crs(\"EPSG:4326\")\n",
    "geo_comisarias = geo_comisarias.set_crs(epsg = 4326)"
   ]
  },
  {
   "cell_type": "code",
   "execution_count": 7,
   "metadata": {},
   "outputs": [
    {
     "data": {
      "text/plain": [
       "<Geographic 2D CRS: EPSG:4326>\n",
       "Name: WGS 84\n",
       "Axis Info [ellipsoidal]:\n",
       "- Lat[north]: Geodetic latitude (degree)\n",
       "- Lon[east]: Geodetic longitude (degree)\n",
       "Area of Use:\n",
       "- name: World.\n",
       "- bounds: (-180.0, -90.0, 180.0, 90.0)\n",
       "Datum: World Geodetic System 1984 ensemble\n",
       "- Ellipsoid: WGS 84\n",
       "- Prime Meridian: Greenwich"
      ]
     },
     "execution_count": 7,
     "metadata": {},
     "output_type": "execute_result"
    }
   ],
   "source": [
    "geo_comisarias.crs"
   ]
  },
  {
   "cell_type": "markdown",
   "metadata": {},
   "source": [
    "###  Reprojeção\n",
    "\n",
    "Às vezes, precisamos mudar o CRS que estamos usando, para transformar as coordenadas. Vamos levar as coordenadas que as delegacias possuem, WGS 84, por latitude e longitude (EPSG = 4326), para algumas coordenadas por UTM (EPSG = 32733)."
   ]
  },
  {
   "cell_type": "code",
   "execution_count": 8,
   "metadata": {},
   "outputs": [
    {
     "data": {
      "text/plain": [
       "<Geographic 2D CRS: EPSG:4326>\n",
       "Name: WGS 84\n",
       "Axis Info [ellipsoidal]:\n",
       "- Lat[north]: Geodetic latitude (degree)\n",
       "- Lon[east]: Geodetic longitude (degree)\n",
       "Area of Use:\n",
       "- name: World.\n",
       "- bounds: (-180.0, -90.0, 180.0, 90.0)\n",
       "Datum: World Geodetic System 1984 ensemble\n",
       "- Ellipsoid: WGS 84\n",
       "- Prime Meridian: Greenwich"
      ]
     },
     "execution_count": 8,
     "metadata": {},
     "output_type": "execute_result"
    }
   ],
   "source": [
    " geo_comisarias.crs"
   ]
  },
  {
   "cell_type": "code",
   "execution_count": 9,
   "metadata": {},
   "outputs": [
    {
     "data": {
      "text/html": [
       "<div>\n",
       "<style scoped>\n",
       "    .dataframe tbody tr th:only-of-type {\n",
       "        vertical-align: middle;\n",
       "    }\n",
       "\n",
       "    .dataframe tbody tr th {\n",
       "        vertical-align: top;\n",
       "    }\n",
       "\n",
       "    .dataframe thead th {\n",
       "        text-align: right;\n",
       "    }\n",
       "</style>\n",
       "<table border=\"1\" class=\"dataframe\">\n",
       "  <thead>\n",
       "    <tr style=\"text-align: right;\">\n",
       "      <th></th>\n",
       "      <th>X</th>\n",
       "      <th>Y</th>\n",
       "      <th>NOME</th>\n",
       "      <th>geometry</th>\n",
       "    </tr>\n",
       "  </thead>\n",
       "  <tbody>\n",
       "    <tr>\n",
       "      <th>0</th>\n",
       "      <td>-58.468944</td>\n",
       "      <td>-34.683121</td>\n",
       "      <td>COMISARIA 52</td>\n",
       "      <td>POINT (-58.46894 -34.68312)</td>\n",
       "    </tr>\n",
       "    <tr>\n",
       "      <th>1</th>\n",
       "      <td>-58.474649</td>\n",
       "      <td>-34.679169</td>\n",
       "      <td>COMISARIA 48</td>\n",
       "      <td>POINT (-58.47465 -34.67917)</td>\n",
       "    </tr>\n",
       "    <tr>\n",
       "      <th>2</th>\n",
       "      <td>-58.501166</td>\n",
       "      <td>-34.661994</td>\n",
       "      <td>COMISARIA 42</td>\n",
       "      <td>POINT (-58.50117 -34.66199)</td>\n",
       "    </tr>\n",
       "    <tr>\n",
       "      <th>3</th>\n",
       "      <td>-58.431981</td>\n",
       "      <td>-34.660395</td>\n",
       "      <td>COMISARIA 36</td>\n",
       "      <td>POINT (-58.43198 -34.66039)</td>\n",
       "    </tr>\n",
       "    <tr>\n",
       "      <th>4</th>\n",
       "      <td>-58.402830</td>\n",
       "      <td>-34.641950</td>\n",
       "      <td>COMISARIA 4</td>\n",
       "      <td>POINT (-58.40283 -34.64195)</td>\n",
       "    </tr>\n",
       "  </tbody>\n",
       "</table>\n",
       "</div>"
      ],
      "text/plain": [
       "           X          Y          NOME                     geometry\n",
       "0 -58.468944 -34.683121  COMISARIA 52  POINT (-58.46894 -34.68312)\n",
       "1 -58.474649 -34.679169  COMISARIA 48  POINT (-58.47465 -34.67917)\n",
       "2 -58.501166 -34.661994  COMISARIA 42  POINT (-58.50117 -34.66199)\n",
       "3 -58.431981 -34.660395  COMISARIA 36  POINT (-58.43198 -34.66039)\n",
       "4 -58.402830 -34.641950   COMISARIA 4  POINT (-58.40283 -34.64195)"
      ]
     },
     "execution_count": 9,
     "metadata": {},
     "output_type": "execute_result"
    }
   ],
   "source": [
    "geo_comisarias.head()"
   ]
  },
  {
   "cell_type": "markdown",
   "metadata": {},
   "source": [
    "Este comando emite um aviso. É um problema do `Geopandas` ao usar a biblioteca `pyproj`."
   ]
  },
  {
   "cell_type": "code",
   "execution_count": 10,
   "metadata": {},
   "outputs": [],
   "source": [
    "geo_comisarias = geo_comisarias.to_crs(epsg = 32733)"
   ]
  },
  {
   "cell_type": "code",
   "execution_count": 11,
   "metadata": {},
   "outputs": [
    {
     "data": {
      "text/html": [
       "<div>\n",
       "<style scoped>\n",
       "    .dataframe tbody tr th:only-of-type {\n",
       "        vertical-align: middle;\n",
       "    }\n",
       "\n",
       "    .dataframe tbody tr th {\n",
       "        vertical-align: top;\n",
       "    }\n",
       "\n",
       "    .dataframe thead th {\n",
       "        text-align: right;\n",
       "    }\n",
       "</style>\n",
       "<table border=\"1\" class=\"dataframe\">\n",
       "  <thead>\n",
       "    <tr style=\"text-align: right;\">\n",
       "      <th></th>\n",
       "      <th>X</th>\n",
       "      <th>Y</th>\n",
       "      <th>NOME</th>\n",
       "      <th>geometry</th>\n",
       "    </tr>\n",
       "  </thead>\n",
       "  <tbody>\n",
       "    <tr>\n",
       "      <th>0</th>\n",
       "      <td>-58.468944</td>\n",
       "      <td>-34.683121</td>\n",
       "      <td>COMISARIA 52</td>\n",
       "      <td>POINT (-6304210.347 2483981.461)</td>\n",
       "    </tr>\n",
       "    <tr>\n",
       "      <th>1</th>\n",
       "      <td>-58.474649</td>\n",
       "      <td>-34.679169</td>\n",
       "      <td>COMISARIA 48</td>\n",
       "      <td>POINT (-6305231.264 2483555.406)</td>\n",
       "    </tr>\n",
       "    <tr>\n",
       "      <th>2</th>\n",
       "      <td>-58.501166</td>\n",
       "      <td>-34.661994</td>\n",
       "      <td>COMISARIA 42</td>\n",
       "      <td>POINT (-6309786.922 2481474.256)</td>\n",
       "    </tr>\n",
       "    <tr>\n",
       "      <th>3</th>\n",
       "      <td>-58.431981</td>\n",
       "      <td>-34.660395</td>\n",
       "      <td>COMISARIA 36</td>\n",
       "      <td>POINT (-6305310.907 2490738.920)</td>\n",
       "    </tr>\n",
       "    <tr>\n",
       "      <th>4</th>\n",
       "      <td>-58.402830</td>\n",
       "      <td>-34.641950</td>\n",
       "      <td>COMISARIA 4</td>\n",
       "      <td>POINT (-6306256.037 2496114.174)</td>\n",
       "    </tr>\n",
       "  </tbody>\n",
       "</table>\n",
       "</div>"
      ],
      "text/plain": [
       "           X          Y          NOME                          geometry\n",
       "0 -58.468944 -34.683121  COMISARIA 52  POINT (-6304210.347 2483981.461)\n",
       "1 -58.474649 -34.679169  COMISARIA 48  POINT (-6305231.264 2483555.406)\n",
       "2 -58.501166 -34.661994  COMISARIA 42  POINT (-6309786.922 2481474.256)\n",
       "3 -58.431981 -34.660395  COMISARIA 36  POINT (-6305310.907 2490738.920)\n",
       "4 -58.402830 -34.641950   COMISARIA 4  POINT (-6306256.037 2496114.174)"
      ]
     },
     "execution_count": 11,
     "metadata": {},
     "output_type": "execute_result"
    }
   ],
   "source": [
    "geo_comisarias.head()"
   ]
  },
  {
   "cell_type": "code",
   "execution_count": 12,
   "metadata": {},
   "outputs": [
    {
     "data": {
      "text/plain": [
       "<Projected CRS: EPSG:32733>\n",
       "Name: WGS 84 / UTM zone 33S\n",
       "Axis Info [cartesian]:\n",
       "- E[east]: Easting (metre)\n",
       "- N[north]: Northing (metre)\n",
       "Area of Use:\n",
       "- name: Between 12°E and 18°E, southern hemisphere between 80°S and equator, onshore and offshore. Angola. Congo. Democratic Republic of the Congo (Zaire). Gabon. Namibia. South Africa.\n",
       "- bounds: (12.0, -80.0, 18.0, 0.0)\n",
       "Coordinate Operation:\n",
       "- name: UTM zone 33S\n",
       "- method: Transverse Mercator\n",
       "Datum: World Geodetic System 1984 ensemble\n",
       "- Ellipsoid: WGS 84\n",
       "- Prime Meridian: Greenwich"
      ]
     },
     "execution_count": 12,
     "metadata": {},
     "output_type": "execute_result"
    }
   ],
   "source": [
    "geo_comisarias.crs"
   ]
  },
  {
   "cell_type": "markdown",
   "metadata": {
    "slideshow": {
     "slide_type": "slide"
    }
   },
   "source": [
    "---\n",
    "\n",
    "### Referências\n",
    "\n",
    "- [pyproj Documentation](https://pyproj4.github.io/pyproj/stable/index.html)\n",
    "\n",
    "- [How Universal Transverse Mercator (UTM) Works](https://gisgeography.com/utm-universal-transverse-mercator-projection/)\n",
    "\n",
    "- [EPSG Geodetic Parameter Dataset](https://epsg.org/home.html)"
   ]
  },
  {
   "cell_type": "code",
   "execution_count": null,
   "metadata": {},
   "outputs": [],
   "source": []
  }
 ],
 "metadata": {
  "kernelspec": {
   "display_name": "Python 3",
   "language": "python",
   "name": "python3"
  },
  "language_info": {
   "codemirror_mode": {
    "name": "ipython",
    "version": 3
   },
   "file_extension": ".py",
   "mimetype": "text/x-python",
   "name": "python",
   "nbconvert_exporter": "python",
   "pygments_lexer": "ipython3",
   "version": "3.9.6"
  }
 },
 "nbformat": 4,
 "nbformat_minor": 4
}
