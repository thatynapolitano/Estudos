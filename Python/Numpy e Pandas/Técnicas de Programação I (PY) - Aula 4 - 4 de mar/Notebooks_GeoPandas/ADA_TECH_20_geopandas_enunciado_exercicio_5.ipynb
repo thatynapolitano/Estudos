{
 "cells": [
  {
   "cell_type": "markdown",
   "metadata": {},
   "source": [
    "<img src='letscodebr_cover.jpeg' align='left' width=100%/>"
   ]
  },
  {
   "cell_type": "markdown",
   "metadata": {},
   "source": [
    "# Ada Tech [DS-PY-004] Técnicas de Programação I (PY) Aulas 4 e 5 : Pandas - Enunciado do Exercício 5."
   ]
  },
  {
   "cell_type": "markdown",
   "metadata": {},
   "source": [
    "## Conjuntos de dados\n",
    "\n",
    "Na prática de aula de hoje, usaremos um **conjunto de propriedades** que a imobiliária [Properati](https://www.properati.com.ar/) tem à venda. O interessante é que aos dados clássicos da propriedade (valor, superfície, vizinhança, tipo de propriedade), adiciona-se a posição geoespacial através de sua latitude e longitude.\n",
    "\n",
    "Por outro lado, vamos considerar as **estações de metrô**, onde também aparecem o nome e a linha a que pertence, e também, obviamente, seus dados de posição geográfica."
   ]
  },
  {
   "cell_type": "markdown",
   "metadata": {},
   "source": [
    "## Exercício\n",
    "\n",
    "Começamos lendo os dois conjuntos de dados em um `dataframe` e os transformamos em um `GeoDataFrame`. É o tipo de dado que o `GeoPandas` necessita para realizar operações com dados geoespaciais.\n",
    "\n",
    "Então vamos *calcular a distância* de cada propriedade até o obelisco de Buenos Aires, e isso será registrado em uma nova coluna. Faremos um cálculo para ver se existe alguma relação entre essa distância e o preço do imóvel.\n",
    "\n",
    "Finalmente desenharemos uma linha geométrica com todas as estações de metrô de uma linha, e faremos um gráfico sobre a cidade."
   ]
  },
  {
   "cell_type": "markdown",
   "metadata": {},
   "source": [
    "Importamos as bibliotecas de que vamos precisar:"
   ]
  },
  {
   "cell_type": "code",
   "execution_count": 1,
   "metadata": {},
   "outputs": [],
   "source": [
    "import pandas as pd\n",
    "import geopandas as gpd\n",
    "import matplotlib.pyplot as plt\n",
    "\n",
    "import shapely # genera las figuras geometricas\n",
    "import descartes # relaciona shapely con matplotlib\n",
    "import pyproj # proyecciones. Transformar coordenadas"
   ]
  },
  {
   "cell_type": "markdown",
   "metadata": {},
   "source": [
    "### Parte 1 - Arquivo de Propriedades"
   ]
  },
  {
   "cell_type": "markdown",
   "metadata": {},
   "source": [
    "Vamos ler os dados do arquivo \"../Data/Real_State_Properati.csv\" em um `DataFrame` do pandas com o método [`pandas.read_csv()`](https://pandas.pydata.org/pandas-docs/stable/reference/api/pandas.read_csv.html), instanciando o objeto `df_prop`.\n",
    "\n",
    "**Nota**: os dados são separados por tabulações. O parâmetro [`sep = '\\ t'`](https://www.ti-enxame.com/pt/python/o-que-impressao-...-sep-t-significa/1045309866/) deve ser usado."
   ]
  },
  {
   "cell_type": "markdown",
   "metadata": {},
   "source": [
    "#### Tomamos uma amostra de 5 elementos"
   ]
  },
  {
   "cell_type": "markdown",
   "metadata": {},
   "source": [
    "As colunas do conjunto de dados são:\n",
    "\n",
    "- `property_type`: Tipo de Propriedade. - `object`\n",
    "- `place_name`: Bairro de Buenos Aires. - `object`\n",
    "- `country_name`: Nome do país. Fixo 'Argentina'. - `object`\n",
    "- `state_name`: Província ou Estado. Fixo 'Capital Federal'. - `object`\n",
    "- `lat`: Latitude da posição geoespacial da propriedade. - `float64`\n",
    "- `lon`: Longitude da posição geoespacial da propriedade. - `float64`\n",
    "- `price`: Preço da propriedade. - `float64`\n",
    "- `currency`: Moeda usada para o valor da propriedade. - `object`\n",
    "- `surface_total_in_m2`: Área da propriedade. - `float64`"
   ]
  },
  {
   "cell_type": "code",
   "execution_count": null,
   "metadata": {},
   "outputs": [],
   "source": []
  },
  {
   "cell_type": "markdown",
   "metadata": {},
   "source": [
    "#### Transforme o DataFrame em um GeoDataFrame\n",
    "\n",
    "Para gerar um `GeoDataFrame`, precisamos adicionar uma nova coluna contendo uma forma geométrica às colunas do `DataFrame`. Nesse caso, um ponto, que é gerado a partir de latitude e longitude.\n",
    "\n",
    "Recomenda-se que a nova coluna seja nomeada `geometry`. O método [`geopandas.points_from_xy()`](https://geopandas.org/docs/reference/api/geopandas.points_from_xy.html) define o tipo **ponto**, ao inserirmos primeiro a **longitude** e a **latitude**."
   ]
  },
  {
   "cell_type": "code",
   "execution_count": 2,
   "metadata": {
    "colab": {
     "base_uri": "https://localhost:8080/",
     "height": 289
    },
    "colab_type": "code",
    "executionInfo": {
     "elapsed": 830,
     "status": "ok",
     "timestamp": 1567641541793,
     "user": {
      "displayName": "Julián Ansaldo",
      "photoUrl": "https://lh3.googleusercontent.com/a-/AAuE7mCQI0iy6sTR9TfuLMfXZ90XCqxfdAQtMEcBkjfs1w=s64",
      "userId": "10643095115217147090"
     },
     "user_tz": 180
    },
    "id": "vRpX0jS6G_x5",
    "outputId": "178eafb8-17f3-4205-fcbe-9368fbd51efa",
    "slideshow": {
     "slide_type": "fragment"
    }
   },
   "outputs": [
    {
     "ename": "SyntaxError",
     "evalue": "invalid syntax (3600179281.py, line 1)",
     "output_type": "error",
     "traceback": [
      "\u001b[0;36m  Cell \u001b[0;32mIn[2], line 1\u001b[0;36m\u001b[0m\n\u001b[0;31m    geometria =\u001b[0m\n\u001b[0m                ^\u001b[0m\n\u001b[0;31mSyntaxError\u001b[0m\u001b[0;31m:\u001b[0m invalid syntax\n"
     ]
    }
   ],
   "source": [
    "geometria = "
   ]
  },
  {
   "cell_type": "code",
   "execution_count": null,
   "metadata": {},
   "outputs": [],
   "source": [
    "geometria[0:2]"
   ]
  },
  {
   "cell_type": "code",
   "execution_count": null,
   "metadata": {
    "colab": {
     "base_uri": "https://localhost:8080/",
     "height": 289
    },
    "colab_type": "code",
    "executionInfo": {
     "elapsed": 830,
     "status": "ok",
     "timestamp": 1567641541793,
     "user": {
      "displayName": "Julián Ansaldo",
      "photoUrl": "https://lh3.googleusercontent.com/a-/AAuE7mCQI0iy6sTR9TfuLMfXZ90XCqxfdAQtMEcBkjfs1w=s64",
      "userId": "10643095115217147090"
     },
     "user_tz": 180
    },
    "id": "vRpX0jS6G_x5",
    "outputId": "178eafb8-17f3-4205-fcbe-9368fbd51efa",
    "slideshow": {
     "slide_type": "fragment"
    }
   },
   "outputs": [],
   "source": [
    "geo_prop = gpd.GeoDataFrame(  )"
   ]
  },
  {
   "cell_type": "code",
   "execution_count": null,
   "metadata": {},
   "outputs": [],
   "source": [
    "type(geo_prop)"
   ]
  },
  {
   "cell_type": "code",
   "execution_count": null,
   "metadata": {
    "colab": {
     "base_uri": "https://localhost:8080/",
     "height": 289
    },
    "colab_type": "code",
    "executionInfo": {
     "elapsed": 830,
     "status": "ok",
     "timestamp": 1567641541793,
     "user": {
      "displayName": "Julián Ansaldo",
      "photoUrl": "https://lh3.googleusercontent.com/a-/AAuE7mCQI0iy6sTR9TfuLMfXZ90XCqxfdAQtMEcBkjfs1w=s64",
      "userId": "10643095115217147090"
     },
     "user_tz": 180
    },
    "id": "vRpX0jS6G_x5",
    "outputId": "178eafb8-17f3-4205-fcbe-9368fbd51efa",
    "slideshow": {
     "slide_type": "fragment"
    }
   },
   "outputs": [],
   "source": [
    "geo_prop.loc[:4, ['geometry', 'lat', 'lon','property_type','place_name']]"
   ]
  },
  {
   "cell_type": "markdown",
   "metadata": {},
   "source": [
    "### Parte 2 - Arquivo da estação de metrô"
   ]
  },
  {
   "cell_type": "markdown",
   "metadata": {},
   "source": [
    "Vamos ler os dados do arquivo \"../Data/estaciones-de-subte.csv\" em um `DataFrame` do pandas com o método [`pandas.read_csv()`](https://pandas.pydata.org/docs/reference/api/pandas.read_csv.html). Vamos instanciar o objeto `df_subte`.\n",
    "\n",
    "**Nota**: Os dados são separados por vírgulas. O parâmetro `sep = ','` deve ser usado."
   ]
  },
  {
   "cell_type": "code",
   "execution_count": null,
   "metadata": {},
   "outputs": [],
   "source": []
  },
  {
   "cell_type": "markdown",
   "metadata": {},
   "source": [
    "#### Consultamos os primeiros $10$ registros"
   ]
  },
  {
   "cell_type": "markdown",
   "metadata": {},
   "source": [
    "As colunas do conjunto de dados são:\n",
    "\n",
    "- `lon`: Longitude da posição geoespacial da estação de metrô. - `float64`\n",
    "- `lat`: O t. Latitude da posição geoespacial da estação de metrô. - `float64\n",
    "- `id`:  Eu iria. Número sequencial. - `float64\n",
    "- `est`: Nome da estação de metrô. - `object`\n",
    "- `lin`: A linha de metrô à qual a estação pertence. - `object`"
   ]
  },
  {
   "cell_type": "code",
   "execution_count": null,
   "metadata": {},
   "outputs": [],
   "source": []
  },
  {
   "cell_type": "markdown",
   "metadata": {},
   "source": [
    "#### Transforme o DataFrame em um GeoDataFrame\n",
    "\n",
    "Para gerar um `GeoDataFrame`, precisamos adicionar uma nova coluna contendo uma forma geométrica às colunas do `DataFrame`. Nesse caso, um ponto, que é gerado a partir de latitude e longitude.\n",
    "\n",
    "Recomenda-se que a nova coluna seja nomeada `geometry`. O método [`geopandas.points_from_xy()`](https://geopandas.org/docs/reference/api/geopandas.points_from_xy.html) define o tipo **ponto**, ao inserirmos primeiro a **longitude** e a **latitude**."
   ]
  },
  {
   "cell_type": "code",
   "execution_count": null,
   "metadata": {
    "colab": {
     "base_uri": "https://localhost:8080/",
     "height": 289
    },
    "colab_type": "code",
    "executionInfo": {
     "elapsed": 830,
     "status": "ok",
     "timestamp": 1567641541793,
     "user": {
      "displayName": "Julián Ansaldo",
      "photoUrl": "https://lh3.googleusercontent.com/a-/AAuE7mCQI0iy6sTR9TfuLMfXZ90XCqxfdAQtMEcBkjfs1w=s64",
      "userId": "10643095115217147090"
     },
     "user_tz": 180
    },
    "id": "vRpX0jS6G_x5",
    "outputId": "178eafb8-17f3-4205-fcbe-9368fbd51efa",
    "slideshow": {
     "slide_type": "fragment"
    }
   },
   "outputs": [],
   "source": []
  },
  {
   "cell_type": "code",
   "execution_count": null,
   "metadata": {
    "colab": {
     "base_uri": "https://localhost:8080/",
     "height": 289
    },
    "colab_type": "code",
    "executionInfo": {
     "elapsed": 830,
     "status": "ok",
     "timestamp": 1567641541793,
     "user": {
      "displayName": "Julián Ansaldo",
      "photoUrl": "https://lh3.googleusercontent.com/a-/AAuE7mCQI0iy6sTR9TfuLMfXZ90XCqxfdAQtMEcBkjfs1w=s64",
      "userId": "10643095115217147090"
     },
     "user_tz": 180
    },
    "id": "vRpX0jS6G_x5",
    "outputId": "178eafb8-17f3-4205-fcbe-9368fbd51efa",
    "slideshow": {
     "slide_type": "fragment"
    }
   },
   "outputs": [],
   "source": [
    "geo_subte = "
   ]
  },
  {
   "cell_type": "code",
   "execution_count": null,
   "metadata": {},
   "outputs": [],
   "source": [
    "type(geo_subte)"
   ]
  },
  {
   "cell_type": "markdown",
   "metadata": {},
   "source": [
    "### Parte 3 - Cálculo da distância\n",
    "\n",
    "Vamos calcular a distância de cada propriedade ao obelisco de Buenos Aires, e a registraremos em uma nova coluna.\n",
    "\n",
    "<img src='img/Obelisco_de_BA_2008.jpeg' align='left' width=50%/>"
   ]
  },
  {
   "cell_type": "markdown",
   "metadata": {},
   "source": [
    "Primeiro, precisamos representar a localização geográfica do Obelisco de Buenos Aires. Fazemos isso usando a forma geométrica `Point` e as coordenadas do lugar."
   ]
  },
  {
   "cell_type": "code",
   "execution_count": null,
   "metadata": {},
   "outputs": [],
   "source": [
    "from shapely.geometry import Point\n",
    "\n",
    "point_obelisk_p = Point(-58.381555, -34.605425)"
   ]
  },
  {
   "cell_type": "code",
   "execution_count": null,
   "metadata": {},
   "outputs": [],
   "source": [
    "type(point_obelisk_p)"
   ]
  },
  {
   "cell_type": "markdown",
   "metadata": {},
   "source": [
    "Já o método que calcula a distância entre dois pontos, [`geopy.distance.geodesic`](https://geopy.readthedocs.io/en/stable/#geopy.distance.geodesic), precisa representar a localização geográfica do Obelisco de Buenos Aires por uma tupla."
   ]
  },
  {
   "cell_type": "code",
   "execution_count": null,
   "metadata": {},
   "outputs": [],
   "source": [
    "point_obelisk = (-58.381555,-34.605425)"
   ]
  },
  {
   "cell_type": "code",
   "execution_count": null,
   "metadata": {},
   "outputs": [],
   "source": [
    "type(point_obelisk)"
   ]
  },
  {
   "cell_type": "markdown",
   "metadata": {},
   "source": [
    "Agora podemos adicionar a nova coluna com a distância entre o ponto do obelisco e o ponto de cada propriedade (em metros). Vamos chamá-lo de `obelisk_distance`.\n",
    "\n",
    "**Uma iteração** deve ser gerada no índice de `geo_prop`:\n",
    "\n",
    "Ajuda:\n",
    "```python\n",
    "for i in geo_prop.index:\n",
    "    geo_prop.loc[i, 'distance_obelisk'] = Cálculo da distância entre o obelisco e cada propriedade.\n",
    "```\n",
    "    \n",
    "O [cálculo da distância](https://geopy.readthedocs.io/en/stable/#module-geopy.distance) é realizado com o método [`geopy.distance.geodesic()`](https://geopy.readthedocs.io/en/stable/#geopy.distance.geodesic), discutido anteriormente.\n",
    "\n",
    "Também com a instrução: \n",
    "\n",
    "```python \n",
    "geo_prop.loc[i, 'geometry'].X \n",
    "``` \n",
    "\n",
    "obtemos a coordenada de comprimento da distância. Deve terminar com `.meters` para indicar a distância em metros."
   ]
  },
  {
   "cell_type": "code",
   "execution_count": null,
   "metadata": {},
   "outputs": [],
   "source": [
    "import geopy.distance\n",
    "\n",
    "for i in geo_prop.index:\n",
    "    geo_prop.loc[i, 'distance_obelisk'] = "
   ]
  },
  {
   "cell_type": "code",
   "execution_count": null,
   "metadata": {},
   "outputs": [],
   "source": [
    "geo_prop.loc[:4, ['distance_obelisk','geometry', 'lat', 'lon','property_type','place_name']]"
   ]
  },
  {
   "cell_type": "markdown",
   "metadata": {},
   "source": [
    "É interessante encontrar **valores extremos** na distância calculada, os `outliers`. Cálculos estatísticos podem nos confundir. Para isso, vamos classificar o `GeoDataFrame` `geo_prop` pela coluna `distance_obelisk` em ordem decrescente. E veja se nos primeiros valores encontramos distâncias que apresentam um valor extremo em relação aos demais."
   ]
  },
  {
   "cell_type": "code",
   "execution_count": null,
   "metadata": {},
   "outputs": [],
   "source": []
  },
  {
   "cell_type": "markdown",
   "metadata": {},
   "source": [
    "O primeiro registro tem a distância errada, que é gerada a partir dos dados de comprimento errados. Melhor removê-lo.\n",
    "\n",
    "Para fazer isso, procuramos as propriedades que têm uma `distância_obelisco` maior que $19.000~$m e as eliminamos:\n",
    "\n",
    "- Procuramos os valores de índice que representam essas propriedades:"
   ]
  },
  {
   "cell_type": "code",
   "execution_count": null,
   "metadata": {},
   "outputs": [],
   "source": [
    "indice = geo_prop[geo_prop.distance_obelisk > 19000].index\n",
    "\n",
    "indice"
   ]
  },
  {
   "cell_type": "markdown",
   "metadata": {},
   "source": [
    "- Con el método drop eliminamos esas filas\n",
    "\n",
    "<code>geo_prop.drop(              ,inplace=True)</code>"
   ]
  },
  {
   "cell_type": "code",
   "execution_count": null,
   "metadata": {},
   "outputs": [],
   "source": []
  },
  {
   "cell_type": "markdown",
   "metadata": {},
   "source": [
    "Verificamos ordenando novamente pela coluna `obelisk_distance` em ordem decrescente."
   ]
  },
  {
   "cell_type": "code",
   "execution_count": null,
   "metadata": {},
   "outputs": [],
   "source": []
  },
  {
   "cell_type": "markdown",
   "metadata": {},
   "source": [
    "E agora podemos fazer um histograma sobre as distâncias."
   ]
  },
  {
   "cell_type": "code",
   "execution_count": null,
   "metadata": {},
   "outputs": [],
   "source": [
    "plt.title('Distancia al Obelisco')\n",
    "plt.hist(geo_prop[\"distance_obelisk\"], bins=20, alpha=1, edgecolor = 'black',  linewidth=1)\n",
    "plt.grid(True)\n",
    "plt.show()\n",
    "plt.clf()"
   ]
  },
  {
   "cell_type": "markdown",
   "metadata": {},
   "source": [
    "### Parte 4 - Linha conectando as estações de metrô\n",
    "\n",
    "Vamos fazer uma linha geométrica com as estações de metrô da linha H e representá-la graficamente sobre a cidade.\n",
    "\n",
    "<div>\n",
    "    <div class = \"mapa\">\n",
    "        <img src='img/metro_BA.jpg' alt=\"Elementos geométricos\" width=80% height=90%>\n",
    "    </div>\n",
    "</div>"
   ]
  },
  {
   "cell_type": "markdown",
   "metadata": {},
   "source": [
    "Vemos os primeiros registros do `GeoDataFrame` `geo_subte`."
   ]
  },
  {
   "cell_type": "code",
   "execution_count": null,
   "metadata": {},
   "outputs": [],
   "source": []
  },
  {
   "cell_type": "markdown",
   "metadata": {},
   "source": [
    "Primeiro vamos selecionar apenas as estações na linha H, e salvar a seleção na variável `geo_subte_h`."
   ]
  },
  {
   "cell_type": "code",
   "execution_count": null,
   "metadata": {},
   "outputs": [],
   "source": [
    "geo_subte_h = "
   ]
  },
  {
   "cell_type": "code",
   "execution_count": null,
   "metadata": {},
   "outputs": [],
   "source": [
    "geo_subte_h"
   ]
  },
  {
   "cell_type": "markdown",
   "metadata": {},
   "source": [
    "Como mostra o desenho, a linha vai de Norte a Sul (ou Sul a Norte). Como as estações devem estar alinhadas para que a linha saia corretamente, podemos usar a coluna `lat` para ordená-las; `lat` é a latitude de cada estação. Vamos aplicar o método [`pandas.DataFrame.sort_values()`](https://pandas.pydata.org/pandas-docs/stable/reference/api/pandas.DataFrame.sort_values.html) para realizar o ordenamento."
   ]
  },
  {
   "cell_type": "code",
   "execution_count": null,
   "metadata": {},
   "outputs": [],
   "source": [
    "geo_subte_h = "
   ]
  },
  {
   "cell_type": "code",
   "execution_count": null,
   "metadata": {},
   "outputs": [],
   "source": [
    "geo_subte_h"
   ]
  },
  {
   "cell_type": "markdown",
   "metadata": {},
   "source": [
    "Para simplificar a codificação, manteremos apenas os dados geográficos de cada estação. Geramos uma `GeoSeries` com a coluna geométrica de `geo_subte_h`. E o chamamos de `geo_subte_h_geometry`."
   ]
  },
  {
   "cell_type": "code",
   "execution_count": null,
   "metadata": {},
   "outputs": [],
   "source": [
    "geo_subte_h_geometry = "
   ]
  },
  {
   "cell_type": "code",
   "execution_count": null,
   "metadata": {},
   "outputs": [],
   "source": [
    "type(geo_subte_h_geometry)"
   ]
  },
  {
   "cell_type": "markdown",
   "metadata": {},
   "source": [
    "Agora criamos as linhas que conectam as estações de metrô. Cada linha é formada por **dois pontos**. Portanto, temos que pegar o primeiro e o segundo pontos do `Geoserie` e aplicar o método [`shapely.geometry.LineString()`](https://autogis-site.readthedocs.io/en/latest/notebooks/L1/geometric-objects.html#linestring) a eles. Em seguida, continuamos com o segundo e o terceiro, e assim por diante.\n",
    "\n",
    "Primeiro instanciamos uma lista onde salvaremos cada linha e a chamaremos de `line_h`. Deve ter comprimento igual ao número de estações menos $1$, ou seja, comprimento $11$."
   ]
  },
  {
   "cell_type": "code",
   "execution_count": null,
   "metadata": {},
   "outputs": [],
   "source": [
    "longitud_linea = len(geo_subte_h_geometry)-1\n",
    "linea_h = list(range(longitud_linea))"
   ]
  },
  {
   "cell_type": "code",
   "execution_count": null,
   "metadata": {},
   "outputs": [],
   "source": [
    "len(linea_h)"
   ]
  },
  {
   "cell_type": "markdown",
   "metadata": {},
   "source": [
    "Agora podemos criar as linhas e salvá-las na lista.\n",
    "\n",
    "Uma iteração deve ser gerada para atravessar a `GeoSerie` `geo_subte_h_geometry`.\n",
    "\n",
    "```python\n",
    "para i no intervalo (line_length):\n",
    "     linea_h [i] = Eu crio a linha entre o elemento i e o elemento i + 1\n",
    "```\n",
    "    \n",
    "O cálculo é realizado com o método [`shapely.geometry.LineString()`](https://autogis-site.readthedocs.io/en/latest/notebooks/L1/geometric-objects.html#linestring) da [biblioteca shapely](https://shapely.readthedocs.io/en/stable/manual.html), discutido anteriormente."
   ]
  },
  {
   "cell_type": "code",
   "execution_count": null,
   "metadata": {},
   "outputs": [],
   "source": [
    "from shapely.geometry import LineString\n",
    "\n",
    "for i in range(longitud_linea): \n",
    "    linea_h[i] = "
   ]
  },
  {
   "cell_type": "code",
   "execution_count": null,
   "metadata": {},
   "outputs": [],
   "source": [
    "linea_h"
   ]
  },
  {
   "cell_type": "markdown",
   "metadata": {},
   "source": [
    "Agora vamos representar graficamente as linhas em um mapa com os bairros de Buenos Aires. Vamos ler os dados do arquivo `../Data/Neighborhoods.csv` em um `DataFrame` do pandas com o método [`pandas.read_csv()`](https://pandas.pydata.org/docs/reference/api/pandas.read_csv.html). Vamos chamá-lo de `df_bairros`."
   ]
  },
  {
   "cell_type": "code",
   "execution_count": null,
   "metadata": {},
   "outputs": [],
   "source": [
    "df_barrios = "
   ]
  },
  {
   "cell_type": "code",
   "execution_count": null,
   "metadata": {},
   "outputs": [],
   "source": [
    "df_barrios.head(3)"
   ]
  },
  {
   "cell_type": "code",
   "execution_count": null,
   "metadata": {},
   "outputs": [],
   "source": [
    "type(df_barrios)"
   ]
  },
  {
   "cell_type": "markdown",
   "metadata": {},
   "source": [
    "E então geramos um `GeoDataFrame` das vizinhanças do `Dataframe`. Neste caso, a coluna `WKT` já contém uma forma geométrica do tipo Polígono, que representa o contorno de cada vizinhança. Mas em um formato `WKT`, não permite gerar um `GeoDataFrame`. Portanto, temos que convertê-lo em um formato de `geometry`."
   ]
  },
  {
   "cell_type": "code",
   "execution_count": null,
   "metadata": {},
   "outputs": [],
   "source": [
    "import shapely.wkt\n",
    "\n",
    "df_bairros[\"WKT\"] = df_bairros[\"WKT\"].apply(shapely.wkt.loads) \n",
    "geo_barrios = gpd.GeoDataFrame(df_bairros, geometry = 'WKT')"
   ]
  },
  {
   "cell_type": "code",
   "execution_count": null,
   "metadata": {},
   "outputs": [],
   "source": [
    "geo_barrios.dtypes"
   ]
  },
  {
   "cell_type": "markdown",
   "metadata": {},
   "source": [
    "Por outro lado, precisamos representar graficamente as linhas para gerar um `Geoserie`, em que cada elemento é composto por dois pontos e a linha entre eles."
   ]
  },
  {
   "cell_type": "code",
   "execution_count": null,
   "metadata": {},
   "outputs": [],
   "source": [
    "linea_h_geo = list(range(longitud_linea))\n",
    "\n",
    "for i in range(longitud_linea): \n",
    "    linea_h_geo[i] = gpd.GeoSeries([geo_subte_h_geometry.iloc[i], \n",
    "                                    geo_subte_h_geometry.iloc[i + 1], \n",
    "                                    linea_h[i]\n",
    "                                   ]\n",
    "                                  )    "
   ]
  },
  {
   "cell_type": "code",
   "execution_count": null,
   "metadata": {},
   "outputs": [],
   "source": [
    "linea_h_geo[:2]"
   ]
  },
  {
   "cell_type": "markdown",
   "metadata": {},
   "source": [
    "Com o método `plot()`, geramos o gráfico:"
   ]
  },
  {
   "cell_type": "code",
   "execution_count": null,
   "metadata": {},
   "outputs": [],
   "source": [
    "fig, ax = plt.subplots()\n",
    "ax.set_aspect('equal')\n",
    "geo_barrios.plot(ax = ax, \n",
    "                 color = 'white', \n",
    "                 edgecolor = 'black'\n",
    "                )\n",
    "\n",
    "for i in range(len(geo_subte_h_geometry) - 2): \n",
    "    linea_h_geo[i].plot(ax = ax, \n",
    "                        color = 'red'\n",
    "                       )\n",
    "\n",
    "plt.show();"
   ]
  }
 ],
 "metadata": {
  "kernelspec": {
   "display_name": "Python 3",
   "language": "python",
   "name": "python3"
  },
  "language_info": {
   "codemirror_mode": {
    "name": "ipython",
    "version": 3
   },
   "file_extension": ".py",
   "mimetype": "text/x-python",
   "name": "python",
   "nbconvert_exporter": "python",
   "pygments_lexer": "ipython3",
   "version": "3.9.6"
  }
 },
 "nbformat": 4,
 "nbformat_minor": 4
}
