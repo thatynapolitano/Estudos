{
 "cells": [
  {
   "cell_type": "markdown",
   "metadata": {},
   "source": [
    "<img src='letscodebr_cover.jpeg' align='left' width=100%/>"
   ]
  },
  {
   "cell_type": "markdown",
   "metadata": {},
   "source": [
    "# Setup\n",
    "\n",
    "Para trabalhar com geopandas talvez voc6e queira criar um [novo ambiente no Anaconda](https://conda.io/projects/conda/en/latest/user-guide/tasks/manage-environments.html) e instalar algumas bibliotecas seguindo estas instruções. No Prompt do Anaconda no Windows e no terminal no Linux ou Mac, iremos executar uma a uma estas linhas:\n",
    "\n",
    "\n",
    "<code>conda create --yes --name dhdsblend2021_geopandas python=3.7</code>\n",
    "\n",
    "<code>conda activate dhdsblend2021_geopandas</code>\n",
    "\n",
    "<code>conda install jupyterlab=2.2.6</code>\n",
    "\n",
    "<code>conda install -c conda-forge pyproj=2.4.2.post1</code>\n",
    "\n",
    "<code>conda install -c conda-forge descartes=1.1.0</code>\n",
    "\n",
    "<code>conda install -c conda-forge geopandas=0.8.1</code>\n",
    "\n",
    "<code>conda install -c conda-forge geopy=2.0.0</code>\n",
    "\n",
    "Assim que as bibliotecas forem instaladas, fechamos o jupyter lab e o iniciamos novamente **a partir do ambiente recém-criado** Depois de fazer isso, as importações na próxima célula devem funcionar sem erro."
   ]
  },
  {
   "cell_type": "markdown",
   "metadata": {},
   "source": [
    "# Ada Tech [DS-PY-004] Técnicas de Programação I (PY) Aulas 4 e 5 : GeoPandas - Dados Geoespaciais."
   ]
  },
  {
   "cell_type": "code",
   "execution_count": 1,
   "metadata": {},
   "outputs": [],
   "source": [
    "#!pip install geopandas\n",
    "#!pip install descartes"
   ]
  },
  {
   "cell_type": "code",
   "execution_count": 2,
   "metadata": {
    "slideshow": {
     "slide_type": "skip"
    }
   },
   "outputs": [],
   "source": [
    "import pandas as pd\n",
    "import geopandas as gpd\n",
    "import matplotlib.pyplot as plt\n",
    "import descartes\n",
    "import pyproj"
   ]
  },
  {
   "cell_type": "markdown",
   "metadata": {
    "slideshow": {
     "slide_type": "slide"
    },
    "toc-hr-collapsed": false
   },
   "source": [
    "\n",
    "# GeoPandas\n"
   ]
  },
  {
   "cell_type": "markdown",
   "metadata": {
    "slideshow": {
     "slide_type": "slide"
    },
    "toc-hr-collapsed": false
   },
   "source": [
    "\n",
    "## Sistemas de Información Geográfica (GIS)\n"
   ]
  },
  {
   "cell_type": "markdown",
   "metadata": {
    "slideshow": {
     "slide_type": "slide"
    }
   },
   "source": [
    "<a id=\"section_intro\"></a> \n",
    "###  Intro\n",
    "\n",
    "Um Sistema de Informações Geográficas (SIG), ou [Geographic Information System (GIS)](https://www.esri.com/en-us/what-is-gis/overview), é um sistema que cria, gerencia, analisa e mapeia todos os tipos de dados. O SIG conecta dados a um mapa, integrando dados de localização (onde as coisas estão) com todos os tipos de informações descritivas (como as coisas são lá). Isso fornece uma base para mapeamento e análise que é usada na ciência e em quase todos os setores. O SIG ajuda os usuários a entenderem padrões, relacionamentos e contexto geográfico. Os benefícios incluem melhor comunicação e eficiência, bem como melhor gestão e tomada de decisões."
   ]
  },
  {
   "cell_type": "markdown",
   "metadata": {
    "slideshow": {
     "slide_type": "slide"
    }
   },
   "source": [
    "Os [Sistemas de Informação Geográfica](https://www.nationalgeographic.org/encyclopedia/geographic-information-system-gis/) são definidos como sistemas que permitem o armazenamento de dados geoespaciais para consulta, manipulação e representação. A representação destes dados é o campo de estudo da [Cartografia](https://unearthlabs.com/blog/modern-cartography/). A partir do trabalho com o SIG, nasceu uma nova disciplina científica, conhecida como [Ciência da Informação Geográfica](https://catalog.uconn.edu/college-of-liberal-arts-and-sciences/geographic-information-science/).\n",
    "\n",
    "<div>\n",
    "    <div class = \"mapa\">\n",
    "        <img src='img/SIG.jpg' alt=\"Exemplo de SIG\" width=30% height=40%>\n",
    "        <p><i>Exemplo de SIG</i></p>\n",
    "    </div>\n",
    "</div>"
   ]
  },
  {
   "cell_type": "markdown",
   "metadata": {
    "slideshow": {
     "slide_type": "slide"
    }
   },
   "source": [
    "Ciência da Informação Geográfica [Dados geoespaciais](https://www.ibm.com/topics/geospatial-data), também chamados de informações geográficas, geodados ou simplesmente dados espaciais, são dados georreferenciados. [Georreferenciamento](https://pro.arcgis.com/en/pro-app/latest/help/data/imagery/overview-of-georeferencing.htm) é a técnica de posicionamento espacial de uma entidade em uma localização geográfica única e bem definida em um [sistema de coordenadas](https://www.britannica.com/science/coordinate-system).\n",
    "\n",
    "Os geodados possuem informação *implícita* (número de habitantes, referência cadastral, endereço postal, etc.) ou *explícita* (coordenadas obtidas a partir de dados capturados por GPS, etc.).\n",
    "\n",
    "A justificativa para o uso de um GIS (GIS) é o gerenciamento de informações geoespaciais. O sistema permite que as informações sejam separadas em diferentes camadas temáticas e as armazene de forma independente.\n",
    "\n",
    "\n",
    "<div class = \"mapa\">\n",
    "    <img src='img/camadas.PNG' alt=\"Varias capas temáticas\" width=30% height=40%>\n",
    "    <p><i>Varias capas temáticas</i></p>\n",
    "</div>\n",
    "\n",
    "\n",
    "Ejemplos de uso de SIG: localización de lugares, cálculo de rutas óptimas, relación entre localidades usando variables geoespaciales asociadas a ellas, por ejemplo, pozos petroleros cercanos con igual profundidad, etc.\n",
    "\n",
    "\n",
    "Exemplos de uso de GIS: \n",
    "\n",
    "- Localização de locais, \n",
    "\n",
    "- Cálculo de rotas ótimizadas, \n",
    "\n",
    "- Relacionamento entre locais usando variáveis geoespaciais associadas a eles, por exemplo, poços de petróleo próximos com igual profundidade, etc."
   ]
  },
  {
   "cell_type": "markdown",
   "metadata": {
    "slideshow": {
     "slide_type": "skip"
    }
   },
   "source": [
    "### Sistema de coordenadas geográficas\n",
    "\n",
    "O sistema mais comum é aquele que referencia uma posição espacial por sua [latitude](https://www.britannica.com/science/latitude) e [longitude](https://www.nationalgeographic.org/activity/introduction-latitude-longitude/). Se considerarmos a Terra como uma esfera (ou esferóide), existem duas linhas fundamentais: o [meridiano de Greenwich](https://www.britannica.com/place/Greenwich-meridian), que vai de um pólo a outro, e o [Equador](https://www.britannica.com/place/Equator), que cruza o eixo de rotação através do centro da esfera. As linhas paralelas ao Equador são chamadas de <b> latitude </b> e as linhas paralelas a Greenwich, <b> longitude </b>.\n",
    "\n",
    "<div class = \"mapa\">\n",
    "    <img src='img/latitude-e-longitude.jpeg' alt=\"Latitud y Longitud\" width=40% height=30%>\n",
    "    <p><i>Latitude e Longitude</i></p>\n",
    "</div>\n",
    "      \n",
    "A <i> latitude </i> é indicada com valores positivos entre $0$ e $90$ para as linhas ao norte do Equador, e com valores negativos entre $0$ e $-90$ para as que estão ao sul. Outra forma de nomeá-los é sempre usar um valor positivo entre $0$ e $90$ e adicionar se corresponde a Norte ou Sul.\n",
    "      \n",
    "A <i> longitude </i> é indicada de forma semelhante, mas com valores positivos entre $0$ e $180$ para as linhas a leste de Greenwich, e com valores negativos entre $0$ e $-180$ para aquelas a oeste. Outra forma de nomeá-los é sempre usar um valor positivo entre $0$ e $180$ e adicionar se corresponde a leste ou oeste."
   ]
  },
  {
   "cell_type": "markdown",
   "metadata": {
    "slideshow": {
     "slide_type": "skip"
    }
   },
   "source": [
    "Uma medição usando graus, minutos e segundos também pode ser usada como coordenadas geográficas. Dois dados são necessários: quantos graus em relação ao Equador, ao Norte ou Sul, e quantos graus em relação ao Meridiano de Greenwich, ao Leste ou Oeste."
   ]
  },
  {
   "cell_type": "markdown",
   "metadata": {
    "slideshow": {
     "slide_type": "skip"
    }
   },
   "source": [
    "### Tipos de Datos Geoespaciales\n",
    "\n",
    "Existem dois tipos de dados geoespaciais em um GIS: [raster](https://grindgis.com/gis/difference-between-raster-and-vector-data-gis) e [vetor](https://gisgeography.com/spatial-data-types-vector-raster/)."
   ]
  },
  {
   "cell_type": "markdown",
   "metadata": {
    "slideshow": {
     "slide_type": "skip"
    }
   },
   "source": [
    "#### Tipos Raster de Dados \n",
    "\n",
    "O tipo de dados [raster](https://datacarpentry.org/organization-geospatial/01-intro-raster-data/) é o que consideramos imagens digitais ou mapas. Eles são representados por malhas ou quadrados; divide o espaço em células regulares onde cada uma representa um único valor. Semelhante à fotografia digital, em que o pixel é a menor unidade de informação em uma imagem e uma combinação desses pixels cria uma imagem.\n",
    "\n",
    "Este tipo de dado se concentra nas propriedades do espaço, por exemplo, elevações em um terreno, nível de luz, variedade de culturas. Não sendo tão preciso na localização no espaço.\n",
    "\n",
    "\n",
    "<div>\n",
    "    <div class = \"mapa\">\n",
    "        <img src='img/GIS_RASTER_VECTOR.PNG' alt=\"Tipo Raster de dado\" width=30% height=40%>\n",
    "        <p>\n",
    "            <i>Tipo Raster de dado</i>\n",
    "        </p>\n",
    "    </div>\n",
    "    <div class = \"mapa\">\n",
    "        <img src='img/GIS_RASTER_VECTOR_PIXEL.PNG' alt=\"Tipo Raster de dado pixelado\" width=30% height=40%>\n",
    "        <p>\n",
    "            <i>Tipo Raster de dado pixelado</i>\n",
    "        </p>\n",
    "    </div>\n",
    "</div>"
   ]
  },
  {
   "cell_type": "markdown",
   "metadata": {
    "slideshow": {
     "slide_type": "skip"
    }
   },
   "source": [
    "#### Tipos Vetorial de Dados \n",
    "\n",
    "O tipo de dados [vetorial](https://datacarpentry.org/organization-geospatial/02-intro-vector-data/) representa objetos que vêm de várias fontes: localidades, empresas, bairros, rotas, nível de contaminação, etc. São dados discretos, ou seja, com limites definidos. E com uma localização precisa no espaço.\n",
    "\n",
    "<div>\n",
    "    <div class = \"mapa\">\n",
    "        <img src='img/Vetorial.PNG' alt=\"Tipo de dato Vectorial\" width=30% height=40%>\n",
    "        <p>\n",
    "            <i>Tipo Vetorial de dado </i>\n",
    "        </p>\n",
    "    </div>\n",
    "</div>\n",
    "\n",
    "Três [elementos geométricos](https://www.igismap.com/gis-tutorial-basic-spatial-elements-points-lines-and-polygons/) são usados para modelar digitalmente os objetos: o ponto, a linha e o polígono.\n",
    "\n",
    "<div>\n",
    "    <div class = \"mapa\">\n",
    "        <img src='img/Vetorial2.PNG' alt=\"Elementos geométricos\" width=30% height=40%>\n",
    "        <p><i>Elementos geométricos</i></p>\n",
    "    </div>\n",
    "</div>\n",
    "\n",
    "**pontos** são usados para características geográficas que podem ser melhor expressas por um único ponto de referência. Por exemplo, estações de metrô, edifícios, locais de poços, pontos de interesse.\n",
    "\n",
    "**Linhas unidimensionais ou polilinhas** são usadas para recursos lineares como rios, estradas, ferrovias, linhas de levantamento ou curvas de nível. Em elementos lineares, *distância* pode ser medida.\n",
    "\n",
    "**Polígonos** são usados para representar características geográficas que cobrem uma área específica da superfície da Terra. Por exemplo, lagos, limites de parques naturais, reservatórios, províncias. Com eles você pode medir o *perímetro* e a *área*.\n",
    "\n",
    "Lembre-se que em ambos os tipos de dados precisamos das coordenadas da sua localização geográfica.\n",
    "\n",
    "<div>\n",
    "    <div class = \"mapa\">\n",
    "        <img src='img/Mapa_Combinado.PNG' alt=\"Tipo de datos combinados\" width=40% height=50%>\n",
    "        <p><i>Tipo combinado de dados. Raster e Vetorial</i></p>\n",
    "    </div>\n",
    "</div>"
   ]
  },
  {
   "cell_type": "markdown",
   "metadata": {
    "slideshow": {
     "slide_type": "skip"
    }
   },
   "source": [
    "### Arquivos de dados geoespaciais\n",
    "\n",
    "\n",
    "Geralmente, o formato GIS se refere a formatos de arquivo com dados geoespaciais. Os dados geoespaciais do tipo *raster* são armazenados nos tipos de arquivo que conhecemos para o armazenamento de imagens. Por exemplo, os formatos TIFF, JPEG, PNG, etc. Os dados geoespaciais mais comuns do tipo *vetor* são:\n",
    "\n",
    "- SHP (Shapefile): O [shapefile](https://enterprise.arcgis.com/pt-br/portal/latest/use/shapefiles.htm) é o tipo mais comum de arquivo geoespacial. Todos os formatos comerciais e de código aberto aceitam shapefiles como formatos GIS. Tornou-se o padrão da indústria. Ele não é um único arquivo, um shapefile é composto de vários arquivos que são lidos como um só. O mínimo necessário é três: o .shp armazena as entidades geométricas, o .shx armazena o índice das entidades geométricas e o .dbf é o banco de dados, no formato dBASE. Opcionalmente, você pode ter um .prj, .sbn, .sbx, .fbn, .fbx, .ain, .aih, .shp, .xml.\n",
    "\n",
    "- CSV / GeoCSV: CSV (Comma-separated values): representa os dados em forma de tabela separados por vírgulas. É utilizado para armazenar informações alfanuméricas com a possibilidade de armazenar as coordenadas e posteriormente transformá-las em uma figura geométrica. É comum encontrá-los em publicações de organizações. A vantagem é que esses arquivos ocupam pouco espaço e são fáceis de compartilhar. O [GeoCSV](https://giswiki.hsr.ch/GeoCSV) é o formato de arquivo tabular CSV com uma extensão de geometria espacial opcional. Possui duas variantes: a opção Ponto X / Y ou a opção WKT. A opção WKT é a opção preferida, pois o construtor é armazenado em uma única coluna do tipo String, por exemplo \"POINT (-4,5454 45,2211)\", que significa -4,5454 oeste e 45,2211 norte (longitude / latitude). Esta opção oferece suporte aos tipos de geometria Point, LineString, Polygon, MultiPoint, MultiLineString, MultiPolygon e até mesmo GeometryCollection e ARCos. A opção Ponto X / Y só pode armazenar pontos.\n",
    "\n",
    "- GeoJSON (Javascript Object Notation): É um formato de troca de dados geoespaciais baseado em JSON. [GeoJSON](https://geojson.org/) define a gramática com base no padrão WKT.\n",
    "\n",
    "- KMZ/KML (Keyhole Markup Language): KML significa [Keyhole Markup Language](https://developers.google.com/kml). Este formato GIS é baseado em XML e é usado principalmente pelo Google Earth. KML foi desenvolvido pela Keyhole Inc., que mais tarde foi adquirida pelo Google. [KMZ](https://developers.google.com/kml/documentation/kmzarchives) (KML-Zipped) substituiu KML como o formato geoespacial padrão para o Google Earth porque é uma versão compactada do arquivo. KML / KMZ se tornou um padrão internacional do [Open Geospatial Consortium](https://www.ogc.org/) em 2008.\n",
    "\n",
    "- OSM (OpenStreetMap): [OpenStreetMap](https://www.openstreetmap.org/) é o maior projeto de dados GIS aberto que fornece dados de mapas para milhares de sites, aplicativos móveis e dispositivos de hardware.\n",
    "\n",
    "- PostGIS + PostgreSQL: O [PostGIS](https://postgis.net/) de código aberto estende o banco de dados [PostgreSQL](https://www.postgresql.org/) com dados geoespaciais."
   ]
  },
  {
   "cell_type": "markdown",
   "metadata": {
    "slideshow": {
     "slide_type": "skip"
    }
   },
   "source": [
    "Com <b>GeoPandas</b> muitos desses tipos de arquivo podem ser lidos usando a função `geopandas.read_file()`."
   ]
  },
  {
   "cell_type": "markdown",
   "metadata": {},
   "source": [
    "#### Exemplos de arquivos de dados geoespaciais"
   ]
  },
  {
   "cell_type": "markdown",
   "metadata": {},
   "source": [
    "- Arquivo com formato **GeoCSV**: É um arquivo csv, com dados dos bairros de Buenos Aires, com extensão geoespacial registrada na coluna WKT. Esta coluna contém o elemento geométrico *Polygon* que representa o limite de cada vizinhança.  "
   ]
  },
  {
   "cell_type": "code",
   "execution_count": 3,
   "metadata": {
    "colab": {
     "base_uri": "https://localhost:8080/",
     "height": 289
    },
    "colab_type": "code",
    "executionInfo": {
     "elapsed": 830,
     "status": "ok",
     "timestamp": 1567641541793,
     "user": {
      "displayName": "Julián Ansaldo",
      "photoUrl": "https://lh3.googleusercontent.com/a-/AAuE7mCQI0iy6sTR9TfuLMfXZ90XCqxfdAQtMEcBkjfs1w=s64",
      "userId": "10643095115217147090"
     },
     "user_tz": 180
    },
    "id": "vRpX0jS6G_x5",
    "outputId": "178eafb8-17f3-4205-fcbe-9368fbd51efa"
   },
   "outputs": [
    {
     "data": {
      "text/html": [
       "<div>\n",
       "<style scoped>\n",
       "    .dataframe tbody tr th:only-of-type {\n",
       "        vertical-align: middle;\n",
       "    }\n",
       "\n",
       "    .dataframe tbody tr th {\n",
       "        vertical-align: top;\n",
       "    }\n",
       "\n",
       "    .dataframe thead th {\n",
       "        text-align: right;\n",
       "    }\n",
       "</style>\n",
       "<table border=\"1\" class=\"dataframe\">\n",
       "  <thead>\n",
       "    <tr style=\"text-align: right;\">\n",
       "      <th></th>\n",
       "      <th>WKT</th>\n",
       "      <th>NEIGHBORHOOD</th>\n",
       "      <th>COMMUNE</th>\n",
       "      <th>PERIMETER</th>\n",
       "      <th>AREA</th>\n",
       "      <th>geometry</th>\n",
       "    </tr>\n",
       "  </thead>\n",
       "  <tbody>\n",
       "    <tr>\n",
       "      <th>0</th>\n",
       "      <td>POLYGON ((-58.4528200492791 -34.5959886570639,...</td>\n",
       "      <td>CHACARITA</td>\n",
       "      <td>15.00000000000</td>\n",
       "      <td>7725.69522770465</td>\n",
       "      <td>3118100.97239645380</td>\n",
       "      <td>POLYGON ((-58.45282 -34.59599, -58.45366 -34.5...</td>\n",
       "    </tr>\n",
       "    <tr>\n",
       "      <th>1</th>\n",
       "      <td>POLYGON ((-58.4655768128541 -34.5965577078058,...</td>\n",
       "      <td>PATERNAL</td>\n",
       "      <td>15.00000000000</td>\n",
       "      <td>7087.51329532852</td>\n",
       "      <td>2229829.03362795900</td>\n",
       "      <td>POLYGON ((-58.46558 -34.59656, -58.46562 -34.5...</td>\n",
       "    </tr>\n",
       "    <tr>\n",
       "      <th>2</th>\n",
       "      <td>POLYGON ((-58.4237529813037 -34.5978273383243,...</td>\n",
       "      <td>VILLA CRESPO</td>\n",
       "      <td>15.00000000000</td>\n",
       "      <td>8132.69934845057</td>\n",
       "      <td>3613583.69021913320</td>\n",
       "      <td>POLYGON ((-58.42375 -34.59783, -58.42495 -34.5...</td>\n",
       "    </tr>\n",
       "    <tr>\n",
       "      <th>3</th>\n",
       "      <td>POLYGON ((-58.4946097568899 -34.6148652395239,...</td>\n",
       "      <td>VILLA DEL PARQUE</td>\n",
       "      <td>11.00000000000</td>\n",
       "      <td>7705.38979708046</td>\n",
       "      <td>3399595.64148383770</td>\n",
       "      <td>POLYGON ((-58.49461 -34.61487, -58.49479 -34.6...</td>\n",
       "    </tr>\n",
       "    <tr>\n",
       "      <th>4</th>\n",
       "      <td>POLYGON ((-58.4128700313089 -34.6141162515854,...</td>\n",
       "      <td>ALMAGRO</td>\n",
       "      <td>5.00000000000</td>\n",
       "      <td>8537.90136849144</td>\n",
       "      <td>4050752.24523803680</td>\n",
       "      <td>POLYGON ((-58.41287 -34.61412, -58.41282 -34.6...</td>\n",
       "    </tr>\n",
       "  </tbody>\n",
       "</table>\n",
       "</div>"
      ],
      "text/plain": [
       "                                                 WKT      NEIGHBORHOOD  \\\n",
       "0  POLYGON ((-58.4528200492791 -34.5959886570639,...         CHACARITA   \n",
       "1  POLYGON ((-58.4655768128541 -34.5965577078058,...          PATERNAL   \n",
       "2  POLYGON ((-58.4237529813037 -34.5978273383243,...      VILLA CRESPO   \n",
       "3  POLYGON ((-58.4946097568899 -34.6148652395239,...  VILLA DEL PARQUE   \n",
       "4  POLYGON ((-58.4128700313089 -34.6141162515854,...           ALMAGRO   \n",
       "\n",
       "          COMMUNE         PERIMETER                 AREA  \\\n",
       "0  15.00000000000  7725.69522770465  3118100.97239645380   \n",
       "1  15.00000000000  7087.51329532852  2229829.03362795900   \n",
       "2  15.00000000000  8132.69934845057  3613583.69021913320   \n",
       "3  11.00000000000  7705.38979708046  3399595.64148383770   \n",
       "4   5.00000000000  8537.90136849144  4050752.24523803680   \n",
       "\n",
       "                                            geometry  \n",
       "0  POLYGON ((-58.45282 -34.59599, -58.45366 -34.5...  \n",
       "1  POLYGON ((-58.46558 -34.59656, -58.46562 -34.5...  \n",
       "2  POLYGON ((-58.42375 -34.59783, -58.42495 -34.5...  \n",
       "3  POLYGON ((-58.49461 -34.61487, -58.49479 -34.6...  \n",
       "4  POLYGON ((-58.41287 -34.61412, -58.41282 -34.6...  "
      ]
     },
     "execution_count": 3,
     "metadata": {},
     "output_type": "execute_result"
    }
   ],
   "source": [
    "barrios = gpd.read_file(\"../Data/Neighborhoods.csv\", encoding = 'latin1')\n",
    "barrios.head()"
   ]
  },
  {
   "cell_type": "markdown",
   "metadata": {},
   "source": [
    "- Arquivo em formato **SHP**: Gera um quadro de dados com uma coluna especial chamada geometria, que contém a figura geoespacial. Nesse caso, são dois polígonos que compõem o contorno de um parque nacional."
   ]
  },
  {
   "cell_type": "code",
   "execution_count": 4,
   "metadata": {},
   "outputs": [
    {
     "data": {
      "text/html": [
       "<div>\n",
       "<style scoped>\n",
       "    .dataframe tbody tr th:only-of-type {\n",
       "        vertical-align: middle;\n",
       "    }\n",
       "\n",
       "    .dataframe tbody tr th {\n",
       "        vertical-align: top;\n",
       "    }\n",
       "\n",
       "    .dataframe thead th {\n",
       "        text-align: right;\n",
       "    }\n",
       "</style>\n",
       "<table border=\"1\" class=\"dataframe\">\n",
       "  <thead>\n",
       "    <tr style=\"text-align: right;\">\n",
       "      <th></th>\n",
       "      <th>geometry</th>\n",
       "    </tr>\n",
       "  </thead>\n",
       "  <tbody>\n",
       "    <tr>\n",
       "      <th>0</th>\n",
       "      <td>POLYGON ((756107.121 7150870.957, 756106.485 7...</td>\n",
       "    </tr>\n",
       "    <tr>\n",
       "      <th>1</th>\n",
       "      <td>POLYGON ((756107.121 7150870.957, 756115.780 7...</td>\n",
       "    </tr>\n",
       "  </tbody>\n",
       "</table>\n",
       "</div>"
      ],
      "text/plain": [
       "                                            geometry\n",
       "0  POLYGON ((756107.121 7150870.957, 756106.485 7...\n",
       "1  POLYGON ((756107.121 7150870.957, 756115.780 7..."
      ]
     },
     "execution_count": 4,
     "metadata": {},
     "output_type": "execute_result"
    }
   ],
   "source": [
    "parque = gpd.read_file(\"../Data/parque_reserva.shp\")\n",
    "parque.head()"
   ]
  },
  {
   "cell_type": "code",
   "execution_count": 5,
   "metadata": {},
   "outputs": [
    {
     "data": {
      "text/plain": [
       "<Axes: >"
      ]
     },
     "execution_count": 5,
     "metadata": {},
     "output_type": "execute_result"
    },
    {
     "data": {
      "image/png": "[encoded data removed]",
      "text/plain": [
       "<Figure size 640x480 with 1 Axes>"
      ]
     },
     "metadata": {},
     "output_type": "display_data"
    }
   ],
   "source": [
    "parque.plot()"
   ]
  },
  {
   "cell_type": "markdown",
   "metadata": {
    "slideshow": {
     "slide_type": "skip"
    }
   },
   "source": [
    "Leia o arquivo \"../Data/metro_stations.csv\" e explique o conteúdo. Que tipo de arquivo geoespacial é? Qual é o formato?"
   ]
  },
  {
   "cell_type": "markdown",
   "metadata": {
    "slideshow": {
     "slide_type": "slide"
    }
   },
   "source": [
    "### Referências\n",
    "\n",
    "- [GeoPandas 0.9.0](https://geopandas.org)\n",
    "\n",
    "- [Geopandas](https://towardsdatascience.com/tagged/geopandas)\n",
    "\n",
    "- [Plotting with Geoplot and GeoPandas](https://geopandas.org/gallery/plotting_with_geoplot.html)"
   ]
  },
  {
   "cell_type": "code",
   "execution_count": null,
   "metadata": {},
   "outputs": [],
   "source": []
  }
 ],
 "metadata": {
  "kernelspec": {
   "display_name": "Python 3",
   "language": "python",
   "name": "python3"
  },
  "language_info": {
   "codemirror_mode": {
    "name": "ipython",
    "version": 3
   },
   "file_extension": ".py",
   "mimetype": "text/x-python",
   "name": "python",
   "nbconvert_exporter": "python",
   "pygments_lexer": "ipython3",
   "version": "3.9.6"
  }
 },
 "nbformat": 4,
 "nbformat_minor": 4
}
