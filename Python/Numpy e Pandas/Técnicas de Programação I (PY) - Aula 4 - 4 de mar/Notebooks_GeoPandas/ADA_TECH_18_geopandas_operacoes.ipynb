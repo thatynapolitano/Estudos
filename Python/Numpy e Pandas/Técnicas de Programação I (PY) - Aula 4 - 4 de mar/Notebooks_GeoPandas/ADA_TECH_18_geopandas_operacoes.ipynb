{
 "cells": [
  {
   "cell_type": "markdown",
   "metadata": {
    "slideshow": {
     "slide_type": "skip"
    }
   },
   "source": [
    "<img src='letscodebr_cover.jpeg' align='left' width=100%/>"
   ]
  },
  {
   "cell_type": "markdown",
   "metadata": {},
   "source": [
    "# Ada Tech [DS-PY-004] Técnicas de Programação I (PY) Aulas 4 e 5 : GeoPandas - Operações."
   ]
  },
  {
   "cell_type": "code",
   "execution_count": 1,
   "metadata": {},
   "outputs": [],
   "source": [
    "#!pip install geopy"
   ]
  },
  {
   "cell_type": "code",
   "execution_count": 2,
   "metadata": {},
   "outputs": [],
   "source": [
    "import pandas as pd\n",
    "import geopandas as gpd\n",
    "import matplotlib.pyplot as plt\n",
    "import descartes"
   ]
  },
  {
   "cell_type": "markdown",
   "metadata": {
    "slideshow": {
     "slide_type": "slide"
    }
   },
   "source": [
    "###  Intro\n",
    "\n",
    "Como vimos anteriormente, `Geopandas` usa `GeoSeries` e `GeoDataFrame` como estruturas de dados, que contêm pelo menos uma coluna com tipos de dados geoespaciais. Esta coluna é chamada por padrão de `geometry`.\n",
    "\n",
    "A coluna `geometry` contém uma forma geométrica que representa a posição espacial do objeto. As formas geométricas mais comuns são:\n",
    "\n",
    "- <i>POINT</i>. Um ponto\n",
    "- <i>LINESTRING</i>. Uma línha\n",
    "- <i>POLYGON</i>. Uma superfície\n",
    "\n",
    "É interessante realizar operações entre os objetos distintos usando sua posição espacial.\n",
    "\n",
    "Vamos ver alguns deles:\n",
    "\n",
    "- Gerar uma linha entre dois pontos.\n",
    "- Determinar se um ponto está dentro de um polígono.\n",
    "- Dada uma linha, saiber quais polígonos ela cruza.\n",
    "- Calcular a distância entre dois pontos."
   ]
  },
  {
   "cell_type": "markdown",
   "metadata": {
    "slideshow": {
     "slide_type": "slide"
    }
   },
   "source": [
    "### Datos\n",
    "\n",
    "Antes de realizar as operações, veremos os dados de exemplo: localizações na cidade de Buenos Aires, Argentina, representadas por pontos e polígonos."
   ]
  },
  {
   "cell_type": "markdown",
   "metadata": {
    "slideshow": {
     "slide_type": "slide"
    }
   },
   "source": [
    "#### Pontos"
   ]
  },
  {
   "cell_type": "markdown",
   "metadata": {
    "slideshow": {
     "slide_type": "slide"
    }
   },
   "source": [
    "Os [pontos](https://mathworld.wolfram.com/Point.html) representam alguns locais de dança em Buenos Aires. Observe que a latitude e longitude vêm como dados numéricos (*colunas X, Y*), e são transformadas em uma figura geométrica que é armazenada na coluna *geometry*."
   ]
  },
  {
   "cell_type": "code",
   "execution_count": 3,
   "metadata": {
    "colab": {
     "base_uri": "https://localhost:8080/",
     "height": 289
    },
    "colab_type": "code",
    "executionInfo": {
     "elapsed": 830,
     "status": "ok",
     "timestamp": 1567641541793,
     "user": {
      "displayName": "Julián Ansaldo",
      "photoUrl": "https://lh3.googleusercontent.com/a-/AAuE7mCQI0iy6sTR9TfuLMfXZ90XCqxfdAQtMEcBkjfs1w=s64",
      "userId": "10643095115217147090"
     },
     "user_tz": 180
    },
    "id": "vRpX0jS6G_x5",
    "outputId": "178eafb8-17f3-4205-fcbe-9368fbd51efa"
   },
   "outputs": [
    {
     "data": {
      "text/html": [
       "<div>\n",
       "<style scoped>\n",
       "    .dataframe tbody tr th:only-of-type {\n",
       "        vertical-align: middle;\n",
       "    }\n",
       "\n",
       "    .dataframe tbody tr th {\n",
       "        vertical-align: top;\n",
       "    }\n",
       "\n",
       "    .dataframe thead th {\n",
       "        text-align: right;\n",
       "    }\n",
       "</style>\n",
       "<table border=\"1\" class=\"dataframe\">\n",
       "  <thead>\n",
       "    <tr style=\"text-align: right;\">\n",
       "      <th></th>\n",
       "      <th>X</th>\n",
       "      <th>Y</th>\n",
       "      <th>REGISTRATION_NUMBER</th>\n",
       "      <th>NAME</th>\n",
       "      <th>STREET</th>\n",
       "      <th>NUMBER</th>\n",
       "      <th>STANDARD_ADDRESS</th>\n",
       "      <th>FILE_NUMBER</th>\n",
       "      <th>CAPACITY</th>\n",
       "      <th>CLASS</th>\n",
       "      <th>...</th>\n",
       "      <th>REJECT_DATE_DISPOSITION</th>\n",
       "      <th>NUMBER_DISPOSITION_OF_CALCULATION_CAPACITY</th>\n",
       "      <th>CAPACITY_DISPOSITION_DATE</th>\n",
       "      <th>DELIVERY_DATE_NEW_REVALIDATE</th>\n",
       "      <th>EXPIRATION</th>\n",
       "      <th>NEIGHBORHOOD</th>\n",
       "      <th>COMMUNE</th>\n",
       "      <th>CP</th>\n",
       "      <th>CPA</th>\n",
       "      <th>geometry</th>\n",
       "    </tr>\n",
       "  </thead>\n",
       "  <tbody>\n",
       "    <tr>\n",
       "      <th>0</th>\n",
       "      <td>-58.393750</td>\n",
       "      <td>-34.605027</td>\n",
       "      <td>1</td>\n",
       "      <td>CASTELBAMBA</td>\n",
       "      <td>RIOBAMBA</td>\n",
       "      <td>345</td>\n",
       "      <td>RIOBAMBA  345</td>\n",
       "      <td>4627093/18</td>\n",
       "      <td>428 personas</td>\n",
       "      <td>\"C\"</td>\n",
       "      <td>...</td>\n",
       "      <td>NaN</td>\n",
       "      <td>158</td>\n",
       "      <td>2005-12-12 00:00:00</td>\n",
       "      <td>2018-01-25</td>\n",
       "      <td>2018-04-13</td>\n",
       "      <td>Balvanera</td>\n",
       "      <td>Comuna 3</td>\n",
       "      <td>1025.0</td>\n",
       "      <td>C1025ABG</td>\n",
       "      <td>POINT (-58.39375 -34.60503)</td>\n",
       "    </tr>\n",
       "    <tr>\n",
       "      <th>1</th>\n",
       "      <td>-58.378510</td>\n",
       "      <td>-34.596003</td>\n",
       "      <td>2</td>\n",
       "      <td>GOLDEN</td>\n",
       "      <td>ESMERALDA</td>\n",
       "      <td>1040</td>\n",
       "      <td>ESMERALDA  1040</td>\n",
       "      <td>10561/05</td>\n",
       "      <td>408 personas</td>\n",
       "      <td>\"C.C\"</td>\n",
       "      <td>...</td>\n",
       "      <td>NaN</td>\n",
       "      <td>98</td>\n",
       "      <td>2005-08-08 00:00:00</td>\n",
       "      <td>NaN</td>\n",
       "      <td>NaN</td>\n",
       "      <td>Retiro</td>\n",
       "      <td>Comuna 1</td>\n",
       "      <td>1007.0</td>\n",
       "      <td>C1007ABN</td>\n",
       "      <td>POINT (-58.37851 -34.59600)</td>\n",
       "    </tr>\n",
       "    <tr>\n",
       "      <th>2</th>\n",
       "      <td>-58.374727</td>\n",
       "      <td>-34.612002</td>\n",
       "      <td>3</td>\n",
       "      <td>REY CASTRO</td>\n",
       "      <td>PERU</td>\n",
       "      <td>342</td>\n",
       "      <td>PERU  342</td>\n",
       "      <td>4407796/18</td>\n",
       "      <td>901 personas</td>\n",
       "      <td>\"C\"</td>\n",
       "      <td>...</td>\n",
       "      <td>NaN</td>\n",
       "      <td>67</td>\n",
       "      <td>2006-04-24 00:00:00</td>\n",
       "      <td>2018-05-31</td>\n",
       "      <td>2018-09-03</td>\n",
       "      <td>Monserrat</td>\n",
       "      <td>Comuna 1</td>\n",
       "      <td>1067.0</td>\n",
       "      <td>C1067AAH</td>\n",
       "      <td>POINT (-58.37473 -34.61200)</td>\n",
       "    </tr>\n",
       "    <tr>\n",
       "      <th>3</th>\n",
       "      <td>-58.390154</td>\n",
       "      <td>-34.605531</td>\n",
       "      <td>4</td>\n",
       "      <td>LA FRANCE</td>\n",
       "      <td>SARMIENTO</td>\n",
       "      <td>1656</td>\n",
       "      <td>SARMIENTO  1656</td>\n",
       "      <td>3005915/18</td>\n",
       "      <td>1372 personas</td>\n",
       "      <td>\"C.C\"</td>\n",
       "      <td>...</td>\n",
       "      <td>NaN</td>\n",
       "      <td>136</td>\n",
       "      <td>2005-09-29 00:00:00</td>\n",
       "      <td>2018-07-13</td>\n",
       "      <td>2018-10-13</td>\n",
       "      <td>San Nicolas</td>\n",
       "      <td>Comuna 1</td>\n",
       "      <td>1042.0</td>\n",
       "      <td>C1042ABF</td>\n",
       "      <td>POINT (-58.39015 -34.60553)</td>\n",
       "    </tr>\n",
       "    <tr>\n",
       "      <th>4</th>\n",
       "      <td>-58.371747</td>\n",
       "      <td>-34.601950</td>\n",
       "      <td>5</td>\n",
       "      <td>BAHREIN</td>\n",
       "      <td>LAVALLE</td>\n",
       "      <td>343</td>\n",
       "      <td>LAVALLE  343</td>\n",
       "      <td>2219876/18</td>\n",
       "      <td>880 personas</td>\n",
       "      <td>\"C\"</td>\n",
       "      <td>...</td>\n",
       "      <td>NaN</td>\n",
       "      <td>95</td>\n",
       "      <td>2007-11-06 00:00:00</td>\n",
       "      <td>2018-06-28</td>\n",
       "      <td>2018-09-30</td>\n",
       "      <td>San Nicolas</td>\n",
       "      <td>Comuna 1</td>\n",
       "      <td>1047.0</td>\n",
       "      <td>C1047AAG</td>\n",
       "      <td>POINT (-58.37175 -34.60195)</td>\n",
       "    </tr>\n",
       "  </tbody>\n",
       "</table>\n",
       "<p>5 rows × 26 columns</p>\n",
       "</div>"
      ],
      "text/plain": [
       "           X          Y  REGISTRATION_NUMBER         NAME      STREET NUMBER  \\\n",
       "0 -58.393750 -34.605027                    1  CASTELBAMBA   RIOBAMBA     345   \n",
       "1 -58.378510 -34.596003                    2       GOLDEN  ESMERALDA    1040   \n",
       "2 -58.374727 -34.612002                    3   REY CASTRO       PERU     342   \n",
       "3 -58.390154 -34.605531                    4    LA FRANCE  SARMIENTO    1656   \n",
       "4 -58.371747 -34.601950                    5     BAHREIN     LAVALLE     343   \n",
       "\n",
       "  STANDARD_ADDRESS FILE_NUMBER       CAPACITY  CLASS  ...  \\\n",
       "0    RIOBAMBA  345  4627093/18   428 personas    \"C\"  ...   \n",
       "1  ESMERALDA  1040    10561/05   408 personas  \"C.C\"  ...   \n",
       "2        PERU  342  4407796/18   901 personas    \"C\"  ...   \n",
       "3  SARMIENTO  1656  3005915/18  1372 personas  \"C.C\"  ...   \n",
       "4     LAVALLE  343  2219876/18   880 personas    \"C\"  ...   \n",
       "\n",
       "  REJECT_DATE_DISPOSITION  NUMBER_DISPOSITION_OF_CALCULATION_CAPACITY  \\\n",
       "0                     NaN                                         158   \n",
       "1                     NaN                                          98   \n",
       "2                     NaN                                          67   \n",
       "3                     NaN                                         136   \n",
       "4                     NaN                                          95   \n",
       "\n",
       "  CAPACITY_DISPOSITION_DATE  DELIVERY_DATE_NEW_REVALIDATE  EXPIRATION  \\\n",
       "0       2005-12-12 00:00:00                    2018-01-25  2018-04-13   \n",
       "1       2005-08-08 00:00:00                           NaN         NaN   \n",
       "2       2006-04-24 00:00:00                    2018-05-31  2018-09-03   \n",
       "3       2005-09-29 00:00:00                    2018-07-13  2018-10-13   \n",
       "4       2007-11-06 00:00:00                    2018-06-28  2018-09-30   \n",
       "\n",
       "  NEIGHBORHOOD   COMMUNE      CP       CPA                     geometry  \n",
       "0    Balvanera  Comuna 3  1025.0  C1025ABG  POINT (-58.39375 -34.60503)  \n",
       "1       Retiro  Comuna 1  1007.0  C1007ABN  POINT (-58.37851 -34.59600)  \n",
       "2    Monserrat  Comuna 1  1067.0  C1067AAH  POINT (-58.37473 -34.61200)  \n",
       "3  San Nicolas  Comuna 1  1042.0  C1042ABF  POINT (-58.39015 -34.60553)  \n",
       "4  San Nicolas  Comuna 1  1047.0  C1047AAG  POINT (-58.37175 -34.60195)  \n",
       "\n",
       "[5 rows x 26 columns]"
      ]
     },
     "execution_count": 3,
     "metadata": {},
     "output_type": "execute_result"
    }
   ],
   "source": [
    "df_locales = pd.read_csv(\"../Data/places-for-dancing.csv\", encoding = 'latin1')\n",
    "\n",
    "geo_locais = gpd.GeoDataFrame(df_locales, geometry = gpd.points_from_xy(df_locales.X, \n",
    "                                                                         df_locales.Y\n",
    "                                                                        )\n",
    "                              )\n",
    "geo_locais.head()"
   ]
  },
  {
   "cell_type": "markdown",
   "metadata": {
    "slideshow": {
     "slide_type": "slide"
    }
   },
   "source": [
    "<a id=\"section_poligonos\"></a> \n",
    "#### Polígonos"
   ]
  },
  {
   "cell_type": "markdown",
   "metadata": {
    "slideshow": {
     "slide_type": "slide"
    }
   },
   "source": [
    "Os [polígonos](https://www.eionet.europa.eu/gemet/lv/concept/14921) representam os bairros da cidade de Buenos Aires, na Argentina.\n",
    "\n",
    "O arquivo `Neighborhoods.csv` é do tipo `GeoCSV`, com o formato usual para `csv` mas com uma coluna do tipo de dados geoespaciais `WKT` com as formas geométricas, onde são indicados os contornos ou limites de cada vizinhança.\n",
    "\n",
    "Mas a variável de vizinhança gerada a partir da leitura do arquivo é um `DataFrame`, **NÃO** um `GeoDataFrame`. Deve ser transformado."
   ]
  },
  {
   "cell_type": "code",
   "execution_count": 4,
   "metadata": {},
   "outputs": [
    {
     "data": {
      "text/html": [
       "<div>\n",
       "<style scoped>\n",
       "    .dataframe tbody tr th:only-of-type {\n",
       "        vertical-align: middle;\n",
       "    }\n",
       "\n",
       "    .dataframe tbody tr th {\n",
       "        vertical-align: top;\n",
       "    }\n",
       "\n",
       "    .dataframe thead th {\n",
       "        text-align: right;\n",
       "    }\n",
       "</style>\n",
       "<table border=\"1\" class=\"dataframe\">\n",
       "  <thead>\n",
       "    <tr style=\"text-align: right;\">\n",
       "      <th></th>\n",
       "      <th>WKT</th>\n",
       "      <th>NEIGHBORHOOD</th>\n",
       "      <th>COMMUNE</th>\n",
       "      <th>PERIMETER</th>\n",
       "      <th>AREA</th>\n",
       "    </tr>\n",
       "  </thead>\n",
       "  <tbody>\n",
       "    <tr>\n",
       "      <th>0</th>\n",
       "      <td>POLYGON ((-58.4528200492791 -34.5959886570639,...</td>\n",
       "      <td>CHACARITA</td>\n",
       "      <td>15.0</td>\n",
       "      <td>7725.695228</td>\n",
       "      <td>3.118101e+06</td>\n",
       "    </tr>\n",
       "    <tr>\n",
       "      <th>1</th>\n",
       "      <td>POLYGON ((-58.4655768128541 -34.5965577078058,...</td>\n",
       "      <td>PATERNAL</td>\n",
       "      <td>15.0</td>\n",
       "      <td>7087.513295</td>\n",
       "      <td>2.229829e+06</td>\n",
       "    </tr>\n",
       "    <tr>\n",
       "      <th>2</th>\n",
       "      <td>POLYGON ((-58.4237529813037 -34.5978273383243,...</td>\n",
       "      <td>VILLA CRESPO</td>\n",
       "      <td>15.0</td>\n",
       "      <td>8132.699348</td>\n",
       "      <td>3.613584e+06</td>\n",
       "    </tr>\n",
       "    <tr>\n",
       "      <th>3</th>\n",
       "      <td>POLYGON ((-58.4946097568899 -34.6148652395239,...</td>\n",
       "      <td>VILLA DEL PARQUE</td>\n",
       "      <td>11.0</td>\n",
       "      <td>7705.389797</td>\n",
       "      <td>3.399596e+06</td>\n",
       "    </tr>\n",
       "    <tr>\n",
       "      <th>4</th>\n",
       "      <td>POLYGON ((-58.4128700313089 -34.6141162515854,...</td>\n",
       "      <td>ALMAGRO</td>\n",
       "      <td>5.0</td>\n",
       "      <td>8537.901368</td>\n",
       "      <td>4.050752e+06</td>\n",
       "    </tr>\n",
       "  </tbody>\n",
       "</table>\n",
       "</div>"
      ],
      "text/plain": [
       "                                                 WKT      NEIGHBORHOOD  \\\n",
       "0  POLYGON ((-58.4528200492791 -34.5959886570639,...         CHACARITA   \n",
       "1  POLYGON ((-58.4655768128541 -34.5965577078058,...          PATERNAL   \n",
       "2  POLYGON ((-58.4237529813037 -34.5978273383243,...      VILLA CRESPO   \n",
       "3  POLYGON ((-58.4946097568899 -34.6148652395239,...  VILLA DEL PARQUE   \n",
       "4  POLYGON ((-58.4128700313089 -34.6141162515854,...           ALMAGRO   \n",
       "\n",
       "   COMMUNE    PERIMETER          AREA  \n",
       "0     15.0  7725.695228  3.118101e+06  \n",
       "1     15.0  7087.513295  2.229829e+06  \n",
       "2     15.0  8132.699348  3.613584e+06  \n",
       "3     11.0  7705.389797  3.399596e+06  \n",
       "4      5.0  8537.901368  4.050752e+06  "
      ]
     },
     "execution_count": 4,
     "metadata": {},
     "output_type": "execute_result"
    }
   ],
   "source": [
    "bairros = pd.read_csv(\"../Data/Neighborhoods.csv\", encoding = 'latin1')\n",
    "bairros.head()"
   ]
  },
  {
   "cell_type": "code",
   "execution_count": 5,
   "metadata": {},
   "outputs": [
    {
     "data": {
      "text/plain": [
       "pandas.core.frame.DataFrame"
      ]
     },
     "execution_count": 5,
     "metadata": {},
     "output_type": "execute_result"
    }
   ],
   "source": [
    "type(bairros)"
   ]
  },
  {
   "cell_type": "markdown",
   "metadata": {
    "slideshow": {
     "slide_type": "slide"
    }
   },
   "source": [
    "Para converter `DataFrame` em `GeoDataFrame` em `bairros`, devemos transformar a coluna `WKT` em uma coluna do tipo *geometry*, o tipo de dados geoespaciais que o `GeoDataFrame` requer.\n",
    "\n",
    "Para isso, precisamos da biblioteca `shapely`. Ela é utilizada pelo `Geopandas` para realizar operações entre dados geoespaciais."
   ]
  },
  {
   "cell_type": "markdown",
   "metadata": {
    "slideshow": {
     "slide_type": "skip"
    }
   },
   "source": [
    "O GeoPandas, através da biblioteca [Shapeley](https://shapely.readthedocs.io/en/stable/manual.html), permite múltiplas operações geográficas. Por exemplo: \n",
    "-   equals, \n",
    "-   contains, \n",
    "-   intersects, \n",
    "-   within, \n",
    "-   difference, \n",
    "-   union, \n",
    "-   overlaps."
   ]
  },
  {
   "cell_type": "code",
   "execution_count": 6,
   "metadata": {},
   "outputs": [
    {
     "data": {
      "text/plain": [
       "WKT              object\n",
       "NEIGHBORHOOD     object\n",
       "COMMUNE         float64\n",
       "PERIMETER       float64\n",
       "AREA            float64\n",
       "dtype: object"
      ]
     },
     "execution_count": 6,
     "metadata": {},
     "output_type": "execute_result"
    }
   ],
   "source": [
    "bairros.dtypes"
   ]
  },
  {
   "cell_type": "code",
   "execution_count": 7,
   "metadata": {
    "colab": {},
    "colab_type": "code",
    "id": "F1J5ZR8OVecD"
   },
   "outputs": [],
   "source": [
    "import shapely.wkt\n",
    "\n",
    "bairros[\"WKT\"] = bairros[\"WKT\"].apply(shapely.wkt.loads) \n",
    "\n",
    "geo_bairros = gpd.GeoDataFrame(bairros, \n",
    "                               geometry = 'WKT'\n",
    "                              )"
   ]
  },
  {
   "cell_type": "code",
   "execution_count": 8,
   "metadata": {},
   "outputs": [
    {
     "data": {
      "text/plain": [
       "geopandas.geodataframe.GeoDataFrame"
      ]
     },
     "execution_count": 8,
     "metadata": {},
     "output_type": "execute_result"
    }
   ],
   "source": [
    "type(geo_bairros)"
   ]
  },
  {
   "cell_type": "code",
   "execution_count": 9,
   "metadata": {},
   "outputs": [
    {
     "data": {
      "text/plain": [
       "WKT              object\n",
       "NEIGHBORHOOD     object\n",
       "COMMUNE         float64\n",
       "PERIMETER       float64\n",
       "AREA            float64\n",
       "dtype: object"
      ]
     },
     "execution_count": 9,
     "metadata": {},
     "output_type": "execute_result"
    }
   ],
   "source": [
    "bairros.dtypes"
   ]
  },
  {
   "cell_type": "code",
   "execution_count": 10,
   "metadata": {
    "colab": {
     "base_uri": "https://localhost:8080/",
     "height": 289
    },
    "colab_type": "code",
    "executionInfo": {
     "elapsed": 830,
     "status": "ok",
     "timestamp": 1567641541793,
     "user": {
      "displayName": "Julián Ansaldo",
      "photoUrl": "https://lh3.googleusercontent.com/a-/AAuE7mCQI0iy6sTR9TfuLMfXZ90XCqxfdAQtMEcBkjfs1w=s64",
      "userId": "10643095115217147090"
     },
     "user_tz": 180
    },
    "id": "vRpX0jS6G_x5",
    "outputId": "178eafb8-17f3-4205-fcbe-9368fbd51efa"
   },
   "outputs": [
    {
     "data": {
      "image/png": "[encoded data removed]",
      "text/plain": [
       "<Figure size 640x480 with 1 Axes>"
      ]
     },
     "metadata": {},
     "output_type": "display_data"
    }
   ],
   "source": [
    "geo_bairros.plot();"
   ]
  },
  {
   "cell_type": "markdown",
   "metadata": {},
   "source": [
    "#### Ponto"
   ]
  },
  {
   "cell_type": "markdown",
   "metadata": {},
   "source": [
    "Às vezes, precisamos inserir a localização de um determinado lugar. Por exemplo, vamos criar um `GeoDataFrame` que contém um *Point*, que representa os dados `geoespaciais` de umedifício $A$.\n",
    "\n",
    "Neste caso, vamos criar um Point com a ajuda de `shapely`. E então o transformamos em um `DataGeoFrame` para podermos representá-lo graficamente."
   ]
  },
  {
   "cell_type": "code",
   "execution_count": 11,
   "metadata": {
    "colab": {},
    "colab_type": "code",
    "id": "pcpVLTgiG_y2"
   },
   "outputs": [
    {
     "data": {
      "text/html": [
       "<div>\n",
       "<style scoped>\n",
       "    .dataframe tbody tr th:only-of-type {\n",
       "        vertical-align: middle;\n",
       "    }\n",
       "\n",
       "    .dataframe tbody tr th {\n",
       "        vertical-align: top;\n",
       "    }\n",
       "\n",
       "    .dataframe thead th {\n",
       "        text-align: right;\n",
       "    }\n",
       "</style>\n",
       "<table border=\"1\" class=\"dataframe\">\n",
       "  <thead>\n",
       "    <tr style=\"text-align: right;\">\n",
       "      <th></th>\n",
       "      <th>id</th>\n",
       "    </tr>\n",
       "  </thead>\n",
       "  <tbody>\n",
       "    <tr>\n",
       "      <th>0</th>\n",
       "      <td>1</td>\n",
       "    </tr>\n",
       "  </tbody>\n",
       "</table>\n",
       "</div>"
      ],
      "text/plain": [
       "   id\n",
       "0   1"
      ]
     },
     "metadata": {},
     "output_type": "display_data"
    },
    {
     "data": {
      "text/html": [
       "<div>\n",
       "<style scoped>\n",
       "    .dataframe tbody tr th:only-of-type {\n",
       "        vertical-align: middle;\n",
       "    }\n",
       "\n",
       "    .dataframe tbody tr th {\n",
       "        vertical-align: top;\n",
       "    }\n",
       "\n",
       "    .dataframe thead th {\n",
       "        text-align: right;\n",
       "    }\n",
       "</style>\n",
       "<table border=\"1\" class=\"dataframe\">\n",
       "  <thead>\n",
       "    <tr style=\"text-align: right;\">\n",
       "      <th></th>\n",
       "      <th>id</th>\n",
       "      <th>geometry</th>\n",
       "    </tr>\n",
       "  </thead>\n",
       "  <tbody>\n",
       "    <tr>\n",
       "      <th>0</th>\n",
       "      <td>1</td>\n",
       "      <td>POINT (-58.44356 -34.54892)</td>\n",
       "    </tr>\n",
       "  </tbody>\n",
       "</table>\n",
       "</div>"
      ],
      "text/plain": [
       "   id                     geometry\n",
       "0   1  POINT (-58.44356 -34.54892)"
      ]
     },
     "execution_count": 11,
     "metadata": {},
     "output_type": "execute_result"
    }
   ],
   "source": [
    "from shapely.geometry import Point\n",
    "\n",
    "p = Point(-58.443555, -34.548921) # Dado geoespacial do edifício A\n",
    "df = pd.DataFrame(data = {'id': [1]}) # Criamos um DataFrame\n",
    "\n",
    "display(df)\n",
    "\n",
    "geo_A = gpd.GeoDataFrame(df, \n",
    "                          geometry = [p]) # O transformamos em um GeoDataFrame\n",
    "\n",
    "geo_A"
   ]
  },
  {
   "cell_type": "code",
   "execution_count": 12,
   "metadata": {},
   "outputs": [
    {
     "data": {
      "text/plain": [
       "geopandas.geodataframe.GeoDataFrame"
      ]
     },
     "execution_count": 12,
     "metadata": {},
     "output_type": "execute_result"
    }
   ],
   "source": [
    "type(geo_A)"
   ]
  },
  {
   "cell_type": "markdown",
   "metadata": {},
   "source": [
    "Representamos graficamente o ponto que representa o edifício $A$ nos bairros de Buenos Aires."
   ]
  },
  {
   "cell_type": "code",
   "execution_count": 13,
   "metadata": {},
   "outputs": [
    {
     "data": {
      "image/png": "[encoded data removed]",
      "text/plain": [
       "<Figure size 640x480 with 1 Axes>"
      ]
     },
     "metadata": {},
     "output_type": "display_data"
    }
   ],
   "source": [
    "fig, ax = plt.subplots()\n",
    "ax.set_aspect('equal')\n",
    "\n",
    "geo_bairros.plot(ax = ax, \n",
    "                 color = 'white', \n",
    "                 edgecolor = 'black'\n",
    "                )\n",
    "\n",
    "geo_A.plot(ax = ax, \n",
    "            marker = 'o', \n",
    "            color = 'red', \n",
    "            markersize = 40\n",
    "           )\n",
    "\n",
    "plt.show();"
   ]
  },
  {
   "cell_type": "markdown",
   "metadata": {},
   "source": [
    "Leia o arquivo `comisarias.csv` e gere a coluna `'geometry'` que representa os dados geoespaciais de cada comissário."
   ]
  },
  {
   "cell_type": "markdown",
   "metadata": {
    "slideshow": {
     "slide_type": "slide"
    }
   },
   "source": [
    "---\n",
    "\n",
    "### Generar una línea entre dos pontos\n",
    "\n",
    "Partindo de dois *pontos* que representam dois lugares, podemos traçar a *linha* que os une."
   ]
  },
  {
   "cell_type": "markdown",
   "metadata": {
    "slideshow": {
     "slide_type": "slide"
    }
   },
   "source": [
    "Suponha que queremos fazer um *tour* por alguns locais de dança. Começamos na \"REY CASTRO\", depois na \"AFRIKA\", \"LA CITY\" e terminamos no mesmo dia na \"PACHA BS AS\".\n",
    "\n",
    "Queremos saber a rota linear que vamos fazer."
   ]
  },
  {
   "cell_type": "markdown",
   "metadata": {
    "slideshow": {
     "slide_type": "slide"
    }
   },
   "source": [
    "Tenemos que transformar las coordenadas de las columnas X e Y  de los locales bailables, en un tipo de datos Point, para generar la línea entre los pontos.\n",
    "\n",
    "Observar que el tipo de datos *Point* es distinto al tipo de datos *geometry*.\n",
    "\n",
    "\n",
    "\n",
    "\n",
    "Temos que transformar as coordenadas das colunas $X$ e $Y$ dos locais de dança, em um tipo de dados `Point`, para gerar a linha entre os pontos.\n",
    "\n",
    "Observe que o tipo de dados `Point` é diferente do tipo de dados `geometry`."
   ]
  },
  {
   "cell_type": "code",
   "execution_count": 14,
   "metadata": {},
   "outputs": [],
   "source": [
    "point_rey_castro = Point(geo_locais[geo_locais['NAME'] == 'REY CASTRO'].X,\n",
    "                         geo_locais[geo_locais['NAME'] == 'REY CASTRO'].Y)\n",
    "\n",
    "point_afrika = Point(geo_locais[geo_locais['NAME'] == 'AFRIKA'].X,\n",
    "                     geo_locais[geo_locais['NAME'] == 'AFRIKA'].Y\n",
    "                    )\n",
    "\n",
    "point_la_city = Point(geo_locais[geo_locais['NAME'] == 'LA CITY'].X,\n",
    "                      geo_locais[geo_locais['NAME'] == 'LA CITY'].Y\n",
    "                     )\n",
    "\n",
    "point_pacha = Point(geo_locais[geo_locais['NAME'] == 'PACHA BS AS'].X,\n",
    "                    geo_locais[geo_locais['NAME'] == 'PACHA BS AS'].Y\n",
    "                   )"
   ]
  },
  {
   "cell_type": "code",
   "execution_count": 15,
   "metadata": {},
   "outputs": [
    {
     "name": "stderr",
     "output_type": "stream",
     "text": [
      "/var/folders/cz/8wxdxxx55vz69s8s08w90yvh0000gn/T/ipykernel_32205/2823325016.py:1: ShapelyDeprecationWarning: The 'type' attribute is deprecated, and will be removed in the future. You can use the 'geom_type' attribute instead.\n",
      "  point_afrika.type\n"
     ]
    },
    {
     "data": {
      "text/plain": [
       "'Point'"
      ]
     },
     "execution_count": 15,
     "metadata": {},
     "output_type": "execute_result"
    }
   ],
   "source": [
    "point_afrika.type"
   ]
  },
  {
   "cell_type": "markdown",
   "metadata": {
    "slideshow": {
     "slide_type": "slide"
    }
   },
   "source": [
    "E agora criamos as [linhas](https://mathworld.wolfram.com/Line.html) entre dois pontos, usando o método [`LineString()`](https://autogis-site.readthedocs.io/en/latest/notebooks/L1/geometric-objects.html) da biblioteca shapely."
   ]
  },
  {
   "cell_type": "code",
   "execution_count": 16,
   "metadata": {
    "slideshow": {
     "slide_type": "fragment"
    }
   },
   "outputs": [],
   "source": [
    "from shapely.geometry import LineString\n",
    "\n",
    "line_a = LineString([point_rey_castro, point_afrika])\n",
    "line_b = LineString([point_afrika, point_la_city])\n",
    "line_c = LineString([point_la_city, point_pacha])"
   ]
  },
  {
   "cell_type": "code",
   "execution_count": 17,
   "metadata": {},
   "outputs": [
    {
     "name": "stderr",
     "output_type": "stream",
     "text": [
      "/var/folders/cz/8wxdxxx55vz69s8s08w90yvh0000gn/T/ipykernel_32205/423891082.py:1: ShapelyDeprecationWarning: The 'type' attribute is deprecated, and will be removed in the future. You can use the 'geom_type' attribute instead.\n",
      "  line_a.type\n"
     ]
    },
    {
     "data": {
      "text/plain": [
       "'LineString'"
      ]
     },
     "execution_count": 17,
     "metadata": {},
     "output_type": "execute_result"
    }
   ],
   "source": [
    "line_a.type"
   ]
  },
  {
   "cell_type": "markdown",
   "metadata": {
    "slideshow": {
     "slide_type": "slide"
    }
   },
   "source": [
    "Por fim, traçamos as linhas sobre os bairros de Buenos Aires.\n",
    "\n",
    "Mas para plotar, precisamos do método `plot()` que *se aplica* ao `GeoSeries` e ao `GeoDataFrame`.\n",
    "\n",
    "Até agora temos pontos e linhas, com os tipos de dados *Point* e *LineString* respectivamente. Temos que gerar uma `Geoserie` com os dois pontos e a linha que os liga para podermos representá-los graficamente."
   ]
  },
  {
   "cell_type": "code",
   "execution_count": 18,
   "metadata": {},
   "outputs": [],
   "source": [
    "line_a_geo = gpd.GeoSeries([point_rey_castro, point_afrika, line_a])\n",
    "line_b_geo = gpd.GeoSeries([point_afrika, point_la_city, line_b])\n",
    "line_c_geo = gpd.GeoSeries([point_la_city, point_pacha, line_c])"
   ]
  },
  {
   "cell_type": "code",
   "execution_count": 19,
   "metadata": {},
   "outputs": [
    {
     "data": {
      "image/png": "[encoded data removed]",
      "text/plain": [
       "<Figure size 640x480 with 1 Axes>"
      ]
     },
     "metadata": {},
     "output_type": "display_data"
    }
   ],
   "source": [
    "fig, ax = plt.subplots()\n",
    "ax.set_aspect('equal')\n",
    "geo_bairros.plot(ax = ax, \n",
    "                 color = 'white', \n",
    "                 edgecolor = 'black'\n",
    "                )\n",
    "\n",
    "line_a_geo.plot(ax = ax, \n",
    "                color = 'red'\n",
    "               )\n",
    "\n",
    "line_b_geo.plot(ax = ax, \n",
    "                color = 'red'\n",
    "               )\n",
    "\n",
    "line_c_geo.plot(ax = ax, \n",
    "                color = 'red'\n",
    "               )\n",
    "\n",
    "plt.show();"
   ]
  },
  {
   "cell_type": "markdown",
   "metadata": {
    "slideshow": {
     "slide_type": "slide"
    }
   },
   "source": [
    "### Determinar se um ponto está dentro de um polígono\n",
    "\n",
    "Com o método [`geopandas.GeoSeries.contains()`](https://geopandas.org/docs/reference/api/geopandas.GeoSeries.contains.html) podemos ver se um polígono contém um ponto.\n",
    "\n",
    "Como exemplo, vamos ver se o local de dança *REY CASTRO* está localizado no bairro *MONSERRAT*. Primeiro, geramos dois `GeoDataFrames` com os dados do bairro e do local de dança."
   ]
  },
  {
   "cell_type": "code",
   "execution_count": 20,
   "metadata": {},
   "outputs": [],
   "source": [
    "geo_monserrat = geo_bairros.loc[geo_bairros[\"NEIGHBORHOOD\"] == \"MONSERRAT\"]\n",
    "geo_rey_castro = geo_locais[geo_locais['NAME'] == 'REY CASTRO'] "
   ]
  },
  {
   "cell_type": "code",
   "execution_count": 21,
   "metadata": {},
   "outputs": [
    {
     "data": {
      "text/plain": [
       "geopandas.geodataframe.GeoDataFrame"
      ]
     },
     "execution_count": 21,
     "metadata": {},
     "output_type": "execute_result"
    }
   ],
   "source": [
    "type(geo_rey_castro)"
   ]
  },
  {
   "cell_type": "markdown",
   "metadata": {
    "slideshow": {
     "slide_type": "slide"
    }
   },
   "source": [
    "Verificamos visualmente se \"REY CASTRO\" é encontrado no bairro \"MONSERRAT\"."
   ]
  },
  {
   "cell_type": "code",
   "execution_count": 22,
   "metadata": {},
   "outputs": [
    {
     "data": {
      "image/png": "[encoded data removed]",
      "text/plain": [
       "<Figure size 640x480 with 1 Axes>"
      ]
     },
     "metadata": {},
     "output_type": "display_data"
    }
   ],
   "source": [
    "fig, ax = plt.subplots()\n",
    "ax.set_aspect('equal')\n",
    "\n",
    "geo_monserrat.plot(ax = ax, \n",
    "                   color = 'white', \n",
    "                   edgecolor = 'black'\n",
    "                  )\n",
    "\n",
    "geo_rey_castro.plot(ax = ax, \n",
    "                    marker = 'o', \n",
    "                    color = 'red', \n",
    "                    markersize = 40\n",
    "                   )\n",
    "\n",
    "plt.show();"
   ]
  },
  {
   "cell_type": "markdown",
   "metadata": {},
   "source": [
    "Agora o validamos com a função [`geopandas.GeoSeries.contains()`](https://geopandas.org/docs/reference/api/geopandas.GeoSeries.contains.html).\n",
    "\n",
    "Observe que para o local de dança, usamos `point_rey_castro`, o tipo de dados `Point` gerado anteriormente. Se usarmos o `GeoDataFrame` `geo_rey_castro`, o método contains dá um erro."
   ]
  },
  {
   "cell_type": "code",
   "execution_count": 23,
   "metadata": {},
   "outputs": [
    {
     "data": {
      "text/plain": [
       "41    True\n",
       "dtype: bool"
      ]
     },
     "execution_count": 23,
     "metadata": {},
     "output_type": "execute_result"
    }
   ],
   "source": [
    "geo_monserrat.contains(point_rey_castro)"
   ]
  },
  {
   "cell_type": "markdown",
   "metadata": {
    "slideshow": {
     "slide_type": "slide"
    }
   },
   "source": [
    "Pensando como figuras geométricas, uma linha pode passar por vários polígonos. Como exemplo, vamos considerar a linha que traçamos entre os locais de dança \"AFRIKA\" e \"LA CITY\" que geramos com a seguinte frase:\n",
    "\n",
    "```python\n",
    "line_b = LineString ([point_afrika, point_la_city])`\n",
    "```\n",
    "\n",
    "E vamos analisar o que os bairros que ela atravessa"
   ]
  },
  {
   "cell_type": "markdown",
   "metadata": {},
   "source": [
    "O método [`geopandas.GeoSeries.crosses()`](https://geopandas.readthedocs.io/en/latest/docs/reference/api/geopandas.GeoSeries.crosses.html) aplicado ao `GeoDataFrame` dos bairros, indica `True` ou ˜False˜ consoante se a linha cruza ou não cada bairro (polígono). Ou seja, ele retorna dados do tipo *booleano* para indicar se ele passa pelo polígono.\n",
    "\n",
    "Podemos ver que para os primeiros bairros, só cruza o bairro que tem índice $0$."
   ]
  },
  {
   "cell_type": "code",
   "execution_count": 24,
   "metadata": {},
   "outputs": [
    {
     "data": {
      "text/plain": [
       "0     True\n",
       "1    False\n",
       "2    False\n",
       "3    False\n",
       "4    False\n",
       "dtype: bool"
      ]
     },
     "execution_count": 24,
     "metadata": {},
     "output_type": "execute_result"
    }
   ],
   "source": [
    "geo_bairros.crosses(line_b).head()"
   ]
  },
  {
   "cell_type": "markdown",
   "metadata": {},
   "source": [
    "Agora aplicamos o resultado anterior para obter os bairros por onde passa."
   ]
  },
  {
   "cell_type": "code",
   "execution_count": 25,
   "metadata": {},
   "outputs": [
    {
     "data": {
      "text/plain": [
       "0         CHACARITA\n",
       "23       COLEGIALES\n",
       "28    VILLA ORTUZAR\n",
       "33          PALERMO\n",
       "44         RECOLETA\n",
       "Name: NEIGHBORHOOD, dtype: object"
      ]
     },
     "execution_count": 25,
     "metadata": {},
     "output_type": "execute_result"
    }
   ],
   "source": [
    "geo_bairros.loc[geo_bairros.crosses(line_b), 'NEIGHBORHOOD']"
   ]
  },
  {
   "cell_type": "markdown",
   "metadata": {},
   "source": [
    "Podemos verificar isso visualmente"
   ]
  },
  {
   "cell_type": "code",
   "execution_count": 26,
   "metadata": {},
   "outputs": [
    {
     "data": {
      "text/html": [
       "<div>\n",
       "<style scoped>\n",
       "    .dataframe tbody tr th:only-of-type {\n",
       "        vertical-align: middle;\n",
       "    }\n",
       "\n",
       "    .dataframe tbody tr th {\n",
       "        vertical-align: top;\n",
       "    }\n",
       "\n",
       "    .dataframe thead th {\n",
       "        text-align: right;\n",
       "    }\n",
       "</style>\n",
       "<table border=\"1\" class=\"dataframe\">\n",
       "  <thead>\n",
       "    <tr style=\"text-align: right;\">\n",
       "      <th></th>\n",
       "      <th>WKT</th>\n",
       "      <th>NEIGHBORHOOD</th>\n",
       "      <th>COMMUNE</th>\n",
       "      <th>PERIMETER</th>\n",
       "      <th>AREA</th>\n",
       "    </tr>\n",
       "  </thead>\n",
       "  <tbody>\n",
       "    <tr>\n",
       "      <th>0</th>\n",
       "      <td>POLYGON ((-58.45282 -34.59599, -58.45366 -34.5...</td>\n",
       "      <td>CHACARITA</td>\n",
       "      <td>15.0</td>\n",
       "      <td>7725.695228</td>\n",
       "      <td>3.118101e+06</td>\n",
       "    </tr>\n",
       "    <tr>\n",
       "      <th>23</th>\n",
       "      <td>POLYGON ((-58.44669 -34.56907, -58.44650 -34.5...</td>\n",
       "      <td>COLEGIALES</td>\n",
       "      <td>13.0</td>\n",
       "      <td>6374.619045</td>\n",
       "      <td>2.289774e+06</td>\n",
       "    </tr>\n",
       "    <tr>\n",
       "      <th>28</th>\n",
       "      <td>POLYGON ((-58.46055 -34.57794, -58.46022 -34.5...</td>\n",
       "      <td>VILLA ORTUZAR</td>\n",
       "      <td>15.0</td>\n",
       "      <td>5684.995211</td>\n",
       "      <td>1.853802e+06</td>\n",
       "    </tr>\n",
       "    <tr>\n",
       "      <th>33</th>\n",
       "      <td>POLYGON ((-58.42676 -34.55202, -58.42676 -34.5...</td>\n",
       "      <td>PALERMO</td>\n",
       "      <td>14.0</td>\n",
       "      <td>21768.074886</td>\n",
       "      <td>1.577250e+07</td>\n",
       "    </tr>\n",
       "    <tr>\n",
       "      <th>44</th>\n",
       "      <td>POLYGON ((-58.39521 -34.57219, -58.39482 -34.5...</td>\n",
       "      <td>RECOLETA</td>\n",
       "      <td>2.0</td>\n",
       "      <td>21246.611702</td>\n",
       "      <td>6.140873e+06</td>\n",
       "    </tr>\n",
       "  </tbody>\n",
       "</table>\n",
       "</div>"
      ],
      "text/plain": [
       "                                                  WKT   NEIGHBORHOOD  COMMUNE  \\\n",
       "0   POLYGON ((-58.45282 -34.59599, -58.45366 -34.5...      CHACARITA     15.0   \n",
       "23  POLYGON ((-58.44669 -34.56907, -58.44650 -34.5...     COLEGIALES     13.0   \n",
       "28  POLYGON ((-58.46055 -34.57794, -58.46022 -34.5...  VILLA ORTUZAR     15.0   \n",
       "33  POLYGON ((-58.42676 -34.55202, -58.42676 -34.5...        PALERMO     14.0   \n",
       "44  POLYGON ((-58.39521 -34.57219, -58.39482 -34.5...       RECOLETA      2.0   \n",
       "\n",
       "       PERIMETER          AREA  \n",
       "0    7725.695228  3.118101e+06  \n",
       "23   6374.619045  2.289774e+06  \n",
       "28   5684.995211  1.853802e+06  \n",
       "33  21768.074886  1.577250e+07  \n",
       "44  21246.611702  6.140873e+06  "
      ]
     },
     "execution_count": 26,
     "metadata": {},
     "output_type": "execute_result"
    }
   ],
   "source": [
    "options = ['CHACARITA', 'COLEGIALES', 'VILLA ORTUZAR', 'PALERMO', 'RECOLETA'] \n",
    "geo_bairros_recorrida = geo_bairros[geo_bairros['NEIGHBORHOOD'].isin(options)] \n",
    "geo_bairros_recorrida"
   ]
  },
  {
   "cell_type": "code",
   "execution_count": 27,
   "metadata": {},
   "outputs": [
    {
     "data": {
      "image/png": "[encoded data removed]",
      "text/plain": [
       "<Figure size 640x480 with 1 Axes>"
      ]
     },
     "metadata": {},
     "output_type": "display_data"
    }
   ],
   "source": [
    "fig, ax = plt.subplots()\n",
    "ax.set_aspect('equal')\n",
    "\n",
    "geo_bairros_recorrida.plot(ax = ax, \n",
    "                           color = 'white', \n",
    "                           edgecolor = 'black'\n",
    "                          )\n",
    "\n",
    "line_b_geo.plot(ax = ax, \n",
    "                color = 'red'\n",
    "               )\n",
    "\n",
    "plt.show();"
   ]
  },
  {
   "cell_type": "markdown",
   "metadata": {
    "slideshow": {
     "slide_type": "slide"
    }
   },
   "source": [
    "### Calcular a distância entre dois pontos\n",
    "\n",
    "Agora que sabemos traçar linhas entre dois pontos, é razoável perguntar qual é a distância entre eles. Vamos calcular a *distância* entre a localização do edifício $A$ e todos os locais de dança. E armazenamos a distância como uma nova coluna do `GeoDataFrame` `geo_locais`."
   ]
  },
  {
   "cell_type": "markdown",
   "metadata": {},
   "source": [
    "Vamos começar calculando uma distância particular. Por exemplo, entre o edifício $A$ e o salão de dança \"AFRIKA\".\n",
    "\n",
    "Geramos um ponto que identifica a posição geoespacial de cada local. Observe que para definir a latitude e longitude de cada lugar, a biblioteca [geopy](https://geopy.readthedocs.io/en/stable/) precisa ser expressa como uma ** tupla **."
   ]
  },
  {
   "cell_type": "code",
   "execution_count": 28,
   "metadata": {},
   "outputs": [],
   "source": [
    "point_A_t = ( -58.443555,-34.548921) # dado geoespacial do edifício A\n",
    "point_afrika_t = ( -58.39239, -34.58843) # dado geoespacial de Afrika"
   ]
  },
  {
   "cell_type": "code",
   "execution_count": 29,
   "metadata": {},
   "outputs": [
    {
     "data": {
      "text/plain": [
       "tuple"
      ]
     },
     "execution_count": 29,
     "metadata": {},
     "output_type": "execute_result"
    }
   ],
   "source": [
    "type(point_A_t)"
   ]
  },
  {
   "cell_type": "markdown",
   "metadata": {},
   "source": [
    "Para calcular distâncias entre dois pontos, usamos a biblioteca [`geopy`](https://towardsdatascience.com/things-to-do-with-latitude-longitude-data-using-geopy-python-1d356ed1ae30), o método * distance *.\n",
    "\n",
    "Observe que o resultado pode ser expresso em diferentes unidades de medida: metros, quilômetros, milhares."
   ]
  },
  {
   "cell_type": "code",
   "execution_count": 30,
   "metadata": {},
   "outputs": [
    {
     "name": "stderr",
     "output_type": "stream",
     "text": [
      "/Users/rudineycasali/Documents/Project_Ada_Tech/venv_Ada/lib/python3.9/site-packages/urllib3/__init__.py:34: NotOpenSSLWarning: urllib3 v2 only supports OpenSSL 1.1.1+, currently the 'ssl' module is compiled with 'LibreSSL 2.8.3'. See: https://github.com/urllib3/urllib3/issues/3020\n",
      "  warnings.warn(\n"
     ]
    },
    {
     "data": {
      "text/plain": [
       "6149.000030999573"
      ]
     },
     "execution_count": 30,
     "metadata": {},
     "output_type": "execute_result"
    }
   ],
   "source": [
    "import geopy.distance\n",
    "dist = geopy.distance.geodesic(point_A_t, \n",
    "                               point_afrika_t\n",
    "                              )\n",
    "dist.meters"
   ]
  },
  {
   "cell_type": "code",
   "execution_count": 31,
   "metadata": {},
   "outputs": [
    {
     "data": {
      "text/plain": [
       "6.149000030999573"
      ]
     },
     "execution_count": 31,
     "metadata": {},
     "output_type": "execute_result"
    }
   ],
   "source": [
    "dist.kilometers"
   ]
  },
  {
   "cell_type": "markdown",
   "metadata": {},
   "source": [
    "Agora sim, calculamos todas as distâncias entre o edifício $A$ e os locais de dança, e salvamos como uma nova coluna `distance` no `GeoDataFrame` `geo_locais`."
   ]
  },
  {
   "cell_type": "code",
   "execution_count": 32,
   "metadata": {},
   "outputs": [],
   "source": [
    "for i in geo_locais.index:\n",
    "    geo_locais.loc[i, 'distance'] = geopy.distance.geodesic(point_A_t, \n",
    "                                                             (geo_locais.loc[i,'geometry'].x, \n",
    "                                                              geo_locais.loc[i,'geometry'].y\n",
    "                                                             )\n",
    "                                                            ).meters"
   ]
  },
  {
   "cell_type": "code",
   "execution_count": 33,
   "metadata": {},
   "outputs": [
    {
     "data": {
      "text/html": [
       "<div>\n",
       "<style scoped>\n",
       "    .dataframe tbody tr th:only-of-type {\n",
       "        vertical-align: middle;\n",
       "    }\n",
       "\n",
       "    .dataframe tbody tr th {\n",
       "        vertical-align: top;\n",
       "    }\n",
       "\n",
       "    .dataframe thead th {\n",
       "        text-align: right;\n",
       "    }\n",
       "</style>\n",
       "<table border=\"1\" class=\"dataframe\">\n",
       "  <thead>\n",
       "    <tr style=\"text-align: right;\">\n",
       "      <th></th>\n",
       "      <th>distance</th>\n",
       "      <th>geometry</th>\n",
       "      <th>X</th>\n",
       "      <th>Y</th>\n",
       "      <th>NAME</th>\n",
       "      <th>STREET</th>\n",
       "      <th>FILE_NUMBER</th>\n",
       "    </tr>\n",
       "  </thead>\n",
       "  <tbody>\n",
       "    <tr>\n",
       "      <th>0</th>\n",
       "      <td>6444.086302</td>\n",
       "      <td>POINT (-58.39375 -34.60503)</td>\n",
       "      <td>-58.393750</td>\n",
       "      <td>-34.605027</td>\n",
       "      <td>CASTELBAMBA</td>\n",
       "      <td>RIOBAMBA</td>\n",
       "      <td>4627093/18</td>\n",
       "    </tr>\n",
       "    <tr>\n",
       "      <th>1</th>\n",
       "      <td>7750.134933</td>\n",
       "      <td>POINT (-58.37851 -34.59600)</td>\n",
       "      <td>-58.378510</td>\n",
       "      <td>-34.596003</td>\n",
       "      <td>GOLDEN</td>\n",
       "      <td>ESMERALDA</td>\n",
       "      <td>10561/05</td>\n",
       "    </tr>\n",
       "    <tr>\n",
       "      <th>2</th>\n",
       "      <td>8507.137497</td>\n",
       "      <td>POINT (-58.37473 -34.61200)</td>\n",
       "      <td>-58.374727</td>\n",
       "      <td>-34.612002</td>\n",
       "      <td>REY CASTRO</td>\n",
       "      <td>PERU</td>\n",
       "      <td>4407796/18</td>\n",
       "    </tr>\n",
       "    <tr>\n",
       "      <th>3</th>\n",
       "      <td>6806.307281</td>\n",
       "      <td>POINT (-58.39015 -34.60553)</td>\n",
       "      <td>-58.390154</td>\n",
       "      <td>-34.605531</td>\n",
       "      <td>LA FRANCE</td>\n",
       "      <td>SARMIENTO</td>\n",
       "      <td>3005915/18</td>\n",
       "    </tr>\n",
       "    <tr>\n",
       "      <th>4</th>\n",
       "      <td>8578.074664</td>\n",
       "      <td>POINT (-58.37175 -34.60195)</td>\n",
       "      <td>-58.371747</td>\n",
       "      <td>-34.601950</td>\n",
       "      <td>BAHREIN</td>\n",
       "      <td>LAVALLE</td>\n",
       "      <td>2219876/18</td>\n",
       "    </tr>\n",
       "  </tbody>\n",
       "</table>\n",
       "</div>"
      ],
      "text/plain": [
       "      distance                     geometry          X          Y  \\\n",
       "0  6444.086302  POINT (-58.39375 -34.60503) -58.393750 -34.605027   \n",
       "1  7750.134933  POINT (-58.37851 -34.59600) -58.378510 -34.596003   \n",
       "2  8507.137497  POINT (-58.37473 -34.61200) -58.374727 -34.612002   \n",
       "3  6806.307281  POINT (-58.39015 -34.60553) -58.390154 -34.605531   \n",
       "4  8578.074664  POINT (-58.37175 -34.60195) -58.371747 -34.601950   \n",
       "\n",
       "          NAME      STREET FILE_NUMBER  \n",
       "0  CASTELBAMBA   RIOBAMBA   4627093/18  \n",
       "1       GOLDEN  ESMERALDA     10561/05  \n",
       "2   REY CASTRO       PERU   4407796/18  \n",
       "3    LA FRANCE  SARMIENTO   3005915/18  \n",
       "4     BAHREIN     LAVALLE   2219876/18  "
      ]
     },
     "execution_count": 33,
     "metadata": {},
     "output_type": "execute_result"
    }
   ],
   "source": [
    "geo_locais.loc[ : 4, ['distance', 'geometry', 'X','Y','NAME','STREET', 'FILE_NUMBER']]"
   ]
  },
  {
   "cell_type": "code",
   "execution_count": 34,
   "metadata": {},
   "outputs": [
    {
     "data": {
      "text/plain": [
       "X                                                                -58.447784\n",
       "Y                                                                -34.547025\n",
       "REGISTRATION_NUMBER                                                      55\n",
       "NAME                                                                CLUB 74\n",
       "STREET                                                    FIGUEROA ALCORTA \n",
       "NUMBER                                                                 7474\n",
       "STANDARD_ADDRESS                                     FIGUEROA ALCORTA  7474\n",
       "FILE_NUMBER                                                        10836/05\n",
       "CAPACITY                                                       180 personas\n",
       "CLASS                                                                   \"B\"\n",
       "STATUS                                                  INSCRIPCION VENCIDA\n",
       "DISPOSITION                                                              65\n",
       "ENROLLMENT_DISP_DATE                                    2005-05-18 00:00:00\n",
       "DIPS_NUMBER                                                            77.0\n",
       "DATE_DISP_RE_INSCRIPTION                                2014-06-09 00:00:00\n",
       "NUMBER_DISP_DE_REJECT                                                   NaN\n",
       "REJECT_DATE_DISPOSITION                                                 NaN\n",
       "NUMBER_DISPOSITION_OF_CALCULATION_CAPACITY                               76\n",
       "CAPACITY_DISPOSITION_DATE                               2006-06-01 00:00:00\n",
       "DELIVERY_DATE_NEW_REVALIDATE                                            NaN\n",
       "EXPIRATION                                                              NaN\n",
       "NEIGHBORHOOD                                                       Belgrano\n",
       "COMMUNE                                                           Comuna 13\n",
       "CP                                                                   1428.0\n",
       "CPA                                                                C1428BCX\n",
       "geometry                                      POINT (-58.447784 -34.547025)\n",
       "distance                                                          483.88649\n",
       "Name: 53, dtype: object"
      ]
     },
     "execution_count": 34,
     "metadata": {},
     "output_type": "execute_result"
    }
   ],
   "source": [
    "geo_locais.loc[geo_locais['distance'].idxmin(), : ]"
   ]
  },
  {
   "cell_type": "markdown",
   "metadata": {},
   "source": [
    "Calcule a distância entre os locais de dança `'LA CITY'` e `'PACHA BS AS'`."
   ]
  },
  {
   "cell_type": "markdown",
   "metadata": {
    "slideshow": {
     "slide_type": "slide"
    }
   },
   "source": [
    "### Referências\n",
    "\n",
    "- [The GeoPandas Cookbook](https://www.martinalarcon.org/2018-12-31-d-geopandas)\n",
    "\n",
    "- [Creating a GeoDataFrame from a DataFrame with coordinates](https://geopandas.org/gallery/create_geopandas_from_pandas.html)\n",
    "\n",
    "- [The Shapely User Manual](https://shapely.readthedocs.io/en/stable/manual.html)\n",
    "\n",
    "- [Welcome to GeoPy’s documentation!](https://geopy.readthedocs.io/en/stable/)"
   ]
  },
  {
   "cell_type": "code",
   "execution_count": null,
   "metadata": {},
   "outputs": [],
   "source": []
  }
 ],
 "metadata": {
  "kernelspec": {
   "display_name": "Python 3",
   "language": "python",
   "name": "python3"
  },
  "language_info": {
   "codemirror_mode": {
    "name": "ipython",
    "version": 3
   },
   "file_extension": ".py",
   "mimetype": "text/x-python",
   "name": "python",
   "nbconvert_exporter": "python",
   "pygments_lexer": "ipython3",
   "version": "3.9.6"
  }
 },
 "nbformat": 4,
 "nbformat_minor": 4
}
