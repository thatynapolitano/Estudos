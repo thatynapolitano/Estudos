{
 "cells": [
  {
   "cell_type": "markdown",
   "metadata": {},
   "source": [
    "<img src='letscodebr_cover.jpeg' align='left' width=100%/>"
   ]
  },
  {
   "cell_type": "markdown",
   "metadata": {},
   "source": [
    "# Ada Tech [DS-PY-004] Técnicas de Programação I (PY) Aula 8: Transformação de Dados - Enunciado do Exercício 2."
   ]
  },
  {
   "cell_type": "markdown",
   "metadata": {},
   "source": [
    "## Introdução\n",
    "\n",
    "A transformaçao de dados (Data wrangling) é o processo de limpeza e unificação de conjuntos de dados confusos e complexos para facilitar seu acesso, exploração, análise ou modelagem subsequentes. \n",
    "\n",
    "As tarefas envolvidas são\n",
    "* Limpeza de dados\n",
    "* Exclusão de registros duplicados\n",
    "* Transformação de dados\n",
    "* Discretização de variáveis\n",
    "* Detecção e filtro de outliers\n",
    "* Construção de variáveis `dummy`\n",
    "\n",
    "O processo de transformação e mapeamento de dados de um formato de dados \"brutos\" (raw) para outro formato com a intenção de torná-los mais apropriados e valiosos para uma variedade de propósitos posteriores, como análises. O objetivo da transformação de dados é garantir dados úteis e de qualidade. O Pandas fornece métodos para realizar essas tarefas e, neste laboratório, abordaremos alguns desses métodos."
   ]
  },
  {
   "cell_type": "markdown",
   "metadata": {},
   "source": [
    "## Dataset\n",
    "\n",
    "Usaremos um `dataset` com informações do filme que disponibiliza os dados do [MovieLens](https://movielens.org/). Liste de [Datasets da MovieLens](https://grouplens.org/datasets/movielens/)\n",
    "\n",
    "Este [conjunto de dados](http://files.grouplens.org/datasets/movielens/ml-latest-small.zip) é composto por vários arquivos:\n",
    "\n",
    "* `movies.csv`: `movieId`, `title`, `genres`, Em cada registro contém os dados de um filme.\n",
    "\n",
    "* `ratings.csv`: `userId`, `movieId`, `rating`, `timestamp`; Em cada registro tem a classificação dada por um usuário a um filme.\n",
    "\n",
    "* **tags**: `userId`, `movieId`, `tag`, `timestamp`; Em  cada registro possui a tag que um usuário atribuiu a um filme."
   ]
  },
  {
   "cell_type": "markdown",
   "metadata": {},
   "source": [
    "## Imports"
   ]
  },
  {
   "cell_type": "code",
   "execution_count": 1,
   "metadata": {},
   "outputs": [],
   "source": [
    "import pandas as pd\n",
    "import numpy as np\n",
    "import re"
   ]
  },
  {
   "cell_type": "markdown",
   "metadata": {},
   "source": [
    "## Exercício 1 - Importar dados\n",
    "\n",
    "Vamos ler os dados de filmes, classificações e tags dos arquivos\n",
    "\n",
    "-  '../Data/movies.csv'\n",
    "-  '../Data/ratings.csv'\n",
    "-  '../Data/tags.csv'\n",
    "\n",
    "Com as variáveis:\n",
    "\n",
    "- dados_movies\n",
    "- data_ratings\n",
    "- data_tags\n",
    "\n",
    "Vamos ver quantos registros existem em cada `DataFrame` e quais tipos de dados existem em cada coluna. Vejamos os primeiros registros de cada `DataFrame` para verificar se os dados foram importados corretamente."
   ]
  },
  {
   "cell_type": "code",
   "execution_count": null,
   "metadata": {},
   "outputs": [],
   "source": []
  },
  {
   "cell_type": "code",
   "execution_count": null,
   "metadata": {},
   "outputs": [],
   "source": []
  },
  {
   "cell_type": "code",
   "execution_count": null,
   "metadata": {},
   "outputs": [],
   "source": []
  },
  {
   "cell_type": "markdown",
   "metadata": {},
   "source": [
    "## Exercício 2 - duplicado, drop_duplicates\n",
    "\n",
    "Estude a aplicação dos métodos [.duplicated()](https://pandas.pydata.org/pandas-docs/stable/reference/api/pandas.DataFrame.duplicated.html) e [.drop_duplicates()](https://pandas.pydata.org/pandas-docs/stable/reference/api/pandas.DataFrame.drop_duplicates.html).\n",
    "\n",
    "**2.a** Vamos analisar as classificações atribuídas pelos usuários aos filmes e detectar os usuários que avaliaram mais de um filme.\n",
    "\n",
    "**2.b** Vamos ver se há usuários que avaliaram o mesmo filme mais de uma vez.\n",
    "\n",
    "**2.c** Vamos criar um `dataframe` onde cada usuário avaliou exatamente um filme."
   ]
  },
  {
   "cell_type": "code",
   "execution_count": null,
   "metadata": {},
   "outputs": [],
   "source": []
  },
  {
   "cell_type": "code",
   "execution_count": null,
   "metadata": {},
   "outputs": [],
   "source": []
  },
  {
   "cell_type": "code",
   "execution_count": null,
   "metadata": {},
   "outputs": [],
   "source": []
  },
  {
   "cell_type": "code",
   "execution_count": null,
   "metadata": {},
   "outputs": [],
   "source": []
  },
  {
   "cell_type": "markdown",
   "metadata": {},
   "source": [
    "## Exercício 3 - replace\n",
    "\n",
    "Estude a aplicação do método [.replace()](https://pandas.pydata.org/pandas-docs/stable/reference/api/pandas.DataFrame.replace.html).\n",
    "\n",
    "O campo `genre` do `data_movies` `DataFrame` possui uma lista de gêneros separados pelo caractere \"|\"\n",
    "\n",
    "**3.a** Uma lista de valores antigos para um novo valor.\n",
    "\n",
    "Vamos buscar os valores dos discos que têm “Fantasy” como um de seus gêneros e substituí-los por “Fantasia”.\n",
    "\n",
    "**3.b** Uma lista de valores antigos por uma lista de novos valores\n",
    "\n",
    "Pegamos aleatoriamente $10$ valores do campo gênero e construímos uma lista com eles, e outra com o último gênero que aparece em cada elemento da primeira lista. Usamos essas duas listas para substituir alguns valores por outros.\n",
    "\n",
    "**3.c** Um dicionário que define os mapeamentos\n",
    "\n",
    "Com as duas listas do passo anterior, construímos um dicionário que passamos como argumento ao método replace para definir algumas substituições."
   ]
  },
  {
   "cell_type": "code",
   "execution_count": null,
   "metadata": {},
   "outputs": [],
   "source": []
  },
  {
   "cell_type": "code",
   "execution_count": null,
   "metadata": {},
   "outputs": [],
   "source": []
  },
  {
   "cell_type": "code",
   "execution_count": null,
   "metadata": {},
   "outputs": [],
   "source": []
  },
  {
   "cell_type": "code",
   "execution_count": null,
   "metadata": {},
   "outputs": [],
   "source": []
  },
  {
   "cell_type": "markdown",
   "metadata": {},
   "source": [
    "## Exercício 4 - cut\n",
    "\n",
    "Estude a aplicação do método [.cut()](https://pandas.pydata.org/pandas-docs/stable/reference/api/pandas.cut.html).\n",
    "\n",
    "O método `cut` nos permite atribuir categorias a intervalos numéricos.\n",
    "\n",
    "Vamos criar a coluna de categoria (`rating_label_cut`) associada ao campo de classificação `data_ratings` assim:\n",
    "\n",
    "- Ruim: $notas < 3$;\n",
    "\n",
    "- Regular: $3 >= notas < 4$; \n",
    "\n",
    "- Bom: para $notas >= 4$."
   ]
  },
  {
   "cell_type": "code",
   "execution_count": null,
   "metadata": {},
   "outputs": [],
   "source": []
  },
  {
   "cell_type": "markdown",
   "metadata": {},
   "source": [
    "##  Exercício 5 - quantile\n",
    "\n",
    "Estude a aplicação do método [.quantile()](https://pandas.pydata.org/pandas-docs/stable/reference/api/pandas.DataFrame.quantile.html).\n",
    "\n",
    "Vamos calcular os quartis do campo `timestamp` da tabela `data_ratings` e associar os rótulos:\n",
    "\n",
    "-  muito antigo, para o primeiro trimestre;\n",
    "-  antigo, para o segundo quartil;\n",
    "-  aprovado, para o terceiro trimestre;\n",
    "-  recente, para o quarto quartil."
   ]
  },
  {
   "cell_type": "code",
   "execution_count": null,
   "metadata": {},
   "outputs": [],
   "source": []
  },
  {
   "cell_type": "markdown",
   "metadata": {},
   "source": [
    "##  Exercício 6 - get_dummies\n",
    "\n",
    "Estude a aplicação do método [.get_dummies()](https://pandas.pydata.org/pandas-docs/stable/reference/api/pandas.get_dummies.html).\n",
    "\n",
    "Agora vamos criar variáveis ​​​​fictícias para representar o campo `timestamp_category` do `DataFrame` `data_ratings` e substituiremos esse campo pelas variáveis ​​​​fictícias.\n"
   ]
  },
  {
   "cell_type": "code",
   "execution_count": null,
   "metadata": {},
   "outputs": [],
   "source": []
  },
  {
   "cell_type": "code",
   "execution_count": null,
   "metadata": {},
   "outputs": [],
   "source": []
  },
  {
   "cell_type": "code",
   "execution_count": null,
   "metadata": {},
   "outputs": [],
   "source": []
  }
 ],
 "metadata": {
  "kernelspec": {
   "display_name": "Python 3",
   "language": "python",
   "name": "python3"
  },
  "language_info": {
   "codemirror_mode": {
    "name": "ipython",
    "version": 3
   },
   "file_extension": ".py",
   "mimetype": "text/x-python",
   "name": "python",
   "nbconvert_exporter": "python",
   "pygments_lexer": "ipython3",
   "version": "3.9.6"
  }
 },
 "nbformat": 4,
 "nbformat_minor": 4
}
