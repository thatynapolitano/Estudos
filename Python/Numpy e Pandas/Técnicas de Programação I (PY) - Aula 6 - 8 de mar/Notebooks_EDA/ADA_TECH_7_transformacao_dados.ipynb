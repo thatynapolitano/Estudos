{
 "cells": [
  {
   "cell_type": "markdown",
   "metadata": {},
   "source": [
    "<img src='letscodebr_cover.jpeg' align='left' width=100%/>"
   ]
  },
  {
   "cell_type": "markdown",
   "metadata": {},
   "source": [
    "# Ada Tech [DS-PY-004] Técnicas de Programação I (PY) Aula 8: Transformacao de Dados."
   ]
  },
  {
   "cell_type": "markdown",
   "metadata": {},
   "source": [
    "## Intro\n",
    "\n",
    "### Definições\n",
    "\n",
    "**Data Wrangling**:\n",
    "\n",
    "Processo de limpeza e unificação de conjuntos de dados desorganizados e complexos para facilitar seu acesso, exploração, análise ou modelagem subsequente.\n",
    "\n",
    "**Data munging**:\n",
    "\n",
    "Processo de limpeza, preparação e validação dos dados.\n",
    "\n",
    "**Extract, Transform and Load (ETL)**:\n",
    "\n",
    "Faz extração, transforma e carrega os dados.\n",
    "\n",
    "**Exploratory data analysis (EDA)**:\n",
    "\n",
    "Resume as principais características de um conjunto de dados, geralmente com métodos visuais, sem usar um modelo estatístico ou de aprendizado de máquina.\n",
    "\n",
    "### Tipos de variáveis\n",
    "\n",
    "As variáveis podem ser caracterizadas como:\n",
    "\n",
    "* **Quantitativas**: \n",
    "\n",
    "$\\hspace{.5cm}$ assumem valores numéricos, como no caso da renda de uma pessoa ou do preço de uma casa.  \n",
    "\n",
    "* **Qualitativas**: \n",
    "\n",
    "$\\hspace{.5cm}$ assumem valores em uma das K diferentes classes ou categorias.\n",
    "\n",
    "$\\hspace{.5cm}$ Variáveis qualitativas com dois valores possíveis são chamadas de binárias ou dicotômicas.\n",
    "\n",
    "$\\hspace{.5cm}$ Tipos de variáveis categóricas:\n",
    "\n",
    "$\\hspace{.5cm}$ **Nominal/Categórica**:\n",
    "\n",
    "$\\hspace{.5cm}$ tomar valores entre categorias nomeadas.\n",
    "\n",
    "$\\hspace{.5cm}$ Valores numéricos ou rótulos são geralmente atribuídos a variáveis categóricas: estado civil, 0 se solteiro e 1 se casado e 2 se divorciado. Os números usados para rotulagem são arbitrários. Em geral, o software assume que os valores numéricos refletem quantidades algébricas.\n",
    "\n",
    "$\\hspace{.5cm}$ A principal medida de posição é a moda.\n",
    "\n",
    "$\\hspace{.5cm}$ A mediana e a média não são definidas (e, em geral, quaisquer operações numéricas também não são definidas).\n",
    "\n",
    "$\\hspace{.5cm}$ **Ordinal**:\n",
    "\n",
    "$\\hspace{.5cm}$ É uma variável categórica com uma ordem definida.\n",
    "\n",
    "Um exemplo pode ser a variável age_range, que assume os valores \"criança\", \"adolescente\", \"adulto\", \"adulto mais velho\" onde existe uma ordem definida, qual seja: \"criança\" < \"adolescente\" <\"adulto\" < \"adulto mais velho\".\n",
    "\n",
    "\n",
    "* **Dummy** \n",
    "\n",
    "$\\hspace{.5cm}$ são variáveis qualitativas que assumem valores 0 ou 1 para indicar a ausência ou presença de algum atributo ou efeito categórico.\n",
    "\n",
    "$\\hspace{.5cm}$ Formalmente, uma variável fictícia pode ser expressa por uma função indicadora:\n",
    "\n",
    "\\begin{equation}\n",
    "  D_i = \\mathbb{I}_A(x_i) = \\begin{cases} \n",
    "    1, & \\text{si $x_i \\in$ A}\\\\  \n",
    "    0, & \\text{si $x_i \\notin $ A}.\n",
    "  \\end{cases}\n",
    "\\end{equation}\n",
    "\n",
    "$\\hspace{.5cm}$**Qual é a relação entre variáveis categóricas e variáveis dummy?**\n",
    "\n",
    "Uma variável categórica com $N$ categorias pode ser expressa em termos de $N - 1$ variáveis fictícias (codificação one-hot).\n",
    "\n",
    "Resolve o problema de interpretação de rótulos de números como um intervalo.\n",
    "\n",
    "Se as categorias tiverem muitos valores, a dimensionalidade dos dados aumenta consideravelmente."
   ]
  },
  {
   "cell_type": "markdown",
   "metadata": {},
   "source": [
    "## Dataset\n",
    "\n",
    "O conjunto de dados [Honeybees and Neonic Pesticides](https://www.kaggle.com/datasets/kevinzmith/honey-with-neonic-pesticide) é inspirado na produção de mel nos Estados Unidos. Ele cobre o período de 1998-2017.\n",
    "\n",
    "Inclui dados do USGS National Pesticide Synthesis Project, que permite avaliar as conexões estatísticas entre a produção de mel e o uso de pesticidas neonicotinóides (neônicos).\n",
    "\n",
    "Os dados mostram alguns fatos interessantes:\n",
    "* O uso de neônicos nos Estados Unidos começou por volta de 2003, mas o declínio na produção de mel começou nos anos anteriores.\n",
    "* Alguns estados, como Kansas, viram a devastação de colônias de abelhas a partir de 2003, quando o uso de neônicos estava apenas começando.\n",
    "* Outros estados, como Dakota do Norte, têm um número quase estável de colônias de abelhas, apesar do aumento do uso de neônicos\n",
    "\n",
    "Os campos deste conjunto de dados são:\n",
    "\n",
    "* numcol: número de colônias produtoras de mel. As colônias produtoras de mel são o número máximo de colônias das quais o mel foi extraído durante o ano. É possível retirar mel de colônias que não sobreviveram ao longo do ano.\n",
    "\n",
    "* yieldpercol: produção de mel por colônia. A unidade é libras\n",
    "\n",
    "* totalprod: produção total (numcol x yieldpercol). A unidade é libras\n",
    "\n",
    "* estoques: Refere-se aos estoques dos produtores. A unidade é libras\n",
    "\n",
    "* priceperlb: Refere-se ao preço médio por libra com base nas vendas estendidas. A unidade é dólares.\n",
    "\n",
    "* prodvalue: Valor de produção (totalprod x priceperlb). A unidade é dólares.\n",
    "\n",
    "De USGS Data:\n",
    "\n",
    "* nCLOTHIANIDIN: A quantidade em kg de CLOTHIANIDIN aplicada\n",
    "\n",
    "* nIMIDACLOPRID: A quantidade em kg de IMIDACLOPRID aplicada\n",
    "\n",
    "* nTHIAMETHOXAM: A quantidade em kg de THIAMETHOXAM aplicada\n",
    "\n",
    "* nACETAMIPRID: A quantidade em kg de ACETAMIPRID aplicado\n",
    "\n",
    "* nTHIACLOPRID: A quantidade em kg de THIACLOPRID aplicada\n",
    "\n",
    "* nAllNeonic: A quantidade em kg de todos os Neonics aplicados = (nCLOTHIANIDIN + nIMIDACLOPRID + nTHIAMETHOXAM + nACETAMIPRID + nTHIACLOPRID)\n"
   ]
  },
  {
   "cell_type": "markdown",
   "metadata": {},
   "source": [
    "## Problema\n",
    "\n",
    "Usaremos dados de produção de mel dos Estados Unidos para apresentar e exercitar métodos amplamente usados de pandas em tarefas de preparação de dados."
   ]
  },
  {
   "cell_type": "markdown",
   "metadata": {},
   "source": [
    "## Imports"
   ]
  },
  {
   "cell_type": "code",
   "execution_count": 1,
   "metadata": {},
   "outputs": [],
   "source": [
    "import pandas as pd\n",
    "import numpy as np"
   ]
  },
  {
   "cell_type": "markdown",
   "metadata": {},
   "source": [
    "Lemos os dados, vemos quais são os tipos das colunas e mostramos os primeiros registros do DataFrame para verificar se carregamos os dados corretamente."
   ]
  },
  {
   "cell_type": "code",
   "execution_count": 2,
   "metadata": {},
   "outputs": [
    {
     "name": "stdout",
     "output_type": "stream",
     "text": [
      "state             object\n",
      "numcol           float64\n",
      "yieldpercol        int64\n",
      "totalprod        float64\n",
      "stocks           float64\n",
      "priceperlb       float64\n",
      "prodvalue        float64\n",
      "year               int64\n",
      "StateName         object\n",
      "Region            object\n",
      "nCLOTHIANIDIN    float64\n",
      "nIMIDACLOPRID    float64\n",
      "nTHIAMETHOXAM    float64\n",
      "nACETAMIPRID     float64\n",
      "nTHIACLOPRID     float64\n",
      "nAllNeonic       float64\n",
      "dtype: object\n"
     ]
    },
    {
     "data": {
      "text/html": [
       "<div>\n",
       "<style scoped>\n",
       "    .dataframe tbody tr th:only-of-type {\n",
       "        vertical-align: middle;\n",
       "    }\n",
       "\n",
       "    .dataframe tbody tr th {\n",
       "        vertical-align: top;\n",
       "    }\n",
       "\n",
       "    .dataframe thead th {\n",
       "        text-align: right;\n",
       "    }\n",
       "</style>\n",
       "<table border=\"1\" class=\"dataframe\">\n",
       "  <thead>\n",
       "    <tr style=\"text-align: right;\">\n",
       "      <th></th>\n",
       "      <th>state</th>\n",
       "      <th>numcol</th>\n",
       "      <th>yieldpercol</th>\n",
       "      <th>totalprod</th>\n",
       "      <th>stocks</th>\n",
       "      <th>priceperlb</th>\n",
       "      <th>prodvalue</th>\n",
       "      <th>year</th>\n",
       "      <th>StateName</th>\n",
       "      <th>Region</th>\n",
       "      <th>nCLOTHIANIDIN</th>\n",
       "      <th>nIMIDACLOPRID</th>\n",
       "      <th>nTHIAMETHOXAM</th>\n",
       "      <th>nACETAMIPRID</th>\n",
       "      <th>nTHIACLOPRID</th>\n",
       "      <th>nAllNeonic</th>\n",
       "    </tr>\n",
       "  </thead>\n",
       "  <tbody>\n",
       "    <tr>\n",
       "      <th>0</th>\n",
       "      <td>AL</td>\n",
       "      <td>11000.0</td>\n",
       "      <td>56</td>\n",
       "      <td>616000.0</td>\n",
       "      <td>209000.0</td>\n",
       "      <td>1.49</td>\n",
       "      <td>918000.0</td>\n",
       "      <td>2007</td>\n",
       "      <td>Alabama</td>\n",
       "      <td>South</td>\n",
       "      <td>7696.2</td>\n",
       "      <td>3258.1</td>\n",
       "      <td>4149.6</td>\n",
       "      <td>0.0</td>\n",
       "      <td>0.0</td>\n",
       "      <td>15103.9</td>\n",
       "    </tr>\n",
       "    <tr>\n",
       "      <th>1</th>\n",
       "      <td>AL</td>\n",
       "      <td>11000.0</td>\n",
       "      <td>72</td>\n",
       "      <td>792000.0</td>\n",
       "      <td>230000.0</td>\n",
       "      <td>1.21</td>\n",
       "      <td>958000.0</td>\n",
       "      <td>2006</td>\n",
       "      <td>Alabama</td>\n",
       "      <td>South</td>\n",
       "      <td>680.0</td>\n",
       "      <td>4230.2</td>\n",
       "      <td>5371.6</td>\n",
       "      <td>0.0</td>\n",
       "      <td>0.0</td>\n",
       "      <td>10281.8</td>\n",
       "    </tr>\n",
       "    <tr>\n",
       "      <th>2</th>\n",
       "      <td>AL</td>\n",
       "      <td>12000.0</td>\n",
       "      <td>86</td>\n",
       "      <td>1032000.0</td>\n",
       "      <td>103000.0</td>\n",
       "      <td>1.18</td>\n",
       "      <td>1218000.0</td>\n",
       "      <td>2002</td>\n",
       "      <td>Alabama</td>\n",
       "      <td>South</td>\n",
       "      <td>0.0</td>\n",
       "      <td>1178.8</td>\n",
       "      <td>840.4</td>\n",
       "      <td>0.0</td>\n",
       "      <td>0.0</td>\n",
       "      <td>2019.2</td>\n",
       "    </tr>\n",
       "  </tbody>\n",
       "</table>\n",
       "</div>"
      ],
      "text/plain": [
       "  state   numcol  yieldpercol  totalprod    stocks  priceperlb  prodvalue  \\\n",
       "0    AL  11000.0           56   616000.0  209000.0        1.49   918000.0   \n",
       "1    AL  11000.0           72   792000.0  230000.0        1.21   958000.0   \n",
       "2    AL  12000.0           86  1032000.0  103000.0        1.18  1218000.0   \n",
       "\n",
       "   year StateName Region  nCLOTHIANIDIN  nIMIDACLOPRID  nTHIAMETHOXAM  \\\n",
       "0  2007   Alabama  South         7696.2         3258.1         4149.6   \n",
       "1  2006   Alabama  South          680.0         4230.2         5371.6   \n",
       "2  2002   Alabama  South            0.0         1178.8          840.4   \n",
       "\n",
       "   nACETAMIPRID  nTHIACLOPRID  nAllNeonic  \n",
       "0           0.0           0.0     15103.9  \n",
       "1           0.0           0.0     10281.8  \n",
       "2           0.0           0.0      2019.2  "
      ]
     },
     "execution_count": 2,
     "metadata": {},
     "output_type": "execute_result"
    }
   ],
   "source": [
    "data_location = \"../Data/vHoneyNeonic_v02.csv\"\n",
    "data = pd.read_csv(data_location, sep=\",\")\n",
    "print(data.dtypes)\n",
    "data.head(3)"
   ]
  },
  {
   "cell_type": "markdown",
   "metadata": {},
   "source": [
    "Construímos um novo DataFrame que contém as informações associadas aos diferentes estados dos EUA."
   ]
  },
  {
   "cell_type": "code",
   "execution_count": 3,
   "metadata": {},
   "outputs": [],
   "source": [
    "data_state = data.loc[:, [\"state\", \"StateName\", \"Region\"]]"
   ]
  },
  {
   "cell_type": "markdown",
   "metadata": {},
   "source": [
    "## Eliminação de duplicatas\n",
    "\n",
    "Para determinar se um DataFrame possui registros duplicados, devemos primeiro **definir em quais campos os valores dos registros devem corresponder para serem considerados iguais**.\n",
    "\n",
    "O método pandas `duplicated` permite definir no argumento do`subset` uma lista de colunas para avaliar quando queremos determinar se dois registros são duplicados. Se não definirmos o valor deste argumento, apenas os registros cujos valores correspondem em todos os campos serão duplicados.\n",
    "\n",
    "Para mais informações veja:\n",
    "\n",
    "https://pandas.pydata.org/pandas-docs/stable/reference/api/pandas.DataFrame.duplicated.html\n",
    "\n",
    "\n",
    "O método pandas `drop_duplicates` retorna um novo DataFrame sem registros duplicados. Os argumentos` subconjunto` e `keep` têm o mesmo comportamento que em` duplicated`.\n",
    "\n",
    "https://pandas.pydata.org/pandas-docs/stable/reference/api/pandas.DataFrame.drop_duplicates.html"
   ]
  },
  {
   "cell_type": "markdown",
   "metadata": {},
   "source": [
    "**Exercício**:\n",
    "    \n",
    "A partir do dados DataFrame, vamos construir outro DataFrame com os dados de estado: \"state\", \"StateName\", \"Region\" e atribuí-lo à variável data_state.\n",
    "\n",
    "Vamos ver se temos registros duplicados de duas maneiras diferentes:\n",
    "* Avaliando data\n",
    "* Avaliando data_state\n",
    "\n",
    "Vamos criar outro DataFrame sem registros duplicados."
   ]
  },
  {
   "cell_type": "code",
   "execution_count": 4,
   "metadata": {},
   "outputs": [
    {
     "name": "stdout",
     "output_type": "stream",
     "text": [
      "registros duplicados em data_state:  True\n",
      "quantidade de registros duplicados em data_state:  781\n",
      "registros duplicados em data (considerando os dados do estado):  True\n",
      "quantidade de registros duplicados em data (considerando os dados do estado):  781\n",
      "shape con duplicados:  (825, 3)\n",
      "shape sem duplicados:  (44, 3)\n"
     ]
    }
   ],
   "source": [
    "data_state = data.loc[:, [\"state\", \"StateName\", \"Region\"]]\n",
    "\n",
    "# avaliando data_state\n",
    "data_state_duplicates_mask = data_state.duplicated(keep=\"first\")\n",
    "print(\"registros duplicados em data_state: \", any(data_state_duplicates_mask))\n",
    "print(\"quantidade de registros duplicados em data_state: \", data_state_duplicates_mask.sum())\n",
    "\n",
    "# avaliando data\n",
    "data_duplicates_statefields =  data.duplicated(subset=[\"state\", \"StateName\", \"Region\"], keep=\"first\")\n",
    "print(\"registros duplicados em data (considerando os dados do estado): \", any(data_duplicates_statefields))\n",
    "print(\"quantidade de registros duplicados em data (considerando os dados do estado): \", data_duplicates_statefields.sum())\n",
    "\n",
    "data_state_nodup = data_state.drop_duplicates(keep=\"first\")\n",
    "print(\"shape con duplicados: \", data_state.shape)\n",
    "print(\"shape sem duplicados: \", data_state_nodup.shape)"
   ]
  },
  {
   "cell_type": "markdown",
   "metadata": {},
   "source": [
    "Assim, poderíamos manter os dados de estado em um DataFrame separado e manter em cada registro um campo identificador do estado (que pode ser `state` neste exemplo) que nos permite mapear com os dados adicionais.\n",
    "\n",
    "Observe que, embora contenham duplicatas em data e data_state, apenas descartamos data_state. Se o fizéssemos em dados, perderíamos todas as informações de produção por ano de cada estado."
   ]
  },
  {
   "cell_type": "markdown",
   "metadata": {},
   "source": [
    "## Substituição de valores\n",
    "\n",
    "O método [.replace()](https://pandas.pydata.org/pandas-docs/stable/reference/api/pandas.DataFrame.replace.html) oferece várias maneiras de substituir dados em uma Series do Pandas:\n",
    "\n",
    "* Um valor antigo para um novo valor.\n",
    "    \n",
    "* Uma lista de valores antigos para um novo valor.\n",
    "    \n",
    "* Uma lista de valores antigos por uma lista de novos valores.\n",
    "    \n",
    "* Um dicionário que mapeia valores novos e antigos.\n"
   ]
  },
  {
   "cell_type": "markdown",
   "metadata": {},
   "source": [
    "### Um valor antigo para um novo valor\n",
    "\n",
    "Vamos substituir as ocorrências de \"South\" por \"south\"."
   ]
  },
  {
   "cell_type": "code",
   "execution_count": 5,
   "metadata": {},
   "outputs": [
    {
     "data": {
      "text/html": [
       "<div>\n",
       "<style scoped>\n",
       "    .dataframe tbody tr th:only-of-type {\n",
       "        vertical-align: middle;\n",
       "    }\n",
       "\n",
       "    .dataframe tbody tr th {\n",
       "        vertical-align: top;\n",
       "    }\n",
       "\n",
       "    .dataframe thead th {\n",
       "        text-align: right;\n",
       "    }\n",
       "</style>\n",
       "<table border=\"1\" class=\"dataframe\">\n",
       "  <thead>\n",
       "    <tr style=\"text-align: right;\">\n",
       "      <th></th>\n",
       "      <th>state</th>\n",
       "      <th>numcol</th>\n",
       "      <th>yieldpercol</th>\n",
       "      <th>totalprod</th>\n",
       "      <th>stocks</th>\n",
       "      <th>priceperlb</th>\n",
       "      <th>prodvalue</th>\n",
       "      <th>year</th>\n",
       "      <th>StateName</th>\n",
       "      <th>Region</th>\n",
       "      <th>nCLOTHIANIDIN</th>\n",
       "      <th>nIMIDACLOPRID</th>\n",
       "      <th>nTHIAMETHOXAM</th>\n",
       "      <th>nACETAMIPRID</th>\n",
       "      <th>nTHIACLOPRID</th>\n",
       "      <th>nAllNeonic</th>\n",
       "    </tr>\n",
       "  </thead>\n",
       "  <tbody>\n",
       "    <tr>\n",
       "      <th>0</th>\n",
       "      <td>AL</td>\n",
       "      <td>11000.0</td>\n",
       "      <td>56</td>\n",
       "      <td>616000.0</td>\n",
       "      <td>209000.0</td>\n",
       "      <td>1.49</td>\n",
       "      <td>918000.0</td>\n",
       "      <td>2007</td>\n",
       "      <td>Alabama</td>\n",
       "      <td>south</td>\n",
       "      <td>7696.2</td>\n",
       "      <td>3258.1</td>\n",
       "      <td>4149.6</td>\n",
       "      <td>0.0</td>\n",
       "      <td>0.0</td>\n",
       "      <td>15103.9</td>\n",
       "    </tr>\n",
       "    <tr>\n",
       "      <th>1</th>\n",
       "      <td>AL</td>\n",
       "      <td>11000.0</td>\n",
       "      <td>72</td>\n",
       "      <td>792000.0</td>\n",
       "      <td>230000.0</td>\n",
       "      <td>1.21</td>\n",
       "      <td>958000.0</td>\n",
       "      <td>2006</td>\n",
       "      <td>Alabama</td>\n",
       "      <td>south</td>\n",
       "      <td>680.0</td>\n",
       "      <td>4230.2</td>\n",
       "      <td>5371.6</td>\n",
       "      <td>0.0</td>\n",
       "      <td>0.0</td>\n",
       "      <td>10281.8</td>\n",
       "    </tr>\n",
       "    <tr>\n",
       "      <th>2</th>\n",
       "      <td>AL</td>\n",
       "      <td>12000.0</td>\n",
       "      <td>86</td>\n",
       "      <td>1032000.0</td>\n",
       "      <td>103000.0</td>\n",
       "      <td>1.18</td>\n",
       "      <td>1218000.0</td>\n",
       "      <td>2002</td>\n",
       "      <td>Alabama</td>\n",
       "      <td>south</td>\n",
       "      <td>0.0</td>\n",
       "      <td>1178.8</td>\n",
       "      <td>840.4</td>\n",
       "      <td>0.0</td>\n",
       "      <td>0.0</td>\n",
       "      <td>2019.2</td>\n",
       "    </tr>\n",
       "  </tbody>\n",
       "</table>\n",
       "</div>"
      ],
      "text/plain": [
       "  state   numcol  yieldpercol  totalprod    stocks  priceperlb  prodvalue  \\\n",
       "0    AL  11000.0           56   616000.0  209000.0        1.49   918000.0   \n",
       "1    AL  11000.0           72   792000.0  230000.0        1.21   958000.0   \n",
       "2    AL  12000.0           86  1032000.0  103000.0        1.18  1218000.0   \n",
       "\n",
       "   year StateName Region  nCLOTHIANIDIN  nIMIDACLOPRID  nTHIAMETHOXAM  \\\n",
       "0  2007   Alabama  south         7696.2         3258.1         4149.6   \n",
       "1  2006   Alabama  south          680.0         4230.2         5371.6   \n",
       "2  2002   Alabama  south            0.0         1178.8          840.4   \n",
       "\n",
       "   nACETAMIPRID  nTHIACLOPRID  nAllNeonic  \n",
       "0           0.0           0.0     15103.9  \n",
       "1           0.0           0.0     10281.8  \n",
       "2           0.0           0.0      2019.2  "
      ]
     },
     "execution_count": 5,
     "metadata": {},
     "output_type": "execute_result"
    }
   ],
   "source": [
    "data_south = data.replace(\"South\", \"south\")\n",
    "data_south.head(3)"
   ]
  },
  {
   "cell_type": "markdown",
   "metadata": {},
   "source": [
    "### Uma lista de valores antigos para um novo valor\n",
    "\n",
    "Vamos substituir todos os valores do campo totalprod por np.NaN\n",
    "\n",
    "Para isso, vamos criar uma lista de valores únicos com os valores da coluna data.totalprod."
   ]
  },
  {
   "cell_type": "code",
   "execution_count": 6,
   "metadata": {},
   "outputs": [],
   "source": [
    "to_be_replaced = data.totalprod.unique()\n",
    "data_totalprod_null = data.replace(to_be_replaced, np.NaN)"
   ]
  },
  {
   "cell_type": "markdown",
   "metadata": {},
   "source": [
    "Observe que, nesta substituição, não estamos especificando a coluna que estamos substituindo, portanto, ela substitui os valores que estão no primeiro argumento em qualquer campo em que apareçam.\n",
    "\n",
    "Vamos ver qual porcentagem de nulos havia no DatFrame original e quantos existem em data_totalprod_null."
   ]
  },
  {
   "cell_type": "code",
   "execution_count": 7,
   "metadata": {},
   "outputs": [
    {
     "data": {
      "text/plain": [
       "state            0.000000\n",
       "numcol           0.000000\n",
       "yieldpercol      0.000000\n",
       "totalprod        0.000000\n",
       "stocks           0.000000\n",
       "priceperlb       0.000000\n",
       "prodvalue        0.000000\n",
       "year             0.000000\n",
       "StateName        0.000000\n",
       "Region           0.000000\n",
       "nCLOTHIANIDIN    0.077576\n",
       "nIMIDACLOPRID    0.077576\n",
       "nTHIAMETHOXAM    0.077576\n",
       "nACETAMIPRID     0.077576\n",
       "nTHIACLOPRID     0.077576\n",
       "nAllNeonic       0.077576\n",
       "dtype: float64"
      ]
     },
     "execution_count": 7,
     "metadata": {},
     "output_type": "execute_result"
    }
   ],
   "source": [
    "data.isnull().sum() / data.shape[0]"
   ]
  },
  {
   "cell_type": "code",
   "execution_count": 8,
   "metadata": {},
   "outputs": [
    {
     "data": {
      "text/plain": [
       "state            0.000000\n",
       "numcol           0.073939\n",
       "yieldpercol      0.000000\n",
       "totalprod        1.000000\n",
       "stocks           0.156364\n",
       "priceperlb       0.000000\n",
       "prodvalue        0.113939\n",
       "year             0.000000\n",
       "StateName        0.000000\n",
       "Region           0.000000\n",
       "nCLOTHIANIDIN    0.077576\n",
       "nIMIDACLOPRID    0.077576\n",
       "nTHIAMETHOXAM    0.077576\n",
       "nACETAMIPRID     0.077576\n",
       "nTHIACLOPRID     0.077576\n",
       "nAllNeonic       0.077576\n",
       "dtype: float64"
      ]
     },
     "execution_count": 8,
     "metadata": {},
     "output_type": "execute_result"
    }
   ],
   "source": [
    "data_totalprod_null.isnull().sum() / data_totalprod_null.shape[0]"
   ]
  },
  {
   "cell_type": "markdown",
   "metadata": {},
   "source": [
    "Vemos que conseguimos substituiurtodos os valores de `totalprod` e alguns dos valores em`numcol`, `stocks` e `prodvalue`."
   ]
  },
  {
   "cell_type": "markdown",
   "metadata": {},
   "source": [
    "### Uma lista de valores antigos por uma lista de novos valores\n",
    "\n",
    "Vamos substituir os valores da coluna state por outros que são o resultado da concatenação do campo de region com o campo de state, para cada valor de state."
   ]
  },
  {
   "cell_type": "code",
   "execution_count": 9,
   "metadata": {},
   "outputs": [
    {
     "name": "stdout",
     "output_type": "stream",
     "text": [
      "44\n",
      "44\n"
     ]
    }
   ],
   "source": [
    "valores_antigos = data.state.unique()\n",
    "valores_novos = (data.Region + \"_\" + data.state).unique()\n",
    "print(len(valores_antigos))\n",
    "print(len(valores_novos))"
   ]
  },
  {
   "cell_type": "code",
   "execution_count": 10,
   "metadata": {},
   "outputs": [
    {
     "data": {
      "text/html": [
       "<div>\n",
       "<style scoped>\n",
       "    .dataframe tbody tr th:only-of-type {\n",
       "        vertical-align: middle;\n",
       "    }\n",
       "\n",
       "    .dataframe tbody tr th {\n",
       "        vertical-align: top;\n",
       "    }\n",
       "\n",
       "    .dataframe thead th {\n",
       "        text-align: right;\n",
       "    }\n",
       "</style>\n",
       "<table border=\"1\" class=\"dataframe\">\n",
       "  <thead>\n",
       "    <tr style=\"text-align: right;\">\n",
       "      <th></th>\n",
       "      <th>state</th>\n",
       "      <th>numcol</th>\n",
       "      <th>yieldpercol</th>\n",
       "      <th>totalprod</th>\n",
       "      <th>stocks</th>\n",
       "      <th>priceperlb</th>\n",
       "      <th>prodvalue</th>\n",
       "      <th>year</th>\n",
       "      <th>StateName</th>\n",
       "      <th>Region</th>\n",
       "      <th>nCLOTHIANIDIN</th>\n",
       "      <th>nIMIDACLOPRID</th>\n",
       "      <th>nTHIAMETHOXAM</th>\n",
       "      <th>nACETAMIPRID</th>\n",
       "      <th>nTHIACLOPRID</th>\n",
       "      <th>nAllNeonic</th>\n",
       "    </tr>\n",
       "  </thead>\n",
       "  <tbody>\n",
       "    <tr>\n",
       "      <th>684</th>\n",
       "      <td>South_TX</td>\n",
       "      <td>97000.0</td>\n",
       "      <td>79</td>\n",
       "      <td>7663000.0</td>\n",
       "      <td>1533000.0</td>\n",
       "      <td>0.65</td>\n",
       "      <td>4981000.0</td>\n",
       "      <td>2001</td>\n",
       "      <td>Texas</td>\n",
       "      <td>South</td>\n",
       "      <td>0.0</td>\n",
       "      <td>18478.4</td>\n",
       "      <td>406.8</td>\n",
       "      <td>0.0</td>\n",
       "      <td>0.0</td>\n",
       "      <td>18885.2</td>\n",
       "    </tr>\n",
       "    <tr>\n",
       "      <th>460</th>\n",
       "      <td>Midwest_ND</td>\n",
       "      <td>480000.0</td>\n",
       "      <td>69</td>\n",
       "      <td>33120000.0</td>\n",
       "      <td>5962000.0</td>\n",
       "      <td>1.92</td>\n",
       "      <td>63590000.0</td>\n",
       "      <td>2012</td>\n",
       "      <td>North Dakota</td>\n",
       "      <td>Midwest</td>\n",
       "      <td>47176.9</td>\n",
       "      <td>25924.6</td>\n",
       "      <td>23480.2</td>\n",
       "      <td>0.0</td>\n",
       "      <td>0.0</td>\n",
       "      <td>96581.7</td>\n",
       "    </tr>\n",
       "    <tr>\n",
       "      <th>798</th>\n",
       "      <td>South_WV</td>\n",
       "      <td>6000.0</td>\n",
       "      <td>55</td>\n",
       "      <td>330000.0</td>\n",
       "      <td>155000.0</td>\n",
       "      <td>1.14</td>\n",
       "      <td>376000.0</td>\n",
       "      <td>1998</td>\n",
       "      <td>West Virginia</td>\n",
       "      <td>South</td>\n",
       "      <td>0.0</td>\n",
       "      <td>120.7</td>\n",
       "      <td>0.0</td>\n",
       "      <td>0.0</td>\n",
       "      <td>0.0</td>\n",
       "      <td>120.7</td>\n",
       "    </tr>\n",
       "    <tr>\n",
       "      <th>750</th>\n",
       "      <td>West_WA</td>\n",
       "      <td>51000.0</td>\n",
       "      <td>55</td>\n",
       "      <td>2805000.0</td>\n",
       "      <td>1935000.0</td>\n",
       "      <td>1.01</td>\n",
       "      <td>2833000.0</td>\n",
       "      <td>2005</td>\n",
       "      <td>Washington</td>\n",
       "      <td>West</td>\n",
       "      <td>3393.6</td>\n",
       "      <td>5273.1</td>\n",
       "      <td>4023.6</td>\n",
       "      <td>6638.4</td>\n",
       "      <td>1434.4</td>\n",
       "      <td>20763.1</td>\n",
       "    </tr>\n",
       "    <tr>\n",
       "      <th>746</th>\n",
       "      <td>West_WA</td>\n",
       "      <td>48000.0</td>\n",
       "      <td>52</td>\n",
       "      <td>2496000.0</td>\n",
       "      <td>1048000.0</td>\n",
       "      <td>0.72</td>\n",
       "      <td>1797000.0</td>\n",
       "      <td>2001</td>\n",
       "      <td>Washington</td>\n",
       "      <td>West</td>\n",
       "      <td>0.0</td>\n",
       "      <td>6570.7</td>\n",
       "      <td>211.1</td>\n",
       "      <td>0.0</td>\n",
       "      <td>0.0</td>\n",
       "      <td>6781.8</td>\n",
       "    </tr>\n",
       "  </tbody>\n",
       "</table>\n",
       "</div>"
      ],
      "text/plain": [
       "          state    numcol  yieldpercol   totalprod     stocks  priceperlb  \\\n",
       "684    South_TX   97000.0           79   7663000.0  1533000.0        0.65   \n",
       "460  Midwest_ND  480000.0           69  33120000.0  5962000.0        1.92   \n",
       "798    South_WV    6000.0           55    330000.0   155000.0        1.14   \n",
       "750     West_WA   51000.0           55   2805000.0  1935000.0        1.01   \n",
       "746     West_WA   48000.0           52   2496000.0  1048000.0        0.72   \n",
       "\n",
       "      prodvalue  year      StateName   Region  nCLOTHIANIDIN  nIMIDACLOPRID  \\\n",
       "684   4981000.0  2001          Texas    South            0.0        18478.4   \n",
       "460  63590000.0  2012   North Dakota  Midwest        47176.9        25924.6   \n",
       "798    376000.0  1998  West Virginia    South            0.0          120.7   \n",
       "750   2833000.0  2005     Washington     West         3393.6         5273.1   \n",
       "746   1797000.0  2001     Washington     West            0.0         6570.7   \n",
       "\n",
       "     nTHIAMETHOXAM  nACETAMIPRID  nTHIACLOPRID  nAllNeonic  \n",
       "684          406.8           0.0           0.0     18885.2  \n",
       "460        23480.2           0.0           0.0     96581.7  \n",
       "798            0.0           0.0           0.0       120.7  \n",
       "750         4023.6        6638.4        1434.4     20763.1  \n",
       "746          211.1           0.0           0.0      6781.8  "
      ]
     },
     "execution_count": 10,
     "metadata": {},
     "output_type": "execute_result"
    }
   ],
   "source": [
    "data_state_modif = data.replace(valores_antigos, valores_novos)\n",
    "data_state_modif.sample(5)"
   ]
  },
  {
   "cell_type": "markdown",
   "metadata": {},
   "source": [
    "Observe que as listas de valores antigos e novos devem ter o mesmo tamanho."
   ]
  },
  {
   "cell_type": "markdown",
   "metadata": {},
   "source": [
    "### Um dicionário que mapeia valores novos e antigos\n",
    "\n",
    "Vamos fazer a mesma substituição do ponto anterior, mas usando um dicionário.\n",
    "\n",
    "Nesse caso, todas as ocorrências no DataFrame das chaves de dicionário serão substituídas pelos valores associados a essas chaves."
   ]
  },
  {
   "cell_type": "code",
   "execution_count": 11,
   "metadata": {},
   "outputs": [
    {
     "data": {
      "text/plain": [
       "{'AL': 'South_AL',\n",
       " 'AR': 'South_AR',\n",
       " 'AZ': 'West_AZ',\n",
       " 'CA': 'West_CA',\n",
       " 'CO': 'West_CO',\n",
       " 'FL': 'South_FL',\n",
       " 'GA': 'South_GA',\n",
       " 'HI': 'West_HI',\n",
       " 'IA': 'Midwest_IA',\n",
       " 'ID': 'West_ID',\n",
       " 'IL': 'Midwest_IL',\n",
       " 'IN': 'Midwest_IN',\n",
       " 'KS': 'Midwest_KS',\n",
       " 'KY': 'South_KY',\n",
       " 'LA': 'South_LA',\n",
       " 'MD': 'South_MD',\n",
       " 'ME': 'Northeast_ME',\n",
       " 'MI': 'Midwest_MI',\n",
       " 'MN': 'Midwest_MN',\n",
       " 'MO': 'Midwest_MO',\n",
       " 'MS': 'South_MS',\n",
       " 'MT': 'West_MT',\n",
       " 'NC': 'South_NC',\n",
       " 'ND': 'Midwest_ND',\n",
       " 'NE': 'Midwest_NE',\n",
       " 'NJ': 'Northeast_NJ',\n",
       " 'NM': 'West_NM',\n",
       " 'NV': 'West_NV',\n",
       " 'NY': 'Northeast_NY',\n",
       " 'OH': 'Midwest_OH',\n",
       " 'OK': 'South_OK',\n",
       " 'OR': 'West_OR',\n",
       " 'PA': 'Northeast_PA',\n",
       " 'SC': 'South_SC',\n",
       " 'SD': 'Midwest_SD',\n",
       " 'TN': 'South_TN',\n",
       " 'TX': 'South_TX',\n",
       " 'UT': 'West_UT',\n",
       " 'VA': 'South_VA',\n",
       " 'VT': 'Northeast_VT',\n",
       " 'WA': 'West_WA',\n",
       " 'WI': 'Midwest_WI',\n",
       " 'WV': 'South_WV',\n",
       " 'WY': 'West_WY'}"
      ]
     },
     "execution_count": 11,
     "metadata": {},
     "output_type": "execute_result"
    }
   ],
   "source": [
    "mapping = dict(zip(valores_antigos, valores_novos))\n",
    "mapping"
   ]
  },
  {
   "cell_type": "code",
   "execution_count": 12,
   "metadata": {},
   "outputs": [
    {
     "data": {
      "text/html": [
       "<div>\n",
       "<style scoped>\n",
       "    .dataframe tbody tr th:only-of-type {\n",
       "        vertical-align: middle;\n",
       "    }\n",
       "\n",
       "    .dataframe tbody tr th {\n",
       "        vertical-align: top;\n",
       "    }\n",
       "\n",
       "    .dataframe thead th {\n",
       "        text-align: right;\n",
       "    }\n",
       "</style>\n",
       "<table border=\"1\" class=\"dataframe\">\n",
       "  <thead>\n",
       "    <tr style=\"text-align: right;\">\n",
       "      <th></th>\n",
       "      <th>state</th>\n",
       "      <th>numcol</th>\n",
       "      <th>yieldpercol</th>\n",
       "      <th>totalprod</th>\n",
       "      <th>stocks</th>\n",
       "      <th>priceperlb</th>\n",
       "      <th>prodvalue</th>\n",
       "      <th>year</th>\n",
       "      <th>StateName</th>\n",
       "      <th>Region</th>\n",
       "      <th>nCLOTHIANIDIN</th>\n",
       "      <th>nIMIDACLOPRID</th>\n",
       "      <th>nTHIAMETHOXAM</th>\n",
       "      <th>nACETAMIPRID</th>\n",
       "      <th>nTHIACLOPRID</th>\n",
       "      <th>nAllNeonic</th>\n",
       "    </tr>\n",
       "  </thead>\n",
       "  <tbody>\n",
       "    <tr>\n",
       "      <th>1</th>\n",
       "      <td>South_AL</td>\n",
       "      <td>11000.0</td>\n",
       "      <td>72</td>\n",
       "      <td>792000.0</td>\n",
       "      <td>230000.0</td>\n",
       "      <td>1.21</td>\n",
       "      <td>958000.0</td>\n",
       "      <td>2006</td>\n",
       "      <td>Alabama</td>\n",
       "      <td>South</td>\n",
       "      <td>680.0</td>\n",
       "      <td>4230.2</td>\n",
       "      <td>5371.6</td>\n",
       "      <td>0.0</td>\n",
       "      <td>0.0</td>\n",
       "      <td>10281.8</td>\n",
       "    </tr>\n",
       "    <tr>\n",
       "      <th>577</th>\n",
       "      <td>South_OK</td>\n",
       "      <td>7000.0</td>\n",
       "      <td>35</td>\n",
       "      <td>245000.0</td>\n",
       "      <td>64000.0</td>\n",
       "      <td>1.26</td>\n",
       "      <td>309000.0</td>\n",
       "      <td>2000</td>\n",
       "      <td>Oklahoma</td>\n",
       "      <td>South</td>\n",
       "      <td>0.0</td>\n",
       "      <td>307.5</td>\n",
       "      <td>0.0</td>\n",
       "      <td>0.0</td>\n",
       "      <td>0.0</td>\n",
       "      <td>307.5</td>\n",
       "    </tr>\n",
       "    <tr>\n",
       "      <th>659</th>\n",
       "      <td>South_TN</td>\n",
       "      <td>7000.0</td>\n",
       "      <td>65</td>\n",
       "      <td>455000.0</td>\n",
       "      <td>114000.0</td>\n",
       "      <td>1.99</td>\n",
       "      <td>905000.0</td>\n",
       "      <td>2007</td>\n",
       "      <td>Tennessee</td>\n",
       "      <td>South</td>\n",
       "      <td>2122.4</td>\n",
       "      <td>5452.4</td>\n",
       "      <td>10910.5</td>\n",
       "      <td>793.8</td>\n",
       "      <td>19.6</td>\n",
       "      <td>19298.7</td>\n",
       "    </tr>\n",
       "    <tr>\n",
       "      <th>90</th>\n",
       "      <td>West_CO</td>\n",
       "      <td>28000.0</td>\n",
       "      <td>53</td>\n",
       "      <td>1484000.0</td>\n",
       "      <td>326000.0</td>\n",
       "      <td>1.43</td>\n",
       "      <td>2122000.0</td>\n",
       "      <td>2009</td>\n",
       "      <td>Colorado</td>\n",
       "      <td>West</td>\n",
       "      <td>7375.4</td>\n",
       "      <td>2561.9</td>\n",
       "      <td>2176.0</td>\n",
       "      <td>0.0</td>\n",
       "      <td>0.0</td>\n",
       "      <td>12113.3</td>\n",
       "    </tr>\n",
       "    <tr>\n",
       "      <th>773</th>\n",
       "      <td>Midwest_WI</td>\n",
       "      <td>60000.0</td>\n",
       "      <td>84</td>\n",
       "      <td>5040000.0</td>\n",
       "      <td>3024000.0</td>\n",
       "      <td>1.22</td>\n",
       "      <td>6149000.0</td>\n",
       "      <td>2007</td>\n",
       "      <td>Wisconsin</td>\n",
       "      <td>Midwest</td>\n",
       "      <td>11492.4</td>\n",
       "      <td>4137.0</td>\n",
       "      <td>7236.8</td>\n",
       "      <td>42.1</td>\n",
       "      <td>0.0</td>\n",
       "      <td>22908.3</td>\n",
       "    </tr>\n",
       "    <tr>\n",
       "      <th>34</th>\n",
       "      <td>South_AR</td>\n",
       "      <td>40000.0</td>\n",
       "      <td>75</td>\n",
       "      <td>3000000.0</td>\n",
       "      <td>810000.0</td>\n",
       "      <td>1.26</td>\n",
       "      <td>3780000.0</td>\n",
       "      <td>2003</td>\n",
       "      <td>Arkansas</td>\n",
       "      <td>South</td>\n",
       "      <td>0.0</td>\n",
       "      <td>3266.6</td>\n",
       "      <td>2280.0</td>\n",
       "      <td>20.8</td>\n",
       "      <td>0.0</td>\n",
       "      <td>5567.4</td>\n",
       "    </tr>\n",
       "    <tr>\n",
       "      <th>211</th>\n",
       "      <td>Midwest_IL</td>\n",
       "      <td>8000.0</td>\n",
       "      <td>51</td>\n",
       "      <td>408000.0</td>\n",
       "      <td>155000.0</td>\n",
       "      <td>4.66</td>\n",
       "      <td>1901000.0</td>\n",
       "      <td>2015</td>\n",
       "      <td>Illinois</td>\n",
       "      <td>Midwest</td>\n",
       "      <td>17.1</td>\n",
       "      <td>6849.6</td>\n",
       "      <td>15849.1</td>\n",
       "      <td>80.9</td>\n",
       "      <td>0.0</td>\n",
       "      <td>22796.7</td>\n",
       "    </tr>\n",
       "  </tbody>\n",
       "</table>\n",
       "</div>"
      ],
      "text/plain": [
       "          state   numcol  yieldpercol  totalprod     stocks  priceperlb  \\\n",
       "1      South_AL  11000.0           72   792000.0   230000.0        1.21   \n",
       "577    South_OK   7000.0           35   245000.0    64000.0        1.26   \n",
       "659    South_TN   7000.0           65   455000.0   114000.0        1.99   \n",
       "90      West_CO  28000.0           53  1484000.0   326000.0        1.43   \n",
       "773  Midwest_WI  60000.0           84  5040000.0  3024000.0        1.22   \n",
       "34     South_AR  40000.0           75  3000000.0   810000.0        1.26   \n",
       "211  Midwest_IL   8000.0           51   408000.0   155000.0        4.66   \n",
       "\n",
       "     prodvalue  year  StateName   Region  nCLOTHIANIDIN  nIMIDACLOPRID  \\\n",
       "1     958000.0  2006    Alabama    South          680.0         4230.2   \n",
       "577   309000.0  2000   Oklahoma    South            0.0          307.5   \n",
       "659   905000.0  2007  Tennessee    South         2122.4         5452.4   \n",
       "90   2122000.0  2009   Colorado     West         7375.4         2561.9   \n",
       "773  6149000.0  2007  Wisconsin  Midwest        11492.4         4137.0   \n",
       "34   3780000.0  2003   Arkansas    South            0.0         3266.6   \n",
       "211  1901000.0  2015   Illinois  Midwest           17.1         6849.6   \n",
       "\n",
       "     nTHIAMETHOXAM  nACETAMIPRID  nTHIACLOPRID  nAllNeonic  \n",
       "1           5371.6           0.0           0.0     10281.8  \n",
       "577            0.0           0.0           0.0       307.5  \n",
       "659        10910.5         793.8          19.6     19298.7  \n",
       "90          2176.0           0.0           0.0     12113.3  \n",
       "773         7236.8          42.1           0.0     22908.3  \n",
       "34          2280.0          20.8           0.0      5567.4  \n",
       "211        15849.1          80.9           0.0     22796.7  "
      ]
     },
     "execution_count": 12,
     "metadata": {},
     "output_type": "execute_result"
    }
   ],
   "source": [
    "data_dict = data.replace(mapping)\n",
    "data_dict.sample(7)"
   ]
  },
  {
   "cell_type": "markdown",
   "metadata": {},
   "source": [
    "## Renomear índices \n",
    "\n",
    "O método [.rename()](https://pandas.pydata.org/pandas-docs/stable/reference/api/pandas.DataFrame.rename.html) nos permite alterar os rótulos dos eixos.\n",
    "\n",
    "O primeiro argumento `mapper` é um dicionário que contém os rótulos a serem substituídos como chaves e os rótulos de substituição como valores.\n",
    "\n",
    "O argumento `axis` indica se a substituição é sobre o índice ou sobre as colunas.\n",
    "\n",
    "O argumento `index` é um dicionário. `mapper, axis = 0` é equivalente a` index = mapper`.\n",
    "\n",
    "O argumento `colunas` é um dicionário. `mapper, axis = 1` é equivalente a` colunas = mapper`."
   ]
  },
  {
   "cell_type": "markdown",
   "metadata": {},
   "source": [
    "Vamos renomear duas colunas usando os argumentos mapper e axis:"
   ]
  },
  {
   "cell_type": "code",
   "execution_count": 13,
   "metadata": {},
   "outputs": [
    {
     "name": "stdout",
     "output_type": "stream",
     "text": [
      "Index(['state', 'numcol', 'yieldpercol', 'totalprod', 'stocks', 'priceperlb',\n",
      "       'prodvalue', 'year', 'StateName', 'Region', 'nCLOTHIANIDIN',\n",
      "       'nIMIDACLOPRID', 'nTHIAMETHOXAM', 'nACETAMIPRID', 'nTHIACLOPRID',\n",
      "       'nAllNeonic'],\n",
      "      dtype='object')\n",
      "Index(['state', 'numcol', 'yieldpercol', 'totalprod', 'stocks', 'priceperlb',\n",
      "       'prodvalue', 'year', 'StateName', 'Region', 'nCLOTHIANIDIN',\n",
      "       'nimidacloprid', 'nthiamethoxam', 'nACETAMIPRID', 'nTHIACLOPRID',\n",
      "       'nAllNeonic'],\n",
      "      dtype='object')\n"
     ]
    }
   ],
   "source": [
    "mapper = {\n",
    "    'nIMIDACLOPRID': 'nimidacloprid', \n",
    "    'nTHIAMETHOXAM': 'nthiamethoxam'    \n",
    "}\n",
    "data_renamed_cols = data.rename(mapper, axis = 1)\n",
    "print(data.columns)\n",
    "print(data_renamed_cols.columns)"
   ]
  },
  {
   "cell_type": "markdown",
   "metadata": {},
   "source": [
    "Vamos repetir usando o argumento de colunas:"
   ]
  },
  {
   "cell_type": "code",
   "execution_count": 14,
   "metadata": {},
   "outputs": [
    {
     "name": "stdout",
     "output_type": "stream",
     "text": [
      "Index(['state', 'numcol', 'yieldpercol', 'totalprod', 'stocks', 'priceperlb',\n",
      "       'prodvalue', 'year', 'StateName', 'Region', 'nCLOTHIANIDIN',\n",
      "       'nIMIDACLOPRID', 'nTHIAMETHOXAM', 'nACETAMIPRID', 'nTHIACLOPRID',\n",
      "       'nAllNeonic'],\n",
      "      dtype='object')\n",
      "Index(['state', 'numcol', 'yieldpercol', 'totalprod', 'stocks', 'priceperlb',\n",
      "       'prodvalue', 'year', 'StateName', 'Region', 'nCLOTHIANIDIN',\n",
      "       'nimidacloprid', 'nthiamethoxam', 'nACETAMIPRID', 'nTHIACLOPRID',\n",
      "       'nAllNeonic'],\n",
      "      dtype='object')\n"
     ]
    }
   ],
   "source": [
    "data_renamed_cols_2 = data.rename(columns = mapper)\n",
    "print(data.columns)\n",
    "print(data_renamed_cols_2.columns)"
   ]
  },
  {
   "cell_type": "markdown",
   "metadata": {},
   "source": [
    "Observe que apenas as colunas (ou índices) que são especificados no dicionário de mapeamento são modificados. Não é necessário incluir aqueles que não queremos renomear."
   ]
  },
  {
   "cell_type": "markdown",
   "metadata": {},
   "source": [
    "## Discretização e binarização de variáveis\n",
    "\n",
    "O processo de transformação de uma variável numérica em categórica é denominado discretização.\n",
    "\n",
    "O método [.cut()](https://pandas.pydata.org/pandas-docs/stable/reference/api/pandas.cut.html) separa os valores em intervalos discretos, retornando o intervalo semifechado ao qual cada valor pertence. Ele permite transformar variáveis contínuas em variáveis categóricas.\n",
    "\n",
    "O argumento `bins` pode ser um número inteiro que indica o número de intervalos de \"largura\" a serem construídos, ou pode ser uma lista na qual especificamos os limites de cada categoria.\n",
    "\n",
    "O argumento `right` indica se o intervalo inclui o valor limite correto."
   ]
  },
  {
   "cell_type": "markdown",
   "metadata": {},
   "source": [
    "Queremos definir categorias na variável `numcol` que representa o número de colônias em produção.\n",
    "\n",
    "Vamos ver algumas estatísticas sobre esta variável."
   ]
  },
  {
   "cell_type": "code",
   "execution_count": 15,
   "metadata": {},
   "outputs": [
    {
     "data": {
      "text/plain": [
       "count       825.00000\n",
       "mean      61889.69697\n",
       "std       92857.22783\n",
       "min        2000.00000\n",
       "25%        9000.00000\n",
       "50%       26000.00000\n",
       "75%       65000.00000\n",
       "max      510000.00000\n",
       "Name: numcol, dtype: float64"
      ]
     },
     "execution_count": 15,
     "metadata": {},
     "output_type": "execute_result"
    }
   ],
   "source": [
    "data.numcol.describe()"
   ]
  },
  {
   "cell_type": "markdown",
   "metadata": {},
   "source": [
    "Vemos que o mínimo é 2.000 e o máximo é 510.000.\n",
    "\n",
    "Vamos definir essas categorias:\n",
    "* entre 2.000 e 10.000\n",
    "* entre 10.000 e 300.000\n",
    "* entre 300.000 e 65.000\n",
    "* mais de 65.000\n",
    "\n",
    "Para isso, construímos a lista de bins com esses valores"
   ]
  },
  {
   "cell_type": "code",
   "execution_count": 16,
   "metadata": {},
   "outputs": [
    {
     "data": {
      "text/plain": [
       "CategoricalDtype(categories=[[2000, 10000), [10000, 30000), [30000, 65000), [65000, 600000)], ordered=True)"
      ]
     },
     "execution_count": 16,
     "metadata": {},
     "output_type": "execute_result"
    }
   ],
   "source": [
    "# Defino os valores de corte\n",
    "bins = [2000, 10000, 30000, 65000, 600000]\n",
    "\n",
    "numcol_categories = pd.cut(data.numcol, bins, right=False)\n",
    "numcol_categories.dtype"
   ]
  },
  {
   "cell_type": "markdown",
   "metadata": {},
   "source": [
    "E como esta variável é categórica, podemos usar o método `value_counts` para saber quantos registros existem em cada categoria.\n",
    "\n",
    "O que acontece se usarmos `value_counts` sobre` data.numcol`?"
   ]
  },
  {
   "cell_type": "code",
   "execution_count": 17,
   "metadata": {},
   "outputs": [
    {
     "data": {
      "text/plain": [
       "numcol\n",
       "[10000, 30000)     228\n",
       "[2000, 10000)      215\n",
       "[65000, 600000)    211\n",
       "[30000, 65000)     171\n",
       "Name: count, dtype: int64"
      ]
     },
     "execution_count": 17,
     "metadata": {},
     "output_type": "execute_result"
    }
   ],
   "source": [
    "numcol_categories.value_counts()"
   ]
  },
  {
   "cell_type": "markdown",
   "metadata": {},
   "source": [
    "Criamos categorias com rótulos associados usando o argumento `labels`."
   ]
  },
  {
   "cell_type": "code",
   "execution_count": 18,
   "metadata": {},
   "outputs": [
    {
     "data": {
      "text/plain": [
       "numcol\n",
       "muito poucas    240\n",
       "poucas          210\n",
       "muitas          203\n",
       "normal          171\n",
       "Name: count, dtype: int64"
      ]
     },
     "execution_count": 18,
     "metadata": {},
     "output_type": "execute_result"
    }
   ],
   "source": [
    "group_labels = ['muito poucas', 'poucas', 'normal', 'muitas' ]\n",
    "numcol_categories_labels = pd.cut(data.numcol, bins, labels=group_labels)\n",
    "numcol_categories_labels.value_counts()"
   ]
  },
  {
   "cell_type": "markdown",
   "metadata": {},
   "source": [
    "### Quantil\n",
    "\n",
    "Uma alternativa para especificar arbitrariamente os limites dos intervalos é usar quantis.\n",
    "\n",
    "Por definição, em cada um desses conjuntos haverá o mesmo número de elementos.\n",
    "\n",
    "O pandas fornece o método [.qcut()](https://pandas.pydata.org/pandas-docs/stable/reference/api/pandas.qcut.html) para construí-los."
   ]
  },
  {
   "cell_type": "markdown",
   "metadata": {},
   "source": [
    "Usando `qcut` vamos construir quatro categorias para os valores de `data.numcol`\n",
    "\n",
    "Definir o valor do argumento `retbins` como True retorna as categorias e os valores de limite dos bins construídos."
   ]
  },
  {
   "cell_type": "code",
   "execution_count": 19,
   "metadata": {},
   "outputs": [
    {
     "data": {
      "text/plain": [
       "numcol\n",
       "muito poucas    215\n",
       "normal          205\n",
       "muitas          203\n",
       "poucas          202\n",
       "Name: count, dtype: int64"
      ]
     },
     "execution_count": 19,
     "metadata": {},
     "output_type": "execute_result"
    }
   ],
   "source": [
    "numcol_qcategories, numcol_qbins = pd.qcut(data.numcol, 4, labels = group_labels, retbins=True)\n",
    "numcol_qcategories.value_counts()"
   ]
  },
  {
   "cell_type": "code",
   "execution_count": 20,
   "metadata": {},
   "outputs": [
    {
     "data": {
      "text/plain": [
       "array([  2000.,   9000.,  26000.,  65000., 510000.])"
      ]
     },
     "execution_count": 20,
     "metadata": {},
     "output_type": "execute_result"
    }
   ],
   "source": [
    "numcol_qbins"
   ]
  },
  {
   "cell_type": "markdown",
   "metadata": {},
   "source": [
    "## Mapeamento e transformação de dados\n",
    "\n",
    "A partir de um dicionário, podemos criar uma nova coluna em um Dataframe onde:\n",
    "\n",
    "1) as chaves de dicionário estão vinculadas com a Series de valores de uma coluna do DataFrame original\n",
    "\n",
    "2) e para cada registro o valor do dicionário cuja chave é o valor da Series 1) naquele registro é atribuído na nova coluna.\n",
    "\n",
    "**Exercício**:\n",
    "\n",
    "Usando um dicionário, vamos alterar os valores das categorias definidas no exercício anterior para numcol, para todos os registros de dados."
   ]
  },
  {
   "cell_type": "markdown",
   "metadata": {},
   "source": [
    "Adicionamos as categorias numcol associadas a cada registro aos dados do DataFrame."
   ]
  },
  {
   "cell_type": "code",
   "execution_count": 21,
   "metadata": {},
   "outputs": [
    {
     "name": "stdout",
     "output_type": "stream",
     "text": [
      "Index(['state', 'numcol', 'yieldpercol', 'totalprod', 'stocks', 'priceperlb',\n",
      "       'prodvalue', 'year', 'StateName', 'Region', 'nCLOTHIANIDIN',\n",
      "       'nIMIDACLOPRID', 'nTHIAMETHOXAM', 'nACETAMIPRID', 'nTHIACLOPRID',\n",
      "       'nAllNeonic', 'numcol'],\n",
      "      dtype='object')\n",
      "(825, 16)\n",
      "(825, 17)\n"
     ]
    }
   ],
   "source": [
    "# renomeia a Series para que não haja duas colunas com o mesmo nome como resultado do concat:numcol_qcategories.name = \"numcol_cat\"\n",
    "data_numcol_cat = pd.concat([data, numcol_qcategories], axis = 1, )\n",
    "print(data_numcol_cat.columns)\n",
    "print(data.shape)\n",
    "print(data_numcol_cat.shape)"
   ]
  },
  {
   "cell_type": "markdown",
   "metadata": {},
   "source": [
    "Vamos construir um dicionário que defina esse mapeamento e usar esse dicionário para alterar os valores originais\n",
    "    \n",
    "* poucos -> insuficiente\n",
    "* muito poucos -> insuficiente\n",
    "* normal -> suficiente\n",
    "* muitos -> suficiente\n",
    "\n",
    "As chaves estão associadas à coluna `numcol_cat` e os novos valores de cada registro serão determinados pelo valor desse registro na coluna` numcol_cat` e o mapeamento definido pelo dicionário."
   ]
  },
  {
   "cell_type": "code",
   "execution_count": 22,
   "metadata": {},
   "outputs": [],
   "source": [
    "numcol_cat_mapper = {\n",
    "   'poucas': 'insuficiente', \n",
    "    'muito poucas': 'insuficiente',\n",
    "    'normal': 'suficiente',\n",
    "    'muitas': 'suficiente'\n",
    "}"
   ]
  },
  {
   "cell_type": "code",
   "execution_count": 23,
   "metadata": {},
   "outputs": [],
   "source": [
    "data['numcol_cat'] = numcol_categories_labels"
   ]
  },
  {
   "cell_type": "code",
   "execution_count": 24,
   "metadata": {},
   "outputs": [
    {
     "data": {
      "text/plain": [
       "0      insuficiente\n",
       "1      insuficiente\n",
       "2      insuficiente\n",
       "3      insuficiente\n",
       "4      insuficiente\n",
       "           ...     \n",
       "820      suficiente\n",
       "821      suficiente\n",
       "822      suficiente\n",
       "823      suficiente\n",
       "824      suficiente\n",
       "Name: numcol_cat, Length: 825, dtype: object"
      ]
     },
     "execution_count": 24,
     "metadata": {},
     "output_type": "execute_result"
    }
   ],
   "source": [
    "data['numcol_cat'].map(numcol_cat_mapper)"
   ]
  },
  {
   "cell_type": "markdown",
   "metadata": {},
   "source": [
    "Observe que aplicamos map em uma coluna, não em todo o DataFrame como fazemos com o método `replace`."
   ]
  },
  {
   "cell_type": "code",
   "execution_count": 25,
   "metadata": {},
   "outputs": [
    {
     "data": {
      "text/plain": [
       "numcol_cat\n",
       "insuficiente    450\n",
       "suficiente      374\n",
       "Name: count, dtype: int64"
      ]
     },
     "execution_count": 25,
     "metadata": {},
     "output_type": "execute_result"
    }
   ],
   "source": [
    "data['numcol_cat'].map(numcol_cat_mapper).value_counts()"
   ]
  },
  {
   "cell_type": "markdown",
   "metadata": {},
   "source": [
    "## Variáveis categóricas e dummies\n",
    "\n",
    "O Pandas fornece o método [pd.get_dummies()](https://pandas.pydata.org/pandas-docs/stable/reference/api/pandas.get_dummies.html) que recebe uma Serie ou uma lista de Series e executa uma codificação dinâmica.\n",
    "\n",
    "Lembre-se de que uma variável com k categorias pode ser representada com k-1 variáveis.\n",
    "\n",
    "Portanto, um parâmetro-chave de pd.get_dummies é drop_first = True, que gera categorias k-1 em vez de k.\n",
    "\n",
    "O argumento prefix permite-nos estabelecer um prefixo para o nome de cada uma das colunas da categoria que representam a variável. \n",
    "\n",
    "Este argumento é especialmente útil ao construir dummies de mais de uma coluna em um DataFrame, para evitar confusão sobre qual é a variável original que corresponde a cada coluna de categoria.\n",
    "\n",
    "**Exercício**\n",
    "\n",
    "Crie variáveis fictícias que representam os valores das categorias numcols."
   ]
  },
  {
   "cell_type": "markdown",
   "metadata": {},
   "source": [
    "O Pandas fornece um método `pd.get_dummies` que recebe uma Serie ou uma lista de Series e executa uma codificação dinâmica."
   ]
  },
  {
   "cell_type": "code",
   "execution_count": 26,
   "metadata": {},
   "outputs": [
    {
     "data": {
      "text/html": [
       "<div>\n",
       "<style scoped>\n",
       "    .dataframe tbody tr th:only-of-type {\n",
       "        vertical-align: middle;\n",
       "    }\n",
       "\n",
       "    .dataframe tbody tr th {\n",
       "        vertical-align: top;\n",
       "    }\n",
       "\n",
       "    .dataframe thead th {\n",
       "        text-align: right;\n",
       "    }\n",
       "</style>\n",
       "<table border=\"1\" class=\"dataframe\">\n",
       "  <thead>\n",
       "    <tr style=\"text-align: right;\">\n",
       "      <th></th>\n",
       "      <th>numcol_poucas</th>\n",
       "      <th>numcol_normal</th>\n",
       "      <th>numcol_muitas</th>\n",
       "    </tr>\n",
       "  </thead>\n",
       "  <tbody>\n",
       "    <tr>\n",
       "      <th>0</th>\n",
       "      <td>True</td>\n",
       "      <td>False</td>\n",
       "      <td>False</td>\n",
       "    </tr>\n",
       "    <tr>\n",
       "      <th>1</th>\n",
       "      <td>True</td>\n",
       "      <td>False</td>\n",
       "      <td>False</td>\n",
       "    </tr>\n",
       "    <tr>\n",
       "      <th>2</th>\n",
       "      <td>True</td>\n",
       "      <td>False</td>\n",
       "      <td>False</td>\n",
       "    </tr>\n",
       "    <tr>\n",
       "      <th>3</th>\n",
       "      <td>True</td>\n",
       "      <td>False</td>\n",
       "      <td>False</td>\n",
       "    </tr>\n",
       "    <tr>\n",
       "      <th>4</th>\n",
       "      <td>True</td>\n",
       "      <td>False</td>\n",
       "      <td>False</td>\n",
       "    </tr>\n",
       "    <tr>\n",
       "      <th>...</th>\n",
       "      <td>...</td>\n",
       "      <td>...</td>\n",
       "      <td>...</td>\n",
       "    </tr>\n",
       "    <tr>\n",
       "      <th>820</th>\n",
       "      <td>False</td>\n",
       "      <td>True</td>\n",
       "      <td>False</td>\n",
       "    </tr>\n",
       "    <tr>\n",
       "      <th>821</th>\n",
       "      <td>False</td>\n",
       "      <td>True</td>\n",
       "      <td>False</td>\n",
       "    </tr>\n",
       "    <tr>\n",
       "      <th>822</th>\n",
       "      <td>False</td>\n",
       "      <td>True</td>\n",
       "      <td>False</td>\n",
       "    </tr>\n",
       "    <tr>\n",
       "      <th>823</th>\n",
       "      <td>False</td>\n",
       "      <td>True</td>\n",
       "      <td>False</td>\n",
       "    </tr>\n",
       "    <tr>\n",
       "      <th>824</th>\n",
       "      <td>False</td>\n",
       "      <td>True</td>\n",
       "      <td>False</td>\n",
       "    </tr>\n",
       "  </tbody>\n",
       "</table>\n",
       "<p>825 rows × 3 columns</p>\n",
       "</div>"
      ],
      "text/plain": [
       "     numcol_poucas  numcol_normal  numcol_muitas\n",
       "0             True          False          False\n",
       "1             True          False          False\n",
       "2             True          False          False\n",
       "3             True          False          False\n",
       "4             True          False          False\n",
       "..             ...            ...            ...\n",
       "820          False           True          False\n",
       "821          False           True          False\n",
       "822          False           True          False\n",
       "823          False           True          False\n",
       "824          False           True          False\n",
       "\n",
       "[825 rows x 3 columns]"
      ]
     },
     "execution_count": 26,
     "metadata": {},
     "output_type": "execute_result"
    }
   ],
   "source": [
    "numcol_qcategories_dummies = pd.get_dummies(\n",
    "    data = numcol_qcategories, \n",
    "    drop_first = True, \n",
    "    prefix='numcol'\n",
    "    )\n",
    "numcol_qcategories_dummies"
   ]
  },
  {
   "cell_type": "markdown",
   "metadata": {},
   "source": [
    "Observe que ele removeu a primeira categoria \"muito poucas\"."
   ]
  },
  {
   "cell_type": "markdown",
   "metadata": {},
   "source": [
    "## Alguns métodos da classe string\n",
    "\n",
    "Aqui estão alguns métodos em [string](https://docs.python.org/3/library/string.html) que são amplamente usados em data wrangling, aplicados em funções lambda."
   ]
  },
  {
   "cell_type": "markdown",
   "metadata": {},
   "source": [
    "### `split`\n",
    "\n",
    "O método [.split()](https://docs.python.org/3/library/stdtypes.html#str.split) retorna uma lista de palavras em uma string separada pelo delimitador passado como um parâmetro."
   ]
  },
  {
   "cell_type": "code",
   "execution_count": 27,
   "metadata": {},
   "outputs": [
    {
     "data": {
      "text/plain": [
       "['a', 'b', '  guido', ' asjd', ' kle', ' askl']"
      ]
     },
     "execution_count": 27,
     "metadata": {},
     "output_type": "execute_result"
    }
   ],
   "source": [
    "strings = 'a,b,  guido, asjd, kle, askl'\n",
    "separador = ','\n",
    "string_em_partes = strings.split(separador)\n",
    "string_em_partes "
   ]
  },
  {
   "cell_type": "markdown",
   "metadata": {},
   "source": [
    "### `strip`\n",
    "\n",
    "O método [.strip()](https://docs.python.org/3/library/stdtypes.html#str.strip) retorna uma cópia de uma string, removendo os caracteres passados como parâmetros do início e do final da string. Se não especificarmos o valor do argumento, remove os espaços."
   ]
  },
  {
   "cell_type": "code",
   "execution_count": 28,
   "metadata": {},
   "outputs": [
    {
     "name": "stdout",
     "output_type": "stream",
     "text": [
      "Este é o primeiro exemplo....wow!!!\n",
      "Este e este é o segundo exemplo....wow!!!\n",
      "    0000000Este é o segundo exemplo....wow!!!\n"
     ]
    }
   ],
   "source": [
    "texto = \"   Este é o primeiro exemplo....wow!!!   \";\n",
    "texto_sem_espacos = texto.strip()\n",
    "print(texto_sem_espacos)\n",
    "\n",
    "texto1 = \"0000000Este e este é o segundo exemplo....wow!!!0000000\";\n",
    "texto1_sem_zeros = texto1.strip('0')\n",
    "print(texto1_sem_zeros)\n",
    "\n",
    "texto2 = \"    0000000Este é o segundo exemplo....wow!!!0000000\";\n",
    "texto2_sem_zeros = texto2.strip('0')\n",
    "print(texto2_sem_zeros)\n"
   ]
  },
  {
   "cell_type": "markdown",
   "metadata": {},
   "source": [
    "Observe que em texto2 ele não removeu os espaços iniciais, apenas o conjunto de caracteres no argumento."
   ]
  },
  {
   "cell_type": "markdown",
   "metadata": {},
   "source": [
    "### `find`\n",
    "\n",
    "O método [.find()](https://docs.python.org/3/library/stdtypes.html#str.find) retorna o índice mínimo onde encontramos o valor passado como um parâmetro como uma substring. Se não o encontrar, retorna -1."
   ]
  },
  {
   "cell_type": "code",
   "execution_count": 29,
   "metadata": {},
   "outputs": [
    {
     "data": {
      "text/plain": [
       "'a,b,  guido, asjd, kle, askl'"
      ]
     },
     "execution_count": 29,
     "metadata": {},
     "output_type": "execute_result"
    }
   ],
   "source": [
    "strings"
   ]
  },
  {
   "cell_type": "code",
   "execution_count": 30,
   "metadata": {},
   "outputs": [
    {
     "data": {
      "text/plain": [
       "-1"
      ]
     },
     "execution_count": 30,
     "metadata": {},
     "output_type": "execute_result"
    }
   ],
   "source": [
    "strings.find(':')"
   ]
  },
  {
   "cell_type": "code",
   "execution_count": 31,
   "metadata": {},
   "outputs": [
    {
     "data": {
      "text/plain": [
       "13"
      ]
     },
     "execution_count": 31,
     "metadata": {},
     "output_type": "execute_result"
    }
   ],
   "source": [
    "strings.find('as')"
   ]
  },
  {
   "cell_type": "code",
   "execution_count": 32,
   "metadata": {},
   "outputs": [
    {
     "data": {
      "text/plain": [
       "13"
      ]
     },
     "execution_count": 32,
     "metadata": {},
     "output_type": "execute_result"
    }
   ],
   "source": [
    "strings.find('asj')"
   ]
  },
  {
   "cell_type": "code",
   "execution_count": 33,
   "metadata": {},
   "outputs": [
    {
     "data": {
      "text/plain": [
       "-1"
      ]
     },
     "execution_count": 33,
     "metadata": {},
     "output_type": "execute_result"
    }
   ],
   "source": [
    "strings.find('asp')"
   ]
  },
  {
   "cell_type": "markdown",
   "metadata": {},
   "source": [
    "Observemos que devuelve el índice del comienzo del string buscado"
   ]
  },
  {
   "cell_type": "markdown",
   "metadata": {},
   "source": [
    "### `index`\n",
    "\n",
    "O método [.index()](https://docs.python.org/3/library/stdtypes.html#str.index) é semelhante ao método `find`, mas retorna uma exceção do tipo `ValueError` quando não consegue encontrar o valor pesquisado."
   ]
  },
  {
   "cell_type": "code",
   "execution_count": 34,
   "metadata": {},
   "outputs": [
    {
     "data": {
      "text/plain": [
       "1"
      ]
     },
     "execution_count": 34,
     "metadata": {},
     "output_type": "execute_result"
    }
   ],
   "source": [
    "strings.index(',')"
   ]
  },
  {
   "cell_type": "code",
   "execution_count": 35,
   "metadata": {},
   "outputs": [],
   "source": [
    "#strings.index(':')"
   ]
  },
  {
   "cell_type": "markdown",
   "metadata": {},
   "source": [
    "### `count`\n",
    "\n",
    "O método [.count()](https://docs.python.org/3/library/stdtypes.html#str.count) retorna o número de ocorrências do valor passado como parâmetro."
   ]
  },
  {
   "cell_type": "code",
   "execution_count": 36,
   "metadata": {},
   "outputs": [
    {
     "data": {
      "text/plain": [
       "5"
      ]
     },
     "execution_count": 36,
     "metadata": {},
     "output_type": "execute_result"
    }
   ],
   "source": [
    "strings.count(',')"
   ]
  },
  {
   "cell_type": "code",
   "execution_count": 37,
   "metadata": {},
   "outputs": [
    {
     "data": {
      "text/plain": [
       "2"
      ]
     },
     "execution_count": 37,
     "metadata": {},
     "output_type": "execute_result"
    }
   ],
   "source": [
    "strings.count('as')"
   ]
  },
  {
   "cell_type": "markdown",
   "metadata": {},
   "source": [
    "### `replace`\n",
    "\n",
    "O método [.replace()](https://docs.python.org/3/library/stdtypes.html#str.replace) retorna uma cópia da string com todas as ocorrências do primeiro argumento substituídas pelo segundo argumento."
   ]
  },
  {
   "cell_type": "code",
   "execution_count": 38,
   "metadata": {},
   "outputs": [
    {
     "data": {
      "text/plain": [
       "'a;b;  guido; asjd; kle; askl'"
      ]
     },
     "execution_count": 38,
     "metadata": {},
     "output_type": "execute_result"
    }
   ],
   "source": [
    "replace_exemplo1 = strings.replace(',', ';')\n",
    "replace_exemplo1"
   ]
  },
  {
   "cell_type": "code",
   "execution_count": 39,
   "metadata": {},
   "outputs": [
    {
     "data": {
      "text/plain": [
       "'a,b,  guido, qwjd, kle, qwkl'"
      ]
     },
     "execution_count": 39,
     "metadata": {},
     "output_type": "execute_result"
    }
   ],
   "source": [
    "replace_exemplo2 = strings.replace('as', 'qw')\n",
    "replace_exemplo2"
   ]
  },
  {
   "cell_type": "markdown",
   "metadata": {},
   "source": [
    "#### Referências\n",
    "\n",
    "- [string — Common string operations¶](https://docs.python.org/3/library/string.html)"
   ]
  },
  {
   "cell_type": "code",
   "execution_count": null,
   "metadata": {},
   "outputs": [],
   "source": []
  }
 ],
 "metadata": {
  "kernelspec": {
   "display_name": "Python 3",
   "language": "python",
   "name": "python3"
  },
  "language_info": {
   "codemirror_mode": {
    "name": "ipython",
    "version": 3
   },
   "file_extension": ".py",
   "mimetype": "text/x-python",
   "name": "python",
   "nbconvert_exporter": "python",
   "pygments_lexer": "ipython3",
   "version": "3.9.6"
  }
 },
 "nbformat": 4,
 "nbformat_minor": 4
}
