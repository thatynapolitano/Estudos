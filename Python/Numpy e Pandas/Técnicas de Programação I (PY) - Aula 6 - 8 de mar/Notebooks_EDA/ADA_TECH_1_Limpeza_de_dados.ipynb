{
 "cells": [
  {
   "cell_type": "markdown",
   "metadata": {},
   "source": [
    "<img src='letscodebr_cover.jpeg' align='left' width=100%/>"
   ]
  },
  {
   "cell_type": "markdown",
   "metadata": {},
   "source": [
    "# Ada Tech [DS-PY-004] Técnicas de Programação I (PY) Aula 8: Limpeza de Dados."
   ]
  },
  {
   "cell_type": "markdown",
   "metadata": {},
   "source": [
    "## Introdução\n",
    "\n",
    "A limpeza é uma etapa necessária em qualquer projeto de dados. \n",
    "\n",
    "Podemos resumir o processo de limpeza de dados nas cinco tarefas a seguir:\n",
    "\n",
    "**1. Resolva problemas de formatação e atribuição dos tipos de dados corretos.**\n",
    "\n",
    "Por exemplo, ao passar um arquivo CSV para o Pandas, uma data pode não ser importada corretamente, como pode ser o caso de um campo de data onde 20090609231247 é importado em vez de 2009-06-09 23:12:47.\n",
    "\n",
    "O formato em que os dados são encontrados determina quais operações podem ser executadas nele.\n",
    "\n",
    "**2. Padronize as categorias.**\n",
    "\n",
    "Quando os dados foram coletados com um sistema que não possui valores padronizados, os valores que representam a mesma categoria podem ser expressos de forma diferente. Por exemplo: Arg, AR, Argentina.\n",
    "\n",
    "**3. Corrija os valores errados.**\n",
    "\n",
    "Por exemplo: um valor inválido ou numérico para descrever o gênero; ou uma idade representada por um número negativo ou muito maior que 100.\n",
    "\n",
    "**4. Preencha os dados ausentes.**\n",
    "\n",
    "Conjuntos de dados do mundo real geralmente vêm com dados ausentes que correspondem a informações que foram perdidas ou nunca coletadas. Existem várias técnicas para preencher os dados ausentes. O processo de preenchimento de dados ausentes é chamado de \"imputação\".\n",
    "\n",
    "**5. Organize o conjunto de dados.**\n",
    "\n",
    "É importante estruturar as linhas e colunas da maneira mais conveniente. Para fazer isso, as regras de *tidy data* (dados organizados) podem ser aplicadas."
   ]
  },
  {
   "cell_type": "markdown",
   "metadata": {},
   "source": [
    "## Dataset\n",
    "\n",
    "Apresentamos um conjunto de dados [imobiliários](https://www.kaggle.com/dansbecker/melbourne-housing-snapshot) da cidade de Melbourne, na Austrália. O conjunto de dados que usaremos nesta parte, a partir de 2017, é construído com os dados que foram [publicados a cada semana](https://www.domain.com.au/).\n",
    "\n",
    "Os dados incluem endereço, tipo de imóvel, bairro, forma de venda, quartos, preço, agente imobiliário, data da venda e distância até o CBD (Central Business District).\n",
    "\n",
    "Os campos que inclui são:\n",
    "\n",
    "**Rooms**: número de quartos\n",
    "\n",
    "**Price**: preço em dólares\n",
    "\n",
    "**Method**: S - imóvel vendido; SP - imóvel vendido anteriormente; PI - propriedade transmitida; PN - vendido antes não divulgado; SN - vendido não divulgado; NB - sem licitação; VB - oferta do fornecedor; W - retirado antes do leilão; SA - vendido após leilão; SS - vendido após o preço do leilão não divulgado. N / A - preço ou lance mais alto não disponível.\n",
    "\n",
    "**Type**: br - quarto (s); h - casa, casa de campo, villa, semi, terraço; u - unidade, duplex; t - casa geminada; site dev - site de desenvolvimento; ou res - outro residencial.\n",
    "\n",
    "**SellerG**: agente imobiliario\n",
    "\n",
    "**Date**: data de venda\n",
    "\n",
    "**Distance**: distância até o CBD\n",
    "\n",
    "**Regionname**: região (oeste, noroeste, norte, nordeste ... etc)\n",
    "\n",
    "**Propertycount**: quantidade de propriedades existentes naquele subúrbio.\n",
    "\n",
    "**Bedroom2** : # Salas destruídas (de fontes diferentes)\n",
    "\n",
    "**Bathroom**: número de banheiros\n",
    "\n",
    "**Car**: número de vagas\n",
    "\n",
    "**Landsize**: superfície\n",
    "\n",
    "**BuildingArea**: tamanho da construção\n",
    "\n",
    "**CouncilArea**: município\n"
   ]
  },
  {
   "cell_type": "markdown",
   "metadata": {},
   "source": [
    "Leemos los datos desde el archivo csv"
   ]
  },
  {
   "cell_type": "code",
   "execution_count": 1,
   "metadata": {},
   "outputs": [
    {
     "data": {
      "text/html": [
       "<div>\n",
       "<style scoped>\n",
       "    .dataframe tbody tr th:only-of-type {\n",
       "        vertical-align: middle;\n",
       "    }\n",
       "\n",
       "    .dataframe tbody tr th {\n",
       "        vertical-align: top;\n",
       "    }\n",
       "\n",
       "    .dataframe thead th {\n",
       "        text-align: right;\n",
       "    }\n",
       "</style>\n",
       "<table border=\"1\" class=\"dataframe\">\n",
       "  <thead>\n",
       "    <tr style=\"text-align: right;\">\n",
       "      <th></th>\n",
       "      <th>Suburb</th>\n",
       "      <th>Address</th>\n",
       "      <th>Rooms</th>\n",
       "      <th>Type</th>\n",
       "      <th>Price</th>\n",
       "      <th>Method</th>\n",
       "      <th>SellerG</th>\n",
       "      <th>Date</th>\n",
       "      <th>Distance</th>\n",
       "      <th>Postcode</th>\n",
       "      <th>...</th>\n",
       "      <th>Bathroom</th>\n",
       "      <th>Car</th>\n",
       "      <th>Landsize</th>\n",
       "      <th>BuildingArea</th>\n",
       "      <th>YearBuilt</th>\n",
       "      <th>CouncilArea</th>\n",
       "      <th>Lattitude</th>\n",
       "      <th>Longtitude</th>\n",
       "      <th>Regionname</th>\n",
       "      <th>Propertycount</th>\n",
       "    </tr>\n",
       "  </thead>\n",
       "  <tbody>\n",
       "    <tr>\n",
       "      <th>0</th>\n",
       "      <td>Abbotsford</td>\n",
       "      <td>85 Turner St</td>\n",
       "      <td>2</td>\n",
       "      <td>h</td>\n",
       "      <td>1480000.0</td>\n",
       "      <td>S</td>\n",
       "      <td>Biggin</td>\n",
       "      <td>3/12/2016</td>\n",
       "      <td>2.5</td>\n",
       "      <td>3067.0</td>\n",
       "      <td>...</td>\n",
       "      <td>1.0</td>\n",
       "      <td>1.0</td>\n",
       "      <td>202.0</td>\n",
       "      <td>NaN</td>\n",
       "      <td>NaN</td>\n",
       "      <td>Yarra</td>\n",
       "      <td>-37.7996</td>\n",
       "      <td>144.9984</td>\n",
       "      <td>Northern Metropolitan</td>\n",
       "      <td>4019.0</td>\n",
       "    </tr>\n",
       "    <tr>\n",
       "      <th>1</th>\n",
       "      <td>Abbotsford</td>\n",
       "      <td>25 Bloomburg St</td>\n",
       "      <td>2</td>\n",
       "      <td>h</td>\n",
       "      <td>1035000.0</td>\n",
       "      <td>S</td>\n",
       "      <td>Biggin</td>\n",
       "      <td>4/02/2016</td>\n",
       "      <td>2.5</td>\n",
       "      <td>3067.0</td>\n",
       "      <td>...</td>\n",
       "      <td>1.0</td>\n",
       "      <td>0.0</td>\n",
       "      <td>156.0</td>\n",
       "      <td>79.0</td>\n",
       "      <td>1900.0</td>\n",
       "      <td>Yarra</td>\n",
       "      <td>-37.8079</td>\n",
       "      <td>144.9934</td>\n",
       "      <td>Northern Metropolitan</td>\n",
       "      <td>4019.0</td>\n",
       "    </tr>\n",
       "    <tr>\n",
       "      <th>2</th>\n",
       "      <td>Abbotsford</td>\n",
       "      <td>5 Charles St</td>\n",
       "      <td>3</td>\n",
       "      <td>h</td>\n",
       "      <td>1465000.0</td>\n",
       "      <td>SP</td>\n",
       "      <td>Biggin</td>\n",
       "      <td>4/03/2017</td>\n",
       "      <td>2.5</td>\n",
       "      <td>3067.0</td>\n",
       "      <td>...</td>\n",
       "      <td>2.0</td>\n",
       "      <td>0.0</td>\n",
       "      <td>134.0</td>\n",
       "      <td>150.0</td>\n",
       "      <td>1900.0</td>\n",
       "      <td>Yarra</td>\n",
       "      <td>-37.8093</td>\n",
       "      <td>144.9944</td>\n",
       "      <td>Northern Metropolitan</td>\n",
       "      <td>4019.0</td>\n",
       "    </tr>\n",
       "  </tbody>\n",
       "</table>\n",
       "<p>3 rows × 21 columns</p>\n",
       "</div>"
      ],
      "text/plain": [
       "       Suburb          Address  Rooms Type      Price Method SellerG  \\\n",
       "0  Abbotsford     85 Turner St      2    h  1480000.0      S  Biggin   \n",
       "1  Abbotsford  25 Bloomburg St      2    h  1035000.0      S  Biggin   \n",
       "2  Abbotsford     5 Charles St      3    h  1465000.0     SP  Biggin   \n",
       "\n",
       "        Date  Distance  Postcode  ...  Bathroom  Car  Landsize  BuildingArea  \\\n",
       "0  3/12/2016       2.5    3067.0  ...       1.0  1.0     202.0           NaN   \n",
       "1  4/02/2016       2.5    3067.0  ...       1.0  0.0     156.0          79.0   \n",
       "2  4/03/2017       2.5    3067.0  ...       2.0  0.0     134.0         150.0   \n",
       "\n",
       "   YearBuilt  CouncilArea Lattitude  Longtitude             Regionname  \\\n",
       "0        NaN        Yarra  -37.7996    144.9984  Northern Metropolitan   \n",
       "1     1900.0        Yarra  -37.8079    144.9934  Northern Metropolitan   \n",
       "2     1900.0        Yarra  -37.8093    144.9944  Northern Metropolitan   \n",
       "\n",
       "  Propertycount  \n",
       "0        4019.0  \n",
       "1        4019.0  \n",
       "2        4019.0  \n",
       "\n",
       "[3 rows x 21 columns]"
      ]
     },
     "execution_count": 1,
     "metadata": {},
     "output_type": "execute_result"
    }
   ],
   "source": [
    "import pandas as pd\n",
    "\n",
    "# local\n",
    "data_location = \"../Data/melb_data.csv\"\n",
    "\n",
    "data = pd.read_csv(data_location)\n",
    "\n",
    "data.head(3)"
   ]
  },
  {
   "cell_type": "markdown",
   "metadata": {},
   "source": [
    "## Detecção de valores ausentes\n",
    "\n",
    "Começaremos detectando quais registros têm valores nulos e, em seguida, contaremos quantos nulos existem em cada coluna.\n",
    "\n",
    "Para isso usaremos o método [`isnull()`](https://pandas.pydata.org/pandas-docs/stable/reference/api/pandas.DataFrame.isnull.html) que nos retorna outro `DataFrame` onde cada elemento é `True` ou` False` dependendo se aquele elemento no objeto DataFrame original é nulo ou não."
   ]
  },
  {
   "cell_type": "code",
   "execution_count": 2,
   "metadata": {},
   "outputs": [
    {
     "name": "stdout",
     "output_type": "stream",
     "text": [
      "   Suburb  Address  Rooms   Type  Price  Method  SellerG   Date  Distance  \\\n",
      "0   False    False  False  False  False   False    False  False     False   \n",
      "1   False    False  False  False  False   False    False  False     False   \n",
      "2   False    False  False  False  False   False    False  False     False   \n",
      "\n",
      "   Postcode  ...  Bathroom    Car  Landsize  BuildingArea  YearBuilt  \\\n",
      "0     False  ...     False  False     False          True       True   \n",
      "1     False  ...     False  False     False         False      False   \n",
      "2     False  ...     False  False     False         False      False   \n",
      "\n",
      "   CouncilArea  Lattitude  Longtitude  Regionname  Propertycount  \n",
      "0        False      False       False       False          False  \n",
      "1        False      False       False       False          False  \n",
      "2        False      False       False       False          False  \n",
      "\n",
      "[3 rows x 21 columns]\n"
     ]
    }
   ],
   "source": [
    "is_null_result = data.isnull()\n",
    "print(is_null_result.head(3))"
   ]
  },
  {
   "cell_type": "markdown",
   "metadata": {},
   "source": [
    "Outra maneira é usar o método: [`notnull()`](https://pandas.pydata.org/pandas-docs/stable/reference/api/pandas.DataFrame.notnull.html)"
   ]
  },
  {
   "cell_type": "code",
   "execution_count": 3,
   "metadata": {},
   "outputs": [
    {
     "name": "stdout",
     "output_type": "stream",
     "text": [
      "   Suburb  Address  Rooms  Type  Price  Method  SellerG  Date  Distance  \\\n",
      "0    True     True   True  True   True    True     True  True      True   \n",
      "1    True     True   True  True   True    True     True  True      True   \n",
      "2    True     True   True  True   True    True     True  True      True   \n",
      "\n",
      "   Postcode  ...  Bathroom   Car  Landsize  BuildingArea  YearBuilt  \\\n",
      "0      True  ...      True  True      True         False      False   \n",
      "1      True  ...      True  True      True          True       True   \n",
      "2      True  ...      True  True      True          True       True   \n",
      "\n",
      "   CouncilArea  Lattitude  Longtitude  Regionname  Propertycount  \n",
      "0         True       True        True        True           True  \n",
      "1         True       True        True        True           True  \n",
      "2         True       True        True        True           True  \n",
      "\n",
      "[3 rows x 21 columns]\n"
     ]
    }
   ],
   "source": [
    "is_notnull_resulto = data.notnull()\n",
    "print(is_notnull_resulto.head(3))"
   ]
  },
  {
   "cell_type": "markdown",
   "metadata": {},
   "source": [
    "Observe, para cada elemento, a relação entre os valores em cada objeto de resultado DataFrame (`is_null_result` e `is_notnull_result`)."
   ]
  },
  {
   "cell_type": "markdown",
   "metadata": {},
   "source": [
    "Para ver quantos nulos existem em cada coluna, usaremos a função `sum` no `DataFrame` em que a função `isnull` estiver aplicada:"
   ]
  },
  {
   "cell_type": "code",
   "execution_count": 4,
   "metadata": {},
   "outputs": [
    {
     "name": "stdout",
     "output_type": "stream",
     "text": [
      "Suburb              0\n",
      "Address             0\n",
      "Rooms               0\n",
      "Type                0\n",
      "Price               0\n",
      "Method              0\n",
      "SellerG             0\n",
      "Date                0\n",
      "Distance            0\n",
      "Postcode            0\n",
      "Bedroom2            0\n",
      "Bathroom            0\n",
      "Car                62\n",
      "Landsize            0\n",
      "BuildingArea     6450\n",
      "YearBuilt        5375\n",
      "CouncilArea      1369\n",
      "Lattitude           0\n",
      "Longtitude          0\n",
      "Regionname          0\n",
      "Propertycount       0\n",
      "dtype: int64\n"
     ]
    }
   ],
   "source": [
    "quantidade_nulls = is_null_result.sum()\n",
    "print(quantidade_nulls)"
   ]
  },
  {
   "cell_type": "markdown",
   "metadata": {},
   "source": [
    "Vemos que apenas quatro campos têm valores ausentes: Car, BuildingArea, YearBuilt, CouncilArea"
   ]
  },
  {
   "cell_type": "markdown",
   "metadata": {},
   "source": [
    "Como vemos quantos <b> elementos não nulos temos em cada coluna </b> do nosso DataFrame?"
   ]
  },
  {
   "cell_type": "markdown",
   "metadata": {},
   "source": [
    "## Drop\n",
    "\n",
    "Assim que detectarmos os dados ausentes em nosso DataFrame, devemos decidir o que fazer com eles.\n",
    "\n",
    "Uma maneira de proceder é excluir os registros ou campos que contêm alguns dados ausentes:\n",
    "\n",
    "* Vantagem: fácil implementação\n",
    "* Desvantagem: perda significativa de informação, possíveis vieses nos estimadores dos parâmetros.\n",
    "\n",
    "Este método **assume que a não resposta foi gerada aleatoriamente** e isso geralmente não acontece.\n",
    "\n",
    "Se os dados ausentes forem poucos e distantes entre si, esse método é ideal.\n",
    "\n",
    "\n",
    "Algumas das opções são:\n",
    "\n",
    "* Exclua todas as colunas que têm algum valor ausente\n",
    "\n",
    "* Exclua todas as linhas que têm um valor ausente\n",
    "\n",
    "* Exclua todas as colunas que possuem todos os registros com valor ausente\n",
    "\n",
    "* Exclua todas as linhas que contêm todos os campos com valor ausente\n",
    "\n",
    "* Elimine todas as colunas que possuem um número de registros com valor (não nulo) menor que um limite (limite)\n",
    "\n",
    "* Elimine todas as linhas que possuem um número de campos com valor (não nulo) menor que um limite (limite)\n",
    "\n",
    "(Outras estratégias que veremos um pouco mais tarde são a imputação de valores ausentes.)\n",
    "\n",
    "O método que vamos usar para todas as opções listadas aqui é [`dropna()`](https://pandas.pydata.org/pandas-docs/stable/reference/api/pandas.DataFrame.dropna.html). Para mais informações veja a documentação:"
   ]
  },
  {
   "cell_type": "markdown",
   "metadata": {},
   "source": [
    "### Remova todas as colunas que têm algum valor ausente"
   ]
  },
  {
   "cell_type": "code",
   "execution_count": 5,
   "metadata": {},
   "outputs": [
    {
     "name": "stdout",
     "output_type": "stream",
     "text": [
      "(13580, 21)\n",
      "(13580, 17)\n"
     ]
    }
   ],
   "source": [
    "data_columns = data.dropna(axis = 1)\n",
    "# quantidade de colunas antes de aplicar a função: 21\n",
    "print(data.shape)\n",
    "# quantidade de colunas após aplicar a funçaõ: 17\n",
    "print(data_columns.shape)"
   ]
  },
  {
   "cell_type": "markdown",
   "metadata": {},
   "source": [
    "### Exclua todas as linhas que têm algum valor ausente"
   ]
  },
  {
   "cell_type": "code",
   "execution_count": 6,
   "metadata": {},
   "outputs": [
    {
     "name": "stdout",
     "output_type": "stream",
     "text": [
      "(13580, 21)\n",
      "(6196, 21)\n"
     ]
    }
   ],
   "source": [
    "data_rows = data.dropna()\n",
    "# quantidade de linhas antes de aplicar a função: 13580\n",
    "print(data.shape)\n",
    "# quantidade de linhas após aplicar a função: 6196\n",
    "print(data_rows.shape)"
   ]
  },
  {
   "cell_type": "markdown",
   "metadata": {},
   "source": [
    "o que é equivalente a:"
   ]
  },
  {
   "cell_type": "code",
   "execution_count": 7,
   "metadata": {},
   "outputs": [
    {
     "name": "stdout",
     "output_type": "stream",
     "text": [
      "(13580, 21)\n",
      "(6196, 21)\n"
     ]
    }
   ],
   "source": [
    "data_rows = data.dropna(axis = 0)\n",
    "print(data.shape)\n",
    "print(data_rows.shape)"
   ]
  },
  {
   "cell_type": "markdown",
   "metadata": {},
   "source": [
    "Observe a perda de informações nos dois casos anteriores."
   ]
  },
  {
   "cell_type": "markdown",
   "metadata": {},
   "source": [
    "Observe que, por padrão, o [.dropna()](https://pandas.pydata.org/pandas-docs/stable/reference/api/pandas.DataFrame.dropna.html) retorna um novo objeto DataFrame, ele não modifica o original. "
   ]
  },
  {
   "cell_type": "markdown",
   "metadata": {},
   "source": [
    "### Exclua todas as colunas que têm todos os registros com valor ausente"
   ]
  },
  {
   "cell_type": "code",
   "execution_count": 8,
   "metadata": {},
   "outputs": [
    {
     "name": "stdout",
     "output_type": "stream",
     "text": [
      "(13580, 21)\n",
      "(13580, 21)\n"
     ]
    }
   ],
   "source": [
    "data_clean_empty_col = data.dropna(axis = 1, \n",
    "                                   how = 'all'\n",
    "                                  )\n",
    "print(data.shape)\n",
    "print(data_clean_empty_col.shape)"
   ]
  },
  {
   "cell_type": "markdown",
   "metadata": {},
   "source": [
    "### Exclua todas as linhas que contêm todos os campos com valor ausente"
   ]
  },
  {
   "cell_type": "code",
   "execution_count": 9,
   "metadata": {},
   "outputs": [
    {
     "name": "stdout",
     "output_type": "stream",
     "text": [
      "(13580, 21)\n",
      "(13580, 21)\n"
     ]
    }
   ],
   "source": [
    "data_clean_empty_row = data.dropna(axis = 0, \n",
    "                                   how = 'all'\n",
    "                                  )\n",
    "print(data.shape)\n",
    "print(data_clean_empty_row.shape)"
   ]
  },
  {
   "cell_type": "markdown",
   "metadata": {},
   "source": [
    "### Elimine todas as colunas que possuem um número de registros com valor (não nulo) menor que um limite (threshold)"
   ]
  },
  {
   "cell_type": "code",
   "execution_count": 10,
   "metadata": {},
   "outputs": [
    {
     "name": "stdout",
     "output_type": "stream",
     "text": [
      "(13580, 21)\n",
      "(13580, 18)\n"
     ]
    }
   ],
   "source": [
    "# quero no máximo 100 nulos por coluna:\n",
    "thresh = 13480\n",
    "data_clean_col_with_many_null = data.dropna(axis = 1, \n",
    "                                            thresh = thresh\n",
    "                                           )\n",
    "print(data.shape)\n",
    "print(data_clean_col_with_many_null.shape)"
   ]
  },
  {
   "cell_type": "markdown",
   "metadata": {},
   "source": [
    "### Elimine todas as linhas que possuem um número de campos com valor (não nulo) menor que um limite (threshold)"
   ]
  },
  {
   "cell_type": "code",
   "execution_count": 11,
   "metadata": {},
   "outputs": [
    {
     "name": "stdout",
     "output_type": "stream",
     "text": [
      "(13580, 21)\n",
      "(13550, 21)\n"
     ]
    }
   ],
   "source": [
    "# quero um máximo de 3 colunas nulas por registro:\n",
    "thresh = 18\n",
    "data_clean_row_with_many_null = data.dropna(axis = 0, \n",
    "                                            thresh = thresh\n",
    "                                           )\n",
    "print(data.shape)\n",
    "print(data_clean_row_with_many_null.shape)"
   ]
  },
  {
   "cell_type": "markdown",
   "metadata": {},
   "source": [
    "## Imputação de valores ausentes\n",
    "\n",
    "### Método de imputação\n",
    "\n",
    "#### Imputação simples:\n",
    "\n",
    "Consiste em atribuir um valor a cada dado faltante da própria variável ou das demais variáveis para se chegar a um banco de dados completo.\n",
    "\n",
    "#### Imputação múltipla:\n",
    "\n",
    "Cada valor ausente é atribuído a um grupo de m valores, gerando m bancos de dados completos. Em cada uma das bases de dados m, os parâmetros de interesse são estimados e, em seguida, os resultados obtidos são combinados.\n",
    "\n",
    "#### Imputação pela média\n",
    "\n",
    "Você pode preencher os valores ausentes substituindo-os pela média da série ou pela média condicional em uma determinada categoria.\n",
    "\n",
    "Por exemplo, dado um valor de altura ausente para uma mulher, substitua-o pela média para mulheres.\n",
    "\n",
    "Essa abordagem tem vantagens e desvantagens:\n",
    "\n",
    "* Vantagens: É simples e, para algumas distribuições de dados, é muito provável que se aproxime do valor real dos dados ausentes\n",
    "* Desvantagens:\n",
    "Eu reduzo artificialmente a variabilidade e a aleatoriedade dos dados, o que pode me levar a conclusões erradas. Se houvesse correlação entre essa variável e outras, esse valor pode ser afetado.\n",
    "\n",
    "#### Imputação Hot Deck\n",
    "\n",
    "Consiste no preenchimento com um dado existente da amostra, seguindo alguns critérios. Eles podem ser aleatórios (um item é escolhido aleatoriamente), sequenciais (preenchidos com o valor imediatamente anterior ou posterior) ou vizinho mais próximo.\n",
    "\n",
    "#### Imputação por Regressão\n",
    "\n",
    "Modelos de regressão são usados para estimar os dados perdidos de outras variáveis no conjunto de dados.\n",
    "\n",
    "\n",
    "---"
   ]
  },
  {
   "cell_type": "markdown",
   "metadata": {},
   "source": [
    "A bibioteca `pandas` fornece métodos para imputação de valores ausentes.\n",
    "\n",
    "O método [`fillna()`](https://pandas.pydata.org/pandas-docs/stable/reference/api/pandas.DataFrame.fillna.html) permite vários tipos de imputação que podem ser especificados no parâmetro \"method\". Para mais informações acesse a documentação:\n",
    "\n",
    "* Preencher os dados com valores definidos fora do conjunto de dados (method = None). \n",
    "\n",
    "* Preencha os dados ausentes com o valor anterior ou seguinte (ideal para séries temporais) (method = ffill ou method = bfill)\n",
    "\n",
    "* Preencher pela média, modo ou mediana: data.fillna(data.mean())\n",
    "\n",
    "Vemos na documentação os valores que o parâmetro pode assumir `method`:\n",
    "\n",
    "pad / ffill: propagar a última observação válida, completando para a próxima observação válida\n",
    "\n",
    "backfill / bfill: use a seguinte observação válida para preencher os dados ausentes"
   ]
  },
  {
   "cell_type": "markdown",
   "metadata": {},
   "source": [
    "Acima vimos que os campos com dados ausentes são:\n",
    "* Car:                62\n",
    "* BuildingArea:     6450\n",
    "* YearBuilt:        5375\n",
    "* CouncilArea:      1369\n",
    "\n",
    "E vamos tentar imputar esses valores ausentes.\n",
    "\n",
    "Antes disso, vamos ver quais valores podemos encontrar nestas colunas e usar algumas das coisas que vimos nas práticas de estatística descritiva e probabilidade.\n",
    "\n",
    "Aqui está o código que usaremos para representar graficamente histogramas e distribuições:"
   ]
  },
  {
   "cell_type": "code",
   "execution_count": 12,
   "metadata": {},
   "outputs": [],
   "source": [
    "import seaborn as sns\n",
    "def count_plotter(data, label, labelsize=12):    \n",
    "    sns.set(rc={\"figure.figsize\": (10, 7), \n",
    "                \"xtick.labelsize\": labelsize})\n",
    "    sns.set_style(\"white\")    \n",
    "    data_count = sns.countplot(x = data)\n",
    "    data_count.set_title('Histograma de ' + label + '\\n', \n",
    "                         fontsize = 16\n",
    "                        )\n",
    "\n",
    "    \n",
    "#def distribution_plotter(data, label, bins=None):    \n",
    "def distribution_plotter(data, label, bin_width = 200):    \n",
    "    \n",
    "    sns.set(rc = {\"figure.figsize\": (10, 7)})\n",
    "    sns.set_style(\"white\")    \n",
    "    #dist = sns.distplot(data, bins= bins, hist_kws={'alpha':0.2}, kde_kws={'linewidth':5})\n",
    "    dist = sns.histplot(data, \n",
    "                        stat = 'density', kde = True, \n",
    "                        line_kws = {'linewidth':5}, \n",
    "                        binwidth = bin_width\n",
    "                       )        \n",
    "    dist.set_title('Distribuição de ' + label + '\\n', \n",
    "                   fontsize = 16\n",
    "                  )    "
   ]
  },
  {
   "cell_type": "markdown",
   "metadata": {},
   "source": [
    "#### Car\n",
    "Vamos ver quais são os valores que aparecem na coluna Car:"
   ]
  },
  {
   "cell_type": "code",
   "execution_count": 13,
   "metadata": {},
   "outputs": [
    {
     "data": {
      "image/png": "[encoded data removed]",
      "text/plain": [
       "<Figure size 1000x700 with 1 Axes>"
      ]
     },
     "metadata": {},
     "output_type": "display_data"
    }
   ],
   "source": [
    "count_plotter(data.Car, \"Car\")"
   ]
  },
  {
   "cell_type": "markdown",
   "metadata": {},
   "source": [
    "Também podemos encontrar o mesmo resultado com o método `value_counts` que já conhecemos:"
   ]
  },
  {
   "cell_type": "code",
   "execution_count": 14,
   "metadata": {},
   "outputs": [
    {
     "data": {
      "text/plain": [
       "Car\n",
       "2.0     5591\n",
       "1.0     5509\n",
       "0.0     1026\n",
       "3.0      748\n",
       "4.0      506\n",
       "5.0       63\n",
       "6.0       54\n",
       "8.0        9\n",
       "7.0        8\n",
       "10.0       3\n",
       "9.0        1\n",
       "Name: count, dtype: int64"
      ]
     },
     "execution_count": 14,
     "metadata": {},
     "output_type": "execute_result"
    }
   ],
   "source": [
    "pd.value_counts(data.Car)"
   ]
  },
  {
   "cell_type": "markdown",
   "metadata": {},
   "source": [
    "Vemos que os valores mais prováveis para a coluna Car são 1 e 2.\n",
    "\n",
    "Iremos imputar os valores ausentes deste campo de duas maneiras diferentes:\n",
    "* O primeiro, atribuímos 2 a todos os valores ausentes na coluna Car\n",
    "* O segundo, atribuímos 45% dos valores ausentes ao valor 1 e 2 para os valores restantes\n",
    "\n",
    "E para finalizar verificamos se o fizemos corretamente."
   ]
  },
  {
   "cell_type": "markdown",
   "metadata": {},
   "source": [
    "##### Atribuímos 2 a todos os valores ausentes na coluna Car\n",
    "Contamos quantos valores iguais a 2 e quantos valores nulos existem em Car:"
   ]
  },
  {
   "cell_type": "code",
   "execution_count": 15,
   "metadata": {},
   "outputs": [
    {
     "name": "stdout",
     "output_type": "stream",
     "text": [
      "5591\n",
      "---\n",
      "62\n"
     ]
    }
   ],
   "source": [
    "# cria a condição para verificar se cada valor é igual a 2\n",
    "data_car_2_mask = data.Car == 2\n",
    "\n",
    "# somamos a quantas vezes o valor 2 aparece nesta coluna\n",
    "data_car_2_count = data_car_2_mask.sum()\n",
    "print(data_car_2_count)\n",
    "print(\"---\")\n",
    "\n",
    "# verifica e soma os dados nulos na coluna Car\n",
    "data_car_null_mask = data.Car.isnull()\n",
    "data_car_null_count = data_car_null_mask.sum()\n",
    "print(data_car_null_count)"
   ]
  },
  {
   "cell_type": "markdown",
   "metadata": {},
   "source": [
    "E então preenchemos:"
   ]
  },
  {
   "cell_type": "code",
   "execution_count": 16,
   "metadata": {},
   "outputs": [],
   "source": [
    "data_car_2_fill = data.Car.fillna(2)\n",
    "# Inventamos uma nova coluna para não modificar os dados originais e \n",
    "# que nos servirá para o seguinte exercício sem reler os dados novamente:\n",
    "data[\"Car_fill\"] = data_car_2_fill"
   ]
  },
  {
   "cell_type": "markdown",
   "metadata": {},
   "source": [
    "Voltemos a contar:"
   ]
  },
  {
   "cell_type": "code",
   "execution_count": 17,
   "metadata": {},
   "outputs": [
    {
     "name": "stdout",
     "output_type": "stream",
     "text": [
      "5653\n",
      "---\n",
      "0\n"
     ]
    }
   ],
   "source": [
    "data_car_2_mask = data.Car_fill == 2\n",
    "data_car_2_count = data_car_2_mask.sum()\n",
    "print(data_car_2_count)\n",
    "print(\"---\")\n",
    "data_car_null_mask = data.Car_fill.isnull()\n",
    "data_car_null_count = data_car_null_mask.sum()\n",
    "print(data_car_null_count)"
   ]
  },
  {
   "cell_type": "markdown",
   "metadata": {},
   "source": [
    "Deve haver 5591 + 62 = 5653, fizemos certo !! :)"
   ]
  },
  {
   "cell_type": "markdown",
   "metadata": {},
   "source": [
    "##### Atribuímos 45% dos valores ausentes ao valor 1 e 2 para os valores restantes\n",
    "\n",
    "Antes de começar, vamos contar quantos registros temos com um valor de carro que seja:\n",
    "\n",
    "* null\n",
    "* 1\n",
    "* 2"
   ]
  },
  {
   "cell_type": "code",
   "execution_count": 18,
   "metadata": {},
   "outputs": [
    {
     "name": "stdout",
     "output_type": "stream",
     "text": [
      "62\n",
      "5509\n",
      "5591\n"
     ]
    }
   ],
   "source": [
    "# conta a quantidade de dados nulos\n",
    "cant_car_null = data.Car.isnull().sum()\n",
    "print(cant_car_null)\n",
    "\n",
    "# conta a quantidade de valores iguais a 1\n",
    "car_one_mask = data.Car == 1\n",
    "cant_car_1 = car_one_mask.sum()\n",
    "print(cant_car_1)\n",
    "\n",
    "# conta a quantidade de valores iguais a 2\n",
    "car_two_mask = data.Car == 2\n",
    "cant_car_2 = car_two_mask.sum()\n",
    "print(cant_car_2)\n"
   ]
  },
  {
   "cell_type": "code",
   "execution_count": 19,
   "metadata": {},
   "outputs": [
    {
     "name": "stdout",
     "output_type": "stream",
     "text": [
      "62\n",
      "28\n",
      "34\n"
     ]
    }
   ],
   "source": [
    "# registros que são nulos em Car:\n",
    "data_car_null_mask = data.Car.isnull()\n",
    "data_car_null = data.loc[data_car_null_mask, :]\n",
    "print(data_car_null.shape[0])\n",
    "\n",
    "# uma amostra de 45% dos registros calculados na etapa anterior:\n",
    "data_car_null_mask_sample_1 = data_car_null.sample(frac = 0.45)\n",
    "\n",
    "# pega os incies da amostra anterior\n",
    "data_car_null_ones_index = data_car_null_mask_sample_1.index\n",
    "print(len(data_car_null_ones_index))\n",
    "\n",
    "# os que serão preenchidos com o valor 2 são todos aqueles que não foram selecionados na etapa anterior:\n",
    "data_car_null_twos_index = data_car_null.index.difference(data_car_null_ones_index)\n",
    "print(len(data_car_null_twos_index))\n"
   ]
  },
  {
   "cell_type": "markdown",
   "metadata": {},
   "source": [
    "Agora que temos os índices que nos atendem, atribuímos os valores correspondentes aos registros selecionados:"
   ]
  },
  {
   "cell_type": "code",
   "execution_count": 20,
   "metadata": {},
   "outputs": [],
   "source": [
    "data.loc[data_car_null_ones_index, \"Car\"] = 1\n",
    "data.loc[data_car_null_twos_index, \"Car\"] = 2"
   ]
  },
  {
   "cell_type": "markdown",
   "metadata": {},
   "source": [
    "Inicialmente tínhamos:\n",
    "* 62 valores nulos, dos quais 28 assumiram o valor 1 e 34 assumiram o valor 2;\n",
    "* 5509 registros com valor 1;\n",
    "* 5591 registros com valor 2\n",
    "\n",
    "Devemos agora ter:\n",
    "* 0 valores nulos;\n",
    "* 5509 + 28 = 5537 registros com valor 1;\n",
    "* 5591 + 34 = 5625 registros com valor 2\n",
    "\n",
    "Vamos contar novamente quantos valores ausentes temos agora, de modo a verificar se fizemos as coisas certas:"
   ]
  },
  {
   "cell_type": "code",
   "execution_count": 21,
   "metadata": {},
   "outputs": [
    {
     "name": "stdout",
     "output_type": "stream",
     "text": [
      "0\n",
      "5537\n",
      "5625\n"
     ]
    }
   ],
   "source": [
    "cant_car_null = data.Car.isnull().sum()\n",
    "print(cant_car_null)\n",
    "\n",
    "car_one_mask = data.Car == 1\n",
    "cant_car_1 = car_one_mask.sum()\n",
    "print(cant_car_1)\n",
    "\n",
    "car_two_mask = data.Car == 2\n",
    "cant_car_2 = car_two_mask.sum()\n",
    "print(cant_car_2)\n"
   ]
  },
  {
   "cell_type": "markdown",
   "metadata": {},
   "source": [
    "E estão de acordo com os valores esperados."
   ]
  },
  {
   "cell_type": "markdown",
   "metadata": {},
   "source": [
    "#### BuildingArea\n",
    "\n",
    "Vemos que este campo tem uma alta proporção de dados nulos (6450/13580 que é de aproximadamente 48%)."
   ]
  },
  {
   "cell_type": "code",
   "execution_count": 22,
   "metadata": {},
   "outputs": [
    {
     "data": {
      "image/png": "[encoded data removed]",
      "text/plain": [
       "<Figure size 1000x700 with 1 Axes>"
      ]
     },
     "metadata": {},
     "output_type": "display_data"
    }
   ],
   "source": [
    "#distribution_plotter_warn(data.BuildingArea, \"BuildingArea\")\n",
    "distribution_plotter(data.BuildingArea, \n",
    "                     \"BuildingArea\", \n",
    "                     bin_width = 500\n",
    "                    )"
   ]
  },
  {
   "cell_type": "markdown",
   "metadata": {},
   "source": [
    "Vemos que há muitos outliers, mas qual a forma da distribuição se ficarmos apenas com valores menores que 1000?\n",
    "\n",
    "Para verificar isto usemos indexação booleana:"
   ]
  },
  {
   "cell_type": "code",
   "execution_count": 23,
   "metadata": {},
   "outputs": [
    {
     "data": {
      "image/png": "[encoded data removed]",
      "text/plain": [
       "<Figure size 1000x700 with 1 Axes>"
      ]
     },
     "metadata": {},
     "output_type": "display_data"
    }
   ],
   "source": [
    "data_building_area_lt_1000_mask = data.BuildingArea < 1000\n",
    "data_building_area_lt_1000 = data.loc[data_building_area_lt_1000_mask, : ]\n",
    "\n",
    "#distribution_plotter_warn(data_building_area_lt_1000.BuildingArea, \"BuildingArea lt 1000\")\n",
    "distribution_plotter(data_building_area_lt_1000.BuildingArea, \"BuildingArea lt 1000\", \n",
    "                     bin_width = 15)"
   ]
  },
  {
   "cell_type": "code",
   "execution_count": 24,
   "metadata": {},
   "outputs": [
    {
     "name": "stdout",
     "output_type": "stream",
     "text": [
      "143.32860765234483\n",
      "(7122, 22)\n",
      "126.0\n",
      "83.01166687168542\n",
      "----\n",
      "151.96764988779805\n",
      "(13580, 22)\n",
      "126.0\n",
      "541.0145376263513\n"
     ]
    }
   ],
   "source": [
    "# vamos verificar alguma estatísticas descritivas da seleção booleana que fizemos\n",
    "# imprime a média da coluna\n",
    "print(data_building_area_lt_1000.BuildingArea.mean())\n",
    "# mostra a quantidade de linhas e colunas\n",
    "print(data_building_area_lt_1000.shape)\n",
    "# imprime a mediana\n",
    "print(data_building_area_lt_1000.BuildingArea.median())\n",
    "# imprime o desvio padrão\n",
    "print(data_building_area_lt_1000.BuildingArea.std())\n",
    "print(\"----\")\n",
    "# agora para a coluna como um todo, vamos checar as mesmas medidas estatísticas\n",
    "# média\n",
    "print(data.BuildingArea.mean())\n",
    "# quantidade de linhas e colunas\n",
    "print(data.shape)\n",
    "# mediana\n",
    "print(data.BuildingArea.median())\n",
    "# desvio padrão\n",
    "print(data.BuildingArea.std())"
   ]
  },
  {
   "cell_type": "code",
   "execution_count": 25,
   "metadata": {},
   "outputs": [
    {
     "data": {
      "text/plain": [
       "47.49631811487481"
      ]
     },
     "execution_count": 25,
     "metadata": {},
     "output_type": "execute_result"
    }
   ],
   "source": [
    "(data.BuildingArea.isnull().sum() / data.shape[0]) * 100"
   ]
  },
  {
   "cell_type": "markdown",
   "metadata": {},
   "source": [
    "Podemos pensar em imputar os valores ausentes com o valor da média ou mediana do conjunto de dados completo ou do conjunto de dados reduzido que usamos no último gráfico, mas a proporção de dados nulos é muito alta nesse campo e intervalo de variação dos valores é muito amplo para considerar essa possibilidade como algo útil. Portanto, vamos remover essa coluna.\n",
    "\n",
    "Antes de passar para a próxima coluna, vamos ver como os valores que calculamos acima mudariam se imputássemos os valores ausentes desse campo com a média:"
   ]
  },
  {
   "cell_type": "code",
   "execution_count": 26,
   "metadata": {},
   "outputs": [
    {
     "name": "stdout",
     "output_type": "stream",
     "text": [
      "151.96764988779805\n",
      "(13580, 22)\n",
      "151.96764988779805\n",
      "392.0029618346696\n"
     ]
    }
   ],
   "source": [
    "media = data.BuildingArea.mean()\n",
    "\n",
    "data_fill = data.BuildingArea.fillna(media)\n",
    "\n",
    "#piso los datos originales:\n",
    "data.BuildingArea = data_fill\n",
    "\n",
    "print(data.BuildingArea.mean())\n",
    "print(data.shape)\n",
    "print(data.BuildingArea.median())\n",
    "print(data.BuildingArea.std())"
   ]
  },
  {
   "cell_type": "markdown",
   "metadata": {},
   "source": [
    "E a gente vê então que modificamos muito a dispersão desses dados, de forma que não representa a natureza inicial desses dados."
   ]
  },
  {
   "cell_type": "markdown",
   "metadata": {},
   "source": [
    "#### YearBuilt"
   ]
  },
  {
   "cell_type": "code",
   "execution_count": 27,
   "metadata": {},
   "outputs": [
    {
     "data": {
      "image/png": "[encoded data removed]",
      "text/plain": [
       "<Figure size 1000x700 with 1 Axes>"
      ]
     },
     "metadata": {},
     "output_type": "display_data"
    }
   ],
   "source": [
    "count_plotter(data.YearBuilt, \"YearBuilt\", 0)"
   ]
  },
  {
   "cell_type": "markdown",
   "metadata": {},
   "source": [
    "Este caso é muito parecido com o anterior, um alto percentual de nulos e muita dispersão nos valores, portanto não vamos preencher os dados faltantes nessa coluna."
   ]
  },
  {
   "cell_type": "code",
   "execution_count": 28,
   "metadata": {},
   "outputs": [
    {
     "data": {
      "image/png": "[encoded data removed]",
      "text/plain": [
       "<Figure size 1000x700 with 1 Axes>"
      ]
     },
     "metadata": {},
     "output_type": "display_data"
    }
   ],
   "source": [
    "count_plotter(data.CouncilArea, \"CouncilArea\", 0)"
   ]
  },
  {
   "cell_type": "code",
   "execution_count": 29,
   "metadata": {},
   "outputs": [
    {
     "data": {
      "text/plain": [
       "CouncilArea\n",
       "Moreland             1163\n",
       "Boroondara           1160\n",
       "Moonee Valley         997\n",
       "Darebin               934\n",
       "Glen Eira             848\n",
       "Stonnington           719\n",
       "Maribyrnong           692\n",
       "Yarra                 647\n",
       "Port Phillip          628\n",
       "Banyule               594\n",
       "Bayside               489\n",
       "Melbourne             470\n",
       "Hobsons Bay           434\n",
       "Brimbank              424\n",
       "Monash                333\n",
       "Manningham            311\n",
       "Whitehorse            304\n",
       "Kingston              207\n",
       "Whittlesea            167\n",
       "Hume                  164\n",
       "Wyndham                86\n",
       "Knox                   80\n",
       "Maroondah              80\n",
       "Melton                 66\n",
       "Frankston              53\n",
       "Greater Dandenong      52\n",
       "Casey                  38\n",
       "Nillumbik              36\n",
       "Yarra Ranges           18\n",
       "Cardinia                8\n",
       "Macedon Ranges          7\n",
       "Unavailable             1\n",
       "Moorabool               1\n",
       "Name: count, dtype: int64"
      ]
     },
     "execution_count": 29,
     "metadata": {},
     "output_type": "execute_result"
    }
   ],
   "source": [
    "pd.value_counts(data.CouncilArea)"
   ]
  },
  {
   "cell_type": "markdown",
   "metadata": {},
   "source": [
    "O que a coluna `['CouncilArea']` lhe diz?"
   ]
  },
  {
   "cell_type": "code",
   "execution_count": null,
   "metadata": {},
   "outputs": [],
   "source": []
  }
 ],
 "metadata": {
  "kernelspec": {
   "display_name": "Python 3",
   "language": "python",
   "name": "python3"
  },
  "language_info": {
   "codemirror_mode": {
    "name": "ipython",
    "version": 3
   },
   "file_extension": ".py",
   "mimetype": "text/x-python",
   "name": "python",
   "nbconvert_exporter": "python",
   "pygments_lexer": "ipython3",
   "version": "3.9.6"
  }
 },
 "nbformat": 4,
 "nbformat_minor": 4
}
