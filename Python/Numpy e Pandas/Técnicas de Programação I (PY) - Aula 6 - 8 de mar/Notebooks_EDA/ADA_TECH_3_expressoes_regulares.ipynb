{
 "cells": [
  {
   "cell_type": "markdown",
   "metadata": {},
   "source": [
    "<img src='letscodebr_cover.jpeg' align='left' width=100%/>"
   ]
  },
  {
   "cell_type": "markdown",
   "metadata": {},
   "source": [
    "# Ada Tech [DS-PY-004] Técnicas de Programação I (PY) Aula 8: Expressões regulares."
   ]
  },
  {
   "cell_type": "markdown",
   "metadata": {},
   "source": [
    "## Introdução\n",
    "\n",
    "Uma expressão regular é uma sequência de caracteres que define um **padrão** de pesquisa textual.\n",
    "\n",
    "As expressões regulares são uma linguagem muito flexível usada para identificar e extrair informações de um corpo de texto.\n",
    "\n",
    "Uma única expressão, comumente chamada de regex, é uma string de caracteres construída de acordo com a sintaxe da linguagem de expressão regular.\n",
    "\n",
    "O módulo `re` do Python é responsável por aplicar expressões regulares a strings de caracteres.\n",
    "\n",
    "As funções do módulo `re` se dividem em três categorias:\n",
    "\n",
    "* Split: divide uma string de caracteres, usando o padrão definido pela expressão regular como separador.\n",
    "\n",
    "* Pattern maching: extrai, de uma string de caracteres, as substrings definidas pelo padrão de expressão regular\n",
    "\n",
    "* Substituição: substitui a sequência de caracteres definida pela expressão regular por outra sequência textual.\n",
    "\n",
    "### Sintaxe de expressões regulares no Python\n",
    "\n",
    "#### Metacaracteres\n",
    "\n",
    "    .  símbolo que indica qualquer caractere com exceção de uma nova linha (\\n)\n",
    "    ^  símbolo indicando início\n",
    "    $  símbolo que indica o fim\n",
    "    \\  símbolo que escapa caracteres reservados\n",
    "    |  ou lógico \n",
    "    \\d símbolo que indica qualquer dígito de 0 a 9\n",
    "    \\w símbolo que indica qualquer caractere alfanumérico (A-Z, a-z, 0-9 y _)\n",
    "    \\s símbolo que indica qualquer espaço em branco (espaço, tabulação, nova linha, etc.)\n",
    "    \\D símbolo indicando qualquer caractere que não seja dígito\n",
    "    \\W símbolo que indica qualquer caractere que não seja alfanumérico\n",
    "    \\S símbolo que indica qualquer caractere que não seja espaço em branco\n",
    "\n",
    "        \n",
    "#### Quantificadores\n",
    "\n",
    "    * símbolo que indica zero ou mais ocorrências\n",
    "    + símbolo que indica uma ou mais ocorrências\n",
    "    ?  símbolo indicando que o padrão pode ser opcional (pode ou não ser)\n",
    "    {m}  onde m é um número inteiro, indica exatamente m repetições\n",
    "    {m,n}  onde m e n são inteiros, indica pelo menos m repetições e no máximo n repetições\n",
    "\n",
    "#### Opções \n",
    "\n",
    "    [abc]  indica um caractere que pertencente ao conjunto de valores possíveis especificados entre colchetes\n",
    "    [a-z]  indica um caractere que pertencente ao conjunto de valores possíveis especificados entre colchetes\n",
    "\n",
    "#### Grupos \n",
    "    ( )  define um grupo\n",
    "    (?P<group_name> ) define um grupo marcado\n",
    "    \n",
    "#### Exemplos de sintaxe:\n",
    "\n",
    "`\\d+` encontra números de um dígito ou mais\n",
    "\n",
    "`.*` encontra strings de qualquer comprimento, mesmo vazias.\n",
    "\n",
    "`\\w{2,6}` encontra um conjunto de caracteres alfanuméricos com um comprimento que varia de 2 a 6 caracteres\n",
    "\n",
    "`[a-zA-Z]` encontra o mesmo que `[a-zA-Z]{1}`, que é qualquer caractere entre a e z minúsculo ou A e Z maiúsculo\n",
    "\n",
    "`[a-zA-Z]+` encontra cadeias de caracteres com letras entre a e z e A e Z de comprimento pelo menos igual a 1\n",
    "\n",
    "`(\\d\\d\\d\\d)` encontra o mesmo que `\\d{4}` que são strings de quatro dígitos\n",
    "\n",
    "`(?P<num>\\d\\d\\d\\d)` encontra strings de quatro dígitos e rotula esse grupo como \"num\"\n",
    "\n",
    "---\n"
   ]
  },
  {
   "cell_type": "markdown",
   "metadata": {},
   "source": [
    "<img src='img/regex_methods.PNG' align='left' width=40%/>"
   ]
  },
  {
   "cell_type": "markdown",
   "metadata": {},
   "source": [
    "Vamos criar objetos regex com `re.compile` porque sua execução é muito mais eficiente quando aplicamos a mesma expressão a várias cadeias de caracteres."
   ]
  },
  {
   "cell_type": "markdown",
   "metadata": {},
   "source": [
    "## Módulo `re`\n",
    "\n",
    "Este [módulo](https://docs.python.org/3/library/re.html) fornece operações de pesquisa, substituição e divisão (split) com expressões regulares."
   ]
  },
  {
   "cell_type": "markdown",
   "metadata": {},
   "source": [
    "### Split\n",
    "\n",
    "Dividimos uma string de caracteres (a variável de texto), usando o padrão definido na expressão regular como separador.\n",
    "\n",
    "Obtemos como resultado a lista de partes que constituem a variável de texto.\n",
    "\n",
    "No link de referência da sintaxe, vemos que:\n",
    "\n",
    "*\\s: Returns a match where the string contains a white space character*"
   ]
  },
  {
   "cell_type": "code",
   "execution_count": 1,
   "metadata": {},
   "outputs": [
    {
     "data": {
      "text/plain": [
       "['foo', 'bar', 'bas', 'qux']"
      ]
     },
     "execution_count": 1,
     "metadata": {},
     "output_type": "execute_result"
    }
   ],
   "source": [
    "import re\n",
    "\n",
    "padrao = \"\\s+\"\n",
    "\n",
    "regex = re.compile(padrao, flags = re.IGNORECASE)\n",
    "\n",
    "texto = \"foo      bar \\t bas \\tqux\"\n",
    "regex.split(texto)\n"
   ]
  },
  {
   "cell_type": "markdown",
   "metadata": {},
   "source": [
    "### Pattern matching\n",
    "\n",
    "Se, em vez de separar o texto da variável, quisermos extrair todas as substrings que verificam o padrão da expressão regular:"
   ]
  },
  {
   "cell_type": "code",
   "execution_count": 2,
   "metadata": {},
   "outputs": [
    {
     "data": {
      "text/plain": [
       "['      ', ' \\t ', ' \\t']"
      ]
     },
     "execution_count": 2,
     "metadata": {},
     "output_type": "execute_result"
    }
   ],
   "source": [
    "regex.findall(texto)"
   ]
  },
  {
   "cell_type": "markdown",
   "metadata": {},
   "source": [
    "Se procurarmos apenas a primeira correspondência do padrão de expressão regular:"
   ]
  },
  {
   "cell_type": "code",
   "execution_count": 3,
   "metadata": {},
   "outputs": [
    {
     "data": {
      "text/plain": [
       "<re.Match object; span=(3, 9), match='      '>"
      ]
     },
     "execution_count": 3,
     "metadata": {},
     "output_type": "execute_result"
    }
   ],
   "source": [
    "regex.search(texto)"
   ]
  },
  {
   "cell_type": "markdown",
   "metadata": {},
   "source": [
    "match busca apenas no começo da string:"
   ]
  },
  {
   "cell_type": "code",
   "execution_count": 4,
   "metadata": {},
   "outputs": [
    {
     "name": "stdout",
     "output_type": "stream",
     "text": [
      "None\n"
     ]
    }
   ],
   "source": [
    "result = regex.match(texto)\n",
    "print(result)"
   ]
  },
  {
   "cell_type": "code",
   "execution_count": 5,
   "metadata": {},
   "outputs": [
    {
     "name": "stdout",
     "output_type": "stream",
     "text": [
      "<re.Match object; span=(0, 3), match='   '>\n"
     ]
    }
   ],
   "source": [
    "texto_2 = '   ' + texto\n",
    "result = regex.match(texto_2)\n",
    "print(result)"
   ]
  },
  {
   "cell_type": "markdown",
   "metadata": {},
   "source": [
    "As funçÕes `match` e `search` funcionam de forma similar à função `findall`. Enquanto `findall` retorna todas as correspondências em uma `string`, `search` retorna apenas a primeira, e `match` apenas a encontra se estiver no início da `string`."
   ]
  },
  {
   "cell_type": "markdown",
   "metadata": {},
   "source": [
    "### Substituição\n",
    "\n",
    "Agora queremos substituir todas as substrings que verificam o padrão da regex pela string \"[espaços]\""
   ]
  },
  {
   "cell_type": "code",
   "execution_count": 6,
   "metadata": {},
   "outputs": [
    {
     "data": {
      "text/plain": [
       "'foo [espaços] bar [espaços] bas [espaços] qux'"
      ]
     },
     "execution_count": 6,
     "metadata": {},
     "output_type": "execute_result"
    }
   ],
   "source": [
    "regex.sub(' [espaços] ', texto)"
   ]
  },
  {
   "cell_type": "markdown",
   "metadata": {},
   "source": [
    "### Exemplos\n",
    "\n",
    "Usando o conjunto de dados de propriedade de Melbourne, da coluna Address, vamos extrair o número da rua e o nome sem o sufixo 'St'."
   ]
  },
  {
   "cell_type": "markdown",
   "metadata": {},
   "source": [
    "Vamos ler os dados:"
   ]
  },
  {
   "cell_type": "code",
   "execution_count": 7,
   "metadata": {},
   "outputs": [
    {
     "data": {
      "text/html": [
       "<div>\n",
       "<style scoped>\n",
       "    .dataframe tbody tr th:only-of-type {\n",
       "        vertical-align: middle;\n",
       "    }\n",
       "\n",
       "    .dataframe tbody tr th {\n",
       "        vertical-align: top;\n",
       "    }\n",
       "\n",
       "    .dataframe thead th {\n",
       "        text-align: right;\n",
       "    }\n",
       "</style>\n",
       "<table border=\"1\" class=\"dataframe\">\n",
       "  <thead>\n",
       "    <tr style=\"text-align: right;\">\n",
       "      <th></th>\n",
       "      <th>Suburb</th>\n",
       "      <th>Address</th>\n",
       "      <th>Rooms</th>\n",
       "      <th>Type</th>\n",
       "      <th>Price</th>\n",
       "      <th>Method</th>\n",
       "      <th>SellerG</th>\n",
       "      <th>Date</th>\n",
       "      <th>Distance</th>\n",
       "      <th>Postcode</th>\n",
       "      <th>...</th>\n",
       "      <th>Bathroom</th>\n",
       "      <th>Car</th>\n",
       "      <th>Landsize</th>\n",
       "      <th>BuildingArea</th>\n",
       "      <th>YearBuilt</th>\n",
       "      <th>CouncilArea</th>\n",
       "      <th>Lattitude</th>\n",
       "      <th>Longtitude</th>\n",
       "      <th>Regionname</th>\n",
       "      <th>Propertycount</th>\n",
       "    </tr>\n",
       "  </thead>\n",
       "  <tbody>\n",
       "    <tr>\n",
       "      <th>0</th>\n",
       "      <td>Abbotsford</td>\n",
       "      <td>85 Turner St</td>\n",
       "      <td>2</td>\n",
       "      <td>h</td>\n",
       "      <td>1480000.0</td>\n",
       "      <td>S</td>\n",
       "      <td>Biggin</td>\n",
       "      <td>3/12/2016</td>\n",
       "      <td>2.5</td>\n",
       "      <td>3067.0</td>\n",
       "      <td>...</td>\n",
       "      <td>1.0</td>\n",
       "      <td>1.0</td>\n",
       "      <td>202.0</td>\n",
       "      <td>NaN</td>\n",
       "      <td>NaN</td>\n",
       "      <td>Yarra</td>\n",
       "      <td>-37.7996</td>\n",
       "      <td>144.9984</td>\n",
       "      <td>Northern Metropolitan</td>\n",
       "      <td>4019.0</td>\n",
       "    </tr>\n",
       "    <tr>\n",
       "      <th>1</th>\n",
       "      <td>Abbotsford</td>\n",
       "      <td>25 Bloomburg St</td>\n",
       "      <td>2</td>\n",
       "      <td>h</td>\n",
       "      <td>1035000.0</td>\n",
       "      <td>S</td>\n",
       "      <td>Biggin</td>\n",
       "      <td>4/02/2016</td>\n",
       "      <td>2.5</td>\n",
       "      <td>3067.0</td>\n",
       "      <td>...</td>\n",
       "      <td>1.0</td>\n",
       "      <td>0.0</td>\n",
       "      <td>156.0</td>\n",
       "      <td>79.0</td>\n",
       "      <td>1900.0</td>\n",
       "      <td>Yarra</td>\n",
       "      <td>-37.8079</td>\n",
       "      <td>144.9934</td>\n",
       "      <td>Northern Metropolitan</td>\n",
       "      <td>4019.0</td>\n",
       "    </tr>\n",
       "    <tr>\n",
       "      <th>2</th>\n",
       "      <td>Abbotsford</td>\n",
       "      <td>5 Charles St</td>\n",
       "      <td>3</td>\n",
       "      <td>h</td>\n",
       "      <td>1465000.0</td>\n",
       "      <td>SP</td>\n",
       "      <td>Biggin</td>\n",
       "      <td>4/03/2017</td>\n",
       "      <td>2.5</td>\n",
       "      <td>3067.0</td>\n",
       "      <td>...</td>\n",
       "      <td>2.0</td>\n",
       "      <td>0.0</td>\n",
       "      <td>134.0</td>\n",
       "      <td>150.0</td>\n",
       "      <td>1900.0</td>\n",
       "      <td>Yarra</td>\n",
       "      <td>-37.8093</td>\n",
       "      <td>144.9944</td>\n",
       "      <td>Northern Metropolitan</td>\n",
       "      <td>4019.0</td>\n",
       "    </tr>\n",
       "    <tr>\n",
       "      <th>3</th>\n",
       "      <td>Abbotsford</td>\n",
       "      <td>40 Federation La</td>\n",
       "      <td>3</td>\n",
       "      <td>h</td>\n",
       "      <td>850000.0</td>\n",
       "      <td>PI</td>\n",
       "      <td>Biggin</td>\n",
       "      <td>4/03/2017</td>\n",
       "      <td>2.5</td>\n",
       "      <td>3067.0</td>\n",
       "      <td>...</td>\n",
       "      <td>2.0</td>\n",
       "      <td>1.0</td>\n",
       "      <td>94.0</td>\n",
       "      <td>NaN</td>\n",
       "      <td>NaN</td>\n",
       "      <td>Yarra</td>\n",
       "      <td>-37.7969</td>\n",
       "      <td>144.9969</td>\n",
       "      <td>Northern Metropolitan</td>\n",
       "      <td>4019.0</td>\n",
       "    </tr>\n",
       "    <tr>\n",
       "      <th>4</th>\n",
       "      <td>Abbotsford</td>\n",
       "      <td>55a Park St</td>\n",
       "      <td>4</td>\n",
       "      <td>h</td>\n",
       "      <td>1600000.0</td>\n",
       "      <td>VB</td>\n",
       "      <td>Nelson</td>\n",
       "      <td>4/06/2016</td>\n",
       "      <td>2.5</td>\n",
       "      <td>3067.0</td>\n",
       "      <td>...</td>\n",
       "      <td>1.0</td>\n",
       "      <td>2.0</td>\n",
       "      <td>120.0</td>\n",
       "      <td>142.0</td>\n",
       "      <td>2014.0</td>\n",
       "      <td>Yarra</td>\n",
       "      <td>-37.8072</td>\n",
       "      <td>144.9941</td>\n",
       "      <td>Northern Metropolitan</td>\n",
       "      <td>4019.0</td>\n",
       "    </tr>\n",
       "  </tbody>\n",
       "</table>\n",
       "<p>5 rows × 21 columns</p>\n",
       "</div>"
      ],
      "text/plain": [
       "       Suburb           Address  Rooms Type      Price Method SellerG  \\\n",
       "0  Abbotsford      85 Turner St      2    h  1480000.0      S  Biggin   \n",
       "1  Abbotsford   25 Bloomburg St      2    h  1035000.0      S  Biggin   \n",
       "2  Abbotsford      5 Charles St      3    h  1465000.0     SP  Biggin   \n",
       "3  Abbotsford  40 Federation La      3    h   850000.0     PI  Biggin   \n",
       "4  Abbotsford       55a Park St      4    h  1600000.0     VB  Nelson   \n",
       "\n",
       "        Date  Distance  Postcode  ...  Bathroom  Car  Landsize  BuildingArea  \\\n",
       "0  3/12/2016       2.5    3067.0  ...       1.0  1.0     202.0           NaN   \n",
       "1  4/02/2016       2.5    3067.0  ...       1.0  0.0     156.0          79.0   \n",
       "2  4/03/2017       2.5    3067.0  ...       2.0  0.0     134.0         150.0   \n",
       "3  4/03/2017       2.5    3067.0  ...       2.0  1.0      94.0           NaN   \n",
       "4  4/06/2016       2.5    3067.0  ...       1.0  2.0     120.0         142.0   \n",
       "\n",
       "   YearBuilt  CouncilArea Lattitude  Longtitude             Regionname  \\\n",
       "0        NaN        Yarra  -37.7996    144.9984  Northern Metropolitan   \n",
       "1     1900.0        Yarra  -37.8079    144.9934  Northern Metropolitan   \n",
       "2     1900.0        Yarra  -37.8093    144.9944  Northern Metropolitan   \n",
       "3        NaN        Yarra  -37.7969    144.9969  Northern Metropolitan   \n",
       "4     2014.0        Yarra  -37.8072    144.9941  Northern Metropolitan   \n",
       "\n",
       "  Propertycount  \n",
       "0        4019.0  \n",
       "1        4019.0  \n",
       "2        4019.0  \n",
       "3        4019.0  \n",
       "4        4019.0  \n",
       "\n",
       "[5 rows x 21 columns]"
      ]
     },
     "execution_count": 7,
     "metadata": {},
     "output_type": "execute_result"
    }
   ],
   "source": [
    "import pandas as pd \n",
    "\n",
    "# local\n",
    "data_location = \"../Data/melb_data.csv\"\n",
    "# colab\n",
    "# data_location = \"\"\n",
    "\n",
    "data = pd.read_csv(data_location)\n",
    "\n",
    "data.head(5)"
   ]
  },
  {
   "cell_type": "markdown",
   "metadata": {},
   "source": [
    "A expressão regular para o número do endereço é qualquer dígito (\\d) uma ou mais vezes (+).\n",
    "\n",
    "Como queremos extraí-lo, vamos usar algumas das funções de correspondência de padrões, neste caso `re.findall`.\n",
    "\n",
    "E já que temos que avaliá-lo em cada elemento da Series `data.Address`, vamos usar `apply`."
   ]
  },
  {
   "cell_type": "code",
   "execution_count": 8,
   "metadata": {},
   "outputs": [],
   "source": [
    "padrao_num = \"\\d+\"\n",
    "padrao_num_regex = re.compile(padrao_num)"
   ]
  },
  {
   "cell_type": "code",
   "execution_count": 9,
   "metadata": {},
   "outputs": [
    {
     "name": "stdout",
     "output_type": "stream",
     "text": [
      "<class 'pandas.core.series.Series'>\n",
      "0        [85]\n",
      "1        [25]\n",
      "2         [5]\n",
      "3        [40]\n",
      "4        [55]\n",
      "         ... \n",
      "13575    [12]\n",
      "13576    [77]\n",
      "13577    [83]\n",
      "13578    [96]\n",
      "13579     [6]\n",
      "Name: Address, Length: 13580, dtype: object\n"
     ]
    }
   ],
   "source": [
    "address_series = data.Address\n",
    "resultado = address_series.apply(lambda x: padrao_num_regex.findall(x))\n",
    "print(type(resultado))\n",
    "print(resultado)"
   ]
  },
  {
   "cell_type": "markdown",
   "metadata": {},
   "source": [
    "Observamos que:\n",
    "\n",
    "* O resultado é uma instância da classe Series.\n",
    "\n",
    "* Cada um de seus elementos é uma lista de tamanho igual a quantidade de números existentes na coluna Address, para cada registro (porque findall retorna todas as correspondências que encontra)."
   ]
  },
  {
   "cell_type": "markdown",
   "metadata": {},
   "source": [
    "Se usarmos a pesquisa, obteremos apenas o primeiro:"
   ]
  },
  {
   "cell_type": "code",
   "execution_count": 10,
   "metadata": {},
   "outputs": [
    {
     "name": "stdout",
     "output_type": "stream",
     "text": [
      "<class 'pandas.core.series.Series'>\n",
      "0        <re.Match object; span=(0, 2), match='85'>\n",
      "1        <re.Match object; span=(0, 2), match='25'>\n",
      "2         <re.Match object; span=(0, 1), match='5'>\n",
      "3        <re.Match object; span=(0, 2), match='40'>\n",
      "4        <re.Match object; span=(0, 2), match='55'>\n",
      "                            ...                    \n",
      "13575    <re.Match object; span=(0, 2), match='12'>\n",
      "13576    <re.Match object; span=(0, 2), match='77'>\n",
      "13577    <re.Match object; span=(0, 2), match='83'>\n",
      "13578    <re.Match object; span=(0, 2), match='96'>\n",
      "13579     <re.Match object; span=(0, 1), match='6'>\n",
      "Name: Address, Length: 13580, dtype: object\n"
     ]
    }
   ],
   "source": [
    "address_series = data.Address\n",
    "resultado = address_series.apply(lambda x: padrao_num_regex.search(x))\n",
    "print(type(resultado))\n",
    "print(resultado)"
   ]
  },
  {
   "cell_type": "markdown",
   "metadata": {},
   "source": [
    "Observamos que:\n",
    "\n",
    "* O resultado é uma instância da classe Series.\n",
    "\n",
    "* Cada um de seus elementos é um objeto do tipo Match, que corresponde ao primeiro número encontrado para cada registro naquele campo\n",
    "https://docs.python.org/3/library/re.html#match-objects"
   ]
  },
  {
   "cell_type": "markdown",
   "metadata": {},
   "source": [
    "Para extrair o valor do número a partir do objeto Match, podemos usar `group` o `[ ]`:"
   ]
  },
  {
   "cell_type": "code",
   "execution_count": 11,
   "metadata": {},
   "outputs": [
    {
     "data": {
      "text/plain": [
       "0        85\n",
       "1        25\n",
       "2         5\n",
       "3        40\n",
       "4        55\n",
       "         ..\n",
       "13575    12\n",
       "13576    77\n",
       "13577    83\n",
       "13578    96\n",
       "13579     6\n",
       "Name: Address, Length: 13580, dtype: object"
      ]
     },
     "execution_count": 11,
     "metadata": {},
     "output_type": "execute_result"
    }
   ],
   "source": [
    "numeros_match = resultado.apply(lambda x: x[0])\n",
    "numeros_match"
   ]
  },
  {
   "cell_type": "code",
   "execution_count": 12,
   "metadata": {},
   "outputs": [
    {
     "data": {
      "text/plain": [
       "0        85\n",
       "1        25\n",
       "2         5\n",
       "3        40\n",
       "4        55\n",
       "         ..\n",
       "13575    12\n",
       "13576    77\n",
       "13577    83\n",
       "13578    96\n",
       "13579     6\n",
       "Name: Address, Length: 13580, dtype: object"
      ]
     },
     "execution_count": 12,
     "metadata": {},
     "output_type": "execute_result"
    }
   ],
   "source": [
    "numeros_match = resultado.apply(lambda x: x.group(0))\n",
    "numeros_match"
   ]
  },
  {
   "cell_type": "markdown",
   "metadata": {},
   "source": [
    "Agora vamos encontrar o nome da rua sem o sufixo. Os sufixos podem ser St, La, Cr, Dr.\n",
    "\n",
    "Vamos construir um padrão que identifica:\n",
    "\n",
    "1)  o número da rua `(?P<number_street>\\d+[a-z]*)` com um ou mais dígitos (\\d+) seguidos opcionalmente (*) por um caractere minúsculo.\n",
    "  \n",
    "2)  seguido por um espaço (\\s)\n",
    "\n",
    "3) seguido pelo nome da rua `(?P<street_name>.+)` qualquer sequência de caracteres de tamanho pelo menos igual a 1\n",
    "\n",
    "4) seguido por um sufixo `(?P<suffix>\\sSt|La|Cr|Dr)` que é um espaço seguido pela cadeia de caracteres \"St\" ou \"La\" ou \"Cr\" ou \"Dr\""
   ]
  },
  {
   "cell_type": "code",
   "execution_count": 13,
   "metadata": {},
   "outputs": [
    {
     "name": "stdout",
     "output_type": "stream",
     "text": [
      "0        <re.Match object; span=(0, 12), match='85 Turn...\n",
      "1        <re.Match object; span=(0, 15), match='25 Bloo...\n",
      "2        <re.Match object; span=(0, 12), match='5 Charl...\n",
      "3        <re.Match object; span=(0, 16), match='40 Fede...\n",
      "4        <re.Match object; span=(0, 11), match='55a Par...\n",
      "                               ...                        \n",
      "13575    <re.Match object; span=(0, 12), match='12 Stra...\n",
      "13576    <re.Match object; span=(0, 13), match='77 Merr...\n",
      "13577    <re.Match object; span=(0, 11), match='83 Powe...\n",
      "13578    <re.Match object; span=(0, 12), match='96 Verd...\n",
      "13579    <re.Match object; span=(0, 10), match='6 Agnes...\n",
      "Name: Address, Length: 13580, dtype: object\n"
     ]
    }
   ],
   "source": [
    "pattern = \"(?P<number_street>\\d+[a-z]*)\\s(?P<street_name>.+)(?P<suffix>\\sSt|La|Cr|Dr)\"\n",
    "\n",
    "pattern_regex = re.compile(pattern)\n",
    "address_series = data.Address\n",
    "resultado_nomes = address_series.apply(lambda x: pattern_regex.search(x))\n",
    "#print(type(resultado))\n",
    "print(resultado_nomes)"
   ]
  },
  {
   "cell_type": "markdown",
   "metadata": {},
   "source": [
    "Para extrair o nome da rua do objeto Match, podemos usar a função `group` sabendo que o nome do grupo é 'street_name':"
   ]
  },
  {
   "cell_type": "code",
   "execution_count": 14,
   "metadata": {},
   "outputs": [
    {
     "data": {
      "text/plain": [
       "0             Turner\n",
       "1          Bloomburg\n",
       "2            Charles\n",
       "3        Federation \n",
       "4               Park\n",
       "            ...     \n",
       "13575        Strada \n",
       "13576       Merrett \n",
       "13577          Power\n",
       "13578         Verdon\n",
       "13579          Agnes\n",
       "Name: Address, Length: 13580, dtype: object"
      ]
     },
     "execution_count": 14,
     "metadata": {},
     "output_type": "execute_result"
    }
   ],
   "source": [
    "streets_match = resultado_nomes.apply(lambda x: x if x is None else x.group('street_name'))\n",
    "streets_match"
   ]
  },
  {
   "cell_type": "markdown",
   "metadata": {},
   "source": [
    "Agora queremos dividir cada campo de endereço de cada registro em três partes: número, nome e sufixo.\n",
    "    \n",
    "Para isso vamos usar a mesma expressão regular definida anteriormente e o método `split`."
   ]
  },
  {
   "cell_type": "code",
   "execution_count": 15,
   "metadata": {},
   "outputs": [
    {
     "name": "stdout",
     "output_type": "stream",
     "text": [
      "0            [, 85, Turner,  St, ]\n",
      "1         [, 25, Bloomburg,  St, ]\n",
      "2            [, 5, Charles,  St, ]\n",
      "3        [, 40, Federation , La, ]\n",
      "4             [, 55a, Park,  St, ]\n",
      "                   ...            \n",
      "13575        [, 12, Strada , Cr, ]\n",
      "13576       [, 77, Merrett , Dr, ]\n",
      "13577         [, 83, Power,  St, ]\n",
      "13578        [, 96, Verdon,  St, ]\n",
      "13579          [, 6, Agnes,  St, ]\n",
      "Name: Address, Length: 13580, dtype: object\n"
     ]
    }
   ],
   "source": [
    "pattern_address = \"(?P<number_street>\\d+[a-z]*)\\s(?P<street_name>.+)(?P<suffix>\\sSt|La|Cr|Dr)\"\n",
    "\n",
    "pattern_address_regex = re.compile(pattern_address)\n",
    "address_series = data.Address\n",
    "resultado_nomes = address_series.apply(lambda x: pattern_address_regex.split(x))\n",
    "\n",
    "#print(type(resultado))\n",
    "print(resultado_nomes)"
   ]
  },
  {
   "cell_type": "markdown",
   "metadata": {},
   "source": [
    "Para terminar, vamos substituir o sufixo de cada registro por uma string vazia:"
   ]
  },
  {
   "cell_type": "code",
   "execution_count": 16,
   "metadata": {},
   "outputs": [
    {
     "name": "stdout",
     "output_type": "stream",
     "text": [
      "0             85 Turner\n",
      "1          25 Bloomburg\n",
      "2             5 Charles\n",
      "3        40 Federation \n",
      "4              55a Park\n",
      "              ...      \n",
      "13575           12rada \n",
      "13576       77 Merrett \n",
      "13577          83 Power\n",
      "13578         96 Verdon\n",
      "13579           6 Agnes\n",
      "Name: Address, Length: 13580, dtype: object\n"
     ]
    }
   ],
   "source": [
    "pattern_suffix = \"\\sSt|La|Cr|Dr\"\n",
    "\n",
    "string_to_replace = \"\"\n",
    "\n",
    "pattern_suffix_regex = re.compile(pattern_suffix)\n",
    "address_series = data.Address\n",
    "resultado_substituicao = address_series.apply(lambda x: pattern_suffix_regex.sub(string_to_replace, x))\n",
    "print(resultado_substituicao)"
   ]
  },
  {
   "cell_type": "markdown",
   "metadata": {},
   "source": [
    "## Referências\n",
    "\n",
    "- [re — Regular expression operations](https://docs.python.org/3/library/re.html)\n",
    "\n",
    "- [Regex tutorial — A quick cheatsheet by examples](https://medium.com/factory-mind/regex-tutorial-a-simple-cheatsheet-by-examples-649dc1c3f285)\n",
    "\n",
    "Sintaxe das expressões regulares\n",
    "\n",
    "- [Regular Expression Syntax](https://docs.python.org/3/library/re.html#re-syntax)\n",
    "\n",
    "- [Python RegEx](https://www.w3schools.com/python/python_regex.asp)\n",
    "\n",
    "- [Regular Expression HOWTO](https://docs.python.org/3/howto/regex.html)\n",
    "\n",
    "\n",
    "Sites para praticar:\n",
    "\n",
    "- [Untitled Pattern](https://regexr.com/)\n",
    "\n",
    "- [Regular Expressions 101](https://regex101.com/)"
   ]
  },
  {
   "cell_type": "code",
   "execution_count": null,
   "metadata": {},
   "outputs": [],
   "source": []
  }
 ],
 "metadata": {
  "kernelspec": {
   "display_name": "Python 3",
   "language": "python",
   "name": "python3"
  },
  "language_info": {
   "codemirror_mode": {
    "name": "ipython",
    "version": 3
   },
   "file_extension": ".py",
   "mimetype": "text/x-python",
   "name": "python",
   "nbconvert_exporter": "python",
   "pygments_lexer": "ipython3",
   "version": "3.9.6"
  }
 },
 "nbformat": 4,
 "nbformat_minor": 4
}
