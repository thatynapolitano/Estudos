{
 "cells": [
  {
   "cell_type": "markdown",
   "metadata": {},
   "source": [
    "<img src='letscodebr_cover.jpeg' align='left' width=100%/>"
   ]
  },
  {
   "cell_type": "markdown",
   "metadata": {},
   "source": [
    "# Ada Tech [DS-PY-004] Técnicas de Programação I (PY) Aula 8: Enunciado do Exercício 2."
   ]
  },
  {
   "cell_type": "markdown",
   "metadata": {},
   "source": [
    "### Introdução\n",
    "\n",
    "A limpeza é uma etapa necessária em qualquer projeto de dados.\n",
    "\n",
    "Podemos resumir o processo de limpeza de dados nas cinco tarefas a seguir:\n",
    "\n",
    "**1. Resolver problemas de formato dos dados e atribuir o dtype correto de cada coluna.**\n",
    "\n",
    "Por exemplo, ao ler um arquivo CSV com a biblioteca Pandas, uma data não é importada corretamente, como pode ser o caso de um campo de data onde $20090609231247$ é importado em vez de $2009-06-09 23:12:47$.\n",
    "\n",
    "O formato em que os dados são encontrados determina quais operações podem ser executadas nele.\n",
    "\n",
    "**2. Padronizar categorias.**\n",
    "\n",
    "Quando os dados forem coletados em um sistema que não possui valores padronizados, os valores que representam a mesma categoria podem ser expressos de forma diferente. Por exemplo: Bra, BR, Brasil, Brazil.\n",
    "\n",
    "**3. Corrigir valores errados.**\n",
    "\n",
    "Por exemplo: um valor inválido ou numérico para descrever o gênero; ou uma idade representada por um número negativo ou muito maior que 100.\n",
    "\n",
    "**4. Completar dados ausentes (mising values).**\n",
    "\n",
    "Datasets do mundo real geralmente vêm com dados ausentes que correspondem a informações que foram perdidas ou nunca coletadas. Existem várias técnicas para preencher os dados ausentes. O processo de preenchimento de dados ausentes é chamado de \"imputação\".\n",
    "\n",
    "**5. Organizar o dataset.**\n",
    "\n",
    "É importante estruturar as linhas e colunas da maneira mais conveniente. Para fazer isso, as regras do \"tidy data\" podem ser aplicadas."
   ]
  },
  {
   "cell_type": "markdown",
   "metadata": {},
   "source": [
    "## Dataset\n",
    "\n",
    "O [Met (Metropolitan Museum of Art)](https://github.com/metmuseum/openaccess/) fornece um dataset de informações de mais de 420.000 peças de arte em sua coleção.\n",
    "Para mais informações acesse:\n",
    "\n",
    "Os problemas com este dataset incluem:\n",
    "\n",
    "- Valores ausentes\n",
    "- Possíveis duplicações\n",
    "- Colunas com uma combinação de tipo numérico e strings\n",
    "\n",
    "Nesta aula iremos detectar alguns dos campos que apresentam problemas e resolvê-los usando as ferramentas que adquirimos nas práticas orientadas."
   ]
  },
  {
   "cell_type": "markdown",
   "metadata": {},
   "source": [
    "## Exercício 1:\n",
    "\n",
    "Vamos ler os dados do arquivo `../Data/MetObjects_sample.csv` na variável `data` em um `DataFrame` Pandas com o método `read_csv`.\n",
    "\n",
    "Vamos ver quantas linhas e colunas o DataFrame tem:"
   ]
  },
  {
   "cell_type": "code",
   "execution_count": null,
   "metadata": {},
   "outputs": [],
   "source": []
  },
  {
   "cell_type": "markdown",
   "metadata": {},
   "source": [
    "## Exercício 2: Formato e tipo de dado\n",
    "\n",
    "Vamos verificar o dtype de cada coluna do DataFrame e converter ou formatar **algumas das colunas** que têm o dtype errado.\n",
    "\n",
    "\n",
    "### 2.a Detectar colunas com dtype errado"
   ]
  },
  {
   "cell_type": "code",
   "execution_count": null,
   "metadata": {},
   "outputs": [],
   "source": []
  },
  {
   "cell_type": "markdown",
   "metadata": {},
   "source": [
    "### 2.b `AccessionYear`\n",
    "\n",
    "Analise a coluna AccessionYear que foi lida como `object` e deveria ser `int`.\n",
    "\n",
    "Quais valores esse campo assume? Como esses valores são distribuídos? Existem valores nulos?\n",
    "\n",
    "Queremos extrair o ano dos valores não numéricos e criar uma nova coluna no DataFrame do tipo `int` que é chamada AccessionYearClean e tem esses valores.\n",
    "\n",
    "Para isso, vamos usar expressões regulares, função apply e lambda.\n",
    "\n",
    "Observação: se a coluna tiver valores NaN, não poderemos convertê-la para o tipo int. Uma opção é substituir os valores NaN por algum número inteiro antes de converter (`fillna`). A outra opção é deixar a coluna do tipo float (o tipo NaN é float)."
   ]
  },
  {
   "cell_type": "code",
   "execution_count": null,
   "metadata": {},
   "outputs": [],
   "source": []
  },
  {
   "cell_type": "markdown",
   "metadata": {},
   "source": [
    "## Exercício 3: Categorias - Valores errados\n",
    "\n",
    "Vamos agora dar uma olhada no campo `Artist Gender`.\n",
    "\n",
    "Quais valores esse campo assume? Como esses valores são distribuídos? Existem valores nulos?\n",
    "\n",
    "Você deve definir Male, Female e Unknowncomo como categorias válidas\n",
    "\n",
    "Em seguida crie uma nova coluna no DataFrame que será chamada ArtistGenderClean e tem esses valores.\n",
    "\n",
    "Para isso, vamos usar expressões regulares, funções apply e lambda.\n",
    "\n",
    "Podemos deduzir como a categoria Masculino é representada no conjunto de dados original?\n",
    "\n",
    "Observação: a proposta que fazemos para limpar esse campo não está totalmente correta e veremos o motivo mais tarde. Mas serve como exercício inicial.\n"
   ]
  },
  {
   "cell_type": "code",
   "execution_count": null,
   "metadata": {},
   "outputs": [],
   "source": []
  },
  {
   "cell_type": "markdown",
   "metadata": {},
   "source": [
    "## Exercício 4: Imputação\n",
    "\n",
    "Agora vamos analisar os campos `Object Date`, `Object Begin Date`, `Object End Date`.\n",
    "\n",
    "**4.a Quantos valores nulos existem em `Object Date`? Quantos em `Object Begin Date`? Quantos em `Object End Date`?**"
   ]
  },
  {
   "cell_type": "code",
   "execution_count": null,
   "metadata": {},
   "outputs": [],
   "source": []
  },
  {
   "cell_type": "markdown",
   "metadata": {},
   "source": [
    "**4.b Usaremos os valores de `Object Begin Date` ou `Object End Date` para imputar os valores de `Object Date` a qualquer um desses dois campos.**\n",
    "\n",
    "1) Vamos criar uma nova coluna (`Object Date 4b`) onde copiaremos todos os dados da coluna Object Date (para não alterar os valores originais e eles nos servirão para o próximo exercício)\n",
    "\n",
    "2) Vamos preencher a coluna `Object Date 4b` com a estratégia que propomos."
   ]
  },
  {
   "cell_type": "code",
   "execution_count": null,
   "metadata": {},
   "outputs": [],
   "source": []
  },
  {
   "cell_type": "markdown",
   "metadata": {
    "tags": []
   },
   "source": [
    "**4.c Usaremos aleatoriamente os valores de `Object Begin Date` ou `Object End Date` para imputar os valores de `Object Date` a qualquer um desses dois campos.**\n",
    "\n",
    "Para isso definimos uma função `get_fill_value` que recebe como parâmetro uma linha de dados, e se o valor do campo `Object Date` for nulo, retorna aleatoriamente o valor do campo \"Object Begin Date\" ou \"Object End Date\" desse registro.\n",
    "\n",
    "(Neste exercício praticamos tudo!)"
   ]
  },
  {
   "cell_type": "code",
   "execution_count": null,
   "metadata": {},
   "outputs": [],
   "source": []
  },
  {
   "cell_type": "markdown",
   "metadata": {},
   "source": [
    "Vamos contar agora quantos registros você preencheu com os valores de Object Begin Date e quantos com Object End Date."
   ]
  },
  {
   "cell_type": "code",
   "execution_count": null,
   "metadata": {},
   "outputs": [],
   "source": []
  },
  {
   "cell_type": "markdown",
   "metadata": {},
   "source": [
    "## Nota: Organize o conjunto de dados\n",
    "\n",
    "Para realizar esta tarefa, precisamos de algumas ferramentas que veremos na segunda parte do Pandas.\n",
    "\n",
    "Nessa aula, vamos voltar a este exercício e resolver esse ponto.\n",
    "\n",
    "Os campos que vamos analisar são `Artist Nationality` e `Artist Display Name`."
   ]
  },
  {
   "cell_type": "code",
   "execution_count": 1,
   "metadata": {},
   "outputs": [
    {
     "ename": "NameError",
     "evalue": "name 'data' is not defined",
     "output_type": "error",
     "traceback": [
      "\u001b[0;31m---------------------------------------------------------------------------\u001b[0m",
      "\u001b[0;31mNameError\u001b[0m                                 Traceback (most recent call last)",
      "Cell \u001b[0;32mIn[1], line 1\u001b[0m\n\u001b[0;32m----> 1\u001b[0m \u001b[43mdata\u001b[49m[\u001b[38;5;124m\"\u001b[39m\u001b[38;5;124mArtist Nationality\u001b[39m\u001b[38;5;124m\"\u001b[39m]\u001b[38;5;241m.\u001b[39mvalue_counts()\n",
      "\u001b[0;31mNameError\u001b[0m: name 'data' is not defined"
     ]
    }
   ],
   "source": [
    "data[\"Artist Nationality\"].value_counts()"
   ]
  },
  {
   "cell_type": "code",
   "execution_count": null,
   "metadata": {},
   "outputs": [],
   "source": [
    "data[\"Artist Display Name\"].value_counts() "
   ]
  },
  {
   "cell_type": "code",
   "execution_count": null,
   "metadata": {},
   "outputs": [],
   "source": []
  }
 ],
 "metadata": {
  "kernelspec": {
   "display_name": "Python 3",
   "language": "python",
   "name": "python3"
  },
  "language_info": {
   "codemirror_mode": {
    "name": "ipython",
    "version": 3
   },
   "file_extension": ".py",
   "mimetype": "text/x-python",
   "name": "python",
   "nbconvert_exporter": "python",
   "pygments_lexer": "ipython3",
   "version": "3.9.6"
  }
 },
 "nbformat": 4,
 "nbformat_minor": 4
}
