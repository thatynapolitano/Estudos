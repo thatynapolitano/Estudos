{
 "cells": [
  {
   "cell_type": "markdown",
   "metadata": {},
   "source": [
    "<img src='letscodebr_cover.jpeg' align='left' width=100%/>"
   ]
  },
  {
   "cell_type": "markdown",
   "metadata": {},
   "source": [
    "# Ada Tech [DS-PY-004] Técnicas de Programação I (PY) Aula 8: Funções lambda, apply, applymap."
   ]
  },
  {
   "cell_type": "markdown",
   "metadata": {},
   "source": [
    "## Funções lambda"
   ]
  },
  {
   "cell_type": "markdown",
   "metadata": {},
   "source": [
    "As funções lambda também são chamadas de funções anônimas. Uma função anônima é uma função definida sem um nome. Como sabemos, para definir uma função normal em Python, usamos a palavra-chave `def`. Mas, no caso de funções anônimas, usamos a palavra-chave `lambda` para defini-las.\n",
    "\n",
    "As funções lambda são especialmente úteis na análise de dados porque, como veremos, há muitos casos em que as funções de transformação de dados tomarão **funções como argumentos**. Em geral, é mais claro passar uma função lambda em vez de escrever uma declaração de função completa ou atribuir uma expressão lambda a uma variável local."
   ]
  },
  {
   "cell_type": "markdown",
   "metadata": {},
   "source": [
    "### Sintaxe\n",
    "\n",
    "`lambda arguments: expression`\n",
    "\n",
    "Exemplos:\n",
    "\n",
    "1) Definimos uma função lambda e a atribuímos à variável add. Na próxima linha, nós o executamos e imprimimos o resultado."
   ]
  },
  {
   "cell_type": "code",
   "execution_count": 1,
   "metadata": {},
   "outputs": [
    {
     "name": "stdout",
     "output_type": "stream",
     "text": [
      "40\n"
     ]
    }
   ],
   "source": [
    "add = lambda a: a + a\n",
    "print(add(20))"
   ]
  },
  {
   "cell_type": "markdown",
   "metadata": {},
   "source": [
    "2) Definimos outra função lambda e armazenamos na variável add, executamos e imprimimos o resultado."
   ]
  },
  {
   "cell_type": "code",
   "execution_count": 2,
   "metadata": {},
   "outputs": [
    {
     "name": "stdout",
     "output_type": "stream",
     "text": [
      "33\n"
     ]
    }
   ],
   "source": [
    "add = lambda a, b, c: a + b + c\n",
    "print(add(10, 11, 12))"
   ]
  },
  {
   "cell_type": "markdown",
   "metadata": {},
   "source": [
    "3) Reescrevemos a função `short_function` como uma função lambda."
   ]
  },
  {
   "cell_type": "code",
   "execution_count": 3,
   "metadata": {},
   "outputs": [],
   "source": [
    "def short_function(x):\n",
    "    return x * 2\n",
    "\n",
    "equiv_function = lambda x: x * 2"
   ]
  },
  {
   "cell_type": "markdown",
   "metadata": {},
   "source": [
    "Em cada um dos exemplos de funções lambda:<br/>\n",
    "\n",
    "- Quais são os argumentos?\n",
    "- Qual é a expressão?"
   ]
  },
  {
   "cell_type": "markdown",
   "metadata": {},
   "source": [
    "##  apply, applymap, map\n",
    "\n",
    "\n",
    "O Pandas possui um conjunto de métodos que permitem operar de forma eficiente sobre os elementos de um objeto DataFrame ou Series.\n",
    "Para aplicar a lógica desejada, podemos escolher definir funções nomeadas e usar expressões lambda que não podem ser reutilizadas.\n",
    "    \n",
    "1)  [pd.DataFrame.apply](https://pandas.pydata.org/pandas-docs/stable/reference/api/pandas.DataFrame.apply.html): Opera em linhas ou colunas inteiras de um DataFrame\n",
    "\n",
    "2)  [pd.DataFrame.applymap](https://pandas.pydata.org/pandas-docs/stable/reference/api/pandas.DataFrame.applymap.html): Opera em cada um dos elementos de um DataFrame\n",
    "\n",
    "3)  [pd.Series.apply](https://pandas.pydata.org/pandas-docs/stable/reference/api/pandas.Series.apply.html): Opera em cada um dos elementos de uma Series.\n",
    "    \n",
    "4)  [pd.Series.map](https://pandas.pydata.org/pandas-docs/stable/reference/api/pandas.Series.map.html): Opera em cada um dos elementos de uma Series, muito semelhante a função .apply.\n",
    "    \n",
    "A diferença entre pd.Series.map e pd.Series.apply é que o segundo pode gerar um Dataframe a partir da série, enquanto o primeiro se recebesse uma Series como retorno da função, criaria uma série de Series.\n",
    "\n",
    "O método pandas apply permite que você execute operações vetorizadas em objetos DataFrame linha por linha e coluna por coluna."
   ]
  },
  {
   "cell_type": "markdown",
   "metadata": {},
   "source": [
    "Veremos agora alguns exemplos de uso no conjunto de dados de propriedades de Melbourne, que usamos na prática de limpeza de dados."
   ]
  },
  {
   "cell_type": "code",
   "execution_count": 4,
   "metadata": {},
   "outputs": [
    {
     "data": {
      "text/html": [
       "<div>\n",
       "<style scoped>\n",
       "    .dataframe tbody tr th:only-of-type {\n",
       "        vertical-align: middle;\n",
       "    }\n",
       "\n",
       "    .dataframe tbody tr th {\n",
       "        vertical-align: top;\n",
       "    }\n",
       "\n",
       "    .dataframe thead th {\n",
       "        text-align: right;\n",
       "    }\n",
       "</style>\n",
       "<table border=\"1\" class=\"dataframe\">\n",
       "  <thead>\n",
       "    <tr style=\"text-align: right;\">\n",
       "      <th></th>\n",
       "      <th>Suburb</th>\n",
       "      <th>Address</th>\n",
       "      <th>Rooms</th>\n",
       "      <th>Type</th>\n",
       "      <th>Price</th>\n",
       "      <th>Method</th>\n",
       "      <th>SellerG</th>\n",
       "      <th>Date</th>\n",
       "      <th>Distance</th>\n",
       "      <th>Postcode</th>\n",
       "      <th>...</th>\n",
       "      <th>Bathroom</th>\n",
       "      <th>Car</th>\n",
       "      <th>Landsize</th>\n",
       "      <th>BuildingArea</th>\n",
       "      <th>YearBuilt</th>\n",
       "      <th>CouncilArea</th>\n",
       "      <th>Lattitude</th>\n",
       "      <th>Longtitude</th>\n",
       "      <th>Regionname</th>\n",
       "      <th>Propertycount</th>\n",
       "    </tr>\n",
       "  </thead>\n",
       "  <tbody>\n",
       "    <tr>\n",
       "      <th>0</th>\n",
       "      <td>Abbotsford</td>\n",
       "      <td>85 Turner St</td>\n",
       "      <td>2</td>\n",
       "      <td>h</td>\n",
       "      <td>1480000.0</td>\n",
       "      <td>S</td>\n",
       "      <td>Biggin</td>\n",
       "      <td>3/12/2016</td>\n",
       "      <td>2.5</td>\n",
       "      <td>3067.0</td>\n",
       "      <td>...</td>\n",
       "      <td>1.0</td>\n",
       "      <td>1.0</td>\n",
       "      <td>202.0</td>\n",
       "      <td>NaN</td>\n",
       "      <td>NaN</td>\n",
       "      <td>Yarra</td>\n",
       "      <td>-37.7996</td>\n",
       "      <td>144.9984</td>\n",
       "      <td>Northern Metropolitan</td>\n",
       "      <td>4019.0</td>\n",
       "    </tr>\n",
       "    <tr>\n",
       "      <th>1</th>\n",
       "      <td>Abbotsford</td>\n",
       "      <td>25 Bloomburg St</td>\n",
       "      <td>2</td>\n",
       "      <td>h</td>\n",
       "      <td>1035000.0</td>\n",
       "      <td>S</td>\n",
       "      <td>Biggin</td>\n",
       "      <td>4/02/2016</td>\n",
       "      <td>2.5</td>\n",
       "      <td>3067.0</td>\n",
       "      <td>...</td>\n",
       "      <td>1.0</td>\n",
       "      <td>0.0</td>\n",
       "      <td>156.0</td>\n",
       "      <td>79.0</td>\n",
       "      <td>1900.0</td>\n",
       "      <td>Yarra</td>\n",
       "      <td>-37.8079</td>\n",
       "      <td>144.9934</td>\n",
       "      <td>Northern Metropolitan</td>\n",
       "      <td>4019.0</td>\n",
       "    </tr>\n",
       "    <tr>\n",
       "      <th>2</th>\n",
       "      <td>Abbotsford</td>\n",
       "      <td>5 Charles St</td>\n",
       "      <td>3</td>\n",
       "      <td>h</td>\n",
       "      <td>1465000.0</td>\n",
       "      <td>SP</td>\n",
       "      <td>Biggin</td>\n",
       "      <td>4/03/2017</td>\n",
       "      <td>2.5</td>\n",
       "      <td>3067.0</td>\n",
       "      <td>...</td>\n",
       "      <td>2.0</td>\n",
       "      <td>0.0</td>\n",
       "      <td>134.0</td>\n",
       "      <td>150.0</td>\n",
       "      <td>1900.0</td>\n",
       "      <td>Yarra</td>\n",
       "      <td>-37.8093</td>\n",
       "      <td>144.9944</td>\n",
       "      <td>Northern Metropolitan</td>\n",
       "      <td>4019.0</td>\n",
       "    </tr>\n",
       "  </tbody>\n",
       "</table>\n",
       "<p>3 rows × 21 columns</p>\n",
       "</div>"
      ],
      "text/plain": [
       "       Suburb          Address  Rooms Type      Price Method SellerG  \\\n",
       "0  Abbotsford     85 Turner St      2    h  1480000.0      S  Biggin   \n",
       "1  Abbotsford  25 Bloomburg St      2    h  1035000.0      S  Biggin   \n",
       "2  Abbotsford     5 Charles St      3    h  1465000.0     SP  Biggin   \n",
       "\n",
       "        Date  Distance  Postcode  ...  Bathroom  Car  Landsize  BuildingArea  \\\n",
       "0  3/12/2016       2.5    3067.0  ...       1.0  1.0     202.0           NaN   \n",
       "1  4/02/2016       2.5    3067.0  ...       1.0  0.0     156.0          79.0   \n",
       "2  4/03/2017       2.5    3067.0  ...       2.0  0.0     134.0         150.0   \n",
       "\n",
       "   YearBuilt  CouncilArea Lattitude  Longtitude             Regionname  \\\n",
       "0        NaN        Yarra  -37.7996    144.9984  Northern Metropolitan   \n",
       "1     1900.0        Yarra  -37.8079    144.9934  Northern Metropolitan   \n",
       "2     1900.0        Yarra  -37.8093    144.9944  Northern Metropolitan   \n",
       "\n",
       "  Propertycount  \n",
       "0        4019.0  \n",
       "1        4019.0  \n",
       "2        4019.0  \n",
       "\n",
       "[3 rows x 21 columns]"
      ]
     },
     "execution_count": 4,
     "metadata": {},
     "output_type": "execute_result"
    }
   ],
   "source": [
    "import pandas as pd\n",
    "\n",
    "# local\n",
    "data_location = \"../Data/melb_data.csv\"\n",
    "# colab\n",
    "# data_location = \"\"\n",
    "\n",
    "data = pd.read_csv(data_location)\n",
    "\n",
    "data.head(3)\n"
   ]
  },
  {
   "cell_type": "markdown",
   "metadata": {},
   "source": [
    "## Usando Apply para linhas de um objeto DataFrame\n",
    "\n",
    "Vamos calcular o preço por metro quadrado de cada um dos registros no conjunto de dados.\n",
    "\n",
    "Para isso, vamos dividir o valor do campo Price pelo valor do campo Landsize de cada registro.\n",
    "\n",
    "Escrevemos essa conta como uma função lambda, que passaremos como o primeiro argumento a ser aplicado.\n",
    "\n",
    "Na documentação, para o argumento do eixo (axis), vemos:\n",
    "\n",
    "    0 or ‘index’: apply function to each column.\n",
    "\n",
    "    1 or ‘columns’: apply function to each row.\n",
    "\n",
    "Portanto, no segundo argumento, o valor do eixo é 1 porque queremos aplicar a função para as linhas.\n",
    "\n",
    "Uma vez que temos que fazer uma divisão, devemos verificar se o denominador não é zero. Para isso, vamos escrever uma expressão condicional em uma linha com esta sintaxe:\n",
    "\n",
    "`value_when_true if condition else value_when_false`\n",
    "\n",
    "Neste caso:\n",
    "\n",
    "`0 if x['Landsize'] == 0 else x['Price'] / x['Landsize']`\n"
   ]
  },
  {
   "cell_type": "code",
   "execution_count": 5,
   "metadata": {},
   "outputs": [
    {
     "name": "stdout",
     "output_type": "stream",
     "text": [
      "<class 'pandas.core.series.Series'>\n",
      "Número de elementos em preco_m2: 13580\n",
      "Quantidade de linhas em data: 13580\n",
      "0     7326.732673\n",
      "1     6634.615385\n",
      "2    10932.835821\n",
      "dtype: float64\n"
     ]
    }
   ],
   "source": [
    "preco_m2 = data.apply(lambda x: 0 if x['Landsize'] == 0 else x['Price'] / x['Landsize'], axis = 1)\n",
    "print(type(preco_m2))\n",
    "print(\"Número de elementos em preco_m2: \" + str(len(preco_m2)))\n",
    "print(\"Quantidade de linhas em data: \" + str(data.shape[0]))\n",
    "print(preco_m2.head(3))"
   ]
  },
  {
   "cell_type": "markdown",
   "metadata": {},
   "source": [
    "Vemos que preco_m2 é uma instância da classe pd.Series e que tem o mesmo número de elementos que o número de linhas nos dados originais."
   ]
  },
  {
   "cell_type": "markdown",
   "metadata": {},
   "source": [
    "## Apply sobre colunas de um DataFrame\n",
    "\n",
    "Agora vamos calcular a média de cada uma das colunas com valores numéricos.\n",
    "\n",
    "Para determinar se uma coluna é do tipo numérico, vamos usar `np.issubdtype (..., np.number)` que retorna True se col_type for do tipo np.number, e False se não for. E vamos usar compreensão em listas para montar os nomes das colunas do tipo numérico:\n",
    "\n",
    "`numeric_columns_mask = [np.issubdtype(data[col].dtypes, np.number) for col in data.columns]\n",
    "numeric_columns_names = data.columns[numeric_columns_mask]`\n",
    "\n",
    "\n",
    "Para isso definiremos uma função lambda que aplica `mean` em cada coluna cujo nome está na lista que construímos na etapa anterior.\n",
    "\n",
    "Como queremos aplicar esta função em cada uma das colunas do DataFrame, o valor do eixo que usamos é 0."
   ]
  },
  {
   "cell_type": "code",
   "execution_count": 6,
   "metadata": {},
   "outputs": [
    {
     "name": "stdout",
     "output_type": "stream",
     "text": [
      "Index(['Rooms', 'Price', 'Distance', 'Postcode', 'Bedroom2', 'Bathroom', 'Car',\n",
      "       'Landsize', 'BuildingArea', 'YearBuilt', 'Lattitude', 'Longtitude',\n",
      "       'Propertycount'],\n",
      "      dtype='object')\n",
      "Suburb                    NaN\n",
      "Address                   NaN\n",
      "Rooms            2.937997e+00\n",
      "Type                      NaN\n",
      "Price            1.075684e+06\n",
      "Method                    NaN\n",
      "SellerG                   NaN\n",
      "Date                      NaN\n",
      "Distance         1.013778e+01\n",
      "Postcode         3.105302e+03\n",
      "Bedroom2         2.914728e+00\n",
      "Bathroom         1.534242e+00\n",
      "Car              1.610075e+00\n",
      "Landsize         5.584161e+02\n",
      "BuildingArea     1.519676e+02\n",
      "YearBuilt        1.964684e+03\n",
      "CouncilArea               NaN\n",
      "Lattitude       -3.780920e+01\n",
      "Longtitude       1.449952e+02\n",
      "Regionname                NaN\n",
      "Propertycount    7.454417e+03\n",
      "dtype: float64\n",
      "<class 'pandas.core.series.Series'>\n",
      "True\n"
     ]
    }
   ],
   "source": [
    "import numpy as np\n",
    "\n",
    "numeric_columns_mask = [np.issubdtype(data[col].dtypes, np.number) for col in data.columns]\n",
    "numeric_columns_names = data.columns[numeric_columns_mask]\n",
    "print(numeric_columns_names)\n",
    "\n",
    "means = data.apply(lambda x: x.mean() if x.name in numeric_columns_names else np.NaN, axis=0)\n",
    "print(means)\n",
    "print(type(means))\n",
    "print(len(means) == data.shape[1])"
   ]
  },
  {
   "cell_type": "markdown",
   "metadata": {},
   "source": [
    "Vemos que `mean` é uma instância de Series e que tem o mesmo número de elementos que o número de colunas nos dados"
   ]
  },
  {
   "cell_type": "markdown",
   "metadata": {},
   "source": [
    "## Applymap sobre um objeto DataFrame\n",
    "\n",
    "Agora vamos escrever todos os valores dos elementos do DataFrame em letras minúsculas.\n",
    "\n",
    "Se o valor for numérico, não o alteramos.\n"
   ]
  },
  {
   "cell_type": "code",
   "execution_count": 7,
   "metadata": {},
   "outputs": [
    {
     "name": "stdout",
     "output_type": "stream",
     "text": [
      "Suburb           True\n",
      "Address          True\n",
      "Rooms            True\n",
      "Type             True\n",
      "Price            True\n",
      "Method           True\n",
      "SellerG          True\n",
      "Date             True\n",
      "Distance         True\n",
      "Postcode         True\n",
      "Bedroom2         True\n",
      "Bathroom         True\n",
      "Car              True\n",
      "Landsize         True\n",
      "BuildingArea     True\n",
      "YearBuilt        True\n",
      "CouncilArea      True\n",
      "Lattitude        True\n",
      "Longtitude       True\n",
      "Regionname       True\n",
      "Propertycount    True\n",
      "dtype: bool\n",
      "       Suburb          Address  Rooms Type      Price Method SellerG  \\\n",
      "0  abbotsford     85 turner st      2    h  1480000.0      s  biggin   \n",
      "1  abbotsford  25 bloomburg st      2    h  1035000.0      s  biggin   \n",
      "2  abbotsford     5 charles st      3    h  1465000.0     sp  biggin   \n",
      "\n",
      "        Date  Distance  Postcode  ...  Bathroom  Car  Landsize  BuildingArea  \\\n",
      "0  3/12/2016       2.5    3067.0  ...       1.0  1.0     202.0           NaN   \n",
      "1  4/02/2016       2.5    3067.0  ...       1.0  0.0     156.0          79.0   \n",
      "2  4/03/2017       2.5    3067.0  ...       2.0  0.0     134.0         150.0   \n",
      "\n",
      "   YearBuilt  CouncilArea Lattitude  Longtitude             Regionname  \\\n",
      "0        NaN        yarra  -37.7996    144.9984  northern metropolitan   \n",
      "1     1900.0        yarra  -37.8079    144.9934  northern metropolitan   \n",
      "2     1900.0        yarra  -37.8093    144.9944  northern metropolitan   \n",
      "\n",
      "  Propertycount  \n",
      "0        4019.0  \n",
      "1        4019.0  \n",
      "2        4019.0  \n",
      "\n",
      "[3 rows x 21 columns]\n"
     ]
    }
   ],
   "source": [
    "data_lower = data.applymap(lambda x: x if np.isreal(x) else str(x).lower())\n",
    "# comparo os tipos de dados antes e depois de aplicar a função .lower():\n",
    "print(data_lower.dtypes == data.dtypes)\n",
    "print(data_lower.head(3))"
   ]
  },
  {
   "cell_type": "markdown",
   "metadata": {},
   "source": [
    "Vemos que os tipos de dados das colunas do DataFrame não foram modificados e que todas as cadeias de caracteres foram deixadas em minúsculas."
   ]
  },
  {
   "cell_type": "markdown",
   "metadata": {},
   "source": [
    "## Apply sobre um objeto Series\n",
    "\n",
    "\n",
    "Construímos uma instância de Series com os valores da coluna Price.\n",
    "\n",
    "Vamos aplicar um desconto de $10\\%$ no preço, multiplicando cada um dos valores deste objeto Série por $0,9$."
   ]
  },
  {
   "cell_type": "code",
   "execution_count": 8,
   "metadata": {},
   "outputs": [
    {
     "name": "stdout",
     "output_type": "stream",
     "text": [
      "<class 'pandas.core.series.Series'>\n"
     ]
    },
    {
     "data": {
      "text/plain": [
       "0        1332000.0\n",
       "1         931500.0\n",
       "2        1318500.0\n",
       "3         765000.0\n",
       "4        1440000.0\n",
       "           ...    \n",
       "13575    1120500.0\n",
       "13576     927900.0\n",
       "13577    1053000.0\n",
       "13578    2250000.0\n",
       "13579    1156500.0\n",
       "Name: Price, Length: 13580, dtype: float64"
      ]
     },
     "execution_count": 8,
     "metadata": {},
     "output_type": "execute_result"
    }
   ],
   "source": [
    "price_serie = data.Price\n",
    "print(type(price_serie))\n",
    "\n",
    "price_discount = price_serie.apply(lambda x: x * 0.9)\n",
    "price_discount"
   ]
  },
  {
   "cell_type": "markdown",
   "metadata": {},
   "source": [
    "## Map sobre um objeto Series\n",
    "\n",
    "Repetiremos o exemplo anterior com a função map."
   ]
  },
  {
   "cell_type": "code",
   "execution_count": 9,
   "metadata": {},
   "outputs": [
    {
     "name": "stdout",
     "output_type": "stream",
     "text": [
      "<class 'pandas.core.series.Series'>\n"
     ]
    },
    {
     "data": {
      "text/plain": [
       "0        1332000.0\n",
       "1         931500.0\n",
       "2        1318500.0\n",
       "3         765000.0\n",
       "4        1440000.0\n",
       "           ...    \n",
       "13575    1120500.0\n",
       "13576     927900.0\n",
       "13577    1053000.0\n",
       "13578    2250000.0\n",
       "13579    1156500.0\n",
       "Name: Price, Length: 13580, dtype: float64"
      ]
     },
     "execution_count": 9,
     "metadata": {},
     "output_type": "execute_result"
    }
   ],
   "source": [
    "price_serie = data.Price\n",
    "print(type(price_serie))\n",
    "\n",
    "price_discount = price_serie.map(lambda x: x * 0.9)\n",
    "price_discount"
   ]
  },
  {
   "cell_type": "markdown",
   "metadata": {},
   "source": [
    "## Usando a função apply com funções anônimas\n",
    "\n",
    "Em todos os casos acima, usamos funções anônimas porque são executadas de forma mais eficiente do que aquelas definidas com `def`. No entanto, a sintaxe de apply, applymap e map é a mesma, independentemente da forma como a função é definida (`lambda` ou` def`).\n",
    "\n",
    "A título de exemplo, vamos reescrever o exercício em que calculamos a média de cada uma das colunas de dados com valores numéricos, mas com uma função definida com \"def\" (não anônima)."
   ]
  },
  {
   "cell_type": "code",
   "execution_count": 10,
   "metadata": {},
   "outputs": [
    {
     "name": "stdout",
     "output_type": "stream",
     "text": [
      "Suburb                    NaN\n",
      "Address                   NaN\n",
      "Rooms            2.937997e+00\n",
      "Type                      NaN\n",
      "Price            1.075684e+06\n",
      "Method                    NaN\n",
      "SellerG                   NaN\n",
      "Date                      NaN\n",
      "Distance         1.013778e+01\n",
      "Postcode         3.105302e+03\n",
      "Bedroom2         2.914728e+00\n",
      "Bathroom         1.534242e+00\n",
      "Car              1.610075e+00\n",
      "Landsize         5.584161e+02\n",
      "BuildingArea     1.519676e+02\n",
      "YearBuilt        1.964684e+03\n",
      "CouncilArea               NaN\n",
      "Lattitude       -3.780920e+01\n",
      "Longtitude       1.449952e+02\n",
      "Regionname                NaN\n",
      "Propertycount    7.454417e+03\n",
      "dtype: float64\n",
      "<class 'pandas.core.series.Series'>\n",
      "True\n"
     ]
    }
   ],
   "source": [
    "def mean_numeric(column):    \n",
    "    column_numeric = pd.to_numeric(column, errors = 'coerce') \n",
    "    # se não puder convertê-lo irá atribuir NaN a todos os elementos da coluna\n",
    "    result = column_numeric.mean()\n",
    "    return result\n",
    "\n",
    "means = data.apply(mean_numeric, axis=0)\n",
    "print(means)\n",
    "print(type(means))\n",
    "print(len(means) == data.shape[1])"
   ]
  },
  {
   "cell_type": "markdown",
   "metadata": {},
   "source": [
    "**Observação:**\n",
    "\n",
    "É importante notar que os métodos que vimos nesta prática, applymap e map, são vetorizados e, portanto, executados de forma muito eficiente. É por isso que sempre os preferiremos em vez dos loops for ou while."
   ]
  },
  {
   "cell_type": "markdown",
   "metadata": {},
   "source": [
    "---\n",
    "\n",
    "## Exercício\n",
    "\n",
    "Vamos construir uma nova coluna (chamada postcode_suburb) nos dados do DataFrame, que é a concatenação do campo Postcode, seguido por \"-\", seguido pelo valor do campo Suburb.\n",
    "\n",
    "Para isso, podemos a função apply ou uma função lambda."
   ]
  },
  {
   "cell_type": "code",
   "execution_count": null,
   "metadata": {},
   "outputs": [],
   "source": []
  }
 ],
 "metadata": {
  "kernelspec": {
   "display_name": "Python 3",
   "language": "python",
   "name": "python3"
  },
  "language_info": {
   "codemirror_mode": {
    "name": "ipython",
    "version": 3
   },
   "file_extension": ".py",
   "mimetype": "text/x-python",
   "name": "python",
   "nbconvert_exporter": "python",
   "pygments_lexer": "ipython3",
   "version": "3.9.6"
  }
 },
 "nbformat": 4,
 "nbformat_minor": 4
}
