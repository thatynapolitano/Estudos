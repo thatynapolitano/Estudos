{
 "cells": [
  {
   "cell_type": "markdown",
   "metadata": {},
   "source": [
    "<img src='letscodebr_cover.jpeg' align='left' width=100%/>"
   ]
  },
  {
   "cell_type": "markdown",
   "metadata": {},
   "source": [
    "# Ada Tech [DS-PY-004] Técnicas de Programação I (PY) Aula 8: Enunciado do Exercício 1."
   ]
  },
  {
   "cell_type": "markdown",
   "metadata": {},
   "source": [
    "Os tópicos que vimos nesta parte são limpeza de dados, expressões regulares, funções lambda e apply.\n",
    "\n",
    "A ideia dessa prática é exercitar os pontos que precisaremos na aula presencial.\n",
    "\n",
    "Usaremos o conjunto de dados das obras do [Met (The Metropolitan Museum of Art)](https://github.com/metmuseum/openaccess/)."
   ]
  },
  {
   "cell_type": "markdown",
   "metadata": {},
   "source": [
    "## Exercício 1\n",
    "Vamos armazenar na variável `data` os dados referentes ao arquivo `../Data/MetObjects_sample.csv` em um `DataFrame` do pandas com a função `read_csv`.\n",
    "\n",
    "Vamos verificar qual o tipo de dado de cada coluna."
   ]
  },
  {
   "cell_type": "code",
   "execution_count": null,
   "metadata": {},
   "outputs": [],
   "source": []
  },
  {
   "cell_type": "markdown",
   "metadata": {},
   "source": [
    "## Exercício 2\n",
    "Quais colunas têm valores nulos? Qual porcentagem de nulos cada um deles tem?"
   ]
  },
  {
   "cell_type": "code",
   "execution_count": null,
   "metadata": {},
   "outputs": [],
   "source": []
  },
  {
   "cell_type": "markdown",
   "metadata": {},
   "source": [
    "## Exercício 3\n",
    "\n",
    "Vamos analisar a coluna `Object Date`.\n",
    "\n",
    "Qual é o formato dos valores neste campo? Que padrões você pode identificar?\n",
    "\n",
    "Dica: lembre-se do método [`value_counts()`](https://pandas.pydata.org/pandas-docs/stable/reference/api/pandas.Series.value_counts.html)"
   ]
  },
  {
   "cell_type": "code",
   "execution_count": null,
   "metadata": {},
   "outputs": [],
   "source": []
  },
  {
   "cell_type": "markdown",
   "metadata": {},
   "source": [
    "## Exercício 4\n",
    "\n",
    "Usando expressões regulares, funções apply e lambda, vamos criar uma nova coluna `ObjectDateClean`, que é do tipo numérico e tem o valor do ano correspondente a cada registro, extraindo-o do campo `ObjectDate`.\n",
    "\n",
    "Quais são as características dos valores dos registros que não verificam nenhum dos padrões definidos?\n",
    "\n",
    "Ajuda: Vamos identificar os padrões e decidir como extrair o ano dos valores dos registros que verificam cada um desses padrões. Então, usando um padrão, vamos usar a estratégia que definimos anteriormente para extrair o valor do ano dos registros que verificam. este padrão."
   ]
  },
  {
   "cell_type": "code",
   "execution_count": 1,
   "metadata": {},
   "outputs": [],
   "source": [
    "import re \n",
    "import numpy as np \n"
   ]
  },
  {
   "cell_type": "code",
   "execution_count": null,
   "metadata": {},
   "outputs": [],
   "source": []
  },
  {
   "cell_type": "markdown",
   "metadata": {},
   "source": [
    "Vejamos o que faltou considerar:\n",
    "* valores que terminam em BC. ou B.C., e marcar esses anos como negativos\n",
    "* considere períodos que são séculos, em vez de anos\n",
    "* excluir o sufixo C.\n",
    "* considerar palavras com erros ortográficos, como \"cenutry\"\n",
    "\n",
    "Se quiser continuar praticando, você pode resolver alguns deles."
   ]
  }
 ],
 "metadata": {
  "kernelspec": {
   "display_name": "Python 3",
   "language": "python",
   "name": "python3"
  },
  "language_info": {
   "codemirror_mode": {
    "name": "ipython",
    "version": 3
   },
   "file_extension": ".py",
   "mimetype": "text/x-python",
   "name": "python",
   "nbconvert_exporter": "python",
   "pygments_lexer": "ipython3",
   "version": "3.9.6"
  }
 },
 "nbformat": 4,
 "nbformat_minor": 4
}
