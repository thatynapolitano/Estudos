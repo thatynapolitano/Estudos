{
 "cells": [
  {
   "cell_type": "markdown",
   "id": "c18ad088-909c-4b5c-b5ac-94afbf6c238b",
   "metadata": {},
   "source": [
    "<img src='letscodebr_cover.jpeg' align='left' width=100%/>"
   ]
  },
  {
   "cell_type": "markdown",
   "id": "2bab8b0d-6488-473e-8d55-c956ddf4bce3",
   "metadata": {},
   "source": [
    "# Ada Tech [DS-PY-004] Técnicas de Programação I (PY) Aula 8: Operações com dados textuais no Pandas."
   ]
  },
  {
   "cell_type": "markdown",
   "id": "e9f11c00",
   "metadata": {},
   "source": [
    "<a id=\"section_intro\"></a> \n",
    "## Introdução\n",
    "\n",
    "Aqui estão as funções que são úteis para trabalhar com dados do tipo string (string) em objetos do tipo DataFrame ou Series."
   ]
  },
  {
   "cell_type": "markdown",
   "id": "c8b9e3fe",
   "metadata": {},
   "source": [
    "## Dataset\n",
    "\n",
    "Para mostrar exemplos de uso dos métodos apresentados, usaremos as colunas Suburb, Address, SellerG, CouncilArea, Regionname do conjunto de dados [melbourne housing snapshot](https://www.kaggle.com/dansbecker/melbourne-housing-snapshot)."
   ]
  },
  {
   "cell_type": "markdown",
   "id": "8b7c78a7",
   "metadata": {},
   "source": [
    "### Trabalho com dados textuais\n",
    "\n",
    "Series e Index fornecem um conjunto de métodos de processamento de sequência de caracteres que facilitam a operação em cada elemento de uma instância.\n",
    "\n",
    "Talvez o mais importante a salientar é que esses métodos excluem automaticamente os valores ausentes NA.\n",
    "\n",
    "Eles são acessados através do atributo ```.str``` e geralmente possuem nomes que correspondem aos métodos em strings que já conhecemos."
   ]
  },
  {
   "cell_type": "code",
   "execution_count": 1,
   "id": "54c25536",
   "metadata": {},
   "outputs": [
    {
     "data": {
      "text/html": [
       "<div>\n",
       "<style scoped>\n",
       "    .dataframe tbody tr th:only-of-type {\n",
       "        vertical-align: middle;\n",
       "    }\n",
       "\n",
       "    .dataframe tbody tr th {\n",
       "        vertical-align: top;\n",
       "    }\n",
       "\n",
       "    .dataframe thead th {\n",
       "        text-align: right;\n",
       "    }\n",
       "</style>\n",
       "<table border=\"1\" class=\"dataframe\">\n",
       "  <thead>\n",
       "    <tr style=\"text-align: right;\">\n",
       "      <th></th>\n",
       "      <th>Suburb</th>\n",
       "      <th>Address</th>\n",
       "      <th>SellerG</th>\n",
       "      <th>CouncilArea</th>\n",
       "      <th>Regionname</th>\n",
       "    </tr>\n",
       "  </thead>\n",
       "  <tbody>\n",
       "    <tr>\n",
       "      <th>0</th>\n",
       "      <td>Abbotsford</td>\n",
       "      <td>85 Turner St</td>\n",
       "      <td>Biggin</td>\n",
       "      <td>Yarra</td>\n",
       "      <td>Northern Metropolitan</td>\n",
       "    </tr>\n",
       "    <tr>\n",
       "      <th>1</th>\n",
       "      <td>Abbotsford</td>\n",
       "      <td>25 Bloomburg St</td>\n",
       "      <td>Biggin</td>\n",
       "      <td>Yarra</td>\n",
       "      <td>Northern Metropolitan</td>\n",
       "    </tr>\n",
       "    <tr>\n",
       "      <th>2</th>\n",
       "      <td>Abbotsford</td>\n",
       "      <td>5 Charles St</td>\n",
       "      <td>Biggin</td>\n",
       "      <td>Yarra</td>\n",
       "      <td>Northern Metropolitan</td>\n",
       "    </tr>\n",
       "  </tbody>\n",
       "</table>\n",
       "</div>"
      ],
      "text/plain": [
       "       Suburb          Address SellerG CouncilArea             Regionname\n",
       "0  Abbotsford     85 Turner St  Biggin       Yarra  Northern Metropolitan\n",
       "1  Abbotsford  25 Bloomburg St  Biggin       Yarra  Northern Metropolitan\n",
       "2  Abbotsford     5 Charles St  Biggin       Yarra  Northern Metropolitan"
      ]
     },
     "execution_count": 1,
     "metadata": {},
     "output_type": "execute_result"
    }
   ],
   "source": [
    "import pandas as pd\n",
    "\n",
    "# local\n",
    "data_location = \"../Data/melb_data.csv\"\n",
    "\n",
    "raw_data = pd.read_csv(data_location)\n",
    "\n",
    "columns = ['Suburb', 'Address', 'SellerG', 'CouncilArea', 'Regionname']\n",
    "\n",
    "data = raw_data[columns]\n",
    "\n",
    "data.head(3)"
   ]
  },
  {
   "cell_type": "markdown",
   "id": "a20ed448",
   "metadata": {},
   "source": [
    "Vamos ver que todos os dados do tipo string de caracteres são representados como ```object```:"
   ]
  },
  {
   "cell_type": "code",
   "execution_count": 2,
   "id": "f1107b5a",
   "metadata": {},
   "outputs": [
    {
     "data": {
      "text/plain": [
       "Suburb         object\n",
       "Address        object\n",
       "SellerG        object\n",
       "CouncilArea    object\n",
       "Regionname     object\n",
       "dtype: object"
      ]
     },
     "execution_count": 2,
     "metadata": {},
     "output_type": "execute_result"
    }
   ],
   "source": [
    "data.dtypes"
   ]
  },
  {
   "cell_type": "markdown",
   "id": "07a629db",
   "metadata": {},
   "source": [
    "Para converter essas colunas para string podemos usar o método\n",
    "```astype```."
   ]
  },
  {
   "cell_type": "code",
   "execution_count": 3,
   "id": "ad8d54e4",
   "metadata": {},
   "outputs": [],
   "source": [
    "data_text = data.astype(\"string\")"
   ]
  },
  {
   "cell_type": "code",
   "execution_count": 4,
   "id": "b9f5963b",
   "metadata": {},
   "outputs": [
    {
     "data": {
      "text/plain": [
       "Suburb         string[python]\n",
       "Address        string[python]\n",
       "SellerG        string[python]\n",
       "CouncilArea    string[python]\n",
       "Regionname     string[python]\n",
       "dtype: object"
      ]
     },
     "execution_count": 4,
     "metadata": {},
     "output_type": "execute_result"
    }
   ],
   "source": [
    "data_text.dtypes"
   ]
  },
  {
   "cell_type": "markdown",
   "id": "7733875f",
   "metadata": {},
   "source": [
    "## Alguns métodos da classe string\n",
    "\n",
    "Aqui estão alguns métodos em [string](https://docs.python.org/3/library/string.html) que são amplamente usados em data wrangling, aplicados em funções lambda."
   ]
  },
  {
   "cell_type": "markdown",
   "id": "eae9d210",
   "metadata": {},
   "source": [
    "### `split`\n",
    "\n",
    "Retorna uma lista de palavras de uma string, [separada](https://docs.python.org/3/library/stdtypes.html#str.split) pelo delimitador passado como um parâmetro."
   ]
  },
  {
   "cell_type": "code",
   "execution_count": 5,
   "id": "8f91b8f5",
   "metadata": {},
   "outputs": [
    {
     "data": {
      "text/plain": [
       "['a', 'b', '  guido', ' asjd', ' kle', ' askl']"
      ]
     },
     "execution_count": 5,
     "metadata": {},
     "output_type": "execute_result"
    }
   ],
   "source": [
    "string = 'a,b,  guido, asjd, kle, askl'\n",
    "separador = ','\n",
    "string_em_partes = string.split(separador)\n",
    "string_em_partes"
   ]
  },
  {
   "cell_type": "markdown",
   "id": "23e4c117",
   "metadata": {},
   "source": [
    "### `strip`\n",
    "\n",
    "Retorna uma cópia de uma string, removendo os caracteres passados como parâmetros do início e do final da string. Se não especificarmos o valor do argumento, [remove](https://docs.python.org/3/library/stdtypes.html#str.strip) os espaços."
   ]
  },
  {
   "cell_type": "code",
   "execution_count": 6,
   "id": "1f214c4a",
   "metadata": {},
   "outputs": [
    {
     "name": "stdout",
     "output_type": "stream",
     "text": [
      "Este é o primeiro exemplo....wow!!!\n",
      "Este este é o segundo exemplo....wow!!!\n",
      "    0000000Este é o segundo exemplo....wow!!!\n"
     ]
    }
   ],
   "source": [
    "texto = \"   Este é o primeiro exemplo....wow!!!   \";\n",
    "texto_sem_espacos = texto.strip()\n",
    "print(texto_sem_espacos)\n",
    "\n",
    "texto1 = \"0000000Este este é o segundo exemplo....wow!!!0000000\";\n",
    "texto1_sem_zeros = texto1.strip('0')\n",
    "print(texto1_sem_zeros)\n",
    "\n",
    "texto2 = \"    0000000Este é o segundo exemplo....wow!!!0000000\";\n",
    "texto2_sem_zeros = texto2.strip('0')\n",
    "print(texto2_sem_zeros)\n"
   ]
  },
  {
   "cell_type": "markdown",
   "id": "340bc7b2",
   "metadata": {},
   "source": [
    "Observe que em texto2 ele não removeu os espaços iniciais, apenas o conjunto de caracteres no argumento."
   ]
  },
  {
   "cell_type": "markdown",
   "id": "7e5cecdb",
   "metadata": {},
   "source": [
    "### `find`\n",
    "\n",
    "Retorna o índice mínimo onde encontramos a substring passada como parâmetro.\n",
    "\n",
    "Caso contrário, se não [encontrar](https://docs.python.org/3/library/stdtypes.html#str.find), retorna -1."
   ]
  },
  {
   "cell_type": "code",
   "execution_count": 7,
   "id": "8b95c373",
   "metadata": {},
   "outputs": [
    {
     "data": {
      "text/plain": [
       "'a,b,  guido, asjd, kle, askl'"
      ]
     },
     "execution_count": 7,
     "metadata": {},
     "output_type": "execute_result"
    }
   ],
   "source": [
    "string"
   ]
  },
  {
   "cell_type": "code",
   "execution_count": 8,
   "id": "b8e9c7a6",
   "metadata": {},
   "outputs": [
    {
     "data": {
      "text/plain": [
       "-1"
      ]
     },
     "execution_count": 8,
     "metadata": {},
     "output_type": "execute_result"
    }
   ],
   "source": [
    "string.find(':')"
   ]
  },
  {
   "cell_type": "code",
   "execution_count": 9,
   "id": "418e8934",
   "metadata": {},
   "outputs": [
    {
     "data": {
      "text/plain": [
       "13"
      ]
     },
     "execution_count": 9,
     "metadata": {},
     "output_type": "execute_result"
    }
   ],
   "source": [
    "string.find('as')"
   ]
  },
  {
   "cell_type": "code",
   "execution_count": 10,
   "id": "be24092f",
   "metadata": {},
   "outputs": [
    {
     "data": {
      "text/plain": [
       "13"
      ]
     },
     "execution_count": 10,
     "metadata": {},
     "output_type": "execute_result"
    }
   ],
   "source": [
    "string.find('asj')"
   ]
  },
  {
   "cell_type": "code",
   "execution_count": 11,
   "id": "ab9e4f4c",
   "metadata": {},
   "outputs": [
    {
     "data": {
      "text/plain": [
       "-1"
      ]
     },
     "execution_count": 11,
     "metadata": {},
     "output_type": "execute_result"
    }
   ],
   "source": [
    "string.find('asp')"
   ]
  },
  {
   "cell_type": "markdown",
   "id": "89b6e8fe",
   "metadata": {},
   "source": [
    "Vamos observar que ele retorna o índice do início da string pesquisada."
   ]
  },
  {
   "cell_type": "markdown",
   "id": "b8a548e5",
   "metadata": {},
   "source": [
    "### `index`\n",
    "\n",
    "É similar a função find, mas retorna uma exceção do tipo `ValueError` quando não encontra o valor para o [índice](https://docs.python.org/3/library/stdtypes.html#str.index) inserido."
   ]
  },
  {
   "cell_type": "code",
   "execution_count": 12,
   "id": "acff24d8",
   "metadata": {},
   "outputs": [
    {
     "data": {
      "text/plain": [
       "1"
      ]
     },
     "execution_count": 12,
     "metadata": {},
     "output_type": "execute_result"
    }
   ],
   "source": [
    "string.index(',')"
   ]
  },
  {
   "cell_type": "code",
   "execution_count": 13,
   "id": "fca2d6fd",
   "metadata": {},
   "outputs": [],
   "source": [
    "#string.index(':')"
   ]
  },
  {
   "cell_type": "markdown",
   "id": "23c60d80",
   "metadata": {},
   "source": [
    "### `count`\n",
    "\n",
    "Retorna a [contagem](https://docs.python.org/3/library/stdtypes.html#str.count) de ocorrências do valor passado como parâmetro."
   ]
  },
  {
   "cell_type": "code",
   "execution_count": 14,
   "id": "0223a3db",
   "metadata": {},
   "outputs": [
    {
     "data": {
      "text/plain": [
       "5"
      ]
     },
     "execution_count": 14,
     "metadata": {},
     "output_type": "execute_result"
    }
   ],
   "source": [
    "string.count(',')"
   ]
  },
  {
   "cell_type": "code",
   "execution_count": 15,
   "id": "700030ad",
   "metadata": {},
   "outputs": [
    {
     "data": {
      "text/plain": [
       "2"
      ]
     },
     "execution_count": 15,
     "metadata": {},
     "output_type": "execute_result"
    }
   ],
   "source": [
    "string.count('as')"
   ]
  },
  {
   "cell_type": "markdown",
   "id": "2062f4df",
   "metadata": {},
   "source": [
    "### `replace`\n",
    "\n",
    "Retorna uma cópia da string com todas as ocorrências do primeiro argumento [substituídas](https://docs.python.org/3/library/stdtypes.html#str.replace) pelo segundo argumento."
   ]
  },
  {
   "cell_type": "code",
   "execution_count": 16,
   "id": "7e5c18b7",
   "metadata": {},
   "outputs": [
    {
     "data": {
      "text/plain": [
       "'a;b;  guido; asjd; kle; askl'"
      ]
     },
     "execution_count": 16,
     "metadata": {},
     "output_type": "execute_result"
    }
   ],
   "source": [
    "string_ponto_e_virgula = string.replace(',',';')\n",
    "string_ponto_e_virgula"
   ]
  },
  {
   "cell_type": "code",
   "execution_count": 17,
   "id": "d891f358",
   "metadata": {},
   "outputs": [
    {
     "data": {
      "text/plain": [
       "'a,b,  guido, qwjd, kle, qwkl'"
      ]
     },
     "execution_count": 17,
     "metadata": {},
     "output_type": "execute_result"
    }
   ],
   "source": [
    "string_qw = string.replace('as', 'qw')\n",
    "string_qw"
   ]
  },
  {
   "cell_type": "markdown",
   "id": "c20c1253",
   "metadata": {},
   "source": [
    "## Dados textuais com `pandas`"
   ]
  },
  {
   "cell_type": "markdown",
   "id": "0da0c736",
   "metadata": {},
   "source": [
    "#### ```lower``` ```upper``` ```len```\n",
    "\n",
    "* lower: converte strings em uma Series/Index para lowercase (minúsculas)\n",
    "\n",
    "* upper: converte strings em uma Series/Index para uppercase\n",
    "\n",
    "* len: retorna o tamanho da string"
   ]
  },
  {
   "cell_type": "code",
   "execution_count": 18,
   "id": "a7695a0e",
   "metadata": {},
   "outputs": [
    {
     "data": {
      "text/plain": [
       "0           abbotsford\n",
       "1           abbotsford\n",
       "2           abbotsford\n",
       "3           abbotsford\n",
       "4           abbotsford\n",
       "             ...      \n",
       "13575    wheelers hill\n",
       "13576     williamstown\n",
       "13577     williamstown\n",
       "13578     williamstown\n",
       "13579       yarraville\n",
       "Name: Suburb, Length: 13580, dtype: object"
      ]
     },
     "execution_count": 18,
     "metadata": {},
     "output_type": "execute_result"
    }
   ],
   "source": [
    "data.Suburb.str.lower()"
   ]
  },
  {
   "cell_type": "code",
   "execution_count": 19,
   "id": "62d33b40",
   "metadata": {},
   "outputs": [
    {
     "data": {
      "text/plain": [
       "0           ABBOTSFORD\n",
       "1           ABBOTSFORD\n",
       "2           ABBOTSFORD\n",
       "3           ABBOTSFORD\n",
       "4           ABBOTSFORD\n",
       "             ...      \n",
       "13575    WHEELERS HILL\n",
       "13576     WILLIAMSTOWN\n",
       "13577     WILLIAMSTOWN\n",
       "13578     WILLIAMSTOWN\n",
       "13579       YARRAVILLE\n",
       "Name: Suburb, Length: 13580, dtype: object"
      ]
     },
     "execution_count": 19,
     "metadata": {},
     "output_type": "execute_result"
    }
   ],
   "source": [
    "data.Suburb.str.upper()"
   ]
  },
  {
   "cell_type": "code",
   "execution_count": 20,
   "id": "4307bb54",
   "metadata": {},
   "outputs": [
    {
     "data": {
      "text/plain": [
       "0        10\n",
       "1        10\n",
       "2        10\n",
       "3        10\n",
       "4        10\n",
       "         ..\n",
       "13575    13\n",
       "13576    12\n",
       "13577    12\n",
       "13578    12\n",
       "13579    10\n",
       "Name: Suburb, Length: 13580, dtype: int64"
      ]
     },
     "execution_count": 20,
     "metadata": {},
     "output_type": "execute_result"
    }
   ],
   "source": [
    "data.Suburb.str.len()"
   ]
  },
  {
   "cell_type": "markdown",
   "id": "52e712d7",
   "metadata": {},
   "source": [
    "**Observe que essas operações respeitam o tipo de dados original da coluna do DataFrame ou em uma Series.**\n",
    "\n",
    "Então, \n",
    "\n",
    "* se Suburb é do tipo object, então a função str.upper() retorna um object\n",
    "\n",
    "* se Suburb é do tipo string, então a função str.upper() retorna uma string\n",
    "\n"
   ]
  },
  {
   "cell_type": "code",
   "execution_count": 21,
   "id": "c3cc8220",
   "metadata": {},
   "outputs": [
    {
     "name": "stdout",
     "output_type": "stream",
     "text": [
      "string\n"
     ]
    },
    {
     "data": {
      "text/plain": [
       "0           abbotsford\n",
       "1           abbotsford\n",
       "2           abbotsford\n",
       "3           abbotsford\n",
       "4           abbotsford\n",
       "             ...      \n",
       "13575    wheelers hill\n",
       "13576     williamstown\n",
       "13577     williamstown\n",
       "13578     williamstown\n",
       "13579       yarraville\n",
       "Name: Suburb, Length: 13580, dtype: string"
      ]
     },
     "execution_count": 21,
     "metadata": {},
     "output_type": "execute_result"
    }
   ],
   "source": [
    "print(data_text.Suburb.str.lower().dtype)\n",
    "data_text.Suburb.str.lower()"
   ]
  },
  {
   "cell_type": "markdown",
   "id": "a6bc6e01",
   "metadata": {},
   "source": [
    "#### ```strip``` ```lstrip``` ```rstrip```\n",
    "\n",
    "* strip: remove os espaços ao redor de uma string (cadeia de caracteres)\n",
    "\n",
    "* lstrip: remove os espaços à esquerda de uma string\n",
    "\n",
    "* rstrip: remove os espaços à direita de uma string"
   ]
  },
  {
   "cell_type": "code",
   "execution_count": 22,
   "id": "9fde4369",
   "metadata": {},
   "outputs": [],
   "source": [
    "names = pd.Series([\" jack\", \"jill \", \" jesse \", \"frank\"])"
   ]
  },
  {
   "cell_type": "code",
   "execution_count": 23,
   "id": "6232e400",
   "metadata": {},
   "outputs": [
    {
     "data": {
      "text/plain": [
       "0     jack\n",
       "1     jill\n",
       "2    jesse\n",
       "3    frank\n",
       "dtype: object"
      ]
     },
     "execution_count": 23,
     "metadata": {},
     "output_type": "execute_result"
    }
   ],
   "source": [
    "names.str.strip()"
   ]
  },
  {
   "cell_type": "code",
   "execution_count": 24,
   "id": "f2d0be55",
   "metadata": {},
   "outputs": [
    {
     "data": {
      "text/plain": [
       "0      jack\n",
       "1     jill \n",
       "2    jesse \n",
       "3     frank\n",
       "dtype: object"
      ]
     },
     "execution_count": 24,
     "metadata": {},
     "output_type": "execute_result"
    }
   ],
   "source": [
    "names.str.lstrip()"
   ]
  },
  {
   "cell_type": "code",
   "execution_count": 25,
   "id": "fbf23ff3",
   "metadata": {},
   "outputs": [
    {
     "data": {
      "text/plain": [
       "0      jack\n",
       "1      jill\n",
       "2     jesse\n",
       "3     frank\n",
       "dtype: object"
      ]
     },
     "execution_count": 25,
     "metadata": {},
     "output_type": "execute_result"
    }
   ],
   "source": [
    "names.str.rstrip()"
   ]
  },
  {
   "cell_type": "markdown",
   "id": "cc47fa0b",
   "metadata": {},
   "source": [
    "#### ```split``` ```replace```\n",
    "\n",
    "* split: retorna um array onde cada elemento é uma substring do original, separada pelo caractere especificado.\n",
    "\n",
    "* replace:  retorna uma sequência de caracteres em que o primeiro parâmetro é substituído pelo segundo. Aceita expressões regulares para definir o padrão a ser substituído.\n"
   ]
  },
  {
   "cell_type": "code",
   "execution_count": 26,
   "id": "6d8126a9",
   "metadata": {},
   "outputs": [
    {
     "data": {
      "text/plain": [
       "0             Northern Metropolitan\n",
       "1             Northern Metropolitan\n",
       "2             Northern Metropolitan\n",
       "3             Northern Metropolitan\n",
       "4             Northern Metropolitan\n",
       "                    ...            \n",
       "13575    South-Eastern Metropolitan\n",
       "13576          Western Metropolitan\n",
       "13577          Western Metropolitan\n",
       "13578          Western Metropolitan\n",
       "13579          Western Metropolitan\n",
       "Name: Regionname, Length: 13580, dtype: object"
      ]
     },
     "execution_count": 26,
     "metadata": {},
     "output_type": "execute_result"
    }
   ],
   "source": [
    "data.Regionname"
   ]
  },
  {
   "cell_type": "code",
   "execution_count": 27,
   "id": "0dc9bef9",
   "metadata": {},
   "outputs": [
    {
     "data": {
      "text/plain": [
       "0             [Northern, Metropolitan]\n",
       "1             [Northern, Metropolitan]\n",
       "2             [Northern, Metropolitan]\n",
       "3             [Northern, Metropolitan]\n",
       "4             [Northern, Metropolitan]\n",
       "                     ...              \n",
       "13575    [South-Eastern, Metropolitan]\n",
       "13576          [Western, Metropolitan]\n",
       "13577          [Western, Metropolitan]\n",
       "13578          [Western, Metropolitan]\n",
       "13579          [Western, Metropolitan]\n",
       "Name: Regionname, Length: 13580, dtype: object"
      ]
     },
     "execution_count": 27,
     "metadata": {},
     "output_type": "execute_result"
    }
   ],
   "source": [
    "data.Regionname.str.split(\" \")"
   ]
  },
  {
   "cell_type": "code",
   "execution_count": 28,
   "id": "1e02ffd2",
   "metadata": {},
   "outputs": [
    {
     "data": {
      "text/plain": [
       "0             Northern\n",
       "1             Northern\n",
       "2             Northern\n",
       "3             Northern\n",
       "4             Northern\n",
       "             ...      \n",
       "13575    South-Eastern\n",
       "13576          Western\n",
       "13577          Western\n",
       "13578          Western\n",
       "13579          Western\n",
       "Name: Regionname, Length: 13580, dtype: object"
      ]
     },
     "execution_count": 28,
     "metadata": {},
     "output_type": "execute_result"
    }
   ],
   "source": [
    "data.Regionname.str.split(\" \").str.get(0)"
   ]
  },
  {
   "cell_type": "code",
   "execution_count": 29,
   "id": "9911ea85",
   "metadata": {},
   "outputs": [
    {
     "data": {
      "text/plain": [
       "0        Metropolitan\n",
       "1        Metropolitan\n",
       "2        Metropolitan\n",
       "3        Metropolitan\n",
       "4        Metropolitan\n",
       "             ...     \n",
       "13575    Metropolitan\n",
       "13576    Metropolitan\n",
       "13577    Metropolitan\n",
       "13578    Metropolitan\n",
       "13579    Metropolitan\n",
       "Name: Regionname, Length: 13580, dtype: object"
      ]
     },
     "execution_count": 29,
     "metadata": {},
     "output_type": "execute_result"
    }
   ],
   "source": [
    "data.Regionname.str.split(\" \").str.get(1)"
   ]
  },
  {
   "cell_type": "code",
   "execution_count": 30,
   "id": "2bc5570a",
   "metadata": {},
   "outputs": [
    {
     "data": {
      "text/plain": [
       "0                   N  Metropolitan\n",
       "1                   N  Metropolitan\n",
       "2                   N  Metropolitan\n",
       "3                   N  Metropolitan\n",
       "4                   N  Metropolitan\n",
       "                    ...            \n",
       "13575    South-Eastern Metropolitan\n",
       "13576          Western Metropolitan\n",
       "13577          Western Metropolitan\n",
       "13578          Western Metropolitan\n",
       "13579          Western Metropolitan\n",
       "Name: Regionname, Length: 13580, dtype: object"
      ]
     },
     "execution_count": 30,
     "metadata": {},
     "output_type": "execute_result"
    }
   ],
   "source": [
    "data.Regionname.str.replace(\"Northern\", \"N \", case=False, regex=False)"
   ]
  },
  {
   "cell_type": "code",
   "execution_count": 31,
   "id": "1d573cf7",
   "metadata": {},
   "outputs": [
    {
     "data": {
      "text/plain": [
       "0             Nort... Metropolitan\n",
       "1             Nort... Metropolitan\n",
       "2             Nort... Metropolitan\n",
       "3             Nort... Metropolitan\n",
       "4             Nort... Metropolitan\n",
       "                   ...            \n",
       "13575    South-Eas... Metropolitan\n",
       "13576          Wes... Metropolitan\n",
       "13577          Wes... Metropolitan\n",
       "13578          Wes... Metropolitan\n",
       "13579          Wes... Metropolitan\n",
       "Name: Regionname, Length: 13580, dtype: object"
      ]
     },
     "execution_count": 31,
     "metadata": {},
     "output_type": "execute_result"
    }
   ],
   "source": [
    "data.Regionname.str.replace(\".ern \", \"... \", case=False, regex=True)"
   ]
  },
  {
   "cell_type": "markdown",
   "id": "b13ceb8c",
   "metadata": {},
   "source": [
    "#### ```extract```\n",
    "\n",
    "extract: retorna um DataFrame ou Series com substrings que correspondem ao padrão especificado.\n",
    "\n",
    "Quando ```expand = True```, retorna um DataFrame\n",
    "\n",
    "Quando ```expand = False```, retorna uma Series"
   ]
  },
  {
   "cell_type": "code",
   "execution_count": 32,
   "id": "c795caab",
   "metadata": {},
   "outputs": [
    {
     "data": {
      "text/html": [
       "<div>\n",
       "<style scoped>\n",
       "    .dataframe tbody tr th:only-of-type {\n",
       "        vertical-align: middle;\n",
       "    }\n",
       "\n",
       "    .dataframe tbody tr th {\n",
       "        vertical-align: top;\n",
       "    }\n",
       "\n",
       "    .dataframe thead th {\n",
       "        text-align: right;\n",
       "    }\n",
       "</style>\n",
       "<table border=\"1\" class=\"dataframe\">\n",
       "  <thead>\n",
       "    <tr style=\"text-align: right;\">\n",
       "      <th></th>\n",
       "      <th>0</th>\n",
       "    </tr>\n",
       "  </thead>\n",
       "  <tbody>\n",
       "    <tr>\n",
       "      <th>0</th>\n",
       "      <td>North</td>\n",
       "    </tr>\n",
       "    <tr>\n",
       "      <th>1</th>\n",
       "      <td>North</td>\n",
       "    </tr>\n",
       "    <tr>\n",
       "      <th>2</th>\n",
       "      <td>North</td>\n",
       "    </tr>\n",
       "    <tr>\n",
       "      <th>3</th>\n",
       "      <td>North</td>\n",
       "    </tr>\n",
       "    <tr>\n",
       "      <th>4</th>\n",
       "      <td>North</td>\n",
       "    </tr>\n",
       "    <tr>\n",
       "      <th>...</th>\n",
       "      <td>...</td>\n",
       "    </tr>\n",
       "    <tr>\n",
       "      <th>13575</th>\n",
       "      <td>South-East</td>\n",
       "    </tr>\n",
       "    <tr>\n",
       "      <th>13576</th>\n",
       "      <td>West</td>\n",
       "    </tr>\n",
       "    <tr>\n",
       "      <th>13577</th>\n",
       "      <td>West</td>\n",
       "    </tr>\n",
       "    <tr>\n",
       "      <th>13578</th>\n",
       "      <td>West</td>\n",
       "    </tr>\n",
       "    <tr>\n",
       "      <th>13579</th>\n",
       "      <td>West</td>\n",
       "    </tr>\n",
       "  </tbody>\n",
       "</table>\n",
       "<p>13580 rows × 1 columns</p>\n",
       "</div>"
      ],
      "text/plain": [
       "                0\n",
       "0           North\n",
       "1           North\n",
       "2           North\n",
       "3           North\n",
       "4           North\n",
       "...           ...\n",
       "13575  South-East\n",
       "13576        West\n",
       "13577        West\n",
       "13578        West\n",
       "13579        West\n",
       "\n",
       "[13580 rows x 1 columns]"
      ]
     },
     "execution_count": 32,
     "metadata": {},
     "output_type": "execute_result"
    }
   ],
   "source": [
    "data.Regionname.str.extract(\"(.*)ern \")"
   ]
  },
  {
   "cell_type": "code",
   "execution_count": 33,
   "id": "a7931f5e",
   "metadata": {},
   "outputs": [
    {
     "data": {
      "text/plain": [
       "pandas.core.frame.DataFrame"
      ]
     },
     "execution_count": 33,
     "metadata": {},
     "output_type": "execute_result"
    }
   ],
   "source": [
    "type(data.Regionname.str.extract(\"(.*)ern \", expand = True))"
   ]
  },
  {
   "cell_type": "code",
   "execution_count": 34,
   "id": "5daf67f0",
   "metadata": {},
   "outputs": [
    {
     "data": {
      "text/html": [
       "<div>\n",
       "<style scoped>\n",
       "    .dataframe tbody tr th:only-of-type {\n",
       "        vertical-align: middle;\n",
       "    }\n",
       "\n",
       "    .dataframe tbody tr th {\n",
       "        vertical-align: top;\n",
       "    }\n",
       "\n",
       "    .dataframe thead th {\n",
       "        text-align: right;\n",
       "    }\n",
       "</style>\n",
       "<table border=\"1\" class=\"dataframe\">\n",
       "  <thead>\n",
       "    <tr style=\"text-align: right;\">\n",
       "      <th></th>\n",
       "      <th>0</th>\n",
       "    </tr>\n",
       "  </thead>\n",
       "  <tbody>\n",
       "    <tr>\n",
       "      <th>0</th>\n",
       "      <td>North</td>\n",
       "    </tr>\n",
       "    <tr>\n",
       "      <th>1</th>\n",
       "      <td>North</td>\n",
       "    </tr>\n",
       "    <tr>\n",
       "      <th>2</th>\n",
       "      <td>North</td>\n",
       "    </tr>\n",
       "    <tr>\n",
       "      <th>3</th>\n",
       "      <td>North</td>\n",
       "    </tr>\n",
       "    <tr>\n",
       "      <th>4</th>\n",
       "      <td>North</td>\n",
       "    </tr>\n",
       "    <tr>\n",
       "      <th>...</th>\n",
       "      <td>...</td>\n",
       "    </tr>\n",
       "    <tr>\n",
       "      <th>13575</th>\n",
       "      <td>South-East</td>\n",
       "    </tr>\n",
       "    <tr>\n",
       "      <th>13576</th>\n",
       "      <td>West</td>\n",
       "    </tr>\n",
       "    <tr>\n",
       "      <th>13577</th>\n",
       "      <td>West</td>\n",
       "    </tr>\n",
       "    <tr>\n",
       "      <th>13578</th>\n",
       "      <td>West</td>\n",
       "    </tr>\n",
       "    <tr>\n",
       "      <th>13579</th>\n",
       "      <td>West</td>\n",
       "    </tr>\n",
       "  </tbody>\n",
       "</table>\n",
       "<p>13580 rows × 1 columns</p>\n",
       "</div>"
      ],
      "text/plain": [
       "                0\n",
       "0           North\n",
       "1           North\n",
       "2           North\n",
       "3           North\n",
       "4           North\n",
       "...           ...\n",
       "13575  South-East\n",
       "13576        West\n",
       "13577        West\n",
       "13578        West\n",
       "13579        West\n",
       "\n",
       "[13580 rows x 1 columns]"
      ]
     },
     "execution_count": 34,
     "metadata": {},
     "output_type": "execute_result"
    }
   ],
   "source": [
    "data.Regionname.str.extract(\"(.*)ern \", expand = True)"
   ]
  },
  {
   "cell_type": "code",
   "execution_count": 35,
   "id": "af54783a",
   "metadata": {},
   "outputs": [
    {
     "data": {
      "text/plain": [
       "pandas.core.series.Series"
      ]
     },
     "execution_count": 35,
     "metadata": {},
     "output_type": "execute_result"
    }
   ],
   "source": [
    "type(data.Regionname.str.extract(\"(.*)ern \", expand = False))"
   ]
  },
  {
   "cell_type": "code",
   "execution_count": 36,
   "id": "ad1b6fe5",
   "metadata": {},
   "outputs": [
    {
     "data": {
      "text/plain": [
       "0             North\n",
       "1             North\n",
       "2             North\n",
       "3             North\n",
       "4             North\n",
       "            ...    \n",
       "13575    South-East\n",
       "13576          West\n",
       "13577          West\n",
       "13578          West\n",
       "13579          West\n",
       "Name: Regionname, Length: 13580, dtype: object"
      ]
     },
     "execution_count": 36,
     "metadata": {},
     "output_type": "execute_result"
    }
   ],
   "source": [
    "data.Regionname.str.extract(\"(.*)ern \", expand = False)"
   ]
  },
  {
   "cell_type": "markdown",
   "id": "10933348",
   "metadata": {},
   "source": [
    "## Referências\n",
    "\n",
    "- [string — Common string operations](https://docs.python.org/3/library/string.html)\n",
    "\n",
    "Text Data\n",
    "\n",
    "- [Working with text data](https://pandas.pydata.org/pandas-docs/stable/user_guide/text.html)\n",
    "\n",
    "Missing Data\n",
    "\n",
    "- [Working with missing data](https://pandas.pydata.org/pandas-docs/stable/user_guide/missing_data.html)"
   ]
  },
  {
   "cell_type": "code",
   "execution_count": null,
   "id": "4361e5c5-8a47-460c-859e-02ecfbcac667",
   "metadata": {},
   "outputs": [],
   "source": []
  }
 ],
 "metadata": {
  "kernelspec": {
   "display_name": "Python 3",
   "language": "python",
   "name": "python3"
  },
  "language_info": {
   "codemirror_mode": {
    "name": "ipython",
    "version": 3
   },
   "file_extension": ".py",
   "mimetype": "text/x-python",
   "name": "python",
   "nbconvert_exporter": "python",
   "pygments_lexer": "ipython3",
   "version": "3.9.6"
  }
 },
 "nbformat": 4,
 "nbformat_minor": 5
}
