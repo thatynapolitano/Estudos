{
 "cells": [
  {
   "cell_type": "markdown",
   "metadata": {},
   "source": [
    "<img src='letscodebr_cover.jpeg' align='left' width=100%/>"
   ]
  },
  {
   "cell_type": "markdown",
   "metadata": {},
   "source": [
    "## Introdução\n",
    "\n",
    "A transformaçao de dados (Data wrangling) é o processo de limpeza e unificação de conjuntos de dados confusos e complexos para facilitar seu acesso, exploração, análise ou modelagem subsequentes. \n",
    "\n",
    "As tarefas envolvidas são\n",
    "* Limpeza de dados\n",
    "* Exclusão de registros duplicados\n",
    "* Transformação de dados\n",
    "* Discretização de variáveis\n",
    "* Detecção e filtro de outliers\n",
    "* Construção de variáveis `dummy`\n",
    "\n",
    "O processo de transformação e mapeamento de dados de um formato de dados \"brutos\" (raw) para outro formato com a intenção de torná-los mais apropriados e valiosos para uma variedade de propósitos posteriores, como análises. O objetivo da transformação de dados é garantir dados úteis e de qualidade. O Pandas fornece métodos para realizar essas tarefas e, neste laboratório, abordaremos alguns desses métodos."
   ]
  },
  {
   "cell_type": "markdown",
   "metadata": {},
   "source": [
    "## Dataset\n",
    "\n",
    "Usaremos um `dataset` com informações do filme que disponibiliza os dados do [MovieLens](https://movielens.org/). Liste de [Datasets da MovieLens](https://grouplens.org/datasets/movielens/)\n",
    "\n",
    "Este [conjunto de dados](http://files.grouplens.org/datasets/movielens/ml-latest-small.zip) é composto por vários arquivos:\n",
    "\n",
    "* `movies.csv`: `movieId`, `title`, `genres`, Em cada registro contém os dados de um filme.\n",
    "\n",
    "* `ratings.csv`: `userId`, `movieId`, `rating`, `timestamp`; Em cada registro tem a classificação dada por um usuário a um filme.\n",
    "\n",
    "* **tags**: `userId`, `movieId`, `tag`, `timestamp`; Em  cada registro possui a tag que um usuário atribuiu a um filme."
   ]
  },
  {
   "cell_type": "markdown",
   "metadata": {},
   "source": [
    "## Imports"
   ]
  },
  {
   "cell_type": "code",
   "execution_count": 1,
   "metadata": {},
   "outputs": [],
   "source": [
    "import pandas as pd\n",
    "import numpy as np"
   ]
  },
  {
   "cell_type": "markdown",
   "metadata": {},
   "source": [
    "## Exercício 1 - Importar dados\n",
    "\n",
    "Vamos ler os dados de filmes, classificações e tags dos arquivos\n",
    "\n",
    "-  '../Data/movies.csv'\n",
    "-  '../Data/ratings.csv'\n",
    "-  '../Data/tags.csv'\n",
    "\n",
    "Com as variáveis:\n",
    "\n",
    "- dados_movies\n",
    "- data_ratings\n",
    "- data_tags\n",
    "\n",
    "Vamos ver quantos registros existem em cada `DataFrame` e quais tipos de dados existem em cada coluna. Vejamos os primeiros registros de cada `DataFrame` para verificar se os dados foram importados corretamente."
   ]
  },
  {
   "cell_type": "code",
   "execution_count": null,
   "metadata": {},
   "outputs": [],
   "source": []
  },
  {
   "cell_type": "markdown",
   "metadata": {},
   "source": [
    "## Exercício 2  - Registros duplicados\n",
    "\n",
    "Estude a aplicação dos métodos [.duplicated()](https://pandas.pydata.org/pandas-docs/stable/reference/api/pandas.DataFrame.duplicated.html) e [.drop_duplicates()](https://pandas.pydata.org/pandas-docs/stable/reference/api/pandas.DataFrame.drop_duplicates.html).\n",
    "\n",
    "\n",
    "**2.a** Vamos ver se há registros duplicados no `DataFrame` `data_tags` considerando apenas as colunas `['movieId']`, `['tag']`, marcando a primeira ocorrência de um valor como não duplicado.\n",
    "\n",
    "**2.b** Vamos usar o método `drop_duplicates` para obter outro `DataFrame` sem os casos duplicados considerando apenas as colunas `['movieId']`, `['tag']`. Vamos usar o método `duplicado` para verificar se o novo `DataFrame` realmente não possui valores duplicados."
   ]
  },
  {
   "cell_type": "code",
   "execution_count": null,
   "metadata": {},
   "outputs": [],
   "source": []
  },
  {
   "cell_type": "markdown",
   "metadata": {},
   "source": [
    "## Exercício 3 - Transformação de dados\n",
    "\n",
    "Vamos construir um dicionário que associe uma pontuação a um rótulo.\n",
    "\n",
    "As tags são:\n",
    "\n",
    "- Ruim: $notas < 3$;\n",
    "\n",
    "- Regular: $3 >= notas < 4$; \n",
    "\n",
    "- Bom: para $notas >= 4$.\n",
    "\n",
    "Vamos usar o método `map` para criar uma nova coluna em data (`rating_label`) que possui os rótulos associados ao valor do campo `rating` para cada registro"
   ]
  },
  {
   "cell_type": "code",
   "execution_count": null,
   "metadata": {},
   "outputs": [],
   "source": []
  },
  {
   "cell_type": "markdown",
   "metadata": {},
   "source": [
    "Nota: esto ya sabíamos resolverlo usando máscaras booleanas"
   ]
  },
  {
   "cell_type": "markdown",
   "metadata": {},
   "source": [
    "## Exercício 4 - Substituir valores\n",
    "\n",
    "Estude a aplicação do método [.replace()](https://pandas.pydata.org/pandas-docs/stable/reference/api/pandas.DataFrame.replace.html).\n",
    "\n",
    "O método `replace` oferece várias maneiras de realizar substituições em uma série de `Pandas`:\n",
    "\n",
    "- Um valor antigo por um novo valor.\n",
    "    \n",
    "- Uma lista de valores antigos para um novo valor.\n",
    "    \n",
    "- Uma lista de valores antigos por uma lista de novos valores.\n",
    "    \n",
    "- Um dicionário que mapeia valores novos e antigos."
   ]
  },
  {
   "cell_type": "markdown",
   "metadata": {},
   "source": [
    "**4.a – Uma lista de valores antigos para um novo valor**\n",
    "\n",
    "Vamos ver quais tags são atribuídas a um único filme.\n",
    "\n",
    "Vamos substituir esse valor por `tag_that_doesn't_work` e eliminar registros duplicados considerando os campos `['userId']`, `['movieId']`, `['tag']`\n",
    "\n",
    "Dica: `value_counts`."
   ]
  },
  {
   "cell_type": "code",
   "execution_count": null,
   "metadata": {},
   "outputs": [],
   "source": []
  },
  {
   "cell_type": "markdown",
   "metadata": {},
   "source": [
    "**4.b – Uma lista de valores antigos por uma lista de novos valores**\n",
    "\n",
    "Vamos substituir cada valor da `tag` pela primeira palavra que a compõe. Para isso, criamos uma série com valores únicos com o valor do campo `tag`.\n",
    "Construímos outra instância de Series em que cada elemento é a primeira palavra do objeto `Series` anterior. \n",
    "\n",
    "Dica: listar compreensões e `.split()`. Usamos `.replace()` para alterar o valor de cada tag para sua primeira palavra."
   ]
  },
  {
   "cell_type": "code",
   "execution_count": null,
   "metadata": {},
   "outputs": [],
   "source": []
  },
  {
   "cell_type": "markdown",
   "metadata": {},
   "source": [
    "**4.c – Um dicionário que mapeia valores novos e antigos**\n",
    "\n",
    "Vamos substituir os valores da `tag`:\n",
    "\n",
    "- \"Al Pacino\" para \"Pacino\"\n",
    "- \"Leonardo DiCaprio\" por \"DiCaprio\"\n",
    "- \"Tom Hanks\" para \"Hanks\"\n",
    "- \"Martin Scorsese\" por \"Scorsese\"\n",
    "\n",
    "Vamos contar quantas vezes aparecem cada um dos valores a serem substituídos e quantos valores de substituição. \n",
    "\n",
    "Dica: Use `value_counts`.\n",
    "\n",
    "Vamos construir um dicionário com este mapeamento e usar o método `replace`.\n",
    "\n",
    "Vamos contar novamente quantas vezes aparece cada um dos valores a serem substituídos e quantos valores de substituição."
   ]
  },
  {
   "cell_type": "code",
   "execution_count": null,
   "metadata": {},
   "outputs": [],
   "source": []
  },
  {
   "cell_type": "markdown",
   "metadata": {},
   "source": [
    "## Exercício 5 - Discretizar variáveis\n",
    "\n",
    "Vamos retornar ao exercício 3 novamente usando o método [.cut()](https://pandas.pydata.org/pandas-docs/stable/reference/api/pandas.cut.html).\n",
    "\n",
    "Definimos os valores de corte:\n",
    "\n",
    "- Ruim: $notas < 3$;\n",
    "\n",
    "- Regular: $3 >= notas < 4$; \n",
    "\n",
    "- Bom: para $notas >= 4$."
   ]
  },
  {
   "cell_type": "code",
   "execution_count": null,
   "metadata": {},
   "outputs": [],
   "source": []
  },
  {
   "cell_type": "markdown",
   "metadata": {},
   "source": [
    "## Exercício 6 - Detectar e filtrar outliers\n",
    "\n",
    "Não existe um critério válido em todos os casos para identificar `outliers`. O critérios de \n",
    "\n",
    "- Maior que o terceiro quartil mais $1,5$ vezes o intervalo interquartil ou \n",
    "- Menor que o primeiro quartil menos $1,5$ vezes o intervalo interquartil (Q3 - Q1) \n",
    "\n",
    "decorrem da distribuição normal. Nesta distribuição, $99,7\\%$ da população está na faixa definida pela média (população) mais menos $3$ vezes o desvio padrão (população).\n",
    "\n",
    "**Queremos ver quais filmes são discrepantes em termos de classificações.**\n",
    "\n",
    "**6.a** Utilizando `data_ratings` eliminamos duplicatas considerando as colunas `['userId']`, `['movieId']` . Fazemos isso para contar os votos de um usuário em um filme apenas uma vez.\n",
    "\n",
    "**6.b** No `DataFrame` obtido na etapa anterior, contamos agrupados por filme. Isso resulta em uma instância de `Series` que atribuímos à variável `movie_votes_count`.\n",
    "\n",
    "**6.c** Vamos calcular os quartis dos valores de `movie_votes_count` e os valores que usaremos como limite para determinar valores discrepantes.\n",
    "\n",
    "Dica: Utilize o método [.quantile()](https://pandas.pydata.org/pandas-docs/stable/reference/api/pandas.DataFrame.quantile.html)\n",
    "    \n",
    "**6.d** Vamos filtrar os dados de `movie_votes_count` excluindo os valores discrepantes.\n",
    "\n",
    "**6.e** Vamos comparar movie_votes_count antes e depois do filtro com:\n",
    "- O método `.describe()`,\n",
    "- boxplots da biblioteca [seaborn](https://seaborn.pydata.org/).\n",
    "\n",
    "**6.f** Adicional: vejamos os títulos dos cinco filmes mais votados que são discrepantes em termos de número de avaliações"
   ]
  },
  {
   "cell_type": "code",
   "execution_count": null,
   "metadata": {},
   "outputs": [],
   "source": []
  },
  {
   "cell_type": "markdown",
   "metadata": {},
   "source": [
    "## Exercício 7 - Variáveis ​​categóricas e dummies\n",
    "\n",
    "**7.a** Usando o método [.get_dummies()](https://pandas.pydata.org/pandas-docs/stable/reference/api/pandas.get_dummies.html) com `drop_first = True` vamos adicionar ao `DataFrame` variáveis ​​fictícias `data_ratings` que representam as categorias `rating_label`.\n",
    "\n",
    "**7.b** Vamos comparar as `dummies` geradas no ponto anterior com aquelas geradas usando `drop_first = False`. Qual é a diferença? Eles representam o mesmo conjunto de valores possíveis?\n",
    "\n",
    "**7.c** Adicional: Altere as categorias exibidas como resultado de `get_dummies` com `drop_first = True`. \n",
    "\n",
    "Dica: Acesse [CategoricalDtype](https://pandas.pydata.org/pandas-docs/stable/user_guide/categorical.html#categoricaldtype) para mais informações sobre variáveis categóricas."
   ]
  },
  {
   "cell_type": "code",
   "execution_count": null,
   "metadata": {},
   "outputs": [],
   "source": []
  },
  {
   "cell_type": "markdown",
   "metadata": {},
   "source": [
    "Nesta segunda solução (**7.b**), temos uma coluna para cada categoria dos valores originais.\n",
    "\n",
    "Os valores representados são exatamente iguais aos da coluna original (como na solução **7.a**), mas uma das colunas é redundante porque seu valor pode ser determinado com base nos valores das outras duas.\n",
    "\n",
    "As duas soluções representam todas as categorias possíveis da variável original.\n",
    "\n",
    "Observemos que os valores $(0, 0, 0), (0, 1, 1), (1, 1, 0), (1, 0, 1), (1, 1)$ não representam uma categoria em a variável original."
   ]
  },
  {
   "cell_type": "code",
   "execution_count": null,
   "metadata": {},
   "outputs": [],
   "source": []
  }
 ],
 "metadata": {
  "kernelspec": {
   "display_name": "Python 3",
   "language": "python",
   "name": "python3"
  },
  "language_info": {
   "codemirror_mode": {
    "name": "ipython",
    "version": 3
   },
   "file_extension": ".py",
   "mimetype": "text/x-python",
   "name": "python",
   "nbconvert_exporter": "python",
   "pygments_lexer": "ipython3",
   "version": "3.9.6"
  }
 },
 "nbformat": 4,
 "nbformat_minor": 4
}
