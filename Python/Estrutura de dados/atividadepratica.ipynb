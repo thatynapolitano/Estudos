{
 "cells": [
  {
   "cell_type": "markdown",
   "metadata": {},
   "source": [
    "O algoritmo de ordenação por intercalação, ou Merge Sort, usufrui da estratégia de dividir para conquistar. O Merge Sort realiza a ordenação dividindo um conjunto de dados em meta-des iguais e reorganizando essas metades. É um algoritmo que opera de maneira recursiva, dividindo de maneira contínua o conjunto de dados até eles tornarem-se indivisíveis.\n",
    "\n",
    "Abaixo temos o código da função em Python do algoritmo Merge Sort."
   ]
  },
  {
   "cell_type": "code",
   "execution_count": 9,
   "metadata": {},
   "outputs": [],
   "source": [
    "def mergeSort(dados):\n",
    "    if len(dados) > 1:\n",
    "        meio = len(dados)//2\n",
    "        esquerda = dados[:meio]\n",
    "        direita = dados[meio:]\n",
    "        mergeSort(esquerda)\n",
    "        mergeSort(direita)\n",
    "        i = j = k = 0\n",
    "        while i<len(esquerda) and j<len(direita):\n",
    "            if esquerda[i]<direita[j]:\n",
    "                dados[k]=esquerda[i]\n",
    "                i=i+1\n",
    "            else:\n",
    "                dados[k]=direita[j]\n",
    "                j=j+1\n",
    "            k=k+1\n",
    "        while i<len(esquerda):\n",
    "            dados[k]=esquerda[i]\n",
    "            i=i+1\n",
    "            k=k+1\n",
    "        while j<len(direita):\n",
    "            dados[k]=direita[j]\n",
    "            j=j+1"
   ]
  },
  {
   "cell_type": "markdown",
   "metadata": {},
   "source": [
    "Para chamar a função acima utilizamos o seguinte trecho de código:"
   ]
  },
  {
   "cell_type": "code",
   "execution_count": 10,
   "metadata": {},
   "outputs": [
    {
     "name": "stdout",
     "output_type": "stream",
     "text": [
      "[17, 26, 31, 44, 54, 55, 77, 93]\n"
     ]
    }
   ],
   "source": [
    "dados = [54, 26, 93, 17, 77, 31, 44, 55]\n",
    "mergeSort(dados)\n",
    "print(dados) "
   ]
  },
  {
   "cell_type": "markdown",
   "metadata": {},
   "source": [
    "Onde “dados” é o vetor de entrada da função.\n",
    "\n",
    "Reescreva a função “mergeSort” de forma que ela realize a ordenação dos elementos do maior para o menor elemento. Por exemplo:\n",
    "\n",
    "Para a entrada: [54, 26, 93, 17, 77, 31, 44, 55]\n",
    "A saída deve ser: [93, 77, 55, 54, 44, 31, 26, 17]\n",
    "\n",
    "Além de reescrever a função, você estudante deve comentar todas as linhas de código, explicando o que está sendo realizado. Não se esqueça de testar o código e anexar a print do terminal no documento de entrega. "
   ]
  },
  {
   "cell_type": "code",
   "execution_count": 4,
   "metadata": {},
   "outputs": [
    {
     "name": "stdout",
     "output_type": "stream",
     "text": [
      "[93, 77, 55, 54, 44, 31, 26, 17]\n"
     ]
    }
   ],
   "source": [
    "def mergeSort(dados): # Defino aqui a minha função mergeSort que recebe uma lista de dados como argumento\n",
    "    if len(dados) > 1: # Verifico se o tamanho da lista é maior que 1 \n",
    "        meio = len(dados)//2 # Defino uma variável meio como a divisão da minha lista pela metade\n",
    "        esquerda = dados[:meio] # Divido a minha lista em uma metade: esquerda -> contém o elemento do meio aos primeiros elementos da lista\n",
    "        direita = dados[meio:] # Divido a minha lista em outra metade: direita -> contém o elemento do meio aos últimos elementos da lista\n",
    "        mergeSort(esquerda) # Recursão da função mergeSort para ordenar a sublista da \"esquerda\"\n",
    "        mergeSort(direita) # Recursão da função mergeSort para ordenar a sublista da \"direita\"\n",
    "        i = j = k = 0 # Variáveis de controle para iterar pelas listas \"esquerda\", \"direita\" e \"dados\"\n",
    "        while i<len(esquerda) and j<len(direita): # Loop que executa enquanto houver elementos nas listas \"esquerda\" e \"direita\"\n",
    "            if esquerda[i]>direita[j]: # Verifico se o elemento da esquerda é maior que o da direita\n",
    "                dados[k]=esquerda[i] # Se a condição anterior for verdade, o elemento maior é colocado na posição atual da lista \"dados\" e o índice i é incrementado para apontar para o próximo item da lista \"esquerda\"\n",
    "                i=i+1 # Incremento do i, para passar para o próximo elemento da lista \"esquerda\"\n",
    "            else: # Se a condição for falsa\n",
    "                dados[k]=direita[j] # O elemento maior que será o da direita, é colocado na posição atual da lista \"dados\"\n",
    "                j=j+1 # O índice j é incrementado para apontar para o próximo item da lista \"direita\"\n",
    "            k=k+1 # O índice k é incrementado para assim avançar para o próximo item da lista \"dados\"\n",
    "        while i<len(esquerda): # Enquanto um elemento da lista \"esquerda\" restar \n",
    "            dados[k]=esquerda[i] # O item da lista \"esquerda\" será copiado para a lista \"dados\"\n",
    "            i=i+1 # Passa por cada elemento da lista \"esquerda\" pelo incremento\n",
    "            k=k+1 # Passa por cada elemento da lista \"dados\" pelo incremento\n",
    "        while j<len(direita): # Enquanto um elemento da lista \"direita\" restar \n",
    "            dados[k]=direita[j] # O item da lista \"direita\" será copiado para a lista \"dados\"\n",
    "            j=j+1 # Passa por cada elemento da lista \"direita\" pelo incremento\n",
    "            \n",
    "dados = [54, 26, 93, 17, 77, 31, 44, 55] # Declaro a minha lista de dados\n",
    "mergeSort(dados) # Chamo a função e passo como parâmetro a lista que quero ordenar\n",
    "print(dados) # Imprimo o resultado"
   ]
  }
 ],
 "metadata": {
  "kernelspec": {
   "display_name": "Python 3",
   "language": "python",
   "name": "python3"
  },
  "language_info": {
   "codemirror_mode": {
    "name": "ipython",
    "version": 3
   },
   "file_extension": ".py",
   "mimetype": "text/x-python",
   "name": "python",
   "nbconvert_exporter": "python",
   "pygments_lexer": "ipython3",
   "version": "3.12.0"
  }
 },
 "nbformat": 4,
 "nbformat_minor": 2
}
