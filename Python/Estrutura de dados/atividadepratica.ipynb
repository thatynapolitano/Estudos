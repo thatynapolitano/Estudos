{
 "cells": [
  {
   "cell_type": "markdown",
   "metadata": {},
   "source": [
    "## Exercício 1\n",
    "O algoritmo de ordenação por intercalação, ou Merge Sort, usufrui da estratégia de dividir para conquistar. O Merge Sort realiza a ordenação dividindo um conjunto de dados em meta-des iguais e reorganizando essas metades. É um algoritmo que opera de maneira recursiva, dividindo de maneira contínua o conjunto de dados até eles tornarem-se indivisíveis.\n",
    "\n",
    "Abaixo temos o código da função em Python do algoritmo Merge Sort."
   ]
  },
  {
   "cell_type": "code",
   "execution_count": 22,
   "metadata": {},
   "outputs": [],
   "source": [
    "def mergeSort(dados):\n",
    "    if len(dados) > 1:\n",
    "        meio = len(dados)//2\n",
    "        esquerda = dados[:meio]\n",
    "        direita = dados[meio:]\n",
    "        mergeSort(esquerda)\n",
    "        mergeSort(direita)\n",
    "        i = j = k = 0\n",
    "        while i<len(esquerda) and j<len(direita):\n",
    "            if esquerda[i]<direita[j]:\n",
    "                dados[k]=esquerda[i]\n",
    "                i=i+1\n",
    "            else:\n",
    "                dados[k]=direita[j]\n",
    "                j=j+1\n",
    "            k=k+1\n",
    "        while i<len(esquerda):\n",
    "            dados[k]=esquerda[i]\n",
    "            i=i+1\n",
    "            k=k+1\n",
    "        while j<len(direita):\n",
    "            dados[k]=direita[j]\n",
    "            j=j+1"
   ]
  },
  {
   "cell_type": "markdown",
   "metadata": {},
   "source": [
    "Para chamar a função acima utilizamos o seguinte trecho de código:"
   ]
  },
  {
   "cell_type": "code",
   "execution_count": 23,
   "metadata": {},
   "outputs": [
    {
     "name": "stdout",
     "output_type": "stream",
     "text": [
      "[17, 26, 31, 44, 54, 55, 77, 93]\n"
     ]
    }
   ],
   "source": [
    "dados = [54, 26, 93, 17, 77, 31, 44, 55]\n",
    "mergeSort(dados)\n",
    "print(dados) "
   ]
  },
  {
   "cell_type": "markdown",
   "metadata": {},
   "source": [
    "Onde “dados” é o vetor de entrada da função.\n",
    "\n",
    "Reescreva a função “mergeSort” de forma que ela realize a ordenação dos elementos do maior para o menor elemento. Por exemplo:\n",
    "\n",
    "Para a entrada: [54, 26, 93, 17, 77, 31, 44, 55]\n",
    "A saída deve ser: [93, 77, 55, 54, 44, 31, 26, 17]\n",
    "\n",
    "Além de reescrever a função, você estudante deve comentar todas as linhas de código, explicando o que está sendo realizado. Não se esqueça de testar o código e anexar a print do terminal no documento de entrega. "
   ]
  },
  {
   "cell_type": "code",
   "execution_count": 24,
   "metadata": {},
   "outputs": [
    {
     "name": "stdout",
     "output_type": "stream",
     "text": [
      "[93, 77, 55, 54, 44, 31, 26, 17]\n"
     ]
    }
   ],
   "source": [
    "def mergeSort(dados): # Defino aqui a minha função mergeSort que recebe uma lista de dados como argumento\n",
    "    if len(dados) > 1: # Verifico se o tamanho da lista é maior que 1 \n",
    "        meio = len(dados)//2 # Defino uma variável meio como a divisão da minha lista pela metade\n",
    "        esquerda = dados[:meio] # Divido a minha lista em uma metade: esquerda -> contém o elemento do meio aos primeiros elementos da lista\n",
    "        direita = dados[meio:] # Divido a minha lista em outra metade: direita -> contém o elemento do meio aos últimos elementos da lista\n",
    "        mergeSort(esquerda) # Recursão da função mergeSort para ordenar a sublista da \"esquerda\"\n",
    "        mergeSort(direita) # Recursão da função mergeSort para ordenar a sublista da \"direita\"\n",
    "        i = j = k = 0 # Variáveis de controle para iterar pelas listas \"esquerda\", \"direita\" e \"dados\"\n",
    "        while i<len(esquerda) and j<len(direita): # Loop que executa enquanto houver elementos nas listas \"esquerda\" e \"direita\"\n",
    "            if esquerda[i]>direita[j]: # Verifico se o elemento da esquerda é maior que o da direita (AQUI CONSIGO ORDENAR DO MAIOR PARA O MENOR ELEMENTO)\n",
    "                dados[k]=esquerda[i] # Se a condição anterior for verdade, o elemento maior é colocado na posição atual da lista \"dados\" e o índice i é incrementado para apontar para o próximo item da lista \"esquerda\"\n",
    "                i=i+1 # Incremento do i, para passar para o próximo elemento da lista \"esquerda\"\n",
    "            else: # Se a condição for falsa\n",
    "                dados[k]=direita[j] # O elemento maior que será o da direita, é colocado na posição atual da lista \"dados\"\n",
    "                j=j+1 # O índice j é incrementado para apontar para o próximo item da lista \"direita\"D\n",
    "            k=k+1 # O índice k é incrementado para assim avançar para o próximo item da lista \"dados\"\n",
    "        while i<len(esquerda): # Enquanto um elemento da lista \"esquerda\" restar \n",
    "            dados[k]=esquerda[i] # O item da lista \"esquerda\" será copiado para a lista \"dados\"\n",
    "            i=i+1 # Passa por cada elemento da lista \"esquerda\" pelo incremento\n",
    "            k=k+1 # Passa por cada elemento da lista \"dados\" pelo incremento\n",
    "        while j<len(direita): # Enquanto um elemento da lista \"direita\" restar \n",
    "            dados[k]=direita[j] # O item da lista \"direita\" será copiado para a lista \"dados\"\n",
    "            j=j+1 # Passa por cada elemento da lista \"direita\" pelo incremento\n",
    "            \n",
    "dados = [54, 26, 93, 17, 77, 31, 44, 55] # Declaro a minha lista de dados\n",
    "mergeSort(dados) # Chamo a função e passo como parâmetro a lista que quero ordenar\n",
    "print(dados) # Imprimo o resultado"
   ]
  },
  {
   "cell_type": "markdown",
   "metadata": {},
   "source": [
    "## Exercício 2 \n",
    "\n",
    "Você e seus amigos decidiram desenvolver um jogo de cartas em linguagem python, e você\n",
    "ficou encarregado de desenvolver as funções: embaralhaCartas e compraCarta.\n",
    "As 52 cartas do baralho estão na lista de string abaixo:\n"
   ]
  },
  {
   "cell_type": "code",
   "execution_count": 25,
   "metadata": {},
   "outputs": [],
   "source": [
    "\n",
    "baralho = [\"A-Copas\",\"A-Paus\",\"A-Espadas\",\"A-Ouros\",\n",
    " \"2-Copas\",\"2-Paus\",\"2-Espadas\",\"2-Ouros\",\n",
    " \"3-Copas\",\"3-Paus\",\"3-Espadas\",\"3-Ouros\",\n",
    " \"4-Copas\",\"4-Paus\",\"4-Espadas\",\"4-Ouros\",\n",
    " \"5-Copas\",\"5-Paus\",\"5-Espadas\",\"5-Ouros\",\n",
    " \"6-Copas\",\"6-Paus\",\"6-Espadas\",\"6-Ouros\",\n",
    " \"7-Copas\",\"7-Paus\",\"7-Espadas\",\"7-Ouros\",\n",
    " \"8-Copas\",\"8-Paus\",\"8-Espadas\",\"8-Ouros\",\n",
    " \"9-Copas\",\"9-Paus\",\"9-Espadas\",\"9-Ouros\",\n",
    " \"10-Copas\",\"10-Paus\",\"10-Espadas\",\"10-Ouros\",\n",
    " \"J-Copas\",\"J-Paus\",\"J-Espadas\",\"J-Ouros\",\n",
    " \"Q-Copas\",\"Q-Paus\",\"Q-Espadas\",\"Q-Ouros\",\n",
    " \"K-Copas\",\"K-Paus\",\"K-Espadas\",\"K-Ouros\"] \n"
   ]
  },
  {
   "cell_type": "markdown",
   "metadata": {},
   "source": [
    "A função “embaralhaCartas”, deve receber a lista “baralho” e retornar uma pilha de cartas, a\n",
    "qual será utilizada pela função “compraCartas”. A função “compraCartas” vai receber a pilha\n",
    "de cartas e retirar a carta do topo da pilha, e imprimindo a mesma na tela.\n",
    "\n",
    "\n",
    "Vale lembrar que a cada vez que o código rodar, novas três cartas serão apresentadas\n",
    "devido a função “embaralhaCartas”. Você estudante deve comentar todas as linhas de\n",
    "código, explicando o que está sendo realizado. Não se esqueça de testar o código e anexar\n",
    "a print do terminal no documento de entrega. "
   ]
  },
  {
   "cell_type": "code",
   "execution_count": 32,
   "metadata": {},
   "outputs": [
    {
     "name": "stdout",
     "output_type": "stream",
     "text": [
      "Carta comprada: 3-Espadas\n",
      "Carta comprada: 8-Paus\n",
      "Carta comprada: 10-Espadas\n"
     ]
    }
   ],
   "source": [
    "import random\n",
    "\n",
    "# Definição da classe para representar uma pilha de cartas\n",
    "class Stack: \n",
    "    def __init__(self):\n",
    "        self.items = []  # Inicializa a lista que vai armazenar as cartas da pilha\n",
    "\n",
    "    def isEmpty(self):\n",
    "        return self.items == []  # Verifica se a pilha está vazia\n",
    "\n",
    "    def push(self, item):\n",
    "        self.items.append(item)  # Adiciona um item ao topo da pilha\n",
    "\n",
    "    def pop(self):\n",
    "        return self.items.pop()  # Remove e retorna o item do topo da pilha\n",
    "\n",
    "# Função para embaralhar o baralho e retornar uma pilha de cartas\n",
    "def embaralhaCartas(baralho):\n",
    "    random.shuffle(baralho)  # Embaralha o baralho\n",
    "    pilha_de_cartas = Stack()  # Cria uma nova instância da classe Stack para representar a pilha\n",
    "    for carta in baralho:\n",
    "        pilha_de_cartas.push(carta)  # Adiciona cada carta embaralhada à pilha\n",
    "    return pilha_de_cartas  # Retorna a pilha de cartas\n",
    "\n",
    "# Função para comprar uma carta da pilha e imprimir na tela\n",
    "def compraCartas(pilha_de_cartas):\n",
    "    if not pilha_de_cartas.isEmpty():  # Verifica se a pilha não está vazia\n",
    "        carta_comprada = pilha_de_cartas.pop()  # Remove a carta do topo da pilha\n",
    "        print(\"Carta comprada:\", carta_comprada)  # Imprime a carta comprada\n",
    "    else:\n",
    "        print(\"A pilha de cartas está vazia.\")  # Caso a pilha esteja vazia, imprime uma mensagem de aviso\n",
    "\n",
    "# Exemplo de uso\n",
    "\n",
    "baralho = [\"A-Copas\",\"A-Paus\",\"A-Espadas\",\"A-Ouros\",\n",
    " \"2-Copas\",\"2-Paus\",\"2-Espadas\",\"2-Ouros\",\n",
    " \"3-Copas\",\"3-Paus\",\"3-Espadas\",\"3-Ouros\",\n",
    " \"4-Copas\",\"4-Paus\",\"4-Espadas\",\"4-Ouros\",\n",
    " \"5-Copas\",\"5-Paus\",\"5-Espadas\",\"5-Ouros\",\n",
    " \"6-Copas\",\"6-Paus\",\"6-Espadas\",\"6-Ouros\",\n",
    " \"7-Copas\",\"7-Paus\",\"7-Espadas\",\"7-Ouros\",\n",
    " \"8-Copas\",\"8-Paus\",\"8-Espadas\",\"8-Ouros\",\n",
    " \"9-Copas\",\"9-Paus\",\"9-Espadas\",\"9-Ouros\",\n",
    " \"10-Copas\",\"10-Paus\",\"10-Espadas\",\"10-Ouros\",\n",
    " \"J-Copas\",\"J-Paus\",\"J-Espadas\",\"J-Ouros\",\n",
    " \"Q-Copas\",\"Q-Paus\",\"Q-Espadas\",\"Q-Ouros\",\n",
    " \"K-Copas\",\"K-Paus\",\"K-Espadas\",\"K-Ouros\"] \n",
    "\n",
    "pilha_de_cartas = embaralhaCartas(baralho)  # Embaralha o baralho e obtém a pilha de cartas\n",
    "compraCartas(pilha_de_cartas)  # Compra uma carta da pilha e a imprime na tela\n",
    "compraCartas(pilha_de_cartas)  # Compra outra carta da pilha e a imprime na tela\n",
    "compraCartas(pilha_de_cartas)  # Compra mais uma carta da pilha e a imprime na tela\n"
   ]
  },
  {
   "cell_type": "code",
   "execution_count": 33,
   "metadata": {},
   "outputs": [
    {
     "name": "stdout",
     "output_type": "stream",
     "text": [
      "Carta comprada: 2-Ouros\n",
      "Carta comprada: 2-Espadas\n",
      "Carta comprada: J-Copas\n",
      "Carta comprada: 6-Espadas\n",
      "Carta comprada: Q-Paus\n",
      "Carta comprada: 5-Copas\n"
     ]
    }
   ],
   "source": [
    "# Para testar seu código, utilize o trecho de código abaixo:\n",
    "\n",
    "pilhaCartas = embaralhaCartas(baralho)\n",
    "compraCartas(pilhaCartas)\n",
    "compraCartas(pilhaCartas)\n",
    "compraCartas(pilhaCartas)\n",
    "\n",
    "# Saída esperada:\n",
    "\n",
    "pilhaCartas = embaralhaCartas(baralho)\n",
    "compraCartas(pilhaCartas)\n",
    "compraCartas(pilhaCartas)\n",
    "compraCartas(pilhaCartas) "
   ]
  }
 ],
 "metadata": {
  "kernelspec": {
   "display_name": "Python 3",
   "language": "python",
   "name": "python3"
  },
  "language_info": {
   "codemirror_mode": {
    "name": "ipython",
    "version": 3
   },
   "file_extension": ".py",
   "mimetype": "text/x-python",
   "name": "python",
   "nbconvert_exporter": "python",
   "pygments_lexer": "ipython3",
   "version": "3.12.0"
  }
 },
 "nbformat": 4,
 "nbformat_minor": 2
}
