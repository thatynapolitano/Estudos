{
 "cells": [
  {
   "cell_type": "markdown",
   "metadata": {},
   "source": [
    "### Estrutura de dados - Aula 3\n",
    "\n",
    "### Quick Sort - Algoritmo de ordenação \n",
    "- O Quick Sort, assim como o Merge Sort, utiliza do princípio de Dividir para conquistar!\n",
    "- Porém ele é <b>DIFERENTE</b> do Merge Sort."
   ]
  }
 ],
 "metadata": {
  "language_info": {
   "name": "python"
  }
 },
 "nbformat": 4,
 "nbformat_minor": 2
}
