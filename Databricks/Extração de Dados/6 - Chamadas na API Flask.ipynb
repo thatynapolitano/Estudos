{
 "cells": [
  {
   "cell_type": "markdown",
   "metadata": {
    "application/vnd.databricks.v1+cell": {
     "cellMetadata": {},
     "inputWidgets": {},
     "nuid": "12ef7cb6-2064-4db7-8050-8e7fbce5ec5a",
     "showTitle": false,
     "title": ""
    }
   },
   "source": [
    "# Flask\n",
    "\n",
    "<img src=\"https://flask.palletsprojects.com/en/3.0.x/_images/flask-horizontal.png\" width=700>\n",
    "\n",
    "## Framework\n",
    "Um framework é um conjunto de funções e componentes pré-definidos que disponibilizam uma funcionalidade específica no desenvolvimento de software. Ele é projetado para facilitar o desenvolvimento de aplicativos, fornecendo um conjunto de funcionalidades pré-implementadas e abstrações que os desenvolvedores podem usar para construir suas próprias aplicações de forma mais rápida e eficiente.\n",
    "\n",
    "Exemplos:\n",
    "\n",
    "- Django, Flask e FastAPI para desenvolvimento web em Python\n",
    "- Spark framework para big data\n",
    "- TensorFlow e PyTorch para desenvolvimento de aprendizado de máquina e inteligência artificial.\n",
    "\n",
    "## Flask - \"Web development, one drop at a time”\n",
    "\n",
    "[Flask](https://flask.palletsprojects.com/en/3.0.x/) é um micro-framework para desenvolvimento web em Python. Ele foi projetado para ser simples, flexível e fácil de usar, permitindo aos desenvolvedores criar aplicativos web de forma rápida e eficiente. Algumas características do Flask incluem:\n",
    "\n",
    "    Flask é considerado um micro-framework porque oferece apenas o básico necessário para criar aplicativos web. Isso significa que ele não vem com todos os recursos incluídos, mas em vez disso permite que os desenvolvedores escolham as bibliotecas e ferramentas que desejam usar em seus projetos.\n",
    "\n",
    "Chamamos o Flask de micro-framework porque conseguimos ir adicionando recursos aos poucos (“one drop at a time”), o que nos permite começar pequeno e ir desenvolvendo conforme vão surgindo as necessidades.\n"
   ]
  },
  {
   "cell_type": "code",
   "execution_count": 1,
   "metadata": {
    "application/vnd.databricks.v1+cell": {
     "cellMetadata": {},
     "inputWidgets": {},
     "nuid": "57a6c0db-c077-470b-bf27-43c174f4b261",
     "showTitle": false,
     "title": ""
    }
   },
   "outputs": [
    {
     "name": "stdout",
     "output_type": "stream",
     "text": [
      "Requirement already satisfied: flask in /home/patricia/Documentos/LC/aula_venv/lib/python3.9/site-packages (2.3.3)\n",
      "Requirement already satisfied: Werkzeug>=2.3.7 in /home/patricia/Documentos/LC/aula_venv/lib/python3.9/site-packages (from flask) (3.0.1)\n",
      "Requirement already satisfied: Jinja2>=3.1.2 in /home/patricia/Documentos/LC/aula_venv/lib/python3.9/site-packages (from flask) (3.1.2)\n",
      "Requirement already satisfied: itsdangerous>=2.1.2 in /home/patricia/Documentos/LC/aula_venv/lib/python3.9/site-packages (from flask) (2.1.2)\n",
      "Requirement already satisfied: click>=8.1.3 in /home/patricia/Documentos/LC/aula_venv/lib/python3.9/site-packages (from flask) (8.1.7)\n",
      "Requirement already satisfied: blinker>=1.6.2 in /home/patricia/Documentos/LC/aula_venv/lib/python3.9/site-packages (from flask) (1.7.0)\n",
      "Requirement already satisfied: importlib-metadata>=3.6.0 in /home/patricia/Documentos/LC/aula_venv/lib/python3.9/site-packages (from flask) (5.2.0)\n",
      "Requirement already satisfied: zipp>=0.5 in /home/patricia/Documentos/LC/aula_venv/lib/python3.9/site-packages (from importlib-metadata>=3.6.0->flask) (3.8.1)\n",
      "Requirement already satisfied: MarkupSafe>=2.0 in /home/patricia/Documentos/LC/aula_venv/lib/python3.9/site-packages (from Jinja2>=3.1.2->flask) (2.1.1)\n",
      "Note: you may need to restart the kernel to use updated packages.\n"
     ]
    }
   ],
   "source": [
    "pip install flask"
   ]
  },
  {
   "cell_type": "markdown",
   "metadata": {
    "application/vnd.databricks.v1+cell": {
     "cellMetadata": {},
     "inputWidgets": {},
     "nuid": "f9eaf47b-7dae-4a9b-b9d4-72af70d316b9",
     "showTitle": false,
     "title": ""
    }
   },
   "source": [
    "## GET: Obter os dados"
   ]
  },
  {
   "cell_type": "code",
   "execution_count": 2,
   "metadata": {
    "application/vnd.databricks.v1+cell": {
     "cellMetadata": {},
     "inputWidgets": {},
     "nuid": "1739b5c1-aeb1-4fc3-9df6-6c8a3f5fc48a",
     "showTitle": false,
     "title": ""
    }
   },
   "outputs": [
    {
     "data": {
      "text/plain": [
       "'essa é a homepage'"
      ]
     },
     "execution_count": 2,
     "metadata": {},
     "output_type": "execute_result"
    }
   ],
   "source": [
    "import requests \n",
    "\n",
    "data = requests.get(\"http://127.0.0.1:5000\")\n",
    "data.text"
   ]
  },
  {
   "cell_type": "code",
   "execution_count": 4,
   "metadata": {},
   "outputs": [
    {
     "data": {
      "text/plain": [
       "'\"essa \\\\u00e9 a homepage\"\\n'"
      ]
     },
     "execution_count": 4,
     "metadata": {},
     "output_type": "execute_result"
    }
   ],
   "source": [
    "import requests \n",
    "\n",
    "data = requests.get(\"http://127.0.0.1:5000/homepage\")\n",
    "data.text"
   ]
  },
  {
   "cell_type": "code",
   "execution_count": 5,
   "metadata": {},
   "outputs": [
    {
     "data": {
      "text/plain": [
       "'essa é a homepage'"
      ]
     },
     "execution_count": 5,
     "metadata": {},
     "output_type": "execute_result"
    }
   ],
   "source": [
    "data.json()"
   ]
  },
  {
   "cell_type": "code",
   "execution_count": 6,
   "metadata": {},
   "outputs": [
    {
     "data": {
      "text/plain": [
       "[{'comida_favorita': 'Nhoque', 'id': 1, 'idade': 34, 'nome': 'Renan'},\n",
       " {'comida_favorita': 'Xis', 'id': 2, 'idade': 29, 'nome': 'Erick'}]"
      ]
     },
     "execution_count": 6,
     "metadata": {},
     "output_type": "execute_result"
    }
   ],
   "source": [
    "import requests \n",
    "\n",
    "data = requests.get(\"http://127.0.0.1:5000/alunos\")\n",
    "data.json()"
   ]
  },
  {
   "cell_type": "code",
   "execution_count": 15,
   "metadata": {},
   "outputs": [
    {
     "data": {
      "text/plain": [
       "{'comida_favorita': 'Xis', 'id': 2, 'idade': 29, 'nome': 'Erick'}"
      ]
     },
     "execution_count": 15,
     "metadata": {},
     "output_type": "execute_result"
    }
   ],
   "source": [
    "data = requests.get(\"http://127.0.0.1:5000/aluno/2\")\n",
    "data.json()"
   ]
  },
  {
   "cell_type": "code",
   "execution_count": 16,
   "metadata": {},
   "outputs": [
    {
     "data": {
      "text/plain": [
       "{'message': 'Aluno não encontrados'}"
      ]
     },
     "execution_count": 16,
     "metadata": {},
     "output_type": "execute_result"
    }
   ],
   "source": [
    "data = requests.get(\"http://127.0.0.1:5000/aluno/3\")\n",
    "data.json()"
   ]
  },
  {
   "cell_type": "code",
   "execution_count": 8,
   "metadata": {},
   "outputs": [
    {
     "name": "stdout",
     "output_type": "stream",
     "text": [
      "Encontrei o aluno do id 2: {'id': 2, 'nome': 'Erick', 'idade': 29, 'comida_favorita': 'Xis'}\n"
     ]
    }
   ],
   "source": [
    "dados_alunos = [\n",
    "    {\"id\": 1, \"nome\": \"Renan\", \"idade\": 34, \"comida_favorita\": \"Nhoque\"},\n",
    "    {\"id\": 2, \"nome\": \"Erick\", \"idade\": 29, \"comida_favorita\": \"Xis\"},\n",
    "]\n",
    "\n",
    "id_entrada = 2\n",
    "for aluno in dados_alunos:\n",
    "    if aluno.get(\"id\") == id_entrada:\n",
    "        print(f\"Encontrei o aluno do id {id_entrada}: {aluno}\")\n"
   ]
  },
  {
   "cell_type": "markdown",
   "metadata": {
    "application/vnd.databricks.v1+cell": {
     "cellMetadata": {},
     "inputWidgets": {},
     "nuid": "55c9fde2-bcf3-4e96-981d-f7b0b7bbf198",
     "showTitle": false,
     "title": ""
    }
   },
   "source": [
    "## POST: Adiciona novos dados"
   ]
  },
  {
   "cell_type": "code",
   "execution_count": 19,
   "metadata": {},
   "outputs": [
    {
     "data": {
      "text/plain": [
       "[{'comida_favorita': 'Nhoque', 'id': 1, 'idade': 34, 'nome': 'Renan'},\n",
       " {'comida_favorita': 'Xis', 'id': 2, 'idade': 29, 'nome': 'Erick'}]"
      ]
     },
     "execution_count": 19,
     "metadata": {},
     "output_type": "execute_result"
    }
   ],
   "source": [
    "data = requests.get(\"http://127.0.0.1:5000/aluno\")\n",
    "data.json()"
   ]
  },
  {
   "cell_type": "code",
   "execution_count": 20,
   "metadata": {
    "application/vnd.databricks.v1+cell": {
     "cellMetadata": {},
     "inputWidgets": {},
     "nuid": "e4d2c913-475a-4f87-b723-9e53ed47981e",
     "showTitle": false,
     "title": ""
    }
   },
   "outputs": [
    {
     "data": {
      "text/plain": [
       "[{'comida_favorita': 'Nhoque', 'id': 1, 'idade': 34, 'nome': 'Renan'},\n",
       " {'comida_favorita': 'Xis', 'id': 2, 'idade': 29, 'nome': 'Erick'},\n",
       " {'comida_favorita': 'Lasanha', 'id': 3, 'idade': '23', 'nome': 'Lucinda'}]"
      ]
     },
     "execution_count": 20,
     "metadata": {},
     "output_type": "execute_result"
    }
   ],
   "source": [
    "aluno_novo = {\"id\": 3, \"nome\": \"Lucinda\", \"idade\": \"23\", \"comida_favorita\": \"Lasanha\"}\n",
    "data = requests.post(\"http://127.0.0.1:5000/aluno\", json=aluno_novo)\n",
    "data.json()"
   ]
  },
  {
   "cell_type": "code",
   "execution_count": 21,
   "metadata": {},
   "outputs": [
    {
     "data": {
      "text/plain": [
       "[{'comida_favorita': 'Nhoque', 'id': 1, 'idade': 34, 'nome': 'Renan'},\n",
       " {'comida_favorita': 'Xis', 'id': 2, 'idade': 29, 'nome': 'Erick'},\n",
       " {'comida_favorita': 'Lasanha', 'id': 3, 'idade': '23', 'nome': 'Lucinda'},\n",
       " {'id': 4, 'nome': 'Lucinda'}]"
      ]
     },
     "execution_count": 21,
     "metadata": {},
     "output_type": "execute_result"
    }
   ],
   "source": [
    "aluno_novo = {\"id\": 4, \"nome\": \"Lucinda\"}\n",
    "data = requests.post(\"http://127.0.0.1:5000/aluno\", json=aluno_novo)\n",
    "data.json()"
   ]
  },
  {
   "cell_type": "markdown",
   "metadata": {
    "application/vnd.databricks.v1+cell": {
     "cellMetadata": {},
     "inputWidgets": {},
     "nuid": "8734c866-ad4e-42c8-a635-5d184b3a6ebc",
     "showTitle": false,
     "title": ""
    }
   },
   "source": [
    "### Checa novos dados após o POST"
   ]
  },
  {
   "cell_type": "code",
   "execution_count": 26,
   "metadata": {},
   "outputs": [
    {
     "data": {
      "text/plain": [
       "[{'comida_favorita': 'Nhoque', 'id': 1, 'idade': 34, 'nome': 'Renan'},\n",
       " {'comida_favorita': 'Xis', 'id': 2, 'idade': 29, 'nome': 'Erick'}]"
      ]
     },
     "execution_count": 26,
     "metadata": {},
     "output_type": "execute_result"
    }
   ],
   "source": [
    "data = requests.get(\"http://127.0.0.1:5000/aluno\")\n",
    "data.json()"
   ]
  },
  {
   "cell_type": "code",
   "execution_count": 34,
   "metadata": {},
   "outputs": [
    {
     "data": {
      "text/plain": [
       "[{'comida_favorita': 'Nhoque', 'id': 1, 'idade': 34, 'nome': 'Renan'},\n",
       " {'comida_favorita': 'Xis', 'id': 2, 'idade': 29, 'nome': 'Erick'},\n",
       " {'comida_favorita': 'Parmegiana', 'id': 4, 'idade': '23', 'nome': 'Amelie'},\n",
       " {'id': 4, 'nome': 'Lucinda'}]"
      ]
     },
     "execution_count": 34,
     "metadata": {},
     "output_type": "execute_result"
    }
   ],
   "source": [
    "import json\n",
    "aluno_novo = {\"id\": 4, \"nome\": \"Lucinda\"}\n",
    "headers = {'Content-type': 'application/json'}\n",
    "data = requests.post(\"http://127.0.0.1:5000/aluno\", data=json.dumps(aluno_novo), headers=headers)\n",
    "data.json()"
   ]
  },
  {
   "cell_type": "markdown",
   "metadata": {
    "application/vnd.databricks.v1+cell": {
     "cellMetadata": {},
     "inputWidgets": {},
     "nuid": "8139e280-3ba7-4168-8840-daf3bd0c8a18",
     "showTitle": false,
     "title": ""
    }
   },
   "source": [
    "## PUT: editar dados"
   ]
  },
  {
   "cell_type": "code",
   "execution_count": 27,
   "metadata": {
    "application/vnd.databricks.v1+cell": {
     "cellMetadata": {},
     "inputWidgets": {},
     "nuid": "f596b0b7-eb06-4a66-8105-4bfe61088142",
     "showTitle": false,
     "title": ""
    }
   },
   "outputs": [
    {
     "data": {
      "text/plain": [
       "{'comida_favorita': 'Parmegiana', 'id': 4, 'idade': '23', 'nome': 'Amelie'}"
      ]
     },
     "execution_count": 27,
     "metadata": {},
     "output_type": "execute_result"
    }
   ],
   "source": [
    "aluno_novo = {\"id\": 4, \"nome\": \"Lucinda\"}\n",
    "data = requests.post(\"http://127.0.0.1:5000/aluno\", json=aluno_novo)\n",
    "\n",
    "aluno_alterado = {\"id\": 4, \"nome\": \"Amelie\", \"idade\": \"23\", \"comida_favorita\": \"Parmegiana\"}\n",
    "data = requests.put(\"http://127.0.0.1:5000/aluno/4\", json=aluno_alterado)\n",
    "data.json()"
   ]
  },
  {
   "cell_type": "code",
   "execution_count": 28,
   "metadata": {},
   "outputs": [
    {
     "data": {
      "text/plain": [
       "[{'comida_favorita': 'Nhoque', 'id': 1, 'idade': 34, 'nome': 'Renan'},\n",
       " {'comida_favorita': 'Xis', 'id': 2, 'idade': 29, 'nome': 'Erick'},\n",
       " {'comida_favorita': 'Parmegiana', 'id': 4, 'idade': '23', 'nome': 'Amelie'}]"
      ]
     },
     "execution_count": 28,
     "metadata": {},
     "output_type": "execute_result"
    }
   ],
   "source": [
    "data = requests.get(\"http://127.0.0.1:5000/aluno\")\n",
    "data.json()"
   ]
  },
  {
   "cell_type": "code",
   "execution_count": 37,
   "metadata": {},
   "outputs": [
    {
     "data": {
      "text/plain": [
       "{'comida_favorita': 'Xis', 'id': 2, 'idade': 29, 'nome': 'Lucinda NOVO'}"
      ]
     },
     "execution_count": 37,
     "metadata": {},
     "output_type": "execute_result"
    }
   ],
   "source": [
    "aluno_novo = {\"nome\": \"Lucinda NOVO\"}\n",
    "data = requests.put(\"http://127.0.0.1:5000/aluno/2\", json=aluno_novo)\n",
    "data.json()"
   ]
  },
  {
   "cell_type": "markdown",
   "metadata": {
    "application/vnd.databricks.v1+cell": {
     "cellMetadata": {},
     "inputWidgets": {},
     "nuid": "03b9868a-0b5a-4480-a4a1-b8e0b1509cbe",
     "showTitle": false,
     "title": ""
    }
   },
   "source": [
    "### Checar dados após o PUT"
   ]
  },
  {
   "cell_type": "code",
   "execution_count": 38,
   "metadata": {
    "application/vnd.databricks.v1+cell": {
     "cellMetadata": {},
     "inputWidgets": {},
     "nuid": "984d6f02-84aa-4328-87e3-34910c41df96",
     "showTitle": false,
     "title": ""
    }
   },
   "outputs": [
    {
     "data": {
      "text/plain": [
       "[{'comida_favorita': 'Nhoque', 'id': 1, 'idade': 34, 'nome': 'Renan'},\n",
       " {'comida_favorita': 'Xis', 'id': 2, 'idade': 29, 'nome': 'Lucinda NOVO'},\n",
       " {'comida_favorita': 'Parmegiana',\n",
       "  'id': 4,\n",
       "  'idade': '23',\n",
       "  'nome': 'Lucinda NOVO'},\n",
       " {'id': 4, 'nome': 'Lucinda'}]"
      ]
     },
     "execution_count": 38,
     "metadata": {},
     "output_type": "execute_result"
    }
   ],
   "source": [
    "data = requests.get(\"http://127.0.0.1:5000/aluno\")\n",
    "data.json()"
   ]
  },
  {
   "cell_type": "markdown",
   "metadata": {
    "application/vnd.databricks.v1+cell": {
     "cellMetadata": {},
     "inputWidgets": {},
     "nuid": "40f0fd21-4472-42ae-b24f-58a27ce26bf1",
     "showTitle": false,
     "title": ""
    }
   },
   "source": [
    "## Deleta id"
   ]
  },
  {
   "cell_type": "code",
   "execution_count": 39,
   "metadata": {},
   "outputs": [
    {
     "name": "stdout",
     "output_type": "stream",
     "text": [
      "\n",
      "\n",
      "DEBUG: [{'id': 1, 'nome': 'Renan', 'idade': 34, 'comida_favorita': 'Nhoque'}]\n"
     ]
    }
   ],
   "source": [
    "dados_alunos = [\n",
    "    {\"id\": 1, \"nome\": \"Renan\", \"idade\": 34, \"comida_favorita\": \"Nhoque\"},\n",
    "    {\"id\": 2, \"nome\": \"Erick\", \"idade\": 29, \"comida_favorita\": \"Xis\"},\n",
    "]\n",
    "\n",
    "for aluno in dados_alunos:\n",
    "    if aluno.get(\"id\") == id_entrada:\n",
    "        dados_alunos.remove(aluno)\n",
    "        print(f\"\\n\\nDEBUG: {dados_alunos}\")"
   ]
  },
  {
   "cell_type": "code",
   "execution_count": 40,
   "metadata": {
    "application/vnd.databricks.v1+cell": {
     "cellMetadata": {},
     "inputWidgets": {},
     "nuid": "c42e71f6-6631-49bb-bb62-ace871e57f98",
     "showTitle": false,
     "title": ""
    }
   },
   "outputs": [
    {
     "data": {
      "text/plain": [
       "2"
      ]
     },
     "execution_count": 40,
     "metadata": {},
     "output_type": "execute_result"
    }
   ],
   "source": [
    "id_entrada"
   ]
  },
  {
   "cell_type": "code",
   "execution_count": 42,
   "metadata": {},
   "outputs": [
    {
     "data": {
      "text/plain": [
       "['bb']"
      ]
     },
     "execution_count": 42,
     "metadata": {},
     "output_type": "execute_result"
    }
   ],
   "source": [
    "lista = [\"aa\", \"bb\"]\n",
    "lista.remove(\"aa\")\n",
    "\n",
    "lista"
   ]
  },
  {
   "cell_type": "code",
   "execution_count": 45,
   "metadata": {},
   "outputs": [
    {
     "data": {
      "text/plain": [
       "[{'comida_favorita': 'Nhoque', 'id': 1, 'idade': 34, 'nome': 'Renan'},\n",
       " {'comida_favorita': 'Xis', 'id': 2, 'idade': 29, 'nome': 'Erick'}]"
      ]
     },
     "execution_count": 45,
     "metadata": {},
     "output_type": "execute_result"
    }
   ],
   "source": [
    "data = requests.get(\"http://127.0.0.1:5000/aluno\")\n",
    "data.json()"
   ]
  },
  {
   "cell_type": "code",
   "execution_count": 46,
   "metadata": {},
   "outputs": [
    {
     "data": {
      "text/plain": [
       "[{'comida_favorita': 'Xis', 'id': 2, 'idade': 29, 'nome': 'Erick'}]"
      ]
     },
     "execution_count": 46,
     "metadata": {},
     "output_type": "execute_result"
    }
   ],
   "source": [
    "data = requests.delete(\"http://127.0.0.1:5000/aluno/1\")\n",
    "data.json()"
   ]
  },
  {
   "cell_type": "markdown",
   "metadata": {
    "application/vnd.databricks.v1+cell": {
     "cellMetadata": {},
     "inputWidgets": {},
     "nuid": "ea634d9c-8bb4-4561-95e3-644a5ffd9da3",
     "showTitle": false,
     "title": ""
    }
   },
   "source": [
    "### Checa dados após o DELETE"
   ]
  },
  {
   "cell_type": "code",
   "execution_count": 47,
   "metadata": {
    "application/vnd.databricks.v1+cell": {
     "cellMetadata": {},
     "inputWidgets": {},
     "nuid": "62017069-5ec9-4129-8393-f879611dcd36",
     "showTitle": false,
     "title": ""
    }
   },
   "outputs": [
    {
     "data": {
      "text/plain": [
       "[{'comida_favorita': 'Xis', 'id': 2, 'idade': 29, 'nome': 'Erick'}]"
      ]
     },
     "execution_count": 47,
     "metadata": {},
     "output_type": "execute_result"
    }
   ],
   "source": [
    "data = requests.get(\"http://127.0.0.1:5000/aluno\")\n",
    "data.json()"
   ]
  },
  {
   "cell_type": "markdown",
   "metadata": {},
   "source": [
    "## Gerar arquivo csv\n"
   ]
  },
  {
   "cell_type": "code",
   "execution_count": null,
   "metadata": {},
   "outputs": [],
   "source": [
    "@app.route('/csv')\n",
    "def csv():\n",
    "    data = u'1,2,3\\n4,5,6\\n'\n",
    "    bom = u'\\ufeff'\n",
    "    response = Response(bom + data, content_type='text/csv; charset=utf-16')\n",
    "    return response"
   ]
  },
  {
   "cell_type": "markdown",
   "metadata": {
    "application/vnd.databricks.v1+cell": {
     "cellMetadata": {},
     "inputWidgets": {},
     "nuid": "e3388d0f-c299-4357-8525-dbe5ec208dc6",
     "showTitle": false,
     "title": ""
    }
   },
   "source": [
    "## Ngrok\n",
    "\n",
    "O Ngrok é uma ferramenta que permite criar um túnel seguro para conectar um servidor local a um servidor remoto, tornando possível expor uma aplicação local para a Internet. Essa ferramenta é muito útil para desenvolvedores que precisam testar suas aplicações localmente antes de colocá-las em produção."
   ]
  },
  {
   "cell_type": "code",
   "execution_count": 48,
   "metadata": {
    "application/vnd.databricks.v1+cell": {
     "cellMetadata": {},
     "inputWidgets": {},
     "nuid": "458ac664-aadb-466c-a056-fb1ff4caed8a",
     "showTitle": false,
     "title": ""
    }
   },
   "outputs": [
    {
     "name": "stdout",
     "output_type": "stream",
     "text": [
      "Requirement already satisfied: pyngrok in /home/patricia/Documentos/LC/aula_venv/lib/python3.9/site-packages (7.1.2)\n",
      "Requirement already satisfied: PyYAML>=5.1 in /home/patricia/Documentos/LC/aula_venv/lib/python3.9/site-packages (from pyngrok) (6.0)\n",
      "Note: you may need to restart the kernel to use updated packages.\n"
     ]
    }
   ],
   "source": [
    "pip install pyngrok"
   ]
  },
  {
   "cell_type": "markdown",
   "metadata": {
    "application/vnd.databricks.v1+cell": {
     "cellMetadata": {},
     "inputWidgets": {},
     "nuid": "d6bbff9e-4f21-4476-bf65-a3b4d8f08aac",
     "showTitle": false,
     "title": ""
    }
   },
   "source": [
    "- Acesse o site oficial do [ngrok](https://ngrok.com/) e faça seu cadastro;\n",
    "- Entrar no dashboard https://dashboard.ngrok.com/get-started/your-authtoken\n",
    "- Getting Started > Your AuthToken\n",
    "- Salvar ele no arquivo de configuração"
   ]
  },
  {
   "cell_type": "code",
   "execution_count": 49,
   "metadata": {
    "application/vnd.databricks.v1+cell": {
     "cellMetadata": {},
     "inputWidgets": {},
     "nuid": "651ebab2-f79b-4ae9-bb6e-b3253f549026",
     "showTitle": false,
     "title": ""
    }
   },
   "outputs": [
    {
     "name": "stdout",
     "output_type": "stream",
     "text": [
      "Authtoken saved to configuration file: /home/patricia/.config/ngrok/ngrok.yml\n"
     ]
    }
   ],
   "source": [
    "!ngrok config add-authtoken 2cs1jvzEgu0BbvNewYq7MvrW2G2_6JakwUYXGSHjUDjbEJ5MU"
   ]
  },
  {
   "cell_type": "code",
   "execution_count": 2,
   "metadata": {
    "application/vnd.databricks.v1+cell": {
     "cellMetadata": {},
     "inputWidgets": {},
     "nuid": "2333c9c1-ca4c-40bf-bb21-27d0e14aa243",
     "showTitle": false,
     "title": ""
    }
   },
   "outputs": [
    {
     "name": "stdout",
     "output_type": "stream",
     "text": [
      "Public URL: https://a828-2804-1254-2085-f301-2acc-9f13-3cbd-dccc.ngrok-free.app\n",
      " * Serving Flask app '__main__'\n",
      " * Debug mode: off\n"
     ]
    },
    {
     "name": "stderr",
     "output_type": "stream",
     "text": [
      "WARNING: This is a development server. Do not use it in a production deployment. Use a production WSGI server instead.\n",
      " * Running on http://127.0.0.1:5000\n",
      "Press CTRL+C to quit\n",
      "127.0.0.1 - - [27/Mar/2024 21:50:25] \"GET / HTTP/1.1\" 200 -\n",
      "127.0.0.1 - - [27/Mar/2024 21:50:25] \"GET / HTTP/1.1\" 200 -\n",
      "127.0.0.1 - - [27/Mar/2024 21:50:26] \"GET / HTTP/1.1\" 200 -\n",
      "127.0.0.1 - - [27/Mar/2024 21:50:26] \"GET /favicon.ico HTTP/1.1\" 404 -\n",
      "127.0.0.1 - - [27/Mar/2024 21:50:26] \"GET / HTTP/1.1\" 200 -\n",
      "127.0.0.1 - - [27/Mar/2024 21:50:26] \"GET /favicon.ico HTTP/1.1\" 404 -\n",
      "127.0.0.1 - - [27/Mar/2024 21:50:27] \"GET /favicon.ico HTTP/1.1\" 404 -\n",
      "127.0.0.1 - - [27/Mar/2024 21:50:29] \"GET / HTTP/1.1\" 200 -\n",
      "127.0.0.1 - - [27/Mar/2024 21:50:30] \"GET /favicon.ico HTTP/1.1\" 404 -\n",
      "127.0.0.1 - - [27/Mar/2024 21:50:31] \"GET / HTTP/1.1\" 200 -\n",
      "127.0.0.1 - - [27/Mar/2024 21:50:31] \"GET / HTTP/1.1\" 200 -\n",
      "127.0.0.1 - - [27/Mar/2024 21:50:31] \"GET /favicon.ico HTTP/1.1\" 404 -\n",
      "127.0.0.1 - - [27/Mar/2024 21:50:31] \"GET /favicon.ico HTTP/1.1\" 404 -\n",
      "127.0.0.1 - - [27/Mar/2024 21:50:31] \"GET /favicon.ico HTTP/1.1\" 404 -\n",
      "127.0.0.1 - - [27/Mar/2024 21:50:33] \"GET / HTTP/1.1\" 200 -\n",
      "127.0.0.1 - - [27/Mar/2024 21:50:33] \"GET /favicon.ico HTTP/1.1\" 404 -\n",
      "127.0.0.1 - - [27/Mar/2024 21:50:36] \"GET /alunos HTTP/1.1\" 200 -\n",
      "127.0.0.1 - - [27/Mar/2024 21:50:37] \"GET /favicon.ico HTTP/1.1\" 404 -\n",
      "127.0.0.1 - - [27/Mar/2024 21:50:37] \"GET /favicon.ico HTTP/1.1\" 404 -\n",
      "127.0.0.1 - - [27/Mar/2024 21:50:43] \"GET / HTTP/1.1\" 200 -\n",
      "127.0.0.1 - - [27/Mar/2024 21:50:46] \"GET /homepage HTTP/1.1\" 200 -\n",
      "127.0.0.1 - - [27/Mar/2024 21:50:51] \"GET /homepage HTTP/1.1\" 200 -\n",
      "127.0.0.1 - - [27/Mar/2024 21:50:52] \"GET /ada HTTP/1.1\" 200 -\n",
      "127.0.0.1 - - [27/Mar/2024 21:50:52] \"GET /favicon.ico HTTP/1.1\" 404 -\n",
      "127.0.0.1 - - [27/Mar/2024 21:50:52] \"GET /favicon.ico HTTP/1.1\" 404 -\n",
      "127.0.0.1 - - [27/Mar/2024 21:50:54] \"GET /ada HTTP/1.1\" 200 -\n",
      "127.0.0.1 - - [27/Mar/2024 21:50:55] \"GET /favicon.ico HTTP/1.1\" 404 -\n",
      "127.0.0.1 - - [27/Mar/2024 21:50:55] \"GET /favicon.ico HTTP/1.1\" 404 -\n",
      "127.0.0.1 - - [27/Mar/2024 21:50:56] \"GET /homepage HTTP/1.1\" 200 -\n",
      "127.0.0.1 - - [27/Mar/2024 21:50:56] \"GET /homepage HTTP/1.1\" 200 -\n",
      "127.0.0.1 - - [27/Mar/2024 21:50:57] \"GET /csv HTTP/1.1\" 200 -\n",
      "127.0.0.1 - - [27/Mar/2024 21:50:58] \"GET /csv HTTP/1.1\" 200 -\n",
      "127.0.0.1 - - [27/Mar/2024 21:50:58] \"GET /ada HTTP/1.1\" 200 -\n",
      "127.0.0.1 - - [27/Mar/2024 21:51:02] \"GET /csv HTTP/1.1\" 200 -\n",
      "127.0.0.1 - - [27/Mar/2024 21:51:02] \"GET /ada HTTP/1.1\" 200 -\n",
      "127.0.0.1 - - [27/Mar/2024 21:51:03] \"GET /alunos HTTP/1.1\" 200 -\n",
      "127.0.0.1 - - [27/Mar/2024 21:51:03] \"GET /favicon.ico HTTP/1.1\" 404 -\n",
      "127.0.0.1 - - [27/Mar/2024 21:51:04] \"GET /csv HTTP/1.1\" 200 -\n",
      "127.0.0.1 - - [27/Mar/2024 21:51:04] \"GET /favicon.ico HTTP/1.1\" 404 -\n",
      "127.0.0.1 - - [27/Mar/2024 21:51:09] \"GET /csv HTTP/1.1\" 200 -\n",
      "127.0.0.1 - - [27/Mar/2024 21:51:13] \"GET /csv HTTP/1.1\" 200 -\n",
      "127.0.0.1 - - [27/Mar/2024 21:51:13] \"GET /csv HTTP/1.1\" 200 -\n",
      "127.0.0.1 - - [27/Mar/2024 21:51:14] \"GET /csv HTTP/1.1\" 200 -\n",
      "127.0.0.1 - - [27/Mar/2024 21:51:15] \"GET /csv HTTP/1.1\" 200 -\n",
      "127.0.0.1 - - [27/Mar/2024 21:51:19] \"GET /aluno HTTP/1.1\" 200 -\n",
      "127.0.0.1 - - [27/Mar/2024 21:51:24] \"GET /aluno/2 HTTP/1.1\" 200 -\n"
     ]
    },
    {
     "name": "stdout",
     "output_type": "stream",
     "text": [
      "Encontrei o aluno do id 2: {'id': 2, 'nome': 'Erick', 'idade': 29, 'comida_favorita': 'Xis'}\n"
     ]
    },
    {
     "name": "stderr",
     "output_type": "stream",
     "text": [
      "127.0.0.1 - - [27/Mar/2024 21:51:26] \"GET /alunos HTTP/1.1\" 200 -\n",
      "127.0.0.1 - - [27/Mar/2024 21:51:29] \"GET /aluno HTTP/1.1\" 200 -\n",
      "127.0.0.1 - - [27/Mar/2024 21:51:31] \"GET /aluno/1 HTTP/1.1\" 200 -\n"
     ]
    },
    {
     "name": "stdout",
     "output_type": "stream",
     "text": [
      "Encontrei o aluno do id 1: {'id': 1, 'nome': 'Renan', 'idade': 34, 'comida_favorita': 'Nhoque'}\n"
     ]
    },
    {
     "name": "stderr",
     "output_type": "stream",
     "text": [
      "127.0.0.1 - - [27/Mar/2024 21:51:33] \"GET /csv HTTP/1.1\" 200 -\n",
      "127.0.0.1 - - [27/Mar/2024 21:51:35] \"GET /aluno HTTP/1.1\" 200 -\n",
      "127.0.0.1 - - [27/Mar/2024 21:51:36] \"POST /alunos HTTP/1.1\" 405 -\n",
      "127.0.0.1 - - [27/Mar/2024 21:51:36] \"GET /aluno/2 HTTP/1.1\" 200 -\n"
     ]
    },
    {
     "name": "stdout",
     "output_type": "stream",
     "text": [
      "Encontrei o aluno do id 2: {'id': 2, 'nome': 'Erick', 'idade': 29, 'comida_favorita': 'Xis'}\n"
     ]
    },
    {
     "name": "stderr",
     "output_type": "stream",
     "text": [
      "127.0.0.1 - - [27/Mar/2024 21:51:38] \"POST /alunos HTTP/1.1\" 405 -\n",
      "127.0.0.1 - - [27/Mar/2024 21:51:39] \"POST /alunos HTTP/1.1\" 405 -\n",
      "127.0.0.1 - - [27/Mar/2024 21:51:41] \"POST /alunos HTTP/1.1\" 405 -\n",
      "127.0.0.1 - - [27/Mar/2024 21:51:43] \"POST /alunos HTTP/1.1\" 405 -\n",
      "127.0.0.1 - - [27/Mar/2024 21:51:44] \"POST /alunos HTTP/1.1\" 405 -\n",
      "127.0.0.1 - - [27/Mar/2024 21:51:46] \"POST /alunos HTTP/1.1\" 405 -\n",
      "127.0.0.1 - - [27/Mar/2024 21:51:48] \"POST /alunos HTTP/1.1\" 405 -\n",
      "127.0.0.1 - - [27/Mar/2024 21:51:49] \"POST /alunos HTTP/1.1\" 405 -\n",
      "127.0.0.1 - - [27/Mar/2024 21:51:51] \"POST /alunos HTTP/1.1\" 405 -\n",
      "127.0.0.1 - - [27/Mar/2024 21:51:53] \"POST /alunos HTTP/1.1\" 405 -\n",
      "127.0.0.1 - - [27/Mar/2024 21:51:53] \"GET /aluno HTTP/1.1\" 200 -\n",
      "127.0.0.1 - - [27/Mar/2024 21:51:53] \"GET /aluno HTTP/1.1\" 200 -\n",
      "127.0.0.1 - - [27/Mar/2024 21:51:54] \"POST /alunos HTTP/1.1\" 405 -\n",
      "127.0.0.1 - - [27/Mar/2024 21:51:56] \"POST /alunos HTTP/1.1\" 405 -\n",
      "127.0.0.1 - - [27/Mar/2024 21:51:57] \"POST /alunos HTTP/1.1\" 405 -\n",
      "127.0.0.1 - - [27/Mar/2024 21:51:59] \"POST /alunos HTTP/1.1\" 405 -\n",
      "127.0.0.1 - - [27/Mar/2024 21:52:01] \"POST /alunos HTTP/1.1\" 405 -\n",
      "127.0.0.1 - - [27/Mar/2024 21:52:02] \"POST /alunos HTTP/1.1\" 405 -\n",
      "127.0.0.1 - - [27/Mar/2024 21:52:04] \"POST /alunos HTTP/1.1\" 405 -\n",
      "127.0.0.1 - - [27/Mar/2024 21:52:06] \"POST /alunos HTTP/1.1\" 405 -\n",
      "127.0.0.1 - - [27/Mar/2024 21:52:07] \"POST /alunos HTTP/1.1\" 405 -\n",
      "127.0.0.1 - - [27/Mar/2024 21:52:09] \"POST /alunos HTTP/1.1\" 405 -\n",
      "127.0.0.1 - - [27/Mar/2024 21:52:11] \"POST /alunos HTTP/1.1\" 405 -\n",
      "127.0.0.1 - - [27/Mar/2024 21:52:12] \"POST /alunos HTTP/1.1\" 405 -\n",
      "127.0.0.1 - - [27/Mar/2024 21:52:14] \"POST /alunos HTTP/1.1\" 405 -\n",
      "127.0.0.1 - - [27/Mar/2024 21:52:15] \"POST /alunos HTTP/1.1\" 405 -\n",
      "127.0.0.1 - - [27/Mar/2024 21:52:17] \"POST /alunos HTTP/1.1\" 405 -\n",
      "127.0.0.1 - - [27/Mar/2024 21:52:19] \"POST /alunos HTTP/1.1\" 405 -\n",
      "127.0.0.1 - - [27/Mar/2024 21:52:20] \"POST /alunos HTTP/1.1\" 405 -\n",
      "127.0.0.1 - - [27/Mar/2024 21:52:22] \"POST /alunos HTTP/1.1\" 405 -\n",
      "127.0.0.1 - - [27/Mar/2024 21:52:23] \"POST /alunos HTTP/1.1\" 405 -\n",
      "127.0.0.1 - - [27/Mar/2024 21:52:25] \"POST /alunos HTTP/1.1\" 405 -\n",
      "127.0.0.1 - - [27/Mar/2024 21:52:27] \"POST /alunos HTTP/1.1\" 405 -\n",
      "127.0.0.1 - - [27/Mar/2024 21:52:28] \"POST /alunos HTTP/1.1\" 405 -\n",
      "127.0.0.1 - - [27/Mar/2024 21:52:30] \"POST /alunos HTTP/1.1\" 405 -\n",
      "127.0.0.1 - - [27/Mar/2024 21:52:32] \"POST /alunos HTTP/1.1\" 405 -\n",
      "127.0.0.1 - - [27/Mar/2024 21:52:33] \"POST /alunos HTTP/1.1\" 405 -\n",
      "127.0.0.1 - - [27/Mar/2024 21:52:35] \"GET /alunos HTTP/1.1\" 200 -\n",
      "127.0.0.1 - - [27/Mar/2024 21:52:35] \"POST /alunos HTTP/1.1\" 405 -\n",
      "127.0.0.1 - - [27/Mar/2024 21:52:35] \"GET /favicon.ico HTTP/1.1\" 404 -\n",
      "127.0.0.1 - - [27/Mar/2024 21:52:36] \"GET /favicon.ico HTTP/1.1\" 404 -\n",
      "127.0.0.1 - - [27/Mar/2024 21:52:37] \"POST /alunos HTTP/1.1\" 405 -\n",
      "127.0.0.1 - - [27/Mar/2024 21:52:38] \"GET /alunos HTTP/1.1\" 200 -\n",
      "127.0.0.1 - - [27/Mar/2024 21:52:38] \"POST /alunos HTTP/1.1\" 405 -\n",
      "127.0.0.1 - - [27/Mar/2024 21:52:38] \"GET /favicon.ico HTTP/1.1\" 404 -\n",
      "127.0.0.1 - - [27/Mar/2024 21:52:39] \"GET /favicon.ico HTTP/1.1\" 404 -\n",
      "127.0.0.1 - - [27/Mar/2024 21:52:40] \"POST /alunos HTTP/1.1\" 405 -\n",
      "127.0.0.1 - - [27/Mar/2024 21:52:42] \"POST /alunos HTTP/1.1\" 405 -\n",
      "127.0.0.1 - - [27/Mar/2024 21:52:43] \"POST /alunos HTTP/1.1\" 405 -\n",
      "127.0.0.1 - - [27/Mar/2024 21:52:45] \"GET /alunos HTTP/1.1\" 200 -\n",
      "127.0.0.1 - - [27/Mar/2024 21:52:45] \"POST /alunos HTTP/1.1\" 405 -\n",
      "127.0.0.1 - - [27/Mar/2024 21:52:45] \"GET /favicon.ico HTTP/1.1\" 404 -\n",
      "127.0.0.1 - - [27/Mar/2024 21:52:46] \"GET /favicon.ico HTTP/1.1\" 404 -\n",
      "127.0.0.1 - - [27/Mar/2024 21:52:47] \"POST /alunos HTTP/1.1\" 405 -\n",
      "127.0.0.1 - - [27/Mar/2024 21:52:47] \"GET /aluno HTTP/1.1\" 200 -\n",
      "127.0.0.1 - - [27/Mar/2024 21:52:48] \"GET /favicon.ico HTTP/1.1\" 404 -\n",
      "127.0.0.1 - - [27/Mar/2024 21:52:48] \"POST /alunos HTTP/1.1\" 405 -\n",
      "127.0.0.1 - - [27/Mar/2024 21:52:50] \"POST /alunos HTTP/1.1\" 405 -\n",
      "127.0.0.1 - - [27/Mar/2024 21:52:51] \"POST /aluno HTTP/1.1\" 200 -\n",
      "127.0.0.1 - - [27/Mar/2024 21:52:52] \"POST /alunos HTTP/1.1\" 405 -\n",
      "127.0.0.1 - - [27/Mar/2024 21:52:53] \"POST /alunos HTTP/1.1\" 405 -\n",
      "127.0.0.1 - - [27/Mar/2024 21:52:55] \"POST /alunos HTTP/1.1\" 405 -\n",
      "127.0.0.1 - - [27/Mar/2024 21:52:56] \"GET /aluno HTTP/1.1\" 200 -\n",
      "127.0.0.1 - - [27/Mar/2024 21:52:57] \"POST /alunos HTTP/1.1\" 405 -\n",
      "127.0.0.1 - - [27/Mar/2024 21:52:58] \"POST /alunos HTTP/1.1\" 405 -\n",
      "127.0.0.1 - - [27/Mar/2024 21:53:00] \"POST /alunos HTTP/1.1\" 405 -\n",
      "127.0.0.1 - - [27/Mar/2024 21:53:02] \"POST /alunos HTTP/1.1\" 405 -\n",
      "127.0.0.1 - - [27/Mar/2024 21:53:03] \"POST /alunos HTTP/1.1\" 405 -\n",
      "127.0.0.1 - - [27/Mar/2024 21:53:05] \"POST /alunos HTTP/1.1\" 405 -\n",
      "127.0.0.1 - - [27/Mar/2024 21:53:07] \"POST /alunos HTTP/1.1\" 405 -\n",
      "127.0.0.1 - - [27/Mar/2024 21:53:08] \"POST /alunos HTTP/1.1\" 405 -\n",
      "127.0.0.1 - - [27/Mar/2024 21:53:10] \"POST /alunos HTTP/1.1\" 405 -\n",
      "127.0.0.1 - - [27/Mar/2024 21:53:19] \"GET /aluno HTTP/1.1\" 200 -\n",
      "127.0.0.1 - - [27/Mar/2024 21:53:22] \"GET / HTTP/1.1\" 200 -\n",
      "127.0.0.1 - - [27/Mar/2024 21:53:29] \"POST /alunos HTTP/1.1\" 405 -\n",
      "127.0.0.1 - - [27/Mar/2024 21:53:30] \"POST /alunos HTTP/1.1\" 405 -\n",
      "127.0.0.1 - - [27/Mar/2024 21:53:30] \"GET /homepage HTTP/1.1\" 200 -\n",
      "127.0.0.1 - - [27/Mar/2024 21:53:31] \"GET /aluno HTTP/1.1\" 200 -\n",
      "127.0.0.1 - - [27/Mar/2024 21:53:32] \"POST /alunos HTTP/1.1\" 405 -\n",
      "127.0.0.1 - - [27/Mar/2024 21:53:33] \"POST /alunos HTTP/1.1\" 405 -\n",
      "127.0.0.1 - - [27/Mar/2024 21:53:34] \"GET /aluno HTTP/1.1\" 200 -\n",
      "127.0.0.1 - - [27/Mar/2024 21:53:35] \"POST /alunos HTTP/1.1\" 405 -\n",
      "127.0.0.1 - - [27/Mar/2024 21:53:37] \"POST /alunos HTTP/1.1\" 405 -\n",
      "127.0.0.1 - - [27/Mar/2024 21:53:38] \"POST /alunos HTTP/1.1\" 405 -\n",
      "127.0.0.1 - - [27/Mar/2024 21:53:40] \"POST /alunos HTTP/1.1\" 405 -\n",
      "127.0.0.1 - - [27/Mar/2024 21:53:42] \"POST /alunos HTTP/1.1\" 405 -\n",
      "127.0.0.1 - - [27/Mar/2024 21:53:43] \"POST /aluno HTTP/1.1\" 200 -\n",
      "127.0.0.1 - - [27/Mar/2024 21:53:43] \"POST /alunos HTTP/1.1\" 405 -\n",
      "127.0.0.1 - - [27/Mar/2024 21:53:44] \"POST /aluno HTTP/1.1\" 200 -\n",
      "127.0.0.1 - - [27/Mar/2024 21:53:45] \"POST /alunos HTTP/1.1\" 405 -\n",
      "127.0.0.1 - - [27/Mar/2024 21:53:47] \"POST /alunos HTTP/1.1\" 405 -\n",
      "127.0.0.1 - - [27/Mar/2024 21:53:48] \"POST /alunos HTTP/1.1\" 405 -\n",
      "127.0.0.1 - - [27/Mar/2024 21:53:48] \"GET /homepage HTTP/1.1\" 200 -\n",
      "127.0.0.1 - - [27/Mar/2024 21:53:50] \"GET /aluno HTTP/1.1\" 200 -\n",
      "127.0.0.1 - - [27/Mar/2024 21:53:50] \"POST /alunos HTTP/1.1\" 405 -\n",
      "127.0.0.1 - - [27/Mar/2024 21:53:52] \"POST /alunos HTTP/1.1\" 405 -\n",
      "127.0.0.1 - - [27/Mar/2024 21:53:53] \"POST /alunos HTTP/1.1\" 405 -\n",
      "127.0.0.1 - - [27/Mar/2024 21:53:55] \"POST /alunos HTTP/1.1\" 405 -\n",
      "127.0.0.1 - - [27/Mar/2024 21:53:57] \"POST /aluno HTTP/1.1\" 200 -\n",
      "127.0.0.1 - - [27/Mar/2024 21:53:57] \"POST /alunos HTTP/1.1\" 405 -\n",
      "127.0.0.1 - - [27/Mar/2024 21:53:58] \"POST /alunos HTTP/1.1\" 405 -\n",
      "127.0.0.1 - - [27/Mar/2024 21:54:00] \"POST /alunos HTTP/1.1\" 405 -\n",
      "127.0.0.1 - - [27/Mar/2024 21:54:01] \"POST /alunos HTTP/1.1\" 405 -\n",
      "127.0.0.1 - - [27/Mar/2024 21:54:03] \"POST /alunos HTTP/1.1\" 405 -\n",
      "127.0.0.1 - - [27/Mar/2024 21:54:05] \"POST /aluno HTTP/1.1\" 200 -\n",
      "127.0.0.1 - - [27/Mar/2024 21:54:05] \"POST /alunos HTTP/1.1\" 405 -\n",
      "127.0.0.1 - - [27/Mar/2024 21:54:06] \"GET /ada HTTP/1.1\" 200 -\n",
      "127.0.0.1 - - [27/Mar/2024 21:54:06] \"POST /alunos HTTP/1.1\" 405 -\n",
      "127.0.0.1 - - [27/Mar/2024 21:54:08] \"POST /alunos HTTP/1.1\" 405 -\n",
      "127.0.0.1 - - [27/Mar/2024 21:54:10] \"POST /alunos HTTP/1.1\" 405 -\n",
      "127.0.0.1 - - [27/Mar/2024 21:54:11] \"POST /alunos HTTP/1.1\" 405 -\n",
      "127.0.0.1 - - [27/Mar/2024 21:54:13] \"POST /alunos HTTP/1.1\" 405 -\n",
      "127.0.0.1 - - [27/Mar/2024 21:54:14] \"GET /aluno HTTP/1.1\" 200 -\n",
      "127.0.0.1 - - [27/Mar/2024 21:54:16] \"GET /aluno HTTP/1.1\" 200 -\n",
      "127.0.0.1 - - [27/Mar/2024 21:54:17] \"POST /aluno HTTP/1.1\" 200 -\n",
      "127.0.0.1 - - [27/Mar/2024 21:54:19] \"POST /aluno HTTP/1.1\" 200 -\n",
      "127.0.0.1 - - [27/Mar/2024 21:54:20] \"POST /aluno HTTP/1.1\" 200 -\n",
      "127.0.0.1 - - [27/Mar/2024 21:54:21] \"POST /aluno HTTP/1.1\" 200 -\n",
      "127.0.0.1 - - [27/Mar/2024 21:54:22] \"GET /aluno HTTP/1.1\" 200 -\n",
      "127.0.0.1 - - [27/Mar/2024 21:54:22] \"POST /aluno HTTP/1.1\" 200 -\n",
      "127.0.0.1 - - [27/Mar/2024 21:54:22] \"GET /alunos HTTP/1.1\" 200 -\n",
      "127.0.0.1 - - [27/Mar/2024 21:54:24] \"POST /aluno HTTP/1.1\" 200 -\n",
      "127.0.0.1 - - [27/Mar/2024 21:54:25] \"POST /aluno HTTP/1.1\" 200 -\n",
      "127.0.0.1 - - [27/Mar/2024 21:54:27] \"POST /aluno HTTP/1.1\" 200 -\n",
      "127.0.0.1 - - [27/Mar/2024 21:54:29] \"POST /aluno HTTP/1.1\" 200 -\n",
      "127.0.0.1 - - [27/Mar/2024 21:54:30] \"POST /aluno HTTP/1.1\" 200 -\n",
      "127.0.0.1 - - [27/Mar/2024 21:54:32] \"POST /aluno HTTP/1.1\" 200 -\n",
      "127.0.0.1 - - [27/Mar/2024 21:54:32] \"GET /aluno HTTP/1.1\" 200 -\n",
      "127.0.0.1 - - [27/Mar/2024 21:54:33] \"POST /aluno HTTP/1.1\" 200 -\n",
      "127.0.0.1 - - [27/Mar/2024 21:54:35] \"POST /aluno HTTP/1.1\" 200 -\n",
      "127.0.0.1 - - [27/Mar/2024 21:54:37] \"POST /aluno HTTP/1.1\" 200 -\n",
      "127.0.0.1 - - [27/Mar/2024 21:54:37] \"GET /aluno HTTP/1.1\" 200 -\n",
      "127.0.0.1 - - [27/Mar/2024 21:54:39] \"POST /aluno HTTP/1.1\" 200 -\n",
      "127.0.0.1 - - [27/Mar/2024 21:54:40] \"POST /aluno HTTP/1.1\" 200 -\n",
      "127.0.0.1 - - [27/Mar/2024 21:54:42] \"POST /aluno HTTP/1.1\" 200 -\n",
      "127.0.0.1 - - [27/Mar/2024 21:54:43] \"POST /aluno HTTP/1.1\" 200 -\n",
      "127.0.0.1 - - [27/Mar/2024 21:54:45] \"POST /aluno HTTP/1.1\" 200 -\n",
      "127.0.0.1 - - [27/Mar/2024 21:54:47] \"POST /aluno HTTP/1.1\" 200 -\n",
      "127.0.0.1 - - [27/Mar/2024 21:54:48] \"POST /aluno HTTP/1.1\" 200 -\n",
      "127.0.0.1 - - [27/Mar/2024 21:54:48] \"POST /aluno HTTP/1.1\" 200 -\n",
      "127.0.0.1 - - [27/Mar/2024 21:54:50] \"POST /aluno HTTP/1.1\" 200 -\n",
      "127.0.0.1 - - [27/Mar/2024 21:54:50] \"GET /aluno HTTP/1.1\" 200 -\n",
      "127.0.0.1 - - [27/Mar/2024 21:54:51] \"GET /alunos HTTP/1.1\" 200 -\n",
      "127.0.0.1 - - [27/Mar/2024 21:54:52] \"POST /aluno HTTP/1.1\" 200 -\n",
      "127.0.0.1 - - [27/Mar/2024 21:54:53] \"POST /aluno HTTP/1.1\" 200 -\n",
      "127.0.0.1 - - [27/Mar/2024 21:54:55] \"POST /aluno HTTP/1.1\" 200 -\n",
      "127.0.0.1 - - [27/Mar/2024 21:54:56] \"POST /aluno HTTP/1.1\" 200 -\n",
      "127.0.0.1 - - [27/Mar/2024 21:54:57] \"GET /aluno HTTP/1.1\" 200 -\n",
      "127.0.0.1 - - [27/Mar/2024 21:54:58] \"POST /aluno HTTP/1.1\" 200 -\n",
      "127.0.0.1 - - [27/Mar/2024 21:54:58] \"PUT /aluno HTTP/1.1\" 405 -\n",
      "127.0.0.1 - - [27/Mar/2024 21:55:00] \"POST /aluno HTTP/1.1\" 200 -\n",
      "127.0.0.1 - - [27/Mar/2024 21:55:01] \"POST /aluno HTTP/1.1\" 200 -\n",
      "127.0.0.1 - - [27/Mar/2024 21:55:03] \"POST /aluno HTTP/1.1\" 200 -\n",
      "127.0.0.1 - - [27/Mar/2024 21:55:05] \"POST /aluno HTTP/1.1\" 200 -\n",
      "127.0.0.1 - - [27/Mar/2024 21:55:06] \"POST /aluno HTTP/1.1\" 200 -\n",
      "127.0.0.1 - - [27/Mar/2024 21:55:07] \"GET /aluno HTTP/1.1\" 200 -\n",
      "127.0.0.1 - - [27/Mar/2024 21:55:08] \"POST /aluno HTTP/1.1\" 200 -\n",
      "127.0.0.1 - - [27/Mar/2024 21:55:09] \"POST /aluno HTTP/1.1\" 200 -\n",
      "127.0.0.1 - - [27/Mar/2024 21:55:11] \"POST /aluno HTTP/1.1\" 200 -\n",
      "127.0.0.1 - - [27/Mar/2024 21:55:13] \"POST /aluno HTTP/1.1\" 200 -\n",
      "127.0.0.1 - - [27/Mar/2024 21:55:15] \"POST /aluno HTTP/1.1\" 200 -\n",
      "127.0.0.1 - - [27/Mar/2024 21:55:16] \"POST /aluno HTTP/1.1\" 200 -\n",
      "127.0.0.1 - - [27/Mar/2024 21:55:18] \"POST /aluno HTTP/1.1\" 200 -\n",
      "127.0.0.1 - - [27/Mar/2024 21:55:19] \"POST /aluno HTTP/1.1\" 200 -\n",
      "127.0.0.1 - - [27/Mar/2024 21:55:20] \"GET /aluno HTTP/1.1\" 200 -\n",
      "127.0.0.1 - - [27/Mar/2024 21:55:21] \"POST /aluno HTTP/1.1\" 200 -\n",
      "127.0.0.1 - - [27/Mar/2024 21:55:21] \"GET /csv HTTP/1.1\" 200 -\n",
      "127.0.0.1 - - [27/Mar/2024 21:55:22] \"POST /aluno HTTP/1.1\" 200 -\n",
      "127.0.0.1 - - [27/Mar/2024 21:55:23] \"GET /aluno HTTP/1.1\" 200 -\n",
      "127.0.0.1 - - [27/Mar/2024 21:55:24] \"POST /aluno HTTP/1.1\" 200 -\n",
      "127.0.0.1 - - [27/Mar/2024 21:55:25] \"GET /aluno HTTP/1.1\" 200 -\n",
      "127.0.0.1 - - [27/Mar/2024 21:55:26] \"POST /aluno HTTP/1.1\" 200 -\n",
      "127.0.0.1 - - [27/Mar/2024 21:55:27] \"POST /aluno HTTP/1.1\" 200 -\n",
      "127.0.0.1 - - [27/Mar/2024 21:55:29] \"POST /aluno HTTP/1.1\" 200 -\n",
      "127.0.0.1 - - [27/Mar/2024 21:55:31] \"POST /aluno HTTP/1.1\" 200 -\n",
      "127.0.0.1 - - [27/Mar/2024 21:55:32] \"POST /aluno HTTP/1.1\" 200 -\n",
      "127.0.0.1 - - [27/Mar/2024 21:55:32] \"GET /aluno HTTP/1.1\" 200 -\n",
      "127.0.0.1 - - [27/Mar/2024 21:55:33] \"GET /favicon.ico HTTP/1.1\" 404 -\n",
      "127.0.0.1 - - [27/Mar/2024 21:55:33] \"POST /aluno HTTP/1.1\" 200 -\n",
      "127.0.0.1 - - [27/Mar/2024 21:55:34] \"POST /aluno HTTP/1.1\" 200 -\n",
      "127.0.0.1 - - [27/Mar/2024 21:55:35] \"POST /aluno HTTP/1.1\" 200 -\n",
      "127.0.0.1 - - [27/Mar/2024 21:55:37] \"POST /aluno HTTP/1.1\" 200 -\n",
      "127.0.0.1 - - [27/Mar/2024 21:55:39] \"POST /aluno HTTP/1.1\" 200 -\n",
      "127.0.0.1 - - [27/Mar/2024 21:55:39] \"GET /aluno HTTP/1.1\" 200 -\n",
      "127.0.0.1 - - [27/Mar/2024 21:55:40] \"POST /aluno HTTP/1.1\" 200 -\n",
      "127.0.0.1 - - [27/Mar/2024 21:55:42] \"POST /aluno HTTP/1.1\" 200 -\n",
      "127.0.0.1 - - [27/Mar/2024 21:55:44] \"POST /aluno HTTP/1.1\" 200 -\n",
      "127.0.0.1 - - [27/Mar/2024 21:55:46] \"POST /aluno HTTP/1.1\" 200 -\n",
      "127.0.0.1 - - [27/Mar/2024 21:55:47] \"GET /aluno HTTP/1.1\" 200 -\n",
      "127.0.0.1 - - [27/Mar/2024 21:55:48] \"POST /aluno HTTP/1.1\" 200 -\n",
      "127.0.0.1 - - [27/Mar/2024 21:55:49] \"POST /aluno HTTP/1.1\" 200 -\n",
      "127.0.0.1 - - [27/Mar/2024 21:55:51] \"POST /aluno HTTP/1.1\" 200 -\n",
      "127.0.0.1 - - [27/Mar/2024 21:55:52] \"POST /aluno HTTP/1.1\" 200 -\n",
      "127.0.0.1 - - [27/Mar/2024 21:55:54] \"POST /aluno HTTP/1.1\" 200 -\n",
      "127.0.0.1 - - [27/Mar/2024 21:55:56] \"POST /aluno HTTP/1.1\" 200 -\n",
      "127.0.0.1 - - [27/Mar/2024 21:55:57] \"POST /aluno HTTP/1.1\" 200 -\n",
      "127.0.0.1 - - [27/Mar/2024 21:55:59] \"POST /aluno HTTP/1.1\" 200 -\n",
      "127.0.0.1 - - [27/Mar/2024 21:56:01] \"POST /aluno HTTP/1.1\" 200 -\n",
      "127.0.0.1 - - [27/Mar/2024 21:56:02] \"POST /aluno HTTP/1.1\" 200 -\n",
      "127.0.0.1 - - [27/Mar/2024 21:56:04] \"POST /aluno HTTP/1.1\" 200 -\n",
      "127.0.0.1 - - [27/Mar/2024 21:56:06] \"POST /aluno HTTP/1.1\" 200 -\n",
      "127.0.0.1 - - [27/Mar/2024 21:56:07] \"POST /aluno HTTP/1.1\" 200 -\n",
      "127.0.0.1 - - [27/Mar/2024 21:56:09] \"POST /aluno HTTP/1.1\" 200 -\n",
      "127.0.0.1 - - [27/Mar/2024 21:56:10] \"POST /aluno HTTP/1.1\" 200 -\n",
      "127.0.0.1 - - [27/Mar/2024 21:56:12] \"POST /aluno HTTP/1.1\" 200 -\n",
      "127.0.0.1 - - [27/Mar/2024 21:56:14] \"POST /aluno HTTP/1.1\" 200 -\n",
      "127.0.0.1 - - [27/Mar/2024 21:56:15] \"POST /aluno HTTP/1.1\" 200 -\n",
      "127.0.0.1 - - [27/Mar/2024 21:56:17] \"POST /aluno HTTP/1.1\" 200 -\n",
      "127.0.0.1 - - [27/Mar/2024 21:56:19] \"POST /aluno HTTP/1.1\" 200 -\n",
      "127.0.0.1 - - [27/Mar/2024 21:56:20] \"POST /aluno HTTP/1.1\" 200 -\n",
      "127.0.0.1 - - [27/Mar/2024 21:56:22] \"POST /aluno HTTP/1.1\" 200 -\n",
      "127.0.0.1 - - [27/Mar/2024 21:56:24] \"POST /aluno HTTP/1.1\" 200 -\n",
      "127.0.0.1 - - [27/Mar/2024 21:56:26] \"POST /aluno HTTP/1.1\" 200 -\n",
      "127.0.0.1 - - [27/Mar/2024 21:56:27] \"POST /aluno HTTP/1.1\" 200 -\n",
      "127.0.0.1 - - [27/Mar/2024 21:56:29] \"POST /aluno HTTP/1.1\" 200 -\n",
      "127.0.0.1 - - [27/Mar/2024 21:56:31] \"POST /aluno HTTP/1.1\" 200 -\n",
      "127.0.0.1 - - [27/Mar/2024 21:56:32] \"POST /aluno HTTP/1.1\" 200 -\n",
      "127.0.0.1 - - [27/Mar/2024 21:56:34] \"POST /aluno HTTP/1.1\" 200 -\n",
      "127.0.0.1 - - [27/Mar/2024 21:56:36] \"POST /aluno HTTP/1.1\" 200 -\n",
      "127.0.0.1 - - [27/Mar/2024 21:56:38] \"POST /aluno HTTP/1.1\" 200 -\n",
      "127.0.0.1 - - [27/Mar/2024 21:56:39] \"POST /aluno HTTP/1.1\" 200 -\n",
      "127.0.0.1 - - [27/Mar/2024 21:56:40] \"GET /aluno HTTP/1.1\" 200 -\n",
      "127.0.0.1 - - [27/Mar/2024 21:56:41] \"POST /aluno HTTP/1.1\" 200 -\n",
      "127.0.0.1 - - [27/Mar/2024 21:56:42] \"POST /aluno HTTP/1.1\" 200 -\n",
      "127.0.0.1 - - [27/Mar/2024 21:56:44] \"POST /aluno HTTP/1.1\" 200 -\n",
      "127.0.0.1 - - [27/Mar/2024 21:56:46] \"POST /aluno HTTP/1.1\" 200 -\n",
      "127.0.0.1 - - [27/Mar/2024 21:56:47] \"POST /aluno HTTP/1.1\" 200 -\n",
      "127.0.0.1 - - [27/Mar/2024 21:56:49] \"POST /aluno HTTP/1.1\" 200 -\n",
      "127.0.0.1 - - [27/Mar/2024 21:56:51] \"POST /aluno HTTP/1.1\" 200 -\n",
      "127.0.0.1 - - [27/Mar/2024 21:56:52] \"POST /aluno HTTP/1.1\" 200 -\n",
      "127.0.0.1 - - [27/Mar/2024 21:56:54] \"POST /aluno HTTP/1.1\" 200 -\n",
      "127.0.0.1 - - [27/Mar/2024 21:56:55] \"POST /aluno HTTP/1.1\" 200 -\n",
      "127.0.0.1 - - [27/Mar/2024 21:56:57] \"POST /aluno HTTP/1.1\" 200 -\n",
      "127.0.0.1 - - [27/Mar/2024 21:56:59] \"POST /aluno HTTP/1.1\" 200 -\n",
      "127.0.0.1 - - [27/Mar/2024 21:57:00] \"POST /aluno HTTP/1.1\" 200 -\n",
      "127.0.0.1 - - [27/Mar/2024 21:57:10] \"GET /aluno HTTP/1.1\" 200 -\n",
      "127.0.0.1 - - [27/Mar/2024 21:57:18] \"POST /aluno HTTP/1.1\" 200 -\n",
      "127.0.0.1 - - [27/Mar/2024 21:57:19] \"POST /aluno HTTP/1.1\" 200 -\n",
      "127.0.0.1 - - [27/Mar/2024 21:57:21] \"POST /aluno HTTP/1.1\" 200 -\n",
      "127.0.0.1 - - [27/Mar/2024 21:57:23] \"POST /aluno HTTP/1.1\" 200 -\n",
      "127.0.0.1 - - [27/Mar/2024 21:57:24] \"POST /aluno HTTP/1.1\" 200 -\n",
      "127.0.0.1 - - [27/Mar/2024 21:57:26] \"POST /aluno HTTP/1.1\" 200 -\n",
      "127.0.0.1 - - [27/Mar/2024 21:57:28] \"POST /aluno HTTP/1.1\" 200 -\n",
      "127.0.0.1 - - [27/Mar/2024 21:57:29] \"POST /aluno HTTP/1.1\" 200 -\n",
      "127.0.0.1 - - [27/Mar/2024 21:57:31] \"POST /aluno HTTP/1.1\" 200 -\n",
      "127.0.0.1 - - [27/Mar/2024 21:57:31] \"GET /aluno HTTP/1.1\" 200 -\n",
      "127.0.0.1 - - [27/Mar/2024 21:57:32] \"POST /aluno HTTP/1.1\" 200 -\n",
      "127.0.0.1 - - [27/Mar/2024 21:57:34] \"POST /aluno HTTP/1.1\" 200 -\n",
      "127.0.0.1 - - [27/Mar/2024 21:57:36] \"POST /aluno HTTP/1.1\" 200 -\n",
      "127.0.0.1 - - [27/Mar/2024 21:57:37] \"POST /aluno HTTP/1.1\" 200 -\n",
      "127.0.0.1 - - [27/Mar/2024 21:57:39] \"POST /aluno HTTP/1.1\" 200 -\n",
      "127.0.0.1 - - [27/Mar/2024 21:57:41] \"POST /aluno HTTP/1.1\" 200 -\n",
      "127.0.0.1 - - [27/Mar/2024 21:57:42] \"POST /aluno HTTP/1.1\" 200 -\n",
      "127.0.0.1 - - [27/Mar/2024 21:57:44] \"POST /aluno HTTP/1.1\" 200 -\n",
      "127.0.0.1 - - [27/Mar/2024 21:57:45] \"POST /aluno HTTP/1.1\" 200 -\n",
      "127.0.0.1 - - [27/Mar/2024 21:57:47] \"POST /aluno HTTP/1.1\" 200 -\n",
      "127.0.0.1 - - [27/Mar/2024 21:57:49] \"POST /aluno HTTP/1.1\" 200 -\n",
      "127.0.0.1 - - [27/Mar/2024 21:57:50] \"POST /aluno HTTP/1.1\" 200 -\n",
      "127.0.0.1 - - [27/Mar/2024 21:57:52] \"POST /aluno HTTP/1.1\" 200 -\n",
      "127.0.0.1 - - [27/Mar/2024 21:57:54] \"POST /aluno HTTP/1.1\" 200 -\n",
      "127.0.0.1 - - [27/Mar/2024 21:57:55] \"POST /aluno HTTP/1.1\" 200 -\n",
      "127.0.0.1 - - [27/Mar/2024 21:57:57] \"POST /aluno HTTP/1.1\" 200 -\n",
      "127.0.0.1 - - [27/Mar/2024 21:57:59] \"POST /aluno HTTP/1.1\" 200 -\n",
      "127.0.0.1 - - [27/Mar/2024 21:58:00] \"POST /aluno HTTP/1.1\" 200 -\n",
      "127.0.0.1 - - [27/Mar/2024 21:58:02] \"POST /aluno HTTP/1.1\" 200 -\n",
      "127.0.0.1 - - [27/Mar/2024 21:58:03] \"POST /aluno HTTP/1.1\" 200 -\n",
      "127.0.0.1 - - [27/Mar/2024 21:58:05] \"POST /aluno HTTP/1.1\" 200 -\n",
      "127.0.0.1 - - [27/Mar/2024 21:58:07] \"POST /aluno HTTP/1.1\" 200 -\n",
      "127.0.0.1 - - [27/Mar/2024 21:58:08] \"POST /aluno HTTP/1.1\" 200 -\n",
      "127.0.0.1 - - [27/Mar/2024 21:58:10] \"POST /aluno HTTP/1.1\" 200 -\n",
      "127.0.0.1 - - [27/Mar/2024 21:58:12] \"POST /aluno HTTP/1.1\" 200 -\n",
      "127.0.0.1 - - [27/Mar/2024 21:58:13] \"POST /aluno HTTP/1.1\" 200 -\n",
      "127.0.0.1 - - [27/Mar/2024 21:58:15] \"POST /aluno HTTP/1.1\" 200 -\n",
      "127.0.0.1 - - [27/Mar/2024 21:58:17] \"POST /aluno HTTP/1.1\" 200 -\n",
      "127.0.0.1 - - [27/Mar/2024 21:58:18] \"GET /aluno HTTP/1.1\" 200 -\n",
      "127.0.0.1 - - [27/Mar/2024 21:58:18] \"POST /aluno HTTP/1.1\" 200 -\n",
      "127.0.0.1 - - [27/Mar/2024 21:58:20] \"POST /aluno HTTP/1.1\" 200 -\n",
      "127.0.0.1 - - [27/Mar/2024 21:58:21] \"POST /aluno HTTP/1.1\" 200 -\n",
      "127.0.0.1 - - [27/Mar/2024 21:58:23] \"POST /aluno HTTP/1.1\" 200 -\n",
      "127.0.0.1 - - [27/Mar/2024 21:58:25] \"POST /aluno HTTP/1.1\" 200 -\n",
      "127.0.0.1 - - [27/Mar/2024 21:58:26] \"GET /aluno HTTP/1.1\" 200 -\n",
      "127.0.0.1 - - [27/Mar/2024 21:58:26] \"POST /aluno HTTP/1.1\" 200 -\n",
      "127.0.0.1 - - [27/Mar/2024 21:58:28] \"POST /aluno HTTP/1.1\" 200 -\n",
      "127.0.0.1 - - [27/Mar/2024 21:58:29] \"POST /aluno HTTP/1.1\" 200 -\n",
      "127.0.0.1 - - [27/Mar/2024 21:58:31] \"POST /aluno HTTP/1.1\" 200 -\n",
      "127.0.0.1 - - [27/Mar/2024 21:58:32] \"POST /aluno HTTP/1.1\" 200 -\n",
      "127.0.0.1 - - [27/Mar/2024 21:58:33] \"GET /aluno HTTP/1.1\" 200 -\n",
      "127.0.0.1 - - [27/Mar/2024 21:58:34] \"POST /aluno HTTP/1.1\" 200 -\n",
      "127.0.0.1 - - [27/Mar/2024 21:58:35] \"POST /aluno HTTP/1.1\" 200 -\n",
      "127.0.0.1 - - [27/Mar/2024 21:58:37] \"POST /aluno HTTP/1.1\" 200 -\n",
      "127.0.0.1 - - [27/Mar/2024 21:58:39] \"POST /aluno HTTP/1.1\" 200 -\n",
      "127.0.0.1 - - [27/Mar/2024 21:58:40] \"POST /aluno HTTP/1.1\" 200 -\n",
      "127.0.0.1 - - [27/Mar/2024 21:58:42] \"POST /aluno HTTP/1.1\" 200 -\n",
      "127.0.0.1 - - [27/Mar/2024 21:58:44] \"POST /aluno HTTP/1.1\" 200 -\n",
      "127.0.0.1 - - [27/Mar/2024 21:58:45] \"POST /aluno HTTP/1.1\" 200 -\n",
      "127.0.0.1 - - [27/Mar/2024 21:58:47] \"POST /aluno HTTP/1.1\" 200 -\n",
      "127.0.0.1 - - [27/Mar/2024 21:58:49] \"POST /aluno HTTP/1.1\" 200 -\n",
      "127.0.0.1 - - [27/Mar/2024 21:58:50] \"POST /aluno HTTP/1.1\" 200 -\n",
      "127.0.0.1 - - [27/Mar/2024 21:58:52] \"POST /aluno HTTP/1.1\" 200 -\n",
      "127.0.0.1 - - [27/Mar/2024 21:58:54] \"POST /aluno HTTP/1.1\" 200 -\n",
      "127.0.0.1 - - [27/Mar/2024 21:58:55] \"POST /aluno HTTP/1.1\" 200 -\n",
      "127.0.0.1 - - [27/Mar/2024 21:58:57] \"POST /aluno HTTP/1.1\" 200 -\n",
      "127.0.0.1 - - [27/Mar/2024 21:58:59] \"POST /aluno HTTP/1.1\" 200 -\n",
      "127.0.0.1 - - [27/Mar/2024 21:59:00] \"POST /aluno HTTP/1.1\" 200 -\n",
      "127.0.0.1 - - [27/Mar/2024 21:59:02] \"POST /aluno HTTP/1.1\" 200 -\n",
      "127.0.0.1 - - [27/Mar/2024 21:59:04] \"POST /aluno HTTP/1.1\" 200 -\n",
      "127.0.0.1 - - [27/Mar/2024 21:59:05] \"POST /aluno HTTP/1.1\" 200 -\n",
      "127.0.0.1 - - [27/Mar/2024 21:59:07] \"POST /aluno HTTP/1.1\" 200 -\n",
      "127.0.0.1 - - [27/Mar/2024 21:59:09] \"POST /aluno HTTP/1.1\" 200 -\n",
      "127.0.0.1 - - [27/Mar/2024 21:59:10] \"POST /aluno HTTP/1.1\" 200 -\n",
      "127.0.0.1 - - [27/Mar/2024 21:59:10] \"POST /aluno HTTP/1.1\" 200 -\n",
      "127.0.0.1 - - [27/Mar/2024 21:59:12] \"POST /aluno HTTP/1.1\" 200 -\n",
      "127.0.0.1 - - [27/Mar/2024 21:59:14] \"POST /aluno HTTP/1.1\" 200 -\n",
      "127.0.0.1 - - [27/Mar/2024 21:59:14] \"GET /aluno HTTP/1.1\" 200 -\n",
      "127.0.0.1 - - [27/Mar/2024 21:59:15] \"POST /aluno HTTP/1.1\" 200 -\n",
      "127.0.0.1 - - [27/Mar/2024 21:59:15] \"GET /aluno HTTP/1.1\" 200 -\n",
      "127.0.0.1 - - [27/Mar/2024 21:59:17] \"POST /aluno HTTP/1.1\" 200 -\n",
      "127.0.0.1 - - [27/Mar/2024 21:59:18] \"POST /aluno HTTP/1.1\" 200 -\n",
      "127.0.0.1 - - [27/Mar/2024 21:59:20] \"POST /aluno HTTP/1.1\" 200 -\n",
      "127.0.0.1 - - [27/Mar/2024 21:59:21] \"POST /aluno HTTP/1.1\" 200 -\n",
      "127.0.0.1 - - [27/Mar/2024 21:59:23] \"POST /aluno HTTP/1.1\" 200 -\n",
      "127.0.0.1 - - [27/Mar/2024 21:59:24] \"GET /aluno HTTP/1.1\" 200 -\n",
      "127.0.0.1 - - [27/Mar/2024 21:59:25] \"POST /aluno HTTP/1.1\" 200 -\n",
      "127.0.0.1 - - [27/Mar/2024 21:59:26] \"POST /aluno HTTP/1.1\" 200 -\n",
      "127.0.0.1 - - [27/Mar/2024 21:59:28] \"POST /aluno HTTP/1.1\" 200 -\n",
      "127.0.0.1 - - [27/Mar/2024 21:59:30] \"POST /aluno HTTP/1.1\" 200 -\n",
      "127.0.0.1 - - [27/Mar/2024 21:59:30] \"GET /aluno HTTP/1.1\" 200 -\n",
      "127.0.0.1 - - [27/Mar/2024 21:59:31] \"POST /aluno HTTP/1.1\" 200 -\n",
      "127.0.0.1 - - [27/Mar/2024 21:59:32] \"GET /aluno HTTP/1.1\" 200 -\n",
      "127.0.0.1 - - [27/Mar/2024 21:59:33] \"POST /aluno HTTP/1.1\" 200 -\n",
      "127.0.0.1 - - [27/Mar/2024 21:59:35] \"POST /aluno HTTP/1.1\" 200 -\n",
      "127.0.0.1 - - [27/Mar/2024 21:59:35] \"GET /aluno HTTP/1.1\" 200 -\n",
      "127.0.0.1 - - [27/Mar/2024 21:59:36] \"POST /aluno HTTP/1.1\" 200 -\n",
      "127.0.0.1 - - [27/Mar/2024 21:59:38] \"POST /aluno HTTP/1.1\" 200 -\n",
      "127.0.0.1 - - [27/Mar/2024 21:59:39] \"POST /aluno HTTP/1.1\" 200 -\n",
      "127.0.0.1 - - [27/Mar/2024 21:59:41] \"POST /aluno HTTP/1.1\" 200 -\n",
      "127.0.0.1 - - [27/Mar/2024 21:59:43] \"POST /aluno HTTP/1.1\" 200 -\n",
      "127.0.0.1 - - [27/Mar/2024 21:59:44] \"POST /aluno HTTP/1.1\" 200 -\n",
      "127.0.0.1 - - [27/Mar/2024 21:59:46] \"POST /aluno HTTP/1.1\" 200 -\n",
      "127.0.0.1 - - [27/Mar/2024 21:59:46] \"GET /aluno HTTP/1.1\" 200 -\n",
      "127.0.0.1 - - [27/Mar/2024 21:59:47] \"POST /aluno HTTP/1.1\" 200 -\n",
      "127.0.0.1 - - [27/Mar/2024 21:59:49] \"POST /aluno HTTP/1.1\" 200 -\n",
      "127.0.0.1 - - [27/Mar/2024 21:59:51] \"POST /aluno HTTP/1.1\" 200 -\n",
      "127.0.0.1 - - [27/Mar/2024 21:59:52] \"POST /aluno HTTP/1.1\" 200 -\n",
      "127.0.0.1 - - [27/Mar/2024 21:59:54] \"POST /aluno HTTP/1.1\" 200 -\n",
      "127.0.0.1 - - [27/Mar/2024 21:59:55] \"POST /aluno HTTP/1.1\" 200 -\n",
      "127.0.0.1 - - [27/Mar/2024 21:59:57] \"POST /aluno HTTP/1.1\" 200 -\n",
      "127.0.0.1 - - [27/Mar/2024 21:59:59] \"GET /aluno HTTP/1.1\" 200 -\n",
      "127.0.0.1 - - [27/Mar/2024 21:59:59] \"POST /aluno HTTP/1.1\" 200 -\n",
      "127.0.0.1 - - [27/Mar/2024 22:00:01] \"GET /aluno HTTP/1.1\" 200 -\n",
      "127.0.0.1 - - [27/Mar/2024 22:00:25] \"GET /aluno HTTP/1.1\" 200 -\n",
      "127.0.0.1 - - [27/Mar/2024 22:00:27] \"GET /aluno HTTP/1.1\" 200 -\n",
      "127.0.0.1 - - [27/Mar/2024 22:00:28] \"GET /aluno HTTP/1.1\" 200 -\n",
      "127.0.0.1 - - [27/Mar/2024 22:00:32] \"GET /aluno HTTP/1.1\" 200 -\n",
      "127.0.0.1 - - [27/Mar/2024 22:01:23] \"GET /aluno HTTP/1.1\" 200 -\n",
      "127.0.0.1 - - [27/Mar/2024 22:08:20] \"GET /aluno HTTP/1.1\" 200 -\n"
     ]
    }
   ],
   "source": [
    "from flask import Flask, jsonify, request, Response\n",
    "from pyngrok import ngrok\n",
    "\n",
    "\n",
    "app = Flask(__name__) # intância o método Flask\n",
    "\n",
    "# cria a página homepage\n",
    "@app.route(\"/\", methods=[\"GET\"]) # define o endpoint da página\n",
    "@app.route(\"/homepage\", methods=[\"GET\"]) # define o endpoint da página\n",
    "def homepage():\n",
    "    return jsonify(\"essa é a homepage\")\n",
    "\n",
    "# cria a página ada\n",
    "@app.route(\"/ada\", methods=[\"GET\"]) # define o endpoint da página\n",
    "def pagina_ada():\n",
    "    return jsonify(\"essa é a página ada\")\n",
    "\n",
    "\n",
    "# (simulando um banco de dados)\n",
    "# leitura do arquivo ou banco de dados\n",
    "dados_alunos = [\n",
    "    {\"id\": 1, \"nome\": \"Renan\", \"idade\": 34, \"comida_favorita\": \"Nhoque\"},\n",
    "    {\"id\": 2, \"nome\": \"Erick\", \"idade\": 29, \"comida_favorita\": \"Xis\"},\n",
    "]\n",
    "\n",
    "# endpoint para retornar todos os dados\n",
    "@app.route(\"/alunos\", methods=[\"GET\"])\n",
    "def retorna_alunos():\n",
    "    return jsonify(dados_alunos)\n",
    "\n",
    "## outro endpoint para retornar todos os dados\n",
    "# @app.route(\"/aluno\", methods=[\"GET\"])\n",
    "# def retorna_alunos2():\n",
    "#     return jsonify(dados_alunos)\n",
    "\n",
    "# endpoint para retornar tanto todos os dados quanto filtrar pelo id\n",
    "@app.route(\"/aluno\", methods=[\"GET\"], defaults={\"id\": None})\n",
    "@app.route(\"/aluno/<int:id>\", methods=[\"GET\"])\n",
    "def retorna_aluno(id):\n",
    "    if id is None:\n",
    "        return jsonify(dados_alunos)\n",
    "    else:\n",
    "        for aluno in dados_alunos:\n",
    "            if aluno.get(\"id\") == id:\n",
    "                print(f\"Encontrei o aluno do id {id}: {aluno}\")\n",
    "                return jsonify(aluno)\n",
    "        return jsonify({\"message\": \"Aluno/a não encontrado\"})\n",
    "        \n",
    "## endpoint para filtrar um aluno não informando que o id é um inteiro\n",
    "## para isso precisamos tratar o id no código\n",
    "# @app.route(\"/aluno/<id>\", methods=[\"GET\"])\n",
    "# def retorna_aluno(id):\n",
    "#     ### codigo\n",
    "#     print(type(id), id)\n",
    "#     for aluno in dados_alunos:\n",
    "#         print(\"id da base de dados\", type(aluno.get(\"id\")))\n",
    "#         if str(aluno.get(\"id\")) == id:\n",
    "#             print(f\"Encontrei o aluno do id {id}: {aluno}\")\n",
    "#             return jsonify(aluno)\n",
    "\n",
    "# Adicionar aluno no nosso banco de dados\n",
    "@app.route(\"/aluno\", methods=[\"POST\"])\n",
    "def incluir_novo_aluno():\n",
    "    novo_aluno = request.get_json()\n",
    "    # antes do append deveriamos verificar se estão presentes todos os campos e nos formatos específicos\n",
    "    dados_alunos.append(novo_aluno)\n",
    "    # neste ponto salvar os dados em um arquivo/banco de dados\n",
    "    return jsonify(dados_alunos)\n",
    "\n",
    "# Alterar aluno no banco de dados\n",
    "@app.route(\"/aluno/<int:id>\", methods=[\"PUT\"])\n",
    "def alterar_aluno(id):\n",
    "    aluno_alterado = request.get_json()\n",
    "    for aluno in dados_alunos:\n",
    "        if aluno.get(\"id\") == id:\n",
    "            aluno.update(aluno_alterado)\n",
    "            print(f\"\\n\\nDEBUG: {aluno}\")\n",
    "            return jsonify(aluno)\n",
    "\n",
    "\n",
    "# Deleta aluno no banco de dados\n",
    "@app.route(\"/aluno/<int:id>\", methods=[\"DELETE\"])\n",
    "def deleta_aluno(id):\n",
    "    for aluno in dados_alunos:\n",
    "        if aluno.get(\"id\") == id:\n",
    "            dados_alunos.remove(aluno)\n",
    "            print(f\"\\n\\nDEBUG: {dados_alunos}\")\n",
    "            return jsonify(dados_alunos)\n",
    "\n",
    "@app.route('/csv')\n",
    "def csv():\n",
    "    data = u'1,2,3\\n4,5,6\\n'\n",
    "    bom = u'\\ufeff'\n",
    "    response = Response(bom + data, content_type='text/csv; charset=utf-16')\n",
    "    return response\n",
    "\n",
    "if __name__ == \"__main__\":\n",
    "    # define a porta da aplicação\n",
    "    port = 5000\n",
    "    # Inicia a execução da aplicação\n",
    "    ngrok_tunnel = ngrok.connect(port)\n",
    "    print('Public URL:', ngrok_tunnel.public_url)\n",
    "\n",
    "    try:\n",
    "        app.run(port=port)\n",
    "    except KeyboardInterrupt:\n",
    "        print('Detected keyboard interrupt, stopping ngrok and Flask...')\n",
    "    finally:\n",
    "        ngrok.disconnect(ngrok_tunnel.public_url)\n",
    "        ngrok.kill()"
   ]
  },
  {
   "cell_type": "markdown",
   "metadata": {
    "application/vnd.databricks.v1+cell": {
     "cellMetadata": {},
     "inputWidgets": {},
     "nuid": "8e08984c-f4d2-4f14-9432-e8e3bcc00026",
     "showTitle": false,
     "title": ""
    }
   },
   "source": [
    "Real Time Viewer: http://localhost:4040/inspect/http"
   ]
  },
  {
   "cell_type": "markdown",
   "metadata": {
    "application/vnd.databricks.v1+cell": {
     "cellMetadata": {},
     "inputWidgets": {},
     "nuid": "3d1abaa9-ca41-461a-ab8b-f090eb361c27",
     "showTitle": false,
     "title": ""
    }
   },
   "source": [
    "## [Avaliação anônima](https://forms.gle/tShxhxNYhvi6ZmQm8)"
   ]
  },
  {
   "cell_type": "markdown",
   "metadata": {
    "application/vnd.databricks.v1+cell": {
     "cellMetadata": {},
     "inputWidgets": {},
     "nuid": "42125948-6136-4adc-b950-7cc822a36bdc",
     "showTitle": false,
     "title": ""
    }
   },
   "source": [
    "## Material de aprofundamento\n",
    "\n",
    "- [Como adicionar template html e banco de dados](https://www.homehost.com.br/blog/pythondjango/flask-python/)\n",
    "- [Vídeo como adicionar MySQL no Flask API](https://www.youtube.com/watch?v=qg3BNCa_NdQ)\n",
    "- [Adicionando outras extensões ao Flask API](https://www.youtube.com/watch?v=-qWySnuoaTM)\n",
    "- [Servidor gratuito para o seu site - Render](https://render.com/)"
   ]
  },
  {
   "cell_type": "markdown",
   "metadata": {},
   "source": []
  }
 ],
 "metadata": {
  "application/vnd.databricks.v1+notebook": {
   "dashboards": [],
   "language": "python",
   "notebookMetadata": {
    "pythonIndentUnit": 4
   },
   "notebookName": "6 - Chamadas na API Flask",
   "widgets": {}
  },
  "kernelspec": {
   "display_name": "Python 3",
   "language": "python",
   "name": "python3"
  },
  "language_info": {
   "codemirror_mode": {
    "name": "ipython",
    "version": 3
   },
   "file_extension": ".py",
   "mimetype": "text/x-python",
   "name": "python",
   "nbconvert_exporter": "python",
   "pygments_lexer": "ipython3",
   "version": "3.9.12"
  }
 },
 "nbformat": 4,
 "nbformat_minor": 0
}
