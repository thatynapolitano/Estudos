{
 "cells": [
  {
   "cell_type": "markdown",
   "metadata": {
    "application/vnd.databricks.v1+cell": {
     "cellMetadata": {
      "byteLimit": 2048000,
      "rowLimit": 10000
     },
     "inputWidgets": {},
     "nuid": "6f64a891-e6b3-47b3-9f66-10e27f579391",
     "showTitle": false,
     "title": ""
    }
   },
   "source": [
    "# ETLs, ELTs e Pipelines de Dados\n",
    "\n",
    "\n",
    "## Introdução\n",
    "\n",
    "\n",
    "---\n",
    "\n",
    "Nos dias de hoje, as empresas lidam com grandes quantidades de dados em diferentes sistemas. Para tomar decisões informadas e eficientes, é crucial ter acesso a todos esses dados de forma integrada e atualizada. Aqui estão algumas razões pelas quais as extrações automatizadas de dados são necessárias:\n",
    "\n",
    "\n",
    "1. **Aumento da eficiência:** extrair manualmente dados de diferentes sistemas é um processo demorado e propenso a erros. Com extrações automatizadas, é possível obter dados rapidamente e com precisão, permitindo uma tomada de decisão mais rápida e eficiente;\n",
    "2. **Redução de erros:** as extrações automatizadas removem a possibilidade de erros humanos, como digitação incorreta ou omissão de informações;\n",
    "3. **Integração de dados:** as extrações automatizadas permitem integrar dados de diferentes sistemas, fornecendo uma visão mais completa e precisa do negócio; e\n",
    "4. **Tempo e recursos:** automatizar o processo de extração de dados economiza tempo e recursos, permitindo que os funcionários se concentrem em tarefas mais importantes.\n",
    "\n",
    "\n",
    "Em resumo, as extrações automatizadas de dados são fundamentais para obter dados precisos, integrados e atualizados, aumentando a eficiência e efetividade da tomada de decisão.\n",
    "\n",
    "\n",
    "<br><br>\n",
    "\n",
    "\n",
    "## Arquitetura de soluções de extração de dados\n",
    "\n",
    "---\n",
    "\n",
    "A arquitetura de soluções de extração de dados pode envolver o uso de APIs (Application Programming Interfaces), webhooks, planilhas, etc. para obter dados de diferentes fontes de forma programática. Neste tipo de solução, a extração de dados é automatizada usando scripts escritos em alguma linguagem de programação (como por exemplo, Python). De forma simples, podemos definir um processo de extração de dados em 5 partes:\n",
    "\n",
    "\n",
    "1. **Fonte de dados:** a primeira etapa é identificar a fonte de dados desejada. Isso pode incluir bancos de dados, sistemas de gerenciamento de conteúdo (CMS), APIs, sites, plataformas de e-commerce, arquivos exce, entre outros;\n",
    "2. **Requisição/Acesso/Webscrapping/Raspagem dos dados:** a próxima etapa é acessar sua fonte de dados e extrair a informação;\n",
    "4. **Tratamento de dados:** após a recepção dos dados, precisamos tratá-los antes de serem usados. Isso pode incluir a limpeza dos dados, a conversão para um formato desejado e sua posterior análise. Em Python, podemos utilizar bibliotecas como Pandas ou Numpy para realizar tais tarefas;\n",
    "5. **Armazenamento de dados:** por fim, os dados extraídos precisam ser armazenados em algum local para uso futuro. E, isso pode ser feito em bancos de dados locais ou na nuvem, como o Amazon S3 ou o Google Cloud Storage.\n",
    "\n",
    "\n",
    "<img src = \"https://streamsets.b-cdn.net/wp-content/uploads/data-integration-and-data-engineering-streamsets.png\" width=800>\n",
    "\n",
    "<img src=\"https://www.striim.com/wp-content/uploads/2022/06/image1-2.png\" width=800>\n",
    "\n",
    "É importante destacar que a soma destas partes permite a automatização da extração de dados, tornando-a mais eficiente e confiável. Além disso, a utilização de Python como linguagem de programação permite a facilidade de uso e a ampla disponibilidade de bibliotecas para tratamento e armazenamento de dados.\n",
    "\n",
    "<br>"
   ]
  },
  {
   "cell_type": "markdown",
   "metadata": {
    "application/vnd.databricks.v1+cell": {
     "cellMetadata": {
      "byteLimit": 2048000,
      "rowLimit": 10000
     },
     "inputWidgets": {},
     "nuid": "0d1aeb0e-a50c-4ebe-b3e8-45a71afd41d8",
     "showTitle": false,
     "title": ""
    }
   },
   "source": [
    "## ETLs & ELTs\n",
    "\n",
    "\n",
    "---\n",
    "\n",
    "No mundo de gerenciamento de dados o processo de **extrair, transformar e carregar (ETL)** é uma etapa fundamental na coleta, processamento e preparação de dados para análise. \n",
    "ETL envolve extrair dados de diversas fontes, transformá-los em um formato estruturado e carregá-los em um destino onde possam ser analisados.\n",
    "Este processo é crucial para manter a qualidade e a consistência dos dados.\n",
    "Vamos entender melhor o que é cada uma das siglas:\n",
    "\n",
    "### 1. Extração (E)\n",
    "A primeira etapa do ETL é a extração, na qual os dados são coletados de diferentes fontes. Essas Fontes podem incluir bancos de dados, planilhas, APIs, logs e muito mais. Aqui estão alguns exemplos:\n",
    "\n",
    "- extraindo dados de um banco de dados\n",
    "\n",
    "```sql\n",
    "select * from sales_data\n",
    "```\n",
    "\n",
    "- extraindo dados de uma API REST:\n",
    "\n",
    "```python\n",
    "import request\n",
    "\n",
    "response = request.get(\"https://api.exemple.com/data\")\n",
    "data = response.json()\n",
    "```\n",
    "\n",
    "### 2. Transformação (T)\n",
    "\n",
    "Após a extração de dados, a próxima etapa é a transformação. Durante esta fase os dados são limpos, enriquecidos e transformados em um formato consistente. A transformação pode envolver: \n",
    "- remoção de duplicatas\n",
    "- tratamento de valores ausentes\n",
    "- agregação de dados por exemplo\n",
    "- transformações de tipos de dados (string > float)\n",
    "- transformando um formato de data\n",
    "\n",
    "Exemplo transformando um formato de data de MM/DD/AAAA para\n",
    "AAAA-MM-DD:"
   ]
  },
  {
   "cell_type": "code",
   "execution_count": 0,
   "metadata": {
    "application/vnd.databricks.v1+cell": {
     "cellMetadata": {
      "byteLimit": 2048000,
      "rowLimit": 10000
     },
     "inputWidgets": {},
     "nuid": "0378a6fa-12b3-4cf1-92c3-ff0dd1854b63",
     "showTitle": false,
     "title": ""
    }
   },
   "outputs": [
    {
     "output_type": "display_data",
     "data": {
      "application/vnd.databricks.v1+bamboolib_hint": "{\"pd.DataFrames\": [], \"version\": \"0.0.1\"}",
      "text/plain": []
     },
     "metadata": {},
     "output_type": "display_data"
    },
    {
     "output_type": "display_data",
     "data": {
      "text/html": [
       "<div>\n",
       "<style scoped>\n",
       "    .dataframe tbody tr th:only-of-type {\n",
       "        vertical-align: middle;\n",
       "    }\n",
       "\n",
       "    .dataframe tbody tr th {\n",
       "        vertical-align: top;\n",
       "    }\n",
       "\n",
       "    .dataframe thead th {\n",
       "        text-align: right;\n",
       "    }\n",
       "</style>\n",
       "<table border=\"1\" class=\"dataframe\">\n",
       "  <thead>\n",
       "    <tr style=\"text-align: right;\">\n",
       "      <th></th>\n",
       "      <th>date</th>\n",
       "      <th>new_date</th>\n",
       "    </tr>\n",
       "  </thead>\n",
       "  <tbody>\n",
       "    <tr>\n",
       "      <th>0</th>\n",
       "      <td>08/02/2023</td>\n",
       "      <td>2023-08-02</td>\n",
       "    </tr>\n",
       "    <tr>\n",
       "      <th>1</th>\n",
       "      <td>09/19/2023</td>\n",
       "      <td>2023-09-19</td>\n",
       "    </tr>\n",
       "    <tr>\n",
       "      <th>2</th>\n",
       "      <td>03/02/2023</td>\n",
       "      <td>2023-03-02</td>\n",
       "    </tr>\n",
       "  </tbody>\n",
       "</table>\n",
       "</div>"
      ]
     },
     "metadata": {
      "application/vnd.databricks.v1+output": {
       "addedWidgets": {},
       "arguments": {},
       "data": "<div>\n<style scoped>\n    .dataframe tbody tr th:only-of-type {\n        vertical-align: middle;\n    }\n\n    .dataframe tbody tr th {\n        vertical-align: top;\n    }\n\n    .dataframe thead th {\n        text-align: right;\n    }\n</style>\n<table border=\"1\" class=\"dataframe\">\n  <thead>\n    <tr style=\"text-align: right;\">\n      <th></th>\n      <th>date</th>\n      <th>new_date</th>\n    </tr>\n  </thead>\n  <tbody>\n    <tr>\n      <th>0</th>\n      <td>08/02/2023</td>\n      <td>2023-08-02</td>\n    </tr>\n    <tr>\n      <th>1</th>\n      <td>09/19/2023</td>\n      <td>2023-09-19</td>\n    </tr>\n    <tr>\n      <th>2</th>\n      <td>03/02/2023</td>\n      <td>2023-03-02</td>\n    </tr>\n  </tbody>\n</table>\n</div>",
       "datasetInfos": [],
       "metadata": {},
       "removedWidgets": [],
       "textData": null,
       "type": "htmlSandbox"
      }
     },
     "output_type": "display_data"
    }
   ],
   "source": [
    "import pandas as pd \n",
    "\n",
    "datas = [\"08/02/2023\", \"09/19/2023\", \"03/02/2023\"] \n",
    "df = pd.DataFrame(datas, columns=[\"date\"])\n",
    "\n",
    "df[\"new_date\"] = pd.to_datetime(df.date, format=\"%m/%d/%Y\")#.dt.strftime(format=\"\")\n",
    "df"
   ]
  },
  {
   "cell_type": "markdown",
   "metadata": {
    "application/vnd.databricks.v1+cell": {
     "cellMetadata": {
      "byteLimit": 2048000,
      "rowLimit": 10000
     },
     "inputWidgets": {},
     "nuid": "8d104181-4765-465a-8186-298095729d91",
     "showTitle": false,
     "title": ""
    }
   },
   "source": [
    "### 3. Carga (L)\n",
    "A etapa final do ETL é carregar os dados transformados de um destino, normalmente em um data warehouse, banco de dados ou data lake. \n",
    "Aqui estão alguns exemplos de carregamento:\n",
    "\n",
    "- carregando dados em um banco de dados SQL: \n",
    "\n",
    "```sql\n",
    "INSERT INTO target_table\n",
    "SELECT * FROM transformed_data\n",
    "```\n",
    "\n",
    "- carregar dados em um data warehouse na nuvem como Amazon Redshift \n",
    "\n",
    "```python\n",
    "import psycopg2\n",
    "\n",
    "# conectando ao Redshift\n",
    "conn = psycopg2.connect(database=\"mydb\", user=\"user\", password=\"password\", host=\"redshift-cluster-url\")\n",
    "\n",
    "# Inserindo dados na tabela\n",
    "cur = conn.cursor()\n",
    "cur.execute(\"COPY target_table FROM 's3://data-bucket/trasformed_data.csv' CSV;\")\n",
    "\n",
    "```\n",
    "\n",
    "### Quais as diferenças entre ETL e ELT?\n",
    "\n",
    "ETL, ELT e pipeline de dados são conceitos importantes na gestão de dados. E, podemos defini-los da seguinte forma:\n",
    "\n",
    "\n",
    "1. **ETL (Extração, Transformação e Carga):** ETL é uma sigla que se refere ao processo de extração de dados de várias fontes, as transformações utilizadas para torná-los compatíveis com o sistema de destino e ao seu carregamento no sistema de destino. Esse processo é importante para garantir que os dados sejam integrados corretamente em um sistema único e possam posteriormente serem utilizados para a tomada de decisão informada.\n",
    "\n",
    "\n",
    "2. **ELT (Extração, Carga e Transformação):** a ELT é semelhante ao ETL, mas a ordem dos passos é diferente. Em uma ELT, os dados são extraídos de fontes externas, carregados no sistema de destino e, em seguida, transformados para serem compatíveis com o sistema de destino. A ELT é uma abordagem popular quando se tem um hardware poderoso disponível para transformação de dados no lado do sistema de destino.\n",
    "\n",
    "<center>\n",
    "<img src=\"https://miro.medium.com/v2/resize:fit:2000/format:webp/1*-6tNymvTTqGIWJlzQHwBaw.png\"  width=\"60%\" height=\"30%\" texto=\"Fonte: https://miro.medium.com/v2/resize:fit:2000/format:webp/1*-6tNymvTTqGIWJlzQHwBaw.png\">\n",
    "</center>\n",
    "\n",
    "No primeiro caso o load geralmente acontece em bd tabelares como redshift enquanto o segundo pode exigir que vc tenha um data lake que aceite diferentes formatos\n",
    "\n"
   ]
  },
  {
   "cell_type": "markdown",
   "metadata": {
    "application/vnd.databricks.v1+cell": {
     "cellMetadata": {
      "byteLimit": 2048000,
      "rowLimit": 10000
     },
     "inputWidgets": {},
     "nuid": "eed19095-9985-41ff-95b5-61725c619b61",
     "showTitle": false,
     "title": ""
    }
   },
   "source": [
    "#### Casos de uso para ETL\n",
    "\n",
    "- Quando os dados precisam de limpeza, enriquecimento e integração extensivos antes da análise \n",
    "\n",
    "- Quando a empresa utiliza data warehouse tradicional com fontes de dados estruturados\n",
    "\n",
    "- Quando os dados devem ser transformados num formato consistente para a elaboração de relatório e/ou precisam passar por algum processo de agregação.\n",
    "\n",
    "- Quando o dado é utilizado diretamente pelo time de negócio.\n",
    "\n",
    "#### Casos de uso para ELT\n",
    "\n",
    "- Quando é necessário lidar com grandes volumes de dados brutos e não estruturados\n",
    "\n",
    "- Quanda a empresa utiliza arquiteturas modernas de data Lake \n",
    "\n",
    "- Quando a exploração e análise de dados é realizada diretamente nos dados brutos.\n",
    "\n",
    "\n",
    "## Pipeline de dados com extração ativa ou passiva\n",
    "\n",
    "Pipeline de dados se referem ao processo de fluxo contínuo de dados de uma fonte para um sistema de destino. Elas podem ser divididas em duas categorias:\n",
    "\n",
    "- **Pipelines de extração ativa:** são aquelas em que os dados são extraídos da fonte em intervalos regulares de tempo; e\n",
    "- **Pipelines de extração passiva:** são aquelas em que os dados são enviados assincronamente pela sistema originador da informação;\n",
    "\n",
    "Em suma, ETL, ELT e pipeline de dados são conceitos importantes para a gestão de dados que ajudam a garantir que os dados sejam integrados corretamente em um único sistema e possam ser usados para tomar decisões informadas. A escolha entre ETL e ELT depende de fatores como a quantidade de dados e o poder de processamento disponível, enquanto que a escolha entre extração ativa ou passiva irá depender de outros fatores como a volumetria dos dados e o tempo de latência requisitado."
   ]
  },
  {
   "cell_type": "markdown",
   "metadata": {
    "application/vnd.databricks.v1+cell": {
     "cellMetadata": {
      "byteLimit": 2048000,
      "rowLimit": 10000
     },
     "inputWidgets": {},
     "nuid": "cfb97d4b-0355-4508-8dac-fd1a84caee52",
     "showTitle": false,
     "title": ""
    }
   },
   "source": [
    "## Exemplo de um ETL\n",
    "\n",
    "1. Extração de dados em formato de arquivos do tipo csv, da base de qualidade do ar do link https://raw.githubusercontent.com/PacktPublishing/Time-Series-Analysis-with-Python-Cookbook./main/datasets/Ch2/AirQualityUCI.csv ;\n",
    "\n",
    "2. Transformação desses dados;\n",
    "\n",
    "3. Armazenamento dos dados transformados em arquivos do tipo csv.\n",
    "\n",
    "Metadados:\n",
    "\n",
    "- Date (DD/MM/YYYY)\n",
    "- Time (HH.MM.SS)\n",
    "- True hourly averaged concentration CO in mg/m^3 (reference analyzer)\n",
    "- PT08.S1 (tin oxide) hourly averaged sensor response (nominally CO targeted)\n",
    "- True hourly averaged overall Non Metanic HydroCarbons concentration in microg/m^3 (reference analyzer)\n",
    "- True hourly averaged Benzene concentration in microg/m^3 (reference analyzer)\n",
    "- PT08.S2 (titania) hourly averaged sensor response (nominally NMHC targeted)\n",
    "- True hourly averaged NOx concentration in ppb (reference analyzer)\n",
    "- PT08.S3 (tungsten oxide) hourly averaged sensor response (nominally NOx targeted)\n",
    "- True hourly averaged NO2 concentration in microg/m^3 (reference analyzer)\n",
    "-  PT08.S4 (tungsten oxide) hourly averaged sensor response (nominally NO2 targeted)\n",
    "-  PT08.S5 (indium oxide) hourly averaged sensor response (nominally O3 targeted)\n",
    "-  Temperature in °C\n",
    "-  Relative Humidity (%)\n",
    "-  AH Absolute Humidity\n",
    "\n",
    "https://archive.ics.uci.edu/dataset/360/air+quality"
   ]
  },
  {
   "cell_type": "code",
   "execution_count": 0,
   "metadata": {
    "application/vnd.databricks.v1+cell": {
     "cellMetadata": {
      "byteLimit": 2048000,
      "rowLimit": 10000
     },
     "inputWidgets": {},
     "nuid": "53fa0d56-62e1-4a27-b601-d1128b5e30ac",
     "showTitle": false,
     "title": ""
    }
   },
   "outputs": [
    {
     "output_type": "display_data",
     "data": {
      "text/html": [
       "<div>\n",
       "<style scoped>\n",
       "    .dataframe tbody tr th:only-of-type {\n",
       "        vertical-align: middle;\n",
       "    }\n",
       "\n",
       "    .dataframe tbody tr th {\n",
       "        vertical-align: top;\n",
       "    }\n",
       "\n",
       "    .dataframe thead th {\n",
       "        text-align: right;\n",
       "    }\n",
       "</style>\n",
       "<table border=\"1\" class=\"dataframe\">\n",
       "  <thead>\n",
       "    <tr style=\"text-align: right;\">\n",
       "      <th></th>\n",
       "      <th>Date</th>\n",
       "      <th>Time</th>\n",
       "      <th>CO(GT)</th>\n",
       "      <th>PT08.S1(CO)</th>\n",
       "      <th>NMHC(GT)</th>\n",
       "      <th>C6H6(GT)</th>\n",
       "      <th>PT08.S2(NMHC)</th>\n",
       "      <th>NOx(GT)</th>\n",
       "      <th>PT08.S3(NOx)</th>\n",
       "      <th>NO2(GT)</th>\n",
       "      <th>PT08.S4(NO2)</th>\n",
       "      <th>PT08.S5(O3)</th>\n",
       "      <th>T</th>\n",
       "      <th>RH</th>\n",
       "      <th>AH</th>\n",
       "    </tr>\n",
       "  </thead>\n",
       "  <tbody>\n",
       "    <tr>\n",
       "      <th>0</th>\n",
       "      <td>10/03/2004</td>\n",
       "      <td>18:00:00</td>\n",
       "      <td>2.6</td>\n",
       "      <td>1360.00</td>\n",
       "      <td>150</td>\n",
       "      <td>11.881723</td>\n",
       "      <td>1045.50</td>\n",
       "      <td>166.0</td>\n",
       "      <td>1056.25</td>\n",
       "      <td>113.0</td>\n",
       "      <td>1692.00</td>\n",
       "      <td>1267.50</td>\n",
       "      <td>13.60</td>\n",
       "      <td>48.875001</td>\n",
       "      <td>0.757754</td>\n",
       "    </tr>\n",
       "    <tr>\n",
       "      <th>1</th>\n",
       "      <td>10/03/2004</td>\n",
       "      <td>19:00:00</td>\n",
       "      <td>2.0</td>\n",
       "      <td>1292.25</td>\n",
       "      <td>112</td>\n",
       "      <td>9.397165</td>\n",
       "      <td>954.75</td>\n",
       "      <td>103.0</td>\n",
       "      <td>1173.75</td>\n",
       "      <td>92.0</td>\n",
       "      <td>1558.75</td>\n",
       "      <td>972.25</td>\n",
       "      <td>13.30</td>\n",
       "      <td>47.700000</td>\n",
       "      <td>0.725487</td>\n",
       "    </tr>\n",
       "    <tr>\n",
       "      <th>2</th>\n",
       "      <td>10/03/2004</td>\n",
       "      <td>20:00:00</td>\n",
       "      <td>2.2</td>\n",
       "      <td>1402.00</td>\n",
       "      <td>88</td>\n",
       "      <td>8.997817</td>\n",
       "      <td>939.25</td>\n",
       "      <td>131.0</td>\n",
       "      <td>1140.00</td>\n",
       "      <td>114.0</td>\n",
       "      <td>1554.50</td>\n",
       "      <td>1074.00</td>\n",
       "      <td>11.90</td>\n",
       "      <td>53.975000</td>\n",
       "      <td>0.750239</td>\n",
       "    </tr>\n",
       "    <tr>\n",
       "      <th>3</th>\n",
       "      <td>10/03/2004</td>\n",
       "      <td>21:00:00</td>\n",
       "      <td>2.2</td>\n",
       "      <td>1375.50</td>\n",
       "      <td>80</td>\n",
       "      <td>9.228796</td>\n",
       "      <td>948.25</td>\n",
       "      <td>172.0</td>\n",
       "      <td>1092.00</td>\n",
       "      <td>122.0</td>\n",
       "      <td>1583.75</td>\n",
       "      <td>1203.25</td>\n",
       "      <td>11.00</td>\n",
       "      <td>60.000000</td>\n",
       "      <td>0.786713</td>\n",
       "    </tr>\n",
       "    <tr>\n",
       "      <th>4</th>\n",
       "      <td>10/03/2004</td>\n",
       "      <td>22:00:00</td>\n",
       "      <td>1.6</td>\n",
       "      <td>1272.25</td>\n",
       "      <td>51</td>\n",
       "      <td>6.518224</td>\n",
       "      <td>835.50</td>\n",
       "      <td>131.0</td>\n",
       "      <td>1205.00</td>\n",
       "      <td>116.0</td>\n",
       "      <td>1490.00</td>\n",
       "      <td>1110.00</td>\n",
       "      <td>11.15</td>\n",
       "      <td>59.575001</td>\n",
       "      <td>0.788794</td>\n",
       "    </tr>\n",
       "  </tbody>\n",
       "</table>\n",
       "</div>"
      ]
     },
     "metadata": {
      "application/vnd.databricks.v1+output": {
       "addedWidgets": {},
       "arguments": {},
       "data": "<div>\n<style scoped>\n    .dataframe tbody tr th:only-of-type {\n        vertical-align: middle;\n    }\n\n    .dataframe tbody tr th {\n        vertical-align: top;\n    }\n\n    .dataframe thead th {\n        text-align: right;\n    }\n</style>\n<table border=\"1\" class=\"dataframe\">\n  <thead>\n    <tr style=\"text-align: right;\">\n      <th></th>\n      <th>Date</th>\n      <th>Time</th>\n      <th>CO(GT)</th>\n      <th>PT08.S1(CO)</th>\n      <th>NMHC(GT)</th>\n      <th>C6H6(GT)</th>\n      <th>PT08.S2(NMHC)</th>\n      <th>NOx(GT)</th>\n      <th>PT08.S3(NOx)</th>\n      <th>NO2(GT)</th>\n      <th>PT08.S4(NO2)</th>\n      <th>PT08.S5(O3)</th>\n      <th>T</th>\n      <th>RH</th>\n      <th>AH</th>\n    </tr>\n  </thead>\n  <tbody>\n    <tr>\n      <th>0</th>\n      <td>10/03/2004</td>\n      <td>18:00:00</td>\n      <td>2.6</td>\n      <td>1360.00</td>\n      <td>150</td>\n      <td>11.881723</td>\n      <td>1045.50</td>\n      <td>166.0</td>\n      <td>1056.25</td>\n      <td>113.0</td>\n      <td>1692.00</td>\n      <td>1267.50</td>\n      <td>13.60</td>\n      <td>48.875001</td>\n      <td>0.757754</td>\n    </tr>\n    <tr>\n      <th>1</th>\n      <td>10/03/2004</td>\n      <td>19:00:00</td>\n      <td>2.0</td>\n      <td>1292.25</td>\n      <td>112</td>\n      <td>9.397165</td>\n      <td>954.75</td>\n      <td>103.0</td>\n      <td>1173.75</td>\n      <td>92.0</td>\n      <td>1558.75</td>\n      <td>972.25</td>\n      <td>13.30</td>\n      <td>47.700000</td>\n      <td>0.725487</td>\n    </tr>\n    <tr>\n      <th>2</th>\n      <td>10/03/2004</td>\n      <td>20:00:00</td>\n      <td>2.2</td>\n      <td>1402.00</td>\n      <td>88</td>\n      <td>8.997817</td>\n      <td>939.25</td>\n      <td>131.0</td>\n      <td>1140.00</td>\n      <td>114.0</td>\n      <td>1554.50</td>\n      <td>1074.00</td>\n      <td>11.90</td>\n      <td>53.975000</td>\n      <td>0.750239</td>\n    </tr>\n    <tr>\n      <th>3</th>\n      <td>10/03/2004</td>\n      <td>21:00:00</td>\n      <td>2.2</td>\n      <td>1375.50</td>\n      <td>80</td>\n      <td>9.228796</td>\n      <td>948.25</td>\n      <td>172.0</td>\n      <td>1092.00</td>\n      <td>122.0</td>\n      <td>1583.75</td>\n      <td>1203.25</td>\n      <td>11.00</td>\n      <td>60.000000</td>\n      <td>0.786713</td>\n    </tr>\n    <tr>\n      <th>4</th>\n      <td>10/03/2004</td>\n      <td>22:00:00</td>\n      <td>1.6</td>\n      <td>1272.25</td>\n      <td>51</td>\n      <td>6.518224</td>\n      <td>835.50</td>\n      <td>131.0</td>\n      <td>1205.00</td>\n      <td>116.0</td>\n      <td>1490.00</td>\n      <td>1110.00</td>\n      <td>11.15</td>\n      <td>59.575001</td>\n      <td>0.788794</td>\n    </tr>\n  </tbody>\n</table>\n</div>",
       "datasetInfos": [],
       "metadata": {},
       "removedWidgets": [],
       "textData": null,
       "type": "htmlSandbox"
      }
     },
     "output_type": "display_data"
    }
   ],
   "source": [
    "import pandas as pd\n",
    "\n",
    "url = \"https://raw.githubusercontent.com/PacktPublishing/Time-Series-Analysis-with-Python-Cookbook./main/datasets/Ch2/AirQualityUCI.csv\"\n",
    "df = pd.read_csv(url, sep=\";\")\n",
    "df.head()"
   ]
  },
  {
   "cell_type": "markdown",
   "metadata": {
    "application/vnd.databricks.v1+cell": {
     "cellMetadata": {
      "byteLimit": 2048000,
      "rowLimit": 10000
     },
     "inputWidgets": {},
     "nuid": "b3013202-1fb0-48c5-bd23-58487c1549e4",
     "showTitle": false,
     "title": ""
    }
   },
   "source": [
    "### Transformação\n",
    "\n",
    "Suponha que o time de analytics precisa dos dados de valor máximo de CO e média de temperatura mensal."
   ]
  },
  {
   "cell_type": "code",
   "execution_count": 0,
   "metadata": {
    "application/vnd.databricks.v1+cell": {
     "cellMetadata": {
      "byteLimit": 2048000,
      "rowLimit": 10000
     },
     "inputWidgets": {},
     "nuid": "67f5f185-b199-4fee-ba88-94d0dfd5a332",
     "showTitle": false,
     "title": ""
    }
   },
   "outputs": [
    {
     "output_type": "display_data",
     "data": {
      "text/html": [
       "<div>\n",
       "<style scoped>\n",
       "    .dataframe tbody tr th:only-of-type {\n",
       "        vertical-align: middle;\n",
       "    }\n",
       "\n",
       "    .dataframe tbody tr th {\n",
       "        vertical-align: top;\n",
       "    }\n",
       "\n",
       "    .dataframe thead th {\n",
       "        text-align: right;\n",
       "    }\n",
       "</style>\n",
       "<table border=\"1\" class=\"dataframe\">\n",
       "  <thead>\n",
       "    <tr style=\"text-align: right;\">\n",
       "      <th></th>\n",
       "      <th>CO(GT)</th>\n",
       "      <th>T</th>\n",
       "    </tr>\n",
       "    <tr>\n",
       "      <th>mes</th>\n",
       "      <th></th>\n",
       "      <th></th>\n",
       "    </tr>\n",
       "  </thead>\n",
       "  <tbody>\n",
       "    <tr>\n",
       "      <th>1</th>\n",
       "      <td>8.7</td>\n",
       "      <td>-8.851680</td>\n",
       "    </tr>\n",
       "    <tr>\n",
       "      <th>2</th>\n",
       "      <td>8.4</td>\n",
       "      <td>-16.312587</td>\n",
       "    </tr>\n",
       "    <tr>\n",
       "      <th>3</th>\n",
       "      <td>8.1</td>\n",
       "      <td>13.522721</td>\n",
       "    </tr>\n",
       "    <tr>\n",
       "      <th>4</th>\n",
       "      <td>7.3</td>\n",
       "      <td>9.530184</td>\n",
       "    </tr>\n",
       "    <tr>\n",
       "      <th>5</th>\n",
       "      <td>6.5</td>\n",
       "      <td>16.134890</td>\n",
       "    </tr>\n",
       "    <tr>\n",
       "      <th>6</th>\n",
       "      <td>6.4</td>\n",
       "      <td>14.521481</td>\n",
       "    </tr>\n",
       "    <tr>\n",
       "      <th>7</th>\n",
       "      <td>5.3</td>\n",
       "      <td>29.110170</td>\n",
       "    </tr>\n",
       "    <tr>\n",
       "      <th>8</th>\n",
       "      <td>3.5</td>\n",
       "      <td>14.039819</td>\n",
       "    </tr>\n",
       "    <tr>\n",
       "      <th>9</th>\n",
       "      <td>7.5</td>\n",
       "      <td>19.005671</td>\n",
       "    </tr>\n",
       "    <tr>\n",
       "      <th>10</th>\n",
       "      <td>9.5</td>\n",
       "      <td>20.200090</td>\n",
       "    </tr>\n",
       "    <tr>\n",
       "      <th>11</th>\n",
       "      <td>11.9</td>\n",
       "      <td>13.482384</td>\n",
       "    </tr>\n",
       "    <tr>\n",
       "      <th>12</th>\n",
       "      <td>9.9</td>\n",
       "      <td>-11.565435</td>\n",
       "    </tr>\n",
       "  </tbody>\n",
       "</table>\n",
       "</div>"
      ]
     },
     "metadata": {
      "application/vnd.databricks.v1+output": {
       "addedWidgets": {},
       "arguments": {},
       "data": "<div>\n<style scoped>\n    .dataframe tbody tr th:only-of-type {\n        vertical-align: middle;\n    }\n\n    .dataframe tbody tr th {\n        vertical-align: top;\n    }\n\n    .dataframe thead th {\n        text-align: right;\n    }\n</style>\n<table border=\"1\" class=\"dataframe\">\n  <thead>\n    <tr style=\"text-align: right;\">\n      <th></th>\n      <th>CO(GT)</th>\n      <th>T</th>\n    </tr>\n    <tr>\n      <th>mes</th>\n      <th></th>\n      <th></th>\n    </tr>\n  </thead>\n  <tbody>\n    <tr>\n      <th>1</th>\n      <td>8.7</td>\n      <td>-8.851680</td>\n    </tr>\n    <tr>\n      <th>2</th>\n      <td>8.4</td>\n      <td>-16.312587</td>\n    </tr>\n    <tr>\n      <th>3</th>\n      <td>8.1</td>\n      <td>13.522721</td>\n    </tr>\n    <tr>\n      <th>4</th>\n      <td>7.3</td>\n      <td>9.530184</td>\n    </tr>\n    <tr>\n      <th>5</th>\n      <td>6.5</td>\n      <td>16.134890</td>\n    </tr>\n    <tr>\n      <th>6</th>\n      <td>6.4</td>\n      <td>14.521481</td>\n    </tr>\n    <tr>\n      <th>7</th>\n      <td>5.3</td>\n      <td>29.110170</td>\n    </tr>\n    <tr>\n      <th>8</th>\n      <td>3.5</td>\n      <td>14.039819</td>\n    </tr>\n    <tr>\n      <th>9</th>\n      <td>7.5</td>\n      <td>19.005671</td>\n    </tr>\n    <tr>\n      <th>10</th>\n      <td>9.5</td>\n      <td>20.200090</td>\n    </tr>\n    <tr>\n      <th>11</th>\n      <td>11.9</td>\n      <td>13.482384</td>\n    </tr>\n    <tr>\n      <th>12</th>\n      <td>9.9</td>\n      <td>-11.565435</td>\n    </tr>\n  </tbody>\n</table>\n</div>",
       "datasetInfos": [],
       "metadata": {},
       "removedWidgets": [],
       "textData": null,
       "type": "htmlSandbox"
      }
     },
     "output_type": "display_data"
    }
   ],
   "source": [
    "df_grouped = df.assign(mes=pd.to_datetime(df.Date, format=\"%d/%m/%Y\").dt.month).groupby(\"mes\").agg({\"CO(GT)\": \"max\", \"T\": \"mean\"})\n",
    "df_grouped"
   ]
  },
  {
   "cell_type": "markdown",
   "metadata": {
    "application/vnd.databricks.v1+cell": {
     "cellMetadata": {
      "byteLimit": 2048000,
      "rowLimit": 10000
     },
     "inputWidgets": {},
     "nuid": "9a11492e-380c-4fc5-a67a-a2acd06d312a",
     "showTitle": false,
     "title": ""
    }
   },
   "source": [
    "### Load\n",
    "\n",
    "Criar um diretório e salvar os dados em um arquivo csv."
   ]
  },
  {
   "cell_type": "code",
   "execution_count": 0,
   "metadata": {
    "application/vnd.databricks.v1+cell": {
     "cellMetadata": {
      "byteLimit": 2048000,
      "rowLimit": 10000
     },
     "inputWidgets": {},
     "nuid": "8cb9cd65-3377-42a9-b44a-3d1098a183b2",
     "showTitle": false,
     "title": ""
    }
   },
   "outputs": [
    {
     "output_type": "stream",
     "name": "stdout",
     "output_type": "stream",
     "text": [
      "Out[7]: [FileInfo(path='dbfs:/FileStore/tables/aula_1/elt/', name='elt/', size=0, modificationTime=0),\n FileInfo(path='dbfs:/FileStore/tables/aula_1/etl/', name='etl/', size=0, modificationTime=0)]"
     ]
    }
   ],
   "source": [
    "dbutils.fs.mkdirs(\"FileStore/tables/aula_1/etl/\")\n",
    "dbutils.fs.ls(\"FileStore/tables/aula_1/\")"
   ]
  },
  {
   "cell_type": "code",
   "execution_count": 0,
   "metadata": {
    "application/vnd.databricks.v1+cell": {
     "cellMetadata": {
      "byteLimit": 2048000,
      "rowLimit": 10000
     },
     "inputWidgets": {},
     "nuid": "0cfb9c7c-10cc-4004-9116-dad5a715011b",
     "showTitle": false,
     "title": ""
    }
   },
   "outputs": [],
   "source": [
    "import pyspark.pandas as ps\n",
    "\n",
    "dfs = ps.DataFrame(df_grouped)\n",
    "dfs.to_csv(\"FileStore/tables/aula_1/etl/bi_dashboard.csv\", index=False)"
   ]
  },
  {
   "cell_type": "code",
   "execution_count": 0,
   "metadata": {
    "application/vnd.databricks.v1+cell": {
     "cellMetadata": {
      "byteLimit": 2048000,
      "rowLimit": 10000
     },
     "inputWidgets": {},
     "nuid": "9f7633e2-7ede-48aa-becd-b369bc341802",
     "showTitle": false,
     "title": ""
    }
   },
   "outputs": [
    {
     "output_type": "stream",
     "name": "stdout",
     "output_type": "stream",
     "text": [
      "Out[9]: [FileInfo(path='dbfs:/FileStore/tables/aula_1/etl/bi_dashboard.csv/', name='bi_dashboard.csv/', size=0, modificationTime=0),\n FileInfo(path='dbfs:/FileStore/tables/aula_1/etl/raw_data/', name='raw_data/', size=0, modificationTime=0)]"
     ]
    }
   ],
   "source": [
    "dbutils.fs.ls(\"FileStore/tables/aula_1/etl/\")"
   ]
  },
  {
   "cell_type": "code",
   "execution_count": 0,
   "metadata": {
    "application/vnd.databricks.v1+cell": {
     "cellMetadata": {
      "byteLimit": 2048000,
      "rowLimit": 10000
     },
     "inputWidgets": {},
     "nuid": "4995295b-ea9f-43bd-930d-6c69147e9a08",
     "showTitle": false,
     "title": ""
    }
   },
   "outputs": [
    {
     "output_type": "display_data",
     "data": {
      "text/html": [
       "<style scoped>\n",
       "  .table-result-container {\n",
       "    max-height: 300px;\n",
       "    overflow: auto;\n",
       "  }\n",
       "  table, th, td {\n",
       "    border: 1px solid black;\n",
       "    border-collapse: collapse;\n",
       "  }\n",
       "  th, td {\n",
       "    padding: 5px;\n",
       "  }\n",
       "  th {\n",
       "    text-align: left;\n",
       "  }\n",
       "</style><div class='table-result-container'><table class='table-result'><thead style='background-color: white'><tr><th>path</th><th>name</th><th>size</th><th>modificationTime</th></tr></thead><tbody><tr><td>dbfs:/FileStore/tables/aula_1/etl/bi_dashboard.csv/_SUCCESS</td><td>_SUCCESS</td><td>0</td><td>1711145112000</td></tr><tr><td>dbfs:/FileStore/tables/aula_1/etl/bi_dashboard.csv/_committed_1989785213703169077</td><td>_committed_1989785213703169077</td><td>1439</td><td>1711145111000</td></tr><tr><td>dbfs:/FileStore/tables/aula_1/etl/bi_dashboard.csv/_committed_6614323851782428056</td><td>_committed_6614323851782428056</td><td>728</td><td>1710983810000</td></tr><tr><td>dbfs:/FileStore/tables/aula_1/etl/bi_dashboard.csv/_committed_7951968242058302433</td><td>_committed_7951968242058302433</td><td>1442</td><td>1711144661000</td></tr><tr><td>dbfs:/FileStore/tables/aula_1/etl/bi_dashboard.csv/_committed_vacuum3698962440085877290</td><td>_committed_vacuum3698962440085877290</td><td>96</td><td>1711144661000</td></tr><tr><td>dbfs:/FileStore/tables/aula_1/etl/bi_dashboard.csv/_started_1989785213703169077</td><td>_started_1989785213703169077</td><td>0</td><td>1711145111000</td></tr><tr><td>dbfs:/FileStore/tables/aula_1/etl/bi_dashboard.csv/_started_7951968242058302433</td><td>_started_7951968242058302433</td><td>0</td><td>1711144660000</td></tr><tr><td>dbfs:/FileStore/tables/aula_1/etl/bi_dashboard.csv/part-00000-tid-1989785213703169077-47771cfd-e8e7-4430-be9d-9383b8b4ebea-396-1-c000.csv</td><td>part-00000-tid-1989785213703169077-47771cfd-e8e7-4430-be9d-9383b8b4ebea-396-1-c000.csv</td><td>32</td><td>1711145111000</td></tr><tr><td>dbfs:/FileStore/tables/aula_1/etl/bi_dashboard.csv/part-00001-tid-1989785213703169077-47771cfd-e8e7-4430-be9d-9383b8b4ebea-397-1-c000.csv</td><td>part-00001-tid-1989785213703169077-47771cfd-e8e7-4430-be9d-9383b8b4ebea-397-1-c000.csv</td><td>55</td><td>1711145111000</td></tr><tr><td>dbfs:/FileStore/tables/aula_1/etl/bi_dashboard.csv/part-00002-tid-1989785213703169077-47771cfd-e8e7-4430-be9d-9383b8b4ebea-398-1-c000.csv</td><td>part-00002-tid-1989785213703169077-47771cfd-e8e7-4430-be9d-9383b8b4ebea-398-1-c000.csv</td><td>31</td><td>1711145111000</td></tr><tr><td>dbfs:/FileStore/tables/aula_1/etl/bi_dashboard.csv/part-00003-tid-1989785213703169077-47771cfd-e8e7-4430-be9d-9383b8b4ebea-399-1-c000.csv</td><td>part-00003-tid-1989785213703169077-47771cfd-e8e7-4430-be9d-9383b8b4ebea-399-1-c000.csv</td><td>54</td><td>1711145111000</td></tr><tr><td>dbfs:/FileStore/tables/aula_1/etl/bi_dashboard.csv/part-00004-tid-1989785213703169077-47771cfd-e8e7-4430-be9d-9383b8b4ebea-400-1-c000.csv</td><td>part-00004-tid-1989785213703169077-47771cfd-e8e7-4430-be9d-9383b8b4ebea-400-1-c000.csv</td><td>32</td><td>1711145111000</td></tr><tr><td>dbfs:/FileStore/tables/aula_1/etl/bi_dashboard.csv/part-00005-tid-1989785213703169077-47771cfd-e8e7-4430-be9d-9383b8b4ebea-401-1-c000.csv</td><td>part-00005-tid-1989785213703169077-47771cfd-e8e7-4430-be9d-9383b8b4ebea-401-1-c000.csv</td><td>54</td><td>1711145111000</td></tr><tr><td>dbfs:/FileStore/tables/aula_1/etl/bi_dashboard.csv/part-00006-tid-1989785213703169077-47771cfd-e8e7-4430-be9d-9383b8b4ebea-402-1-c000.csv</td><td>part-00006-tid-1989785213703169077-47771cfd-e8e7-4430-be9d-9383b8b4ebea-402-1-c000.csv</td><td>31</td><td>1711145111000</td></tr><tr><td>dbfs:/FileStore/tables/aula_1/etl/bi_dashboard.csv/part-00007-tid-1989785213703169077-47771cfd-e8e7-4430-be9d-9383b8b4ebea-403-1-c000.csv</td><td>part-00007-tid-1989785213703169077-47771cfd-e8e7-4430-be9d-9383b8b4ebea-403-1-c000.csv</td><td>56</td><td>1711145111000</td></tr></tbody></table></div>"
      ]
     },
     "metadata": {
      "application/vnd.databricks.v1+output": {
       "addedWidgets": {},
       "aggData": [],
       "aggError": "",
       "aggOverflow": false,
       "aggSchema": [],
       "aggSeriesLimitReached": false,
       "aggType": "",
       "arguments": {},
       "columnCustomDisplayInfos": {},
       "data": [
        [
         "dbfs:/FileStore/tables/aula_1/etl/bi_dashboard.csv/_SUCCESS",
         "_SUCCESS",
         0,
         1711145112000
        ],
        [
         "dbfs:/FileStore/tables/aula_1/etl/bi_dashboard.csv/_committed_1989785213703169077",
         "_committed_1989785213703169077",
         1439,
         1711145111000
        ],
        [
         "dbfs:/FileStore/tables/aula_1/etl/bi_dashboard.csv/_committed_6614323851782428056",
         "_committed_6614323851782428056",
         728,
         1710983810000
        ],
        [
         "dbfs:/FileStore/tables/aula_1/etl/bi_dashboard.csv/_committed_7951968242058302433",
         "_committed_7951968242058302433",
         1442,
         1711144661000
        ],
        [
         "dbfs:/FileStore/tables/aula_1/etl/bi_dashboard.csv/_committed_vacuum3698962440085877290",
         "_committed_vacuum3698962440085877290",
         96,
         1711144661000
        ],
        [
         "dbfs:/FileStore/tables/aula_1/etl/bi_dashboard.csv/_started_1989785213703169077",
         "_started_1989785213703169077",
         0,
         1711145111000
        ],
        [
         "dbfs:/FileStore/tables/aula_1/etl/bi_dashboard.csv/_started_7951968242058302433",
         "_started_7951968242058302433",
         0,
         1711144660000
        ],
        [
         "dbfs:/FileStore/tables/aula_1/etl/bi_dashboard.csv/part-00000-tid-1989785213703169077-47771cfd-e8e7-4430-be9d-9383b8b4ebea-396-1-c000.csv",
         "part-00000-tid-1989785213703169077-47771cfd-e8e7-4430-be9d-9383b8b4ebea-396-1-c000.csv",
         32,
         1711145111000
        ],
        [
         "dbfs:/FileStore/tables/aula_1/etl/bi_dashboard.csv/part-00001-tid-1989785213703169077-47771cfd-e8e7-4430-be9d-9383b8b4ebea-397-1-c000.csv",
         "part-00001-tid-1989785213703169077-47771cfd-e8e7-4430-be9d-9383b8b4ebea-397-1-c000.csv",
         55,
         1711145111000
        ],
        [
         "dbfs:/FileStore/tables/aula_1/etl/bi_dashboard.csv/part-00002-tid-1989785213703169077-47771cfd-e8e7-4430-be9d-9383b8b4ebea-398-1-c000.csv",
         "part-00002-tid-1989785213703169077-47771cfd-e8e7-4430-be9d-9383b8b4ebea-398-1-c000.csv",
         31,
         1711145111000
        ],
        [
         "dbfs:/FileStore/tables/aula_1/etl/bi_dashboard.csv/part-00003-tid-1989785213703169077-47771cfd-e8e7-4430-be9d-9383b8b4ebea-399-1-c000.csv",
         "part-00003-tid-1989785213703169077-47771cfd-e8e7-4430-be9d-9383b8b4ebea-399-1-c000.csv",
         54,
         1711145111000
        ],
        [
         "dbfs:/FileStore/tables/aula_1/etl/bi_dashboard.csv/part-00004-tid-1989785213703169077-47771cfd-e8e7-4430-be9d-9383b8b4ebea-400-1-c000.csv",
         "part-00004-tid-1989785213703169077-47771cfd-e8e7-4430-be9d-9383b8b4ebea-400-1-c000.csv",
         32,
         1711145111000
        ],
        [
         "dbfs:/FileStore/tables/aula_1/etl/bi_dashboard.csv/part-00005-tid-1989785213703169077-47771cfd-e8e7-4430-be9d-9383b8b4ebea-401-1-c000.csv",
         "part-00005-tid-1989785213703169077-47771cfd-e8e7-4430-be9d-9383b8b4ebea-401-1-c000.csv",
         54,
         1711145111000
        ],
        [
         "dbfs:/FileStore/tables/aula_1/etl/bi_dashboard.csv/part-00006-tid-1989785213703169077-47771cfd-e8e7-4430-be9d-9383b8b4ebea-402-1-c000.csv",
         "part-00006-tid-1989785213703169077-47771cfd-e8e7-4430-be9d-9383b8b4ebea-402-1-c000.csv",
         31,
         1711145111000
        ],
        [
         "dbfs:/FileStore/tables/aula_1/etl/bi_dashboard.csv/part-00007-tid-1989785213703169077-47771cfd-e8e7-4430-be9d-9383b8b4ebea-403-1-c000.csv",
         "part-00007-tid-1989785213703169077-47771cfd-e8e7-4430-be9d-9383b8b4ebea-403-1-c000.csv",
         56,
         1711145111000
        ]
       ],
       "datasetInfos": [],
       "dbfsResultPath": null,
       "isJsonSchema": true,
       "metadata": {},
       "overflow": false,
       "plotOptions": {
        "customPlotOptions": {},
        "displayType": "table",
        "pivotAggregation": null,
        "pivotColumns": null,
        "xColumns": null,
        "yColumns": null
       },
       "removedWidgets": [],
       "schema": [
        {
         "metadata": "{}",
         "name": "path",
         "type": "\"string\""
        },
        {
         "metadata": "{}",
         "name": "name",
         "type": "\"string\""
        },
        {
         "metadata": "{}",
         "name": "size",
         "type": "\"long\""
        },
        {
         "metadata": "{}",
         "name": "modificationTime",
         "type": "\"long\""
        }
       ],
       "type": "table"
      }
     },
     "output_type": "display_data"
    }
   ],
   "source": [
    "display(dbutils.fs.ls(\"FileStore/tables/aula_1/etl/bi_dashboard.csv/\"))"
   ]
  },
  {
   "cell_type": "markdown",
   "metadata": {
    "application/vnd.databricks.v1+cell": {
     "cellMetadata": {
      "byteLimit": 2048000,
      "rowLimit": 10000
     },
     "inputWidgets": {},
     "nuid": "74bd07c9-878c-4094-a4a7-e87866c5c06c",
     "showTitle": false,
     "title": ""
    }
   },
   "source": [
    "## Exemplo de um ELT\n",
    "\n",
    "1. Extração de dados em formato de arquivos do tipo csv, da base de qualidade do ar do link https://raw.githubusercontent.com/PacktPublishing/Time-Series-Analysis-with-Python-Cookbook./main/datasets/Ch2/AirQualityUCI.csv ;\n",
    "\n",
    "2. Armazenamento dos dados extraídos em arquivo local;\n",
    "\n",
    "3. Transformação desses dados;"
   ]
  },
  {
   "cell_type": "code",
   "execution_count": 0,
   "metadata": {
    "application/vnd.databricks.v1+cell": {
     "cellMetadata": {
      "byteLimit": 2048000,
      "rowLimit": 10000
     },
     "inputWidgets": {},
     "nuid": "d2aa8f48-6f3c-48d0-babb-6b067cdbf61c",
     "showTitle": false,
     "title": ""
    }
   },
   "outputs": [
    {
     "output_type": "display_data",
     "data": {
      "text/html": [
       "<div>\n",
       "<style scoped>\n",
       "    .dataframe tbody tr th:only-of-type {\n",
       "        vertical-align: middle;\n",
       "    }\n",
       "\n",
       "    .dataframe tbody tr th {\n",
       "        vertical-align: top;\n",
       "    }\n",
       "\n",
       "    .dataframe thead th {\n",
       "        text-align: right;\n",
       "    }\n",
       "</style>\n",
       "<table border=\"1\" class=\"dataframe\">\n",
       "  <thead>\n",
       "    <tr style=\"text-align: right;\">\n",
       "      <th></th>\n",
       "      <th>Date</th>\n",
       "      <th>Time</th>\n",
       "      <th>CO(GT)</th>\n",
       "      <th>PT08.S1(CO)</th>\n",
       "      <th>NMHC(GT)</th>\n",
       "      <th>C6H6(GT)</th>\n",
       "      <th>PT08.S2(NMHC)</th>\n",
       "      <th>NOx(GT)</th>\n",
       "      <th>PT08.S3(NOx)</th>\n",
       "      <th>NO2(GT)</th>\n",
       "      <th>PT08.S4(NO2)</th>\n",
       "      <th>PT08.S5(O3)</th>\n",
       "      <th>T</th>\n",
       "      <th>RH</th>\n",
       "      <th>AH</th>\n",
       "    </tr>\n",
       "  </thead>\n",
       "  <tbody>\n",
       "    <tr>\n",
       "      <th>0</th>\n",
       "      <td>10/03/2004</td>\n",
       "      <td>18:00:00</td>\n",
       "      <td>2.6</td>\n",
       "      <td>1360.00</td>\n",
       "      <td>150</td>\n",
       "      <td>11.881723</td>\n",
       "      <td>1045.50</td>\n",
       "      <td>166.0</td>\n",
       "      <td>1056.25</td>\n",
       "      <td>113.0</td>\n",
       "      <td>1692.00</td>\n",
       "      <td>1267.50</td>\n",
       "      <td>13.60</td>\n",
       "      <td>48.875001</td>\n",
       "      <td>0.757754</td>\n",
       "    </tr>\n",
       "    <tr>\n",
       "      <th>1</th>\n",
       "      <td>10/03/2004</td>\n",
       "      <td>19:00:00</td>\n",
       "      <td>2.0</td>\n",
       "      <td>1292.25</td>\n",
       "      <td>112</td>\n",
       "      <td>9.397165</td>\n",
       "      <td>954.75</td>\n",
       "      <td>103.0</td>\n",
       "      <td>1173.75</td>\n",
       "      <td>92.0</td>\n",
       "      <td>1558.75</td>\n",
       "      <td>972.25</td>\n",
       "      <td>13.30</td>\n",
       "      <td>47.700000</td>\n",
       "      <td>0.725487</td>\n",
       "    </tr>\n",
       "    <tr>\n",
       "      <th>2</th>\n",
       "      <td>10/03/2004</td>\n",
       "      <td>20:00:00</td>\n",
       "      <td>2.2</td>\n",
       "      <td>1402.00</td>\n",
       "      <td>88</td>\n",
       "      <td>8.997817</td>\n",
       "      <td>939.25</td>\n",
       "      <td>131.0</td>\n",
       "      <td>1140.00</td>\n",
       "      <td>114.0</td>\n",
       "      <td>1554.50</td>\n",
       "      <td>1074.00</td>\n",
       "      <td>11.90</td>\n",
       "      <td>53.975000</td>\n",
       "      <td>0.750239</td>\n",
       "    </tr>\n",
       "    <tr>\n",
       "      <th>3</th>\n",
       "      <td>10/03/2004</td>\n",
       "      <td>21:00:00</td>\n",
       "      <td>2.2</td>\n",
       "      <td>1375.50</td>\n",
       "      <td>80</td>\n",
       "      <td>9.228796</td>\n",
       "      <td>948.25</td>\n",
       "      <td>172.0</td>\n",
       "      <td>1092.00</td>\n",
       "      <td>122.0</td>\n",
       "      <td>1583.75</td>\n",
       "      <td>1203.25</td>\n",
       "      <td>11.00</td>\n",
       "      <td>60.000000</td>\n",
       "      <td>0.786713</td>\n",
       "    </tr>\n",
       "    <tr>\n",
       "      <th>4</th>\n",
       "      <td>10/03/2004</td>\n",
       "      <td>22:00:00</td>\n",
       "      <td>1.6</td>\n",
       "      <td>1272.25</td>\n",
       "      <td>51</td>\n",
       "      <td>6.518224</td>\n",
       "      <td>835.50</td>\n",
       "      <td>131.0</td>\n",
       "      <td>1205.00</td>\n",
       "      <td>116.0</td>\n",
       "      <td>1490.00</td>\n",
       "      <td>1110.00</td>\n",
       "      <td>11.15</td>\n",
       "      <td>59.575001</td>\n",
       "      <td>0.788794</td>\n",
       "    </tr>\n",
       "  </tbody>\n",
       "</table>\n",
       "</div>"
      ]
     },
     "metadata": {
      "application/vnd.databricks.v1+output": {
       "addedWidgets": {},
       "arguments": {},
       "data": "<div>\n<style scoped>\n    .dataframe tbody tr th:only-of-type {\n        vertical-align: middle;\n    }\n\n    .dataframe tbody tr th {\n        vertical-align: top;\n    }\n\n    .dataframe thead th {\n        text-align: right;\n    }\n</style>\n<table border=\"1\" class=\"dataframe\">\n  <thead>\n    <tr style=\"text-align: right;\">\n      <th></th>\n      <th>Date</th>\n      <th>Time</th>\n      <th>CO(GT)</th>\n      <th>PT08.S1(CO)</th>\n      <th>NMHC(GT)</th>\n      <th>C6H6(GT)</th>\n      <th>PT08.S2(NMHC)</th>\n      <th>NOx(GT)</th>\n      <th>PT08.S3(NOx)</th>\n      <th>NO2(GT)</th>\n      <th>PT08.S4(NO2)</th>\n      <th>PT08.S5(O3)</th>\n      <th>T</th>\n      <th>RH</th>\n      <th>AH</th>\n    </tr>\n  </thead>\n  <tbody>\n    <tr>\n      <th>0</th>\n      <td>10/03/2004</td>\n      <td>18:00:00</td>\n      <td>2.6</td>\n      <td>1360.00</td>\n      <td>150</td>\n      <td>11.881723</td>\n      <td>1045.50</td>\n      <td>166.0</td>\n      <td>1056.25</td>\n      <td>113.0</td>\n      <td>1692.00</td>\n      <td>1267.50</td>\n      <td>13.60</td>\n      <td>48.875001</td>\n      <td>0.757754</td>\n    </tr>\n    <tr>\n      <th>1</th>\n      <td>10/03/2004</td>\n      <td>19:00:00</td>\n      <td>2.0</td>\n      <td>1292.25</td>\n      <td>112</td>\n      <td>9.397165</td>\n      <td>954.75</td>\n      <td>103.0</td>\n      <td>1173.75</td>\n      <td>92.0</td>\n      <td>1558.75</td>\n      <td>972.25</td>\n      <td>13.30</td>\n      <td>47.700000</td>\n      <td>0.725487</td>\n    </tr>\n    <tr>\n      <th>2</th>\n      <td>10/03/2004</td>\n      <td>20:00:00</td>\n      <td>2.2</td>\n      <td>1402.00</td>\n      <td>88</td>\n      <td>8.997817</td>\n      <td>939.25</td>\n      <td>131.0</td>\n      <td>1140.00</td>\n      <td>114.0</td>\n      <td>1554.50</td>\n      <td>1074.00</td>\n      <td>11.90</td>\n      <td>53.975000</td>\n      <td>0.750239</td>\n    </tr>\n    <tr>\n      <th>3</th>\n      <td>10/03/2004</td>\n      <td>21:00:00</td>\n      <td>2.2</td>\n      <td>1375.50</td>\n      <td>80</td>\n      <td>9.228796</td>\n      <td>948.25</td>\n      <td>172.0</td>\n      <td>1092.00</td>\n      <td>122.0</td>\n      <td>1583.75</td>\n      <td>1203.25</td>\n      <td>11.00</td>\n      <td>60.000000</td>\n      <td>0.786713</td>\n    </tr>\n    <tr>\n      <th>4</th>\n      <td>10/03/2004</td>\n      <td>22:00:00</td>\n      <td>1.6</td>\n      <td>1272.25</td>\n      <td>51</td>\n      <td>6.518224</td>\n      <td>835.50</td>\n      <td>131.0</td>\n      <td>1205.00</td>\n      <td>116.0</td>\n      <td>1490.00</td>\n      <td>1110.00</td>\n      <td>11.15</td>\n      <td>59.575001</td>\n      <td>0.788794</td>\n    </tr>\n  </tbody>\n</table>\n</div>",
       "datasetInfos": [],
       "metadata": {},
       "removedWidgets": [],
       "textData": null,
       "type": "htmlSandbox"
      }
     },
     "output_type": "display_data"
    }
   ],
   "source": [
    "url = 'https://raw.githubusercontent.com/PacktPublishing/Time-Series-Analysis-with-Python-Cookbook./main/datasets/Ch2/AirQualityUCI.csv'\n",
    "df_elt = pd.read_csv(url, delimiter=';')\n",
    "df_elt.head()"
   ]
  },
  {
   "cell_type": "markdown",
   "metadata": {
    "application/vnd.databricks.v1+cell": {
     "cellMetadata": {
      "byteLimit": 2048000,
      "rowLimit": 10000
     },
     "inputWidgets": {},
     "nuid": "454824ef-1648-4614-87d3-fd120691260d",
     "showTitle": false,
     "title": ""
    }
   },
   "source": [
    "### Load\n",
    "\n",
    "Criar um diretório e salvar os dados em um arquivo csv."
   ]
  },
  {
   "cell_type": "code",
   "execution_count": 0,
   "metadata": {
    "application/vnd.databricks.v1+cell": {
     "cellMetadata": {
      "byteLimit": 2048000,
      "rowLimit": 10000
     },
     "inputWidgets": {},
     "nuid": "9adf9fd5-c54f-4747-9b9c-9af4108d4a96",
     "showTitle": false,
     "title": ""
    }
   },
   "outputs": [],
   "source": [
    "dbutils.fs.mkdirs(\"FileStore/tables/aula_1/elt/bronze/\")\n",
    "df_elt_ps = ps.DataFrame(df_elt)\n",
    "df_elt_ps.to_csv(\"/FileStore/tables/aula_1/elt/bronze/AirQuality.csv\", index=True)"
   ]
  },
  {
   "cell_type": "markdown",
   "metadata": {
    "application/vnd.databricks.v1+cell": {
     "cellMetadata": {
      "byteLimit": 2048000,
      "rowLimit": 10000
     },
     "inputWidgets": {},
     "nuid": "abf225f8-13e1-44de-a565-e0ae9c5fdfa3",
     "showTitle": false,
     "title": ""
    }
   },
   "source": [
    "### Transformação\n",
    "\n",
    "Suponha que o time de analytics precisa dos dados de valor máximo de CO e média de temperatura mensal."
   ]
  },
  {
   "cell_type": "code",
   "execution_count": 0,
   "metadata": {
    "application/vnd.databricks.v1+cell": {
     "cellMetadata": {
      "byteLimit": 2048000,
      "rowLimit": 10000
     },
     "inputWidgets": {},
     "nuid": "b01d3b43-5028-4d92-a22e-5c2810445e7b",
     "showTitle": false,
     "title": ""
    }
   },
   "outputs": [
    {
     "output_type": "display_data",
     "data": {
      "text/html": [
       "<div>\n",
       "<style scoped>\n",
       "    .dataframe tbody tr th:only-of-type {\n",
       "        vertical-align: middle;\n",
       "    }\n",
       "\n",
       "    .dataframe tbody tr th {\n",
       "        vertical-align: top;\n",
       "    }\n",
       "\n",
       "    .dataframe thead th {\n",
       "        text-align: right;\n",
       "    }\n",
       "</style>\n",
       "<table border=\"1\" class=\"dataframe\">\n",
       "  <thead>\n",
       "    <tr style=\"text-align: right;\">\n",
       "      <th></th>\n",
       "      <th>CO(GT)</th>\n",
       "      <th>T</th>\n",
       "    </tr>\n",
       "    <tr>\n",
       "      <th>mes</th>\n",
       "      <th></th>\n",
       "      <th></th>\n",
       "    </tr>\n",
       "  </thead>\n",
       "  <tbody>\n",
       "    <tr>\n",
       "      <th>9</th>\n",
       "      <td>7.5</td>\n",
       "      <td>19.005671</td>\n",
       "    </tr>\n",
       "    <tr>\n",
       "      <th>10</th>\n",
       "      <td>9.5</td>\n",
       "      <td>20.200090</td>\n",
       "    </tr>\n",
       "    <tr>\n",
       "      <th>11</th>\n",
       "      <td>11.9</td>\n",
       "      <td>13.482384</td>\n",
       "    </tr>\n",
       "    <tr>\n",
       "      <th>6</th>\n",
       "      <td>6.4</td>\n",
       "      <td>14.521481</td>\n",
       "    </tr>\n",
       "    <tr>\n",
       "      <th>5</th>\n",
       "      <td>6.5</td>\n",
       "      <td>16.134890</td>\n",
       "    </tr>\n",
       "    <tr>\n",
       "      <th>4</th>\n",
       "      <td>7.3</td>\n",
       "      <td>9.530184</td>\n",
       "    </tr>\n",
       "    <tr>\n",
       "      <th>3</th>\n",
       "      <td>8.1</td>\n",
       "      <td>13.522721</td>\n",
       "    </tr>\n",
       "    <tr>\n",
       "      <th>2</th>\n",
       "      <td>8.4</td>\n",
       "      <td>-16.312587</td>\n",
       "    </tr>\n",
       "    <tr>\n",
       "      <th>7</th>\n",
       "      <td>5.3</td>\n",
       "      <td>29.110170</td>\n",
       "    </tr>\n",
       "    <tr>\n",
       "      <th>8</th>\n",
       "      <td>3.5</td>\n",
       "      <td>14.039819</td>\n",
       "    </tr>\n",
       "    <tr>\n",
       "      <th>12</th>\n",
       "      <td>9.9</td>\n",
       "      <td>-11.565435</td>\n",
       "    </tr>\n",
       "    <tr>\n",
       "      <th>1</th>\n",
       "      <td>8.7</td>\n",
       "      <td>-8.851680</td>\n",
       "    </tr>\n",
       "  </tbody>\n",
       "</table>\n",
       "</div>"
      ]
     },
     "metadata": {
      "application/vnd.databricks.v1+output": {
       "addedWidgets": {},
       "arguments": {},
       "data": "<div>\n<style scoped>\n    .dataframe tbody tr th:only-of-type {\n        vertical-align: middle;\n    }\n\n    .dataframe tbody tr th {\n        vertical-align: top;\n    }\n\n    .dataframe thead th {\n        text-align: right;\n    }\n</style>\n<table border=\"1\" class=\"dataframe\">\n  <thead>\n    <tr style=\"text-align: right;\">\n      <th></th>\n      <th>CO(GT)</th>\n      <th>T</th>\n    </tr>\n    <tr>\n      <th>mes</th>\n      <th></th>\n      <th></th>\n    </tr>\n  </thead>\n  <tbody>\n    <tr>\n      <th>9</th>\n      <td>7.5</td>\n      <td>19.005671</td>\n    </tr>\n    <tr>\n      <th>10</th>\n      <td>9.5</td>\n      <td>20.200090</td>\n    </tr>\n    <tr>\n      <th>11</th>\n      <td>11.9</td>\n      <td>13.482384</td>\n    </tr>\n    <tr>\n      <th>6</th>\n      <td>6.4</td>\n      <td>14.521481</td>\n    </tr>\n    <tr>\n      <th>5</th>\n      <td>6.5</td>\n      <td>16.134890</td>\n    </tr>\n    <tr>\n      <th>4</th>\n      <td>7.3</td>\n      <td>9.530184</td>\n    </tr>\n    <tr>\n      <th>3</th>\n      <td>8.1</td>\n      <td>13.522721</td>\n    </tr>\n    <tr>\n      <th>2</th>\n      <td>8.4</td>\n      <td>-16.312587</td>\n    </tr>\n    <tr>\n      <th>7</th>\n      <td>5.3</td>\n      <td>29.110170</td>\n    </tr>\n    <tr>\n      <th>8</th>\n      <td>3.5</td>\n      <td>14.039819</td>\n    </tr>\n    <tr>\n      <th>12</th>\n      <td>9.9</td>\n      <td>-11.565435</td>\n    </tr>\n    <tr>\n      <th>1</th>\n      <td>8.7</td>\n      <td>-8.851680</td>\n    </tr>\n  </tbody>\n</table>\n</div>",
       "datasetInfos": [],
       "metadata": {},
       "removedWidgets": [],
       "textData": null,
       "type": "htmlSandbox"
      }
     },
     "output_type": "display_data"
    }
   ],
   "source": [
    "df_elt = ps.read_csv(\"/FileStore/tables/aula_1/elt/bronze/AirQuality.csv\")\n",
    "\n",
    "df_elt[\"mes\"] = ps.to_datetime(df_elt['Date']).dt.month\n",
    "df_grouped = df_elt.groupby(\"mes\").agg({\"CO(GT)\": \"max\", \"T\": \"mean\"})\n",
    "df_grouped"
   ]
  },
  {
   "cell_type": "markdown",
   "metadata": {
    "application/vnd.databricks.v1+cell": {
     "cellMetadata": {
      "byteLimit": 2048000,
      "rowLimit": 10000
     },
     "inputWidgets": {},
     "nuid": "2b75a373-8ca5-4100-83b9-0bc99786d5d1",
     "showTitle": false,
     "title": ""
    }
   },
   "source": [
    "## Exercício\n",
    "\n",
    "Realizar o processo de ETL e ELT utilizando os dados da [covid](https://en.wikipedia.org/wiki/COVID-19_pandemic_by_country_and_territory) e o `pd.read_html()` de forma a trazer os dados agrupados por América, África, Asia e Europa, bem como uma coluna com o total de pessoas vacinadas. Renomeie as colunas no padrão snake case removendo valores desnecessários.\n",
    "\n",
    "Obs: a saída do read_html é uma lista de dataframes, escolha o item 15 para trabalhar (item que tem as colunas 'Region[30]', 'Total cases', 'Total deaths', 'Cases per million', 'Deaths per million', 'Current weekly cases', 'Current weekly deaths', 'Population millions', 'Vaccinated %[31]')\n"
   ]
  },
  {
   "cell_type": "code",
   "execution_count": 0,
   "metadata": {
    "application/vnd.databricks.v1+cell": {
     "cellMetadata": {
      "byteLimit": 2048000,
      "rowLimit": 10000
     },
     "inputWidgets": {},
     "nuid": "092e36d9-3914-4872-94ac-4d36e7dad594",
     "showTitle": false,
     "title": ""
    }
   },
   "outputs": [
    {
     "output_type": "stream",
     "name": "stdout",
     "output_type": "stream",
     "text": [
      "Python interpreter will be restarted.\nRequirement already satisfied: lxml in /local_disk0/.ephemeral_nfs/envs/pythonEnv-dfaf3465-2c76-41ff-b084-8221bbc3bf6b/lib/python3.9/site-packages (5.1.0)\nPython interpreter will be restarted.\n"
     ]
    }
   ],
   "source": [
    "pip install lxml"
   ]
  },
  {
   "cell_type": "code",
   "execution_count": 0,
   "metadata": {
    "application/vnd.databricks.v1+cell": {
     "cellMetadata": {
      "byteLimit": 2048000,
      "rowLimit": 10000
     },
     "inputWidgets": {},
     "nuid": "8e21fa3a-8835-4197-8239-2e3c408fbac6",
     "showTitle": false,
     "title": ""
    }
   },
   "outputs": [],
   "source": [
    "dbutils.library.restartPython()"
   ]
  },
  {
   "cell_type": "code",
   "execution_count": 0,
   "metadata": {
    "application/vnd.databricks.v1+cell": {
     "cellMetadata": {
      "byteLimit": 2048000,
      "rowLimit": 10000
     },
     "inputWidgets": {},
     "nuid": "09d7bb9e-2c26-46ce-9256-babc2a50d844",
     "showTitle": false,
     "title": ""
    }
   },
   "outputs": [
    {
     "output_type": "stream",
     "name": "stdout",
     "output_type": "stream",
     "text": [
      "Out[1]: [                                                                                                                                                                                                                                                                                                                                                                                                                                                                                                                                                                                                                                                                                                                                                                                                                                                 COVID-19 pandemic                                                                                                                                                                                                                                                                                                                                                                                                                                                                                                                                                                                                                                                                                                                                                                                                                                             COVID-19 pandemic.1\n 0   Confirmed deaths per 100,000 population,[1][note 1] as of 20 December 2023 .mw-parser-output .div-col{margin-top:0.3em;column-width:30em}.mw-parser-output .div-col-small{font-size:90%}.mw-parser-output .div-col-rules{column-rule:1px solid #aaa}.mw-parser-output .div-col dl,.mw-parser-output .div-col ol,.mw-parser-output .div-col ul{margin-top:0}.mw-parser-output .div-col li,.mw-parser-output .div-col dd{page-break-inside:avoid;break-inside:avoid-column}.mw-parser-output .legend{page-break-inside:avoid;break-inside:avoid-column}.mw-parser-output .legend-color{display:inline-block;min-width:1.25em;height:1.25em;line-height:1.25;margin:1px 0;text-align:center;border:1px solid black;background-color:transparent;color:black}.mw-parser-output .legend-text{} 555+ 100–555 18–100 3.3–18 0.6–3.3 0.1–0.6 <0.1 No deaths or no data  Confirmed deaths per 100,000 population,[1][note 1] as of 20 December 2023 .mw-parser-output .div-col{margin-top:0.3em;column-width:30em}.mw-parser-output .div-col-small{font-size:90%}.mw-parser-output .div-col-rules{column-rule:1px solid #aaa}.mw-parser-output .div-col dl,.mw-parser-output .div-col ol,.mw-parser-output .div-col ul{margin-top:0}.mw-parser-output .div-col li,.mw-parser-output .div-col dd{page-break-inside:avoid;break-inside:avoid-column}.mw-parser-output .legend{page-break-inside:avoid;break-inside:avoid-column}.mw-parser-output .legend-color{display:inline-block;min-width:1.25em;height:1.25em;line-height:1.25;margin:1px 0;text-align:center;border:1px solid black;background-color:transparent;color:black}.mw-parser-output .legend-text{} 555+ 100–555 18–100 3.3–18 0.6–3.3 0.1–0.6 <0.1 No deaths or no data\n 1                                                                                                                                                                                                                                                                                                                                                                                                                                                                                                                                                                                                                                                                                                                                                                                                                                                          Disease                                                                                                                                                                                                                                                                                                                                                                                                                                                                                                                                                                                                                                                                                                                                                                                                                                                        COVID-19\n 2                                                                                                                                                                                                                                                                                                                                                                                                                                                                                                                                                                                                                                                                                                                                                                                                                                                     Virus strain                                                                                                                                                                                                                                                                                                                                                                                                                                                                                                                                                                                                                                                                                                                                                                                                                                                      SARS-CoV-2\n 3                                                                                                                                                                                                                                                                                                                                                                                                                                                                                                                                                                                                                                                                                                                                                                                                                                                           Source                                                                                                                                                                                                                                                                                                                                                                                                                                                                                                                                                                                                                                                                                                                                                                                                                  Probably bats, possibly via pangolins[2][3][4]\n 4                                                                                                                                                                                                                                                                                                                                                                                                                                                                                                                                                                                                                                                                                                                                                                                                                                                         Location                                                                                                                                                                                                                                                                                                                                                                                                                                                                                                                                                                                                                                                                                                                                                                                                                                                       Worldwide\n 5                                                                                                                                                                                                                                                                                                                                                                                                                                                                                                                                                                                                                                                                                                                                                                                                                                                   First outbreak                                                                                                                                                                                                                                                                                                                                                                                                                                                                                                                                                                                                                                                                                                                                                                                                                                                        China[5]\n 6                                                                                                                                                                                                                                                                                                                                                                                                                                                                                                                                                                                                                                                                                                                                                                                                                                                       Index case                                                                                                                                                                                                                                                                                                                                                                                                                                                                                     Wuhan, Hubei, China.mw-parser-output .geo-default,.mw-parser-output .geo-dms,.mw-parser-output .geo-dec{display:inline}.mw-parser-output .geo-nondefault,.mw-parser-output .geo-multi-punct,.mw-parser-output .geo-inline-hidden{display:none}.mw-parser-output .longitude,.mw-parser-output .latitude{white-space:nowrap}30°37′11″N 114°15′28″E﻿ / ﻿30.61972°N 114.25778°E\n 7                                                                                                                                                                                                                                                                                                                                                                                                                                                                                                                                                                                                                                                                                                                                                                                                                                                             Date                                                                                                                                                                                                                                                                                                                                                                                                                                                                                                                                                                                                                                                                                                          First case of COVID-19: 17 November 2019 Public health emergency of international concern: 30 January 2020 – 5 May 2023 (3 years, 3 months and 5 days)\n 8                                                                                                                                                                                                                                                                                                                                                                                                                                                                                                                                                                                                                                                                                                                                                                                                                                                  Confirmed cases                                                                                                                                                                                                                                                                                                                                                                                                                                                                                                                                                                                                                                                                                                                                                                                                                                                  774,834,237[6]\n 9                                                                                                                                                                                                                                                                                                                                                                                                                                                                                                                                                                                                                                                                                                                                                                                                                                                           Deaths                                                                                                                                                                                                                                                                                                                                                                                                                                                                                                                                                                                                                                                                                                                                                                                                                                                    7,037,007[6]\n 10                                                                                                                                                                                                                                                                                                                                                                                                                                                                                                                                                                                                                                                                                                                                                                                                                                                    Vaccinations                                                                                                                                                                                                                                                                                                                                                                                                                                                                                                                                                                                                                                                                                                                                                    5,630,414,445[6] (total vaccinated)5,176,866,001[6] (fully vaccinated)13,570,586,755[6] (doses administered),\n                                                              0\n 0  Map of total confirmed cases by country[10][note 2][note 3]\n 1                  Date of latest upload at the Commons source,\n                                                                    0\n 0  Map of confirmed cases per million by country[11][note 2][note 3]\n 1                        Date of latest upload at the Commons source,\n                                                               0\n 0  Map of total confirmed deaths by country[12][note 2][note 3]\n 1                                                  Date on map.,\n                                                                                  0\n 0  Map of total confirmed deaths per million people by country[13][note 2][note 3]\n 1                                                                     Date on map.,\n                                                                                      0\n 0  Map of daily new confirmed deaths per million people by country[14][note 2][note 3]\n 1                                                                         Date on map.,\n                                                                                       0\n 0  Graph of daily new confirmed deaths worldwide per million people[15][note 2][note 3]\n 1                                                            Date on timeline at bottom,\n                                                                                  0\n 0  Graph showing daily count of new confirmed deaths worldwide[16][note 2][note 3]\n 1                                                       Date on timeline at bottom,\n                                                                              0\n 0  Graph of weekly count of new confirmed deaths worldwide[17][note 2][note 3]\n 1                                                   Date on timeline at bottom,\n                                                                                         0\n 0  Share of fully vaccinated population by country relative to population[18][19][note 4]\n 1                                                                             Date on map,\n                                                                                                          0\n 0  Share of population with at least one dose of vaccine by country relative to population[18][20][note 4]\n 1                                                                                              Date on map,\n                                                                       0\n 0  Vaccine doses administered per 100 people by country[18][21][note 4]\n 1                                                           Date on map,\n                                                                                                                                                                                                                                                                                                                                                                                                                                                                                                                                                                                                                                                                                                                                                                                                                                                                                                                                                                                                                                                                                                                                                                                             Unnamed: 0                                                                                                                                                                                                                                                                                                                                                                                                                                                                                                                                                                                                                                                                                                                                                                                                                                                                                                                                                                                                                                                                                                                                                             \n\n*** WARNING: max output size exceeded, skipping output. ***\n\n                                                                                                                                                                                                                                                                                                                                                                                               Europe                                                                                                                                                                                                                                                                                                                                                                                                                                                                                                                                                                                                                                                                                                                                                                                                                                                                                                                                                                                                                                                                                                                                                                                                                                                                                                                                                                                                                                                                                                                                                                                                                                                                                                                                                                                                                                                                                                                                                                                                                                                                                                                                                                                                                                                                                                                                                                                                                                                                                                                                                          Albania  Austria  cases chart  Belarus  Belgium  cases chart  Bosnia and Herzegovina  Bulgaria  cases chart  Croatia  Cyprus  Czech Republic  Denmark  cases chart  Faroe Islands  Estonia  cases chart  Finland  France  cases chart  Germany  cases chart  Greece  Hungary  Iceland  cases chart  Ireland  cases chart  Italy  cases chart  statistics charts  vaccinations chart  Kosovo  Latvia  cases chart  Lithuania  cases chart  Luxembourg  Malta  Moldova  Monaco  Montenegro  Netherlands  North Macedonia  Norway  cases chart  Poland  cases chart  by voivodeship  Portugal  cases chart  Romania  cases chart  Russia  cases chart  by federal subject  North Asia  San Marino  Serbia  Slovakia  cases chart  by region  Slovenia  cases chart  Spain  cases chart  Sweden  cases chart  Switzerland  cases chart  Turkey  cases chart  Ukraine  United Kingdom  Scotland  2020  2021  Gibraltar  vaccinations chart  daily  by nation  Vatican City\n 6                                                                                                                                                                                                                                                                                                                                                                                                                                                                                                                                                                                                                                                                                                                                                                                                                                                                                                                                                                                                                                                                                                                                                                                                                                                                                                                                                                                                                                                                                                                                                                                                                                                                                                                                                                                                                                                                                                                                                                                                                                                                                                                                                                                                                                                                                                                                                                                                                                                                                                                                                                                                                                                                                                                                                                                                                                                                                                                                                                                                                                                                                                                                                                                                                                                                                                                                                                                                                                                                                                                        Oceania                                                                                                                                                                                                                                                                                                                                                                                                                                                                                                                                                                                                                                                                                                                                                                                                                                                                                                                                                                                                                                                                                                                                                                                                                                                                                                                                                                                                                                                                                                                                                                                                                                                                                                                                                                                                                                                                                                                                                                                                                                                                                                                                                                                                                                                                                                                                                                                                                                                                                                                                                                                                                                                                                                                                                                                                                                                                                                                                                                                                                                                                                                                                                                                                                                                                                                                                                                                                           Australia  by state/territory  Fiji  French Polynesia  New Caledonia  New Zealand  Papua New Guinea  Solomon Islands\n 7                                                                                                                                                                                                                                                                                                                                                                                                                                                                                                                                                                                                                                                                                                                                                                                                                                                                                                                                                                                                                                                                                                                                                                                                                                                                                                                                                                                                                                                                                                                                                                                                                                                                                                                                                                                                                                                                                                                                                                                                                                                                                                                                                                                                                                                                                                                                                                                                                                                                                                                                                                                                                                                                                                                                                                                                                                                                                                                                                                                                                                                                                                                                                                                                                                                                                                                                                                                                                                                                                                                         Others                                                                                                                                                                                                                                                                                                                                                                                                                                                                                                                                                                                                                                                                                                                                                                                                                                                                                                                                                                                                                                                                                                                                                                                                                                                                                                                                                                                                                                                                                                                                                                                                                                                                                                                                                                                                                                                                                                                                                                                                                                                                                                                                                                                                                                                                                                                                                                                                                                                                                                                                                                                                                                                                                                                                                                                                                                                                                                                                                                                                                                                                                                                                                                                                                                                                                                                                                                                                                                                                                                 Cruise ships  Diamond Princess,\n           0                                                                                                                                                                                                                                                                                                                                                                                                                                                                                                                                                                                                                                                                                                                                                                                                                                                                                                                                                                              1\n 0    Global                                                                                                                                                                                                                                                                                                                                                                                                    Cases, deaths, recoveries by country  Tests, cases, tests per capita, cases per capita by country  Tests, cases, tests per capita, cases per capita by country subdivision  WHO situation reports  cases  January 2020  February 2020  March 2020  April 2020  May 2020  June 2020  July 2020  August 2020  September 2020  October 2020  November 2020  December 2020  January 2021  February 2021  March 2021  April 2021  May 2021  June 2021  July 2021  August 2021  deaths  World map by countries: confirmed per capita  China  Hospital beds by country  Lockdowns<\n 1    Africa                                                                                                                                                                                                                                                                                                                                                                                                                                                                                                                      Algeria  Angola  Benin  Botswana  Burkina Faso  Burundi  Cameroon  Comoros  Egypt  Eswatini  Ethiopia  Ghana  cases chart  Ivory Coast  Kenya  Libya  Malawi  Mali  Mauritania  Mauritius  Morocco (including occupied Western Sahara)  Mozambique  Namibia  Nigera  cases chart  São Tomé and Príncipe  Senegal  Seychelles  Sierra Leone  South Africa  cases chart  South Sudan  Sudan  Tanzania  Togo  Tunisia  Uganda  Zambia  Zimbabwe  cases chart\n 2  Americas                                                                                                                                                                                                                                                                                                                                                                                                                                                                                                                                                                                                                                                               Argentina  Bolivia  Brazil  Canada  by province  vaccinations by province  Chile  by commune  Colombia  Costa Rica  cases chart  Cuba  Dominican Republic  Ecuador  El Salvador  Guatemala  Haiti  Honduras  Mexico  cases chart  Nicaragua  Panama  Paraguay  Peru  United States  by state  Uruguay  Venezuela\n 3      Asia  Afghanistan  Armenia  Artsakh  Azerbaijan  Bahrain  Bangladesh  by division  Bhutan  cases chart  Brunei  Cambodia  cases chart  summary  China  cases chart  confirmed per capita  lockdowns  by province  Hong Kong  Macau  Cyprus  East Timor  Egypt  Georgia  India  Indonesia  cases chart  Iran  cases chart  Iraq  Israel  cases chart  Japan  cases chart  Jordan  Kazakhstan  Kuwait  cases chart  Kyrgyzstan  Laos  Lebanon  Malaysia  cases chart  charts  Myanmar  cases chart  summary  Nepal  cases chart  Oman  cases chart  Pakistan  cases chart  Philippines  cases chart  areas of quarantine  vaccinations chart  Qatar  Russia  cases chart  by federal subject  North Asia  Saudi Arabia  Singapore  South Korea  cases chart  vaccinations charts  Sri Lanka  Syria  Taiwan  vaccination charts  Tajikistan  Thailand  cases chart  Turkey  cases chart  United Arab Emirates  cases chart  Uzbekistan  cases chart  Vietnam  statistics charts  Yemen\n 4    Europe          Albania  Austria  cases chart  Belarus  Belgium  cases chart  Bosnia and Herzegovina  Bulgaria  cases chart  Croatia  Cyprus  Czech Republic  Denmark  cases chart  Faroe Islands  Estonia  cases chart  Finland  France  cases chart  Germany  cases chart  Greece  Hungary  Iceland  cases chart  Ireland  cases chart  Italy  cases chart  statistics charts  vaccinations chart  Kosovo  Latvia  cases chart  Lithuania  cases chart  Luxembourg  Malta  Moldova  Monaco  Montenegro  Netherlands  North Macedonia  Norway  cases chart  Poland  cases chart  by voivodeship  Portugal  cases chart  Romania  cases chart  Russia  cases chart  by federal subject  North Asia  San Marino  Serbia  Slovakia  cases chart  by region  Slovenia  cases chart  Spain  cases chart  Sweden  cases chart  Switzerland  cases chart  Turkey  cases chart  Ukraine  United Kingdom  Scotland  2020  2021  Gibraltar  vaccinations chart  daily  by nation  Vatican City\n 5   Oceania                                                                                                                                                                                                                                                                                                                                                                                                                                                                                                                                                                                                                                                                                                                                                                                                                                                           Australia  by state/territory  Fiji  French Polynesia  New Caledonia  New Zealand  Papua New Guinea  Solomon Islands\n 6    Others                                                                                                                                                                                                                                                                                                                                                                                                                                                                                                                                                                                                                                                                                                                                                                                                                                                                                                                                                 Cruise ships  Diamond Princess]"
     ]
    }
   ],
   "source": [
    "import pyspark.pandas as ps\n",
    "df = ps.read_html(\"https://en.wikipedia.org/wiki/COVID-19_pandemic_by_country_and_territory\")\n",
    "df"
   ]
  },
  {
   "cell_type": "code",
   "execution_count": 0,
   "metadata": {
    "application/vnd.databricks.v1+cell": {
     "cellMetadata": {
      "byteLimit": 2048000,
      "rowLimit": 10000
     },
     "inputWidgets": {},
     "nuid": "0bf43f90-ab0e-4f22-ab10-bde51d84e4be",
     "showTitle": false,
     "title": ""
    }
   },
   "outputs": [
    {
     "output_type": "display_data",
     "data": {
      "text/html": [
       "<div>\n",
       "<style scoped>\n",
       "    .dataframe tbody tr th:only-of-type {\n",
       "        vertical-align: middle;\n",
       "    }\n",
       "\n",
       "    .dataframe tbody tr th {\n",
       "        vertical-align: top;\n",
       "    }\n",
       "\n",
       "    .dataframe thead th {\n",
       "        text-align: right;\n",
       "    }\n",
       "</style>\n",
       "<table border=\"1\" class=\"dataframe\">\n",
       "  <thead>\n",
       "    <tr style=\"text-align: right;\">\n",
       "      <th></th>\n",
       "      <th>Region[30]</th>\n",
       "      <th>Total cases</th>\n",
       "      <th>Total deaths</th>\n",
       "      <th>Cases per million</th>\n",
       "      <th>Deaths per million</th>\n",
       "      <th>Current weekly cases</th>\n",
       "      <th>Current weekly deaths</th>\n",
       "      <th>Population millions</th>\n",
       "      <th>Vaccinated %[31]</th>\n",
       "    </tr>\n",
       "  </thead>\n",
       "  <tbody>\n",
       "    <tr>\n",
       "      <th>0</th>\n",
       "      <td>European Union</td>\n",
       "      <td>179537758</td>\n",
       "      <td>1185108</td>\n",
       "      <td>401363</td>\n",
       "      <td>2649</td>\n",
       "      <td>886074</td>\n",
       "      <td>3985</td>\n",
       "      <td>447</td>\n",
       "      <td>75.1</td>\n",
       "    </tr>\n",
       "    <tr>\n",
       "      <th>1</th>\n",
       "      <td>North America</td>\n",
       "      <td>103783777</td>\n",
       "      <td>1133607</td>\n",
       "      <td>281404</td>\n",
       "      <td>3074</td>\n",
       "      <td>476376</td>\n",
       "      <td>2975</td>\n",
       "      <td>369</td>\n",
       "      <td>76.1</td>\n",
       "    </tr>\n",
       "    <tr>\n",
       "      <th>2</th>\n",
       "      <td>Other Europe</td>\n",
       "      <td>57721948</td>\n",
       "      <td>498259</td>\n",
       "      <td>247054</td>\n",
       "      <td>2133</td>\n",
       "      <td>74354</td>\n",
       "      <td>248</td>\n",
       "      <td>234</td>\n",
       "      <td>61.2</td>\n",
       "    </tr>\n",
       "    <tr>\n",
       "      <th>3</th>\n",
       "      <td>South America</td>\n",
       "      <td>65835789</td>\n",
       "      <td>1313061</td>\n",
       "      <td>153151</td>\n",
       "      <td>3055</td>\n",
       "      <td>378622</td>\n",
       "      <td>1252</td>\n",
       "      <td>430</td>\n",
       "      <td>81.7</td>\n",
       "    </tr>\n",
       "    <tr>\n",
       "      <th>4</th>\n",
       "      <td>Russia and Central Asia</td>\n",
       "      <td>25646533</td>\n",
       "      <td>434988</td>\n",
       "      <td>108307</td>\n",
       "      <td>1837</td>\n",
       "      <td>49022</td>\n",
       "      <td>393</td>\n",
       "      <td>237</td>\n",
       "      <td>55.9</td>\n",
       "    </tr>\n",
       "    <tr>\n",
       "      <th>5</th>\n",
       "      <td>Central America</td>\n",
       "      <td>11338600</td>\n",
       "      <td>380660</td>\n",
       "      <td>63108</td>\n",
       "      <td>2119</td>\n",
       "      <td>60268</td>\n",
       "      <td>263</td>\n",
       "      <td>180</td>\n",
       "      <td>69.0</td>\n",
       "    </tr>\n",
       "    <tr>\n",
       "      <th>6</th>\n",
       "      <td>Middle East</td>\n",
       "      <td>22549784</td>\n",
       "      <td>238106</td>\n",
       "      <td>86400</td>\n",
       "      <td>912</td>\n",
       "      <td>13457</td>\n",
       "      <td>65</td>\n",
       "      <td>261</td>\n",
       "      <td>51.9</td>\n",
       "    </tr>\n",
       "    <tr>\n",
       "      <th>7</th>\n",
       "      <td>Oceania and islands in East Asia</td>\n",
       "      <td>60806544</td>\n",
       "      <td>318455</td>\n",
       "      <td>105317</td>\n",
       "      <td>552</td>\n",
       "      <td>1390401</td>\n",
       "      <td>2777</td>\n",
       "      <td>577</td>\n",
       "      <td>72.1</td>\n",
       "    </tr>\n",
       "    <tr>\n",
       "      <th>8</th>\n",
       "      <td>Caribbean</td>\n",
       "      <td>2605473</td>\n",
       "      <td>26237</td>\n",
       "      <td>60179</td>\n",
       "      <td>606</td>\n",
       "      <td>737</td>\n",
       "      <td>25</td>\n",
       "      <td>43</td>\n",
       "      <td>46.4</td>\n",
       "    </tr>\n",
       "    <tr>\n",
       "      <th>9</th>\n",
       "      <td>South Asia</td>\n",
       "      <td>50347136</td>\n",
       "      <td>620218</td>\n",
       "      <td>27121</td>\n",
       "      <td>334</td>\n",
       "      <td>1911</td>\n",
       "      <td>24</td>\n",
       "      <td>1856</td>\n",
       "      <td>69.4</td>\n",
       "    </tr>\n",
       "    <tr>\n",
       "      <th>10</th>\n",
       "      <td>North Africa</td>\n",
       "      <td>3727346</td>\n",
       "      <td>83873</td>\n",
       "      <td>18382</td>\n",
       "      <td>414</td>\n",
       "      <td>668</td>\n",
       "      <td>8</td>\n",
       "      <td>203</td>\n",
       "      <td>41.3</td>\n",
       "    </tr>\n",
       "    <tr>\n",
       "      <th>11</th>\n",
       "      <td>East Asia</td>\n",
       "      <td>57867768</td>\n",
       "      <td>189910</td>\n",
       "      <td>32416</td>\n",
       "      <td>106</td>\n",
       "      <td>644079</td>\n",
       "      <td>818</td>\n",
       "      <td>1785</td>\n",
       "      <td>87.2</td>\n",
       "    </tr>\n",
       "    <tr>\n",
       "      <th>12</th>\n",
       "      <td>Sub-Saharan Africa</td>\n",
       "      <td>8636456</td>\n",
       "      <td>172907</td>\n",
       "      <td>7598</td>\n",
       "      <td>152</td>\n",
       "      <td>6960</td>\n",
       "      <td>27</td>\n",
       "      <td>1137</td>\n",
       "      <td>27.6</td>\n",
       "    </tr>\n",
       "    <tr>\n",
       "      <th>13</th>\n",
       "      <td>Totals (or average)</td>\n",
       "      <td>650404912</td>\n",
       "      <td>6595389</td>\n",
       "      <td>83826</td>\n",
       "      <td>850</td>\n",
       "      <td>3982929</td>\n",
       "      <td>12860</td>\n",
       "      <td>7759</td>\n",
       "      <td>67.0</td>\n",
       "    </tr>\n",
       "  </tbody>\n",
       "</table>\n",
       "</div>"
      ]
     },
     "metadata": {
      "application/vnd.databricks.v1+output": {
       "addedWidgets": {},
       "arguments": {},
       "data": "<div>\n<style scoped>\n    .dataframe tbody tr th:only-of-type {\n        vertical-align: middle;\n    }\n\n    .dataframe tbody tr th {\n        vertical-align: top;\n    }\n\n    .dataframe thead th {\n        text-align: right;\n    }\n</style>\n<table border=\"1\" class=\"dataframe\">\n  <thead>\n    <tr style=\"text-align: right;\">\n      <th></th>\n      <th>Region[30]</th>\n      <th>Total cases</th>\n      <th>Total deaths</th>\n      <th>Cases per million</th>\n      <th>Deaths per million</th>\n      <th>Current weekly cases</th>\n      <th>Current weekly deaths</th>\n      <th>Population millions</th>\n      <th>Vaccinated %[31]</th>\n    </tr>\n  </thead>\n  <tbody>\n    <tr>\n      <th>0</th>\n      <td>European Union</td>\n      <td>179537758</td>\n      <td>1185108</td>\n      <td>401363</td>\n      <td>2649</td>\n      <td>886074</td>\n      <td>3985</td>\n      <td>447</td>\n      <td>75.1</td>\n    </tr>\n    <tr>\n      <th>1</th>\n      <td>North America</td>\n      <td>103783777</td>\n      <td>1133607</td>\n      <td>281404</td>\n      <td>3074</td>\n      <td>476376</td>\n      <td>2975</td>\n      <td>369</td>\n      <td>76.1</td>\n    </tr>\n    <tr>\n      <th>2</th>\n      <td>Other Europe</td>\n      <td>57721948</td>\n      <td>498259</td>\n      <td>247054</td>\n      <td>2133</td>\n      <td>74354</td>\n      <td>248</td>\n      <td>234</td>\n      <td>61.2</td>\n    </tr>\n    <tr>\n      <th>3</th>\n      <td>South America</td>\n      <td>65835789</td>\n      <td>1313061</td>\n      <td>153151</td>\n      <td>3055</td>\n      <td>378622</td>\n      <td>1252</td>\n      <td>430</td>\n      <td>81.7</td>\n    </tr>\n    <tr>\n      <th>4</th>\n      <td>Russia and Central Asia</td>\n      <td>25646533</td>\n      <td>434988</td>\n      <td>108307</td>\n      <td>1837</td>\n      <td>49022</td>\n      <td>393</td>\n      <td>237</td>\n      <td>55.9</td>\n    </tr>\n    <tr>\n      <th>5</th>\n      <td>Central America</td>\n      <td>11338600</td>\n      <td>380660</td>\n      <td>63108</td>\n      <td>2119</td>\n      <td>60268</td>\n      <td>263</td>\n      <td>180</td>\n      <td>69.0</td>\n    </tr>\n    <tr>\n      <th>6</th>\n      <td>Middle East</td>\n      <td>22549784</td>\n      <td>238106</td>\n      <td>86400</td>\n      <td>912</td>\n      <td>13457</td>\n      <td>65</td>\n      <td>261</td>\n      <td>51.9</td>\n    </tr>\n    <tr>\n      <th>7</th>\n      <td>Oceania and islands in East Asia</td>\n      <td>60806544</td>\n      <td>318455</td>\n      <td>105317</td>\n      <td>552</td>\n      <td>1390401</td>\n      <td>2777</td>\n      <td>577</td>\n      <td>72.1</td>\n    </tr>\n    <tr>\n      <th>8</th>\n      <td>Caribbean</td>\n      <td>2605473</td>\n      <td>26237</td>\n      <td>60179</td>\n      <td>606</td>\n      <td>737</td>\n      <td>25</td>\n      <td>43</td>\n      <td>46.4</td>\n    </tr>\n    <tr>\n      <th>9</th>\n      <td>South Asia</td>\n      <td>50347136</td>\n      <td>620218</td>\n      <td>27121</td>\n      <td>334</td>\n      <td>1911</td>\n      <td>24</td>\n      <td>1856</td>\n      <td>69.4</td>\n    </tr>\n    <tr>\n      <th>10</th>\n      <td>North Africa</td>\n      <td>3727346</td>\n      <td>83873</td>\n      <td>18382</td>\n      <td>414</td>\n      <td>668</td>\n      <td>8</td>\n      <td>203</td>\n      <td>41.3</td>\n    </tr>\n    <tr>\n      <th>11</th>\n      <td>East Asia</td>\n      <td>57867768</td>\n      <td>189910</td>\n      <td>32416</td>\n      <td>106</td>\n      <td>644079</td>\n      <td>818</td>\n      <td>1785</td>\n      <td>87.2</td>\n    </tr>\n    <tr>\n      <th>12</th>\n      <td>Sub-Saharan Africa</td>\n      <td>8636456</td>\n      <td>172907</td>\n      <td>7598</td>\n      <td>152</td>\n      <td>6960</td>\n      <td>27</td>\n      <td>1137</td>\n      <td>27.6</td>\n    </tr>\n    <tr>\n      <th>13</th>\n      <td>Totals (or average)</td>\n      <td>650404912</td>\n      <td>6595389</td>\n      <td>83826</td>\n      <td>850</td>\n      <td>3982929</td>\n      <td>12860</td>\n      <td>7759</td>\n      <td>67.0</td>\n    </tr>\n  </tbody>\n</table>\n</div>",
       "datasetInfos": [],
       "metadata": {},
       "removedWidgets": [],
       "textData": null,
       "type": "htmlSandbox"
      }
     },
     "output_type": "display_data"
    }
   ],
   "source": [
    "df[15]"
   ]
  },
  {
   "cell_type": "code",
   "execution_count": 0,
   "metadata": {
    "application/vnd.databricks.v1+cell": {
     "cellMetadata": {
      "byteLimit": 2048000,
      "rowLimit": 10000
     },
     "inputWidgets": {},
     "nuid": "6695e6d5-411a-479b-a19d-3172aa599256",
     "showTitle": false,
     "title": ""
    }
   },
   "outputs": [
    {
     "output_type": "stream",
     "name": "stdout",
     "output_type": "stream",
     "text": [
      "Out[5]: Region                    object\nTotal Cases                int64\nTotal Deaths               int64\nCases Per Million          int64\nDeaths Per Million         int64\nCurrent Weekly Cases       int64\nCurrent Weekly Deaths      int64\nPopulation Millions        int64\nVaccinated %[31]         float64\ndtype: object"
     ]
    }
   ],
   "source": [
    "df.dtypes\n"
   ]
  },
  {
   "cell_type": "code",
   "execution_count": 0,
   "metadata": {
    "application/vnd.databricks.v1+cell": {
     "cellMetadata": {
      "byteLimit": 2048000,
      "rowLimit": 10000
     },
     "inputWidgets": {},
     "nuid": "4fb7e11e-2420-43b9-9af5-d04d8fb62f2f",
     "showTitle": false,
     "title": ""
    }
   },
   "outputs": [
    {
     "output_type": "stream",
     "name": "stdout",
     "output_type": "stream",
     "text": [
      "                    Region  Total Cases  Total Deaths  Cases Per Million  Deaths Per Million  Current Weekly Cases  Current Weekly Deaths  Population Millions  Vaccinated %[31]\n0           European Union    179537758       1185108             401363                2649                886074                   3985                  447              75.1\n1            North America    103783777       1133607             281404                3074                476376                   2975                  369              76.1\n2             Other Europe     57721948        498259             247054                2133                 74354                    248                  234              61.2\n3            South America     65835789       1313061             153151                3055                378622                   1252                  430              81.7\n4  Russia and Central Asia     25646533        434988             108307                1837                 49022                    393                  237              55.9\n"
     ]
    }
   ],
   "source": [
    "import pyspark.pandas as ps\n",
    "\n",
    "df = ps.read_html(\"https://en.wikipedia.org/wiki/COVID-19_pandemic_by_country_and_territory\")[15]\n",
    "\n",
    "new_columns_name = {\n",
    "    \"Region[30]\": \"Region\",\n",
    "    \"Total cases\": \"Total Cases\",\n",
    "    \"Total deaths\": \"Total Deaths\",\n",
    "    \"Cases per million\": \"Cases Per Million\",\n",
    "    \"Deaths per million\": \"Deaths Per Million\",\n",
    "    \"Current weekly cases\": \"Current Weekly Cases\",\n",
    "    \"Current weekly deaths\": \"Current Weekly Deaths\",\n",
    "    \"Population millions\": \"Population Millions\",\n",
    "    \"Vaccinated %[31]\": \"Vaccinated\"\n",
    "}\n",
    "\n",
    "df = df.rename(columns=new_columns_name)\n",
    "\n",
    "print(df.head())\n",
    "\n",
    "\n",
    "\n"
   ]
  },
  {
   "cell_type": "code",
   "execution_count": 0,
   "metadata": {
    "application/vnd.databricks.v1+cell": {
     "cellMetadata": {},
     "inputWidgets": {},
     "nuid": "880c06c6-7e66-4a1c-a221-faa67490ddef",
     "showTitle": false,
     "title": ""
    }
   },
   "outputs": [],
   "source": []
  },
  {
   "cell_type": "markdown",
   "metadata": {
    "application/vnd.databricks.v1+cell": {
     "cellMetadata": {
      "byteLimit": 2048000,
      "rowLimit": 10000
     },
     "inputWidgets": {},
     "nuid": "4332d93f-7242-4816-8e2d-505354d3d30c",
     "showTitle": false,
     "title": ""
    }
   },
   "source": [
    "## [Avaliação anônima](https://forms.gle/tShxhxNYhvi6ZmQm8)"
   ]
  }
 ],
 "metadata": {
  "application/vnd.databricks.v1+notebook": {
   "dashboards": [],
   "language": "python",
   "notebookMetadata": {
    "mostRecentlyExecutedCommandWithImplicitDF": {
     "commandId": 3748040700154786,
     "dataframes": [
      "_sqldf"
     ]
    },
    "pythonIndentUnit": 4
   },
   "notebookName": "2- ETLs, ELTs e Pipelines de Dados",
   "widgets": {}
  },
  "kernelspec": {
   "display_name": "Python 3",
   "language": "python",
   "name": "python3"
  },
  "language_info": {
   "codemirror_mode": {
    "name": "ipython",
    "version": 3
   },
   "file_extension": ".py",
   "mimetype": "text/x-python",
   "name": "python",
   "nbconvert_exporter": "python",
   "pygments_lexer": "ipython3",
   "version": "3.9.12"
  }
 },
 "nbformat": 4,
 "nbformat_minor": 0
}
