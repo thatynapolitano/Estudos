{
 "cells": [
  {
   "cell_type": "markdown",
   "metadata": {
    "application/vnd.databricks.v1+cell": {
     "cellMetadata": {},
     "inputWidgets": {},
     "nuid": "ed6e8ce7-2fab-4838-96b3-177a1fd91432",
     "showTitle": false,
     "title": ""
    }
   },
   "source": [
    "## Motivação\n",
    "\n",
    "Na aula passada utilizamos o pandas_csv e o pandas_html para coletar informações de um site e vimos a dificuldade de conseguir esses dados se não há um padrão. "
   ]
  },
  {
   "cell_type": "code",
   "execution_count": 0,
   "metadata": {
    "application/vnd.databricks.v1+cell": {
     "cellMetadata": {},
     "inputWidgets": {},
     "nuid": "991854ad-6480-423e-b16d-bc6bafba4bc2",
     "showTitle": false,
     "title": ""
    }
   },
   "outputs": [],
   "source": [
    "import pandas as pd\n",
    "url = \"https://en.wikipedia.org/wiki/COVID-19_pandemic_by_country_and_territory\"\n",
    "results = pd.read_html(url)\n",
    "# print(len(results))\n",
    "df_covid = results[12]\n",
    "df_covid"
   ]
  },
  {
   "cell_type": "markdown",
   "metadata": {
    "application/vnd.databricks.v1+cell": {
     "cellMetadata": {},
     "inputWidgets": {},
     "nuid": "fdc44409-a484-49cc-bc09-8ee44aeffd79",
     "showTitle": false,
     "title": ""
    }
   },
   "source": [
    "## API\n",
    "\n",
    "API (Application Programming Interface) é um termo genérico que se refere a um conjunto de regras e definições que permitem que diferentes softwares se comuniquem entre si. Essa comunicação pode ocorrer de várias maneiras, incluindo chamadas de função, troca de mensagens, ou através de interfaces web.\n",
    "\n",
    "As APIs funcionam compartilhando dados entre aplicativos, sistemas e dispositivos. Isso acontece por meio de um ciclo de solicitação e resposta. Um usuário inicia uma solicitação de dados interagindo com um aplicativo. A solicitação é enviada para a API, que recupera os dados e os retorna ao usuário.\n",
    "\n",
    "<center>\n",
    "<img src=\"https://voyager.postman.com/illustration/diagram-what-is-an-api-postman-illustration.svg\" text=\"https://www.postman.com/what-is-an-api/\">\n",
    "</center>\n",
    "\n",
    "Para entender melhor esse processo, pode ser útil pensar nas APIs como restaurantes. Nesta metáfora, o cliente é como o usuário, que ao olhar as opções no menu (especificações da API), diz ao garçom o que deseja. O garçom é como uma API, recebendo o pedido do cliente e traduzindo-o em instruções fáceis de seguir para a cozinha - às vezes usando códigos ou abreviações específicas que a equipe da cozinha reconhecerá. A equipe da cozinha é como o servidor da API porque cria o pedido de acordo com as especificações do cliente e o entrega ao garçom, que então o entrega ao cliente."
   ]
  },
  {
   "cell_type": "markdown",
   "metadata": {
    "application/vnd.databricks.v1+cell": {
     "cellMetadata": {},
     "inputWidgets": {},
     "nuid": "865c41fd-03e3-4869-8278-4ddfc458474c",
     "showTitle": false,
     "title": ""
    }
   },
   "source": [
    "\n",
    "## REST APIs\n",
    "APIs REST (Representational State Transfer) são uma forma popular de permitir a comunicação e a troca de dados entre diferentes sistemas de software por HTTP. \n",
    "\n",
    "A API REST é baseada em princípios fundamentais, como o uso de recursos (que são representações dos dados), identificadores de recursos (URIs), métodos HTTP (GET, POST, PUT, DELETE) e representações de recursos (por exemplo, JSON ou XML). Uma API que segue esses princípios é considerada uma API RESTful.\n",
    "\n",
    "<center>\n",
    "<img src=\"https://miro.medium.com/v2/resize:fit:1400/1*wpbYhweLr38h8fUnuFT0Fg.png\" width=900>\n",
    "</center>\n",
    "\n",
    "Portanto, a **principal diferença entre uma API e uma API REST é que a API REST segue um conjunto específico de princípios e padrões de design** (como os mencionados acima), enquanto uma API genérica não está necessariamente vinculada a esses padrões e pode adotar diferentes formas de comunicação e design.\n",
    "\n",
    "<center>\n",
    "<img src=\"https://miro.medium.com/v2/resize:fit:1400/1*ZU1EQ7tYeQNQlhOhyonHFA.png\" width=800>\n",
    "</center>\n",
    "\n",
    "O Python fornece uma biblioteca poderosa chamada `requests` para trabalhar com APIs REST, permitindo realizar vários tipos de solicitações.\n",
    "\n",
    "\n",
    "**1. GET**\n",
    "\n",
    "Uma solicitação GET é usada para recuperar dados de um servidor. É o método de solicitação HTTP mais comumente usado para buscar informações.\n",
    "\n",
    "Exemplo usando a biblioteca `requests` do Python para fazer uma solicitação GET:\n",
    "\n",
    "```python\n",
    "import requests\n",
    "\n",
    "# URL da API\n",
    "url = \"https://api.example.com/data\"\n",
    "\n",
    "# Realiza a solicitação GET\n",
    "response = requests.get(url)\n",
    "\n",
    "# Verifica o status da resposta\n",
    "if response.status_code == 200:\n",
    "    print(\"Solicitação bem sucedida\")\n",
    "    data = response.json()\n",
    "    print(data)\n",
    "else:\n",
    "    print(\"Error:\", response.status_code)\n",
    "    print('Resposta da API:', response.text)\n",
    "```"
   ]
  },
  {
   "cell_type": "code",
   "execution_count": 0,
   "metadata": {
    "application/vnd.databricks.v1+cell": {
     "cellMetadata": {
      "byteLimit": 2048000,
      "rowLimit": 10000
     },
     "inputWidgets": {},
     "nuid": "081f1d9e-2e94-4c49-97db-94a61ef76fd7",
     "showTitle": false,
     "title": ""
    }
   },
   "outputs": [
    {
     "output_type": "stream",
     "name": "stdout",
     "output_type": "stream",
     "text": [
      "Solicitação bem-sucedida!\nGET response: [{'userId': 1, 'id': 1, 'title': 'sunt aut facere repellat provident occaecati excepturi optio reprehenderit', 'body': 'quia et suscipit\\nsuscipit recusandae consequuntur expedita et cum\\nreprehenderit molestiae ut ut quas totam\\nnostrum rerum est autem sunt rem eveniet architecto'}, {'userId': 1, 'id': 2, 'title': 'qui est esse', 'body': 'est rerum tempore vitae\\nsequi sint nihil reprehenderit dolor beatae ea dolores neque\\nfugiat blanditiis voluptate porro vel nihil molestiae ut reiciendis\\nqui aperiam non debitis possimus qui neque nisi nulla'}, {'userId': 1, 'id': 3, 'title': 'ea molestias quasi exercitationem repellat qui ipsa sit aut', 'body': 'et iusto sed quo iure\\nvoluptatem occaecati omnis eligendi aut ad\\nvoluptatem doloribus vel accusantium quis pariatur\\nmolestiae porro eius odio et labore et velit aut'}, {'userId': 1, 'id': 4, 'title': 'eum et est occaecati', 'body': 'ullam et saepe reiciendis voluptatem adipisci\\nsit amet autem assumenda provident rerum culpa\\nquis hic commodi nesciunt rem tenetur doloremque ipsam iure\\nquis sunt voluptatem rerum illo velit'}, {'userId': 1, 'id': 5, 'title': 'nesciunt quas odio', 'body': 'repudiandae veniam quaerat sunt sed\\nalias aut fugiat sit autem sed est\\nvoluptatem omnis possimus esse voluptatibus quis\\nest aut tenetur dolor neque'}, {'userId': 1, 'id': 6, 'title': 'dolorem eum magni eos aperiam quia', 'body': 'ut aspernatur corporis harum nihil quis provident sequi\\nmollitia nobis aliquid molestiae\\nperspiciatis et ea nemo ab reprehenderit accusantium quas\\nvoluptate dolores velit et doloremque molestiae'}, {'userId': 1, 'id': 7, 'title': 'magnam facilis autem', 'body': 'dolore placeat quibusdam ea quo vitae\\nmagni quis enim qui quis quo nemo aut saepe\\nquidem repellat excepturi ut quia\\nsunt ut sequi eos ea sed quas'}, {'userId': 1, 'id': 8, 'title': 'dolorem dolore est ipsam', 'body': 'dignissimos aperiam dolorem qui eum\\nfacilis quibusdam animi sint suscipit qui sint possimus cum\\nquaerat magni maiores excepturi\\nipsam ut commodi dolor voluptatum modi aut vitae'}, {'userId': 1, 'id': 9, 'title': 'nesciunt iure omnis dolorem tempora et accusantium', 'body': 'consectetur animi nesciunt iure dolore\\nenim quia ad\\nveniam autem ut quam aut nobis\\net est aut quod aut provident voluptas autem voluptas'}, {'userId': 1, 'id': 10, 'title': 'optio molestias id quia eum', 'body': 'quo et expedita modi cum officia vel magni\\ndoloribus qui repudiandae\\nvero nisi sit\\nquos veniam quod sed accusamus veritatis error'}, {'userId': 2, 'id': 11, 'title': 'et ea vero quia laudantium autem', 'body': 'delectus reiciendis molestiae occaecati non minima eveniet qui voluptatibus\\naccusamus in eum beatae sit\\nvel qui neque voluptates ut commodi qui incidunt\\nut animi commodi'}, {'userId': 2, 'id': 12, 'title': 'in quibusdam tempore odit est dolorem', 'body': 'itaque id aut magnam\\npraesentium quia et ea odit et ea voluptas et\\nsapiente quia nihil amet occaecati quia id voluptatem\\nincidunt ea est distinctio odio'}, {'userId': 2, 'id': 13, 'title': 'dolorum ut in voluptas mollitia et saepe quo animi', 'body': 'aut dicta possimus sint mollitia voluptas commodi quo doloremque\\niste corrupti reiciendis voluptatem eius rerum\\nsit cumque quod eligendi laborum minima\\nperferendis recusandae assumenda consectetur porro architecto ipsum ipsam'}, {'userId': 2, 'id': 14, 'title': 'voluptatem eligendi optio', 'body': 'fuga et accusamus dolorum perferendis illo voluptas\\nnon doloremque neque facere\\nad qui dolorum molestiae beatae\\nsed aut voluptas totam sit illum'}, {'userId': 2, 'id': 15, 'title': 'eveniet quod temporibus', 'body': 'reprehenderit quos placeat\\nvelit minima officia dolores impedit repudiandae molestiae nam\\nvoluptas recusandae quis delectus\\nofficiis harum fugiat vitae'}, {'userId': 2, 'id': 16, 'title': 'sint suscipit perspiciatis velit dolorum rerum ipsa laboriosam odio', 'body': 'suscipit nam nisi quo aperiam aut\\nasperiores eos fugit maiores voluptatibus quia\\nvoluptatem quis ullam qui in alias quia est\\nconsequatur magni mollitia accusamus ea nisi voluptate dicta'}, {'userId': 2, 'id': 17, 'title': 'fugit voluptas sed molestias voluptatem provident', 'body': 'eos voluptas et aut odit natus earum\\naspernatur fuga molestiae ullam\\ndeserunt ratione qui eos\\nqui nihil ratione nemo velit ut aut id quo'}, {'userId': 2, 'id': 18, 'title': 'voluptate et itaque vero tempora molestiae', 'body': 'eveniet quo quis\\nlaborum totam consequatur non dolor\\nut et est repudiandae\\nest voluptatem vel debitis et magnam'}, {'userId': 2, 'id': 19, 'title': 'adipisci placeat illum aut reiciendis qui', 'body': 'illum quis cupiditate provident sit magnam\\nea sed aut omnis\\nveniam maiores ullam consequatur atque\\nadipisci quo iste expedita sit quos voluptas'}, {'userId': 2, 'id': 20, 'title': 'doloribus ad provident suscipit at', 'body': 'qui consequuntur ducimus possimus quisquam amet similique\\nsuscipit porro ipsam amet\\neos veritatis officiis exercitationem vel fugit aut necessitatibus totam\\nomnis rerum consequatur expedita quidem cumque explicabo'}, {'userId': 3, 'id': 21, 'title': 'asperiores ea ipsam voluptatibus modi minima quia sint', 'body': 'repellat aliquid praesentium dolorem quo\\nsed totam minus non itaque\\nnihil labore molestiae sunt dolor eveniet hic recusandae veniam\\ntempora et tenetur expedita sunt'}, {'userId': 3, 'id': 22, 'title': 'dolor sint quo a velit explicabo quia nam', 'body': 'eos qui et ipsum ipsam suscipit aut\\nsed omnis non odio\\nexpedita earum mollitia molestiae aut atque rem suscipit\\nnam impedit esse'}, {'userId': 3, 'id': 23, 'title': 'maxime id vitae nihil numquam', 'body': 'veritatis unde neque eligendi\\nquae quod architecto quo neque vitae\\nest illo sit tempora doloremque fugit quod\\net et vel beatae sequi ullam sed tenetur perspiciatis'}, {'userId': 3, 'id': 24, 'title': 'autem hic labore sunt dolores incidunt', 'body': 'enim et ex nulla\\nomnis voluptas quia qui\\nvoluptatem consequatur numquam aliquam sunt\\ntotam recusandae id dignissimos aut sed asperiores deserunt'}, {'userId': 3, 'id': 25, 'title': 'rem alias distinctio quo quis', 'body': 'ullam consequatur ut\\nomnis quis sit vel consequuntur\\nipsa eligendi ipsum molestiae et omnis error nostrum\\nmolestiae illo tempore quia et distinctio'}, {'userId': 3, 'id': 26, 'title': 'est et quae odit qui non', 'body': 'similique esse doloribus nihil accusamus\\nomnis dolorem fuga consequuntur reprehenderit fugit recusandae temporibus\\nperspiciatis cum ut laudantium\\nomnis aut molestiae vel vero'}, {'userId': 3, 'id': 27, 'title': 'quasi id et eos tenetur aut quo autem', 'body': 'eum sed dolores ipsam sint possimus debitis occaecati\\ndebitis qui qui et\\nut placeat enim earum aut odit facilis\\nconsequatur suscipit necessitatibus rerum sed inventore temporibus consequatur'}, {'userId': 3, 'id': 28, 'title': 'delectus ullam et corporis nulla voluptas sequi', 'body': 'non et quaerat ex quae ad maiores\\nmaiores recusandae totam aut blanditiis mollitia quas illo\\nut voluptatibus voluptatem\\nsimilique nostrum eum'}, {'userId': 3, 'id': 29, 'title': 'iusto eius quod necessitatibus culpa ea', 'body': 'odit magnam ut saepe sed non qui\\ntempora atque nihil\\naccusamus illum doloribus illo dolor\\neligendi repudiandae odit magni similique sed cum maiores'}, {'userId': 3, 'id': 30, 'title': 'a quo magni similique perferendis', 'body': 'alias dolor cumque\\nimpedit blanditiis non eveniet odio maxime\\nblanditiis amet eius quis tempora quia autem rem\\na provident perspiciatis quia'}, {'userId': 4, 'id': 31, 'title': 'ullam ut quidem id aut vel consequuntur', 'body': 'debitis eius sed quibusdam non quis consectetur vitae\\nimpedit ut qui consequatur sed aut in\\nquidem sit nostrum et maiores adipisci atque\\nquaerat voluptatem adipisci repudiandae'}, {'userId': 4, 'id': 32, 'title': 'doloremque illum aliquid sunt', 'body': 'deserunt eos nobis asperiores et hic\\nest debitis repellat molestiae optio\\nnihil ratione ut eos beatae quibusdam distinctio maiores\\nearum voluptates et aut adipisci ea maiores voluptas maxime'}, {'userId': 4, 'id': 33, 'title': 'qui explicabo molestiae dolorem', 'body': 'rerum ut et numquam laborum odit est sit\\nid qui sint in\\nquasi tenetur tempore aperiam et quaerat qui in\\nrerum officiis sequi cumque quod'}, {'userId': 4, 'id': 34, 'title': 'magnam ut rerum iure', 'body': 'ea velit perferendis earum ut voluptatem voluptate itaque iusto\\ntotam pariatur in\\nnemo voluptatem voluptatem autem magni tempora minima in\\nest distinctio qui assumenda accusamus dignissimos officia nesciunt nobis'}, {'userId': 4, 'id': 35, 'title': 'id nihil consequatur molestias animi provident', 'body': 'nisi error delectus possimus ut eligendi vitae\\nplaceat eos harum cupiditate facilis reprehenderit voluptatem beatae\\nmodi ducimus quo illum voluptas eligendi\\net nobis quia fugit'}, {'userId': 4, 'id': 36, 'title': 'fuga nam accusamus voluptas reiciendis itaque', 'body': 'ad mollitia et omnis minus architecto odit\\nvoluptas doloremque maxime aut non ipsa qui alias veniam\\nblanditiis culpa aut quia nihil cumque facere et occaecati\\nqui aspernatur quia eaque ut aperiam inventore'}, {'userId': 4, 'id': 37, 'title': 'provident vel ut sit ratione est', 'body': 'debitis et eaque non officia sed nesciunt pariatur vel\\nvoluptatem iste vero et ea\\nnumquam aut expedita ipsum nulla in\\nvoluptates omnis consequatur aut enim officiis in quam qui'}, {'userId': 4, 'id': 38, 'title': 'explicabo et eos deleniti nostrum ab id repellendus', 'body': 'animi esse sit aut sit nesciunt assumenda eum voluptas\\nquia voluptatibus provident quia necessitatibus ea\\nrerum repudiandae quia voluptatem delectus fugit aut id quia\\nratione optio eos iusto veniam iure'}, {'userId': 4, 'id': 39, 'title': 'eos dolorem iste accusantium est eaque quam', 'body': 'corporis rerum ducimus vel eum accusantium\\nmaxime aspernatur a porro possimus iste omnis\\nest in deleniti asperiores fuga aut\\nvoluptas sapiente vel dolore minus voluptatem incidunt ex'}, {'userId': 4, 'id': 40, 'title': 'enim quo cumque', 'body': 'ut voluptatum aliquid illo tenetur nemo sequi quo facilis\\nipsum rem optio mollitia quas\\nvoluptatem eum voluptas qui\\nunde omnis voluptatem iure quasi maxime voluptas nam'}, {'userId': 5, 'id': 41, 'title': 'non est facere', 'body': 'molestias id nostrum\\nexcepturi molestiae dolore omnis repellendus quaerat saepe\\nconsectetur iste quaerat tenetur asperiores accusamus ex ut\\nnam quidem est ducimus sunt debitis saepe'}, {'userId': 5, 'id': 42, 'title': 'commodi ullam sint et excepturi error explicabo praesentium voluptas', 'body': 'odio fugit voluptatum ducimus earum autem est incidunt voluptatem\\nodit reiciendis aliquam sunt sequi nulla dolorem\\nnon facere repellendus voluptates quia\\nratione harum vitae ut'}, {'userId': 5, 'id': 43, 'title': 'eligendi iste nostrum consequuntur adipisci praesentium sit beatae perferendis', 'body': 'similique fugit est\\nillum et dolorum harum et voluptate eaque quidem\\nexercitationem quos nam commodi possimus cum odio nihil nulla\\ndolorum exercitationem magnam ex et a et distinctio debitis'}, {'userId': 5, 'id': 44, 'title': 'optio dolor molestias sit', 'body': 'temporibus est consectetur dolore\\net libero debitis vel velit laboriosam quia\\nipsum quibusdam qui itaque fuga rem aut\\nea et iure quam sed maxime ut distinctio quae'}, {'userId': 5, 'id': 45, 'title': 'ut numquam possimus omnis eius suscipit laudantium iure', 'body': 'est natus reiciendis nihil possimus aut provident\\nex et dolor\\nrepellat pariatur est\\nnobis rerum repellendus dolorem autem'}, {'userId': 5, 'id': 46, 'title': 'aut quo modi neque nostrum ducimus', 'body': 'voluptatem quisquam iste\\nvoluptatibus natus officiis facilis dolorem\\nquis quas ipsam\\nvel et voluptatum in aliquid'}, {'userId': 5, 'id': 47, 'title': 'quibusdam cumque rem aut deserunt', 'body': 'voluptatem assumenda ut qui ut cupiditate aut impedit veniam\\noccaecati nemo illum voluptatem laudantium\\nmolestiae beatae rerum ea iure soluta nostrum\\neligendi et voluptate'}, {'userId': 5, 'id': 48, 'title': 'ut voluptatem illum ea doloribus itaque eos', 'body': 'voluptates quo voluptatem facilis iure occaecati\\nvel assumenda rerum officia et\\nillum perspiciatis ab deleniti\\nlaudantium repellat ad ut et autem reprehenderit'}, {'userId': 5, 'id': 49, 'title': 'laborum non sunt aut ut assumenda perspiciatis voluptas', 'body': 'inventore ab sint\\nnatus fugit id nulla sequi architecto nihil quaerat\\neos tenetur in in eum veritatis non\\nquibusdam officiis aspernatur cumque aut commodi aut'}, {'userId': 5, 'id': 50, 'title': 'repellendus qui recusandae incidunt voluptates tenetur qui omnis exercitationem', 'body': 'error suscipit maxime adipisci consequuntur recusandae\\nvoluptas eligendi et est et voluptates\\nquia distinctio ab amet quaerat molestiae et vitae\\nadipisci impedit sequi nesciunt quis consectetur'}, {'userId': 6, 'id': 51, 'title': 'soluta aliquam aperiam consequatur illo quis voluptas', 'body': 'sunt dolores aut doloribus\\ndolore doloribus voluptates tempora et\\ndoloremque et quo\\ncum asperiores sit consectetur dolorem'}, {'userId': 6, 'id': 52, 'title': 'qui enim et consequuntur quia animi quis voluptate quibusdam', 'body': 'iusto est quibusdam fuga quas quaerat molestias\\na enim ut sit accusamus enim\\ntemporibus iusto accusantium provident architecto\\nsoluta esse reprehenderit qui laborum'}, {'userId': 6, 'id': 53, 'title': 'ut quo aut ducimus alias', 'body': 'minima harum praesentium eum rerum illo dolore\\nquasi exercitationem rerum nam\\nporro quis neque quo\\nconsequatur minus dolor quidem veritatis sunt non explicabo similique'}, {'userId': 6, 'id': 54, 'title': 'sit asperiores ipsam eveniet odio non quia', 'body': 'totam corporis dignissimos\\nvitae dolorem ut occaecati accusamus\\nex velit deserunt\\net exercitationem vero incidunt corrupti mollitia'}, {'userId': 6, 'id': 55, 'title': 'sit vel voluptatem et non libero', 'body': 'debitis excepturi ea perferendis harum libero optio\\neos accusamus cum fuga ut sapiente repudiandae\\net ut incidunt omnis molestiae\\nnihil ut eum odit'}, {'userId': 6, 'id': 56, 'title': 'qui et at rerum necessitatibus', 'body': 'aut est omnis dolores\\nneque rerum quod ea rerum velit pariatur beatae excepturi\\net provident voluptas corrupti\\ncorporis harum reprehenderit dolores eligendi'}, {'userId': 6, 'id': 57, 'title': 'sed ab est est', 'body': 'at pariatur consequuntur earum quidem\\nquo est laudantium soluta voluptatem\\nqui ullam et est\\net cum voluptas voluptatum repellat est'}, {'userId': 6, 'id': 58, 'title': 'voluptatum itaque dolores nisi et quasi', 'body': 'veniam voluptatum quae adipisci id\\net id quia eos ad et dolorem\\naliquam quo nisi sunt eos impedit error\\nad similique veniam'}, {'userId': 6, 'id': 59, 'title': 'qui commodi dolor at maiores et quis id accusantium', 'body': 'perspiciatis et quam ea autem temporibus non voluptatibus qui\\nbeatae a earum officia nesciunt dolores suscipit voluptas et\\nanimi doloribus cum rerum quas et magni\\net hic ut ut commodi expedita sunt'}, {'userId': 6, 'id': 60, 'title': 'consequatur placeat omnis quisquam quia reprehenderit fugit veritatis facere', 'body': 'asperiores sunt ab assumenda cumque modi velit\\nqui esse omnis\\nvoluptate et fuga perferendis voluptas\\nillo ratione amet aut et omnis'}, {'userId': 7, 'id': 61, 'title': 'voluptatem doloribus consectetur est ut ducimus', 'body': 'ab nemo optio odio\\ndelectus tenetur corporis similique nobis repellendus rerum omnis facilis\\nvero blanditiis debitis in nesciunt doloribus dicta dolores\\nmagnam minus velit'}, {'userId': 7, 'id': 62, 'title': 'beatae enim quia vel', 'body': 'enim aspernatur illo distinctio quae praesentium\\nbeatae alias amet delectus qui voluptate distinctio\\nodit sint accusantium autem omnis\\nquo molestiae omnis ea eveniet optio'}, {'userId': 7, 'id': 63, 'title': 'voluptas blanditiis repellendus animi ducimus error sapiente et suscipit', 'body': 'enim adipisci aspernatur nemo\\nnumquam omnis facere dolorem dolor ex quis temporibus incidunt\\nab delectus culpa quo reprehenderit blanditiis asperiores\\naccusantium ut quam in voluptatibus voluptas ipsam dicta'}, {'userId': 7, 'id': 64, 'title': 'et fugit quas eum in in aperiam quod', 'body': 'id velit blanditiis\\neum ea voluptatem\\nmolestiae sint occaecati est eos perspiciatis\\nincidunt a error provident eaque aut aut qui'}, {'userId': 7, 'id': 65, 'title': 'consequatur id enim sunt et et', 'body': 'voluptatibus ex esse\\nsint explicabo est aliquid cumque adipisci fuga repellat labore\\nmolestiae corrupti ex saepe at asperiores et perferendis\\nnatus id esse incidunt pariatur'}, {'userId': 7, 'id': 66, 'title': 'repudiandae ea animi iusto', 'body': 'officia veritatis tenetur vero qui itaque\\nsint non ratione\\nsed et ut asperiores iusto eos molestiae nostrum\\nveritatis quibusdam et nemo iusto saepe'}, {'userId': 7, 'id': 67, 'title': 'aliquid eos sed fuga est maxime repellendus', 'body': 'reprehenderit id nostrum\\nvoluptas doloremque pariatur sint et accusantium quia quod aspernatur\\net fugiat amet\\nnon sapiente et consequatur necessitatibus molestiae'}, {'userId': 7, 'id': 68, 'title': 'odio quis facere architecto reiciendis optio', 'body': 'magnam molestiae perferendis quisquam\\nqui cum reiciendis\\nquaerat animi amet hic inventore\\nea quia deleniti quidem saepe porro velit'}, {'userId': 7, 'id': 69, 'title': 'fugiat quod pariatur odit minima', 'body': 'officiis error culpa consequatur modi asperiores et\\ndolorum assumenda voluptas et vel qui aut vel rerum\\nvoluptatum quisquam perspiciatis quia rerum consequatur totam quas\\nsequi commodi repudiandae asperiores et saepe a'}, {'userId': 7, 'id': 70, 'title': 'voluptatem laborum magni', 'body': 'sunt repellendus quae\\nest asperiores aut deleniti esse accusamus repellendus quia aut\\nquia dolorem unde\\neum tempora esse dolore'}, {'userId': 8, 'id': 71, 'title': 'et iusto veniam et illum aut fuga', 'body': 'occaecati a doloribus\\niste saepe consectetur placeat eum voluptate dolorem et\\nqui quo quia voluptas\\nrerum ut id enim velit est perferendis'}, {'userId': 8, 'id': 72, 'title': 'sint hic doloribus consequatur eos non id', 'body': 'quam occaecati qui deleniti consectetur\\nconsequatur aut facere quas exercitationem aliquam hic voluptas\\nneque id sunt ut aut accusamus\\nsunt consectetur expedita inventore velit'}, {'userId': 8, 'id': 73, 'title': 'consequuntur deleniti eos quia temporibus ab aliquid at', 'body': 'voluptatem cumque tenetur consequatur expedita ipsum nemo quia explicabo\\naut eum minima consequatur\\ntempore cumque quae est et\\net in consequuntur voluptatem voluptates aut'}, {'userId': 8, 'id': 74, 'title': 'enim unde ratione doloribus quas enim ut sit sapiente', 'body': 'odit qui et et necessitatibus sint veniam\\nmollitia amet doloremque molestiae commodi similique magnam et quam\\nblanditiis est itaque\\nquo et tenetur ratione occaecati molestiae tempora'}, {'userId': 8, 'id': 75, 'title': 'dignissimos eum dolor ut enim et delectus in', 'body': 'commodi non non omnis et voluptas sit\\nautem aut nobis magnam et sapiente voluptatem\\net laborum repellat qui delectus facilis temporibus\\nrerum amet et nemo voluptate expedita adipisci error dolorem'}, {'userId': 8, 'id': 76, 'title': 'doloremque officiis ad et non perferendis', 'body': 'ut animi facere\\ntotam iusto tempore\\nmolestiae eum aut et dolorem aperiam\\nquaerat recusandae totam odio'}, {'userId': 8, 'id': 77, 'title': 'necessitatibus quasi exercitationem odio', 'body': 'modi ut in nulla repudiandae dolorum nostrum eos\\naut consequatur omnis\\nut incidunt est omnis iste et quam\\nvoluptates sapiente aliquam asperiores nobis amet corrupti repudiandae provident'}, {'userId': 8, 'id': 78, 'title': 'quam voluptatibus rerum veritatis', 'body': 'nobis facilis odit tempore cupiditate quia\\nassumenda doloribus rerum qui ea\\nillum et qui totam\\naut veniam repellendus'}, {'userId': 8, 'id': 79, 'title': 'pariatur consequatur quia magnam autem omnis non amet', 'body': 'libero accusantium et et facere incidunt sit dolorem\\nnon excepturi qui quia sed laudantium\\nquisquam molestiae ducimus est\\nofficiis esse molestiae iste et quos'}, {'userId': 8, 'id': 80, 'title': 'labore in ex et explicabo corporis aut quas', 'body': 'ex quod dolorem ea eum iure qui provident amet\\nquia qui facere excepturi et repudiandae\\nasperiores molestias provident\\nminus incidunt vero fugit rerum sint sunt excepturi provident'}, {'userId': 9, 'id': 81, 'title': 'tempora rem veritatis voluptas quo dolores vero', 'body': 'facere qui nesciunt est voluptatum voluptatem nisi\\nsequi eligendi necessitatibus ea at rerum itaque\\nharum non ratione velit laboriosam quis consequuntur\\nex officiis minima doloremque voluptas ut aut'}, {'userId': 9, 'id': 82, 'title': 'laudantium voluptate suscipit sunt enim enim', 'body': 'ut libero sit aut totam inventore sunt\\nporro sint qui sunt molestiae\\nconsequatur cupiditate qui iste ducimus adipisci\\ndolor enim assumenda soluta laboriosam amet iste delectus hic'}, {'userId': 9, 'id': 83, 'title': 'odit et voluptates doloribus alias odio et', 'body': 'est molestiae facilis quis tempora numquam nihil qui\\nvoluptate sapiente consequatur est qui\\nnecessitatibus autem aut ipsa aperiam modi dolore numquam\\nreprehenderit eius rem quibusdam'}, {'userId': 9, 'id': 84, 'title': 'optio ipsam molestias necessitatibus occaecati facilis veritatis dolores aut', 'body': 'sint molestiae magni a et quos\\neaque et quasi\\nut rerum debitis similique veniam\\nrecusandae dignissimos dolor incidunt consequatur odio'}, {'userId': 9, 'id': 85, 'title': 'dolore veritatis porro provident adipisci blanditiis et sunt', 'body': 'similique sed nisi voluptas iusto omnis\\nmollitia et quo\\nassumenda suscipit officia magnam sint sed tempora\\nenim provident pariatur praesentium atque animi amet ratione'}, {'userId': 9, 'id': 86, 'title': 'placeat quia et porro iste', 'body': 'quasi excepturi consequatur iste autem temporibus sed molestiae beatae\\net quaerat et esse ut\\nvoluptatem occaecati et vel explicabo autem\\nasperiores pariatur deserunt optio'}, {'userId': 9, 'id': 87, 'title': 'nostrum quis quasi placeat', 'body': 'eos et molestiae\\nnesciunt ut a\\ndolores perspiciatis repellendus repellat aliquid\\nmagnam sint rem ipsum est'}, {'userId': 9, 'id': 88, 'title': 'sapiente omnis fugit eos', 'body': 'consequatur omnis est praesentium\\nducimus non iste\\nneque hic deserunt\\nvoluptatibus veniam cum et rerum sed'}, {'userId': 9, 'id': 89, 'title': 'sint soluta et vel magnam aut ut sed qui', 'body': 'repellat aut aperiam totam temporibus autem et\\narchitecto magnam ut\\nconsequatur qui cupiditate rerum quia soluta dignissimos nihil iure\\ntempore quas est'}, {'userId': 9, 'id': 90, 'title': 'ad iusto omnis odit dolor voluptatibus', 'body': 'minus omnis soluta quia\\nqui sed adipisci voluptates illum ipsam voluptatem\\neligendi officia ut in\\neos soluta similique molestias praesentium blanditiis'}, {'userId': 10, 'id': 91, 'title': 'aut amet sed', 'body': 'libero voluptate eveniet aperiam sed\\nsunt placeat suscipit molestias\\nsimilique fugit nam natus\\nexpedita consequatur consequatur dolores quia eos et placeat'}, {'userId': 10, 'id': 92, 'title': 'ratione ex tenetur perferendis', 'body': 'aut et excepturi dicta laudantium sint rerum nihil\\nlaudantium et at\\na neque minima officia et similique libero et\\ncommodi voluptate qui'}, {'userId': 10, 'id': 93, 'title': 'beatae soluta recusandae', 'body': 'dolorem quibusdam ducimus consequuntur dicta aut quo laboriosam\\nvoluptatem quis enim recusandae ut sed sunt\\nnostrum est odit totam\\nsit error sed sunt eveniet provident qui nulla'}, {'userId': 10, 'id': 94, 'title': 'qui qui voluptates illo iste minima', 'body': 'aspernatur expedita soluta quo ab ut similique\\nexpedita dolores amet\\nsed temporibus distinctio magnam saepe deleniti\\nomnis facilis nam ipsum natus sint similique omnis'}, {'userId': 10, 'id': 95, 'title': 'id minus libero illum nam ad officiis', 'body': 'earum voluptatem facere provident blanditiis velit laboriosam\\npariatur accusamus odio saepe\\ncumque dolor qui a dicta ab doloribus consequatur omnis\\ncorporis cupiditate eaque assumenda ad nesciunt'}, {'userId': 10, 'id': 96, 'title': 'quaerat velit veniam amet cupiditate aut numquam ut sequi', 'body': 'in non odio excepturi sint eum\\nlabore voluptates vitae quia qui et\\ninventore itaque rerum\\nveniam non exercitationem delectus aut'}, {'userId': 10, 'id': 97, 'title': 'quas fugiat ut perspiciatis vero provident', 'body': 'eum non blanditiis soluta porro quibusdam voluptas\\nvel voluptatem qui placeat dolores qui velit aut\\nvel inventore aut cumque culpa explicabo aliquid at\\nperspiciatis est et voluptatem dignissimos dolor itaque sit nam'}, {'userId': 10, 'id': 98, 'title': 'laboriosam dolor voluptates', 'body': 'doloremque ex facilis sit sint culpa\\nsoluta assumenda eligendi non ut eius\\nsequi ducimus vel quasi\\nveritatis est dolores'}, {'userId': 10, 'id': 99, 'title': 'temporibus sit alias delectus eligendi possimus magni', 'body': 'quo deleniti praesentium dicta non quod\\naut est molestias\\nmolestias et officia quis nihil\\nitaque dolorem quia'}, {'userId': 10, 'id': 100, 'title': 'at nam consequatur ea labore ea harum', 'body': 'cupiditate quo est a modi nesciunt soluta\\nipsa voluptas error itaque dicta in\\nautem qui minus magnam et distinctio eum\\naccusamus ratione error aut'}]\n"
     ]
    }
   ],
   "source": [
    "import requests\n",
    "\n",
    "response = requests.get('https://jsonplaceholder.typicode.com/posts')\n",
    "if response.status_code == 200:\n",
    "    print('Solicitação bem-sucedida!')\n",
    "    print('GET response:', response.json())\n",
    "else:\n",
    "    print('Error fetching data:', response.status_code)\n",
    "    print('Resposta da API:', response.text)"
   ]
  },
  {
   "cell_type": "markdown",
   "metadata": {
    "application/vnd.databricks.v1+cell": {
     "cellMetadata": {},
     "inputWidgets": {},
     "nuid": "7f31593f-67c3-4720-af37-6133d45ba8fc",
     "showTitle": false,
     "title": ""
    }
   },
   "source": [
    "Podemos acessar esse dado como um json:"
   ]
  },
  {
   "cell_type": "code",
   "execution_count": 0,
   "metadata": {
    "application/vnd.databricks.v1+cell": {
     "cellMetadata": {
      "byteLimit": 2048000,
      "rowLimit": 10000
     },
     "inputWidgets": {},
     "nuid": "9fd27afb-2ce1-41a1-b9a4-a7d199c2af28",
     "showTitle": false,
     "title": ""
    }
   },
   "outputs": [
    {
     "output_type": "stream",
     "name": "stdout",
     "output_type": "stream",
     "text": [
      "{'userId': 2, 'id': 18, 'title': 'voluptate et itaque vero tempora molestiae', 'body': 'eveniet quo quis\\nlaborum totam consequatur non dolor\\nut et est repudiandae\\nest voluptatem vel debitis et magnam'}\nvoluptate et itaque vero tempora molestiae\n"
     ]
    }
   ],
   "source": [
    "data = response.json()\n",
    "# print(data)\n",
    "#imprime um determinado registro\n",
    "print(data[17])\n",
    "#imprime o conteúdo do campo da mensagem\n",
    "print(data[17][\"title\"])"
   ]
  },
  {
   "cell_type": "markdown",
   "metadata": {
    "application/vnd.databricks.v1+cell": {
     "cellMetadata": {},
     "inputWidgets": {},
     "nuid": "211063a1-afd5-4b62-8d79-1266f54ba8b3",
     "showTitle": false,
     "title": ""
    }
   },
   "source": [
    "Também podemos converter o retorno da nossa requisição em um pandas df:"
   ]
  },
  {
   "cell_type": "code",
   "execution_count": 0,
   "metadata": {
    "application/vnd.databricks.v1+cell": {
     "cellMetadata": {
      "byteLimit": 2048000,
      "rowLimit": 10000
     },
     "inputWidgets": {},
     "nuid": "51989286-66ab-4b04-b192-c17075867faf",
     "showTitle": false,
     "title": ""
    }
   },
   "outputs": [
    {
     "output_type": "display_data",
     "data": {
      "text/html": [
       "<div>\n",
       "<style scoped>\n",
       "    .dataframe tbody tr th:only-of-type {\n",
       "        vertical-align: middle;\n",
       "    }\n",
       "\n",
       "    .dataframe tbody tr th {\n",
       "        vertical-align: top;\n",
       "    }\n",
       "\n",
       "    .dataframe thead th {\n",
       "        text-align: right;\n",
       "    }\n",
       "</style>\n",
       "<table border=\"1\" class=\"dataframe\">\n",
       "  <thead>\n",
       "    <tr style=\"text-align: right;\">\n",
       "      <th></th>\n",
       "      <th>userId</th>\n",
       "      <th>id</th>\n",
       "      <th>title</th>\n",
       "      <th>body</th>\n",
       "    </tr>\n",
       "  </thead>\n",
       "  <tbody>\n",
       "    <tr>\n",
       "      <th>0</th>\n",
       "      <td>1</td>\n",
       "      <td>1</td>\n",
       "      <td>sunt aut facere repellat provident occaecati e...</td>\n",
       "      <td>quia et suscipit\\nsuscipit recusandae consequu...</td>\n",
       "    </tr>\n",
       "    <tr>\n",
       "      <th>1</th>\n",
       "      <td>1</td>\n",
       "      <td>2</td>\n",
       "      <td>qui est esse</td>\n",
       "      <td>est rerum tempore vitae\\nsequi sint nihil repr...</td>\n",
       "    </tr>\n",
       "    <tr>\n",
       "      <th>2</th>\n",
       "      <td>1</td>\n",
       "      <td>3</td>\n",
       "      <td>ea molestias quasi exercitationem repellat qui...</td>\n",
       "      <td>et iusto sed quo iure\\nvoluptatem occaecati om...</td>\n",
       "    </tr>\n",
       "    <tr>\n",
       "      <th>3</th>\n",
       "      <td>1</td>\n",
       "      <td>4</td>\n",
       "      <td>eum et est occaecati</td>\n",
       "      <td>ullam et saepe reiciendis voluptatem adipisci\\...</td>\n",
       "    </tr>\n",
       "    <tr>\n",
       "      <th>4</th>\n",
       "      <td>1</td>\n",
       "      <td>5</td>\n",
       "      <td>nesciunt quas odio</td>\n",
       "      <td>repudiandae veniam quaerat sunt sed\\nalias aut...</td>\n",
       "    </tr>\n",
       "  </tbody>\n",
       "</table>\n",
       "</div>"
      ]
     },
     "metadata": {
      "application/vnd.databricks.v1+output": {
       "addedWidgets": {},
       "arguments": {},
       "data": "<div>\n<style scoped>\n    .dataframe tbody tr th:only-of-type {\n        vertical-align: middle;\n    }\n\n    .dataframe tbody tr th {\n        vertical-align: top;\n    }\n\n    .dataframe thead th {\n        text-align: right;\n    }\n</style>\n<table border=\"1\" class=\"dataframe\">\n  <thead>\n    <tr style=\"text-align: right;\">\n      <th></th>\n      <th>userId</th>\n      <th>id</th>\n      <th>title</th>\n      <th>body</th>\n    </tr>\n  </thead>\n  <tbody>\n    <tr>\n      <th>0</th>\n      <td>1</td>\n      <td>1</td>\n      <td>sunt aut facere repellat provident occaecati e...</td>\n      <td>quia et suscipit\\nsuscipit recusandae consequu...</td>\n    </tr>\n    <tr>\n      <th>1</th>\n      <td>1</td>\n      <td>2</td>\n      <td>qui est esse</td>\n      <td>est rerum tempore vitae\\nsequi sint nihil repr...</td>\n    </tr>\n    <tr>\n      <th>2</th>\n      <td>1</td>\n      <td>3</td>\n      <td>ea molestias quasi exercitationem repellat qui...</td>\n      <td>et iusto sed quo iure\\nvoluptatem occaecati om...</td>\n    </tr>\n    <tr>\n      <th>3</th>\n      <td>1</td>\n      <td>4</td>\n      <td>eum et est occaecati</td>\n      <td>ullam et saepe reiciendis voluptatem adipisci\\...</td>\n    </tr>\n    <tr>\n      <th>4</th>\n      <td>1</td>\n      <td>5</td>\n      <td>nesciunt quas odio</td>\n      <td>repudiandae veniam quaerat sunt sed\\nalias aut...</td>\n    </tr>\n  </tbody>\n</table>\n</div>",
       "datasetInfos": [],
       "metadata": {},
       "removedWidgets": [],
       "textData": null,
       "type": "htmlSandbox"
      }
     },
     "output_type": "display_data"
    }
   ],
   "source": [
    "import pandas as pd\n",
    "df = pd.DataFrame(data)\n",
    "df.head()"
   ]
  },
  {
   "cell_type": "markdown",
   "metadata": {
    "application/vnd.databricks.v1+cell": {
     "cellMetadata": {},
     "inputWidgets": {},
     "nuid": "ddeb95b2-2b82-41bb-8f5e-f0b75d8bd1e8",
     "showTitle": false,
     "title": ""
    }
   },
   "source": [
    "___\n",
    "\n",
    "**Exercício:** Faça outras requisições na API do jsonplaceholder utilizando os endpoints abaixo e crie df com essas informações.\n",
    "\n",
    "| Endpoint    | Quantidade |\n",
    "|-------------|------------|\n",
    "| /posts      | 100 posts  |\n",
    "| /comments   | 500 comments |\n",
    "| /albums     | 100 albums |\n",
    "| /photos     | 5000 photos |\n",
    "| /todos      | 200 todos |\n",
    "| /users      | 10 users |\n",
    "\n"
   ]
  },
  {
   "cell_type": "code",
   "execution_count": 0,
   "metadata": {
    "application/vnd.databricks.v1+cell": {
     "cellMetadata": {},
     "inputWidgets": {},
     "nuid": "7392c6e9-d3b4-408f-a7a0-8aa23374f4c0",
     "showTitle": false,
     "title": ""
    }
   },
   "outputs": [],
   "source": []
  },
  {
   "cell_type": "markdown",
   "metadata": {
    "application/vnd.databricks.v1+cell": {
     "cellMetadata": {},
     "inputWidgets": {},
     "nuid": "fb63e148-7866-4851-bd45-83634370546f",
     "showTitle": false,
     "title": ""
    }
   },
   "source": [
    "Neste exemplo, podemos ver que a API expõe seis conjuntos de endpoints, sendo um para cada recurso: posts, comments, albumns, photos, todo e users. Cada recurso pode ser acessado através de dois endpoints diferentes, dependendo do tipo de operação que o cliente deseja realizar. Por exemplo, se o cliente estiver interessado em ver todos os usuários no banco de dados, ele enviaria uma solicitação GET para o endpoint `/users`. Em contraste, o endpoint `/users/{id}` permite que o cliente visualize, atualize ou exclua os dados de um autor específico, incluindo o id do usuário como um parâmetro de solicitação."
   ]
  },
  {
   "cell_type": "code",
   "execution_count": 0,
   "metadata": {
    "application/vnd.databricks.v1+cell": {
     "cellMetadata": {
      "byteLimit": 2048000,
      "rowLimit": 10000
     },
     "inputWidgets": {},
     "nuid": "31fd270f-6046-463e-9446-4f93f6b9821c",
     "showTitle": false,
     "title": ""
    }
   },
   "outputs": [
    {
     "output_type": "stream",
     "name": "stdout",
     "output_type": "stream",
     "text": [
      "Solicitação bem-sucedida!\nGET response: {'id': 3, 'name': 'Clementine Bauch', 'username': 'Samantha', 'email': 'Nathan@yesenia.net', 'address': {'street': 'Douglas Extension', 'suite': 'Suite 847', 'city': 'McKenziehaven', 'zipcode': '59590-4157', 'geo': {'lat': '-68.6102', 'lng': '-47.0653'}}, 'phone': '1-463-123-4447', 'website': 'ramiro.info', 'company': {'name': 'Romaguera-Jacobson', 'catchPhrase': 'Face to face bifurcated interface', 'bs': 'e-enable strategic applications'}}\n"
     ]
    }
   ],
   "source": [
    "import requests\n",
    "\n",
    "response = requests.get('https://jsonplaceholder.typicode.com/users/3') #filtra só pro user 3\n",
    "if response.status_code == 200:\n",
    "    print('Solicitação bem-sucedida!')\n",
    "    data = response.json()\n",
    "    print('GET response:', data)\n",
    "else:\n",
    "    print('Error fetching data:', response.status_code)\n",
    "    print('Resposta da API:', response.text)"
   ]
  },
  {
   "cell_type": "code",
   "execution_count": 0,
   "metadata": {
    "application/vnd.databricks.v1+cell": {
     "cellMetadata": {
      "byteLimit": 2048000,
      "rowLimit": 10000
     },
     "inputWidgets": {},
     "nuid": "824e6f53-4d7f-416d-8cc3-e850736e504a",
     "showTitle": false,
     "title": ""
    }
   },
   "outputs": [
    {
     "output_type": "display_data",
     "data": {
      "text/html": [
       "<div>\n",
       "<style scoped>\n",
       "    .dataframe tbody tr th:only-of-type {\n",
       "        vertical-align: middle;\n",
       "    }\n",
       "\n",
       "    .dataframe tbody tr th {\n",
       "        vertical-align: top;\n",
       "    }\n",
       "\n",
       "    .dataframe thead th {\n",
       "        text-align: right;\n",
       "    }\n",
       "</style>\n",
       "<table border=\"1\" class=\"dataframe\">\n",
       "  <thead>\n",
       "    <tr style=\"text-align: right;\">\n",
       "      <th></th>\n",
       "      <th>id</th>\n",
       "      <th>name</th>\n",
       "      <th>username</th>\n",
       "      <th>email</th>\n",
       "      <th>address</th>\n",
       "      <th>phone</th>\n",
       "      <th>website</th>\n",
       "      <th>company</th>\n",
       "    </tr>\n",
       "  </thead>\n",
       "  <tbody>\n",
       "    <tr>\n",
       "      <th>0</th>\n",
       "      <td>3</td>\n",
       "      <td>Clementine Bauch</td>\n",
       "      <td>Samantha</td>\n",
       "      <td>Nathan@yesenia.net</td>\n",
       "      <td>{'street': 'Douglas Extension', 'suite': 'Suit...</td>\n",
       "      <td>1-463-123-4447</td>\n",
       "      <td>ramiro.info</td>\n",
       "      <td>{'name': 'Romaguera-Jacobson', 'catchPhrase': ...</td>\n",
       "    </tr>\n",
       "  </tbody>\n",
       "</table>\n",
       "</div>"
      ]
     },
     "metadata": {
      "application/vnd.databricks.v1+output": {
       "addedWidgets": {},
       "arguments": {},
       "data": "<div>\n<style scoped>\n    .dataframe tbody tr th:only-of-type {\n        vertical-align: middle;\n    }\n\n    .dataframe tbody tr th {\n        vertical-align: top;\n    }\n\n    .dataframe thead th {\n        text-align: right;\n    }\n</style>\n<table border=\"1\" class=\"dataframe\">\n  <thead>\n    <tr style=\"text-align: right;\">\n      <th></th>\n      <th>id</th>\n      <th>name</th>\n      <th>username</th>\n      <th>email</th>\n      <th>address</th>\n      <th>phone</th>\n      <th>website</th>\n      <th>company</th>\n    </tr>\n  </thead>\n  <tbody>\n    <tr>\n      <th>0</th>\n      <td>3</td>\n      <td>Clementine Bauch</td>\n      <td>Samantha</td>\n      <td>Nathan@yesenia.net</td>\n      <td>{'street': 'Douglas Extension', 'suite': 'Suit...</td>\n      <td>1-463-123-4447</td>\n      <td>ramiro.info</td>\n      <td>{'name': 'Romaguera-Jacobson', 'catchPhrase': ...</td>\n    </tr>\n  </tbody>\n</table>\n</div>",
       "datasetInfos": [],
       "metadata": {},
       "removedWidgets": [],
       "textData": null,
       "type": "htmlSandbox"
      }
     },
     "output_type": "display_data"
    }
   ],
   "source": [
    "df = pd.DataFrame(data, index=[0])\n",
    "df = pd.DataFrame([data])\n",
    "df.head()"
   ]
  },
  {
   "cell_type": "markdown",
   "metadata": {
    "application/vnd.databricks.v1+cell": {
     "cellMetadata": {},
     "inputWidgets": {},
     "nuid": "07fd36e2-1357-4a21-8c62-e684e2e8134e",
     "showTitle": false,
     "title": ""
    }
   },
   "source": [
    "Também podemos filtrar os dados que queremos utilizando as funcionalidades da API passando um parâmetro para ela:"
   ]
  },
  {
   "cell_type": "code",
   "execution_count": 0,
   "metadata": {
    "application/vnd.databricks.v1+cell": {
     "cellMetadata": {},
     "inputWidgets": {},
     "nuid": "f8b8e323-1a85-4824-8ef8-6fc631498b29",
     "showTitle": false,
     "title": ""
    }
   },
   "outputs": [
    {
     "output_type": "execute_result",
     "data": {
      "text/plain": [
       "[{'postId': 1,\n",
       "  'id': 1,\n",
       "  'name': 'id labore ex et quam laborum',\n",
       "  'email': 'Eliseo@gardner.biz',\n",
       "  'body': 'laudantium enim quasi est quidem magnam voluptate ipsam eos\\ntempora quo necessitatibus\\ndolor quam autem quasi\\nreiciendis et nam sapiente accusantium'},\n",
       " {'postId': 1,\n",
       "  'id': 2,\n",
       "  'name': 'quo vero reiciendis velit similique earum',\n",
       "  'email': 'Jayne_Kuhic@sydney.com',\n",
       "  'body': 'est natus enim nihil est dolore omnis voluptatem numquam\\net omnis occaecati quod ullam at\\nvoluptatem error expedita pariatur\\nnihil sint nostrum voluptatem reiciendis et'},\n",
       " {'postId': 1,\n",
       "  'id': 3,\n",
       "  'name': 'odio adipisci rerum aut animi',\n",
       "  'email': 'Nikita@garfield.biz',\n",
       "  'body': 'quia molestiae reprehenderit quasi aspernatur\\naut expedita occaecati aliquam eveniet laudantium\\nomnis quibusdam delectus saepe quia accusamus maiores nam est\\ncum et ducimus et vero voluptates excepturi deleniti ratione'},\n",
       " {'postId': 1,\n",
       "  'id': 4,\n",
       "  'name': 'alias odio sit',\n",
       "  'email': 'Lew@alysha.tv',\n",
       "  'body': 'non et atque\\noccaecati deserunt quas accusantium unde odit nobis qui voluptatem\\nquia voluptas consequuntur itaque dolor\\net qui rerum deleniti ut occaecati'},\n",
       " {'postId': 1,\n",
       "  'id': 5,\n",
       "  'name': 'vero eaque aliquid doloribus et culpa',\n",
       "  'email': 'Hayden@althea.biz',\n",
       "  'body': 'harum non quasi et ratione\\ntempore iure ex voluptates in ratione\\nharum architecto fugit inventore cupiditate\\nvoluptates magni quo et'}]"
      ]
     },
     "execution_count": 91,
     "metadata": {},
     "output_type": "execute_result"
    }
   ],
   "source": [
    "requests.get('https://jsonplaceholder.typicode.com/comments?postId=1').json()"
   ]
  },
  {
   "cell_type": "markdown",
   "metadata": {
    "application/vnd.databricks.v1+cell": {
     "cellMetadata": {},
     "inputWidgets": {},
     "nuid": "e698e6d8-4ef2-451a-9279-8a47c308f8a8",
     "showTitle": false,
     "title": ""
    }
   },
   "source": [
    "Outras rotas dessa API:\n",
    "\n",
    "| Método | Endpoint            |\n",
    "|--------|---------------------|\n",
    "| GET    | /posts              |\n",
    "| GET    | /posts/1            |\n",
    "| GET    | /posts/1/comments   |\n",
    "| GET    | /comments?postId=1  |\n",
    "| POST   | /posts              |\n",
    "| PUT    | /posts/1            |\n",
    "| DELETE | /posts/1            |"
   ]
  },
  {
   "cell_type": "markdown",
   "metadata": {
    "application/vnd.databricks.v1+cell": {
     "cellMetadata": {},
     "inputWidgets": {},
     "nuid": "d92aa291-927f-42f7-8506-7985df2354c4",
     "showTitle": false,
     "title": ""
    }
   },
   "source": [
    "Vamos agora testar na API https://reqres.in/api"
   ]
  },
  {
   "cell_type": "code",
   "execution_count": 0,
   "metadata": {
    "application/vnd.databricks.v1+cell": {
     "cellMetadata": {
      "byteLimit": 2048000,
      "rowLimit": 10000
     },
     "inputWidgets": {},
     "nuid": "823c989a-bd32-4823-9c51-a76dc74336ba",
     "showTitle": false,
     "title": ""
    }
   },
   "outputs": [
    {
     "output_type": "stream",
     "name": "stdout",
     "output_type": "stream",
     "text": [
      "GET response: {'page': 1, 'per_page': 6, 'total': 12, 'total_pages': 2, 'data': [{'id': 1, 'email': 'george.bluth@reqres.in', 'first_name': 'George', 'last_name': 'Bluth', 'avatar': 'https://reqres.in/img/faces/1-image.jpg'}, {'id': 2, 'email': 'janet.weaver@reqres.in', 'first_name': 'Janet', 'last_name': 'Weaver', 'avatar': 'https://reqres.in/img/faces/2-image.jpg'}, {'id': 3, 'email': 'emma.wong@reqres.in', 'first_name': 'Emma', 'last_name': 'Wong', 'avatar': 'https://reqres.in/img/faces/3-image.jpg'}, {'id': 4, 'email': 'eve.holt@reqres.in', 'first_name': 'Eve', 'last_name': 'Holt', 'avatar': 'https://reqres.in/img/faces/4-image.jpg'}, {'id': 5, 'email': 'charles.morris@reqres.in', 'first_name': 'Charles', 'last_name': 'Morris', 'avatar': 'https://reqres.in/img/faces/5-image.jpg'}, {'id': 6, 'email': 'tracey.ramos@reqres.in', 'first_name': 'Tracey', 'last_name': 'Ramos', 'avatar': 'https://reqres.in/img/faces/6-image.jpg'}], 'support': {'url': 'https://reqres.in/#support-heading', 'text': 'To keep ReqRes free, contributions towards server costs are appreciated!'}}\n"
     ]
    }
   ],
   "source": [
    "import requests\n",
    "\n",
    "response = requests.get('https://reqres.in/api/users')\n",
    "if response.status_code == 200:\n",
    "    print('GET response:', response.json())\n",
    "else:\n",
    "    print('Error fetching data:', response.status_code)"
   ]
  },
  {
   "cell_type": "markdown",
   "metadata": {
    "application/vnd.databricks.v1+cell": {
     "cellMetadata": {},
     "inputWidgets": {},
     "nuid": "ff2388bd-075d-4a9e-897d-b025fe9307fd",
     "showTitle": false,
     "title": ""
    }
   },
   "source": [
    "____\n",
    "\n",
    "**Exercício** Teste as demais requisições na API `reqres`."
   ]
  },
  {
   "cell_type": "code",
   "execution_count": 0,
   "metadata": {
    "application/vnd.databricks.v1+cell": {
     "cellMetadata": {},
     "inputWidgets": {},
     "nuid": "c5e816c2-5cb3-4570-a1dc-9e72faac4bb1",
     "showTitle": false,
     "title": ""
    }
   },
   "outputs": [],
   "source": []
  },
  {
   "cell_type": "markdown",
   "metadata": {
    "application/vnd.databricks.v1+cell": {
     "cellMetadata": {},
     "inputWidgets": {},
     "nuid": "bf14ccde-211e-4d9a-8a8c-38fa2b49869a",
     "showTitle": false,
     "title": ""
    }
   },
   "source": [
    "**2. POST**\n",
    "\n",
    "Uma solicitação POST é usada para enviar dados ao servidor para criar um novo recurso. Muitas vezes é usado para enviar formulários ou fazer upload de dados.\n",
    "\n",
    "Exemplo de como fazer uma solicitação POST em Python:\n",
    "\n",
    "```python\n",
    "import requests\n",
    "\n",
    "# URL da API\n",
    "url = \"https://api.example.com/create\"\n",
    "\n",
    "# Dados do novo post que você deseja enviar no corpo da solicitação POST\n",
    "data_to_send = {\"key1\": \"value1\", \"key2\": \"value2\"}\n",
    "headers = {\"Content-Type\": \"application/json\"}\n",
    "\n",
    "# Realiza a solicitação POST\n",
    "response = requests.post(url, json=data_to_send, headers=headers)\n",
    "\n",
    "# Verifica o status da resposta\n",
    "if response.status_code == 201:\n",
    "    print(\"Resource created successfully.\")\n",
    "else:\n",
    "    print(\"Error:\", response.status_code)\n",
    "    print('Resposta da API:', response.text)\n",
    "```"
   ]
  },
  {
   "cell_type": "code",
   "execution_count": 0,
   "metadata": {
    "application/vnd.databricks.v1+cell": {
     "cellMetadata": {
      "byteLimit": 2048000,
      "rowLimit": 10000
     },
     "inputWidgets": {},
     "nuid": "27b63445-9c1b-4cf8-8427-ad53e629ffa1",
     "showTitle": false,
     "title": ""
    }
   },
   "outputs": [
    {
     "output_type": "stream",
     "name": "stdout",
     "output_type": "stream",
     "text": [
      "POST response: {'title': 'Extração de Dados', 'body': 'Aprendendo sobre API REST', 'userId': 1, 'id': 101}\n"
     ]
    }
   ],
   "source": [
    "import json\n",
    "data_to_send = {\n",
    "    'title': 'Extração de Dados',\n",
    "    'body': 'Aprendendo sobre API REST',\n",
    "    'userId': 1,\n",
    "\n",
    "response = requests.post('https://jsonplaceholder.typicode.com/posts', json=data_to_send)\n",
    "if response.status_code == 201:\n",
    "    print('POST response:', response.json())\n",
    "else:\n",
    "    print('Error posting data:', response.status_code)"
   ]
  },
  {
   "cell_type": "markdown",
   "metadata": {
    "application/vnd.databricks.v1+cell": {
     "cellMetadata": {},
     "inputWidgets": {},
     "nuid": "1ef37cc4-bfc9-4adc-a8bf-fdd14494fdc5",
     "showTitle": false,
     "title": ""
    }
   },
   "source": [
    "#### Exercício\n",
    "Crie um user novo na API `https://reqres.in`."
   ]
  },
  {
   "cell_type": "markdown",
   "metadata": {
    "application/vnd.databricks.v1+cell": {
     "cellMetadata": {},
     "inputWidgets": {},
     "nuid": "d3d2a7fc-a9e8-4120-ac2f-8d6e4ec00787",
     "showTitle": false,
     "title": ""
    }
   },
   "source": [
    "**3. PUT**\n",
    "\n",
    "Uma solicitação PUT é usada para atualizar um recurso existente no servidor ou criar um novo recurso se ele não existir. Normalmente requer a especificação de todos os dados do recurso.\n",
    "\n",
    "Exemplo de como fazer uma solicitação PUT em Python:\n",
    "\n",
    "```python\n",
    "import requests\n",
    "import json\n",
    "\n",
    "# URL da API\n",
    "url = \"https://api.example.com/update/1\"\n",
    "\n",
    "# Dados para a atualização do post que você deseja enviar no corpo da solicitação PUT\n",
    "data_to_send = {\"key1\": \"new_value1\", \"key2\": \"new_value2\"}\n",
    "headers = {\"Content-Type\": \"application/json\"}\n",
    "\n",
    "# Realiza a solicitação PUT\n",
    "response = requests.put(url, data=json.dumps(data_to_send), headers=headers)\n",
    "\n",
    "# Verifica o status da resposta\n",
    "if response.status_code == 200:\n",
    "    print(\"Resource updated successfully.\")\n",
    "else:\n",
    "    print(\"Error:\", response.status_code)\n",
    "```"
   ]
  },
  {
   "cell_type": "code",
   "execution_count": 0,
   "metadata": {
    "application/vnd.databricks.v1+cell": {
     "cellMetadata": {
      "byteLimit": 2048000,
      "rowLimit": 10000
     },
     "inputWidgets": {},
     "nuid": "7abf0f3e-1321-4556-bb74-0d0d3da97e29",
     "showTitle": false,
     "title": ""
    }
   },
   "outputs": [
    {
     "output_type": "stream",
     "name": "stdout",
     "output_type": "stream",
     "text": [
      "PUT response: {'id': 1, 'title': 'Extração de Dados', 'body': 'Aprendendo sobre API REST', 'userId': 1}\n"
     ]
    }
   ],
   "source": [
    "# PUT request\n",
    "# Dados para a atualização do post que você deseja enviar no corpo da solicitação PUT\n",
    "data = {\n",
    "    'id': 1,\n",
    "    'title': 'Extração de Dados',\n",
    "    'body': 'Aprendendo sobre API REST',\n",
    "    'userId': 1\n",
    "}\n",
    "response = requests.put('https://jsonplaceholder.typicode.com/posts/1', json=data)\n",
    "if response.status_code == 200:\n",
    "    print('PUT response:', response.json())\n",
    "else:\n",
    "    print('Error updating data:', response.status_code)"
   ]
  },
  {
   "cell_type": "code",
   "execution_count": 0,
   "metadata": {
    "application/vnd.databricks.v1+cell": {
     "cellMetadata": {},
     "inputWidgets": {},
     "nuid": "9b03227a-2ea3-4aab-a163-335c3a8e694e",
     "showTitle": false,
     "title": ""
    }
   },
   "outputs": [
    {
     "output_type": "execute_result",
     "data": {
      "text/plain": [
       "{'Date': 'Sun, 11 Feb 2024 13:40:17 GMT', 'Content-Type': 'application/json; charset=utf-8', 'Transfer-Encoding': 'chunked', 'Connection': 'keep-alive', 'Report-To': '{\"group\":\"heroku-nel\",\"max_age\":3600,\"endpoints\":[{\"url\":\"https://nel.heroku.com/reports?ts=1707658817&sid=e11707d5-02a7-43ef-b45e-2cf4d2036f7d&s=1HlR%2FZVSuByPp1t3BPkBExbaRZC1GdmvpUHMnFmz90Y%3D\"}]}', 'Reporting-Endpoints': 'heroku-nel=https://nel.heroku.com/reports?ts=1707658817&sid=e11707d5-02a7-43ef-b45e-2cf4d2036f7d&s=1HlR%2FZVSuByPp1t3BPkBExbaRZC1GdmvpUHMnFmz90Y%3D', 'Nel': '{\"report_to\":\"heroku-nel\",\"max_age\":3600,\"success_fraction\":0.005,\"failure_fraction\":0.05,\"response_headers\":[\"Via\"]}', 'X-Powered-By': 'Express', 'X-Ratelimit-Limit': '1000', 'X-Ratelimit-Remaining': '999', 'X-Ratelimit-Reset': '1707658844', 'Vary': 'Origin, Accept-Encoding', 'Access-Control-Allow-Credentials': 'true', 'Cache-Control': 'no-cache', 'Pragma': 'no-cache', 'Expires': '-1', 'X-Content-Type-Options': 'nosniff', 'Etag': 'W/\"65-fFLimjeYSJL6ApmSGgL7Zxd3/So\"', 'Via': '1.1 vegur', 'CF-Cache-Status': 'DYNAMIC', 'Server': 'cloudflare', 'CF-RAY': '853d00b76d1e013a-GRU', 'Content-Encoding': 'br', 'alt-svc': 'h3=\":443\"; ma=86400'}"
      ]
     },
     "execution_count": 104,
     "metadata": {},
     "output_type": "execute_result"
    }
   ],
   "source": [
    "# response.url\n",
    "# response.content"
   ]
  },
  {
   "cell_type": "code",
   "execution_count": 0,
   "metadata": {
    "application/vnd.databricks.v1+cell": {
     "cellMetadata": {
      "byteLimit": 2048000,
      "rowLimit": 10000
     },
     "inputWidgets": {},
     "nuid": "545826f2-0367-48a8-b39b-1f26364a0fa3",
     "showTitle": false,
     "title": ""
    }
   },
   "outputs": [
    {
     "output_type": "stream",
     "name": "stdout",
     "output_type": "stream",
     "text": [
      "POST response: {'name': 'morpheus', 'job': 'Data Engineering', 'updatedAt': '2024-03-03T15:27:43.783Z'}\n"
     ]
    }
   ],
   "source": [
    "data_to_send = {\n",
    "    \"name\": \"morpheus\",\n",
    "    \"job\": \"Data Engineering\"\n",
    "}\n",
    "\n",
    "headers = {\"Content-Type\": \"application/json\"}\n",
    "\n",
    "response = requests.put('https://reqres.in/api/users/2', json=data_to_send)\n",
    "if response.status_code == 200:\n",
    "    print('POST response:', response.json())\n",
    "else:\n",
    "    print('Error posting data:', response.status_code)"
   ]
  },
  {
   "cell_type": "markdown",
   "metadata": {
    "application/vnd.databricks.v1+cell": {
     "cellMetadata": {},
     "inputWidgets": {},
     "nuid": "df0c19fb-2f6e-4f26-8103-6124c5adb53b",
     "showTitle": false,
     "title": ""
    }
   },
   "source": [
    "**4. DELETE**\n",
    "\n",
    "Uma solicitação DELETE é usada para remover um recurso do servidor.\n",
    "\n",
    "Exemplo de como fazer uma solicitação DELETE em Python:\n",
    "\n",
    "```python\n",
    "import requests\n",
    "\n",
    "# URL da API\n",
    "url = \"https://api.example.com/delete/1\"\n",
    "\n",
    "# Realiza a solicitação DELETE\n",
    "response = requests.delete(url)\n",
    "\n",
    "# Verifica o status da resposta\n",
    "if response.status_code == 204:\n",
    "    print(\"Resource deleted successfully.\")\n",
    "else:\n",
    "    print(\"Error:\", response.status_code)\n",
    "```"
   ]
  },
  {
   "cell_type": "code",
   "execution_count": 0,
   "metadata": {
    "application/vnd.databricks.v1+cell": {
     "cellMetadata": {},
     "inputWidgets": {},
     "nuid": "3c41c986-c94e-4bcf-8a67-83b59d5fe785",
     "showTitle": false,
     "title": ""
    }
   },
   "outputs": [
    {
     "output_type": "stream",
     "name": "stdout",
     "output_type": "stream",
     "text": [
      "DELETE response: {}\n"
     ]
    }
   ],
   "source": [
    "# DELETE request\n",
    "response = requests.delete('https://jsonplaceholder.typicode.com/posts/1')\n",
    "if response.status_code == 200:\n",
    "    print('DELETE response:', response.json())\n",
    "else:\n",
    "    print('Error deleting data:', response.status_code)\n",
    "\n",
    "# Lembrando que o DELETE não deleta os dados nessa API por ser uma API fictícia, apenas simula a operação"
   ]
  },
  {
   "cell_type": "code",
   "execution_count": 0,
   "metadata": {
    "application/vnd.databricks.v1+cell": {
     "cellMetadata": {
      "byteLimit": 2048000,
      "rowLimit": 10000
     },
     "inputWidgets": {},
     "nuid": "065fde4b-078c-4e22-a0e2-c80a2b6a4d8f",
     "showTitle": false,
     "title": ""
    }
   },
   "outputs": [],
   "source": [
    "# # Não está funcionando\n",
    "# # DELETE request\n",
    "# response = requests.delete('https://reqres.in/api/users/2')\n",
    "# if response.status_code == 200:\n",
    "#     print('DELETE response:', response.json())\n",
    "# else:\n",
    "#     print('Error deleting data:', response.status_code)"
   ]
  },
  {
   "cell_type": "markdown",
   "metadata": {
    "application/vnd.databricks.v1+cell": {
     "cellMetadata": {},
     "inputWidgets": {},
     "nuid": "73ccdab9-5679-4826-ab70-eec4779eb112",
     "showTitle": false,
     "title": ""
    },
    "id": "gZp19UjIic4T"
   },
   "source": [
    "\n",
    "\n",
    "Estes são os quatro tipos fundamentais de solicitações HTTP usadas em APIs RESTful. Dependendo do design da API, você usará esses métodos para interagir com recursos, recuperar dados, criar novos registros, atualizar dados existentes ou excluir recursos. Consulte sempre a documentação da API para entender como cada endpoint deve ser acessado e qual método HTTP usar para operações específicas."
   ]
  },
  {
   "cell_type": "markdown",
   "metadata": {
    "application/vnd.databricks.v1+cell": {
     "cellMetadata": {},
     "inputWidgets": {},
     "nuid": "570b3159-1fc8-4b6f-80c2-36c7a3b5b45b",
     "showTitle": false,
     "title": ""
    }
   },
   "source": [
    "## Especificações de uma API\n",
    "\n",
    "As especificações de uma API geralmente referem-se à documentação que descreve como a API funciona, quais são os endpoints disponíveis, quais parâmetros podem ser usados em cada endpoint, quais são os métodos HTTP suportados, quais são os formatos de dados aceitos e retornados (como JSON ou XML), quais são os códigos de status HTTP que podem ser retornados em resposta a uma solicitação, e qualquer outra informação relevante para interagir com a API de forma eficaz.\n",
    "\n",
    "Essas especificações geralmente são documentadas em uma forma legível por humanos, como um documento ou página da web, e podem incluir exemplos de solicitações e respostas para ilustrar como usar a API corretamente.\n",
    "\n",
    "A especificação seria o MENU que o cliente lê para saber quais são as comidas disponíveis e sua descrição. E o restaurante criou essse MENU baseado no que ele estava disposto a oferecer.\n",
    "\n",
    "https://reqres.in/api-docs/"
   ]
  },
  {
   "cell_type": "markdown",
   "metadata": {
    "application/vnd.databricks.v1+cell": {
     "cellMetadata": {},
     "inputWidgets": {},
     "nuid": "fed8dca0-04c7-4d89-82a2-3883ad8d1653",
     "showTitle": false,
     "title": ""
    }
   },
   "source": [
    "## Autenticação\n",
    "\n",
    "A autenticação é um aspecto crítico do trabalho com APIs REST em Python. Ele garante que apenas usuários ou aplicativos autorizados possam acessar recursos protegidos. Existem vários métodos de autenticação comumente usados em serviços RESTful, e Python oferece bibliotecas e ferramentas para implementá-los.\n",
    "\n",
    "\n",
    "\n",
    "**1. Autenticação de chave de API (API-KEY)**\n",
    "\n",
    "A autenticação de chave de API é um dos métodos mais simples. Envolve o envio de uma chave de API com cada solicitação. Veja como você pode implementar a autenticação de chave de API em Python usando a biblioteca `requests`:\n",
    "\n",
    "HEADERS : CABEÇALHO REQUISIÇÃO\n",
    "\n",
    "```python\n",
    "import requests\n",
    "\n",
    "api_key = \"your_api_key_here\"\n",
    "url = \"https://api.example.com/resource\"\n",
    "headers = {\"Api-Key\": api_key}\n",
    "response = requests.get(url, headers=headers)\n",
    "\n",
    "if response.status_code == 200:\n",
    "    data = response.json()\n",
    "    print(data)\n",
    "else:\n",
    "    print(\"Error:\", response.status_code)\n",
    "```\n",
    "\n",
    "<br>\n",
    "\n",
    "**2. Autenticação Básica (Basic Authentication)**\n",
    "\n",
    "A autenticação básica envolve o envio de um nome de usuário e senha em cada solicitação, geralmente codificados no formato base64. A biblioteca `requests` do Python facilita o uso da autenticação básica:\n",
    "\n",
    "```python\n",
    "import requests\n",
    "from requests.auth import HTTPBasicAuth\n",
    "\n",
    "username = \"your_username\"\n",
    "password = \"your_password\"\n",
    "url = \"https://api.example.com/resource\"\n",
    "response = requests.get(url, auth=HTTPBasicAuth(username, password))\n",
    "\n",
    "if response.status_code == 200:\n",
    "    data = response.json()\n",
    "    print(data)\n",
    "else:\n",
    "    print(\"Error:\", response.status_code)\n",
    "```"
   ]
  },
  {
   "cell_type": "code",
   "execution_count": 0,
   "metadata": {
    "application/vnd.databricks.v1+cell": {
     "cellMetadata": {
      "byteLimit": 2048000,
      "rowLimit": 10000
     },
     "inputWidgets": {},
     "nuid": "bdc781a8-6be8-4488-bba9-760defe4494f",
     "showTitle": false,
     "title": ""
    }
   },
   "outputs": [
    {
     "output_type": "stream",
     "name": "stdout",
     "output_type": "stream",
     "text": [
      "{'authenticated': True, 'user': 'user'}\n"
     ]
    }
   ],
   "source": [
    "import requests\n",
    "from requests.auth import HTTPBasicAuth\n",
    "\n",
    "url = 'https://httpbin.org/basic-auth/user/pass'\n",
    "response = requests.get(url, auth=HTTPBasicAuth('user', 'pass'))\n",
    "print(response.json())\n"
   ]
  },
  {
   "cell_type": "markdown",
   "metadata": {
    "application/vnd.databricks.v1+cell": {
     "cellMetadata": {},
     "inputWidgets": {},
     "nuid": "c7a2cb47-0797-484a-b8aa-2aa194e8eb7a",
     "showTitle": false,
     "title": ""
    }
   },
   "source": [
    "**3. Autenticação OAuth2**\n",
    "\n",
    "OAuth2 é um método de autenticação mais complexo frequentemente usado para autenticação e autorização de usuários. Você pode usar bibliotecas Python como `oauthlib` e `requests-oauthlib` para implementar o OAuth2 em seu aplicativo. As etapas e bibliotecas específicas necessárias dependem do provedor OAuth2 com o qual você está integrando. <br>"
   ]
  },
  {
   "cell_type": "markdown",
   "metadata": {
    "application/vnd.databricks.v1+cell": {
     "cellMetadata": {},
     "inputWidgets": {},
     "nuid": "6ee10806-d785-4b7d-8244-bec43725564e",
     "showTitle": false,
     "title": ""
    }
   },
   "source": [
    "\n",
    "\n",
    "**4. Autenticação baseada em token**\n",
    "\n",
    "A autenticação baseada em token é amplamente usada em APIs da web modernas. Envolve obter um token (geralmente um token JWT ou OAuth2) e incluí-lo no cabeçalho `Autorização` de cada solicitação. Aqui está um exemplo usando autenticação baseada em token JWT com a biblioteca `requests`:\n",
    "\n",
    "```python\n",
    "import requests\n",
    "\n",
    "jwt_token = \"your_jwt_token_here\"\n",
    "url = \"https://api.example.com/resource\"\n",
    "headers = {\"Authorization\": f\"Bearer {jwt_token}\"}\n",
    "response = requests.get(url, headers=headers)\n",
    "\n",
    "if response.status_code == 200:\n",
    "    data = response.json()\n",
    "    print(data)\n",
    "else:\n",
    "    print(\"Error:\", response.status_code)\n",
    "```"
   ]
  },
  {
   "cell_type": "code",
   "execution_count": 0,
   "metadata": {
    "application/vnd.databricks.v1+cell": {
     "cellMetadata": {
      "byteLimit": 2048000,
      "rowLimit": 10000
     },
     "inputWidgets": {},
     "nuid": "fb20a55d-923c-430d-9196-698b554cdaa1",
     "showTitle": false,
     "title": ""
    }
   },
   "outputs": [
    {
     "output_type": "stream",
     "name": "stdout",
     "output_type": "stream",
     "text": [
      "{'authenticated': True, 'token': 'YOUR_TOKEN_HERE'}\n"
     ]
    }
   ],
   "source": [
    "import requests\n",
    "\n",
    "url = 'https://httpbin.org/bearer'\n",
    "headers = {'Authorization': 'Bearer YOUR_TOKEN_HERE'}\n",
    "response = requests.get(url, headers=headers)\n",
    "print(response.json())\n"
   ]
  },
  {
   "cell_type": "markdown",
   "metadata": {
    "application/vnd.databricks.v1+cell": {
     "cellMetadata": {},
     "inputWidgets": {},
     "nuid": "edcfab8a-2d69-4cb5-bbd0-d76f8e4e14e6",
     "showTitle": false,
     "title": ""
    },
    "id": "7oJJ2Ggwhij1"
   },
   "source": [
    "**5. Autenticação baseada em sessão**\n",
    "\n",
    "A autenticação baseada em sessão é frequentemente usada para aplicativos da web. A biblioteca `requests` do Python permite que você mantenha uma sessão para lidar com cookies e tokens de autenticação para você. Aqui está um exemplo simplificado:\n",
    "\n",
    "```python\n",
    "import requests\n",
    "\n",
    "session = requests.Session()\n",
    "login_url = \"https://api.example.com/login\"\n",
    "data = {\"username\": \"your_username\", \"password\": \"your_password\"}\n",
    "response = session.post(login_url, data=data)\n",
    "\n",
    "if response.status_code == 200:\n",
    "    protected_resource_url = \"https://api.example.com/resource\"\n",
    "    response = session.get(protected_resource_url)\n",
    "\n",
    "    if response.status_code == 200:\n",
    "        data = response.json()\n",
    "        print(data)\n",
    "    else:\n",
    "        print(\"Error accessing protected resource:\", response.status_code)\n",
    "else:\n",
    "    print(\"Error logging in:\", response.status_code)\n",
    "```\n"
   ]
  },
  {
   "cell_type": "code",
   "execution_count": 0,
   "metadata": {
    "application/vnd.databricks.v1+cell": {
     "cellMetadata": {
      "byteLimit": 2048000,
      "rowLimit": 10000
     },
     "inputWidgets": {},
     "nuid": "45a25788-3546-4514-91f8-cd9503d3f1b1",
     "showTitle": false,
     "title": ""
    }
   },
   "outputs": [
    {
     "output_type": "stream",
     "name": "stdout",
     "output_type": "stream",
     "text": [
      "<Response [200]>\n{'data': {'id': 2, 'email': 'janet.weaver@reqres.in', 'first_name': 'Janet', 'last_name': 'Weaver', 'avatar': 'https://reqres.in/img/faces/2-image.jpg'}, 'support': {'url': 'https://reqres.in/#support-heading', 'text': 'To keep ReqRes free, contributions towards server costs are appreciated!'}}\n"
     ]
    }
   ],
   "source": [
    "# Baseada em sessão\n",
    "\n",
    "import requests\n",
    "\n",
    "session = requests.Session()\n",
    "login_url = \"https://reqres.in/api/login\"\n",
    "\n",
    "data = {\n",
    "    \"email\": \"eve.holt@reqres.in\",\n",
    "    \"password\": \"cityslicka\"\n",
    "}\n",
    "\n",
    "response = session.post(login_url, data=data)\n",
    "\n",
    "print(response)\n",
    "if response.status_code == 200:\n",
    "    protected_resource_url = \"https://reqres.in/api/users/2\"\n",
    "    response = session.get(protected_resource_url)\n",
    "\n",
    "    if response.status_code == 200:\n",
    "        data = response.json()\n",
    "        print(data)\n",
    "    else:\n",
    "        print(\"Error accessing protected resource:\", response.status_code)\n",
    "else:\n",
    "    print(\"Error logging in:\", response.status_code)\n",
    "\n"
   ]
  },
  {
   "cell_type": "code",
   "execution_count": 0,
   "metadata": {
    "application/vnd.databricks.v1+cell": {
     "cellMetadata": {
      "byteLimit": 2048000,
      "rowLimit": 10000
     },
     "inputWidgets": {},
     "nuid": "abadae7b-caaf-46c9-b420-386303888f90",
     "showTitle": false,
     "title": ""
    }
   },
   "outputs": [
    {
     "output_type": "stream",
     "name": "stdout",
     "output_type": "stream",
     "text": [
      "Out[54]: {}"
     ]
    }
   ],
   "source": [
    "# Para realizar o logout\n",
    "logout_url = \"https://reqres.in/api/logout\"\n",
    "response = session.post(logout_url)\n",
    "\n",
    "response.json()"
   ]
  },
  {
   "cell_type": "markdown",
   "metadata": {
    "application/vnd.databricks.v1+cell": {
     "cellMetadata": {},
     "inputWidgets": {},
     "nuid": "33e40e00-0b2f-469c-a45a-77999d3bfdce",
     "showTitle": false,
     "title": ""
    },
    "id": "1vErotkUi-xD"
   },
   "source": [
    "## Response Codes\n",
    "\n",
    "Os códigos de resposta HTTP, também conhecidos como códigos de status, são emitidos por um servidor em resposta à solicitação de um cliente. Eles fornecem informações sobre o resultado da solicitação e ajudam clientes e servidores a entender como lidar com a solicitação ou erro. Em Python, você pode acessar o código de resposta HTTP usando o atributo `status_code` ao usar a biblioteca `requests` para fazer solicitações HTTP. Aqui estão alguns códigos de resposta HTTP comuns e exemplos em Python:\n",
    "\n",
    "<img src=\"https://lh4.googleusercontent.com/Zv4J7Q_I0IRh-fKMcjAoMmftla_WVixPONmEpXCBnG3sxuf-cHmTv47GIvUXzsjW8UAXN86n0CF5Es-YSxo8mNiXaXncufkYvyyoVGtHbk2-P0Nic05lWkS9TkeJDbxdT88HMfTkMVdITVpL3OHsqyCvyI0U6yxls-gMfWizhOvB2ZzYEjlPVailvA\">\n",
    "\n",
    "**1. 2xx - Successful**\n",
    "\n",
    "Esses códigos indicam que a solicitação foi recebida, compreendida e processada com sucesso pelo servidor.\n",
    "\n",
    "- `200 OK`: A solicitação foi bem-sucedida e o servidor está respondendo com os dados ou recursos solicitados.\n",
    "\n",
    "```python\n",
    "import requests\n",
    "\n",
    "url = \"https://api.example.com/data\"\n",
    "response = requests.get(url)\n",
    "\n",
    "if response.status_code == 200:\n",
    "    data = response.json()\n",
    "    print(data)\n",
    "else:\n",
    "    print(\"Error:\", response.status_code)\n",
    "```\n",
    "\n",
    "**2. 3xx - Redirection**\n",
    "\n",
    "Esses códigos indicam que são necessárias ações adicionais para concluir a solicitação. O cliente pode precisar seguir uma URL diferente ou realizar outra ação.\n",
    "\n",
    "- `301 Moved Permanently`: O recurso solicitado foi movido permanentemente para uma nova URL.\n",
    "\n",
    "```python\n",
    "import requests\n",
    "\n",
    "url = \"https://api.example.com/old-resource\"\n",
    "response = requests.get(url)\n",
    "\n",
    "if response.status_code == 301:\n",
    "    new_url = response.headers[\"Location\"]\n",
    "    print(f\"Resource has moved permanently to: {new_url}\")\n",
    "```\n",
    "\n",
    "**3. 4xx - Client Errors**\n",
    "\n",
    "Esses códigos indicam que houve um problema com a solicitação.\n",
    "\n",
    "- `400 Bad Request`: O servidor não conseguiu entender a solicitação do cliente devido a sintaxe inválida ou parâmetros ausentes.\n",
    "\n",
    "```python\n",
    "import requests\n",
    "\n",
    "url = \"https://api.example.com/resource\"\n",
    "data = {\"invalid_param\": \"value\"}\n",
    "response = requests.get(url, params=data)\n",
    "\n",
    "if response.status_code == 400:\n",
    "    print(\"Bad Request:\", response.json())\n",
    "```\n",
    "\n",
    "- `404 Not Found`: The requested resource could not be found on the server.\n",
    "\n",
    "```python\n",
    "import requests\n",
    "\n",
    "url = \"https://api.example.com/non-existent-resource\"\n",
    "response = requests.get(url)\n",
    "\n",
    "if response.status_code == 404:\n",
    "    print(\"Resource not found.\")\n",
    "```\n",
    "\n",
    "**4. 5xx - Server Errors**\n",
    "\n",
    "Esses códigos indicam que houve um problema do lado do servidor durante o processamento da solicitação.\n",
    "\n",
    "- `500 Internal Server Error`: Uma mensagem de erro genérica indicando que algo deu errado no servidor.\n",
    "\n",
    "```python\n",
    "import requests\n",
    "\n",
    "url = \"https://api.example.com/failing-endpoint\"\n",
    "response = requests.get(url)\n",
    "\n",
    "if response.status_code == 500:\n",
    "    print(\"Internal Server Error: Something went wrong on the server.\")\n",
    "```\n"
   ]
  },
  {
   "cell_type": "markdown",
   "metadata": {
    "application/vnd.databricks.v1+cell": {
     "cellMetadata": {},
     "inputWidgets": {},
     "nuid": "b186dcf2-57ca-4b04-92bf-b058316fb126",
     "showTitle": false,
     "title": ""
    }
   },
   "source": [
    "## Algumas APIs abertas para brincar\n",
    "\n",
    "- [Star Wars API](https://swapi.dev/documentation)\n",
    "- [Pokemon API](https://pokeapi.co/docs/v2)\n",
    "- [Open Trivia Database](https://opentdb.com/api_config.php)\n",
    "- [Weather Forecast API](https://open-meteo.com/en/docs)\n",
    "- [SpaceX](https://github.com/r-spacex/SpaceX-API)\n",
    "- [NASA](https://api.nasa.gov/index.html)"
   ]
  },
  {
   "cell_type": "markdown",
   "metadata": {
    "application/vnd.databricks.v1+cell": {
     "cellMetadata": {},
     "inputWidgets": {},
     "nuid": "13d11b93-419e-477f-867a-a8fa9f04660b",
     "showTitle": false,
     "title": ""
    }
   },
   "source": [
    "## [Avaliação anônima](https://forms.gle/tShxhxNYhvi6ZmQm8)"
   ]
  },
  {
   "cell_type": "markdown",
   "metadata": {
    "application/vnd.databricks.v1+cell": {
     "cellMetadata": {},
     "inputWidgets": {},
     "nuid": "d9e9b3a2-8c94-42f1-8ac9-b373895d24ad",
     "showTitle": false,
     "title": ""
    }
   },
   "source": [
    "## Exercício\n",
    "Acesse a [API da spacex](https://github.com/r-spacex/SpaceX-API/tree/master/docs) e converta em um dataframe as informações das cápsulas.\n",
    "Sabendo que o time de analytics precisa apenas das cápsulas que estão ativas, trate os dados removendo a coluna \"launches\" e salve essas informações em um arquivo csv."
   ]
  },
  {
   "cell_type": "code",
   "execution_count": 0,
   "metadata": {
    "application/vnd.databricks.v1+cell": {
     "cellMetadata": {},
     "inputWidgets": {},
     "nuid": "42e96ed6-78c9-4256-b8d0-e0853afb6a13",
     "showTitle": false,
     "title": ""
    }
   },
   "outputs": [],
   "source": []
  },
  {
   "cell_type": "markdown",
   "metadata": {
    "application/vnd.databricks.v1+cell": {
     "cellMetadata": {},
     "inputWidgets": {},
     "nuid": "12179a2a-c813-407b-b72e-dd0e15bf1dc9",
     "showTitle": false,
     "title": ""
    }
   },
   "source": [
    "## Bibliografia\n",
    "\n",
    "- https://www.postman.com/what-is-an-api/\n",
    "- https://blog.postman.com/what-is-an-api-endpoint/"
   ]
  },
  {
   "cell_type": "markdown",
   "metadata": {
    "application/vnd.databricks.v1+cell": {
     "cellMetadata": {},
     "inputWidgets": {},
     "nuid": "849c4a81-dda7-4317-a631-5790bafd3d48",
     "showTitle": false,
     "title": ""
    }
   },
   "source": [
    "___\n",
    "___\n",
    "___"
   ]
  }
 ],
 "metadata": {
  "application/vnd.databricks.v1+notebook": {
   "dashboards": [],
   "language": "python",
   "notebookMetadata": {
    "pythonIndentUnit": 2
   },
   "notebookName": "3 - API REST",
   "widgets": {}
  },
  "colab": {
   "provenance": [],
   "toc_visible": true
  },
  "kernelspec": {
   "display_name": "Python 3",
   "name": "python3"
  },
  "language_info": {
   "codemirror_mode": {
    "name": "ipython",
    "version": 3
   },
   "file_extension": ".py",
   "mimetype": "text/x-python",
   "name": "python",
   "nbconvert_exporter": "python",
   "pygments_lexer": "ipython3",
   "version": "3.9.12"
  }
 },
 "nbformat": 4,
 "nbformat_minor": 0
}
