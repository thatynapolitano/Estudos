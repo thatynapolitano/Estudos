{
 "cells": [
  {
   "cell_type": "markdown",
   "metadata": {
    "application/vnd.databricks.v1+cell": {
     "cellMetadata": {
      "byteLimit": 2048000,
      "rowLimit": 10000
     },
     "inputWidgets": {},
     "nuid": "8c27c20e-c667-48fa-aace-66958ad2c5b6",
     "showTitle": false,
     "title": ""
    }
   },
   "source": [
    "## Exercício com a API Random User Generator\n",
    "https://randomuser.me/documentation\n",
    "\n"
   ]
  },
  {
   "cell_type": "markdown",
   "metadata": {
    "application/vnd.databricks.v1+cell": {
     "cellMetadata": {
      "byteLimit": 2048000,
      "rowLimit": 10000
     },
     "inputWidgets": {},
     "nuid": "8a3164f5-0bb7-4869-8f98-3b362868e79f",
     "showTitle": false,
     "title": ""
    }
   },
   "source": [
    "Crie uma função que faça uma solicitação à API https://randomuser.me/documentation para consultar dados de um usuário fictício e salve os resultados em um Dataframe Pandas com o seguinte formato:\n",
    "\n",
    "- nome (constituído de primeiro e último nome)\n",
    "- email\n",
    "- país\n",
    "- telefone\n",
    "- link_foto\n",
    "\n",
    "Depois disso, adicione esse resultado em um dataframe final que contenha pelo menos 10 mulheres diferentes somente do Brasil. Não se esqueça de tratar o erro caso o usuário solicitado não exista na API."
   ]
  },
  {
   "cell_type": "code",
   "execution_count": 0,
   "metadata": {
    "application/vnd.databricks.v1+cell": {
     "cellMetadata": {
      "byteLimit": 2048000,
      "rowLimit": 10000
     },
     "inputWidgets": {},
     "nuid": "3b247651-76df-421f-bf3f-920cabcddd61",
     "showTitle": false,
     "title": ""
    }
   },
   "outputs": [
    {
     "output_type": "stream",
     "name": "stdout",
     "output_type": "stream",
     "text": [
      "Python interpreter will be restarted.\nCollecting lxml\n  Using cached lxml-5.1.0-cp39-cp39-manylinux_2_17_x86_64.manylinux2014_x86_64.whl (8.0 MB)\nInstalling collected packages: lxml\nSuccessfully installed lxml-5.1.0\nPython interpreter will be restarted.\n"
     ]
    }
   ],
   "source": [
    "pip install lxml \n"
   ]
  },
  {
   "cell_type": "code",
   "execution_count": 0,
   "metadata": {
    "application/vnd.databricks.v1+cell": {
     "cellMetadata": {
      "byteLimit": 2048000,
      "rowLimit": 10000
     },
     "inputWidgets": {},
     "nuid": "de256c3e-276c-4002-be48-f7515f46c239",
     "showTitle": false,
     "title": ""
    }
   },
   "outputs": [
    {
     "output_type": "stream",
     "name": "stderr",
     "output_type": "stream",
     "text": [
      "<command-2567286398397088>:47: FutureWarning: The frame.append method is deprecated and will be removed from pandas in a future version. Use pandas.concat instead.\n  mulheres_brasileiras = mulheres_brasileiras.append(dados_usuario, ignore_index=True)\n"
     ]
    },
    {
     "output_type": "stream",
     "name": "stdout",
     "output_type": "stream",
     "text": [
      "                nome                          email    país        telefone  \\\n0      Disney Barros      disney.barros@example.com  Brazil  (45) 5088-8791   \n1       Julie Moraes       julie.moraes@example.com  Brazil  (46) 4196-5312   \n2      Cláudia Sales      claudia.sales@example.com  Brazil  (35) 0292-8362   \n3   Lourdes Caldeira   lourdes.caldeira@example.com  Brazil  (38) 9892-8176   \n4      Laíssa da Luz       laissa.daluz@example.com  Brazil  (27) 8924-5771   \n5  Carlúcia Silveira  carlucia.silveira@example.com  Brazil  (33) 5359-2798   \n6     Zoraide Campos     zoraide.campos@example.com  Brazil  (48) 9978-7129   \n7     Dores da Rocha      dores.darocha@example.com  Brazil  (91) 2905-3120   \n8     Daiane Martins     daiane.martins@example.com  Brazil  (39) 8483-7088   \n9      Lohana Vieira      lohana.vieira@example.com  Brazil  (57) 2994-6805   \n\n                                           link_foto  \n0  {'large': 'https://randomuser.me/api/portraits...  \n1  {'large': 'https://randomuser.me/api/portraits...  \n2  {'large': 'https://randomuser.me/api/portraits...  \n3  {'large': 'https://randomuser.me/api/portraits...  \n4  {'large': 'https://randomuser.me/api/portraits...  \n5  {'large': 'https://randomuser.me/api/portraits...  \n6  {'large': 'https://randomuser.me/api/portraits...  \n7  {'large': 'https://randomuser.me/api/portraits...  \n8  {'large': 'https://randomuser.me/api/portraits...  \n9  {'large': 'https://randomuser.me/api/portraits...  \n"
     ]
    }
   ],
   "source": [
    "# 1 RESOLUÇÃO\n",
    "import requests\n",
    "import pandas as pd\n",
    "\n",
    "def obter_dados_usuario():\n",
    "    try:\n",
    "        # Fazendo uma solicitação GET à API Random User\n",
    "        response = requests.get(\"https://randomuser.me/api/?gender=female&nat=BR\")\n",
    "        \n",
    "        # Verificando se a solicitação foi bem-sucedida\n",
    "        if response.status_code == 200:\n",
    "            # Convertendo a resposta para JSON\n",
    "            data = response.json()\n",
    "            \n",
    "            # Extraindo os dados relevantes do JSON\n",
    "            results = data[\"results\"][0]\n",
    "            nome = f\"{results['name']['first']} {results['name']['last']}\"\n",
    "            email = results['email']\n",
    "            país = results['location']['country']\n",
    "            telefone = results['phone']\n",
    "            link_foto = results['picture']['large']\n",
    "            \n",
    "            # Criando um DataFrame com os dados extraídos\n",
    "            df = pd.DataFrame({\n",
    "                'nome': [nome],\n",
    "                'email': [email],\n",
    "                'país': [país],\n",
    "                'telefone': [telefone],\n",
    "                'link_foto': [link_foto]\n",
    "            })\n",
    "            \n",
    "            return df\n",
    "        else:\n",
    "            print(\"Falha ao obter os dados do usuário.\")\n",
    "            return None\n",
    "    except Exception as e:\n",
    "        print(\"Ocorreu um erro:\", str(e))\n",
    "        return None\n",
    "\n",
    "def obter_dados_mulheres_brasileiras(num_usuarios=10):\n",
    "    mulheres_brasileiras = pd.DataFrame()\n",
    "    tentativas = 0\n",
    "    \n",
    "    while len(mulheres_brasileiras) < num_usuarios:\n",
    "        dados_usuario = obter_dados_usuario()\n",
    "        \n",
    "        if dados_usuario is not None:\n",
    "            mulheres_brasileiras = mulheres_brasileiras.append(dados_usuario, ignore_index=True)\n",
    "        \n",
    "        tentativas += 1\n",
    "        if tentativas >= 100:\n",
    "            print(\"Número máximo de tentativas alcançado. Não foi possível encontrar mulheres brasileiras suficientes.\")\n",
    "            break\n",
    "    \n",
    "    return mulheres_brasileiras\n",
    "\n",
    "# Obtendo os dados das mulheres brasileiras\n",
    "df_final = obter_dados_mulheres_brasileiras(10)\n",
    "print(df_final)\n"
   ]
  },
  {
   "cell_type": "code",
   "execution_count": 0,
   "metadata": {
    "application/vnd.databricks.v1+cell": {
     "cellMetadata": {
      "byteLimit": 2048000,
      "rowLimit": 10000
     },
     "inputWidgets": {},
     "nuid": "02a7b091-71d3-4927-9f73-d00c33ed2a80",
     "showTitle": false,
     "title": ""
    }
   },
   "outputs": [
    {
     "output_type": "display_data",
     "data": {
      "text/html": [
       "<div>\n",
       "<style scoped>\n",
       "    .dataframe tbody tr th:only-of-type {\n",
       "        vertical-align: middle;\n",
       "    }\n",
       "\n",
       "    .dataframe tbody tr th {\n",
       "        vertical-align: top;\n",
       "    }\n",
       "\n",
       "    .dataframe thead th {\n",
       "        text-align: right;\n",
       "    }\n",
       "</style>\n",
       "<table border=\"1\" class=\"dataframe\">\n",
       "  <thead>\n",
       "    <tr style=\"text-align: right;\">\n",
       "      <th></th>\n",
       "      <th>nome</th>\n",
       "      <th>email</th>\n",
       "      <th>nat</th>\n",
       "      <th>cell</th>\n",
       "      <th>link_foto</th>\n",
       "    </tr>\n",
       "  </thead>\n",
       "  <tbody>\n",
       "    <tr>\n",
       "      <th>0</th>\n",
       "      <td>Josiene da Costa</td>\n",
       "      <td>josiene.dacosta@example.com</td>\n",
       "      <td>BR</td>\n",
       "      <td>(37) 9035-3299</td>\n",
       "      <td>https://randomuser.me/api/portraits/med/women/...</td>\n",
       "    </tr>\n",
       "    <tr>\n",
       "      <th>1</th>\n",
       "      <td>Lucineri Freitas</td>\n",
       "      <td>lucineri.freitas@example.com</td>\n",
       "      <td>BR</td>\n",
       "      <td>(96) 2003-3448</td>\n",
       "      <td>https://randomuser.me/api/portraits/med/women/...</td>\n",
       "    </tr>\n",
       "    <tr>\n",
       "      <th>2</th>\n",
       "      <td>Zeilane Moraes</td>\n",
       "      <td>zeilane.moraes@example.com</td>\n",
       "      <td>BR</td>\n",
       "      <td>(00) 2883-4687</td>\n",
       "      <td>https://randomuser.me/api/portraits/med/women/...</td>\n",
       "    </tr>\n",
       "    <tr>\n",
       "      <th>3</th>\n",
       "      <td>Lauren Ramos</td>\n",
       "      <td>lauren.ramos@example.com</td>\n",
       "      <td>BR</td>\n",
       "      <td>(34) 3708-6186</td>\n",
       "      <td>https://randomuser.me/api/portraits/med/women/...</td>\n",
       "    </tr>\n",
       "    <tr>\n",
       "      <th>4</th>\n",
       "      <td>Cloé Alves</td>\n",
       "      <td>cloe.alves@example.com</td>\n",
       "      <td>BR</td>\n",
       "      <td>(12) 3698-0191</td>\n",
       "      <td>https://randomuser.me/api/portraits/med/women/...</td>\n",
       "    </tr>\n",
       "    <tr>\n",
       "      <th>5</th>\n",
       "      <td>Cleonei Rezende</td>\n",
       "      <td>cleonei.rezende@example.com</td>\n",
       "      <td>BR</td>\n",
       "      <td>(41) 7068-1093</td>\n",
       "      <td>https://randomuser.me/api/portraits/med/women/...</td>\n",
       "    </tr>\n",
       "    <tr>\n",
       "      <th>6</th>\n",
       "      <td>Gisela Martins</td>\n",
       "      <td>gisela.martins@example.com</td>\n",
       "      <td>BR</td>\n",
       "      <td>(40) 6636-4966</td>\n",
       "      <td>https://randomuser.me/api/portraits/med/women/...</td>\n",
       "    </tr>\n",
       "    <tr>\n",
       "      <th>7</th>\n",
       "      <td>Lohana Sales</td>\n",
       "      <td>lohana.sales@example.com</td>\n",
       "      <td>BR</td>\n",
       "      <td>(34) 7793-9061</td>\n",
       "      <td>https://randomuser.me/api/portraits/med/women/...</td>\n",
       "    </tr>\n",
       "    <tr>\n",
       "      <th>8</th>\n",
       "      <td>Cassiana Aragão</td>\n",
       "      <td>cassiana.aragao@example.com</td>\n",
       "      <td>BR</td>\n",
       "      <td>(22) 6166-7003</td>\n",
       "      <td>https://randomuser.me/api/portraits/med/women/...</td>\n",
       "    </tr>\n",
       "    <tr>\n",
       "      <th>9</th>\n",
       "      <td>Ariane Dias</td>\n",
       "      <td>ariane.dias@example.com</td>\n",
       "      <td>BR</td>\n",
       "      <td>(58) 4833-1466</td>\n",
       "      <td>https://randomuser.me/api/portraits/med/women/...</td>\n",
       "    </tr>\n",
       "    <tr>\n",
       "      <th>10</th>\n",
       "      <td>Simone Caldeira</td>\n",
       "      <td>simone.caldeira@example.com</td>\n",
       "      <td>BR</td>\n",
       "      <td>(42) 2651-5319</td>\n",
       "      <td>https://randomuser.me/api/portraits/med/women/...</td>\n",
       "    </tr>\n",
       "    <tr>\n",
       "      <th>11</th>\n",
       "      <td>Leonarda Pires</td>\n",
       "      <td>leonarda.pires@example.com</td>\n",
       "      <td>BR</td>\n",
       "      <td>(84) 7285-5259</td>\n",
       "      <td>https://randomuser.me/api/portraits/med/women/...</td>\n",
       "    </tr>\n",
       "    <tr>\n",
       "      <th>12</th>\n",
       "      <td>Hortênsia Rocha</td>\n",
       "      <td>hortensia.rocha@example.com</td>\n",
       "      <td>BR</td>\n",
       "      <td>(08) 7765-6722</td>\n",
       "      <td>https://randomuser.me/api/portraits/med/women/...</td>\n",
       "    </tr>\n",
       "    <tr>\n",
       "      <th>13</th>\n",
       "      <td>Crispiana Rezende</td>\n",
       "      <td>crispiana.rezende@example.com</td>\n",
       "      <td>BR</td>\n",
       "      <td>(03) 8385-5714</td>\n",
       "      <td>https://randomuser.me/api/portraits/med/women/...</td>\n",
       "    </tr>\n",
       "    <tr>\n",
       "      <th>14</th>\n",
       "      <td>Izabel Nogueira</td>\n",
       "      <td>izabel.nogueira@example.com</td>\n",
       "      <td>BR</td>\n",
       "      <td>(56) 9540-7312</td>\n",
       "      <td>https://randomuser.me/api/portraits/med/women/...</td>\n",
       "    </tr>\n",
       "    <tr>\n",
       "      <th>15</th>\n",
       "      <td>Diana Duarte</td>\n",
       "      <td>diana.duarte@example.com</td>\n",
       "      <td>BR</td>\n",
       "      <td>(23) 6082-3446</td>\n",
       "      <td>https://randomuser.me/api/portraits/med/women/...</td>\n",
       "    </tr>\n",
       "    <tr>\n",
       "      <th>16</th>\n",
       "      <td>Eunice Barros</td>\n",
       "      <td>eunice.barros@example.com</td>\n",
       "      <td>BR</td>\n",
       "      <td>(71) 7122-2351</td>\n",
       "      <td>https://randomuser.me/api/portraits/med/women/...</td>\n",
       "    </tr>\n",
       "    <tr>\n",
       "      <th>17</th>\n",
       "      <td>Rosinalva Lima</td>\n",
       "      <td>rosinalva.lima@example.com</td>\n",
       "      <td>BR</td>\n",
       "      <td>(59) 5113-4460</td>\n",
       "      <td>https://randomuser.me/api/portraits/med/women/...</td>\n",
       "    </tr>\n",
       "    <tr>\n",
       "      <th>18</th>\n",
       "      <td>Laila Peixoto</td>\n",
       "      <td>laila.peixoto@example.com</td>\n",
       "      <td>BR</td>\n",
       "      <td>(97) 9306-6092</td>\n",
       "      <td>https://randomuser.me/api/portraits/med/women/...</td>\n",
       "    </tr>\n",
       "    <tr>\n",
       "      <th>19</th>\n",
       "      <td>Elvira Araújo</td>\n",
       "      <td>elvira.araujo@example.com</td>\n",
       "      <td>BR</td>\n",
       "      <td>(76) 4809-6055</td>\n",
       "      <td>https://randomuser.me/api/portraits/med/women/...</td>\n",
       "    </tr>\n",
       "    <tr>\n",
       "      <th>20</th>\n",
       "      <td>Lory Moura</td>\n",
       "      <td>lory.moura@example.com</td>\n",
       "      <td>BR</td>\n",
       "      <td>(33) 7747-5907</td>\n",
       "      <td>https://randomuser.me/api/portraits/med/women/...</td>\n",
       "    </tr>\n",
       "    <tr>\n",
       "      <th>21</th>\n",
       "      <td>Fúlvia Pereira</td>\n",
       "      <td>fulvia.pereira@example.com</td>\n",
       "      <td>BR</td>\n",
       "      <td>(19) 9695-9326</td>\n",
       "      <td>https://randomuser.me/api/portraits/med/women/...</td>\n",
       "    </tr>\n",
       "    <tr>\n",
       "      <th>22</th>\n",
       "      <td>Quitéria Lopes</td>\n",
       "      <td>quiteria.lopes@example.com</td>\n",
       "      <td>BR</td>\n",
       "      <td>(20) 9352-2553</td>\n",
       "      <td>https://randomuser.me/api/portraits/med/women/...</td>\n",
       "    </tr>\n",
       "    <tr>\n",
       "      <th>23</th>\n",
       "      <td>Irá Gomes</td>\n",
       "      <td>ira.gomes@example.com</td>\n",
       "      <td>BR</td>\n",
       "      <td>(68) 2245-7915</td>\n",
       "      <td>https://randomuser.me/api/portraits/med/women/...</td>\n",
       "    </tr>\n",
       "    <tr>\n",
       "      <th>24</th>\n",
       "      <td>Rosinalva Nunes</td>\n",
       "      <td>rosinalva.nunes@example.com</td>\n",
       "      <td>BR</td>\n",
       "      <td>(52) 7321-1662</td>\n",
       "      <td>https://randomuser.me/api/portraits/med/women/...</td>\n",
       "    </tr>\n",
       "  </tbody>\n",
       "</table>\n",
       "</div>"
      ]
     },
     "metadata": {
      "application/vnd.databricks.v1+output": {
       "addedWidgets": {},
       "arguments": {},
       "data": "<div>\n<style scoped>\n    .dataframe tbody tr th:only-of-type {\n        vertical-align: middle;\n    }\n\n    .dataframe tbody tr th {\n        vertical-align: top;\n    }\n\n    .dataframe thead th {\n        text-align: right;\n    }\n</style>\n<table border=\"1\" class=\"dataframe\">\n  <thead>\n    <tr style=\"text-align: right;\">\n      <th></th>\n      <th>nome</th>\n      <th>email</th>\n      <th>nat</th>\n      <th>cell</th>\n      <th>link_foto</th>\n    </tr>\n  </thead>\n  <tbody>\n    <tr>\n      <th>0</th>\n      <td>Josiene da Costa</td>\n      <td>josiene.dacosta@example.com</td>\n      <td>BR</td>\n      <td>(37) 9035-3299</td>\n      <td>https://randomuser.me/api/portraits/med/women/...</td>\n    </tr>\n    <tr>\n      <th>1</th>\n      <td>Lucineri Freitas</td>\n      <td>lucineri.freitas@example.com</td>\n      <td>BR</td>\n      <td>(96) 2003-3448</td>\n      <td>https://randomuser.me/api/portraits/med/women/...</td>\n    </tr>\n    <tr>\n      <th>2</th>\n      <td>Zeilane Moraes</td>\n      <td>zeilane.moraes@example.com</td>\n      <td>BR</td>\n      <td>(00) 2883-4687</td>\n      <td>https://randomuser.me/api/portraits/med/women/...</td>\n    </tr>\n    <tr>\n      <th>3</th>\n      <td>Lauren Ramos</td>\n      <td>lauren.ramos@example.com</td>\n      <td>BR</td>\n      <td>(34) 3708-6186</td>\n      <td>https://randomuser.me/api/portraits/med/women/...</td>\n    </tr>\n    <tr>\n      <th>4</th>\n      <td>Cloé Alves</td>\n      <td>cloe.alves@example.com</td>\n      <td>BR</td>\n      <td>(12) 3698-0191</td>\n      <td>https://randomuser.me/api/portraits/med/women/...</td>\n    </tr>\n    <tr>\n      <th>5</th>\n      <td>Cleonei Rezende</td>\n      <td>cleonei.rezende@example.com</td>\n      <td>BR</td>\n      <td>(41) 7068-1093</td>\n      <td>https://randomuser.me/api/portraits/med/women/...</td>\n    </tr>\n    <tr>\n      <th>6</th>\n      <td>Gisela Martins</td>\n      <td>gisela.martins@example.com</td>\n      <td>BR</td>\n      <td>(40) 6636-4966</td>\n      <td>https://randomuser.me/api/portraits/med/women/...</td>\n    </tr>\n    <tr>\n      <th>7</th>\n      <td>Lohana Sales</td>\n      <td>lohana.sales@example.com</td>\n      <td>BR</td>\n      <td>(34) 7793-9061</td>\n      <td>https://randomuser.me/api/portraits/med/women/...</td>\n    </tr>\n    <tr>\n      <th>8</th>\n      <td>Cassiana Aragão</td>\n      <td>cassiana.aragao@example.com</td>\n      <td>BR</td>\n      <td>(22) 6166-7003</td>\n      <td>https://randomuser.me/api/portraits/med/women/...</td>\n    </tr>\n    <tr>\n      <th>9</th>\n      <td>Ariane Dias</td>\n      <td>ariane.dias@example.com</td>\n      <td>BR</td>\n      <td>(58) 4833-1466</td>\n      <td>https://randomuser.me/api/portraits/med/women/...</td>\n    </tr>\n    <tr>\n      <th>10</th>\n      <td>Simone Caldeira</td>\n      <td>simone.caldeira@example.com</td>\n      <td>BR</td>\n      <td>(42) 2651-5319</td>\n      <td>https://randomuser.me/api/portraits/med/women/...</td>\n    </tr>\n    <tr>\n      <th>11</th>\n      <td>Leonarda Pires</td>\n      <td>leonarda.pires@example.com</td>\n      <td>BR</td>\n      <td>(84) 7285-5259</td>\n      <td>https://randomuser.me/api/portraits/med/women/...</td>\n    </tr>\n    <tr>\n      <th>12</th>\n      <td>Hortênsia Rocha</td>\n      <td>hortensia.rocha@example.com</td>\n      <td>BR</td>\n      <td>(08) 7765-6722</td>\n      <td>https://randomuser.me/api/portraits/med/women/...</td>\n    </tr>\n    <tr>\n      <th>13</th>\n      <td>Crispiana Rezende</td>\n      <td>crispiana.rezende@example.com</td>\n      <td>BR</td>\n      <td>(03) 8385-5714</td>\n      <td>https://randomuser.me/api/portraits/med/women/...</td>\n    </tr>\n    <tr>\n      <th>14</th>\n      <td>Izabel Nogueira</td>\n      <td>izabel.nogueira@example.com</td>\n      <td>BR</td>\n      <td>(56) 9540-7312</td>\n      <td>https://randomuser.me/api/portraits/med/women/...</td>\n    </tr>\n    <tr>\n      <th>15</th>\n      <td>Diana Duarte</td>\n      <td>diana.duarte@example.com</td>\n      <td>BR</td>\n      <td>(23) 6082-3446</td>\n      <td>https://randomuser.me/api/portraits/med/women/...</td>\n    </tr>\n    <tr>\n      <th>16</th>\n      <td>Eunice Barros</td>\n      <td>eunice.barros@example.com</td>\n      <td>BR</td>\n      <td>(71) 7122-2351</td>\n      <td>https://randomuser.me/api/portraits/med/women/...</td>\n    </tr>\n    <tr>\n      <th>17</th>\n      <td>Rosinalva Lima</td>\n      <td>rosinalva.lima@example.com</td>\n      <td>BR</td>\n      <td>(59) 5113-4460</td>\n      <td>https://randomuser.me/api/portraits/med/women/...</td>\n    </tr>\n    <tr>\n      <th>18</th>\n      <td>Laila Peixoto</td>\n      <td>laila.peixoto@example.com</td>\n      <td>BR</td>\n      <td>(97) 9306-6092</td>\n      <td>https://randomuser.me/api/portraits/med/women/...</td>\n    </tr>\n    <tr>\n      <th>19</th>\n      <td>Elvira Araújo</td>\n      <td>elvira.araujo@example.com</td>\n      <td>BR</td>\n      <td>(76) 4809-6055</td>\n      <td>https://randomuser.me/api/portraits/med/women/...</td>\n    </tr>\n    <tr>\n      <th>20</th>\n      <td>Lory Moura</td>\n      <td>lory.moura@example.com</td>\n      <td>BR</td>\n      <td>(33) 7747-5907</td>\n      <td>https://randomuser.me/api/portraits/med/women/...</td>\n    </tr>\n    <tr>\n      <th>21</th>\n      <td>Fúlvia Pereira</td>\n      <td>fulvia.pereira@example.com</td>\n      <td>BR</td>\n      <td>(19) 9695-9326</td>\n      <td>https://randomuser.me/api/portraits/med/women/...</td>\n    </tr>\n    <tr>\n      <th>22</th>\n      <td>Quitéria Lopes</td>\n      <td>quiteria.lopes@example.com</td>\n      <td>BR</td>\n      <td>(20) 9352-2553</td>\n      <td>https://randomuser.me/api/portraits/med/women/...</td>\n    </tr>\n    <tr>\n      <th>23</th>\n      <td>Irá Gomes</td>\n      <td>ira.gomes@example.com</td>\n      <td>BR</td>\n      <td>(68) 2245-7915</td>\n      <td>https://randomuser.me/api/portraits/med/women/...</td>\n    </tr>\n    <tr>\n      <th>24</th>\n      <td>Rosinalva Nunes</td>\n      <td>rosinalva.nunes@example.com</td>\n      <td>BR</td>\n      <td>(52) 7321-1662</td>\n      <td>https://randomuser.me/api/portraits/med/women/...</td>\n    </tr>\n  </tbody>\n</table>\n</div>",
       "datasetInfos": [],
       "metadata": {},
       "removedWidgets": [],
       "textData": null,
       "type": "htmlSandbox"
      }
     },
     "output_type": "display_data"
    }
   ],
   "source": [
    "# 2 RESOLUÇÃO\n",
    "\n",
    "import pandas as pd\n",
    "import requests\n",
    "\n",
    "# Fazendo o request\n",
    "request = requests.get('https://randomuser.me/api/1.4/?results=25&nat=BR&gender=female&inc=name,email,nat,cell,picture')\n",
    "data = request.json()['results']\n",
    "\n",
    "# Armazenando os dados em um DataFrame\n",
    "df_original = pd.DataFrame(data)\n",
    "df_original\n",
    "\n",
    "# Criando a nova coluna nome\n",
    "name_column = pd.json_normalize(df_original['name'])\n",
    "df_original['nome'] = name_column['first'] + ' ' + name_column['last']\n",
    "\n",
    "\n",
    "# Criando a nova coluna link_foto\n",
    "picture_column = pd.json_normalize(df_original['picture'])\n",
    "df_original['link_foto'] = picture_column['medium']  \n",
    "\n",
    "df_original = df_original[['nome', 'email', 'nat', 'cell', 'link_foto']]\n",
    "df_original"
   ]
  },
  {
   "cell_type": "code",
   "execution_count": 0,
   "metadata": {
    "application/vnd.databricks.v1+cell": {
     "cellMetadata": {
      "byteLimit": 2048000,
      "rowLimit": 10000
     },
     "inputWidgets": {},
     "nuid": "80358852-5f53-4412-b22e-412365317fcd",
     "showTitle": false,
     "title": ""
    }
   },
   "outputs": [
    {
     "output_type": "display_data",
     "data": {
      "text/html": [
       "<div>\n",
       "<style scoped>\n",
       "    .dataframe tbody tr th:only-of-type {\n",
       "        vertical-align: middle;\n",
       "    }\n",
       "\n",
       "    .dataframe tbody tr th {\n",
       "        vertical-align: top;\n",
       "    }\n",
       "\n",
       "    .dataframe thead th {\n",
       "        text-align: right;\n",
       "    }\n",
       "</style>\n",
       "<table border=\"1\" class=\"dataframe\">\n",
       "  <thead>\n",
       "    <tr style=\"text-align: right;\">\n",
       "      <th></th>\n",
       "      <th>name.title</th>\n",
       "      <th>name.first</th>\n",
       "      <th>name.last</th>\n",
       "      <th>email</th>\n",
       "      <th>cell</th>\n",
       "      <th>picture.large</th>\n",
       "      <th>picture.medium</th>\n",
       "      <th>picture.thumbnail</th>\n",
       "      <th>nat</th>\n",
       "    </tr>\n",
       "  </thead>\n",
       "  <tbody>\n",
       "    <tr>\n",
       "      <th>0</th>\n",
       "      <td>Miss</td>\n",
       "      <td>Juliana</td>\n",
       "      <td>Jesus</td>\n",
       "      <td>juliana.jesus@example.com</td>\n",
       "      <td>(24) 8865-1870</td>\n",
       "      <td>https://randomuser.me/api/portraits/women/70.jpg</td>\n",
       "      <td>https://randomuser.me/api/portraits/med/women/...</td>\n",
       "      <td>https://randomuser.me/api/portraits/thumb/wome...</td>\n",
       "      <td>BR</td>\n",
       "    </tr>\n",
       "    <tr>\n",
       "      <th>1</th>\n",
       "      <td>Mrs</td>\n",
       "      <td>Helienay</td>\n",
       "      <td>das Neves</td>\n",
       "      <td>helienay.dasneves@example.com</td>\n",
       "      <td>(65) 8577-9420</td>\n",
       "      <td>https://randomuser.me/api/portraits/women/71.jpg</td>\n",
       "      <td>https://randomuser.me/api/portraits/med/women/...</td>\n",
       "      <td>https://randomuser.me/api/portraits/thumb/wome...</td>\n",
       "      <td>BR</td>\n",
       "    </tr>\n",
       "    <tr>\n",
       "      <th>2</th>\n",
       "      <td>Ms</td>\n",
       "      <td>Ibralina</td>\n",
       "      <td>Moura</td>\n",
       "      <td>ibralina.moura@example.com</td>\n",
       "      <td>(82) 9837-3011</td>\n",
       "      <td>https://randomuser.me/api/portraits/women/8.jpg</td>\n",
       "      <td>https://randomuser.me/api/portraits/med/women/...</td>\n",
       "      <td>https://randomuser.me/api/portraits/thumb/wome...</td>\n",
       "      <td>BR</td>\n",
       "    </tr>\n",
       "    <tr>\n",
       "      <th>3</th>\n",
       "      <td>Miss</td>\n",
       "      <td>Isis</td>\n",
       "      <td>Oliveira</td>\n",
       "      <td>isis.oliveira@example.com</td>\n",
       "      <td>(92) 4690-1262</td>\n",
       "      <td>https://randomuser.me/api/portraits/women/75.jpg</td>\n",
       "      <td>https://randomuser.me/api/portraits/med/women/...</td>\n",
       "      <td>https://randomuser.me/api/portraits/thumb/wome...</td>\n",
       "      <td>BR</td>\n",
       "    </tr>\n",
       "    <tr>\n",
       "      <th>4</th>\n",
       "      <td>Miss</td>\n",
       "      <td>Ondina</td>\n",
       "      <td>Silveira</td>\n",
       "      <td>ondina.silveira@example.com</td>\n",
       "      <td>(28) 2186-3119</td>\n",
       "      <td>https://randomuser.me/api/portraits/women/22.jpg</td>\n",
       "      <td>https://randomuser.me/api/portraits/med/women/...</td>\n",
       "      <td>https://randomuser.me/api/portraits/thumb/wome...</td>\n",
       "      <td>BR</td>\n",
       "    </tr>\n",
       "    <tr>\n",
       "      <th>5</th>\n",
       "      <td>Miss</td>\n",
       "      <td>Rosita</td>\n",
       "      <td>Araújo</td>\n",
       "      <td>rosita.araujo@example.com</td>\n",
       "      <td>(42) 3633-9091</td>\n",
       "      <td>https://randomuser.me/api/portraits/women/82.jpg</td>\n",
       "      <td>https://randomuser.me/api/portraits/med/women/...</td>\n",
       "      <td>https://randomuser.me/api/portraits/thumb/wome...</td>\n",
       "      <td>BR</td>\n",
       "    </tr>\n",
       "    <tr>\n",
       "      <th>6</th>\n",
       "      <td>Ms</td>\n",
       "      <td>Irânia</td>\n",
       "      <td>Fogaça</td>\n",
       "      <td>irania.fogaca@example.com</td>\n",
       "      <td>(08) 6210-2621</td>\n",
       "      <td>https://randomuser.me/api/portraits/women/67.jpg</td>\n",
       "      <td>https://randomuser.me/api/portraits/med/women/...</td>\n",
       "      <td>https://randomuser.me/api/portraits/thumb/wome...</td>\n",
       "      <td>BR</td>\n",
       "    </tr>\n",
       "    <tr>\n",
       "      <th>7</th>\n",
       "      <td>Miss</td>\n",
       "      <td>Manuele</td>\n",
       "      <td>Dias</td>\n",
       "      <td>manuele.dias@example.com</td>\n",
       "      <td>(20) 5775-2492</td>\n",
       "      <td>https://randomuser.me/api/portraits/women/71.jpg</td>\n",
       "      <td>https://randomuser.me/api/portraits/med/women/...</td>\n",
       "      <td>https://randomuser.me/api/portraits/thumb/wome...</td>\n",
       "      <td>BR</td>\n",
       "    </tr>\n",
       "    <tr>\n",
       "      <th>8</th>\n",
       "      <td>Mrs</td>\n",
       "      <td>Dantela</td>\n",
       "      <td>Ribeiro</td>\n",
       "      <td>dantela.ribeiro@example.com</td>\n",
       "      <td>(10) 9933-1876</td>\n",
       "      <td>https://randomuser.me/api/portraits/women/60.jpg</td>\n",
       "      <td>https://randomuser.me/api/portraits/med/women/...</td>\n",
       "      <td>https://randomuser.me/api/portraits/thumb/wome...</td>\n",
       "      <td>BR</td>\n",
       "    </tr>\n",
       "    <tr>\n",
       "      <th>9</th>\n",
       "      <td>Mrs</td>\n",
       "      <td>Lascívia</td>\n",
       "      <td>da Cruz</td>\n",
       "      <td>lascivia.dacruz@example.com</td>\n",
       "      <td>(40) 4107-7022</td>\n",
       "      <td>https://randomuser.me/api/portraits/women/92.jpg</td>\n",
       "      <td>https://randomuser.me/api/portraits/med/women/...</td>\n",
       "      <td>https://randomuser.me/api/portraits/thumb/wome...</td>\n",
       "      <td>BR</td>\n",
       "    </tr>\n",
       "  </tbody>\n",
       "</table>\n",
       "</div>"
      ]
     },
     "metadata": {
      "application/vnd.databricks.v1+output": {
       "addedWidgets": {},
       "arguments": {},
       "data": "<div>\n<style scoped>\n    .dataframe tbody tr th:only-of-type {\n        vertical-align: middle;\n    }\n\n    .dataframe tbody tr th {\n        vertical-align: top;\n    }\n\n    .dataframe thead th {\n        text-align: right;\n    }\n</style>\n<table border=\"1\" class=\"dataframe\">\n  <thead>\n    <tr style=\"text-align: right;\">\n      <th></th>\n      <th>name.title</th>\n      <th>name.first</th>\n      <th>name.last</th>\n      <th>email</th>\n      <th>cell</th>\n      <th>picture.large</th>\n      <th>picture.medium</th>\n      <th>picture.thumbnail</th>\n      <th>nat</th>\n    </tr>\n  </thead>\n  <tbody>\n    <tr>\n      <th>0</th>\n      <td>Miss</td>\n      <td>Juliana</td>\n      <td>Jesus</td>\n      <td>juliana.jesus@example.com</td>\n      <td>(24) 8865-1870</td>\n      <td>https://randomuser.me/api/portraits/women/70.jpg</td>\n      <td>https://randomuser.me/api/portraits/med/women/...</td>\n      <td>https://randomuser.me/api/portraits/thumb/wome...</td>\n      <td>BR</td>\n    </tr>\n    <tr>\n      <th>1</th>\n      <td>Mrs</td>\n      <td>Helienay</td>\n      <td>das Neves</td>\n      <td>helienay.dasneves@example.com</td>\n      <td>(65) 8577-9420</td>\n      <td>https://randomuser.me/api/portraits/women/71.jpg</td>\n      <td>https://randomuser.me/api/portraits/med/women/...</td>\n      <td>https://randomuser.me/api/portraits/thumb/wome...</td>\n      <td>BR</td>\n    </tr>\n    <tr>\n      <th>2</th>\n      <td>Ms</td>\n      <td>Ibralina</td>\n      <td>Moura</td>\n      <td>ibralina.moura@example.com</td>\n      <td>(82) 9837-3011</td>\n      <td>https://randomuser.me/api/portraits/women/8.jpg</td>\n      <td>https://randomuser.me/api/portraits/med/women/...</td>\n      <td>https://randomuser.me/api/portraits/thumb/wome...</td>\n      <td>BR</td>\n    </tr>\n    <tr>\n      <th>3</th>\n      <td>Miss</td>\n      <td>Isis</td>\n      <td>Oliveira</td>\n      <td>isis.oliveira@example.com</td>\n      <td>(92) 4690-1262</td>\n      <td>https://randomuser.me/api/portraits/women/75.jpg</td>\n      <td>https://randomuser.me/api/portraits/med/women/...</td>\n      <td>https://randomuser.me/api/portraits/thumb/wome...</td>\n      <td>BR</td>\n    </tr>\n    <tr>\n      <th>4</th>\n      <td>Miss</td>\n      <td>Ondina</td>\n      <td>Silveira</td>\n      <td>ondina.silveira@example.com</td>\n      <td>(28) 2186-3119</td>\n      <td>https://randomuser.me/api/portraits/women/22.jpg</td>\n      <td>https://randomuser.me/api/portraits/med/women/...</td>\n      <td>https://randomuser.me/api/portraits/thumb/wome...</td>\n      <td>BR</td>\n    </tr>\n    <tr>\n      <th>5</th>\n      <td>Miss</td>\n      <td>Rosita</td>\n      <td>Araújo</td>\n      <td>rosita.araujo@example.com</td>\n      <td>(42) 3633-9091</td>\n      <td>https://randomuser.me/api/portraits/women/82.jpg</td>\n      <td>https://randomuser.me/api/portraits/med/women/...</td>\n      <td>https://randomuser.me/api/portraits/thumb/wome...</td>\n      <td>BR</td>\n    </tr>\n    <tr>\n      <th>6</th>\n      <td>Ms</td>\n      <td>Irânia</td>\n      <td>Fogaça</td>\n      <td>irania.fogaca@example.com</td>\n      <td>(08) 6210-2621</td>\n      <td>https://randomuser.me/api/portraits/women/67.jpg</td>\n      <td>https://randomuser.me/api/portraits/med/women/...</td>\n      <td>https://randomuser.me/api/portraits/thumb/wome...</td>\n      <td>BR</td>\n    </tr>\n    <tr>\n      <th>7</th>\n      <td>Miss</td>\n      <td>Manuele</td>\n      <td>Dias</td>\n      <td>manuele.dias@example.com</td>\n      <td>(20) 5775-2492</td>\n      <td>https://randomuser.me/api/portraits/women/71.jpg</td>\n      <td>https://randomuser.me/api/portraits/med/women/...</td>\n      <td>https://randomuser.me/api/portraits/thumb/wome...</td>\n      <td>BR</td>\n    </tr>\n    <tr>\n      <th>8</th>\n      <td>Mrs</td>\n      <td>Dantela</td>\n      <td>Ribeiro</td>\n      <td>dantela.ribeiro@example.com</td>\n      <td>(10) 9933-1876</td>\n      <td>https://randomuser.me/api/portraits/women/60.jpg</td>\n      <td>https://randomuser.me/api/portraits/med/women/...</td>\n      <td>https://randomuser.me/api/portraits/thumb/wome...</td>\n      <td>BR</td>\n    </tr>\n    <tr>\n      <th>9</th>\n      <td>Mrs</td>\n      <td>Lascívia</td>\n      <td>da Cruz</td>\n      <td>lascivia.dacruz@example.com</td>\n      <td>(40) 4107-7022</td>\n      <td>https://randomuser.me/api/portraits/women/92.jpg</td>\n      <td>https://randomuser.me/api/portraits/med/women/...</td>\n      <td>https://randomuser.me/api/portraits/thumb/wome...</td>\n      <td>BR</td>\n    </tr>\n  </tbody>\n</table>\n</div>",
       "datasetInfos": [],
       "metadata": {},
       "removedWidgets": [],
       "textData": null,
       "type": "htmlSandbox"
      }
     },
     "output_type": "display_data"
    }
   ],
   "source": [
    "import pandas as pd \n",
    "# Filtrando em CSV\n",
    "url = 'https://randomuser.me/api/1.4/?results=10&nat=BR&gender=female&inc=name,email,nat,cell,picture&format=csv'\n",
    "\n",
    "data = pd.read_csv(url)\n",
    "data"
   ]
  },
  {
   "cell_type": "code",
   "execution_count": 0,
   "metadata": {
    "application/vnd.databricks.v1+cell": {
     "cellMetadata": {
      "byteLimit": 2048000,
      "rowLimit": 10000
     },
     "inputWidgets": {},
     "nuid": "41c84c75-550c-4549-953c-3d3875499c6b",
     "showTitle": false,
     "title": ""
    }
   },
   "outputs": [
    {
     "output_type": "display_data",
     "data": {
      "text/html": [
       "<div>\n",
       "<style scoped>\n",
       "    .dataframe tbody tr th:only-of-type {\n",
       "        vertical-align: middle;\n",
       "    }\n",
       "\n",
       "    .dataframe tbody tr th {\n",
       "        vertical-align: top;\n",
       "    }\n",
       "\n",
       "    .dataframe thead th {\n",
       "        text-align: right;\n",
       "    }\n",
       "</style>\n",
       "<table border=\"1\" class=\"dataframe\">\n",
       "  <thead>\n",
       "    <tr style=\"text-align: right;\">\n",
       "      <th></th>\n",
       "      <th>nome_completo</th>\n",
       "      <th>endereco_email</th>\n",
       "      <th>nacionalidade</th>\n",
       "      <th>numero_telefone</th>\n",
       "      <th>foto_miniatura</th>\n",
       "    </tr>\n",
       "  </thead>\n",
       "  <tbody>\n",
       "    <tr>\n",
       "      <th>0</th>\n",
       "      <td>Ulha Moraes</td>\n",
       "      <td>ulha.moraes@example.com</td>\n",
       "      <td>BR</td>\n",
       "      <td>(85) 8573-0887</td>\n",
       "      <td>https://randomuser.me/api/portraits/thumb/wome...</td>\n",
       "    </tr>\n",
       "    <tr>\n",
       "      <th>1</th>\n",
       "      <td>Catrina da Paz</td>\n",
       "      <td>catrina.dapaz@example.com</td>\n",
       "      <td>BR</td>\n",
       "      <td>(39) 3358-0348</td>\n",
       "      <td>https://randomuser.me/api/portraits/thumb/wome...</td>\n",
       "    </tr>\n",
       "    <tr>\n",
       "      <th>2</th>\n",
       "      <td>Ximena Santos</td>\n",
       "      <td>ximena.santos@example.com</td>\n",
       "      <td>BR</td>\n",
       "      <td>(36) 0036-1715</td>\n",
       "      <td>https://randomuser.me/api/portraits/thumb/wome...</td>\n",
       "    </tr>\n",
       "    <tr>\n",
       "      <th>3</th>\n",
       "      <td>Vânea Caldeira</td>\n",
       "      <td>vanea.caldeira@example.com</td>\n",
       "      <td>BR</td>\n",
       "      <td>(31) 2113-1246</td>\n",
       "      <td>https://randomuser.me/api/portraits/thumb/wome...</td>\n",
       "    </tr>\n",
       "    <tr>\n",
       "      <th>4</th>\n",
       "      <td>Miuke Nascimento</td>\n",
       "      <td>miuke.nascimento@example.com</td>\n",
       "      <td>BR</td>\n",
       "      <td>(48) 3243-4443</td>\n",
       "      <td>https://randomuser.me/api/portraits/thumb/wome...</td>\n",
       "    </tr>\n",
       "    <tr>\n",
       "      <th>5</th>\n",
       "      <td>Rosa Gonçalves</td>\n",
       "      <td>rosa.goncalves@example.com</td>\n",
       "      <td>BR</td>\n",
       "      <td>(02) 2588-7854</td>\n",
       "      <td>https://randomuser.me/api/portraits/thumb/wome...</td>\n",
       "    </tr>\n",
       "    <tr>\n",
       "      <th>6</th>\n",
       "      <td>Silvina de Souza</td>\n",
       "      <td>silvina.desouza@example.com</td>\n",
       "      <td>BR</td>\n",
       "      <td>(64) 0259-2766</td>\n",
       "      <td>https://randomuser.me/api/portraits/thumb/wome...</td>\n",
       "    </tr>\n",
       "    <tr>\n",
       "      <th>7</th>\n",
       "      <td>Carlene da Luz</td>\n",
       "      <td>carlene.daluz@example.com</td>\n",
       "      <td>BR</td>\n",
       "      <td>(79) 6415-1403</td>\n",
       "      <td>https://randomuser.me/api/portraits/thumb/wome...</td>\n",
       "    </tr>\n",
       "    <tr>\n",
       "      <th>8</th>\n",
       "      <td>Rosalva da Mata</td>\n",
       "      <td>rosalva.damata@example.com</td>\n",
       "      <td>BR</td>\n",
       "      <td>(65) 5174-8139</td>\n",
       "      <td>https://randomuser.me/api/portraits/thumb/wome...</td>\n",
       "    </tr>\n",
       "    <tr>\n",
       "      <th>9</th>\n",
       "      <td>Traia Monteiro</td>\n",
       "      <td>traia.monteiro@example.com</td>\n",
       "      <td>BR</td>\n",
       "      <td>(51) 9249-4117</td>\n",
       "      <td>https://randomuser.me/api/portraits/thumb/wome...</td>\n",
       "    </tr>\n",
       "  </tbody>\n",
       "</table>\n",
       "</div>"
      ]
     },
     "metadata": {
      "application/vnd.databricks.v1+output": {
       "addedWidgets": {},
       "arguments": {},
       "data": "<div>\n<style scoped>\n    .dataframe tbody tr th:only-of-type {\n        vertical-align: middle;\n    }\n\n    .dataframe tbody tr th {\n        vertical-align: top;\n    }\n\n    .dataframe thead th {\n        text-align: right;\n    }\n</style>\n<table border=\"1\" class=\"dataframe\">\n  <thead>\n    <tr style=\"text-align: right;\">\n      <th></th>\n      <th>nome_completo</th>\n      <th>endereco_email</th>\n      <th>nacionalidade</th>\n      <th>numero_telefone</th>\n      <th>foto_miniatura</th>\n    </tr>\n  </thead>\n  <tbody>\n    <tr>\n      <th>0</th>\n      <td>Ulha Moraes</td>\n      <td>ulha.moraes@example.com</td>\n      <td>BR</td>\n      <td>(85) 8573-0887</td>\n      <td>https://randomuser.me/api/portraits/thumb/wome...</td>\n    </tr>\n    <tr>\n      <th>1</th>\n      <td>Catrina da Paz</td>\n      <td>catrina.dapaz@example.com</td>\n      <td>BR</td>\n      <td>(39) 3358-0348</td>\n      <td>https://randomuser.me/api/portraits/thumb/wome...</td>\n    </tr>\n    <tr>\n      <th>2</th>\n      <td>Ximena Santos</td>\n      <td>ximena.santos@example.com</td>\n      <td>BR</td>\n      <td>(36) 0036-1715</td>\n      <td>https://randomuser.me/api/portraits/thumb/wome...</td>\n    </tr>\n    <tr>\n      <th>3</th>\n      <td>Vânea Caldeira</td>\n      <td>vanea.caldeira@example.com</td>\n      <td>BR</td>\n      <td>(31) 2113-1246</td>\n      <td>https://randomuser.me/api/portraits/thumb/wome...</td>\n    </tr>\n    <tr>\n      <th>4</th>\n      <td>Miuke Nascimento</td>\n      <td>miuke.nascimento@example.com</td>\n      <td>BR</td>\n      <td>(48) 3243-4443</td>\n      <td>https://randomuser.me/api/portraits/thumb/wome...</td>\n    </tr>\n    <tr>\n      <th>5</th>\n      <td>Rosa Gonçalves</td>\n      <td>rosa.goncalves@example.com</td>\n      <td>BR</td>\n      <td>(02) 2588-7854</td>\n      <td>https://randomuser.me/api/portraits/thumb/wome...</td>\n    </tr>\n    <tr>\n      <th>6</th>\n      <td>Silvina de Souza</td>\n      <td>silvina.desouza@example.com</td>\n      <td>BR</td>\n      <td>(64) 0259-2766</td>\n      <td>https://randomuser.me/api/portraits/thumb/wome...</td>\n    </tr>\n    <tr>\n      <th>7</th>\n      <td>Carlene da Luz</td>\n      <td>carlene.daluz@example.com</td>\n      <td>BR</td>\n      <td>(79) 6415-1403</td>\n      <td>https://randomuser.me/api/portraits/thumb/wome...</td>\n    </tr>\n    <tr>\n      <th>8</th>\n      <td>Rosalva da Mata</td>\n      <td>rosalva.damata@example.com</td>\n      <td>BR</td>\n      <td>(65) 5174-8139</td>\n      <td>https://randomuser.me/api/portraits/thumb/wome...</td>\n    </tr>\n    <tr>\n      <th>9</th>\n      <td>Traia Monteiro</td>\n      <td>traia.monteiro@example.com</td>\n      <td>BR</td>\n      <td>(51) 9249-4117</td>\n      <td>https://randomuser.me/api/portraits/thumb/wome...</td>\n    </tr>\n  </tbody>\n</table>\n</div>",
       "datasetInfos": [],
       "metadata": {},
       "removedWidgets": [],
       "textData": null,
       "type": "htmlSandbox"
      }
     },
     "output_type": "display_data"
    }
   ],
   "source": [
    "# 3 RESOLUÇÃO\n",
    "def requisicao(qtd, sexo, nacionalidade):\n",
    "  url_base = 'https://randomuser.me/api/1.4/?'\n",
    "  query_quantidade = 'results=' + str(qtd)\n",
    "  query_nacionalidade = '&nat=' + nacionalidade\n",
    "  query_sexo = '&gender=' + sexo\n",
    "  colunas = '&inc=name,gender,nat,email,cell,picture'\n",
    "  url_final =  url_base + query_quantidade + query_nacionalidade + query_sexo + colunas\n",
    "\n",
    "  response = requests.get(url_final)\n",
    "  data = response.json()\n",
    "  results = data['results']\n",
    "  df = pd.json_normalize(results)\n",
    "  df['nome']= df['name.first'] + ' '+ df['name.last']\n",
    "  df = df[['nome', 'email', 'nat', 'cell', 'picture.thumbnail']]\n",
    "\n",
    "  nome_colunas = {\n",
    "    'nome': 'nome_completo',\n",
    "    'email': 'endereco_email',\n",
    "    'nat': 'nacionalidade',\n",
    "    'cell': 'numero_telefone',\n",
    "    'picture.thumbnail': 'foto_miniatura'}\n",
    "\n",
    "  df = df.rename(columns=nome_colunas)\n",
    "  df = df.drop_duplicates(subset='endereco_email', keep='first')\n",
    "\n",
    "  return df\n",
    "\n",
    "df_teste = requisicao(10, 'female', 'BR') \n",
    "df_teste"
   ]
  },
  {
   "cell_type": "code",
   "execution_count": 0,
   "metadata": {
    "application/vnd.databricks.v1+cell": {
     "cellMetadata": {
      "byteLimit": 2048000,
      "rowLimit": 10000
     },
     "inputWidgets": {},
     "nuid": "376daef3-deb9-47a2-b391-189c1f77ab3f",
     "showTitle": false,
     "title": ""
    }
   },
   "outputs": [],
   "source": [
    "# 4 RESOLUÇÃO\n",
    "\n",
    "import requests\n",
    "import pandas as pd\n",
    "\n",
    "def get_user_info(url):\n",
    "\n",
    "    # Faz a solicitação HTTP à API \n",
    "    response = requests.get(url)\n",
    "\n",
    "    # Verifica se a solicitação foi bem-sucedida\n",
    "    if response.status_code == 200:\n",
    "        data = response.json()\n",
    "        user = data['results'][0]  # Pega os dados do usuario #pegadinha\n",
    "\n",
    "        if user:\n",
    "            # Cria um dicionário com as informações do usuário\n",
    "            user_info = {\n",
    "                'nome': f\"{user['name']['first']} {user['name']['last']}\",\n",
    "                'email': user['email'],\n",
    "                'pais': user['location']['country'],\n",
    "                'telefone': user['phone'],\n",
    "                'link_foto': user['picture']['large']\n",
    "            }\n",
    "\n",
    "            # Cria o DataFrame\n",
    "            df = pd.DataFrame([user_info])\n",
    "\n",
    "            message = 'Requisição completada com sucesso'\n",
    "\n",
    "    else:\n",
    "        message = 'Falha ao obter dados da API.'\n",
    "    \n",
    "    return df, message"
   ]
  },
  {
   "cell_type": "markdown",
   "metadata": {
    "application/vnd.databricks.v1+cell": {
     "cellMetadata": {
      "byteLimit": 2048000,
      "rowLimit": 10000
     },
     "inputWidgets": {},
     "nuid": "9dc66f86-c1c2-410f-84cc-364b7eea332a",
     "showTitle": false,
     "title": ""
    }
   },
   "source": [
    "###Teste da função\n"
   ]
  },
  {
   "cell_type": "code",
   "execution_count": 0,
   "metadata": {
    "application/vnd.databricks.v1+cell": {
     "cellMetadata": {
      "byteLimit": 2048000,
      "rowLimit": 10000
     },
     "inputWidgets": {},
     "nuid": "9705b099-35fc-44c2-9624-130a1c09041c",
     "showTitle": false,
     "title": ""
    }
   },
   "outputs": [
    {
     "output_type": "stream",
     "name": "stdout",
     "output_type": "stream",
     "text": [
      "Requisição completada com sucesso\n"
     ]
    },
    {
     "output_type": "display_data",
     "data": {
      "text/html": [
       "<div>\n",
       "<style scoped>\n",
       "    .dataframe tbody tr th:only-of-type {\n",
       "        vertical-align: middle;\n",
       "    }\n",
       "\n",
       "    .dataframe tbody tr th {\n",
       "        vertical-align: top;\n",
       "    }\n",
       "\n",
       "    .dataframe thead th {\n",
       "        text-align: right;\n",
       "    }\n",
       "</style>\n",
       "<table border=\"1\" class=\"dataframe\">\n",
       "  <thead>\n",
       "    <tr style=\"text-align: right;\">\n",
       "      <th></th>\n",
       "      <th>nome</th>\n",
       "      <th>email</th>\n",
       "      <th>pais</th>\n",
       "      <th>telefone</th>\n",
       "      <th>link_foto</th>\n",
       "    </tr>\n",
       "  </thead>\n",
       "  <tbody>\n",
       "    <tr>\n",
       "      <th>0</th>\n",
       "      <td>Lucimeri Ferreira</td>\n",
       "      <td>lucimeri.ferreira@example.com</td>\n",
       "      <td>Brazil</td>\n",
       "      <td>(24) 3446-1136</td>\n",
       "      <td>https://randomuser.me/api/portraits/women/62.jpg</td>\n",
       "    </tr>\n",
       "  </tbody>\n",
       "</table>\n",
       "</div>"
      ]
     },
     "metadata": {
      "application/vnd.databricks.v1+output": {
       "addedWidgets": {},
       "arguments": {},
       "data": "<div>\n<style scoped>\n    .dataframe tbody tr th:only-of-type {\n        vertical-align: middle;\n    }\n\n    .dataframe tbody tr th {\n        vertical-align: top;\n    }\n\n    .dataframe thead th {\n        text-align: right;\n    }\n</style>\n<table border=\"1\" class=\"dataframe\">\n  <thead>\n    <tr style=\"text-align: right;\">\n      <th></th>\n      <th>nome</th>\n      <th>email</th>\n      <th>pais</th>\n      <th>telefone</th>\n      <th>link_foto</th>\n    </tr>\n  </thead>\n  <tbody>\n    <tr>\n      <th>0</th>\n      <td>Lucimeri Ferreira</td>\n      <td>lucimeri.ferreira@example.com</td>\n      <td>Brazil</td>\n      <td>(24) 3446-1136</td>\n      <td>https://randomuser.me/api/portraits/women/62.jpg</td>\n    </tr>\n  </tbody>\n</table>\n</div>",
       "datasetInfos": [],
       "metadata": {},
       "removedWidgets": [],
       "textData": null,
       "type": "htmlSandbox"
      }
     },
     "output_type": "display_data"
    }
   ],
   "source": [
    "# URL da API Random User \n",
    "url = 'https://randomuser.me/api/?nat=br&gender=female'\n",
    "df_user, message = get_user_info(url)\n",
    "print(message)\n",
    "df_user.head()"
   ]
  },
  {
   "cell_type": "markdown",
   "metadata": {
    "application/vnd.databricks.v1+cell": {
     "cellMetadata": {
      "byteLimit": 2048000,
      "rowLimit": 10000
     },
     "inputWidgets": {},
     "nuid": "97c0bebc-3568-4366-81ac-970923fef4e1",
     "showTitle": false,
     "title": ""
    }
   },
   "source": [
    "###Chamada da API múltiplas vezes e armazena o resultado final em apenas um dataframe\n"
   ]
  },
  {
   "cell_type": "code",
   "execution_count": 0,
   "metadata": {
    "application/vnd.databricks.v1+cell": {
     "cellMetadata": {
      "byteLimit": 2048000,
      "rowLimit": 10000
     },
     "inputWidgets": {},
     "nuid": "685e93d4-2203-4405-9dd6-addae086b7bf",
     "showTitle": false,
     "title": ""
    }
   },
   "outputs": [],
   "source": [
    "nb_users = 4\n",
    "url = 'https://randomuser.me/api/?nat=br&gender=female'\n",
    "df_final = pd.DataFrame()\n",
    "\n",
    "for user in range(nb_users):\n",
    "    df_user, message = get_user_info(url)\n",
    "    df_final = pd.concat([df_final, df_user])"
   ]
  },
  {
   "cell_type": "code",
   "execution_count": 0,
   "metadata": {
    "application/vnd.databricks.v1+cell": {
     "cellMetadata": {
      "byteLimit": 2048000,
      "rowLimit": 10000
     },
     "inputWidgets": {},
     "nuid": "3222d439-a295-4f1f-aa3b-2ade314be473",
     "showTitle": false,
     "title": ""
    }
   },
   "outputs": [
    {
     "output_type": "display_data",
     "data": {
      "text/html": [
       "<div>\n",
       "<style scoped>\n",
       "    .dataframe tbody tr th:only-of-type {\n",
       "        vertical-align: middle;\n",
       "    }\n",
       "\n",
       "    .dataframe tbody tr th {\n",
       "        vertical-align: top;\n",
       "    }\n",
       "\n",
       "    .dataframe thead th {\n",
       "        text-align: right;\n",
       "    }\n",
       "</style>\n",
       "<table border=\"1\" class=\"dataframe\">\n",
       "  <thead>\n",
       "    <tr style=\"text-align: right;\">\n",
       "      <th></th>\n",
       "      <th>nome</th>\n",
       "      <th>email</th>\n",
       "      <th>pais</th>\n",
       "      <th>telefone</th>\n",
       "      <th>link_foto</th>\n",
       "    </tr>\n",
       "  </thead>\n",
       "  <tbody>\n",
       "    <tr>\n",
       "      <th>0</th>\n",
       "      <td>Maribel Novaes</td>\n",
       "      <td>maribel.novaes@example.com</td>\n",
       "      <td>Brazil</td>\n",
       "      <td>(56) 3135-0607</td>\n",
       "      <td>https://randomuser.me/api/portraits/women/69.jpg</td>\n",
       "    </tr>\n",
       "    <tr>\n",
       "      <th>0</th>\n",
       "      <td>Nina Gonçalves</td>\n",
       "      <td>nina.goncalves@example.com</td>\n",
       "      <td>Brazil</td>\n",
       "      <td>(15) 0528-6750</td>\n",
       "      <td>https://randomuser.me/api/portraits/women/30.jpg</td>\n",
       "    </tr>\n",
       "    <tr>\n",
       "      <th>0</th>\n",
       "      <td>Magdalena Cardoso</td>\n",
       "      <td>magdalena.cardoso@example.com</td>\n",
       "      <td>Brazil</td>\n",
       "      <td>(68) 8988-4654</td>\n",
       "      <td>https://randomuser.me/api/portraits/women/8.jpg</td>\n",
       "    </tr>\n",
       "    <tr>\n",
       "      <th>0</th>\n",
       "      <td>Célia Barbosa</td>\n",
       "      <td>celia.barbosa@example.com</td>\n",
       "      <td>Brazil</td>\n",
       "      <td>(96) 4242-4201</td>\n",
       "      <td>https://randomuser.me/api/portraits/women/0.jpg</td>\n",
       "    </tr>\n",
       "  </tbody>\n",
       "</table>\n",
       "</div>"
      ]
     },
     "metadata": {
      "application/vnd.databricks.v1+output": {
       "addedWidgets": {},
       "arguments": {},
       "data": "<div>\n<style scoped>\n    .dataframe tbody tr th:only-of-type {\n        vertical-align: middle;\n    }\n\n    .dataframe tbody tr th {\n        vertical-align: top;\n    }\n\n    .dataframe thead th {\n        text-align: right;\n    }\n</style>\n<table border=\"1\" class=\"dataframe\">\n  <thead>\n    <tr style=\"text-align: right;\">\n      <th></th>\n      <th>nome</th>\n      <th>email</th>\n      <th>pais</th>\n      <th>telefone</th>\n      <th>link_foto</th>\n    </tr>\n  </thead>\n  <tbody>\n    <tr>\n      <th>0</th>\n      <td>Maribel Novaes</td>\n      <td>maribel.novaes@example.com</td>\n      <td>Brazil</td>\n      <td>(56) 3135-0607</td>\n      <td>https://randomuser.me/api/portraits/women/69.jpg</td>\n    </tr>\n    <tr>\n      <th>0</th>\n      <td>Nina Gonçalves</td>\n      <td>nina.goncalves@example.com</td>\n      <td>Brazil</td>\n      <td>(15) 0528-6750</td>\n      <td>https://randomuser.me/api/portraits/women/30.jpg</td>\n    </tr>\n    <tr>\n      <th>0</th>\n      <td>Magdalena Cardoso</td>\n      <td>magdalena.cardoso@example.com</td>\n      <td>Brazil</td>\n      <td>(68) 8988-4654</td>\n      <td>https://randomuser.me/api/portraits/women/8.jpg</td>\n    </tr>\n    <tr>\n      <th>0</th>\n      <td>Célia Barbosa</td>\n      <td>celia.barbosa@example.com</td>\n      <td>Brazil</td>\n      <td>(96) 4242-4201</td>\n      <td>https://randomuser.me/api/portraits/women/0.jpg</td>\n    </tr>\n  </tbody>\n</table>\n</div>",
       "datasetInfos": [],
       "metadata": {},
       "removedWidgets": [],
       "textData": null,
       "type": "htmlSandbox"
      }
     },
     "output_type": "display_data"
    }
   ],
   "source": [
    "df_final.head()"
   ]
  },
  {
   "cell_type": "markdown",
   "metadata": {
    "application/vnd.databricks.v1+cell": {
     "cellMetadata": {
      "byteLimit": 2048000,
      "rowLimit": 10000
     },
     "inputWidgets": {},
     "nuid": "5670bf69-0b10-434d-beed-49f4c7e60689",
     "showTitle": false,
     "title": ""
    }
   },
   "source": [
    "###O resultado é aleatório a cada nova chamada, para garantir que a chamada irá sempre retornar o mesmo usuário fictício, pode se usar a semente como parametro chamado de \"seed\". A semente pode se passada como qualquer string."
   ]
  },
  {
   "cell_type": "code",
   "execution_count": 0,
   "metadata": {
    "application/vnd.databricks.v1+cell": {
     "cellMetadata": {
      "byteLimit": 2048000,
      "rowLimit": 10000
     },
     "inputWidgets": {},
     "nuid": "5026cd7c-dfeb-420f-bf3e-0325ba2e115c",
     "showTitle": false,
     "title": ""
    }
   },
   "outputs": [
    {
     "output_type": "stream",
     "name": "stdout",
     "output_type": "stream",
     "text": [
      "Requisição completada com sucesso\n"
     ]
    },
    {
     "output_type": "display_data",
     "data": {
      "text/html": [
       "<div>\n",
       "<style scoped>\n",
       "    .dataframe tbody tr th:only-of-type {\n",
       "        vertical-align: middle;\n",
       "    }\n",
       "\n",
       "    .dataframe tbody tr th {\n",
       "        vertical-align: top;\n",
       "    }\n",
       "\n",
       "    .dataframe thead th {\n",
       "        text-align: right;\n",
       "    }\n",
       "</style>\n",
       "<table border=\"1\" class=\"dataframe\">\n",
       "  <thead>\n",
       "    <tr style=\"text-align: right;\">\n",
       "      <th></th>\n",
       "      <th>nome</th>\n",
       "      <th>email</th>\n",
       "      <th>pais</th>\n",
       "      <th>telefone</th>\n",
       "      <th>link_foto</th>\n",
       "    </tr>\n",
       "  </thead>\n",
       "  <tbody>\n",
       "    <tr>\n",
       "      <th>0</th>\n",
       "      <td>Laura Woods</td>\n",
       "      <td>laura.woods@example.com</td>\n",
       "      <td>Ireland</td>\n",
       "      <td>031-623-5189</td>\n",
       "      <td>https://randomuser.me/api/portraits/women/88.jpg</td>\n",
       "    </tr>\n",
       "  </tbody>\n",
       "</table>\n",
       "</div>"
      ]
     },
     "metadata": {
      "application/vnd.databricks.v1+output": {
       "addedWidgets": {},
       "arguments": {},
       "data": "<div>\n<style scoped>\n    .dataframe tbody tr th:only-of-type {\n        vertical-align: middle;\n    }\n\n    .dataframe tbody tr th {\n        vertical-align: top;\n    }\n\n    .dataframe thead th {\n        text-align: right;\n    }\n</style>\n<table border=\"1\" class=\"dataframe\">\n  <thead>\n    <tr style=\"text-align: right;\">\n      <th></th>\n      <th>nome</th>\n      <th>email</th>\n      <th>pais</th>\n      <th>telefone</th>\n      <th>link_foto</th>\n    </tr>\n  </thead>\n  <tbody>\n    <tr>\n      <th>0</th>\n      <td>Laura Woods</td>\n      <td>laura.woods@example.com</td>\n      <td>Ireland</td>\n      <td>031-623-5189</td>\n      <td>https://randomuser.me/api/portraits/women/88.jpg</td>\n    </tr>\n  </tbody>\n</table>\n</div>",
       "datasetInfos": [],
       "metadata": {},
       "removedWidgets": [],
       "textData": null,
       "type": "htmlSandbox"
      }
     },
     "output_type": "display_data"
    }
   ],
   "source": [
    "# URL da API Random User para filtrar apenas naciolidade brasileira\n",
    "url = 'https://randomuser.me/api/?seed=abc'\n",
    "df_user, message = get_user_info(url)\n",
    "print(message)\n",
    "df_user.head()"
   ]
  },
  {
   "cell_type": "markdown",
   "metadata": {
    "application/vnd.databricks.v1+cell": {
     "cellMetadata": {
      "byteLimit": 2048000,
      "rowLimit": 10000
     },
     "inputWidgets": {},
     "nuid": "fc3a04f4-55cc-45a8-a0f9-07cc0170759f",
     "showTitle": false,
     "title": ""
    }
   },
   "source": [
    "## [Avaliação anônima](https://forms.gle/tShxhxNYhvi6ZmQm8)"
   ]
  }
 ],
 "metadata": {
  "application/vnd.databricks.v1+notebook": {
   "dashboards": [],
   "language": "python",
   "notebookMetadata": {
    "pythonIndentUnit": 2
   },
   "notebookName": "4 - API REST Exercício",
   "widgets": {}
  },
  "colab": {
   "provenance": [],
   "toc_visible": true
  },
  "kernelspec": {
   "display_name": "Python 3",
   "name": "python3"
  },
  "language_info": {
   "codemirror_mode": {
    "name": "ipython",
    "version": 3
   },
   "file_extension": ".py",
   "mimetype": "text/x-python",
   "name": "python",
   "nbconvert_exporter": "python",
   "pygments_lexer": "ipython3",
   "version": "3.9.12"
  }
 },
 "nbformat": 4,
 "nbformat_minor": 0
}
