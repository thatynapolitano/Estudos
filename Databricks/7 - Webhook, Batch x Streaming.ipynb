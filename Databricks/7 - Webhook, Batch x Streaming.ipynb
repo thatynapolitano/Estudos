{
 "cells": [
  {
   "cell_type": "markdown",
   "metadata": {
    "application/vnd.databricks.v1+cell": {
     "cellMetadata": {},
     "inputWidgets": {},
     "nuid": "d960ff79-dad7-46b1-85f9-1129f538b26e",
     "showTitle": false,
     "title": ""
    }
   },
   "source": [
    "# 7 - Webhook, Batch x Streaming"
   ]
  },
  {
   "cell_type": "markdown",
   "metadata": {
    "application/vnd.databricks.v1+cell": {
     "cellMetadata": {},
     "inputWidgets": {},
     "nuid": "6921a0db-f237-4351-9c79-408139b103e5",
     "showTitle": false,
     "title": ""
    }
   },
   "source": [
    "##**Batch vs. Streaming Data:**\n",
    "\n",
    "Existem diferenças significativas entre o processamento de dados em lote (carga em batch) e streaming:\n",
    "\n",
    "1. **Modelo de Processamento de Dados:**\n",
    "    - **Processamento em lote:** No processamento em lote, os dados são coletados, armazenados e processados em blocos ou lotes discretos. Normalmente é usado para análise de dados históricos e geração de relatórios.\n",
    "    - **Processamento de streaming:** No processamento de streaming, os dados são processados em tempo real à medida que chegam. É usado para ações imediatas, monitoramento e análises em tempo real.\n",
    "\n",
    "Exemplo de carga em batch\n",
    "\n",
    "<div style=\"text-align: center;\">\n",
    "<img src=\"https://estuary.dev/static/95bfd47b6f3119035d2284a7c076fb5d/a4da0/02_Streaming_Data_Processing_Stream_Vs_Batch_Processing_7c1ac11dc8.png\"  width=\"55%\"> \n",
    " <!-- height=\"40%\"> -->\n",
    "</div>\n",
    "<br>\n",
    "\n",
    "2. **Latência:**\n",
    "    - **Processamento em lote:** O processamento em lote tem maior latência, pois aguarda o acúmulo de dados antes do processamento. É adequado para cenários onde as respostas em tempo real não são críticas.\n",
    "    - **Processamento de streaming:** O processamento de streaming tem baixa latência e fornece insights e respostas em tempo real, tornando-o adequado para aplicações como detecção e monitoramento de fraudes.\n",
    "\n",
    "3. **Complexidade:**\n",
    "    - **Processamento em lote:** normalmente, os trabalhos de processamento em lote são mais fáceis de projetar e gerenciar, pois operam em conjuntos de dados estáticos.\n",
    "    - **Processamento de streaming:** O processamento de streaming pode ser mais complexo devido à necessidade de gerenciamento de estado e manipulação de dados fora de ordem.\n",
    "\n",
    "4. **Escalabilidade:**\n",
    "    - **Processamento em lote:** dimensionar o processamento em lote pode ser mais desafiador, pois geralmente envolve o redimensionamento de clusters ou a alocação de recursos adicionais.\n",
    "    - **Processamento de streaming:** Os sistemas de streaming são projetados para escalabilidade horizontal e podem lidar com volumes de dados variados com mais eficiência.\n",
    "\n",
    "<img src=\"https://media.geeksforgeeks.org/wp-content/cdn-uploads/20210209202449/Scaling-Concept.png\" width=400>\n",
    "\n",
    "5. **Casos de uso:**\n",
    "    - **Processamento em lote:** O processamento em lote é ideal para cenários como trabalhos diários de ETL, geração de relatórios mensais e análises baseadas em lote.\n",
    "    - **Processamento de streaming:** O processamento de streaming é adequado para monitoramento em tempo real, detecção de fraudes, sistemas de recomendação e processamento de dados de IoT.\n",
    "\n",
    "Em resumo, a escolha entre processamento de dados em lote e streaming depende do seu caso de uso e requisitos específicos. O processamento em lote é adequado para análises históricas e tarefas menos urgentes, enquanto o processamento de streaming é essencial para a tomada de decisões em tempo real e ações imediatas com base nos dados recebidos. A combinação de ambas as abordagens em um pipeline de dados pode fornecer uma solução abrangente para diversas necessidades de processamento de dados.\n",
    "\n",
    "<br><br>\n",
    "<img src=\"https://www.ml4devs.com/images/illustrations/big-data-pipeline-architecture.webp\" width=800>"
   ]
  },
  {
   "cell_type": "markdown",
   "metadata": {
    "application/vnd.databricks.v1+cell": {
     "cellMetadata": {
      "byteLimit": 2048000,
      "rowLimit": 10000
     },
     "inputWidgets": {},
     "nuid": "7c382a0a-dc72-4b68-8a2c-6ba5bbbb1570",
     "showTitle": false,
     "title": ""
    }
   },
   "source": [
    "### Exemplos\n",
    "\n",
    "A arquitetura de dados orientada a eventos é uma maneira de tratar dados de maneira mais flexível e ágil, reagindo a cada evento de maneira independente. Isso é contrário ao processamento em batch, em que os dados são agrupados e processados em lotes.\n",
    "\n",
    "Exemplos de uso de arquitetura de dados orientada a eventos incluem:\n",
    "\n",
    "- Sistemas de detecção de fraudes: quando um evento suspeito é detectado, uma ação é imediatamente tomada para evitar perdas financeiras.\n",
    "\n",
    "- Sistemas de monitoramento de máquinas: eventos gerados por sensores são processados em tempo real para detectar problemas antes que eles causem danos maiores.\n",
    "\n",
    "- Aplicativos de logística: eventos gerados por GPS e sensores são processados em tempo real para otimizar rotas e prever entregas.\n",
    "\n",
    "- Sistemas de alerta de emergência: eventos são processados em tempo real para detectar situações de emergência e enviar alertas imediatos.\n",
    "\n",
    "Já o processamento em batch é adequado para casos em que a latência não é crítica e a quantidade de dados é grande, como:\n",
    "\n",
    "- Análise de dados de log de uma empresa: os dados são agrupados e processados em lotes todas as noites para produzir relatórios diários.\n",
    "\n",
    "- Análise de dados de vendas: os dados são agrupados e processados mensalmente para produzir relatórios de vendas.\n",
    "\n",
    "- Processamento de grandes conjuntos de dados climáticos: dados de sensores são agrupados e processados em lotes para produzir modelos climáticos precisos.\n"
   ]
  },
  {
   "cell_type": "markdown",
   "metadata": {
    "application/vnd.databricks.v1+cell": {
     "cellMetadata": {},
     "inputWidgets": {},
     "nuid": "4c03f5c0-aaa3-402e-89c0-930dd7fce90a",
     "showTitle": false,
     "title": ""
    }
   },
   "source": [
    "## Webhooks\n",
    "\n",
    "Webhooks são usados para receber dados de um servidor conforme um evento acontece, em vez de pesquisar uma API (chamar uma API intermitentemente) para ver se há dados disponíveis. Com webhooks, você só precisa expressar interesse em um evento uma vez, ao criar o webhook.\n",
    "<br><br>\n",
    "<div style=\"text-align: center;\">\n",
    "<img src=\"https://res.cloudinary.com/practicaldev/image/fetch/s--bLQi7irI--/c_limit%2Cf_auto%2Cfl_progressive%2Cq_auto%2Cw_880/https://dev-to-uploads.s3.amazonaws.com/uploads/articles/n5c64liu91rcqqha8zgk.png\" width=40%>\n",
    "</div>\n",
    "\n",
    "Vamos supor que você realizou uma compra por um site através de boleto bancário que pode levar até 3 dias o pagamento. Como esse site fica sabendo do pagamento? Ele fica enviando uma pergunta pra API a cada 10s esperando a resposta \"confirmado\"? Isso traria um fluxo de requisição gigantesco e desnecessário para o banco. O que o banco faz é enviar um webhook para o site quando o pagamento for aprovado com o detalhamento do pagamento como valor, quantidade de parcelas, juros, etc.... Nesse caso temos o banco enviando o webhook e o site recebendo o webhook. Mais no final dessa aula veremos como enviar e receber um webhook.\n",
    "\n",
    "Outros exemplos:\n",
    "\n",
    "- gerenciamento de e-mail: as empresas disparam diversos e-mails e recebem um webhook toda vez que o cliente abre o e-mail. Com isso a empresa consegue calcular qual a taxa de abertura dos e-mails enviados\n",
    "\n"
   ]
  },
  {
   "cell_type": "markdown",
   "metadata": {
    "application/vnd.databricks.v1+cell": {
     "cellMetadata": {},
     "inputWidgets": {},
     "nuid": "096a5e05-308b-4e45-bad0-0a08758ef890",
     "showTitle": false,
     "title": ""
    }
   },
   "source": [
    "## API x Webhook\n",
    "\n",
    "A API é o sistema inteiro e que pode conter diferentes endpoints para enviar e receber webhooks. As APIs definem o método de comunicação entre dois softwares, permitindo definir os tipos de requisições, como fazê-las e o formato dos dados utilizados.\n",
    "\n",
    "Um **webhook** (às vezes chamado de API reversa) **é um dos endpoints de API** que serve a um propósito diferente: em vez de apenas procurar informações como um típico endpoint de API GET, nós podemos enviar (POST) para o webhook alguns dados e informações quando um evento acontece e então ele fará algo internamente. Isso significa que os webhooks podem servir como um tipo de sistema de eventos.\n",
    "\n",
    "Basicamente, os webhooks são como endpoints anti-API. **Eles recebem dados e realizam trabalho interno, enquanto os endpoints de API padrão retornam dados para que o cliente que solicita esses dados possa fazer algo com eles.**\n",
    "\n",
    "O termo webhook geralmente significa postar um evento em outro sistema pela web através de uma API. Os webhooks utilizam requisições HTTP do tipo POST para disparar ações em outra aplicação quando um evento ocorre. O formato de dados padrão atual para isso é JSON.\n",
    "\n",
    "Um webhook precisa de duas coisas: um remetente com ferramentas para reconhecer um evento e fazer algo, e um receptor - uma aplicação com uma API para receber as mensagens.\n",
    "\n",
    "<br><br>\n",
    "<div style=\"text-align: center;\">\n",
    "<img src=\"https://miro.medium.com/v2/resize:fit:1400/1*q4VTCyqTXMgI8Y4isY354w.png\" width=60%>\n",
    "<img src=\"https://verloop.io/wp-content/uploads/API-vs-Webhook-1536x1373.jpg\" width=50%>\n",
    "</div>"
   ]
  },
  {
   "cell_type": "markdown",
   "metadata": {
    "application/vnd.databricks.v1+cell": {
     "cellMetadata": {},
     "inputWidgets": {},
     "nuid": "ea0db627-a2a0-42c2-a0e9-379dbfb86ab7",
     "showTitle": false,
     "title": ""
    }
   },
   "source": [
    "<div style=\"text-align: center;\">\n",
    "<img src=\"https://five.co/wp-content/uploads/2023/01/Webhooks-APIs.png\" width=50%>\n",
    "</div>"
   ]
  },
  {
   "cell_type": "markdown",
   "metadata": {
    "application/vnd.databricks.v1+cell": {
     "cellMetadata": {},
     "inputWidgets": {},
     "nuid": "6a1f7ab0-03dc-4b4e-834c-8111a26294f0",
     "showTitle": false,
     "title": ""
    }
   },
   "source": [
    "## Como Webhooks funcionam\n",
    "\n",
    "O fluxo de típico de um webhook envolve duas partes: um remetente e um receptor.\n",
    "\n",
    "- Remetente: O remetente é um sistema ou serviço que gera eventos e precisa notificar outro sistema sobre esses eventos. Isso pode ser uma ação do usuário, uma atualização em um banco de dados, ou qualquer outro gatilho.\n",
    "\n",
    "- Receptor: O receptor é um sistema ou aplicação que ouve as notificações de webhook recebidas e realiza ações específicas em resposta a essas notificações.\n",
    "\n",
    "Aqui está uma explicação passo a passo de como os webhooks funcionam:\n",
    "\n",
    "- O remetente detecta um evento ou mudança que deseja notificar ao receptor.\n",
    "\n",
    "- O remetente cria uma solicitação HTTP POST contendo informações relevantes sobre o evento.\n",
    "\n",
    "- O remetente envia esta solicitação POST para uma URL predefinida fornecida pelo receptor. Esta URL é frequentemente chamada de endpoint do webhook.\n",
    "\n",
    "- O receptor ouve as solicitações HTTP POST recebidas no endpoint do webhook.\n",
    "\n",
    "- Quando o receptor recebe uma solicitação POST, ele processa os dados na carga da solicitação e realiza as ações necessárias com base nas informações do evento."
   ]
  },
  {
   "cell_type": "markdown",
   "metadata": {
    "application/vnd.databricks.v1+cell": {
     "cellMetadata": {},
     "inputWidgets": {},
     "nuid": "144f3902-d267-44bf-a16f-8068422b73b8",
     "showTitle": false,
     "title": ""
    }
   },
   "source": [
    "## Enviando um Webhook\n",
    "\n",
    "Acesse o site https://webhook.site e copie o sua URL."
   ]
  },
  {
   "cell_type": "code",
   "execution_count": 8,
   "metadata": {
    "application/vnd.databricks.v1+cell": {
     "cellMetadata": {
      "byteLimit": 2048000,
      "rowLimit": 10000
     },
     "inputWidgets": {},
     "nuid": "df32a41d-9578-454f-b533-001d5b47adb7",
     "showTitle": false,
     "title": ""
    }
   },
   "outputs": [
    {
     "ename": "JSONDecodeError",
     "evalue": "Expecting value: line 1 column 1 (char 0)",
     "output_type": "error",
     "traceback": [
      "\u001b[1;31m---------------------------------------------------------------------------\u001b[0m",
      "\u001b[1;31mJSONDecodeError\u001b[0m                           Traceback (most recent call last)",
      "File \u001b[1;32mc:\\Users\\thaty\\AppData\\Local\\Programs\\Python\\Python312\\Lib\\site-packages\\requests\\models.py:971\u001b[0m, in \u001b[0;36mResponse.json\u001b[1;34m(self, **kwargs)\u001b[0m\n\u001b[0;32m    970\u001b[0m \u001b[38;5;28;01mtry\u001b[39;00m:\n\u001b[1;32m--> 971\u001b[0m     \u001b[38;5;28;01mreturn\u001b[39;00m \u001b[43mcomplexjson\u001b[49m\u001b[38;5;241;43m.\u001b[39;49m\u001b[43mloads\u001b[49m\u001b[43m(\u001b[49m\u001b[38;5;28;43mself\u001b[39;49m\u001b[38;5;241;43m.\u001b[39;49m\u001b[43mtext\u001b[49m\u001b[43m,\u001b[49m\u001b[43m \u001b[49m\u001b[38;5;241;43m*\u001b[39;49m\u001b[38;5;241;43m*\u001b[39;49m\u001b[43mkwargs\u001b[49m\u001b[43m)\u001b[49m\n\u001b[0;32m    972\u001b[0m \u001b[38;5;28;01mexcept\u001b[39;00m JSONDecodeError \u001b[38;5;28;01mas\u001b[39;00m e:\n\u001b[0;32m    973\u001b[0m     \u001b[38;5;66;03m# Catch JSON-related errors and raise as requests.JSONDecodeError\u001b[39;00m\n\u001b[0;32m    974\u001b[0m     \u001b[38;5;66;03m# This aliases json.JSONDecodeError and simplejson.JSONDecodeError\u001b[39;00m\n",
      "File \u001b[1;32mc:\\Users\\thaty\\AppData\\Local\\Programs\\Python\\Python312\\Lib\\json\\__init__.py:346\u001b[0m, in \u001b[0;36mloads\u001b[1;34m(s, cls, object_hook, parse_float, parse_int, parse_constant, object_pairs_hook, **kw)\u001b[0m\n\u001b[0;32m    343\u001b[0m \u001b[38;5;28;01mif\u001b[39;00m (\u001b[38;5;28mcls\u001b[39m \u001b[38;5;129;01mis\u001b[39;00m \u001b[38;5;28;01mNone\u001b[39;00m \u001b[38;5;129;01mand\u001b[39;00m object_hook \u001b[38;5;129;01mis\u001b[39;00m \u001b[38;5;28;01mNone\u001b[39;00m \u001b[38;5;129;01mand\u001b[39;00m\n\u001b[0;32m    344\u001b[0m         parse_int \u001b[38;5;129;01mis\u001b[39;00m \u001b[38;5;28;01mNone\u001b[39;00m \u001b[38;5;129;01mand\u001b[39;00m parse_float \u001b[38;5;129;01mis\u001b[39;00m \u001b[38;5;28;01mNone\u001b[39;00m \u001b[38;5;129;01mand\u001b[39;00m\n\u001b[0;32m    345\u001b[0m         parse_constant \u001b[38;5;129;01mis\u001b[39;00m \u001b[38;5;28;01mNone\u001b[39;00m \u001b[38;5;129;01mand\u001b[39;00m object_pairs_hook \u001b[38;5;129;01mis\u001b[39;00m \u001b[38;5;28;01mNone\u001b[39;00m \u001b[38;5;129;01mand\u001b[39;00m \u001b[38;5;129;01mnot\u001b[39;00m kw):\n\u001b[1;32m--> 346\u001b[0m     \u001b[38;5;28;01mreturn\u001b[39;00m \u001b[43m_default_decoder\u001b[49m\u001b[38;5;241;43m.\u001b[39;49m\u001b[43mdecode\u001b[49m\u001b[43m(\u001b[49m\u001b[43ms\u001b[49m\u001b[43m)\u001b[49m\n\u001b[0;32m    347\u001b[0m \u001b[38;5;28;01mif\u001b[39;00m \u001b[38;5;28mcls\u001b[39m \u001b[38;5;129;01mis\u001b[39;00m \u001b[38;5;28;01mNone\u001b[39;00m:\n",
      "File \u001b[1;32mc:\\Users\\thaty\\AppData\\Local\\Programs\\Python\\Python312\\Lib\\json\\decoder.py:337\u001b[0m, in \u001b[0;36mJSONDecoder.decode\u001b[1;34m(self, s, _w)\u001b[0m\n\u001b[0;32m    333\u001b[0m \u001b[38;5;250m\u001b[39m\u001b[38;5;124;03m\"\"\"Return the Python representation of ``s`` (a ``str`` instance\u001b[39;00m\n\u001b[0;32m    334\u001b[0m \u001b[38;5;124;03mcontaining a JSON document).\u001b[39;00m\n\u001b[0;32m    335\u001b[0m \n\u001b[0;32m    336\u001b[0m \u001b[38;5;124;03m\"\"\"\u001b[39;00m\n\u001b[1;32m--> 337\u001b[0m obj, end \u001b[38;5;241m=\u001b[39m \u001b[38;5;28;43mself\u001b[39;49m\u001b[38;5;241;43m.\u001b[39;49m\u001b[43mraw_decode\u001b[49m\u001b[43m(\u001b[49m\u001b[43ms\u001b[49m\u001b[43m,\u001b[49m\u001b[43m \u001b[49m\u001b[43midx\u001b[49m\u001b[38;5;241;43m=\u001b[39;49m\u001b[43m_w\u001b[49m\u001b[43m(\u001b[49m\u001b[43ms\u001b[49m\u001b[43m,\u001b[49m\u001b[43m \u001b[49m\u001b[38;5;241;43m0\u001b[39;49m\u001b[43m)\u001b[49m\u001b[38;5;241;43m.\u001b[39;49m\u001b[43mend\u001b[49m\u001b[43m(\u001b[49m\u001b[43m)\u001b[49m\u001b[43m)\u001b[49m\n\u001b[0;32m    338\u001b[0m end \u001b[38;5;241m=\u001b[39m _w(s, end)\u001b[38;5;241m.\u001b[39mend()\n",
      "File \u001b[1;32mc:\\Users\\thaty\\AppData\\Local\\Programs\\Python\\Python312\\Lib\\json\\decoder.py:355\u001b[0m, in \u001b[0;36mJSONDecoder.raw_decode\u001b[1;34m(self, s, idx)\u001b[0m\n\u001b[0;32m    354\u001b[0m \u001b[38;5;28;01mexcept\u001b[39;00m \u001b[38;5;167;01mStopIteration\u001b[39;00m \u001b[38;5;28;01mas\u001b[39;00m err:\n\u001b[1;32m--> 355\u001b[0m     \u001b[38;5;28;01mraise\u001b[39;00m JSONDecodeError(\u001b[38;5;124m\"\u001b[39m\u001b[38;5;124mExpecting value\u001b[39m\u001b[38;5;124m\"\u001b[39m, s, err\u001b[38;5;241m.\u001b[39mvalue) \u001b[38;5;28;01mfrom\u001b[39;00m \u001b[38;5;28;01mNone\u001b[39;00m\n\u001b[0;32m    356\u001b[0m \u001b[38;5;28;01mreturn\u001b[39;00m obj, end\n",
      "\u001b[1;31mJSONDecodeError\u001b[0m: Expecting value: line 1 column 1 (char 0)",
      "\nDuring handling of the above exception, another exception occurred:\n",
      "\u001b[1;31mJSONDecodeError\u001b[0m                           Traceback (most recent call last)",
      "Cell \u001b[1;32mIn[8], line 14\u001b[0m\n\u001b[0;32m      5\u001b[0m send_data \u001b[38;5;241m=\u001b[39m {\n\u001b[0;32m      6\u001b[0m     \u001b[38;5;124m\"\u001b[39m\u001b[38;5;124mpagamento\u001b[39m\u001b[38;5;124m\"\u001b[39m: \u001b[38;5;124m\"\u001b[39m\u001b[38;5;124maprovado\u001b[39m\u001b[38;5;124m\"\u001b[39m,\n\u001b[0;32m      7\u001b[0m     \u001b[38;5;124m\"\u001b[39m\u001b[38;5;124mvalor\u001b[39m\u001b[38;5;124m\"\u001b[39m: \u001b[38;5;124m\"\u001b[39m\u001b[38;5;124m198.87\u001b[39m\u001b[38;5;124m\"\u001b[39m,\n\u001b[1;32m   (...)\u001b[0m\n\u001b[0;32m     10\u001b[0m     \u001b[38;5;124m\"\u001b[39m\u001b[38;5;124mnome\u001b[39m\u001b[38;5;124m\"\u001b[39m: \u001b[38;5;124m\"\u001b[39m\u001b[38;5;124mCarlos\u001b[39m\u001b[38;5;124m\"\u001b[39m\n\u001b[0;32m     11\u001b[0m }\n\u001b[0;32m     13\u001b[0m data \u001b[38;5;241m=\u001b[39m requests\u001b[38;5;241m.\u001b[39mpost(webhook_url, json\u001b[38;5;241m=\u001b[39msend_data)\n\u001b[1;32m---> 14\u001b[0m \u001b[43mdata\u001b[49m\u001b[38;5;241;43m.\u001b[39;49m\u001b[43mjson\u001b[49m\u001b[43m(\u001b[49m\u001b[43m)\u001b[49m\n",
      "File \u001b[1;32mc:\\Users\\thaty\\AppData\\Local\\Programs\\Python\\Python312\\Lib\\site-packages\\requests\\models.py:975\u001b[0m, in \u001b[0;36mResponse.json\u001b[1;34m(self, **kwargs)\u001b[0m\n\u001b[0;32m    971\u001b[0m     \u001b[38;5;28;01mreturn\u001b[39;00m complexjson\u001b[38;5;241m.\u001b[39mloads(\u001b[38;5;28mself\u001b[39m\u001b[38;5;241m.\u001b[39mtext, \u001b[38;5;241m*\u001b[39m\u001b[38;5;241m*\u001b[39mkwargs)\n\u001b[0;32m    972\u001b[0m \u001b[38;5;28;01mexcept\u001b[39;00m JSONDecodeError \u001b[38;5;28;01mas\u001b[39;00m e:\n\u001b[0;32m    973\u001b[0m     \u001b[38;5;66;03m# Catch JSON-related errors and raise as requests.JSONDecodeError\u001b[39;00m\n\u001b[0;32m    974\u001b[0m     \u001b[38;5;66;03m# This aliases json.JSONDecodeError and simplejson.JSONDecodeError\u001b[39;00m\n\u001b[1;32m--> 975\u001b[0m     \u001b[38;5;28;01mraise\u001b[39;00m RequestsJSONDecodeError(e\u001b[38;5;241m.\u001b[39mmsg, e\u001b[38;5;241m.\u001b[39mdoc, e\u001b[38;5;241m.\u001b[39mpos)\n",
      "\u001b[1;31mJSONDecodeError\u001b[0m: Expecting value: line 1 column 1 (char 0)"
     ]
    }
   ],
   "source": [
    "import requests \n",
    "\n",
    "webhook_url = \"https://webhook.site/c5ff4718-abaa-40a7-81c7-676cb08a94d4\"\n",
    "\n",
    "send_data = {\n",
    "    \"pagamento\": \"aprovado\",\n",
    "    \"valor\": \"198.87\",\n",
    "    \"data\": \"01/04/2024\",\n",
    "    \"parcelas\": 1,\n",
    "    \"nome\": \"Carlos\"\n",
    "}\n",
    "\n",
    "data = requests.post(webhook_url, json=send_data)\n",
    "data.json()\n"
   ]
  },
  {
   "cell_type": "code",
   "execution_count": 3,
   "metadata": {},
   "outputs": [
    {
     "data": {
      "text/plain": [
       "200"
      ]
     },
     "execution_count": 3,
     "metadata": {},
     "output_type": "execute_result"
    }
   ],
   "source": [
    "data.status_code"
   ]
  },
  {
   "cell_type": "markdown",
   "metadata": {
    "application/vnd.databricks.v1+cell": {
     "cellMetadata": {},
     "inputWidgets": {},
     "nuid": "b730f17d-b85c-43da-8772-aef0d9129c5a",
     "showTitle": false,
     "title": ""
    }
   },
   "source": [
    "## Criando um receptor de Webhook em uma API\n",
    "\n",
    "\n",
    "\n",
    "\n"
   ]
  },
  {
   "cell_type": "code",
   "execution_count": 6,
   "metadata": {
    "application/vnd.databricks.v1+cell": {
     "cellMetadata": {},
     "inputWidgets": {},
     "nuid": "5e7461ce-9f47-4711-b561-26a668855949",
     "showTitle": false,
     "title": ""
    }
   },
   "outputs": [
    {
     "name": "stdout",
     "output_type": "stream",
     "text": [
      "Requirement already satisfied: Flask in c:\\users\\thaty\\appdata\\local\\programs\\python\\python312\\lib\\site-packages (3.0.2)\n",
      "Requirement already satisfied: Werkzeug>=3.0.0 in c:\\users\\thaty\\appdata\\local\\programs\\python\\python312\\lib\\site-packages (from Flask) (3.0.1)\n",
      "Requirement already satisfied: Jinja2>=3.1.2 in c:\\users\\thaty\\appdata\\local\\programs\\python\\python312\\lib\\site-packages (from Flask) (3.1.3)\n",
      "Requirement already satisfied: itsdangerous>=2.1.2 in c:\\users\\thaty\\appdata\\local\\programs\\python\\python312\\lib\\site-packages (from Flask) (2.1.2)\n",
      "Requirement already satisfied: click>=8.1.3 in c:\\users\\thaty\\appdata\\local\\programs\\python\\python312\\lib\\site-packages (from Flask) (8.1.7)\n",
      "Requirement already satisfied: blinker>=1.6.2 in c:\\users\\thaty\\appdata\\local\\programs\\python\\python312\\lib\\site-packages (from Flask) (1.7.0)\n",
      "Requirement already satisfied: colorama in c:\\users\\thaty\\appdata\\roaming\\python\\python312\\site-packages (from click>=8.1.3->Flask) (0.4.6)\n",
      "Requirement already satisfied: MarkupSafe>=2.0 in c:\\users\\thaty\\appdata\\local\\programs\\python\\python312\\lib\\site-packages (from Jinja2>=3.1.2->Flask) (2.1.5)\n",
      "Note: you may need to restart the kernel to use updated packages.\n"
     ]
    }
   ],
   "source": [
    "pip install Flask"
   ]
  },
  {
   "cell_type": "markdown",
   "metadata": {
    "application/vnd.databricks.v1+cell": {
     "cellMetadata": {
      "byteLimit": 2048000,
      "rowLimit": 10000
     },
     "inputWidgets": {},
     "nuid": "d56ad30c-3367-4bca-bfe6-e971b5399151",
     "showTitle": false,
     "title": ""
    }
   },
   "source": [
    "Primeiro, vamos criar um aplicativo Flask básico que escuta solicitações de webhook recebidas e registra os dados recebidos.\n",
    "\n",
    "```python\n",
    "from flask import Flask, request, jsonify\n",
    "\n",
    "app = Flask(__name__)\n",
    "\n",
    "# define a route /webhook that listens for HTTP POST requests.\n",
    "@app.route('/webhook', methods=['POST'])\n",
    "# POST request is received at /webhook, the webhook_receiver function is called\n",
    "def webhook_receiver():\n",
    "    data = request.get_json()  # Get the JSON data from the incoming request\n",
    "    # Process the data and perform actions based on the event\n",
    "    print(\"Received webhook data:\", data)\n",
    "    return jsonify({'message': 'Webhook received successfully'}), 200\n",
    "\n",
    "# Verifica se o script está sendo executado como um módulo principal\n",
    "if __name__ == '__main__':\n",
    "    # Inicia a execução da aplicação\n",
    "    app.run(debug=True)\n",
    "```\n",
    "\n",
    "Neste exemplo, definimos uma rota `/webhook` que escuta solicitações POST. Quando uma solicitação é recebida, extraímos os dados JSON dela, processamos conforme necessário e registramos no console.\n",
    "\n",
    "Esse código será rodado em um .py localmente."
   ]
  },
  {
   "cell_type": "markdown",
   "metadata": {
    "application/vnd.databricks.v1+cell": {
     "cellMetadata": {},
     "inputWidgets": {},
     "nuid": "e35b1c25-b25d-4a3c-97ff-c9277bcc5518",
     "showTitle": false,
     "title": ""
    }
   },
   "source": [
    "No nosso caso, o webhook irá receber a solicitação e salvar em um arquivo."
   ]
  },
  {
   "cell_type": "code",
   "execution_count": 9,
   "metadata": {
    "application/vnd.databricks.v1+cell": {
     "cellMetadata": {},
     "inputWidgets": {},
     "nuid": "e44650a3-d401-4f85-96b5-8b775fb632f5",
     "showTitle": false,
     "title": ""
    }
   },
   "outputs": [
    {
     "name": "stdout",
     "output_type": "stream",
     "text": [
      " * Serving Flask app 'webhook'\n",
      " * Debug mode: off\n"
     ]
    },
    {
     "name": "stderr",
     "output_type": "stream",
     "text": [
      "WARNING: This is a development server. Do not use it in a production deployment. Use a production WSGI server instead.\n",
      " * Running on http://127.0.0.1:5001\n",
      "Press CTRL+C to quit\n",
      "[2024-04-01 21:12:32,413] ERROR in app: Exception on /webhook [POST]\n",
      "Traceback (most recent call last):\n",
      "  File \"c:\\Users\\thaty\\AppData\\Local\\Programs\\Python\\Python312\\Lib\\site-packages\\flask\\app.py\", line 1463, in wsgi_app\n",
      "    response = self.full_dispatch_request()\n",
      "               ^^^^^^^^^^^^^^^^^^^^^^^^^^^^\n",
      "  File \"c:\\Users\\thaty\\AppData\\Local\\Programs\\Python\\Python312\\Lib\\site-packages\\flask\\app.py\", line 872, in full_dispatch_request\n",
      "    rv = self.handle_user_exception(e)\n",
      "         ^^^^^^^^^^^^^^^^^^^^^^^^^^^^^\n",
      "  File \"c:\\Users\\thaty\\AppData\\Local\\Programs\\Python\\Python312\\Lib\\site-packages\\flask\\app.py\", line 870, in full_dispatch_request\n",
      "    rv = self.dispatch_request()\n",
      "         ^^^^^^^^^^^^^^^^^^^^^^^\n",
      "  File \"c:\\Users\\thaty\\AppData\\Local\\Programs\\Python\\Python312\\Lib\\site-packages\\flask\\app.py\", line 855, in dispatch_request\n",
      "    return self.ensure_sync(self.view_functions[rule.endpoint])(**view_args)  # type: ignore[no-any-return]\n",
      "           ^^^^^^^^^^^^^^^^^^^^^^^^^^^^^^^^^^^^^^^^^^^^^^^^^^^^^^^^^^^^^^^^^\n",
      "  File \"C:\\Users\\thaty\\AppData\\Local\\Temp\\ipykernel_30996\\1384974662.py\", line 7, in webhook_receiver\n",
      "    data = requests.get_json()\n",
      "           ^^^^^^^^^^^^^^^^^\n",
      "AttributeError: module 'requests' has no attribute 'get_json'\n",
      "127.0.0.1 - - [01/Apr/2024 21:12:32] \"POST /webhook HTTP/1.1\" 500 -\n",
      "[2024-04-01 21:13:07,494] ERROR in app: Exception on /webhook [POST]\n",
      "Traceback (most recent call last):\n",
      "  File \"c:\\Users\\thaty\\AppData\\Local\\Programs\\Python\\Python312\\Lib\\site-packages\\flask\\app.py\", line 1463, in wsgi_app\n",
      "    response = self.full_dispatch_request()\n",
      "               ^^^^^^^^^^^^^^^^^^^^^^^^^^^^\n",
      "  File \"c:\\Users\\thaty\\AppData\\Local\\Programs\\Python\\Python312\\Lib\\site-packages\\flask\\app.py\", line 872, in full_dispatch_request\n",
      "    rv = self.handle_user_exception(e)\n",
      "         ^^^^^^^^^^^^^^^^^^^^^^^^^^^^^\n",
      "  File \"c:\\Users\\thaty\\AppData\\Local\\Programs\\Python\\Python312\\Lib\\site-packages\\flask\\app.py\", line 870, in full_dispatch_request\n",
      "    rv = self.dispatch_request()\n",
      "         ^^^^^^^^^^^^^^^^^^^^^^^\n",
      "  File \"c:\\Users\\thaty\\AppData\\Local\\Programs\\Python\\Python312\\Lib\\site-packages\\flask\\app.py\", line 855, in dispatch_request\n",
      "    return self.ensure_sync(self.view_functions[rule.endpoint])(**view_args)  # type: ignore[no-any-return]\n",
      "           ^^^^^^^^^^^^^^^^^^^^^^^^^^^^^^^^^^^^^^^^^^^^^^^^^^^^^^^^^^^^^^^^^\n",
      "  File \"C:\\Users\\thaty\\AppData\\Local\\Temp\\ipykernel_30996\\1384974662.py\", line 7, in webhook_receiver\n",
      "    data = requests.get_json()\n",
      "           ^^^^^^^^^^^^^^^^^\n",
      "AttributeError: module 'requests' has no attribute 'get_json'\n",
      "127.0.0.1 - - [01/Apr/2024 21:13:07] \"POST /webhook HTTP/1.1\" 500 -\n",
      "127.0.0.1 - - [01/Apr/2024 21:16:15] \"GET / HTTP/1.1\" 404 -\n",
      "127.0.0.1 - - [01/Apr/2024 21:16:15] \"GET /favicon.ico HTTP/1.1\" 404 -\n",
      "127.0.0.1 - - [01/Apr/2024 21:16:20] \"GET /webhook HTTP/1.1\" 405 -\n"
     ]
    }
   ],
   "source": [
    "from flask import Flask, jsonify\n",
    "import pandas as pd \n",
    "app = Flask(\"webhook\")\n",
    "\n",
    "@app.route(\"/webhook\", methods=[\"POST\"])\n",
    "def webhook_receiver():\n",
    "    data = requests.get_json()\n",
    "    df = pd.json.normalize(data)\n",
    "    df.to_csv(\"saida_webhook.csv\", index=False, mode=\"a\")\n",
    "    print(f\"Webhook recebido {data}\")\n",
    "    return jsonify(f\"Webhook recebido {data}\")\n",
    "\n",
    "app.run(port=5001)"
   ]
  },
  {
   "cell_type": "markdown",
   "metadata": {
    "application/vnd.databricks.v1+cell": {
     "cellMetadata": {},
     "inputWidgets": {},
     "nuid": "feebce49-3db4-48c6-9e26-597b6eb16582",
     "showTitle": false,
     "title": ""
    }
   },
   "source": [
    "Para testar o receptor de webhook, você pode usar ferramentas como curl ou Postman para enviar uma solicitação POST para o endpoint http://localhost:5000/webhook (assumindo que você esteja executando o aplicativo Flask localmente). Certifique-se de incluir dados JSON no corpo da solicitação."
   ]
  },
  {
   "cell_type": "markdown",
   "metadata": {
    "application/vnd.databricks.v1+cell": {
     "cellMetadata": {},
     "inputWidgets": {},
     "nuid": "20283565-faaa-47be-98b5-5582d4326a51",
     "showTitle": false,
     "title": ""
    }
   },
   "source": [
    "## Ngrok\n",
    "\n",
    "O Ngrok é uma ferramenta que permite criar um túnel seguro para conectar um servidor local a um servidor remoto, tornando possível expor uma aplicação local para a Internet. Essa ferramenta é muito útil para desenvolvedores que precisam testar suas aplicações localmente antes de colocá-las em produção."
   ]
  },
  {
   "cell_type": "code",
   "execution_count": null,
   "metadata": {
    "application/vnd.databricks.v1+cell": {
     "cellMetadata": {},
     "inputWidgets": {},
     "nuid": "87f63efd-372d-4667-bfec-abb530ae69d4",
     "showTitle": false,
     "title": ""
    }
   },
   "outputs": [],
   "source": [
    "pip install pyngrok"
   ]
  },
  {
   "cell_type": "markdown",
   "metadata": {
    "application/vnd.databricks.v1+cell": {
     "cellMetadata": {},
     "inputWidgets": {},
     "nuid": "7f182777-d509-4045-899a-e6ba83aacf16",
     "showTitle": false,
     "title": ""
    }
   },
   "source": [
    "- Acesse o site oficial do [ngrok](https://ngrok.com/) e faça seu cadastro;\n",
    "- Entrar no dashboard https://dashboard.ngrok.com/get-started/your-authtoken\n",
    "- Getting Started > Your AuthToken\n",
    "- Salvar ele no arquivo de configuração"
   ]
  },
  {
   "cell_type": "code",
   "execution_count": null,
   "metadata": {
    "application/vnd.databricks.v1+cell": {
     "cellMetadata": {},
     "inputWidgets": {},
     "nuid": "b110206b-10c3-4b1d-8c77-06b67b3d4035",
     "showTitle": false,
     "title": ""
    }
   },
   "outputs": [],
   "source": [
    "!ngrok config add-authtoken <seu-token>"
   ]
  },
  {
   "cell_type": "code",
   "execution_count": null,
   "metadata": {
    "application/vnd.databricks.v1+cell": {
     "cellMetadata": {},
     "inputWidgets": {},
     "nuid": "63a46da3-6dbf-4421-a9bb-369bb2fa7f17",
     "showTitle": false,
     "title": ""
    }
   },
   "outputs": [],
   "source": [
    "if __name__ == \"__main__\":\n",
    "    # define a porta da aplicação\n",
    "    port = 5000\n",
    "    # Inicia a execução da aplicação\n",
    "    ngrok_tunnel = ngrok.connect(port)\n",
    "    # Printa a URL pública\n",
    "    print('Public URL:', ngrok_tunnel.public_url)\n",
    "\n",
    "    try:\n",
    "        app.run(port=port)\n",
    "    except KeyboardInterrupt:\n",
    "        print('Detected keyboard interrupt, stopping ngrok and Flask...')\n",
    "    finally:\n",
    "        ngrok.disconnect(ngrok_tunnel.public_url)\n",
    "        ngrok.kill()"
   ]
  },
  {
   "cell_type": "markdown",
   "metadata": {
    "application/vnd.databricks.v1+cell": {
     "cellMetadata": {},
     "inputWidgets": {},
     "nuid": "3bf8bb89-6b59-4c2d-9690-21dc640e6aa5",
     "showTitle": false,
     "title": ""
    }
   },
   "source": [
    "Real Time Viewer: http://localhost:4040/inspect/http"
   ]
  },
  {
   "cell_type": "markdown",
   "metadata": {
    "application/vnd.databricks.v1+cell": {
     "cellMetadata": {},
     "inputWidgets": {},
     "nuid": "072755ea-125f-48a1-92f1-8e4b05a5872f",
     "showTitle": false,
     "title": ""
    }
   },
   "source": [
    "## [Avaliação anônima](https://forms.gle/tShxhxNYhvi6ZmQm8)"
   ]
  },
  {
   "cell_type": "markdown",
   "metadata": {
    "application/vnd.databricks.v1+cell": {
     "cellMetadata": {},
     "inputWidgets": {},
     "nuid": "4c2d027e-0852-4313-a8cc-757550acb573",
     "showTitle": false,
     "title": ""
    }
   },
   "source": [
    "## Exercício\n",
    "\n",
    "Nesse exercício você deve fazer solicitações de dados para uma das APIs fornecidas e criar um sistema de alerta que aciona um webhook quando um determinado limiar é ultrapassado.\n",
    "\n",
    "Vocês têm duas opções:\n",
    "\n",
    "- criar um sistema de alerta para quando a quantidade de chuvas ultrapassa determinado limiar [Weather Forecast API](https://open-meteo.com/en/docs)\n",
    "- criar um sistema de alerta para quando o preço do dólar em reais ultrapassar determinado valor [Cotações](https://docs.awesomeapi.com.br/api-de-moedas)\n",
    "\n",
    "Reforçando que a API de recebimento do webhook deve ser construída por vocês.\n",
    "\n",
    "Exemplos: \n",
    "\n",
    "- faço solicitações a cada x tempos na API de temperatura/chuva e quando o valor de chuva ultrapassar 0.5mm/h disparo um webhook de um alerta que envia uma mensagem pro celular das pessoas\n",
    "- faço solicitações na API de dólar e disparo um alerta para um webhook que envia um push para o celular de uma pessoa quando o preço for menor que 4.5"
   ]
  },
  {
   "cell_type": "markdown",
   "metadata": {
    "application/vnd.databricks.v1+cell": {
     "cellMetadata": {},
     "inputWidgets": {},
     "nuid": "75b69cdd-469c-43a8-b209-d924c0393445",
     "showTitle": false,
     "title": ""
    }
   },
   "source": [
    "## Bibliografia e Aprofundamento\n",
    "\n",
    "- https://snipcart.com/blog/webhook-vs-api\n",
    "\n",
    "- https://towardsdatascience.com/webhook-vs-api-which-one-do-you-need-8c430f8ea71b\n",
    "\n",
    "- https://zapier.com/blog/what-are-webhooks/"
   ]
  },
  {
   "cell_type": "code",
   "execution_count": null,
   "metadata": {
    "application/vnd.databricks.v1+cell": {
     "cellMetadata": {},
     "inputWidgets": {},
     "nuid": "56e3f1fa-a0c2-45de-a6fb-c5976975376f",
     "showTitle": false,
     "title": ""
    }
   },
   "outputs": [],
   "source": []
  }
 ],
 "metadata": {
  "application/vnd.databricks.v1+notebook": {
   "dashboards": [],
   "language": "python",
   "notebookMetadata": {
    "pythonIndentUnit": 4
   },
   "notebookName": "7 - Webhook, Batch x Streaming",
   "widgets": {}
  },
  "kernelspec": {
   "display_name": "Python 3",
   "language": "python",
   "name": "python3"
  },
  "language_info": {
   "codemirror_mode": {
    "name": "ipython",
    "version": 3
   },
   "file_extension": ".py",
   "mimetype": "text/x-python",
   "name": "python",
   "nbconvert_exporter": "python",
   "pygments_lexer": "ipython3",
   "version": "3.12.0"
  }
 },
 "nbformat": 4,
 "nbformat_minor": 0
}
